{
  "nbformat": 4,
  "nbformat_minor": 0,
  "metadata": {
    "colab": {
      "name": "1-calculating-average-flow-rate-from-volume.ipynb",
      "provenance": [],
      "toc_visible": true,
      "authorship_tag": "ABX9TyPSJhfLIcOg73Pn0jv3FjjC",
      "include_colab_link": true
    },
    "kernelspec": {
      "name": "python3",
      "display_name": "Python 3"
    }
  },
  "cells": [
    {
      "cell_type": "markdown",
      "metadata": {
        "id": "view-in-github",
        "colab_type": "text"
      },
      "source": [
        "<a href=\"https://colab.research.google.com/github/rahiakela/math-for-programmers/blob/main/8-understanding-rate-of-changes/1_calculating_average_flow_rate_from_volume.ipynb\" target=\"_parent\"><img src=\"https://colab.research.google.com/assets/colab-badge.svg\" alt=\"Open In Colab\"/></a>"
      ]
    },
    {
      "cell_type": "markdown",
      "metadata": {
        "id": "a4hfP4jf7UJp"
      },
      "source": [
        "# Calculating average flow rate from volume"
      ]
    },
    {
      "cell_type": "markdown",
      "metadata": {
        "id": "w60Nj2cW70Vt"
      },
      "source": [
        "In this notebook, I introduce you to two of the most important concepts from calculus: **the derivative and the integral**. Both of these are operations that work with functions.\r\n",
        "\r\n",
        "The derivative takes a function and gives you another function measuring its rate of change. The integral does the opposite; it takes a function representing a rate of change and gives you back a function measuring the original, cumulative value.\r\n",
        "\r\n",
        "I focus on a simple example in data analysis for oil production. The set up we’ll picture is a pump lifting crude oil out of a well, which then flows through a pipe into a tank. The pipe is equipped with a meter that continuously measures the rate of fluid flow, and the tank is equipped with a sensor that detects the height of fluid in the tank and reports the volume of oil stored within.\r\n",
        "\r\n",
        "<img src='https://github.com/rahiakela/img-repo/blob/master/math-for-programmers/oil-pump.png?raw=1' width='800'/>\r\n",
        "\r\n",
        "The volume sensor measurements tell us the volume of oil in the tank as a function of time, while the flow meter measurements tell us the volume flowing into the tank per hour, also as a function of time. In this example, the volume is the cumulative value and the flow rate is its rate of change.\r\n",
        "\r\n",
        "Here, we solve two main problems. \r\n",
        "\r\n",
        "First, in our example, we start with known, cumulative volumes over time and calculate the flow rate as a function of time using the derivative. \r\n",
        "\r\n",
        "Second, we do the opposite task, starting with the flow rate as a function of time and calculating the cumulative volume of oil in the tank over time using the integral.\r\n",
        "\r\n",
        "<img src='https://github.com/rahiakela/img-repo/blob/master/math-for-programmers/oil-pump-flow-rate.png?raw=1' width='800'/>\r\n",
        "\r\n",
        "Even though its big ideas aren’t that complicated or foreign, calculus gets a bad reputation because it requires so much tedious algebra. For that reason, I focus on introducing new ideas but not a lot of new techniques.\r\n",
        "\r\n"
      ]
    },
    {
      "cell_type": "markdown",
      "metadata": {
        "id": "i8F_HXwt-LjX"
      },
      "source": [
        "## Setup"
      ]
    },
    {
      "cell_type": "code",
      "metadata": {
        "id": "ue8ezlTN-N4y",
        "colab": {
          "base_uri": "https://localhost:8080/"
        },
        "outputId": "290e4556-ec96-45be-985e-350d9ac0f89d"
      },
      "source": [
        "!wget https://raw.githubusercontent.com/rahiakela/math-for-programmers/main/8-understanding-rate-of-changes/rate_of_changes.py"
      ],
      "execution_count": 1,
      "outputs": [
        {
          "output_type": "stream",
          "text": [
            "--2021-01-19 11:21:03--  https://raw.githubusercontent.com/rahiakela/math-for-programmers/main/8-understanding-rate-of-changes/rate_of_changes.py\n",
            "Resolving raw.githubusercontent.com (raw.githubusercontent.com)... 151.101.0.133, 151.101.64.133, 151.101.128.133, ...\n",
            "Connecting to raw.githubusercontent.com (raw.githubusercontent.com)|151.101.0.133|:443... connected.\n",
            "HTTP request sent, awaiting response... 200 OK\n",
            "Length: 1207 (1.2K) [text/plain]\n",
            "Saving to: ‘rate_of_changes.py’\n",
            "\n",
            "rate_of_changes.py  100%[===================>]   1.18K  --.-KB/s    in 0s      \n",
            "\n",
            "2021-01-19 11:21:03 (71.6 MB/s) - ‘rate_of_changes.py’ saved [1207/1207]\n",
            "\n"
          ],
          "name": "stdout"
        }
      ]
    },
    {
      "cell_type": "code",
      "metadata": {
        "id": "AbqJtwnQ_xrv"
      },
      "source": [
        "from rate_of_changes import *"
      ],
      "execution_count": 2,
      "outputs": []
    },
    {
      "cell_type": "markdown",
      "metadata": {
        "id": "mLZrWl6__X7R"
      },
      "source": [
        "## Calculating average flow rate"
      ]
    },
    {
      "cell_type": "markdown",
      "metadata": {
        "id": "E0oLHgtF_aVA"
      },
      "source": [
        "Let’s start by assuming we know the\r\n",
        "volume in the tank over time, which is\r\n",
        "encoded as a Python function called\r\n",
        "volume. This function takes as an\r\n",
        "argument, the time in hours after a\r\n",
        "predefined starting point, and returns\r\n",
        "the volume of oil in the tank at that\r\n",
        "time, measured in a unit called barrels\r\n",
        "(abbreviated “bbl”)."
      ]
    },
    {
      "cell_type": "code",
      "metadata": {
        "id": "7dODXdrU_Fxa",
        "colab": {
          "base_uri": "https://localhost:8080/",
          "height": 287
        },
        "outputId": "223957c3-5790-45b4-eda3-5a678e1c7290"
      },
      "source": [
        "plot_volume(volume, 0, 10)"
      ],
      "execution_count": 3,
      "outputs": [
        {
          "output_type": "display_data",
          "data": {
            "image/png": "[encoded data removed]",
            "text/plain": [
              "<Figure size 432x288 with 1 Axes>"
            ]
          },
          "metadata": {
            "tags": [],
            "needs_background": "light"
          }
        }
      ]
    },
    {
      "cell_type": "markdown",
      "metadata": {
        "id": "7FoFTgmVAQBS"
      },
      "source": [
        "We want to move in the direction of finding the flow rate into the tank at any point in time, so for our first baby step, let’s calculate this in an intuitive way."
      ]
    },
    {
      "cell_type": "markdown",
      "metadata": {
        "id": "bpiEY-whAYgr"
      },
      "source": [
        "## Implementing an average_flow_rate"
      ]
    },
    {
      "cell_type": "markdown",
      "metadata": {
        "id": "O68rOxAlAaS4"
      },
      "source": [
        "The word per in “barrels per hour” suggests that we’re going to do some division to get our answer. The way to calculate the average flow rate is to take the total change in volume divided by the elapsed time.\r\n",
        "\r\n",
        "<img src='https://github.com/rahiakela/img-repo/blob/master/math-for-programmers/average-flow-rate-eq.png?raw=1' width='800'/>\r\n",
        "\r\n",
        "The elapsed time between the starting time $t_1$ and the ending time $t_2$ measured in hours is $t_2 – t_1$. If we have a function $V(t)$ that tells us volume as a function of time, the overall change in volume is the volume at $t_2$ minus the volume at $t_1$, or $V(t_2) – V(t_1)$.\r\n",
        "\r\n",
        "\r\n",
        "<img src='https://github.com/rahiakela/img-repo/blob/master/math-for-programmers/average-flow-rate-2-eq.png?raw=1' width='800'/>\r\n",
        "\r\n",
        "**This is how we calculate rates of change in different contexts.**\r\n",
        "\r\n",
        "For instance, your speed when driving a car is the rate at which you cover distance with respect to time. To calculate your average speed for a drive, you divide your total distance traveled in miles by the elapsed time in hours to get a result in miles per hour (mph).\r\n",
        "\r\n",
        "Our formula for average flow rate depends on the volume function V and the starting and ending times $t_1$ and $t_2$, which are the parameters we’ll pass to the corresponding Python function.\r\n",
        "\r\n",
        "```python\r\n",
        "def average_flow_rate(v,t1,t2):\r\n",
        "    return (v(t2) – v(t1))/(t2 – t1)\r\n",
        "```\r\n",
        "\r\n",
        "Now we want to know the average flow rate into the tank between the 4-hr\r\n",
        "mark and the 9-hr mark. In this case, t1 = 4 and t2 = 9. To find the starting and ending volumes, we can evaluate the volume function at these times:"
      ]
    },
    {
      "cell_type": "code",
      "metadata": {
        "id": "LuArywUT_9Ly",
        "colab": {
          "base_uri": "https://localhost:8080/"
        },
        "outputId": "4beb4759-2d14-4f42-ea15-95a42ebe6783"
      },
      "source": [
        "volume(4)"
      ],
      "execution_count": 4,
      "outputs": [
        {
          "output_type": "execute_result",
          "data": {
            "text/plain": [
              "3.3"
            ]
          },
          "metadata": {
            "tags": []
          },
          "execution_count": 4
        }
      ]
    },
    {
      "cell_type": "code",
      "metadata": {
        "id": "Ob1j6L-dBpN2",
        "colab": {
          "base_uri": "https://localhost:8080/"
        },
        "outputId": "da498c0e-d629-4d2b-bf6c-55c9d02e2b3f"
      },
      "source": [
        "volume(9)"
      ],
      "execution_count": 5,
      "outputs": [
        {
          "output_type": "execute_result",
          "data": {
            "text/plain": [
              "5.253125"
            ]
          },
          "metadata": {
            "tags": []
          },
          "execution_count": 5
        }
      ]
    },
    {
      "cell_type": "code",
      "metadata": {
        "id": "3n3YEQpQBsm1",
        "colab": {
          "base_uri": "https://localhost:8080/"
        },
        "outputId": "a3ce40fe-d663-4854-c50a-bdab16e0ff9f"
      },
      "source": [
        "average_flow_rate(volume, 4, 9)"
      ],
      "execution_count": 6,
      "outputs": [
        {
          "output_type": "execute_result",
          "data": {
            "text/plain": [
              "0.390625"
            ]
          },
          "metadata": {
            "tags": []
          },
          "execution_count": 6
        }
      ]
    },
    {
      "cell_type": "markdown",
      "metadata": {
        "id": "89N0RE27Chib"
      },
      "source": [
        "Rounding for simplicity, the difference between the two volumes is 5.25 bbl – 3.3 bbl = 1.95 bbl, and the total elapsed time is 9 hr – 4 hr = 5 hr. Therefore, the average flow rate into the tank is roughly 1.95 bbl divided by 5 hr or 0.39 bbl/hr."
      ]
    },
    {
      "cell_type": "markdown",
      "metadata": {
        "id": "N_jokNr7DHVL"
      },
      "source": [
        "## Picturing the average flow rate with a secant line"
      ]
    },
    {
      "cell_type": "markdown",
      "metadata": {
        "id": "pjHktCktDIWM"
      },
      "source": [
        "Another useful way to think about the average rate of change in volume over time is to look at the volume graph. Let’s focus on the two points on the volume graph between which we calculated the average flow rate.\r\n",
        "\r\n",
        "<img src='https://github.com/rahiakela/img-repo/blob/master/math-for-programmers/secant-line.png?raw=1' width='800'/>\r\n",
        "\r\n",
        "**A line passing through two points on a graph like this is called a secant line.**\r\n",
        "\r\n",
        "As you can see, the graph is higher at 9 hrs than at 4 hrs because the volume of oil in the tank increased during this period. **This causes the secant line connecting the starting and ending points to slope upward. It turns out the slope of the secant tells us exactly what the average flow rate is on the time interval.**\r\n",
        "\r\n",
        "Given two points on a line, **the slope is the change in the vertical coordinate\r\n",
        "divided by the change in the horizontal coordinate**. In this case, the vertical\r\n",
        "coordinate goes from $V(t_1)$ to $V(t_2)$ for a change of $V(t_2) – V(t_1)$, and the horizontal coordinate goes from $t_1$ to $t_2$ for a change of $t_2 – t_1$. The slope is then $(V(t_2) – V(t_1))$ divided by $(t_2–t_1)$, exactly the same calculation as the average flow rate.\r\n",
        "\r\n",
        "<img src='https://github.com/rahiakela/img-repo/blob/master/math-for-programmers/secant-line-slope.png?raw=1' width='800'/>\r\n",
        "\r\n"
      ]
    },
    {
      "cell_type": "markdown",
      "metadata": {
        "id": "ACSs3CCpbtiX"
      },
      "source": [
        "## Negative rates of change"
      ]
    },
    {
      "cell_type": "markdown",
      "metadata": {
        "id": "orf1toOcbugz"
      },
      "source": [
        "One case worth a brief mention is that the secant line can have a negative slope."
      ]
    },
    {
      "cell_type": "code",
      "metadata": {
        "id": "52jk08yUBzxR"
      },
      "source": [
        "def decreasing_volume(t):\r\n",
        "  if t < 5:\r\n",
        "    return 10 - (t ** 2) / 5\r\n",
        "  else:\r\n",
        "    return 0.2 * (10 - t) ** 2"
      ],
      "execution_count": 7,
      "outputs": []
    },
    {
      "cell_type": "code",
      "metadata": {
        "id": "mCnMMZbEcWKj",
        "outputId": "53ac44ef-9689-43cf-b16e-8a645f77b3bb",
        "colab": {
          "base_uri": "https://localhost:8080/",
          "height": 287
        }
      },
      "source": [
        "plot_volume(decreasing_volume, 0, 10)"
      ],
      "execution_count": 8,
      "outputs": [
        {
          "output_type": "display_data",
          "data": {
            "image/png": "[encoded data removed]",
            "text/plain": [
              "<Figure size 432x288 with 1 Axes>"
            ]
          },
          "metadata": {
            "tags": [],
            "needs_background": "light"
          }
        }
      ]
    },
    {
      "cell_type": "markdown",
      "metadata": {
        "id": "qMpgbxbIcusy"
      },
      "source": [
        "This example isn’t compatible with our previous example because we don’t expect oil to be flowing out of the tank back into the ground. But it does illustrate that a secant line can go downward, for instance, from t = 0 to t = 4. On this time interval, the change in volume is –3.2 bbl.\r\n",
        "\r\n",
        "<img src='https://github.com/rahiakela/img-repo/blob/master/math-for-programmers/secant-line-neg-slope.png?raw=1' width='800'/>\r\n",
        "\r\n",
        "In this case, the slope is –3.2 bbl divided by 4 hr or –0.8 bbl/hr. That means that the rate at which oil is entering the tank is –0.8 bbl/hr. **A more sensible way to say this is that oil is leaving the tank at a rate of 0.8 bbl/hr. Regardless of whether the volume function is increasing or decreasing, our average_flow_rate function is reliable.**"
      ]
    },
    {
      "cell_type": "code",
      "metadata": {
        "id": "OXttNB5wcbeB",
        "outputId": "5e634b3a-bccf-4fc1-9b8f-e9600ba9d5e7",
        "colab": {
          "base_uri": "https://localhost:8080/"
        }
      },
      "source": [
        "average_flow_rate(decreasing_volume, 0, 4)"
      ],
      "execution_count": 9,
      "outputs": [
        {
          "output_type": "execute_result",
          "data": {
            "text/plain": [
              "-0.8"
            ]
          },
          "metadata": {
            "tags": []
          },
          "execution_count": 9
        }
      ]
    },
    {
      "cell_type": "markdown",
      "metadata": {
        "id": "ou6et7-bd-Kf"
      },
      "source": [
        "## Exercises"
      ]
    },
    {
      "cell_type": "markdown",
      "metadata": {
        "id": "lVKnCPpHel8Q"
      },
      "source": [
        "**Ex-8.2**: Write a Python function secant_line(f,x1,x2) that takes a\r\n",
        "function f(x) and two values, x1 and x2, and that returns a new function representing\r\n",
        "a secant line over time. For instance, if you ran line = secant_line\r\n",
        "(f,x1,x2), then line(3) would give you the y value of the secant line at x = 3."
      ]
    },
    {
      "cell_type": "code",
      "metadata": {
        "id": "uGWK-khbdPCV"
      },
      "source": [
        "def secant_line(f, x1, x2):\r\n",
        "  def line(x):\r\n",
        "    return f(x1) + f(x - x1) * (f(x2) - f(x1)) / (x2 - x1)\r\n",
        "  return line"
      ],
      "execution_count": 13,
      "outputs": []
    },
    {
      "cell_type": "markdown",
      "metadata": {
        "id": "Iz7hjxO9fguf"
      },
      "source": [
        "**Ex-8.3** Write a function that uses the code from the previous exercise to\r\n",
        "plot a secant line of a function f between two given points."
      ]
    },
    {
      "cell_type": "code",
      "metadata": {
        "id": "kG66QT7pfKGd"
      },
      "source": [
        "def plot_secant(f, x1, x2, color=\"k\"):\r\n",
        "  line = secant_line(f, x1, x2)\r\n",
        "  plot_function(line, x1, x2, c=color)\r\n",
        "  plt.scatter([x1, x2], [f(x1), f(x2)], c=color)"
      ],
      "execution_count": 17,
      "outputs": []
    }
  ]
}