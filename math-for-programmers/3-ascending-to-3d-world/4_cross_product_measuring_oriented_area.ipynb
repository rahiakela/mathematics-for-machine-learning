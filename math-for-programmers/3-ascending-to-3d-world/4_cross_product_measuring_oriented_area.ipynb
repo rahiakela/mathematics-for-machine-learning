{
  "nbformat": 4,
  "nbformat_minor": 0,
  "metadata": {
    "colab": {
      "name": "4-cross-product--measuring-oriented-area.ipynb",
      "provenance": [],
      "toc_visible": true,
      "authorship_tag": "ABX9TyPbFCEHw5iE7abIBztrn+G1",
      "include_colab_link": true
    },
    "kernelspec": {
      "name": "python3",
      "display_name": "Python 3"
    }
  },
  "cells": [
    {
      "cell_type": "markdown",
      "metadata": {
        "id": "view-in-github",
        "colab_type": "text"
      },
      "source": [
        "<a href=\"https://colab.research.google.com/github/rahiakela/math-for-programmers/blob/main/3-ascending-to-3d-world/4_cross_product_measuring_oriented_area.ipynb\" target=\"_parent\"><img src=\"https://colab.research.google.com/assets/colab-badge.svg\" alt=\"Open In Colab\"/></a>"
      ]
    },
    {
      "cell_type": "markdown",
      "metadata": {
        "id": "BvzIrQk84sLb"
      },
      "source": [
        "# The cross product: Measuring oriented area"
      ]
    },
    {
      "cell_type": "markdown",
      "metadata": {
        "id": "YfGZ2Cny4tAl"
      },
      "source": [
        "One kind of multiplication we’ve already seen for vectors is scalar multiplication, combining a scalar (a real number) and a vector to get a new vector. We haven’t yet talked about any ways to multiply one vector with another. It turns out there are two important ways to do this, and these both give important geometric insights. \r\n",
        "\r\n",
        "- One is called the dot product and we write it with a dot operator (for example, u · v),\r\n",
        "\r\n",
        "- while the other is called the cross product (for example, u × v). \r\n",
        "\r\n",
        "For numbers, these symbols mean the same thing, so for instance 3 · 4 = 3 × 4. For two vectors, the operations u · v and u × v aren’t just different notations, these mean completely different things.\r\n",
        "\r\n",
        "**The dot product takes two vectors and returns a scalar (a number), while the cross product takes two vectors and returns another vector. Both, however, are operations that help us reason about lengths and directions of vectors in 3D.**\r\n",
        "\r\n"
      ]
    },
    {
      "cell_type": "markdown",
      "metadata": {
        "id": "edMQwTlh7ILO"
      },
      "source": [
        "## Setup"
      ]
    },
    {
      "cell_type": "code",
      "metadata": {
        "id": "U41ySNY27J0a"
      },
      "source": [
        "%%shell\r\n",
        "\r\n",
        "wget https://raw.githubusercontent.com/rahiakela/math-for-programmers/main/3-ascending-to-3d-world/vectors.py\r\n",
        "wget https://raw.githubusercontent.com/rahiakela/math-for-programmers/main/3-ascending-to-3d-world/colors.py\r\n",
        "wget https://raw.githubusercontent.com/rahiakela/math-for-programmers/main/3-ascending-to-3d-world/draw2d.py\r\n",
        "wget https://raw.githubusercontent.com/rahiakela/math-for-programmers/main/3-ascending-to-3d-world/draw3d.py"
      ],
      "execution_count": null,
      "outputs": []
    },
    {
      "cell_type": "code",
      "metadata": {
        "id": "ORaaz73-7NQq"
      },
      "source": [
        "from draw3d import *\r\n",
        "from vectors import *\r\n",
        "\r\n",
        "%load_ext autoreload\r\n",
        "%autoreload 2"
      ],
      "execution_count": null,
      "outputs": []
    },
    {
      "cell_type": "markdown",
      "metadata": {
        "id": "kDRcN89d9pu6"
      },
      "source": [
        "## Picturing the dot product"
      ]
    },
    {
      "cell_type": "markdown",
      "metadata": {
        "id": "S06rLnCz9s6p"
      },
      "source": [
        "**The dot product (also called the inner product) is an operation on two vectors that returns a scalar.** In other words, given two vectors u and v, the result of u · v is a real number. The dot product works on vectors in 2D, 3D, or any number of dimensions. You can think of it as measuring “how aligned” the pair of input vectors are.\r\n",
        "\r\n",
        "The vectors u and v have lengths 4 and 5, respectively, and they point in nearly the same direction. Their dot product is positive, meaning they are aligned.\r\n",
        "\r\n",
        "<img src='https://github.com/rahiakela/img-repo/blob/master/math-for-programmers/dot-product.png?raw=1' width='800'/>\r\n",
        "\r\n",
        "Two vectors that are pointing in similar directions have a positive dot product, and the larger the vectors, the larger the product. Smaller vectors that are similarly aligned have a smaller but still positive dot product.\r\n",
        "\r\n",
        "<img src='https://github.com/rahiakela/img-repo/blob/master/math-for-programmers/dot-product2.png?raw=1' width='800'/>\r\n",
        "\r\n",
        "By contrast, if two vectors point in opposite or near opposite directions, their dot product is negative. The bigger the magnitude of the vectors, the more negative their dot product.\r\n",
        "\r\n",
        "**Vectors pointing in opposing directions have a negative dot product.**\r\n",
        "\r\n",
        "<img src='https://github.com/rahiakela/img-repo/blob/master/math-for-programmers/neg-dot-product.png?raw=1' width='800'/>\r\n",
        "\r\n",
        "**Shorter vectors pointing in opposing directions have a smaller but still negative dot product.**\r\n",
        "\r\n",
        "<img src='https://github.com/rahiakela/img-repo/blob/master/math-for-programmers/neg-dot-product2.png?raw=1' width='800'/>\r\n",
        "\r\n",
        "Not all pairs of vectors clearly point in similar or opposite directions, and the dot product detects this.**If two vectors point in exactly perpendicular\r\n",
        "directions, their dot product is zero regardless of their lengths.**\r\n",
        "\r\n",
        "**Perpendicular vectors always have a dot product of zero.**\r\n",
        "\r\n",
        "<img src='https://github.com/rahiakela/img-repo/blob/master/math-for-programmers/zero-dot-product.png?raw=1' width='800'/>\r\n",
        "\r\n",
        "This turns out to be one of the most important applications of the dot product: it lets us compute whether two vectors are perpendicular without doing any trigonometry.\r\n",
        "\r\n",
        "This perpendicular case also serves to separate the other cases: **if the angle between two vectors is less than 90°, the vectors then have a positive dot product. If the angle is greater than 90°, they have a negative dot product.**\r\n",
        "\r\n",
        "\r\n",
        "\r\n",
        "\r\n",
        "\r\n"
      ]
    },
    {
      "cell_type": "markdown",
      "metadata": {
        "id": "HrLwNruxmqrU"
      },
      "source": [
        "## Computing the dot product"
      ]
    },
    {
      "cell_type": "markdown",
      "metadata": {
        "id": "Eh9-W8XDmrvl"
      },
      "source": [
        "Given the coordinates for two vectors, **there’s a simple formula to compute the dot product: multiply the corresponding coordinates and then add the products.**\r\n",
        "\r\n",
        "**Two vectors with a dot product of zero are indeed perpendicular in 3D.**\r\n",
        "\r\n",
        "<img src='https://github.com/rahiakela/img-repo/blob/master/math-for-programmers/zero-dot-product2.png?raw=1' width='800'/>\r\n",
        "\r\n",
        "For instance in the dot product `(1, 2, –1) · (3, 0, 3)`, the product of the x-coordinate is 3, the product of the y-coordinate is 0, and the product of the z-coordinate is –3. The sum is `3 + 0 + (–3) = 0`, so the dot product is zero. If my claim is correct, these two vectors should be perpendicular.\r\n",
        "\r\n",
        "<img src='https://github.com/rahiakela/img-repo/blob/master/math-for-programmers/zero-dot-product2.png?raw=1' width='800'/>"
      ]
    },
    {
      "cell_type": "code",
      "metadata": {
        "id": "hU_5dSon-sCJ"
      },
      "source": [
        "def dot(u, v):\r\n",
        "  return sum([coord1 * coord2 for coord1, coord2 in zip(u, v)])"
      ],
      "execution_count": null,
      "outputs": []
    },
    {
      "cell_type": "markdown",
      "metadata": {
        "id": "wOS0tRpUqAWn"
      },
      "source": [
        "Our perspective can be misleading in 3D, making it all the more valuable to be able to compute relative directions rather than eyeballing them.\r\n",
        "\r\n"
      ]
    },
    {
      "cell_type": "code",
      "metadata": {
        "id": "g0-PGZkJcWFl",
        "colab": {
          "base_uri": "https://localhost:8080/"
        },
        "outputId": "6d7faf92-6a63-4ac3-8fe2-7e8d94c1181f"
      },
      "source": [
        "u = [1, 2, -1]\r\n",
        "v = [3, 0, 3]\r\n",
        "d = dot(u, v)\r\n",
        "print(d)"
      ],
      "execution_count": null,
      "outputs": [
        {
          "output_type": "stream",
          "text": [
            "0\n"
          ],
          "name": "stdout"
        }
      ]
    },
    {
      "cell_type": "markdown",
      "metadata": {
        "id": "iANvjuV_rNpA"
      },
      "source": [
        "Let's see that the 2D vectors `(2, 3)` and `(4, 5)` lie in similar directions in the x,y plane. The product of the x-coordinates is `2 · 4 = 8`, while the product of the y-coordinates is `3 · 5 = 15`. The sum `8 + 15 = 23` is the dot product.\r\n",
        "\r\n",
        "<img src='https://github.com/rahiakela/img-repo/blob/master/math-for-programmers/dot-product-2d.png?raw=1' width='800'/>"
      ]
    },
    {
      "cell_type": "code",
      "metadata": {
        "id": "XLxHG2GqcbuI",
        "colab": {
          "base_uri": "https://localhost:8080/"
        },
        "outputId": "7821bfbc-bbb6-4f77-b591-3cf862b8871e"
      },
      "source": [
        "u = [2, 3]\r\n",
        "v = [4, 5]\r\n",
        "d = dot(u, v)\r\n",
        "print(d)"
      ],
      "execution_count": null,
      "outputs": [
        {
          "output_type": "stream",
          "text": [
            "23\n"
          ],
          "name": "stdout"
        }
      ]
    },
    {
      "cell_type": "markdown",
      "metadata": {
        "id": "u8r8YFo2tjy5"
      },
      "source": [
        "As a positive number, this result confirms that the vectors are separated by less than 90°. These vectors have the same relative geometry whether we consider them in 2D or in 3D as the vectors (2, 3, 0) and (4, 5, 0) that happen to lie in the plane where z = 0."
      ]
    },
    {
      "cell_type": "markdown",
      "metadata": {
        "id": "oHSN1-si-9eZ"
      },
      "source": [
        "<img src='https://github.com/rahiakela/img-repo/blob/master/math-for-programmers/dot-product-3d.png?raw=1' width='800'/>"
      ]
    },
    {
      "cell_type": "code",
      "metadata": {
        "id": "ISHMvKIN-6N1",
        "colab": {
          "base_uri": "https://localhost:8080/"
        },
        "outputId": "4c343f39-a19d-4f04-a12a-18fd0ae9e19e"
      },
      "source": [
        "u = [2, 3, 0]\r\n",
        "v = [4, 5, 0]\r\n",
        "d = dot(u, v)\r\n",
        "print(d)"
      ],
      "execution_count": null,
      "outputs": [
        {
          "output_type": "stream",
          "text": [
            "23\n"
          ],
          "name": "stdout"
        }
      ]
    },
    {
      "cell_type": "markdown",
      "metadata": {
        "id": "-yA_s-3MhGXf"
      },
      "source": [
        "## Dot products by example"
      ]
    },
    {
      "cell_type": "markdown",
      "metadata": {
        "id": "HR_Z_b2tMpi5"
      },
      "source": [
        "It’s not surprising that two vectors lying on different axes have zero dot product. We know they are perpendicular:"
      ]
    },
    {
      "cell_type": "code",
      "metadata": {
        "id": "9i0B1jmv_K1V",
        "colab": {
          "base_uri": "https://localhost:8080/"
        },
        "outputId": "c97d16a7-2a7b-4776-8caa-40443b293ff2"
      },
      "source": [
        "dot((1, 0), (0, 2))"
      ],
      "execution_count": null,
      "outputs": [
        {
          "output_type": "execute_result",
          "data": {
            "text/plain": [
              "0"
            ]
          },
          "metadata": {
            "tags": []
          },
          "execution_count": 7
        }
      ]
    },
    {
      "cell_type": "code",
      "metadata": {
        "id": "NmcheTEFD0pZ",
        "colab": {
          "base_uri": "https://localhost:8080/"
        },
        "outputId": "cf82c650-2005-4f9c-ddfb-807d6b599105"
      },
      "source": [
        "dot((0, 3, 0), (0, 0, -5))"
      ],
      "execution_count": null,
      "outputs": [
        {
          "output_type": "execute_result",
          "data": {
            "text/plain": [
              "0"
            ]
          },
          "metadata": {
            "tags": []
          },
          "execution_count": 8
        }
      ]
    },
    {
      "cell_type": "markdown",
      "metadata": {
        "id": "e-ntq24vEWF9"
      },
      "source": [
        "We can also confirm that longer vectors give longer dot products.\r\n",
        "\r\n",
        "For instance, scaling either input vector by a factor of 2 doubles the output of the dot product:"
      ]
    },
    {
      "cell_type": "code",
      "metadata": {
        "id": "OIMFahAFh-7l",
        "colab": {
          "base_uri": "https://localhost:8080/"
        },
        "outputId": "32d87c01-c8be-46e9-e21a-9dcb2eb24d6f"
      },
      "source": [
        "dot((3, 4), (2, 3))"
      ],
      "execution_count": null,
      "outputs": [
        {
          "output_type": "execute_result",
          "data": {
            "text/plain": [
              "18"
            ]
          },
          "metadata": {
            "tags": []
          },
          "execution_count": 9
        }
      ]
    },
    {
      "cell_type": "code",
      "metadata": {
        "id": "YCvFJDpHiMSq",
        "colab": {
          "base_uri": "https://localhost:8080/"
        },
        "outputId": "6c12185f-8489-4769-c2b7-97a8bf6d4f51"
      },
      "source": [
        "dot(scale(2, (3, 4)), (2, 3))"
      ],
      "execution_count": null,
      "outputs": [
        {
          "output_type": "execute_result",
          "data": {
            "text/plain": [
              "36"
            ]
          },
          "metadata": {
            "tags": []
          },
          "execution_count": 10
        }
      ]
    },
    {
      "cell_type": "code",
      "metadata": {
        "id": "ZbCJCZW0NrQX",
        "colab": {
          "base_uri": "https://localhost:8080/"
        },
        "outputId": "5011effb-bd89-4f7b-92d9-1f3ffa9a6658"
      },
      "source": [
        "dot((3, 4), scale(2, (2, 3)))"
      ],
      "execution_count": null,
      "outputs": [
        {
          "output_type": "execute_result",
          "data": {
            "text/plain": [
              "36"
            ]
          },
          "metadata": {
            "tags": []
          },
          "execution_count": 11
        }
      ]
    },
    {
      "cell_type": "markdown",
      "metadata": {
        "id": "r6hnwyPCkd2f"
      },
      "source": [
        "It turns out the dot product is proportional to each of the lengths of its input vectors. If you take the dot product of two vectors in the same direction, the dot product is precisely equal to the product of the lengths. \r\n",
        "\r\n",
        "For instance, (4, 3) has a length of 5 and (8, 6) has a length of 10. The dot product is equal to 5 · 10:"
      ]
    },
    {
      "cell_type": "code",
      "metadata": {
        "id": "gBSWm9_kOQyv",
        "colab": {
          "base_uri": "https://localhost:8080/"
        },
        "outputId": "dfb0d769-f60e-455e-f553-a3210b134cf5"
      },
      "source": [
        "dot((4, 3), (8, 6))"
      ],
      "execution_count": null,
      "outputs": [
        {
          "output_type": "execute_result",
          "data": {
            "text/plain": [
              "50"
            ]
          },
          "metadata": {
            "tags": []
          },
          "execution_count": 12
        }
      ]
    },
    {
      "cell_type": "markdown",
      "metadata": {
        "id": "Ugyi7CjDkeu7"
      },
      "source": [
        "Of course, the dot product is not always equal to the product of the lengths of its inputs. The vectors (5, 0), (–3, 4), (0, –5), and (–4, –3) all have the same length of 5 but different dot products with the original vector (4, 3).\r\n",
        "\r\n",
        "<img src='https://github.com/rahiakela/img-repo/blob/master/math-for-programmers/different-dot-products.png?raw=1' width='800'/>"
      ]
    },
    {
      "cell_type": "code",
      "metadata": {
        "id": "-DvmtVqNUWXz",
        "colab": {
          "base_uri": "https://localhost:8080/"
        },
        "outputId": "37b2f0aa-13ba-4c94-e78c-49798e862a7d"
      },
      "source": [
        "dot((4, 3), (4, 3))"
      ],
      "execution_count": null,
      "outputs": [
        {
          "output_type": "execute_result",
          "data": {
            "text/plain": [
              "25"
            ]
          },
          "metadata": {
            "tags": []
          },
          "execution_count": 16
        }
      ]
    },
    {
      "cell_type": "code",
      "metadata": {
        "id": "pavUp_2MT8iq",
        "colab": {
          "base_uri": "https://localhost:8080/"
        },
        "outputId": "6649f02c-1c73-4d0d-d04f-ddbdf6cd3c2c"
      },
      "source": [
        "dot((-3, 4), (4, 3))"
      ],
      "execution_count": null,
      "outputs": [
        {
          "output_type": "execute_result",
          "data": {
            "text/plain": [
              "0"
            ]
          },
          "metadata": {
            "tags": []
          },
          "execution_count": 15
        }
      ]
    },
    {
      "cell_type": "code",
      "metadata": {
        "id": "iLYmrKjGUNLG",
        "colab": {
          "base_uri": "https://localhost:8080/"
        },
        "outputId": "61b0c6d7-2923-48a7-db3c-a2bdc181d161"
      },
      "source": [
        "dot((4, 3), (-4, -3))"
      ],
      "execution_count": null,
      "outputs": [
        {
          "output_type": "execute_result",
          "data": {
            "text/plain": [
              "-25"
            ]
          },
          "metadata": {
            "tags": []
          },
          "execution_count": 17
        }
      ]
    },
    {
      "cell_type": "code",
      "metadata": {
        "id": "9K531YqzUrIo",
        "colab": {
          "base_uri": "https://localhost:8080/"
        },
        "outputId": "cfa9eecd-edc7-4359-fa2c-b3071916703e"
      },
      "source": [
        "dot((4, 3), (0, -5))"
      ],
      "execution_count": null,
      "outputs": [
        {
          "output_type": "execute_result",
          "data": {
            "text/plain": [
              "-15"
            ]
          },
          "metadata": {
            "tags": []
          },
          "execution_count": 18
        }
      ]
    },
    {
      "cell_type": "code",
      "metadata": {
        "id": "zQwOborMUzoV",
        "colab": {
          "base_uri": "https://localhost:8080/"
        },
        "outputId": "2b9683dd-5e55-4ca1-865c-9e518e1149e9"
      },
      "source": [
        "dot((4, 3), (5, 0))"
      ],
      "execution_count": null,
      "outputs": [
        {
          "output_type": "execute_result",
          "data": {
            "text/plain": [
              "20"
            ]
          },
          "metadata": {
            "tags": []
          },
          "execution_count": 19
        }
      ]
    },
    {
      "cell_type": "markdown",
      "metadata": {
        "id": "9iE-ny-RUMYT"
      },
      "source": [
        "The dot product of two vectors of length 5 ranges from 5 · 5 = 25 when they are\r\n",
        "aligned to –25, when they point in opposite directions."
      ]
    },
    {
      "cell_type": "markdown",
      "metadata": {
        "id": "szPhRvPAS-Uh"
      },
      "source": [
        "## Measuring angles with the dot product"
      ]
    },
    {
      "cell_type": "markdown",
      "metadata": {
        "id": "3hfXWuAXS_O1"
      },
      "source": [
        "We’ve seen that the dot product varies based on the angle between two vectors. Specifically, the dot product $u · v$ ranges from 1 to –1 times the product of the lengths of $u$ and $v$ as the angle ranges from 0 to $180°$.\r\n",
        "\r\n",
        "\r\n",
        "If |u| and |v| denote the lengths of vectors u and v, the dot product is given by\r\n",
        "\r\n",
        "$$u . v = \\|u\\| . \\|v\\| . cos(\\theta)$$\r\n",
        "\r\n",
        "where $\\theta$ is the angle between the vectors u and v. In principle this gives us a new way to compute a dot product. We could measure the lengths of two vectors and then measure the angle between them to get the result. Suppose, we have two vectors of known lengths 3 and 2, respectively, and using our protractor, discovered that they are 75° apart.\r\n",
        "\r\n",
        "<img src='https://github.com/rahiakela/img-repo/blob/master/math-for-programmers/two-vectors-length.png?raw=1' width='800'/>\r\n",
        "\r\n",
        "The dot product for the two vectors is 3 · 2 · cos(75°). With the appropriate\r\n",
        "conversion to radians, we can compute this in Python to be about 1.55:"
      ]
    },
    {
      "cell_type": "code",
      "metadata": {
        "id": "b4cJUBHi4rh-"
      },
      "source": [
        "from math import cos, pi, acos"
      ],
      "execution_count": null,
      "outputs": []
    },
    {
      "cell_type": "code",
      "metadata": {
        "id": "RZbMuavw5DwX",
        "colab": {
          "base_uri": "https://localhost:8080/"
        },
        "outputId": "97247cec-bd94-4df8-fc85-1a051a0380d7"
      },
      "source": [
        "3 * 2 * cos(75 * pi / 180)"
      ],
      "execution_count": null,
      "outputs": [
        {
          "output_type": "execute_result",
          "data": {
            "text/plain": [
              "1.5529142706151244"
            ]
          },
          "metadata": {
            "tags": []
          },
          "execution_count": 21
        }
      ]
    },
    {
      "cell_type": "markdown",
      "metadata": {
        "id": "RTD74CgOZ85E"
      },
      "source": [
        "When doing computations with vectors, it’s more common to start with coordinates\r\n",
        "and to compute angles from them. We can combine both of our formulas to recover\r\n",
        "an angle: first we compute the dot product and lengths using coordinates, then we solve for the angle.\r\n",
        "\r\n",
        "Let’s find the angle between the vectors (3, 4) and (4, 3). Their dot product is 24, and each of their lengths is 5. Our new dot product formula tells us that:\r\n",
        "\r\n",
        "$(3, 4) · (4, 3) = 24 = 5 · 5 · cos(\\theta) = 25 · cos(\\theta)$"
      ]
    },
    {
      "cell_type": "code",
      "metadata": {
        "id": "0wGf9_urGjJ4",
        "colab": {
          "base_uri": "https://localhost:8080/"
        },
        "outputId": "292c30a5-a129-443e-8168-d874d3364605"
      },
      "source": [
        "dot((3, 4), (4, 3))"
      ],
      "execution_count": null,
      "outputs": [
        {
          "output_type": "execute_result",
          "data": {
            "text/plain": [
              "24"
            ]
          },
          "metadata": {
            "tags": []
          },
          "execution_count": 7
        }
      ]
    },
    {
      "cell_type": "code",
      "metadata": {
        "id": "q3vNMnNSHJnz",
        "colab": {
          "base_uri": "https://localhost:8080/"
        },
        "outputId": "04d93799-7409-4860-d41c-d7078d88ad9c"
      },
      "source": [
        "theta = 24 / 25\r\n",
        "theta"
      ],
      "execution_count": null,
      "outputs": [
        {
          "output_type": "execute_result",
          "data": {
            "text/plain": [
              "0.96"
            ]
          },
          "metadata": {
            "tags": []
          },
          "execution_count": 8
        }
      ]
    },
    {
      "cell_type": "code",
      "metadata": {
        "id": "byvpybSrKBlB",
        "colab": {
          "base_uri": "https://localhost:8080/"
        },
        "outputId": "202d5bc5-1c9a-40e9-afb7-d99e6523be3b"
      },
      "source": [
        "acos(theta)"
      ],
      "execution_count": null,
      "outputs": [
        {
          "output_type": "execute_result",
          "data": {
            "text/plain": [
              "0.283794109208328"
            ]
          },
          "metadata": {
            "tags": []
          },
          "execution_count": 10
        }
      ]
    },
    {
      "cell_type": "markdown",
      "metadata": {
        "id": "-2PuGgJqJ6hs"
      },
      "source": [
        "From $24 = 25 · cos(\\theta)$, we can simplify it to $cos(\\theta) = 24/25$. Using Python’s `math.acos`, we find that a $\\theta$ value of 0.284 radians or 16.3° gives us a cosine of 24/25.\r\n",
        "\r\n",
        "**This exercise reminds us why we don’t need the dot product in 2D.**\r\n",
        "\r\n",
        "Using that formula creatively, we could find any angle we want in the plane. The dot product really starts to shine in 3D, where a change of coordinates can’t help us as much.\r\n",
        "\r\n",
        "For instance, we can use the same formula to find the angle between (1, 2, 2) and (2, 2, 1). The dot product is 1 · 2 + 2 · 2 + 2 · 1 = 8 and the lengths are both 3. This means $8 = 3 · 3 · cos(\\theta)$, so $cos(\\theta) = 8/9$ and $\\theta = 0.476$ radians or 27.3°.\r\n",
        "\r\n",
        "\r\n",
        "This process is the same in 2D or 3D, and it’s one we’ll use over and over. We can save some effort by implementing a Python function to find the angle between two vectors. Because neither our dot function nor our length function has a hard-coded number of dimensions, this new function won’t either. We can make use of the fact that $u . v = \\|u\\| . \\|v\\| . cos(\\theta)$ and, therefore\r\n",
        "\r\n",
        "$$ cos(\\theta) = \\frac{u . v}  {\\|u\\| . \\|v\\|}$$\r\n",
        "\r\n",
        "And\r\n",
        "\r\n",
        "\r\n",
        "$$ \\theta = arccos \\left( \\frac{u . v}  {\\|u\\| . \\|v\\|} \\right)$$\r\n",
        "\r\n",
        "This formula translates neatly to Python code as follows:\r\n",
        "\r\n",
        "\r\n"
      ]
    },
    {
      "cell_type": "code",
      "metadata": {
        "id": "YxLfL5PBPfij"
      },
      "source": [
        "def angle_between(v1, v2):\r\n",
        "  return acos(dot(v1, v2) / (length(v1) * length(v2)))"
      ],
      "execution_count": null,
      "outputs": []
    },
    {
      "cell_type": "markdown",
      "metadata": {
        "id": "5BRwL9DUSPsg"
      },
      "source": [
        "## Exercises"
      ]
    },
    {
      "cell_type": "markdown",
      "metadata": {
        "id": "2Bsu6xsBNWFt"
      },
      "source": [
        "**Ex-3.12**: What is the dot product of (–1, –1, 1) and (1, 2, 1)? Are these\r\n",
        "two 3D vectors separated by more than 90°, less than 90°, or exactly 90°?"
      ]
    },
    {
      "cell_type": "code",
      "metadata": {
        "id": "sPn9eG6cNZM3",
        "colab": {
          "base_uri": "https://localhost:8080/"
        },
        "outputId": "bcb2fa2d-ede3-4490-dfa3-b1292882b6c3"
      },
      "source": [
        "dot((-1, -1, 1), (1, 2, 1))"
      ],
      "execution_count": null,
      "outputs": [
        {
          "output_type": "execute_result",
          "data": {
            "text/plain": [
              "-2"
            ]
          },
          "metadata": {
            "tags": []
          },
          "execution_count": 12
        }
      ]
    },
    {
      "cell_type": "markdown",
      "metadata": {
        "id": "gK2F6UKcSmZB"
      },
      "source": [
        "Because this is a negative number, the two vectors are more than 90° apart."
      ]
    },
    {
      "cell_type": "markdown",
      "metadata": {
        "id": "New3OHjSrXU6"
      },
      "source": [
        "**Ex-3.15**: Find a vector u of length 3 and a vector v of length\r\n",
        "7 such that u · v = 21. Find another pair of vectors u and v such that u · v = –21.\r\n",
        "Finally, find three more pairs of vectors of respective lengths 3 and 7 and show\r\n",
        "that all of their lengths lie between –21 and 21.\r\n",
        "\r\n",
        "\r\n",
        "**Solution** Two vectors in the same direction (for instance, along the positive\r\n",
        "x-axis) will have the highest possible dot product:\r\n"
      ]
    },
    {
      "cell_type": "code",
      "metadata": {
        "id": "Q1PMpg6gTzvR",
        "colab": {
          "base_uri": "https://localhost:8080/"
        },
        "outputId": "b24d7a87-517d-4450-830f-79fe9e6a7415"
      },
      "source": [
        "dot((3, 0), (7, 0))"
      ],
      "execution_count": null,
      "outputs": [
        {
          "output_type": "execute_result",
          "data": {
            "text/plain": [
              "21"
            ]
          },
          "metadata": {
            "tags": []
          },
          "execution_count": 13
        }
      ]
    },
    {
      "cell_type": "markdown",
      "metadata": {
        "id": "y8jUhbndrZ13"
      },
      "source": [
        "Two vectors in the opposite direction (for instance, the positive and negative y\r\n",
        "directions) will have the lowest possible dot product:"
      ]
    },
    {
      "cell_type": "code",
      "metadata": {
        "id": "atduDlpiRZlq",
        "colab": {
          "base_uri": "https://localhost:8080/"
        },
        "outputId": "6380db57-0d2f-46ce-e98c-eda1533d0053"
      },
      "source": [
        "dot((0, 3), (0, -7))"
      ],
      "execution_count": null,
      "outputs": [
        {
          "output_type": "execute_result",
          "data": {
            "text/plain": [
              "-21"
            ]
          },
          "metadata": {
            "tags": []
          },
          "execution_count": 14
        }
      ]
    },
    {
      "cell_type": "markdown",
      "metadata": {
        "id": "yOW7DGnJRhSJ"
      },
      "source": [
        "Using polar coordinates, we can easily generate some more vectors of length 3\r\n",
        "and 7 with random angles:"
      ]
    },
    {
      "cell_type": "code",
      "metadata": {
        "id": "UXemUtOlRhxu"
      },
      "source": [
        "from vectors import to_cartesian\r\n",
        "from random import random\r\n",
        "from math import pi"
      ],
      "execution_count": null,
      "outputs": []
    },
    {
      "cell_type": "code",
      "metadata": {
        "id": "7l1JMXveRx7t",
        "colab": {
          "base_uri": "https://localhost:8080/"
        },
        "outputId": "cc7b231e-c0cc-4996-8cb4-62c476edf5da"
      },
      "source": [
        "def random_vector_of_length(l):\r\n",
        "  return to_cartesian((l, 2 * pi * random()))\r\n",
        "\r\n",
        "pairs = [(random_vector_of_length(3), random_vector_of_length(7)) for i in range(0, 3)]\r\n",
        "\r\n",
        "for u, v in pairs:\r\n",
        "  print(\"u = %s, v = %s\" % (u, v))\r\n",
        "  print(\"length of u: %f, length of v: %f, dot product :%f\" % (length(u), length(v), dot(u, v)))"
      ],
      "execution_count": null,
      "outputs": [
        {
          "output_type": "stream",
          "text": [
            "u = (0.1607267582104504, -2.995691390847054), v = (4.24671801343339, -5.564655075957571)\n",
            "length of u: 3.000000, length of v: 7.000000, dot product :17.352551\n",
            "u = (-2.725245914585489, -1.2542068031369873), v = (6.155983372194031, -3.3322467977733288)\n",
            "length of u: 3.000000, length of v: 7.000000, dot product :-12.597242\n",
            "u = (-2.729303533959927, 1.2453522471629674), v = (2.9246714434742693, -6.359740320777739)\n",
            "length of u: 3.000000, length of v: 7.000000, dot product :-15.902433\n"
          ],
          "name": "stdout"
        }
      ]
    },
    {
      "cell_type": "markdown",
      "metadata": {
        "id": "ONN228NOE7pK"
      },
      "source": [
        "**Ex-3.16** Let u and v be vectors, with |u| = 3.61 and |v| = 1.44. If the angle\r\n",
        "between u and v is 101.3°, what is u · v?\r\n",
        "\r\n",
        "**Solution**\r\n",
        "\r\n",
        "Again, we can plug these values into the new dot product formula\r\n",
        "and, with the appropriate conversion to radians, evaluate the result in Python:"
      ]
    },
    {
      "cell_type": "code",
      "metadata": {
        "id": "iROLVqsmVNom",
        "colab": {
          "base_uri": "https://localhost:8080/"
        },
        "outputId": "7f4b0e2e-61f1-4fb5-b2b6-a196699c74ff"
      },
      "source": [
        "3.61 * 1.44 * cos(101.3 * pi / 180)"
      ],
      "execution_count": null,
      "outputs": [
        {
          "output_type": "execute_result",
          "data": {
            "text/plain": [
              "-1.0186064362303022"
            ]
          },
          "metadata": {
            "tags": []
          },
          "execution_count": 17
        }
      ]
    },
    {
      "cell_type": "markdown",
      "metadata": {
        "id": "IDBG9O-2v4AL"
      },
      "source": [
        "**Ex-3.17**: Find the angle between (3, 4) and (4, 3) by converting\r\n",
        "them to polar coordinates and taking the difference of the angles.\r\n",
        "\r\n",
        "**Hint** The result should agree with the value from the dot product formula.\r\n",
        "\r\n",
        "**Solution** The vector (3, 4) is further from the positive x-axis counterclockwise, so we subtract the angle of (4, 3) from the angle of (3, 4) to get our answer."
      ]
    },
    {
      "cell_type": "code",
      "metadata": {
        "id": "xEMBsUKKEppB"
      },
      "source": [
        "from vectors import to_polar"
      ],
      "execution_count": null,
      "outputs": []
    },
    {
      "cell_type": "code",
      "metadata": {
        "id": "imlm7s3EU014",
        "colab": {
          "base_uri": "https://localhost:8080/"
        },
        "outputId": "7b561f62-9b69-4056-cc8b-3e8f19f299c7"
      },
      "source": [
        "r1, t1 = to_polar((4, 3))\r\n",
        "r2, t2 = to_polar((3, 4))\r\n",
        "\r\n",
        "t1 - t2"
      ],
      "execution_count": null,
      "outputs": [
        {
          "output_type": "execute_result",
          "data": {
            "text/plain": [
              "-0.2837941092083278"
            ]
          },
          "metadata": {
            "tags": []
          },
          "execution_count": 19
        }
      ]
    },
    {
      "cell_type": "code",
      "metadata": {
        "id": "4prgR4PqVBy_",
        "colab": {
          "base_uri": "https://localhost:8080/"
        },
        "outputId": "4fb6e128-a77d-4f56-f2a3-50b101255e0f"
      },
      "source": [
        "t2 - t1"
      ],
      "execution_count": null,
      "outputs": [
        {
          "output_type": "execute_result",
          "data": {
            "text/plain": [
              "0.2837941092083278"
            ]
          },
          "metadata": {
            "tags": []
          },
          "execution_count": 20
        }
      ]
    },
    {
      "cell_type": "markdown",
      "metadata": {
        "id": "UqEnNedLWwbg"
      },
      "source": [
        "**Ex-3.18**: What is the angle between (1, 1, 1) and (–1, –1, 1) in degrees?\r\n"
      ]
    },
    {
      "cell_type": "code",
      "metadata": {
        "id": "wJWjGOufVX28",
        "colab": {
          "base_uri": "https://localhost:8080/"
        },
        "outputId": "d5a03d04-d709-495a-dce4-9f9698f0a266"
      },
      "source": [
        "length((1, 1, 1))"
      ],
      "execution_count": null,
      "outputs": [
        {
          "output_type": "execute_result",
          "data": {
            "text/plain": [
              "1.7320508075688772"
            ]
          },
          "metadata": {
            "tags": []
          },
          "execution_count": 21
        }
      ]
    },
    {
      "cell_type": "code",
      "metadata": {
        "id": "4tnGmqbmVaJt",
        "colab": {
          "base_uri": "https://localhost:8080/"
        },
        "outputId": "f697b8e4-f30d-4a65-e0f6-9ffd934be593"
      },
      "source": [
        "length((-1, -1, 1))"
      ],
      "execution_count": null,
      "outputs": [
        {
          "output_type": "execute_result",
          "data": {
            "text/plain": [
              "1.7320508075688772"
            ]
          },
          "metadata": {
            "tags": []
          },
          "execution_count": 22
        }
      ]
    },
    {
      "cell_type": "markdown",
      "metadata": {
        "id": "NhC2NEwxVeri"
      },
      "source": [
        "The lengths of both vectors are $\\sqrt{3}$ or approximately 1.732."
      ]
    },
    {
      "cell_type": "code",
      "metadata": {
        "id": "RwGRCL88VdCS",
        "colab": {
          "base_uri": "https://localhost:8080/"
        },
        "outputId": "550c0acf-e0e1-4d70-8afc-470e6e2decf2"
      },
      "source": [
        "dot((1, 1, 1,), (-1, -1, 1))"
      ],
      "execution_count": null,
      "outputs": [
        {
          "output_type": "execute_result",
          "data": {
            "text/plain": [
              "-1"
            ]
          },
          "metadata": {
            "tags": []
          },
          "execution_count": 23
        }
      ]
    },
    {
      "cell_type": "markdown",
      "metadata": {
        "id": "NIQ3K1TQWRZn"
      },
      "source": [
        "so $–1 = \\sqrt{3} . \\sqrt{3}. cos(\\theta)$. Therefore, $cos(\\theta) = –1/3$. This makes the angle approximately 1.911 radians or 109.5°"
      ]
    }
  ]
}