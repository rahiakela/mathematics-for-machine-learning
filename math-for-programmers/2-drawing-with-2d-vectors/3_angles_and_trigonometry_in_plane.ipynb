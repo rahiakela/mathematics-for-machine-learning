{
  "nbformat": 4,
  "nbformat_minor": 0,
  "metadata": {
    "colab": {
      "name": "3-angles-and-trigonometry-in-plane.ipynb",
      "provenance": [],
      "toc_visible": true,
      "authorship_tag": "ABX9TyOfTfpTgJ1/eKmsnFhNvRVv",
      "include_colab_link": true
    },
    "kernelspec": {
      "name": "python3",
      "display_name": "Python 3"
    }
  },
  "cells": [
    {
      "cell_type": "markdown",
      "metadata": {
        "id": "view-in-github",
        "colab_type": "text"
      },
      "source": [
        "<a href=\"https://colab.research.google.com/github/rahiakela/math-for-programmers/blob/main/2-drawing-with-2d-vectors/3_angles_and_trigonometry_in_plane.ipynb\" target=\"_parent\"><img src=\"https://colab.research.google.com/assets/colab-badge.svg\" alt=\"Open In Colab\"/></a>"
      ]
    },
    {
      "cell_type": "markdown",
      "metadata": {
        "id": "XVRBeOjwhmfT"
      },
      "source": [
        "# Angles and trigonometry in the plane"
      ]
    },
    {
      "cell_type": "markdown",
      "metadata": {
        "id": "SgqDBsNKhnaH"
      },
      "source": [
        "So far, we’ve used two “rulers” (called the x-axis and the y-axis) to measure vectors in the plane. An arrow from the origin covers some measurable displacement in the horizontal and vertical directions, and these values uniquely specify the vector. Instead of using two rulers, we could just as well use a ruler and a protractor. Starting with the vector (4, 3), we can measure or calculate its length to be 5 units, and then use our protractor to identify the direction.\r\n",
        "\r\n",
        "<img src='https://github.com/rahiakela/img-repo/blob/master/math-for-programmers/protractor.png?raw=1' width='800'/>\r\n",
        "\r\n",
        "This vector has a length of 5 units, and it points in a direction approximately $37°$ counterclockwise from the positive half of the x-axis. This gives us a new pair of numbers $(5, 37°)$ that, like our original coordinates, uniquely specify the vector. **These numbers are called polar coordinates and are just as good at describing points in the plane as the ones we’ve worked with so far, called Cartesian coordinates.**\r\n",
        "\r\n",
        "Sometimes, like when we’re adding vectors, it’s easier to use Cartesian coordinates. Other times, polar coordinates are more useful; for instance, when we want to look at vectors rotated by some angle."
      ]
    },
    {
      "cell_type": "markdown",
      "metadata": {
        "id": "WfroHBoJil6D"
      },
      "source": [
        "## Setup"
      ]
    },
    {
      "cell_type": "code",
      "metadata": {
        "colab": {
          "base_uri": "https://localhost:8080/"
        },
        "id": "Oruql9sminIf",
        "outputId": "76327e4f-32d0-45d3-db5e-c8780dd47ec4"
      },
      "source": [
        "!wget https://raw.githubusercontent.com/rahiakela/math-for-programmers/main/2-drawing-with-2d-vectors/vector_drawing.py"
      ],
      "execution_count": 1,
      "outputs": [
        {
          "output_type": "stream",
          "text": [
            "--2021-01-02 13:55:25--  https://raw.githubusercontent.com/rahiakela/math-for-programmers/main/2-drawing-with-2d-vectors/vector_drawing.py\n",
            "Resolving raw.githubusercontent.com (raw.githubusercontent.com)... 151.101.0.133, 151.101.64.133, 151.101.128.133, ...\n",
            "Connecting to raw.githubusercontent.com (raw.githubusercontent.com)|151.101.0.133|:443... connected.\n",
            "HTTP request sent, awaiting response... 200 OK\n",
            "Length: 4645 (4.5K) [text/plain]\n",
            "Saving to: ‘vector_drawing.py’\n",
            "\n",
            "vector_drawing.py   100%[===================>]   4.54K  --.-KB/s    in 0s      \n",
            "\n",
            "2021-01-02 13:55:25 (66.6 MB/s) - ‘vector_drawing.py’ saved [4645/4645]\n",
            "\n"
          ],
          "name": "stdout"
        }
      ]
    },
    {
      "cell_type": "code",
      "metadata": {
        "id": "KERLY7smiqbg"
      },
      "source": [
        "from math import sqrt, sin, cos\r\n",
        "from math import tan, pi\r\n",
        "from vector_drawing import * "
      ],
      "execution_count": 2,
      "outputs": []
    },
    {
      "cell_type": "code",
      "metadata": {
        "id": "GzEnUheAqCE3"
      },
      "source": [
        "def length(v):\r\n",
        "  return sqrt(v[0] ** 2 + v[1] ** 2)"
      ],
      "execution_count": 3,
      "outputs": []
    },
    {
      "cell_type": "markdown",
      "metadata": {
        "id": "a_w9_3FrihOT"
      },
      "source": [
        "## From angles to components"
      ]
    },
    {
      "cell_type": "markdown",
      "metadata": {
        "id": "zFaond_iiiQz"
      },
      "source": [
        "First, we can position our protractor at the origin to find the right direction. We measure $116.57°$ counterclockwise from the positive x-axis and draw a line in that direction. Our vector (3, 116.57°) lies somewhere on this line.\r\n",
        "\r\n",
        "<img src='https://github.com/rahiakela/img-repo/blob/master/math-for-programmers/positive-protractor.png?raw=1' width='800'/>\r\n",
        "\r\n",
        "The next step is to take a ruler and measure a point that is three units from the origin in this direction. Once we’ve found it, we can measure the components\r\n",
        "and get our approximate coordinates `(–1.34, 2.68)`.\r\n",
        "\r\n",
        "<img src='https://github.com/rahiakela/img-repo/blob/master/math-for-programmers/measure-coordinates.png?raw=1' width='800'/>\r\n",
        "\r\n",
        "It may look like the angle $116.57°$ was a random choice, but it has a useful property. Starting from the origin and moving in that direction, you go up two units every time you go one unit to the left. Vectors that approximately lie along that line include `(–1, 2), (–3, 6)` and, of course, `(–1.34, 2.68)`; the y-coordinates are –2 times their x-coordinates.\r\n",
        "\r\n",
        "<img src='https://github.com/rahiakela/img-repo/blob/master/math-for-programmers/directions.png?raw=1' width='800'/>\r\n",
        "\r\n",
        "Given an angle, the coordinates of vectors along that angle will have a constant ratio. This ratio is called the tangent of the angle, and the tangent function is written as tan.\r\n",
        "\r\n",
        "```python\r\n",
        "tan(37°) ~ ¾\r\n",
        "tan(116.57°) ~ –2\r\n",
        "tan(45°) = 1\r\n",
        "tan(200°) ~ 0.36\r\n",
        "```\r\n",
        "\r\n",
        "The tangent function is a trigonometric function because it helps us measure triangles.\r\n",
        "\r\n",
        "**The tangent function is clearly related to our original problem of finding Cartesian coordinates for a vector given an angle and a distance. But it doesn’t actually provide the coordinates, only their ratio. For that, two other trigonometric functions are helpful: sine and cosine. If we measure some distance at some angle, the tangent of the angle gives us the vertical distance covered divided by the horizontal distance.**\r\n",
        "\r\n",
        "<img src='https://github.com/rahiakela/img-repo/blob/master/math-for-programmers/schematic-distances.png?raw=1' width='800'/>\r\n",
        "\r\n",
        "**By comparison, the sine and cosine give us the vertical and horizontal distance covered relative to the overall distance.**\r\n",
        "\r\n",
        "<img src='https://github.com/rahiakela/img-repo/blob/master/math-for-programmers/sin-cos.png?raw=1' width='800'/>\r\n",
        "\r\n",
        "Let’s look at the angle $37°$ for a concrete example. We saw that the point\r\n",
        "(4, 3) lies at a distance of 5 units from the origin at this angle.\r\n",
        "\r\n",
        "For every 5 units you travel at 37°, you cover approximately 3 vertical units.\r\n",
        "\r\n",
        "$$sin(37°) \\approx 3/5$$\r\n",
        "\r\n",
        "Similarly, for every 5 units you travel at 37°, you cover approximately 4 horizontal units, so we can write:\r\n",
        "\r\n",
        "$$cos(37°) \\approx 4/5$$\r\n",
        "\r\n",
        "**This is a general strategy for converting a vector in polar coordinates to corresponding Cartesian coordinates. If you know the sine and cosine of an angle $\\theta$ (the Greek letter theta, commonly used for angles) and a distance r traveled in that direction, the Cartesian coordinates are given by $(r · cos(\\theta), r · sin(\\theta))$.**\r\n",
        "\r\n",
        "<img src='https://github.com/rahiakela/img-repo/blob/master/math-for-programmers/polar-cartesian-coordinates.png?raw=1' width='800'/>"
      ]
    },
    {
      "cell_type": "markdown",
      "metadata": {
        "id": "6r__otHFn2WJ"
      },
      "source": [
        "## Radians and trigonometry in Python"
      ]
    },
    {
      "cell_type": "markdown",
      "metadata": {
        "id": "IF46dg7In3qa"
      },
      "source": [
        "The main hurdle is that Python’s built-in trigonometric functions use different\r\n",
        "units than the ones we’ve used. We expect $tan(45°) = 1$, for instance, but Python gives us a much different result:"
      ]
    },
    {
      "cell_type": "code",
      "metadata": {
        "colab": {
          "base_uri": "https://localhost:8080/"
        },
        "id": "5CbMXpqHoUSN",
        "outputId": "7b13b2dd-e1fd-4611-8773-d8fc22f776d9"
      },
      "source": [
        "tan(45)"
      ],
      "execution_count": 4,
      "outputs": [
        {
          "output_type": "execute_result",
          "data": {
            "text/plain": [
              "1.6197751905438615"
            ]
          },
          "metadata": {
            "tags": []
          },
          "execution_count": 4
        }
      ]
    },
    {
      "cell_type": "markdown",
      "metadata": {
        "id": "pV3tXu7HoeBV"
      },
      "source": [
        "Python doesn’t use degrees, and neither do most mathematicians. Instead, they use units called radians to measure angles.\r\n",
        "\r\n",
        "$$1 radian \\approx 57.296°$$\r\n",
        "\r\n",
        "This may seem like an arbitrary conversion factor. Some more suggestive relationships between degrees and radians are given in terms of the special number $\\pi (pi)$, whose value is approximately 3.14159.\r\n",
        "\r\n",
        "$$\\pi radians = 180°$$\r\n",
        "$$2\\pi radians = 360°$$\r\n",
        "\r\n",
        "In radians, half a trip around a circle is an angle of $\\pi$ and a whole revolution is $2\\pi$. These respectively agree with the half and whole circumference of a circle of radius 1.\r\n",
        "\r\n",
        "<img src='https://github.com/rahiakela/img-repo/blob/master/math-for-programmers/radians-revolution.png?raw=1' width='800'/>\r\n",
        "\r\n",
        "You can think of radians as another kind of ratio: for a given angle, its measurement in radians tells you how many radiuses you’ve gone around the circle. Because of this special property, angle measurements without units are assumed to be radians. Noting that $45° = \\pi/4$ (radians), we can get the correct result for the tangent of this angle:"
      ]
    },
    {
      "cell_type": "code",
      "metadata": {
        "colab": {
          "base_uri": "https://localhost:8080/"
        },
        "id": "u_Qe9e7AoXHj",
        "outputId": "3d7e470e-41c4-48b7-cdf7-6b6eccd2364f"
      },
      "source": [
        "tan(pi/4)"
      ],
      "execution_count": 5,
      "outputs": [
        {
          "output_type": "execute_result",
          "data": {
            "text/plain": [
              "0.9999999999999999"
            ]
          },
          "metadata": {
            "tags": []
          },
          "execution_count": 5
        }
      ]
    },
    {
      "cell_type": "markdown",
      "metadata": {
        "id": "pn71YkcqrfZ7"
      },
      "source": [
        "We can now make use of Python’s trigonometric functions to write a to_cartesian\r\n",
        "function, taking a pair of polar coordinates and returning corresponding Cartesian coordinates:"
      ]
    },
    {
      "cell_type": "code",
      "metadata": {
        "id": "OSSMyFvVrbDf"
      },
      "source": [
        "def to_cartesian(polar_vector):\r\n",
        "  length, angle = polar_vector[0], polar_vector[1]\r\n",
        "\r\n",
        "  return (length * cos(angle), length * sin(angle))"
      ],
      "execution_count": 6,
      "outputs": []
    },
    {
      "cell_type": "markdown",
      "metadata": {
        "id": "Enz0Q0yir-N2"
      },
      "source": [
        "Using this, we can verify that 5 units at an angle of 37° gets us close to the point (4, 3):"
      ]
    },
    {
      "cell_type": "code",
      "metadata": {
        "colab": {
          "base_uri": "https://localhost:8080/"
        },
        "id": "wYmTnZCKr7Rc",
        "outputId": "cd0b652c-65b7-482f-9b3f-3f5e8a3e8f79"
      },
      "source": [
        "angle = 37 * pi / 180\r\n",
        "to_cartesian((5, angle))"
      ],
      "execution_count": 7,
      "outputs": [
        {
          "output_type": "execute_result",
          "data": {
            "text/plain": [
              "(3.993177550236464, 3.0090751157602416)"
            ]
          },
          "metadata": {
            "tags": []
          },
          "execution_count": 7
        }
      ]
    },
    {
      "cell_type": "markdown",
      "metadata": {
        "id": "be0y8cL2sMby"
      },
      "source": [
        "Now that we can convert from polar coordinates to Cartesian coordinates, let’s see how to convert in the other direction."
      ]
    },
    {
      "cell_type": "markdown",
      "metadata": {
        "id": "C73DQ2RPsN8F"
      },
      "source": [
        "## From components back to angles"
      ]
    },
    {
      "cell_type": "markdown",
      "metadata": {
        "id": "p5lJ_aidsQE-"
      },
      "source": [
        "Given a pair of Cartesian coordinates like `(–2, 3)`, we know how to find the length with the Pythagorean theorem. In this case, it is , which is the first of the two polar coordinates we are looking for. The second is the angle, which we can call $\\theta$ (theta), indicating the direction of this vector.\r\n",
        "\r\n",
        "<img src='https://github.com/rahiakela/img-repo/blob/master/math-for-programmers/angle-vector.png?raw=1' width='800'/>\r\n",
        "\r\n",
        "We can say some facts about the angle  that we’re looking for. Its tangent, tan$(\\theta)$, is 3/2, while $sin(\\theta) = 3/\\sqrt{13}$ and $cos(\\theta ) = –2/\\sqrt{13}$ . All that’s left is finding a value of $\\theta$ that satisfies these.\r\n",
        "\r\n",
        "It would be great if there were a function that took the value of $sin(\\theta)$, for instance, and gave you back $\\theta$. This turns out to be easier said than done, but Python’s math.asin function makes a good attempt. This is an implementation of the inverse trigonometric function called the arcsine,\r\n",
        "and it returns a satisfactory value of $\\theta$ :"
      ]
    },
    {
      "cell_type": "code",
      "metadata": {
        "id": "e1U_m-pOsImB",
        "colab": {
          "base_uri": "https://localhost:8080/"
        },
        "outputId": "9b9e2364-06d8-4e82-ceab-4205d86a5685"
      },
      "source": [
        "sin(1)"
      ],
      "execution_count": 8,
      "outputs": [
        {
          "output_type": "execute_result",
          "data": {
            "text/plain": [
              "0.8414709848078965"
            ]
          },
          "metadata": {
            "tags": []
          },
          "execution_count": 8
        }
      ]
    },
    {
      "cell_type": "code",
      "metadata": {
        "id": "a3PQO3pxmPcl",
        "colab": {
          "base_uri": "https://localhost:8080/"
        },
        "outputId": "829bed13-87ab-48e8-b289-107f1660f823"
      },
      "source": [
        "from math import asin, acos\r\n",
        "\r\n",
        "asin(0.8414709848078965)"
      ],
      "execution_count": 9,
      "outputs": [
        {
          "output_type": "execute_result",
          "data": {
            "text/plain": [
              "1.0"
            ]
          },
          "metadata": {
            "tags": []
          },
          "execution_count": 9
        }
      ]
    },
    {
      "cell_type": "markdown",
      "metadata": {
        "id": "vMYLJfbXmar4"
      },
      "source": [
        "So far, so good. But what about the sine of our angle $\\theta = 3/\\sqrt{13}$ ?"
      ]
    },
    {
      "cell_type": "code",
      "metadata": {
        "id": "CY2_NXwEmTw4",
        "colab": {
          "base_uri": "https://localhost:8080/"
        },
        "outputId": "90ad23f4-5b16-4e11-b1f2-b5da8a84c2fa"
      },
      "source": [
        "asin(3 / sqrt(13))"
      ],
      "execution_count": 10,
      "outputs": [
        {
          "output_type": "execute_result",
          "data": {
            "text/plain": [
              "0.9827937232473292"
            ]
          },
          "metadata": {
            "tags": []
          },
          "execution_count": 10
        }
      ]
    },
    {
      "cell_type": "markdown",
      "metadata": {
        "id": "sHD3lYmqmsf0"
      },
      "source": [
        "This angle is roughly 56.3°, that’s the wrong direction!\r\n",
        "\r\n",
        "<img src='https://github.com/rahiakela/img-repo/blob/master/math-for-programmers/wrong-angle.png?raw=1' width='800'/>\r\n",
        "\r\n",
        "It’s not wrong that `math.asin` gives us this answer; another point `(2, 3)` does lie in this direction. It is at $\\sqrt{13}$ length from the origin, so the sine of this angle is also $3\\sqrt{13}$.\r\n",
        "\r\n",
        "The inverse trigonometric function, called arccosine and implemented in Python as `math.acos`, happens to give us the right value:"
      ]
    },
    {
      "cell_type": "code",
      "metadata": {
        "id": "JxdPbyS7mpKS",
        "colab": {
          "base_uri": "https://localhost:8080/"
        },
        "outputId": "39b3d40f-3c42-4fcb-f1f8-2f1a3ba387ce"
      },
      "source": [
        "acos(-2 / sqrt(13))"
      ],
      "execution_count": 11,
      "outputs": [
        {
          "output_type": "execute_result",
          "data": {
            "text/plain": [
              "2.1587989303424644"
            ]
          },
          "metadata": {
            "tags": []
          },
          "execution_count": 11
        }
      ]
    },
    {
      "cell_type": "markdown",
      "metadata": {
        "id": "FoUzE44an7OV"
      },
      "source": [
        "To find the value of $\\theta$ that we actually want, we’ll have to make sure the sine and cosine agree with our expectation. The angle returned by Python, which is approximately 2.159, satisfies this:"
      ]
    },
    {
      "cell_type": "code",
      "metadata": {
        "id": "VMFIXdxRnrS2",
        "colab": {
          "base_uri": "https://localhost:8080/"
        },
        "outputId": "9ef5a31a-2497-4a0e-fc6a-3e3ed0133922"
      },
      "source": [
        "cos(2.1587989303424644)"
      ],
      "execution_count": 12,
      "outputs": [
        {
          "output_type": "execute_result",
          "data": {
            "text/plain": [
              "-0.5547001962252293"
            ]
          },
          "metadata": {
            "tags": []
          },
          "execution_count": 12
        }
      ]
    },
    {
      "cell_type": "code",
      "metadata": {
        "id": "lCP6Wc8soCvS",
        "colab": {
          "base_uri": "https://localhost:8080/"
        },
        "outputId": "f0ccf1f0-4493-4b5c-ed74-1a9624d3836c"
      },
      "source": [
        "-2 / sqrt(13)"
      ],
      "execution_count": 13,
      "outputs": [
        {
          "output_type": "execute_result",
          "data": {
            "text/plain": [
              "-0.5547001962252291"
            ]
          },
          "metadata": {
            "tags": []
          },
          "execution_count": 13
        }
      ]
    },
    {
      "cell_type": "code",
      "metadata": {
        "id": "XpoazUIyoHl1",
        "colab": {
          "base_uri": "https://localhost:8080/"
        },
        "outputId": "4a42fd10-850b-4eb2-9198-83f5d4958f10"
      },
      "source": [
        "sin(2.1587989303424644)"
      ],
      "execution_count": 14,
      "outputs": [
        {
          "output_type": "execute_result",
          "data": {
            "text/plain": [
              "0.8320502943378436"
            ]
          },
          "metadata": {
            "tags": []
          },
          "execution_count": 14
        }
      ]
    },
    {
      "cell_type": "code",
      "metadata": {
        "id": "x4iM6E2BoOGT",
        "colab": {
          "base_uri": "https://localhost:8080/"
        },
        "outputId": "848613aa-0260-46f6-b826-98b6fc17dd31"
      },
      "source": [
        "3 / sqrt(13)"
      ],
      "execution_count": 15,
      "outputs": [
        {
          "output_type": "execute_result",
          "data": {
            "text/plain": [
              "0.8320502943378437"
            ]
          },
          "metadata": {
            "tags": []
          },
          "execution_count": 15
        }
      ]
    },
    {
      "cell_type": "markdown",
      "metadata": {
        "id": "wxJJ5afmoYlh"
      },
      "source": [
        "None of the arcsine, arccosine, or arctangent functions are sufficient to find the angle to a point in the plane.\r\n",
        "\r\n",
        "The `math.atan2` function takes the Cartesian coordinates of a point in the plane (in reverse order!) and gives you back the angle at which it lies."
      ]
    },
    {
      "cell_type": "code",
      "metadata": {
        "id": "PUp4lLROoRJg",
        "colab": {
          "base_uri": "https://localhost:8080/"
        },
        "outputId": "28984da4-7eb0-49c3-e8ed-81253ef84745"
      },
      "source": [
        "from math import atan2\r\n",
        "\r\n",
        "atan2(3, -2)"
      ],
      "execution_count": 16,
      "outputs": [
        {
          "output_type": "execute_result",
          "data": {
            "text/plain": [
              "2.158798930342464"
            ]
          },
          "metadata": {
            "tags": []
          },
          "execution_count": 16
        }
      ]
    },
    {
      "cell_type": "markdown",
      "metadata": {
        "id": "VzbFKSY0o_bA"
      },
      "source": [
        "In summary, trigonometric functions are tricky to do in reverse; multiple different inputs can produce the same output, so an output can’t be traced back to a unique input. This lets us complete the function we set out to write: a converter from Cartesian to polar coordinates:"
      ]
    },
    {
      "cell_type": "code",
      "metadata": {
        "id": "35Xm4CKAouE5"
      },
      "source": [
        "def to_polar(vector):\r\n",
        "  x, y = vector[0], vector[1]\r\n",
        "  angle = atan2(y, x)\r\n",
        "\r\n",
        "  return (length(vector), angle)"
      ],
      "execution_count": 17,
      "outputs": []
    },
    {
      "cell_type": "markdown",
      "metadata": {
        "id": "Zpz0lDy4pctm"
      },
      "source": [
        "We can verify some simple examples: `to_polar((1,0))` should be one unit in the\r\n",
        "positive x direction or an angle of zero degrees."
      ]
    },
    {
      "cell_type": "code",
      "metadata": {
        "id": "MrTAWgZypV_x",
        "colab": {
          "base_uri": "https://localhost:8080/"
        },
        "outputId": "2bf41901-dad1-4d62-86e9-6155b8be6aaa"
      },
      "source": [
        "to_polar((1, 0))"
      ],
      "execution_count": 18,
      "outputs": [
        {
          "output_type": "execute_result",
          "data": {
            "text/plain": [
              "(1.0, 0.0)"
            ]
          },
          "metadata": {
            "tags": []
          },
          "execution_count": 18
        }
      ]
    },
    {
      "cell_type": "code",
      "metadata": {
        "id": "4xgvSoGlphTy",
        "colab": {
          "base_uri": "https://localhost:8080/"
        },
        "outputId": "fbab56b9-b3cb-4833-8c85-ec9d004cc177"
      },
      "source": [
        "to_polar((-2, 3))"
      ],
      "execution_count": 19,
      "outputs": [
        {
          "output_type": "execute_result",
          "data": {
            "text/plain": [
              "(3.605551275463989, 2.158798930342464)"
            ]
          },
          "metadata": {
            "tags": []
          },
          "execution_count": 19
        }
      ]
    },
    {
      "cell_type": "markdown",
      "metadata": {
        "id": "8WreRmC5qLxQ"
      },
      "source": [
        "## Exercises"
      ]
    },
    {
      "cell_type": "markdown",
      "metadata": {
        "id": "BEM1qqNDqMmE"
      },
      "source": [
        "**Ex-1**: Confirm that the vector given by Cartesian coordinates (–1.34,\r\n",
        "2.68) has a length of approximately 3 as expected."
      ]
    },
    {
      "cell_type": "code",
      "metadata": {
        "id": "z_7uuoJvqJZF",
        "colab": {
          "base_uri": "https://localhost:8080/"
        },
        "outputId": "819dd4ec-5cd7-47a0-89a7-0a106d261196"
      },
      "source": [
        "length((-1.34, 2.68))"
      ],
      "execution_count": 20,
      "outputs": [
        {
          "output_type": "execute_result",
          "data": {
            "text/plain": [
              "2.9963310898497184"
            ]
          },
          "metadata": {
            "tags": []
          },
          "execution_count": 20
        }
      ]
    },
    {
      "cell_type": "markdown",
      "metadata": {
        "id": "KbHf_lQ0GP_4"
      },
      "source": [
        "**Ex-2**: Turning the question around, suppose we know the length and\r\n",
        "direction of a vector and want to find its components. What are the x and y components of a vector with length 15 pointing at a 37° angle?"
      ]
    },
    {
      "cell_type": "code",
      "metadata": {
        "id": "CpnhmEaQGDo0",
        "colab": {
          "base_uri": "https://localhost:8080/"
        },
        "outputId": "d730056b-36eb-42ce-8477-a2e86d85bc74"
      },
      "source": [
        "# since x = r . cos(theta) and y = r . sin(theta)\r\n",
        "cos_theta = cos(37)\r\n",
        "x = 15 * cos_theta\r\n",
        "x"
      ],
      "execution_count": 21,
      "outputs": [
        {
          "output_type": "execute_result",
          "data": {
            "text/plain": [
              "11.48121077918015"
            ]
          },
          "metadata": {
            "tags": []
          },
          "execution_count": 21
        }
      ]
    },
    {
      "cell_type": "code",
      "metadata": {
        "id": "BbQypEF3G4kr",
        "colab": {
          "base_uri": "https://localhost:8080/"
        },
        "outputId": "29b9c35b-85e0-4c86-938a-705c1ae5b6d0"
      },
      "source": [
        "sin_theta = sin(37)\r\n",
        "y = 15 * sin_theta\r\n",
        "y"
      ],
      "execution_count": 22,
      "outputs": [
        {
          "output_type": "execute_result",
          "data": {
            "text/plain": [
              "-9.653072000354992"
            ]
          },
          "metadata": {
            "tags": []
          },
          "execution_count": 22
        }
      ]
    },
    {
      "cell_type": "markdown",
      "metadata": {
        "id": "hyoS0JTVHvy4"
      },
      "source": [
        "**Ex-3**: Suppose I travel `8.5` units from the origin at an angle of $125°$,\r\n",
        "measured counterclockwise from the positive x-axis. Given that $sin(125°) = 0.819$ and $cos(125°) = –0.574$, what are my final coordinates? Draw a picture to show the angle and path traveled."
      ]
    },
    {
      "cell_type": "code",
      "metadata": {
        "id": "jDwdyyAHHCG6",
        "colab": {
          "base_uri": "https://localhost:8080/"
        },
        "outputId": "8a295166-2acd-483e-89b7-83233539b34b"
      },
      "source": [
        "# since x = r . cos(theta) and y = r . sin(theta)\r\n",
        "x = 8.5 * -0.574\r\n",
        "y = 8.5 * 0.819\r\n",
        "print(x, y)"
      ],
      "execution_count": 23,
      "outputs": [
        {
          "output_type": "stream",
          "text": [
            "-4.879 6.961499999999999\n"
          ],
          "name": "stdout"
        }
      ]
    },
    {
      "cell_type": "markdown",
      "metadata": {
        "id": "ApVha3UvKSAf"
      },
      "source": [
        "**Ex-4**: First, confirm that these lengths are valid\r\n",
        "for a right triangle because they satisfy\r\n",
        "the Pythagorean theorem. Then, calculate\r\n",
        "the values of sin(30°), cos(30°), and\r\n",
        "tan(30°) to three decimal places using\r\n",
        "the measurements in the diagram."
      ]
    },
    {
      "cell_type": "code",
      "metadata": {
        "id": "a7PA7BmAIgqp",
        "colab": {
          "base_uri": "https://localhost:8080/"
        },
        "outputId": "f35881dd-a3ae-4eb4-f2b2-73cceab5e2e7"
      },
      "source": [
        "# since c^2 = a^2 + b^2\r\n",
        "c = (sqrt(3) / 2) ** 2 + (1 / 2) ** 2\r\n",
        "c"
      ],
      "execution_count": 24,
      "outputs": [
        {
          "output_type": "execute_result",
          "data": {
            "text/plain": [
              "0.9999999999999999"
            ]
          },
          "metadata": {
            "tags": []
          },
          "execution_count": 24
        }
      ]
    },
    {
      "cell_type": "code",
      "metadata": {
        "id": "wojCjKfdKuXJ",
        "colab": {
          "base_uri": "https://localhost:8080/"
        },
        "outputId": "b261e791-5187-4ff0-9237-c715529339db"
      },
      "source": [
        "# since x = r . cos(theta) and y = r . sin(theta)\r\n",
        "sin_theta = (1 / 2) / 1\r\n",
        "sin_theta"
      ],
      "execution_count": 25,
      "outputs": [
        {
          "output_type": "execute_result",
          "data": {
            "text/plain": [
              "0.5"
            ]
          },
          "metadata": {
            "tags": []
          },
          "execution_count": 25
        }
      ]
    },
    {
      "cell_type": "code",
      "metadata": {
        "id": "2Tz3M9DbLUM9",
        "colab": {
          "base_uri": "https://localhost:8080/"
        },
        "outputId": "28cc9e50-e5e7-4c90-a720-6f315f4299f3"
      },
      "source": [
        "cos_theta = (sqrt(3) / 2) / 1\r\n",
        "cos_theta"
      ],
      "execution_count": 26,
      "outputs": [
        {
          "output_type": "execute_result",
          "data": {
            "text/plain": [
              "0.8660254037844386"
            ]
          },
          "metadata": {
            "tags": []
          },
          "execution_count": 26
        }
      ]
    },
    {
      "cell_type": "code",
      "metadata": {
        "id": "30J-yUQkLfo5",
        "colab": {
          "base_uri": "https://localhost:8080/"
        },
        "outputId": "2d4e26bc-f4c8-4f50-e166-bc808daef99b"
      },
      "source": [
        "tan_theta = sin_theta / cos_theta\r\n",
        "tan_theta"
      ],
      "execution_count": 27,
      "outputs": [
        {
          "output_type": "execute_result",
          "data": {
            "text/plain": [
              "0.5773502691896258"
            ]
          },
          "metadata": {
            "tags": []
          },
          "execution_count": 27
        }
      ]
    },
    {
      "cell_type": "markdown",
      "metadata": {
        "id": "rZD2uk5PYeBk"
      },
      "source": [
        "**Ex-2.37**: The following list comprehension creates 1,000 points in polar\r\n",
        "coordinates:\r\n",
        "\r\n",
        "`[(cos(5*x*pi/500.0), 2*pi*x/1000.0) for x in range(0,1000)]`\r\n",
        "\r\n",
        "In Python code, convert these to Cartesian coordinates and connect them in a\r\n",
        "closed loop with line segments to draw a picture."
      ]
    },
    {
      "cell_type": "code",
      "metadata": {
        "id": "UKKta6zPLsRU",
        "outputId": "e06f3344-391c-4812-95a6-4e854772fdb7",
        "colab": {
          "base_uri": "https://localhost:8080/",
          "height": 374
        }
      },
      "source": [
        "polar_coords = [(cos(x * pi / 100.0), 2 * pi * x / 1000.0) for x in range(0, 1000)]\r\n",
        "vectors = [to_cartesian(p) for p in polar_coords]\r\n",
        "draw(Polygon(*vectors, color=green))"
      ],
      "execution_count": 29,
      "outputs": [
        {
          "output_type": "display_data",
          "data": {
            "image/png": "[encoded data removed]",
            "text/plain": [
              "<Figure size 432x432 with 1 Axes>"
            ]
          },
          "metadata": {
            "tags": [],
            "needs_background": "light"
          }
        }
      ]
    },
    {
      "cell_type": "code",
      "metadata": {
        "id": "b1kzGuI8ZGlu",
        "outputId": "c56f57eb-2883-43d9-ef81-dad95c8e1015",
        "colab": {
          "base_uri": "https://localhost:8080/",
          "height": 374
        }
      },
      "source": [
        "polar_coords = [(cos(5 * x * pi / 500.0), 2 * pi * x / 1000.0) for x in range(0, 1000)]\r\n",
        "vectors = [to_cartesian(p) for p in polar_coords]\r\n",
        "draw(Polygon(*vectors, color=green))"
      ],
      "execution_count": 31,
      "outputs": [
        {
          "output_type": "display_data",
          "data": {
            "image/png": "[encoded data removed]",
            "text/plain": [
              "<Figure size 432x432 with 1 Axes>"
            ]
          },
          "metadata": {
            "tags": [],
            "needs_background": "light"
          }
        }
      ]
    },
    {
      "cell_type": "markdown",
      "metadata": {
        "id": "ozOGugXqaHFO"
      },
      "source": [
        "**Ex-2.38**: Find the angle to get to the point (–2, 3) by “guess-and-check.”\r\n",
        "\r\n",
        "Hint We can tell visually that the answer is between /2 and . On that interval, the values of sine and cosine always decrease as the angle increases.\r\n",
        "\r\n",
        "Here’s an example of guessing and checking between /2 and ,\r\n",
        "looking for an angle with tangent close to –3/2 = –1.5:"
      ]
    },
    {
      "cell_type": "code",
      "metadata": {
        "id": "wZu00HaZZchB",
        "outputId": "846adb4c-76c7-4829-f42c-e9b5c1926a4f",
        "colab": {
          "base_uri": "https://localhost:8080/"
        }
      },
      "source": [
        "from math import tan, pi\r\n",
        "\r\n",
        "pi, pi / 2"
      ],
      "execution_count": 33,
      "outputs": [
        {
          "output_type": "execute_result",
          "data": {
            "text/plain": [
              "(3.141592653589793, 1.5707963267948966)"
            ]
          },
          "metadata": {
            "tags": []
          },
          "execution_count": 33
        }
      ]
    },
    {
      "cell_type": "code",
      "metadata": {
        "id": "Pe_nfhQSbJqe",
        "outputId": "a75487fc-ca2c-499d-cc91-0045f4838386",
        "colab": {
          "base_uri": "https://localhost:8080/"
        }
      },
      "source": [
        "tan(1.8)"
      ],
      "execution_count": 34,
      "outputs": [
        {
          "output_type": "execute_result",
          "data": {
            "text/plain": [
              "-4.286261674628062"
            ]
          },
          "metadata": {
            "tags": []
          },
          "execution_count": 34
        }
      ]
    },
    {
      "cell_type": "code",
      "metadata": {
        "id": "MmyU4_2UcIt7",
        "outputId": "f43923a0-6228-487c-9a89-7b40bdf82063",
        "colab": {
          "base_uri": "https://localhost:8080/"
        }
      },
      "source": [
        "tan(2.5)"
      ],
      "execution_count": 35,
      "outputs": [
        {
          "output_type": "execute_result",
          "data": {
            "text/plain": [
              "-0.7470222972386603"
            ]
          },
          "metadata": {
            "tags": []
          },
          "execution_count": 35
        }
      ]
    },
    {
      "cell_type": "markdown",
      "metadata": {
        "id": "P3EiEdY3dGKq"
      },
      "source": [
        "**Ex-2.39**: Find another point in the plane with the same tangent as $\\theta$ ,\r\n",
        "namely –3/2. Use Python’s implementation of the arctangent function,\r\n",
        "math.atan, to find the value of this angle."
      ]
    },
    {
      "cell_type": "code",
      "metadata": {
        "id": "gpMMakgmcLF8",
        "outputId": "fe9bdf57-3a53-42d3-d5e5-53229aff6078",
        "colab": {
          "base_uri": "https://localhost:8080/"
        }
      },
      "source": [
        "from math import atan\r\n",
        "\r\n",
        "atan(-3 / 2)"
      ],
      "execution_count": 36,
      "outputs": [
        {
          "output_type": "execute_result",
          "data": {
            "text/plain": [
              "-0.982793723247329"
            ]
          },
          "metadata": {
            "tags": []
          },
          "execution_count": 36
        }
      ]
    },
    {
      "cell_type": "code",
      "metadata": {
        "id": "WPLZMgLidUZF"
      },
      "source": [
        ""
      ],
      "execution_count": null,
      "outputs": []
    }
  ]
}