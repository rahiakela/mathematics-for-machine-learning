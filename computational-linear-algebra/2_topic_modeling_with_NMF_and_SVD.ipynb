{
  "cells": [
    {
      "cell_type": "markdown",
      "metadata": {
        "id": "view-in-github",
        "colab_type": "text"
      },
      "source": [
        "<a href=\"https://colab.research.google.com/github/rahiakela/mathematics-for-machine-learning/blob/main/computational-linear-algebra/2_topic_modeling_with_NMF_and_SVD.ipynb\" target=\"_parent\"><img src=\"https://colab.research.google.com/assets/colab-badge.svg\" alt=\"Open In Colab\"/></a>"
      ]
    },
    {
      "cell_type": "markdown",
      "metadata": {
        "id": "CsLw9-cAeUzo"
      },
      "source": [
        "You can read an overview of this Numerical Linear Algebra course in [this blog post](http://www.fast.ai/2017/07/17/num-lin-alg/).  The course was originally taught in the [University of San Francisco MS in Analytics](https://www.usfca.edu/arts-sciences/graduate-programs/analytics) graduate program.  Course lecture videos are [available on YouTube](https://www.youtube.com/playlist?list=PLtmWHNX-gukIc92m1K0P6bIOnZb-mg0hY) (note that the notebook numbers and video numbers do not line up, since some notebooks took longer than 1 video to cover).\n",
        "\n",
        "You can ask questions about the course on [our fast.ai forums](http://forums.fast.ai/c/lin-alg)."
      ]
    },
    {
      "cell_type": "markdown",
      "metadata": {
        "id": "LTk9zHdTeUzt"
      },
      "source": [
        "## 2. Topic Modeling with NMF and SVD"
      ]
    },
    {
      "cell_type": "markdown",
      "metadata": {
        "id": "JriuhBPeeUzt"
      },
      "source": [
        "Topic modeling is a great way to get started with matrix factorizations. We start with a **term-document matrix**:\n",
        "\n",
        "<img src=\"https://github.com/fastai/numerical-linear-algebra/blob/master/nbs/images/document_term.png?raw=1\" alt=\"term-document matrix\" style=\"width: 80%\"/>\n",
        "(source: [Introduction to Information Retrieval](http://player.slideplayer.com/15/4528582/#))\n",
        "\n",
        "We can decompose this into one tall thin matrix times one wide short matrix (possibly with a diagonal matrix in between).\n",
        "\n",
        "Notice that this representation does not take into account word order or sentence structure.  It's an example of a **bag of words** approach."
      ]
    },
    {
      "cell_type": "markdown",
      "metadata": {
        "id": "froPemADeUzu"
      },
      "source": [
        "### Motivation"
      ]
    },
    {
      "cell_type": "markdown",
      "metadata": {
        "id": "1Fz9usiWeUzv"
      },
      "source": [
        "Consider the most extreme case - reconstructing the matrix using an outer product of two vectors. Clearly, in most cases we won't be able to reconstruct the matrix exactly. But if we had one vector with the relative frequency of each vocabulary word out of the total word count, and one with the average number of words per document, then that outer product would be as close as we can get.\n",
        "\n",
        "Now consider increasing that matrices to two columns and two rows. The optimal decomposition would now be to cluster the documents into two groups, each of which has as different a distribution of words as possible to each other, but as similar as possible amongst the documents in the cluster. We will call those two groups \"topics\". And we would cluster the words into two groups, based on those which most frequently appear in each of the topics. "
      ]
    },
    {
      "cell_type": "markdown",
      "metadata": {
        "id": "YotB7fK5eUzv"
      },
      "source": [
        "### In today's class"
      ]
    },
    {
      "cell_type": "markdown",
      "metadata": {
        "id": "2SRakzYyeUzw"
      },
      "source": [
        "We'll take a dataset of documents in several different categories, and find topics (consisting of groups of words) for them.  Knowing the actual categories helps us evaluate if the topics we find make sense.\n",
        "\n",
        "We will try this with two different matrix factorizations: **Singular Value Decomposition (SVD)** and **Non-negative Matrix Factorization (NMF)**"
      ]
    },
    {
      "cell_type": "code",
      "execution_count": 1,
      "metadata": {
        "collapsed": true,
        "id": "QCdJzmNReUzw"
      },
      "outputs": [],
      "source": [
        "import numpy as np\n",
        "from sklearn.datasets import fetch_20newsgroups\n",
        "from sklearn import decomposition\n",
        "from scipy import linalg\n",
        "\n",
        "from sklearn.feature_extraction.text import CountVectorizer, TfidfVectorizer\n",
        "\n",
        "import matplotlib.pyplot as plt"
      ]
    },
    {
      "cell_type": "code",
      "execution_count": 2,
      "metadata": {
        "collapsed": true,
        "id": "zYnMWUSmeUzy"
      },
      "outputs": [],
      "source": [
        "%matplotlib inline\n",
        "np.set_printoptions(suppress=True)"
      ]
    },
    {
      "cell_type": "markdown",
      "metadata": {
        "id": "HWcSDy-zeUzz"
      },
      "source": [
        "## Additional Resources"
      ]
    },
    {
      "cell_type": "markdown",
      "metadata": {
        "id": "135JxlUieUzz"
      },
      "source": [
        "- [Data source](http://scikit-learn.org/stable/datasets/twenty_newsgroups.html): Newsgroups are discussion groups on Usenet, which was popular in the 80s and 90s before the web really took off.  This dataset includes 18,000 newsgroups posts with 20 topics.\n",
        "- [Chris Manning's book chapter](https://nlp.stanford.edu/IR-book/pdf/18lsi.pdf) on matrix factorization and LSI \n",
        "- Scikit learn [truncated SVD LSI details](http://scikit-learn.org/stable/modules/decomposition.html#lsa)\n",
        "\n",
        "### Other Tutorials\n",
        "- [Scikit-Learn: Out-of-core classification of text documents](http://scikit-learn.org/stable/auto_examples/applications/plot_out_of_core_classification.html): uses [Reuters-21578](https://archive.ics.uci.edu/ml/datasets/reuters-21578+text+categorization+collection) dataset (Reuters articles labeled with ~100 categories), HashingVectorizer\n",
        "- [Text Analysis with Topic Models for the Humanities and Social Sciences](https://de.dariah.eu/tatom/index.html): uses [British and French Literature dataset](https://de.dariah.eu/tatom/datasets.html) of Jane Austen, Charlotte Bronte, Victor Hugo, and more"
      ]
    },
    {
      "cell_type": "markdown",
      "metadata": {
        "id": "8gBfMCojeUzz"
      },
      "source": [
        "## Set up data"
      ]
    },
    {
      "cell_type": "markdown",
      "metadata": {
        "id": "xKVNAbzxeUz0"
      },
      "source": [
        "Scikit Learn comes with a number of built-in datasets, as well as loading utilities to load several standard external datasets. This is a [great resource](http://scikit-learn.org/stable/datasets/), and the datasets include Boston housing prices, face images, patches of forest, diabetes, breast cancer, and more.  We will be using the newsgroups dataset.\n",
        "\n",
        "Newsgroups are discussion groups on Usenet, which was popular in the 80s and 90s before the web really took off.  This dataset includes 18,000 newsgroups posts with 20 topics.  "
      ]
    },
    {
      "cell_type": "code",
      "execution_count": 3,
      "metadata": {
        "collapsed": true,
        "id": "SdRlqqWZeUz0"
      },
      "outputs": [],
      "source": [
        "categories = ['alt.atheism', 'talk.religion.misc', 'comp.graphics', 'sci.space']\n",
        "remove = ('headers', 'footers', 'quotes')\n",
        "newsgroups_train = fetch_20newsgroups(subset='train', categories=categories, remove=remove)\n",
        "newsgroups_test = fetch_20newsgroups(subset='test', categories=categories, remove=remove)"
      ]
    },
    {
      "cell_type": "code",
      "execution_count": 4,
      "metadata": {
        "id": "FtjZ05exeUz0",
        "outputId": "7fcb7552-ec23-485b-b163-9d28928a95e4",
        "colab": {
          "base_uri": "https://localhost:8080/"
        }
      },
      "outputs": [
        {
          "output_type": "execute_result",
          "data": {
            "text/plain": [
              "((2034,), (2034,))"
            ]
          },
          "metadata": {},
          "execution_count": 4
        }
      ],
      "source": [
        "newsgroups_train.filenames.shape, newsgroups_train.target.shape"
      ]
    },
    {
      "cell_type": "markdown",
      "metadata": {
        "id": "2-qT9ay7eUz1"
      },
      "source": [
        "Let's look at some of the data.  Can you guess which category these messages are in?"
      ]
    },
    {
      "cell_type": "code",
      "execution_count": null,
      "metadata": {
        "id": "sGdLZxSmeUz2",
        "outputId": "1df7ae78-335d-41ec-e847-8117389cc6fd",
        "colab": {
          "base_uri": "https://localhost:8080/"
        }
      },
      "outputs": [
        {
          "output_type": "stream",
          "name": "stdout",
          "text": [
            "Hi,\n",
            "\n",
            "I've noticed that if you only save a model (with all your mapping planes\n",
            "positioned carefully) to a .3DS file that when you reload it after restarting\n",
            "3DS, they are given a default position and orientation.  But if you save\n",
            "to a .PRJ file their positions/orientation are preserved.  Does anyone\n",
            "know why this information is not stored in the .3DS file?  Nothing is\n",
            "explicitly said in the manual about saving texture rules in the .PRJ file. \n",
            "I'd like to be able to read the texture rule information, does anyone have \n",
            "the format for the .PRJ file?\n",
            "\n",
            "Is the .CEL file format available from somewhere?\n",
            "\n",
            "Rych\n",
            "\n",
            "\n",
            "Seems to be, barring evidence to the contrary, that Koresh was simply\n",
            "another deranged fanatic who thought it neccessary to take a whole bunch of\n",
            "folks with him, children and all, to satisfy his delusional mania. Jim\n",
            "Jones, circa 1993.\n",
            "\n",
            "\n",
            "Nope - fruitcakes like Koresh have been demonstrating such evil corruption\n",
            "for centuries.\n",
            "\n",
            " >In article <1993Apr19.020359.26996@sq.sq.com>, msb@sq.sq.com (Mark Brader) \n",
            "\n",
            "MB>                                                             So the\n",
            "MB> 1970 figure seems unlikely to actually be anything but a perijove.\n",
            "\n",
            "JG>Sorry, _perijoves_...I'm not used to talking this language.\n",
            "\n",
            "Couldn't we just say periapsis or apoapsis?\n",
            "\n",
            " \n"
          ]
        }
      ],
      "source": [
        "print(\"\\n\".join(newsgroups_train.data[:3]))"
      ]
    },
    {
      "cell_type": "markdown",
      "metadata": {
        "id": "D2ZLhcEAeUz2"
      },
      "source": [
        "hint: definition of *perijove* is the point in the orbit of a satellite of Jupiter nearest the planet's center "
      ]
    },
    {
      "cell_type": "code",
      "execution_count": null,
      "metadata": {
        "id": "_ESKeEo3eUz2",
        "outputId": "20cba13f-61f8-4b12-d537-a323ae261d0e",
        "colab": {
          "base_uri": "https://localhost:8080/"
        }
      },
      "outputs": [
        {
          "output_type": "execute_result",
          "data": {
            "text/plain": [
              "array(['comp.graphics', 'talk.religion.misc', 'sci.space'], dtype='<U18')"
            ]
          },
          "metadata": {},
          "execution_count": 6
        }
      ],
      "source": [
        "np.array(newsgroups_train.target_names)[newsgroups_train.target[:3]]"
      ]
    },
    {
      "cell_type": "markdown",
      "metadata": {
        "id": "xbgrWNvoeUz2"
      },
      "source": [
        "The target attribute is the integer index of the category."
      ]
    },
    {
      "cell_type": "code",
      "execution_count": 5,
      "metadata": {
        "id": "1PDbzIBXeUz3",
        "outputId": "00e82a51-9aca-41bf-a910-6dd886465825",
        "colab": {
          "base_uri": "https://localhost:8080/"
        }
      },
      "outputs": [
        {
          "output_type": "execute_result",
          "data": {
            "text/plain": [
              "array([1, 3, 2, 0, 2, 0, 2, 1, 2, 1])"
            ]
          },
          "metadata": {},
          "execution_count": 5
        }
      ],
      "source": [
        "newsgroups_train.target[:10]"
      ]
    },
    {
      "cell_type": "code",
      "execution_count": 6,
      "metadata": {
        "collapsed": true,
        "id": "pC-OIZSjeUz3"
      },
      "outputs": [],
      "source": [
        "num_topics, num_top_words = 6, 8"
      ]
    },
    {
      "cell_type": "markdown",
      "metadata": {
        "id": "6arz6FbqeUz3"
      },
      "source": [
        "Next, scikit learn has a method that will extract all the word counts for us."
      ]
    },
    {
      "cell_type": "code",
      "execution_count": 7,
      "metadata": {
        "id": "gB9AgtfEeUz3",
        "outputId": "4854fb53-201a-44c9-eac3-38f90b7f93e7",
        "colab": {
          "base_uri": "https://localhost:8080/"
        }
      },
      "outputs": [
        {
          "output_type": "execute_result",
          "data": {
            "text/plain": [
              "(2034, 26576)"
            ]
          },
          "metadata": {},
          "execution_count": 7
        }
      ],
      "source": [
        "vectorizer = CountVectorizer(stop_words='english')\n",
        "vectors = vectorizer.fit_transform(newsgroups_train.data).todense() # (documents, vocab)\n",
        "vectors.shape #, vectors.nnz / vectors.shape[0], row_means.shape"
      ]
    },
    {
      "cell_type": "code",
      "execution_count": null,
      "metadata": {
        "id": "MxLxq3cBeUz4",
        "outputId": "87c952b6-31fa-4b52-86b8-ac61362836fe",
        "colab": {
          "base_uri": "https://localhost:8080/"
        }
      },
      "outputs": [
        {
          "output_type": "stream",
          "name": "stdout",
          "text": [
            "2034 (2034, 26576)\n"
          ]
        }
      ],
      "source": [
        "print(len(newsgroups_train.data), vectors.shape)"
      ]
    },
    {
      "cell_type": "code",
      "execution_count": 8,
      "metadata": {
        "collapsed": true,
        "id": "2DbORxt9eUz4"
      },
      "outputs": [],
      "source": [
        "vocab = np.array(vectorizer.get_feature_names_out())"
      ]
    },
    {
      "cell_type": "code",
      "execution_count": null,
      "metadata": {
        "id": "CCPid-t4eUz4",
        "outputId": "63e8e802-1ce6-427f-c9cd-5c1f324bc774",
        "colab": {
          "base_uri": "https://localhost:8080/"
        }
      },
      "outputs": [
        {
          "output_type": "execute_result",
          "data": {
            "text/plain": [
              "(26576,)"
            ]
          },
          "metadata": {},
          "execution_count": 12
        }
      ],
      "source": [
        "vocab.shape"
      ]
    },
    {
      "cell_type": "code",
      "execution_count": null,
      "metadata": {
        "id": "bKUHcIA-eUz4",
        "outputId": "27c88178-1280-4bdc-a258-897a4a4500b9",
        "colab": {
          "base_uri": "https://localhost:8080/"
        }
      },
      "outputs": [
        {
          "output_type": "execute_result",
          "data": {
            "text/plain": [
              "array(['cosmonauts', 'cosmos', 'cosponsored', 'cost', 'costa', 'costar',\n",
              "       'costing', 'costly', 'costruction', 'costs', 'cosy', 'cote',\n",
              "       'couched', 'couldn', 'council', 'councils', 'counsel',\n",
              "       'counselees', 'counselor', 'count'], dtype=object)"
            ]
          },
          "metadata": {},
          "execution_count": 13
        }
      ],
      "source": [
        "vocab[7000:7020]"
      ]
    },
    {
      "cell_type": "markdown",
      "metadata": {
        "id": "Uh-W4uSVeUz5"
      },
      "source": [
        "## Singular Value Decomposition (SVD)"
      ]
    },
    {
      "cell_type": "markdown",
      "metadata": {
        "id": "yled5Uq9eUz5"
      },
      "source": [
        "\"SVD is not nearly as famous as it should be.\" - Gilbert Strang"
      ]
    },
    {
      "cell_type": "markdown",
      "metadata": {
        "id": "6avva3LKeUz5"
      },
      "source": [
        "We would clearly expect that the words that appear most frequently in one topic would appear less frequently in the other - otherwise that word wouldn't make a good choice to separate out the two topics. Therefore, we expect the topics to be **orthogonal**.\n",
        "\n",
        "The SVD algorithm factorizes a matrix into one matrix with **orthogonal columns** and one with **orthogonal rows** (along with a diagonal matrix, which contains the **relative importance** of each factor).\n",
        "\n",
        "<img src=\"https://github.com/fastai/numerical-linear-algebra/blob/master/nbs/images/svd_fb.png?raw=1\" alt=\"\" style=\"width: 80%\"/>\n",
        "(source: [Facebook Research: Fast Randomized SVD](https://research.fb.com/fast-randomized-svd/))\n",
        "\n",
        "SVD is an **exact decomposition**, since the matrices it creates are big enough to fully cover the original matrix. SVD is extremely widely used in linear algebra, and specifically in data science, including:\n",
        "\n",
        "- semantic analysis\n",
        "- collaborative filtering/recommendations ([winning entry for Netflix Prize](https://datajobs.com/data-science-repo/Recommender-Systems-%5BNetflix%5D.pdf))\n",
        "- calculate Moore-Penrose pseudoinverse\n",
        "- data compression\n",
        "- principal component analysis (will be covered later in course)"
      ]
    },
    {
      "cell_type": "code",
      "execution_count": 13,
      "metadata": {
        "id": "zzpBuhF9eUz5",
        "outputId": "576b9395-5dc3-41e4-ee26-b4fc44ec8c45",
        "colab": {
          "base_uri": "https://localhost:8080/"
        }
      },
      "outputs": [
        {
          "output_type": "stream",
          "name": "stdout",
          "text": [
            "CPU times: user 1min 14s, sys: 5.36 s, total: 1min 20s\n",
            "Wall time: 48.3 s\n"
          ]
        }
      ],
      "source": [
        "%time U, s, Vh = linalg.svd(vectors, full_matrices=False)"
      ]
    },
    {
      "cell_type": "code",
      "execution_count": 14,
      "metadata": {
        "id": "haZ8RhmXeUz5",
        "outputId": "00730f30-dc45-49ec-d6e7-515dc1ab6dc5",
        "colab": {
          "base_uri": "https://localhost:8080/"
        }
      },
      "outputs": [
        {
          "output_type": "stream",
          "name": "stdout",
          "text": [
            "(2034, 2034) (2034,) (2034, 26576)\n"
          ]
        }
      ],
      "source": [
        "print(U.shape, s.shape, Vh.shape)"
      ]
    },
    {
      "cell_type": "markdown",
      "metadata": {
        "id": "TQWj31i8eUz6"
      },
      "source": [
        "Confirm this is a decomposition of the input."
      ]
    },
    {
      "cell_type": "markdown",
      "metadata": {
        "id": "zdRI4B07eUz6"
      },
      "source": [
        "#### Answer"
      ]
    },
    {
      "cell_type": "code",
      "execution_count": 15,
      "metadata": {
        "id": "_f9PG4JpeUz6",
        "outputId": "0d7505ac-e486-48d6-cada-ea68e59abcee",
        "colab": {
          "base_uri": "https://localhost:8080/"
        }
      },
      "outputs": [
        {
          "output_type": "stream",
          "name": "stdout",
          "text": [
            "True\n"
          ]
        }
      ],
      "source": [
        "#Exercise: confrim that U, s, Vh is a decomposition of the var Vectors\n",
        "A = np.matmul(np.matmul(U, np.diag(s)), Vh)\n",
        "\n",
        "if A.shape == (2034, 26576):\n",
        "  print(True)\n",
        "else:\n",
        "  print(False)"
      ]
    },
    {
      "cell_type": "code",
      "source": [
        "reconstructed_vectors = U @ np.diag(s) @ Vh\n",
        "np.linalg.norm(reconstructed_vectors - vectors)\n",
        "np.allclose(reconstructed_vectors, vectors)"
      ],
      "metadata": {
        "id": "HRMeGV_RH3mX",
        "outputId": "56a20a71-b3ad-4065-956c-17a9af57af17",
        "colab": {
          "base_uri": "https://localhost:8080/"
        }
      },
      "execution_count": 16,
      "outputs": [
        {
          "output_type": "execute_result",
          "data": {
            "text/plain": [
              "True"
            ]
          },
          "metadata": {},
          "execution_count": 16
        }
      ]
    },
    {
      "cell_type": "markdown",
      "metadata": {
        "id": "mx9a2FFkeUz6"
      },
      "source": [
        "Confirm that U, V are orthonormal"
      ]
    },
    {
      "cell_type": "markdown",
      "metadata": {
        "id": "z94yxx2ZeUz6"
      },
      "source": [
        "#### Answer"
      ]
    },
    {
      "cell_type": "code",
      "execution_count": null,
      "metadata": {
        "id": "lb58jyKneUz6"
      },
      "outputs": [],
      "source": [
        "#Exercise: Confirm that U, Vh are orthonormal\n",
        "A = U.dot(Vh) * Vh        # make it orthogonal to Vh\n",
        "A = A / np.linalg.norm(A) # normalize it"
      ]
    },
    {
      "cell_type": "code",
      "source": [
        "A.shape"
      ],
      "metadata": {
        "id": "_JkNPy7gumZH",
        "outputId": "e326ddb7-861c-4e27-d134-5a14034b92d5",
        "colab": {
          "base_uri": "https://localhost:8080/"
        }
      },
      "execution_count": null,
      "outputs": [
        {
          "output_type": "execute_result",
          "data": {
            "text/plain": [
              "(2034, 26576)"
            ]
          },
          "metadata": {},
          "execution_count": 40
        }
      ]
    },
    {
      "cell_type": "code",
      "source": [
        "np.allclose(U.T @ U, np.eye(U.shape[0]))\n",
        "np.allclose(Vh @ Vh.T, np.eye(Vh.shape[0]))"
      ],
      "metadata": {
        "id": "A4tlA6j6JLWX",
        "outputId": "ae107662-6781-4a66-f45d-71015404bc94",
        "colab": {
          "base_uri": "https://localhost:8080/"
        }
      },
      "execution_count": null,
      "outputs": [
        {
          "output_type": "execute_result",
          "data": {
            "text/plain": [
              "True"
            ]
          },
          "metadata": {},
          "execution_count": 18
        }
      ]
    },
    {
      "cell_type": "markdown",
      "metadata": {
        "id": "oI1HAZAdeUz7"
      },
      "source": [
        "#### Topics"
      ]
    },
    {
      "cell_type": "markdown",
      "metadata": {
        "id": "2Id7__3heUz7"
      },
      "source": [
        "What can we say about the singular values s?"
      ]
    },
    {
      "cell_type": "code",
      "execution_count": null,
      "metadata": {
        "id": "jQasnhPgeUz7",
        "outputId": "1db2f7e1-c577-4592-a6ef-5479b6c23075",
        "colab": {
          "base_uri": "https://localhost:8080/",
          "height": 265
        }
      },
      "outputs": [
        {
          "output_type": "display_data",
          "data": {
            "text/plain": [
              "<Figure size 432x288 with 1 Axes>"
            ],
            "image/png": "[encoded data removed]"
          },
          "metadata": {
            "needs_background": "light"
          }
        }
      ],
      "source": [
        "plt.plot(s);"
      ]
    },
    {
      "cell_type": "code",
      "execution_count": null,
      "metadata": {
        "id": "HR3v8f-xeUz7",
        "outputId": "1975d9e5-cb74-45d0-debc-b21840ef79a8",
        "colab": {
          "base_uri": "https://localhost:8080/",
          "height": 282
        }
      },
      "outputs": [
        {
          "output_type": "execute_result",
          "data": {
            "text/plain": [
              "[<matplotlib.lines.Line2D at 0x7ff734084c70>]"
            ]
          },
          "metadata": {},
          "execution_count": 42
        },
        {
          "output_type": "display_data",
          "data": {
            "text/plain": [
              "<Figure size 432x288 with 1 Axes>"
            ],
            "image/png": "[encoded data removed]"
          },
          "metadata": {
            "needs_background": "light"
          }
        }
      ],
      "source": [
        "plt.plot(s[:10])"
      ]
    },
    {
      "cell_type": "code",
      "execution_count": 17,
      "metadata": {
        "collapsed": true,
        "id": "N_W4x5KNeUz7"
      },
      "outputs": [],
      "source": [
        "num_top_words=8\n",
        "\n",
        "def show_topics(a):\n",
        "    top_words = lambda t: [vocab[i] for i in np.argsort(t)[:-num_top_words-1:-1]]\n",
        "    topic_words = ([top_words(t) for t in a])\n",
        "    return [' '.join(t) for t in topic_words]"
      ]
    },
    {
      "cell_type": "code",
      "execution_count": null,
      "metadata": {
        "id": "_PtGlePQeUz8",
        "outputId": "976a14a2-d442-446e-b5de-bf17daa8b0f6",
        "colab": {
          "base_uri": "https://localhost:8080/"
        }
      },
      "outputs": [
        {
          "output_type": "execute_result",
          "data": {
            "text/plain": [
              "['ditto critus propagandist surname galacticentric kindergarten surreal imaginative',\n",
              " 'jpeg gif file color quality image jfif format',\n",
              " 'graphics edu pub mail 128 3d ray ftp',\n",
              " 'jesus god matthew people atheists atheism does graphics',\n",
              " 'image data processing analysis software available tools display',\n",
              " 'god atheists atheism religious believe religion argument true',\n",
              " 'space nasa lunar mars probe moon missions probes',\n",
              " 'image probe surface lunar mars probes moon orbit',\n",
              " 'argument fallacy conclusion example true ad argumentum premises',\n",
              " 'space larson image theory universe physical nasa material']"
            ]
          },
          "metadata": {},
          "execution_count": 44
        }
      ],
      "source": [
        "show_topics(Vh[:10])"
      ]
    },
    {
      "cell_type": "markdown",
      "metadata": {
        "id": "T1Lq414aeUz8"
      },
      "source": [
        "We get topics that match the kinds of clusters we would expect! This is despite the fact that this is an **unsupervised algorithm** - which is to say, we never actually told the algorithm how our documents are grouped."
      ]
    },
    {
      "cell_type": "markdown",
      "metadata": {
        "id": "txHtVn1HeUz8"
      },
      "source": [
        "We will return to SVD in **much more detail** later.  \n",
        "\n",
        "For now, the important takeaway is that we have a tool that allows us to exactly factor a matrix into orthogonal columns and orthogonal rows."
      ]
    },
    {
      "cell_type": "markdown",
      "metadata": {
        "id": "CIyDCfhUeUz8"
      },
      "source": [
        "## Non-negative Matrix Factorization (NMF)"
      ]
    },
    {
      "cell_type": "markdown",
      "metadata": {
        "heading_collapsed": true,
        "id": "SKjf5N_VeUz8"
      },
      "source": [
        "#### Motivation"
      ]
    },
    {
      "cell_type": "markdown",
      "metadata": {
        "hidden": true,
        "id": "vzYCIiJMeUz8"
      },
      "source": [
        "<img src=\"https://github.com/fastai/numerical-linear-algebra/blob/master/nbs/images/face_pca.png?raw=1\" alt=\"PCA on faces\" style=\"width: 80%\"/>\n",
        "\n",
        "(source: [NMF Tutorial](http://perso.telecom-paristech.fr/~essid/teach/NMF_tutorial_ICME-2014.pdf))\n",
        "\n",
        "A more interpretable approach:\n",
        "\n",
        "<img src=\"https://github.com/fastai/numerical-linear-algebra/blob/master/nbs/images/face_outputs.png?raw=1\" alt=\"NMF on Faces\" style=\"width: 80%\"/>\n",
        "\n",
        "(source: [NMF Tutorial](http://perso.telecom-paristech.fr/~essid/teach/NMF_tutorial_ICME-2014.pdf))"
      ]
    },
    {
      "cell_type": "markdown",
      "metadata": {
        "heading_collapsed": true,
        "id": "q_cbrYeFeUz8"
      },
      "source": [
        "#### Idea"
      ]
    },
    {
      "cell_type": "markdown",
      "metadata": {
        "hidden": true,
        "id": "KxCeOPZteUz9"
      },
      "source": [
        "Rather than constraining our factors to be *orthogonal*, another idea would to constrain them to be *non-negative*. NMF is a factorization of a non-negative data set $V$: $$ V = W H$$ into non-negative matrices $W,\\; H$. \n",
        "\n",
        "Often positive factors will be **more easily interpretable** (and this is the reason behind NMF's popularity). \n",
        "\n",
        "<img src=\"https://github.com/fastai/numerical-linear-algebra/blob/master/nbs/images/face_nmf.png?raw=1\" alt=\"NMF on faces\" style=\"width: 80%\"/>\n",
        "\n",
        "(source: [NMF Tutorial](http://perso.telecom-paristech.fr/~essid/teach/NMF_tutorial_ICME-2014.pdf))\n",
        "\n",
        "Nonnegative matrix factorization (NMF) is a non-exact factorization that factors into one skinny positive matrix and one short positive matrix.  NMF is NP-hard and non-unique.  There are a number of variations on it, created by adding different constraints. "
      ]
    },
    {
      "cell_type": "markdown",
      "metadata": {
        "heading_collapsed": true,
        "id": "m7diz3KJeUz9"
      },
      "source": [
        "#### Applications of NMF"
      ]
    },
    {
      "cell_type": "markdown",
      "metadata": {
        "hidden": true,
        "id": "OPtEi8jheUz9"
      },
      "source": [
        "- [Face Decompositions](http://scikit-learn.org/stable/auto_examples/decomposition/plot_faces_decomposition.html#sphx-glr-auto-examples-decomposition-plot-faces-decomposition-py)\n",
        "- [Collaborative Filtering, eg movie recommendations](http://www.quuxlabs.com/blog/2010/09/matrix-factorization-a-simple-tutorial-and-implementation-in-python/)\n",
        "- [Audio source separation](https://pdfs.semanticscholar.org/cc88/0b24791349df39c5d9b8c352911a0417df34.pdf)\n",
        "- [Chemistry](http://ieeexplore.ieee.org/document/1532909/)\n",
        "- [Bioinformatics](https://bmcbioinformatics.biomedcentral.com/articles/10.1186/s12859-015-0485-4) and [Gene Expression](https://www.ncbi.nlm.nih.gov/pmc/articles/PMC2623306/)\n",
        "- Topic Modeling (our problem!)\n",
        "\n",
        "<img src=\"https://github.com/fastai/numerical-linear-algebra/blob/master/nbs/images/nmf_doc.png?raw=1\" alt=\"NMF on documents\" style=\"width: 80%\"/>\n",
        "\n",
        "(source: [NMF Tutorial](http://perso.telecom-paristech.fr/~essid/teach/NMF_tutorial_ICME-2014.pdf))"
      ]
    },
    {
      "cell_type": "markdown",
      "metadata": {
        "hidden": true,
        "id": "gF1lVPyGeUz9"
      },
      "source": [
        "**More Reading**:\n",
        "\n",
        "- [The Why and How of Nonnegative Matrix Factorization](https://arxiv.org/pdf/1401.5226.pdf)"
      ]
    },
    {
      "cell_type": "markdown",
      "metadata": {
        "heading_collapsed": true,
        "id": "XwIS3RYGeUz9"
      },
      "source": [
        "### NMF from sklearn"
      ]
    },
    {
      "cell_type": "markdown",
      "metadata": {
        "hidden": true,
        "id": "HkpGWWtPeUz9"
      },
      "source": [
        "First, we will use [scikit-learn's implementation of NMF](http://scikit-learn.org/stable/modules/generated/sklearn.decomposition.NMF.html):"
      ]
    },
    {
      "cell_type": "code",
      "execution_count": 9,
      "metadata": {
        "collapsed": true,
        "hidden": true,
        "id": "OQL1FPJeeUz9"
      },
      "outputs": [],
      "source": [
        "m, n = vectors.shape\n",
        "d = 5  # num topics"
      ]
    },
    {
      "cell_type": "code",
      "execution_count": 11,
      "metadata": {
        "collapsed": true,
        "hidden": true,
        "id": "gwrzr7_2eUz-"
      },
      "outputs": [],
      "source": [
        "clf = decomposition.NMF(n_components=d, random_state=1)\n",
        "\n",
        "W1 = clf.fit_transform(np.asarray(vectors))\n",
        "H1 = clf.components_"
      ]
    },
    {
      "cell_type": "code",
      "execution_count": 18,
      "metadata": {
        "hidden": true,
        "id": "nd5pRX_SeUz-",
        "outputId": "644a4f22-51f2-42e4-e7f3-8e08dd6fa8bb",
        "colab": {
          "base_uri": "https://localhost:8080/"
        }
      },
      "outputs": [
        {
          "output_type": "execute_result",
          "data": {
            "text/plain": [
              "['jpeg image gif file color images format quality',\n",
              " 'edu graphics pub mail 128 ray ftp send',\n",
              " 'space launch satellite nasa commercial satellites year market',\n",
              " 'jesus god people matthew atheists does atheism said',\n",
              " 'image data available software processing ftp edu analysis']"
            ]
          },
          "metadata": {},
          "execution_count": 18
        }
      ],
      "source": [
        "show_topics(H1)"
      ]
    },
    {
      "cell_type": "markdown",
      "metadata": {
        "heading_collapsed": true,
        "id": "qPb4t52keUz-"
      },
      "source": [
        "### TF-IDF"
      ]
    },
    {
      "cell_type": "markdown",
      "metadata": {
        "hidden": true,
        "id": "AV7xBfOIeUz-"
      },
      "source": [
        "[Topic Frequency-Inverse Document Frequency](http://www.tfidf.com/) (TF-IDF) is a way to normalize term counts by taking into account how often they appear in a document, how long the document is, and how commmon/rare the term is.\n",
        "\n",
        "TF = (# occurrences of term t in document) / (# of words in documents)\n",
        "\n",
        "IDF = log(# of documents / # documents with term t in it)"
      ]
    },
    {
      "cell_type": "code",
      "source": [
        "newsgroups_train.data[:2]"
      ],
      "metadata": {
        "id": "3DV3BmhpgkxR",
        "outputId": "eef7c034-18d9-4760-fc97-a883205469fa",
        "colab": {
          "base_uri": "https://localhost:8080/"
        }
      },
      "execution_count": 21,
      "outputs": [
        {
          "output_type": "execute_result",
          "data": {
            "text/plain": [
              "[\"Hi,\\n\\nI've noticed that if you only save a model (with all your mapping planes\\npositioned carefully) to a .3DS file that when you reload it after restarting\\n3DS, they are given a default position and orientation.  But if you save\\nto a .PRJ file their positions/orientation are preserved.  Does anyone\\nknow why this information is not stored in the .3DS file?  Nothing is\\nexplicitly said in the manual about saving texture rules in the .PRJ file. \\nI'd like to be able to read the texture rule information, does anyone have \\nthe format for the .PRJ file?\\n\\nIs the .CEL file format available from somewhere?\\n\\nRych\",\n",
              " '\\n\\nSeems to be, barring evidence to the contrary, that Koresh was simply\\nanother deranged fanatic who thought it neccessary to take a whole bunch of\\nfolks with him, children and all, to satisfy his delusional mania. Jim\\nJones, circa 1993.\\n\\n\\nNope - fruitcakes like Koresh have been demonstrating such evil corruption\\nfor centuries.']"
            ]
          },
          "metadata": {},
          "execution_count": 21
        }
      ]
    },
    {
      "cell_type": "code",
      "execution_count": 19,
      "metadata": {
        "collapsed": true,
        "hidden": true,
        "id": "wKQMRyUSeUz-"
      },
      "outputs": [],
      "source": [
        "vectorizer_tfidf = TfidfVectorizer(stop_words='english')\n",
        "vectors_tfidf = vectorizer_tfidf.fit_transform(newsgroups_train.data) # (documents, vocab)"
      ]
    },
    {
      "cell_type": "code",
      "execution_count": 22,
      "metadata": {
        "collapsed": true,
        "hidden": true,
        "id": "CGHPG4kieUz_"
      },
      "outputs": [],
      "source": [
        "W1 = clf.fit_transform(vectors_tfidf)\n",
        "H1 = clf.components_"
      ]
    },
    {
      "cell_type": "code",
      "execution_count": 23,
      "metadata": {
        "hidden": true,
        "id": "xZZ8PInUeUz_",
        "outputId": "3d9ccd3b-4c90-4d20-e185-4b666c68dd46",
        "colab": {
          "base_uri": "https://localhost:8080/"
        }
      },
      "outputs": [
        {
          "output_type": "execute_result",
          "data": {
            "text/plain": [
              "['people don think just like objective say morality',\n",
              " 'graphics thanks files image file program windows know',\n",
              " 'space nasa launch shuttle orbit moon lunar earth',\n",
              " 'ico bobbe tek beauchaine bronx manhattan sank queens',\n",
              " 'god jesus bible believe christian atheism does belief']"
            ]
          },
          "metadata": {},
          "execution_count": 23
        }
      ],
      "source": [
        "show_topics(H1)"
      ]
    },
    {
      "cell_type": "code",
      "execution_count": 24,
      "metadata": {
        "hidden": true,
        "id": "GZAe1fnPeUz_",
        "outputId": "2e55be3b-1dd8-47de-dddd-5bb4ef2e72a8",
        "colab": {
          "base_uri": "https://localhost:8080/",
          "height": 282
        }
      },
      "outputs": [
        {
          "output_type": "execute_result",
          "data": {
            "text/plain": [
              "[<matplotlib.lines.Line2D at 0x7f81133763a0>]"
            ]
          },
          "metadata": {},
          "execution_count": 24
        },
        {
          "output_type": "display_data",
          "data": {
            "text/plain": [
              "<Figure size 432x288 with 1 Axes>"
            ],
            "image/png": "[encoded data removed]"
          },
          "metadata": {
            "needs_background": "light"
          }
        }
      ],
      "source": [
        "plt.plot(clf.components_[0])"
      ]
    },
    {
      "cell_type": "code",
      "execution_count": 25,
      "metadata": {
        "hidden": true,
        "id": "WQ08AaNjeUz_",
        "outputId": "2891872d-3be1-4129-d667-9db5f2247ee9",
        "colab": {
          "base_uri": "https://localhost:8080/"
        }
      },
      "outputs": [
        {
          "output_type": "execute_result",
          "data": {
            "text/plain": [
              "43.7129260634869"
            ]
          },
          "metadata": {},
          "execution_count": 25
        }
      ],
      "source": [
        "clf.reconstruction_err_"
      ]
    },
    {
      "cell_type": "markdown",
      "metadata": {
        "heading_collapsed": true,
        "id": "u2fnKPp-eUz_"
      },
      "source": [
        "### NMF in summary"
      ]
    },
    {
      "cell_type": "markdown",
      "metadata": {
        "hidden": true,
        "id": "yfFLCU1qeU0A"
      },
      "source": [
        "Benefits: Fast and easy to use!\n",
        "\n",
        "Downsides: took years of research and expertise to create"
      ]
    },
    {
      "cell_type": "markdown",
      "metadata": {
        "hidden": true,
        "id": "qE2DmiJheU0A"
      },
      "source": [
        "Notes:\n",
        "- For NMF, matrix needs to be at least as tall as it is wide, or we get an error with fit_transform\n",
        "- Can use df_min in CountVectorizer to only look at words that were in at least k of the split texts"
      ]
    },
    {
      "cell_type": "markdown",
      "metadata": {
        "heading_collapsed": true,
        "id": "8C4F5F3SeU0A"
      },
      "source": [
        "### NMF from scratch in numpy, using SGD"
      ]
    },
    {
      "cell_type": "markdown",
      "metadata": {
        "hidden": true,
        "id": "R3oBADW7eU0A"
      },
      "source": [
        "#### Gradient Descent"
      ]
    },
    {
      "cell_type": "markdown",
      "metadata": {
        "hidden": true,
        "id": "w0fABQEVeU0A"
      },
      "source": [
        "The key idea of standard **gradient descent**:\n",
        "1. Randomly choose some weights to start\n",
        "2. Loop:\n",
        "    - Use weights to calculate a prediction\n",
        "    - Calculate the derivative of the loss\n",
        "    - Update the weights\n",
        "3. Repeat step 2 lots of times.  Eventually we end up with some decent weights.\n",
        "\n",
        "**Key**: We want to decrease our loss and the derivative tells us the direction of **steepest descent**.  \n",
        "\n",
        "Note that *loss*, *error*, and *cost* are all terms used to describe the same thing.\n",
        "\n",
        "Let's take a look at the [Gradient Descent Intro notebook](gradient-descent-intro.ipynb) (originally from the [fast.ai deep learning course](https://github.com/fastai/courses))."
      ]
    },
    {
      "cell_type": "markdown",
      "metadata": {
        "heading_collapsed": true,
        "hidden": true,
        "id": "gbzMUF8oeU0A"
      },
      "source": [
        "#### Stochastic Gradient Descent (SGD)"
      ]
    },
    {
      "cell_type": "markdown",
      "metadata": {
        "hidden": true,
        "id": "aWuGsL4IeU0B"
      },
      "source": [
        "**Stochastic gradient descent** is an incredibly useful optimization method (it is also the heart of deep learning, where it is used for backpropagation).\n",
        "\n",
        "For *standard* gradient descent, we evaluate the loss using **all** of our data which can be really slow.  In *stochastic* gradient descent, we evaluate our loss function on just a sample of our data (sometimes called a *mini-batch*).  We would get different loss values on different samples of the data, so this is *why it is stochastic*.  It turns out that this is still an effective way to optimize, and it's much more efficient!\n",
        "\n",
        "We can see how this works in this [excel spreadsheet](graddesc.xlsm) (originally from the [fast.ai deep learning course](https://github.com/fastai/courses)).\n",
        "\n",
        "**Resources**:\n",
        "- [SGD Lecture from Andrew Ng's Coursera ML course](https://www.coursera.org/learn/machine-learning/lecture/DoRHJ/stochastic-gradient-descent)\n",
        "- <a href=\"http://wiki.fast.ai/index.php/Stochastic_Gradient_Descent_(SGD)\">fast.ai wiki page on SGD</a>\n",
        "- [Gradient Descent For Machine Learning](http://machinelearningmastery.com/gradient-descent-for-machine-learning/) (Jason Brownlee- Machine Learning Mastery)\n",
        "- [An overview of gradient descent optimization algorithms](http://sebastianruder.com/optimizing-gradient-descent/)"
      ]
    },
    {
      "cell_type": "markdown",
      "metadata": {
        "heading_collapsed": true,
        "hidden": true,
        "id": "eXdf3nureU0B"
      },
      "source": [
        "#### Applying SGD to NMF"
      ]
    },
    {
      "cell_type": "markdown",
      "metadata": {
        "collapsed": true,
        "hidden": true,
        "id": "T-rxDRKpeU0B"
      },
      "source": [
        "**Goal**: Decompose $V\\;(m \\times n)$ into $$V \\approx WH$$ where $W\\;(m \\times d)$ and $H\\;(d \\times n)$, $W,\\;H\\;>=\\;0$, and we've minimized the Frobenius norm of $V-WH$.\n",
        "\n",
        "**Approach**: We will pick random positive $W$ & $H$, and then use SGD to optimize."
      ]
    },
    {
      "cell_type": "markdown",
      "metadata": {
        "hidden": true,
        "id": "ThZgwpVveU0B"
      },
      "source": [
        "**To use SGD, we need to know the gradient of the loss function.**\n",
        "\n",
        "**Sources**:\n",
        "- Optimality and gradients of NMF: http://users.wfu.edu/plemmons/papers/chu_ple.pdf\n",
        "- Projected gradients: https://www.csie.ntu.edu.tw/~cjlin/papers/pgradnmf.pdf"
      ]
    },
    {
      "cell_type": "code",
      "execution_count": null,
      "metadata": {
        "collapsed": true,
        "hidden": true,
        "id": "zdBl6oU0eU0B"
      },
      "outputs": [],
      "source": [
        "lam=1e3\n",
        "lr=1e-2\n",
        "m, n = vectors_tfidf.shape"
      ]
    },
    {
      "cell_type": "code",
      "execution_count": null,
      "metadata": {
        "collapsed": true,
        "hidden": true,
        "id": "n_pc1pcJeU0B"
      },
      "outputs": [],
      "source": [
        "W1 = clf.fit_transform(vectors)\n",
        "H1 = clf.components_"
      ]
    },
    {
      "cell_type": "code",
      "execution_count": null,
      "metadata": {
        "hidden": true,
        "id": "RMX-la1ieU0B",
        "outputId": "3cb5d751-c665-48a0-8d5a-e3c46ef5ea4d"
      },
      "outputs": [
        {
          "data": {
            "text/plain": [
              "['jpeg image gif file color images format quality',\n",
              " 'edu graphics pub mail 128 ray ftp send',\n",
              " 'space launch satellite nasa commercial satellites year market',\n",
              " 'jesus matthew prophecy people said messiah david isaiah',\n",
              " 'image data available software processing ftp edu analysis',\n",
              " 'god atheists atheism religious believe people religion does']"
            ]
          },
          "execution_count": 253,
          "metadata": {},
          "output_type": "execute_result"
        }
      ],
      "source": [
        "show_topics(H1)"
      ]
    },
    {
      "cell_type": "code",
      "execution_count": null,
      "metadata": {
        "collapsed": true,
        "hidden": true,
        "id": "fA5nchO9eU0C"
      },
      "outputs": [],
      "source": [
        "mu = 1e-6\n",
        "def grads(M, W, H):\n",
        "    R = W@H-M\n",
        "    return R@H.T + penalty(W, mu)*lam, W.T@R + penalty(H, mu)*lam # dW, dH"
      ]
    },
    {
      "cell_type": "code",
      "execution_count": null,
      "metadata": {
        "collapsed": true,
        "hidden": true,
        "id": "vFb23Ov1eU0C"
      },
      "outputs": [],
      "source": [
        "def penalty(M, mu):\n",
        "    return np.where(M>=mu,0, np.min(M - mu, 0))"
      ]
    },
    {
      "cell_type": "code",
      "execution_count": null,
      "metadata": {
        "collapsed": true,
        "hidden": true,
        "id": "3kNnH6-1eU0C"
      },
      "outputs": [],
      "source": [
        "def upd(M, W, H, lr):\n",
        "    dW,dH = grads(M,W,H)\n",
        "    W -= lr*dW; H -= lr*dH"
      ]
    },
    {
      "cell_type": "code",
      "execution_count": null,
      "metadata": {
        "collapsed": true,
        "hidden": true,
        "id": "K6qSxqSxeU0C"
      },
      "outputs": [],
      "source": [
        "def report(M,W,H): \n",
        "    print(np.linalg.norm(M-W@H), W.min(), H.min(), (W<0).sum(), (H<0).sum())"
      ]
    },
    {
      "cell_type": "code",
      "execution_count": null,
      "metadata": {
        "collapsed": true,
        "hidden": true,
        "id": "JG5ySZHGeU0C"
      },
      "outputs": [],
      "source": [
        "W = np.abs(np.random.normal(scale=0.01, size=(m,d)))\n",
        "H = np.abs(np.random.normal(scale=0.01, size=(d,n)))"
      ]
    },
    {
      "cell_type": "code",
      "execution_count": null,
      "metadata": {
        "hidden": true,
        "id": "CUIT_rbYeU0C",
        "outputId": "f0b3c84d-a0bd-4f7f-c2d2-77aa6c30cea1"
      },
      "outputs": [
        {
          "name": "stdout",
          "output_type": "stream",
          "text": [
            "44.4395133509 5.67503308167e-07 2.49717354504e-07 0 0\n"
          ]
        }
      ],
      "source": [
        "report(vectors_tfidf, W, H)"
      ]
    },
    {
      "cell_type": "code",
      "execution_count": null,
      "metadata": {
        "collapsed": true,
        "hidden": true,
        "id": "40iWQoeSeU0D"
      },
      "outputs": [],
      "source": [
        "upd(vectors_tfidf,W,H,lr)"
      ]
    },
    {
      "cell_type": "code",
      "execution_count": null,
      "metadata": {
        "hidden": true,
        "id": "4wX5zxe9eU0D",
        "outputId": "d19fe4f2-b1cb-4a2f-ed75-9af0a46146d9"
      },
      "outputs": [
        {
          "name": "stdout",
          "output_type": "stream",
          "text": [
            "44.4194155587 -0.00186845669883 -0.000182969569359 509 788\n"
          ]
        }
      ],
      "source": [
        "report(vectors_tfidf, W, H)"
      ]
    },
    {
      "cell_type": "code",
      "execution_count": null,
      "metadata": {
        "hidden": true,
        "id": "O4I5L_BOeU0D",
        "outputId": "c3d1a840-a9fc-4cec-fe71-4e3af412b96a"
      },
      "outputs": [
        {
          "name": "stdout",
          "output_type": "stream",
          "text": [
            "44.4071645597 -0.00145791197281 -0.00012862260312 343 1174\n",
            "44.352156176 -0.000549676823494 -9.16363641124e-05 218 4689\n",
            "44.3020593384 -0.000284017335617 -0.000130903875061 165 9685\n",
            "44.2468609535 -0.000279317810433 -0.000182173029912 169 16735\n",
            "44.199218 -0.000290092649623 -0.000198140867356 222 25109\n"
          ]
        }
      ],
      "source": [
        "for i in range(50): \n",
        "    upd(vectors_tfidf,W,H,lr)\n",
        "    if i % 10 == 0: report(vectors_tfidf,W,H)"
      ]
    },
    {
      "cell_type": "code",
      "execution_count": null,
      "metadata": {
        "hidden": true,
        "id": "rTxaAlrYeU0D",
        "outputId": "08072ff3-8cb1-448a-f44d-88840a4d58bc"
      },
      "outputs": [
        {
          "data": {
            "text/plain": [
              "['cview file image edu files use directory temp',\n",
              " 'moral like time does don software new years',\n",
              " 'god jesus bible believe objective exist atheism belief',\n",
              " 'thanks graphics program know help looking windows advance',\n",
              " 'space nasa launch shuttle orbit station moon lunar',\n",
              " 'people don said think ico tek bobbe bronx']"
            ]
          },
          "execution_count": 281,
          "metadata": {},
          "output_type": "execute_result"
        }
      ],
      "source": [
        "show_topics(H)"
      ]
    },
    {
      "cell_type": "markdown",
      "metadata": {
        "hidden": true,
        "id": "o3zhQFUweU0D"
      },
      "source": [
        "This is painfully slow to train!  Lots of parameter fiddling and still slow to train (or explodes)."
      ]
    },
    {
      "cell_type": "markdown",
      "metadata": {
        "heading_collapsed": true,
        "id": "h9EdWtR0eU0D"
      },
      "source": [
        "### PyTorch"
      ]
    },
    {
      "cell_type": "markdown",
      "metadata": {
        "hidden": true,
        "id": "4YERDUaFeU0E"
      },
      "source": [
        "[PyTorch](http://pytorch.org/) is a Python framework for tensors and dynamic neural networks with GPU acceleration.  Many of the core contributors work on Facebook's AI team.  In many ways, it is similar to Numpy, only with the increased parallelization of using a GPU.\n",
        "\n",
        "From the [PyTorch documentation](http://pytorch.org/tutorials/beginner/blitz/tensor_tutorial.html):\n",
        "\n",
        "<img src=\"https://github.com/fastai/numerical-linear-algebra/blob/master/nbs/images/what_is_pytorch.png?raw=1\" alt=\"pytorch\" style=\"width: 80%\"/>\n",
        "\n",
        "**Further learning**: If you are curious to learn what *dynamic* neural networks are, you may want to watch [this talk](https://www.youtube.com/watch?v=Z15cBAuY7Sc) by Soumith Chintala, Facebook AI researcher and core PyTorch contributor.\n",
        "\n",
        "If you want to learn more PyTorch, you can try this [tutorial](http://pytorch.org/tutorials/beginner/deep_learning_60min_blitz.html) or this [learning by examples](http://pytorch.org/tutorials/beginner/pytorch_with_examples.html)."
      ]
    },
    {
      "cell_type": "markdown",
      "metadata": {
        "hidden": true,
        "id": "FeRTH0pHeU0E"
      },
      "source": [
        "**Note about GPUs**: If you are not using a GPU, you will need to remove the `.cuda()` from the methods below. GPU usage is not required for this course, but I thought it would be of interest to some of you.  To learn how to create an AWS instance with a GPU, you can watch the [fast.ai setup lesson](http://course.fast.ai/lessons/aws.html)."
      ]
    },
    {
      "cell_type": "code",
      "execution_count": null,
      "metadata": {
        "collapsed": true,
        "hidden": true,
        "id": "pECgPN_QeU0E"
      },
      "outputs": [],
      "source": [
        "import torch\n",
        "import torch.cuda as tc\n",
        "from torch.autograd import Variable"
      ]
    },
    {
      "cell_type": "code",
      "execution_count": null,
      "metadata": {
        "collapsed": true,
        "hidden": true,
        "id": "jlW7b6lveU0E"
      },
      "outputs": [],
      "source": [
        "def V(M): return Variable(M, requires_grad=True)"
      ]
    },
    {
      "cell_type": "code",
      "execution_count": null,
      "metadata": {
        "collapsed": true,
        "hidden": true,
        "id": "DawZg734eU0E"
      },
      "outputs": [],
      "source": [
        "v=vectors_tfidf.todense()"
      ]
    },
    {
      "cell_type": "code",
      "execution_count": null,
      "metadata": {
        "collapsed": true,
        "hidden": true,
        "id": "i_3cmc-ieU0E"
      },
      "outputs": [],
      "source": [
        "t_vectors = torch.Tensor(v.astype(np.float32)).cuda()"
      ]
    },
    {
      "cell_type": "code",
      "execution_count": null,
      "metadata": {
        "collapsed": true,
        "hidden": true,
        "id": "dK4EjGSNeU0E"
      },
      "outputs": [],
      "source": [
        "mu = 1e-5"
      ]
    },
    {
      "cell_type": "code",
      "execution_count": null,
      "metadata": {
        "collapsed": true,
        "hidden": true,
        "id": "uki9gBXzeU0F"
      },
      "outputs": [],
      "source": [
        "def grads_t(M, W, H):\n",
        "    R = W.mm(H)-M\n",
        "    return (R.mm(H.t()) + penalty_t(W, mu)*lam, \n",
        "        W.t().mm(R) + penalty_t(H, mu)*lam) # dW, dH\n",
        "\n",
        "def penalty_t(M, mu):\n",
        "    return (M<mu).type(tc.FloatTensor)*torch.clamp(M - mu, max=0.)\n",
        "\n",
        "def upd_t(M, W, H, lr):\n",
        "    dW,dH = grads_t(M,W,H)\n",
        "    W.sub_(lr*dW); H.sub_(lr*dH)\n",
        "\n",
        "def report_t(M,W,H): \n",
        "    print((M-W.mm(H)).norm(2), W.min(), H.min(), (W<0).sum(), (H<0).sum())"
      ]
    },
    {
      "cell_type": "code",
      "execution_count": null,
      "metadata": {
        "collapsed": true,
        "hidden": true,
        "id": "2T9mNiL0eU0F"
      },
      "outputs": [],
      "source": [
        "t_W = tc.FloatTensor(m,d)\n",
        "t_H = tc.FloatTensor(d,n)\n",
        "t_W.normal_(std=0.01).abs_(); \n",
        "t_H.normal_(std=0.01).abs_();"
      ]
    },
    {
      "cell_type": "code",
      "execution_count": null,
      "metadata": {
        "collapsed": true,
        "hidden": true,
        "id": "kMFDpB4JeU0F"
      },
      "outputs": [],
      "source": [
        "d=6; lam=100; lr=0.05"
      ]
    },
    {
      "cell_type": "code",
      "execution_count": null,
      "metadata": {
        "hidden": true,
        "scrolled": true,
        "id": "a5WCVDa2eU0F",
        "outputId": "2d8db8cd-7730-4340-bfbd-6fa1c775614f"
      },
      "outputs": [
        {
          "name": "stdout",
          "output_type": "stream",
          "text": [
            "44.392791748046875 -0.0060190423391759396 -0.0004986411076970398 1505 2282\n",
            "43.746803283691406 -0.009054708294570446 -0.011047963984310627 2085 23854\n",
            "43.702056884765625 -0.008214150555431843 -0.014783496037125587 2295 24432\n",
            "43.654273986816406 -0.006195350084453821 -0.006913348101079464 2625 22663\n",
            "43.646759033203125 -0.004638500511646271 -0.003197424579411745 2684 23270\n",
            "43.645320892333984 -0.005679543130099773 -0.00419645756483078 3242 24199\n",
            "43.6449089050293 -0.0041352929547429085 -0.00843129213899374 3282 25030\n",
            "43.64469528198242 -0.003943094052374363 -0.00745873199775815 3129 26220\n",
            "43.64459991455078 -0.004347225651144981 -0.007400824688374996 3031 26323\n",
            "43.64434051513672 -0.0039044099394232035 -0.0067480215802788734 3930 33718\n"
          ]
        }
      ],
      "source": [
        "for i in range(1000): \n",
        "    upd_t(t_vectors,t_W,t_H,lr)\n",
        "    if i % 100 == 0: \n",
        "        report_t(t_vectors,t_W,t_H)\n",
        "        lr *= 0.9"
      ]
    },
    {
      "cell_type": "code",
      "execution_count": null,
      "metadata": {
        "hidden": true,
        "id": "tvwK_ScYeU0F",
        "outputId": "eb3171b6-f2ee-471d-c4fc-6f9d68402715"
      },
      "outputs": [
        {
          "data": {
            "text/plain": [
              "['objective morality values moral subjective science absolute claim',\n",
              " 'god jesus bible believe atheism christian does belief',\n",
              " 'ico bobbe tek bronx beauchaine manhattan sank queens',\n",
              " 'thanks graphics files image file program windows know',\n",
              " 'space nasa launch shuttle orbit lunar moon earth',\n",
              " 'don people just think like know say religion']"
            ]
          },
          "execution_count": 291,
          "metadata": {},
          "output_type": "execute_result"
        }
      ],
      "source": [
        "show_topics(t_H.cpu().numpy())"
      ]
    },
    {
      "cell_type": "code",
      "execution_count": null,
      "metadata": {
        "hidden": true,
        "id": "HzObJsxZeU0F",
        "outputId": "7c1b03ac-4d05-4c36-f79a-0bf4dae68092"
      },
      "outputs": [
        {
          "data": {
            "text/plain": [
              "[<matplotlib.lines.Line2D at 0x7fe4173f1d68>]"
            ]
          },
          "execution_count": 292,
          "metadata": {},
          "output_type": "execute_result"
        },
        {
          "data": {
            "image/png": "[encoded data removed]",
            "text/plain": [
              "<matplotlib.figure.Figure at 0x7fe416a917f0>"
            ]
          },
          "metadata": {},
          "output_type": "display_data"
        }
      ],
      "source": [
        "plt.plot(t_H.cpu().numpy()[0])"
      ]
    },
    {
      "cell_type": "code",
      "execution_count": null,
      "metadata": {
        "hidden": true,
        "id": "dkQH196leU0G",
        "outputId": "4f8811dd-2805-4d88-c346-af99049a5935"
      },
      "outputs": [
        {
          "data": {
            "text/plain": [
              "0.43389660120010376"
            ]
          },
          "execution_count": 1328,
          "metadata": {},
          "output_type": "execute_result"
        }
      ],
      "source": [
        "t_W.mm(t_H).max()"
      ]
    },
    {
      "cell_type": "code",
      "execution_count": null,
      "metadata": {
        "hidden": true,
        "id": "SPYTuRcQeU0G",
        "outputId": "28842a92-e39c-4217-e2e2-dd814b9e6305"
      },
      "outputs": [
        {
          "data": {
            "text/plain": [
              "0.9188119769096375"
            ]
          },
          "execution_count": 1329,
          "metadata": {},
          "output_type": "execute_result"
        }
      ],
      "source": [
        "t_vectors.max()"
      ]
    },
    {
      "cell_type": "markdown",
      "metadata": {
        "heading_collapsed": true,
        "id": "g1OOliiFeU0G"
      },
      "source": [
        "### PyTorch: autograd"
      ]
    },
    {
      "cell_type": "markdown",
      "metadata": {
        "hidden": true,
        "id": "WmQQQ-dKeU0G"
      },
      "source": [
        "Above, we used our knowledge of what the gradient of the loss function was to do SGD from scratch in PyTorch.  However, PyTorch has an automatic differentiation package, [autograd](http://pytorch.org/docs/autograd.html) which we could use instead.  This is really useful, in that we can use autograd on problems where we don't know what the derivative is.  \n",
        "\n",
        "The approach we use below is very general, and would work for almost any optimization problem.\n",
        "\n",
        "In PyTorch, Variables have the same API as tensors, but Variables remember the operations used on to create them.  This lets us take derivatives."
      ]
    },
    {
      "cell_type": "markdown",
      "metadata": {
        "heading_collapsed": true,
        "hidden": true,
        "id": "UW7tzT9ieU0G"
      },
      "source": [
        "#### PyTorch Autograd Introduction"
      ]
    },
    {
      "cell_type": "markdown",
      "metadata": {
        "hidden": true,
        "id": "qzPOn7SreU0G"
      },
      "source": [
        "Example taken from [this tutorial](http://pytorch.org/tutorials/beginner/former_torchies/autograd_tutorial.html) in the official documentation."
      ]
    },
    {
      "cell_type": "code",
      "execution_count": null,
      "metadata": {
        "hidden": true,
        "id": "xKxn1C32eU0H",
        "outputId": "264c4861-4ff8-4ac7-8d1e-cc9a299ae31e"
      },
      "outputs": [
        {
          "name": "stdout",
          "output_type": "stream",
          "text": [
            "Variable containing:\n",
            " 1  1\n",
            " 1  1\n",
            "[torch.FloatTensor of size 2x2]\n",
            "\n"
          ]
        }
      ],
      "source": [
        "x = Variable(torch.ones(2, 2), requires_grad=True)\n",
        "print(x)"
      ]
    },
    {
      "cell_type": "code",
      "execution_count": null,
      "metadata": {
        "hidden": true,
        "id": "Tbe8ebBPeU0H",
        "outputId": "d7f93ad3-9002-47f1-fc55-4ccb711b7742"
      },
      "outputs": [
        {
          "name": "stdout",
          "output_type": "stream",
          "text": [
            "\n",
            " 1  1\n",
            " 1  1\n",
            "[torch.FloatTensor of size 2x2]\n",
            "\n"
          ]
        }
      ],
      "source": [
        "print(x.data)"
      ]
    },
    {
      "cell_type": "code",
      "execution_count": null,
      "metadata": {
        "hidden": true,
        "id": "rBWnwsbqeU0H",
        "outputId": "41498c6e-67c9-42ed-a386-83736e386527"
      },
      "outputs": [
        {
          "name": "stdout",
          "output_type": "stream",
          "text": [
            "Variable containing:\n",
            " 0  0\n",
            " 0  0\n",
            "[torch.FloatTensor of size 2x2]\n",
            "\n"
          ]
        }
      ],
      "source": [
        "print(x.grad)"
      ]
    },
    {
      "cell_type": "code",
      "execution_count": null,
      "metadata": {
        "hidden": true,
        "id": "WBRYFlvpeU0H",
        "outputId": "b9217e89-9c15-4fd5-cdd5-fe130c040743"
      },
      "outputs": [
        {
          "name": "stdout",
          "output_type": "stream",
          "text": [
            "Variable containing:\n",
            " 3  3\n",
            " 3  3\n",
            "[torch.FloatTensor of size 2x2]\n",
            "\n"
          ]
        }
      ],
      "source": [
        "y = x + 2\n",
        "print(y)"
      ]
    },
    {
      "cell_type": "code",
      "execution_count": null,
      "metadata": {
        "hidden": true,
        "id": "FtJ8zUx-eU0H",
        "outputId": "5e716c0b-5e98-4db8-9c32-06196c7202ba"
      },
      "outputs": [
        {
          "name": "stdout",
          "output_type": "stream",
          "text": [
            "Variable containing:\n",
            " 27  27\n",
            " 27  27\n",
            "[torch.FloatTensor of size 2x2]\n",
            " Variable containing:\n",
            " 108\n",
            "[torch.FloatTensor of size 1]\n",
            "\n"
          ]
        }
      ],
      "source": [
        "z = y * y * 3\n",
        "out = z.sum()\n",
        "print(z, out)"
      ]
    },
    {
      "cell_type": "code",
      "execution_count": null,
      "metadata": {
        "hidden": true,
        "id": "kTHuvnZveU0H",
        "outputId": "b89cd183-4c77-4466-d581-2cc6e3cdbd0b"
      },
      "outputs": [
        {
          "name": "stdout",
          "output_type": "stream",
          "text": [
            "Variable containing:\n",
            " 18  18\n",
            " 18  18\n",
            "[torch.FloatTensor of size 2x2]\n",
            "\n"
          ]
        }
      ],
      "source": [
        "out.backward()\n",
        "print(x.grad)"
      ]
    },
    {
      "cell_type": "code",
      "execution_count": null,
      "metadata": {
        "collapsed": true,
        "hidden": true,
        "id": "ozm2qcB1eU0I"
      },
      "outputs": [],
      "source": []
    },
    {
      "cell_type": "markdown",
      "metadata": {
        "hidden": true,
        "id": "ojiLWRX4eU0I"
      },
      "source": [
        "#### Using Autograd for NMF"
      ]
    },
    {
      "cell_type": "code",
      "execution_count": null,
      "metadata": {
        "collapsed": true,
        "hidden": true,
        "id": "YOaM7Yr2eU0I"
      },
      "outputs": [],
      "source": [
        "lam=1e6"
      ]
    },
    {
      "cell_type": "code",
      "execution_count": null,
      "metadata": {
        "collapsed": true,
        "hidden": true,
        "id": "1kXT1wLBeU0I"
      },
      "outputs": [],
      "source": [
        "pW = Variable(tc.FloatTensor(m,d), requires_grad=True)\n",
        "pH = Variable(tc.FloatTensor(d,n), requires_grad=True)\n",
        "pW.data.normal_(std=0.01).abs_()\n",
        "pH.data.normal_(std=0.01).abs_();"
      ]
    },
    {
      "cell_type": "code",
      "execution_count": null,
      "metadata": {
        "collapsed": true,
        "hidden": true,
        "id": "XnrtBU7keU0L"
      },
      "outputs": [],
      "source": [
        "def report():\n",
        "    W,H = pW.data, pH.data\n",
        "    print((M-pW.mm(pH)).norm(2).data[0], W.min(), H.min(), (W<0).sum(), (H<0).sum())\n",
        "\n",
        "def penalty(A):\n",
        "    return torch.pow((A<0).type(tc.FloatTensor)*torch.clamp(A, max=0.), 2)\n",
        "\n",
        "def penalize(): return penalty(pW).mean() + penalty(pH).mean()\n",
        "\n",
        "def loss(): return (M-pW.mm(pH)).norm(2) + penalize()*lam"
      ]
    },
    {
      "cell_type": "code",
      "execution_count": null,
      "metadata": {
        "collapsed": true,
        "hidden": true,
        "id": "ZvU9YJQ0eU0M"
      },
      "outputs": [],
      "source": [
        "M = Variable(t_vectors).cuda()"
      ]
    },
    {
      "cell_type": "code",
      "execution_count": null,
      "metadata": {
        "hidden": true,
        "id": "hV_NyCM6eU0M",
        "outputId": "c438be3f-4ad3-4641-c591-880017d4ce95"
      },
      "outputs": [
        {
          "name": "stdout",
          "output_type": "stream",
          "text": [
            "43.66044616699219 -0.0002547535696066916 -0.00046720390673726797 319 8633\n"
          ]
        }
      ],
      "source": [
        "opt = torch.optim.Adam([pW,pH], lr=1e-3, betas=(0.9,0.9))\n",
        "lr = 0.05\n",
        "report()"
      ]
    },
    {
      "cell_type": "markdown",
      "metadata": {
        "hidden": true,
        "id": "v5_6ZxFAeU0M"
      },
      "source": [
        "How to apply SGD, using autograd:"
      ]
    },
    {
      "cell_type": "code",
      "execution_count": null,
      "metadata": {
        "hidden": true,
        "scrolled": true,
        "id": "RyeHeKpeeU0M",
        "outputId": "490232f0-c117-4870-dc20-72857be3ff12"
      },
      "outputs": [
        {
          "name": "stdout",
          "output_type": "stream",
          "text": [
            "43.628597259521484 -0.022899555042386055 -0.26526615023612976 692 82579\n",
            "43.62860107421875 -0.021287493407726288 -0.2440912425518036 617 77552\n",
            "43.628597259521484 -0.020111067220568657 -0.22828206419944763 576 77726\n",
            "43.628604888916016 -0.01912039890885353 -0.21654289960861206 553 84411\n",
            "43.62861251831055 -0.018248897045850754 -0.20736189186573029 544 75546\n",
            "43.62862014770508 -0.01753264293074608 -0.19999365508556366 491 78949\n",
            "43.62862777709961 -0.016773322597146034 -0.194113627076149 513 83822\n",
            "43.628639221191406 -0.01622121036052704 -0.18905577063560486 485 74101\n",
            "43.62863540649414 -0.01574397087097168 -0.18498440086841583 478 85987\n",
            "43.628639221191406 -0.015293922275304794 -0.18137598037719727 487 74023\n"
          ]
        }
      ],
      "source": [
        "for i in range(1000): \n",
        "    opt.zero_grad()\n",
        "    l = loss()\n",
        "    l.backward()\n",
        "    opt.step()\n",
        "    if i % 100 == 99: \n",
        "        report()\n",
        "        lr *= 0.9     # learning rate annealling"
      ]
    },
    {
      "cell_type": "code",
      "execution_count": null,
      "metadata": {
        "hidden": true,
        "id": "V0KHGyK2eU0M",
        "outputId": "403d3499-9043-466c-c4ba-ba5d4fd7b604"
      },
      "outputs": [
        {
          "data": {
            "text/plain": [
              "['god jesus bible believe atheism christian belief does',\n",
              " 'thanks graphics files image file windows program format',\n",
              " 'just don think people like ve graphics religion',\n",
              " 'objective morality values moral subjective science absolute claim',\n",
              " 'ico bobbe tek beauchaine bronx manhattan sank queens',\n",
              " 'space nasa shuttle launch orbit lunar moon data']"
            ]
          },
          "execution_count": 362,
          "metadata": {},
          "output_type": "execute_result"
        }
      ],
      "source": [
        "h = pH.data.cpu().numpy()\n",
        "show_topics(h)"
      ]
    },
    {
      "cell_type": "code",
      "execution_count": null,
      "metadata": {
        "hidden": true,
        "scrolled": false,
        "id": "LWkWibnIeU0M",
        "outputId": "34dd241f-39ca-46c2-aec5-0f1bd60bd894"
      },
      "outputs": [
        {
          "data": {
            "image/png": "[encoded data removed]",
            "text/plain": [
              "<matplotlib.figure.Figure at 0x7fe416b13390>"
            ]
          },
          "metadata": {},
          "output_type": "display_data"
        }
      ],
      "source": [
        "plt.plot(h[0]);"
      ]
    },
    {
      "cell_type": "markdown",
      "metadata": {
        "id": "jCUFX_oaeU0M"
      },
      "source": [
        "### Comparing Approaches"
      ]
    },
    {
      "cell_type": "markdown",
      "metadata": {
        "heading_collapsed": true,
        "id": "7D86re1ReU0N"
      },
      "source": [
        "#### Scikit-Learn's NMF\n",
        "- Fast\n",
        "- No parameter tuning\n",
        "- Relies on decades of academic research, took experts a long time to implement\n",
        "\n",
        "<img src=\"https://github.com/fastai/numerical-linear-algebra/blob/master/nbs/images/nimfa.png?raw=1\" alt=\"research on NMF\" style=\"width: 80%\"/>\n",
        "source: [Python Nimfa Documentation](http://nimfa.biolab.si/)\n",
        "\n",
        "#### Using PyTorch and SGD\n",
        "- Took us an hour to implement, didn't have to be NMF experts\n",
        "- Parameters were fiddly\n",
        "- Not as fast (tried in numpy and was so slow we had to switch to PyTorch)"
      ]
    },
    {
      "cell_type": "markdown",
      "metadata": {
        "id": "1BmugX3EeU0N"
      },
      "source": [
        "## Truncated SVD"
      ]
    },
    {
      "cell_type": "markdown",
      "metadata": {
        "id": "10Xy2RnNeU0N"
      },
      "source": [
        "We saved a lot of time when we calculated NMF by only calculating the subset of columns we were interested in. Is there a way to get this benefit with SVD? Yes there is! It's called truncated SVD.  We are just interested in the vectors corresponding to the **largest** singular values."
      ]
    },
    {
      "cell_type": "markdown",
      "metadata": {
        "id": "K1da1d22eU0N"
      },
      "source": [
        "<img src=\"https://github.com/fastai/numerical-linear-algebra/blob/master/nbs/images/svd_fb.png?raw=1\" alt=\"\" style=\"width: 80%\"/>\n",
        "(source: [Facebook Research: Fast Randomized SVD](https://research.fb.com/fast-randomized-svd/))"
      ]
    },
    {
      "cell_type": "markdown",
      "metadata": {
        "id": "NwaxAQajeU0N"
      },
      "source": [
        "#### Shortcomings of classical algorithms for decomposition:"
      ]
    },
    {
      "cell_type": "markdown",
      "metadata": {
        "id": "5LdD4pDheU0N"
      },
      "source": [
        "- Matrices are \"stupendously big\"\n",
        "- Data are often **missing or inaccurate**.  Why spend extra computational resources when imprecision of input limits precision of the output?\n",
        "- **Data transfer** now plays a major role in time of algorithms.  Techniques the require fewer passes over the data may be substantially faster, even if they require more flops (flops = floating point operations).\n",
        "- Important to take advantage of **GPUs**.\n",
        "\n",
        "(source: [Halko](https://arxiv.org/abs/0909.4061))"
      ]
    },
    {
      "cell_type": "markdown",
      "metadata": {
        "id": "JCgEcasceU0N"
      },
      "source": [
        "#### Advantages of randomized algorithms:"
      ]
    },
    {
      "cell_type": "markdown",
      "metadata": {
        "id": "oqEvpObyeU0N"
      },
      "source": [
        "- inherently stable\n",
        "- performance guarantees do not depend on subtle spectral properties\n",
        "- needed matrix-vector products can be done in parallel\n",
        "\n",
        "(source: [Halko](https://arxiv.org/abs/0909.4061))"
      ]
    },
    {
      "cell_type": "markdown",
      "metadata": {
        "id": "aLBvCh1JeU0O"
      },
      "source": [
        "### Randomized SVD"
      ]
    },
    {
      "cell_type": "markdown",
      "metadata": {
        "id": "baSuAi31eU0O"
      },
      "source": [
        "Reminder: full SVD is **slow**.  This is the calculation we did above using Scipy's Linalg SVD:"
      ]
    },
    {
      "cell_type": "code",
      "execution_count": null,
      "metadata": {
        "id": "8f4ElFU9eU0O",
        "outputId": "be3d6162-7b87-45d7-cefd-9a32a82bb446"
      },
      "outputs": [
        {
          "data": {
            "text/plain": [
              "(2034, 26576)"
            ]
          },
          "execution_count": 384,
          "metadata": {},
          "output_type": "execute_result"
        }
      ],
      "source": [
        "vectors.shape"
      ]
    },
    {
      "cell_type": "code",
      "execution_count": null,
      "metadata": {
        "id": "Lw2uMBQneU0O",
        "outputId": "29561b4f-6ec8-4b6e-9b53-76cd372c2946"
      },
      "outputs": [
        {
          "name": "stdout",
          "output_type": "stream",
          "text": [
            "CPU times: user 27.2 s, sys: 812 ms, total: 28 s\n",
            "Wall time: 27.9 s\n"
          ]
        }
      ],
      "source": [
        "%time U, s, Vh = linalg.svd(vectors, full_matrices=False)"
      ]
    },
    {
      "cell_type": "code",
      "execution_count": null,
      "metadata": {
        "id": "GnE8KhtWeU0O",
        "outputId": "258c42f8-25d6-40e8-97a8-6b0db052f6c9"
      },
      "outputs": [
        {
          "name": "stdout",
          "output_type": "stream",
          "text": [
            "(2034, 2034) (2034,) (2034, 26576)\n"
          ]
        }
      ],
      "source": [
        "print(U.shape, s.shape, Vh.shape)"
      ]
    },
    {
      "cell_type": "markdown",
      "metadata": {
        "id": "tKgYvryweU0O"
      },
      "source": [
        "Fortunately, there is a faster way:"
      ]
    },
    {
      "cell_type": "code",
      "execution_count": null,
      "metadata": {
        "id": "eTjh739meU0O",
        "outputId": "b64c4bc7-9bc2-43de-c943-850ebfa44d91"
      },
      "outputs": [
        {
          "name": "stdout",
          "output_type": "stream",
          "text": [
            "CPU times: user 144 ms, sys: 8 ms, total: 152 ms\n",
            "Wall time: 154 ms\n"
          ]
        }
      ],
      "source": [
        "%time u, s, v = decomposition.randomized_svd(vectors, 5)"
      ]
    },
    {
      "cell_type": "markdown",
      "metadata": {
        "id": "RmUibAM9eU0O"
      },
      "source": [
        "The runtime complexity for SVD is $\\mathcal{O}(\\text{min}(m^2 n,\\; m n^2))$"
      ]
    },
    {
      "cell_type": "markdown",
      "metadata": {
        "id": "rlh5n3IFeU0P"
      },
      "source": [
        "**Question**: How can we speed things up?  (without new breakthroughs in SVD research)"
      ]
    },
    {
      "cell_type": "markdown",
      "metadata": {
        "id": "Nk-bqxwfeU0P"
      },
      "source": [
        "**Idea**: Let's use a smaller matrix (with smaller $n$)!\n",
        "\n",
        "Instead of calculating the SVD on our full matrix $A$ which is $m \\times n$, let's use $B = A Q$, which is just $m \\times r$ and $r << n$\n",
        "\n",
        "We haven't found a better general SVD method, we are just using the method we have on a smaller matrix."
      ]
    },
    {
      "cell_type": "code",
      "execution_count": null,
      "metadata": {
        "id": "wV1uxGhyeU0P",
        "outputId": "01df50f6-26b3-46af-8d70-7e4f00e2360a"
      },
      "outputs": [
        {
          "name": "stdout",
          "output_type": "stream",
          "text": [
            "CPU times: user 144 ms, sys: 8 ms, total: 152 ms\n",
            "Wall time: 154 ms\n"
          ]
        }
      ],
      "source": [
        "%time u, s, v = decomposition.randomized_svd(vectors, 5)"
      ]
    },
    {
      "cell_type": "code",
      "execution_count": null,
      "metadata": {
        "id": "WAL2c7FceU0P",
        "outputId": "307db72d-2721-4c54-8e8b-2b93d73ae7c8"
      },
      "outputs": [
        {
          "data": {
            "text/plain": [
              "((2034, 5), (5,), (5, 26576))"
            ]
          },
          "execution_count": 177,
          "metadata": {},
          "output_type": "execute_result"
        }
      ],
      "source": [
        "u.shape, s.shape, v.shape"
      ]
    },
    {
      "cell_type": "code",
      "execution_count": null,
      "metadata": {
        "id": "4YPjz8C4eU0P",
        "outputId": "1b7c6614-2ef8-4b17-f085-60a96acf90c0"
      },
      "outputs": [
        {
          "data": {
            "text/plain": [
              "['jpeg image edu file graphics images gif data',\n",
              " 'jpeg gif file color quality image jfif format',\n",
              " 'space jesus launch god people satellite matthew atheists',\n",
              " 'jesus god matthew people atheists atheism does graphics',\n",
              " 'image data processing analysis software available tools display']"
            ]
          },
          "execution_count": 178,
          "metadata": {},
          "output_type": "execute_result"
        }
      ],
      "source": [
        "show_topics(v)"
      ]
    },
    {
      "cell_type": "markdown",
      "metadata": {
        "id": "sk65W3kNeU0P"
      },
      "source": [
        "Here are some results from [Facebook Research](https://research.fb.com/fast-randomized-svd/):\n",
        "\n",
        "<img src=\"https://github.com/fastai/numerical-linear-algebra/blob/master/nbs/images/randomizedSVDbenchmarks.png?raw=1\" alt=\"\" style=\"width: 80%\"/>"
      ]
    },
    {
      "cell_type": "markdown",
      "metadata": {
        "id": "rbtxPbFreU0P"
      },
      "source": [
        "**Johnson-Lindenstrauss Lemma**: ([from wikipedia](https://en.wikipedia.org/wiki/Johnson%E2%80%93Lindenstrauss_lemma)) a small set of points in a high-dimensional space can be embedded into a space of much lower dimension in such a way that distances between the points are nearly preserved.\n",
        "\n",
        "It is desirable to be able to reduce dimensionality of data in a way that preserves relevant structure. The Johnson–Lindenstrauss lemma is a classic result of this type."
      ]
    },
    {
      "cell_type": "markdown",
      "metadata": {
        "id": "rEJ-7zMXeU0Q"
      },
      "source": [
        "### Implementing our own Randomized SVD"
      ]
    },
    {
      "cell_type": "code",
      "execution_count": null,
      "metadata": {
        "collapsed": true,
        "id": "72hZzKKYeU0Q"
      },
      "outputs": [],
      "source": [
        "from scipy import linalg"
      ]
    },
    {
      "cell_type": "markdown",
      "metadata": {
        "id": "d6nUWjtKeU0Q"
      },
      "source": [
        "The method `randomized_range_finder` finds an orthonormal matrix whose range approximates the range of A (step 1 in our algorithm above).  To do so, we use the LU and QR factorizations, both of which we will be covering in depth later.\n",
        "\n",
        "I am using the [scikit-learn.extmath.randomized_svd source code](https://github.com/scikit-learn/scikit-learn/blob/14031f65d144e3966113d3daec836e443c6d7a5b/sklearn/utils/extmath.py) as a guide."
      ]
    },
    {
      "cell_type": "code",
      "execution_count": null,
      "metadata": {
        "collapsed": true,
        "id": "nqvG0RPLeU0Q"
      },
      "outputs": [],
      "source": [
        "# computes an orthonormal matrix whose range approximates the range of A\n",
        "# power_iteration_normalizer can be safe_sparse_dot (fast but unstable), LU (imbetween), or QR (slow but most accurate)\n",
        "def randomized_range_finder(A, size, n_iter=5):\n",
        "    Q = np.random.normal(size=(A.shape[1], size))\n",
        "    \n",
        "    for i in range(n_iter):\n",
        "        Q, _ = linalg.lu(A @ Q, permute_l=True)\n",
        "        Q, _ = linalg.lu(A.T @ Q, permute_l=True)\n",
        "        \n",
        "    Q, _ = linalg.qr(A @ Q, mode='economic')\n",
        "    return Q"
      ]
    },
    {
      "cell_type": "markdown",
      "metadata": {
        "id": "zmvvL-BTeU0Q"
      },
      "source": [
        "And here's our randomized SVD method:"
      ]
    },
    {
      "cell_type": "code",
      "execution_count": null,
      "metadata": {
        "collapsed": true,
        "id": "5-eSS1aeeU0Q"
      },
      "outputs": [],
      "source": [
        "def randomized_svd(M, n_components, n_oversamples=10, n_iter=4):\n",
        "    \n",
        "    n_random = n_components + n_oversamples\n",
        "    \n",
        "    Q = randomized_range_finder(M, n_random, n_iter)\n",
        "    \n",
        "    # project M to the (k + p) dimensional space using the basis vectors\n",
        "    B = Q.T @ M\n",
        "    \n",
        "    # compute the SVD on the thin matrix: (k + p) wide\n",
        "    Uhat, s, V = linalg.svd(B, full_matrices=False)\n",
        "    del B\n",
        "    U = Q @ Uhat\n",
        "    \n",
        "    return U[:, :n_components], s[:n_components], V[:n_components, :]"
      ]
    },
    {
      "cell_type": "code",
      "execution_count": null,
      "metadata": {
        "collapsed": true,
        "id": "NHqWij5beU0R"
      },
      "outputs": [],
      "source": [
        "u, s, v = randomized_svd(vectors, 5)"
      ]
    },
    {
      "cell_type": "code",
      "execution_count": null,
      "metadata": {
        "id": "iJeZNTrzeU0R",
        "outputId": "db85e3d5-5759-43e2-ac69-cd9d98523314"
      },
      "outputs": [
        {
          "name": "stdout",
          "output_type": "stream",
          "text": [
            "CPU times: user 136 ms, sys: 0 ns, total: 136 ms\n",
            "Wall time: 137 ms\n"
          ]
        }
      ],
      "source": [
        "%time u, s, v = randomized_svd(vectors, 5)"
      ]
    },
    {
      "cell_type": "code",
      "execution_count": null,
      "metadata": {
        "id": "dHcZ_Zk2eU0R",
        "outputId": "e8a17cf2-c697-4dd2-953a-c31bf9a8458d"
      },
      "outputs": [
        {
          "data": {
            "text/plain": [
              "((2034, 5), (5,), (5, 26576))"
            ]
          },
          "execution_count": 239,
          "metadata": {},
          "output_type": "execute_result"
        }
      ],
      "source": [
        "u.shape, s.shape, v.shape"
      ]
    },
    {
      "cell_type": "code",
      "execution_count": null,
      "metadata": {
        "id": "GyXyG0sXeU0R",
        "outputId": "e58d8dbd-74df-4fae-aa20-558d3a9c0994"
      },
      "outputs": [
        {
          "data": {
            "text/plain": [
              "['jpeg image edu file graphics images gif data',\n",
              " 'edu graphics data space pub mail 128 3d',\n",
              " 'space jesus launch god people satellite matthew atheists',\n",
              " 'space launch satellite commercial nasa satellites market year',\n",
              " 'image data processing analysis software available tools display']"
            ]
          },
          "execution_count": 247,
          "metadata": {},
          "output_type": "execute_result"
        }
      ],
      "source": [
        "show_topics(v)"
      ]
    },
    {
      "cell_type": "markdown",
      "metadata": {
        "id": "5qrNSiC-eU0R"
      },
      "source": [
        "Write a loop to calculate the error of your decomposition as you vary the # of topics.  Plot the result"
      ]
    },
    {
      "cell_type": "markdown",
      "metadata": {
        "id": "TgE1d7_feU0R"
      },
      "source": [
        "#### Answer"
      ]
    },
    {
      "cell_type": "code",
      "execution_count": null,
      "metadata": {
        "collapsed": true,
        "id": "-Upi8O5PeU0R"
      },
      "outputs": [],
      "source": [
        "#Exercise: Write a loop to calculate the error of your decomposition as you vary the # of topics\n"
      ]
    },
    {
      "cell_type": "code",
      "execution_count": null,
      "metadata": {
        "id": "aKwHf5dgeU0S",
        "outputId": "39282eb5-c447-44f5-c243-6d983e4cf353"
      },
      "outputs": [
        {
          "data": {
            "text/plain": [
              "[<matplotlib.lines.Line2D at 0x7fe3f8a1b438>]"
            ]
          },
          "execution_count": 242,
          "metadata": {},
          "output_type": "execute_result"
        },
        {
          "data": {
            "image/png": "[encoded data removed]",
            "text/plain": [
              "<matplotlib.figure.Figure at 0x7fe416adf780>"
            ]
          },
          "metadata": {},
          "output_type": "display_data"
        }
      ],
      "source": [
        "plt.plot(range(0,n*step,step), error)"
      ]
    },
    {
      "cell_type": "markdown",
      "metadata": {
        "id": "-zV56osAeU0S"
      },
      "source": [
        "**Further Resources**:\n",
        "- [a whole course on randomized algorithms](http://www.cs.ubc.ca/~nickhar/W12/)"
      ]
    },
    {
      "cell_type": "markdown",
      "metadata": {
        "heading_collapsed": true,
        "id": "43HaWkUXeU0S"
      },
      "source": [
        "### More Details"
      ]
    },
    {
      "cell_type": "markdown",
      "metadata": {
        "hidden": true,
        "id": "vcMfVkKTeU0S"
      },
      "source": [
        "Here is a process to calculate a truncated SVD, described in [Finding Structure with Randomness: Probabilistic Algorithms for Constructing Approximate Matrix Decompositions](https://arxiv.org/pdf/0909.4061.pdf) and [summarized in this blog post](https://research.fb.com/fast-randomized-svd/):\n",
        "\n",
        "1\\. Compute an approximation to the range of $A$. That is, we want $Q$ with $r$ orthonormal columns such that $$A \\approx QQ^TA$$\n",
        "\n",
        "\n",
        "2\\. Construct $B = Q^T A$, which is small ($r\\times n$)\n",
        "\n",
        "\n",
        "3\\. Compute the SVD of $B$ by standard methods (fast since $B$ is smaller than $A$), $B = S\\,\\Sigma V^T$\n",
        "\n",
        "4\\. Since $$ A \\approx Q Q^T A = Q (S\\,\\Sigma V^T)$$ if we set $U = QS$, then we have a low rank approximation $A \\approx U \\Sigma V^T$."
      ]
    },
    {
      "cell_type": "markdown",
      "metadata": {
        "hidden": true,
        "id": "Lj5xh_B-eU0S"
      },
      "source": [
        "#### So how do we find $Q$ (in step 1)?"
      ]
    },
    {
      "cell_type": "markdown",
      "metadata": {
        "hidden": true,
        "id": "jtLgOQtkeU0S"
      },
      "source": [
        "To estimate the range of $A$, we can just take a bunch of random vectors $w_i$, evaluate the subspace formed by $Aw_i$.  We can form a matrix $W$ with the $w_i$ as it's columns.  Now, we take the QR decomposition of $AW = QR$, then the columns of $Q$ form an orthonormal basis for $AW$, which is the range of $A$.\n",
        "\n",
        "Since the matrix $AW$ of the product has far more rows than columns and therefore, approximately, orthonormal columns. This is simple probability - with lots of rows, and few columns, it's unlikely that the columns are linearly dependent."
      ]
    },
    {
      "cell_type": "markdown",
      "metadata": {
        "hidden": true,
        "id": "4dVQ_Eo_eU0S"
      },
      "source": [
        "#### The QR Decomposition"
      ]
    },
    {
      "cell_type": "markdown",
      "metadata": {
        "hidden": true,
        "id": "TtkFfRdXeU0S"
      },
      "source": [
        "We will be learning about the QR decomposition **in depth** later on.  For now, you just need to know that $A = QR$, where $Q$ consists of orthonormal columns, and $R$ is upper triangular.  Trefethen says that the QR decomposition is the most important idea in numerical linear algebra!  We will definitely be returning to it."
      ]
    },
    {
      "cell_type": "markdown",
      "metadata": {
        "hidden": true,
        "id": "-Ct09wmceU0T"
      },
      "source": [
        "#### How should we choose $r$?"
      ]
    },
    {
      "cell_type": "markdown",
      "metadata": {
        "hidden": true,
        "id": "Uhv4lxpLeU0T"
      },
      "source": [
        "Suppose our matrix has 100 columns, and we want 5 columns in U and V. To be safe, we should project our matrix onto an orthogonal basis with a few more rows and columns than 5 (let's use 15).  At the end, we will just grab the first 5 columns of U and V\n",
        "\n",
        "So even although our projection was only approximate, by making it a bit bigger than we need, we can make up for the loss of accuracy (since we're only taking a subset later). "
      ]
    },
    {
      "cell_type": "code",
      "execution_count": null,
      "metadata": {
        "hidden": true,
        "id": "p9NKp226eU0T",
        "outputId": "ac30502d-21a8-4da9-c075-0cbb1d27e25a"
      },
      "outputs": [
        {
          "name": "stdout",
          "output_type": "stream",
          "text": [
            "CPU times: user 144 ms, sys: 8 ms, total: 152 ms\n",
            "Wall time: 154 ms\n"
          ]
        }
      ],
      "source": [
        "%time u, s, v = decomposition.randomized_svd(vectors, 5)"
      ]
    },
    {
      "cell_type": "code",
      "execution_count": null,
      "metadata": {
        "hidden": true,
        "id": "1C9i34eMeU0T",
        "outputId": "11e3b86e-1964-41e1-a614-fbe97b07ad39"
      },
      "outputs": [
        {
          "name": "stdout",
          "output_type": "stream",
          "text": [
            "CPU times: user 2.38 s, sys: 592 ms, total: 2.97 s\n",
            "Wall time: 2.96 s\n"
          ]
        }
      ],
      "source": [
        "%time u, s, v = decomposition.randomized_svd(vectors.todense(), 5)"
      ]
    },
    {
      "cell_type": "markdown",
      "metadata": {
        "id": "d4HJaNKveU0T"
      },
      "source": [
        "## End"
      ]
    }
  ],
  "metadata": {
    "kernelspec": {
      "display_name": "Python 3",
      "language": "python",
      "name": "python3"
    },
    "language_info": {
      "codemirror_mode": {
        "name": "ipython",
        "version": 3
      },
      "file_extension": ".py",
      "mimetype": "text/x-python",
      "name": "python",
      "nbconvert_exporter": "python",
      "pygments_lexer": "ipython3",
      "version": "3.6.1"
    },
    "colab": {
      "provenance": [],
      "toc_visible": true,
      "include_colab_link": true
    }
  },
  "nbformat": 4,
  "nbformat_minor": 0
}