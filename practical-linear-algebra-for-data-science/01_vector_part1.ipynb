{
  "nbformat": 4,
  "nbformat_minor": 0,
  "metadata": {
    "colab": {
      "provenance": [],
      "toc_visible": true,
      "include_colab_link": true
    },
    "kernelspec": {
      "name": "python3",
      "display_name": "Python 3"
    },
    "language_info": {
      "name": "python"
    }
  },
  "cells": [
    {
      "cell_type": "markdown",
      "metadata": {
        "id": "view-in-github",
        "colab_type": "text"
      },
      "source": [
        "<a href=\"https://colab.research.google.com/github/rahiakela/mathematics-for-machine-learning/blob/main/practical-linear-algebra-for-data-science/01_vector_part1.ipynb\" target=\"_parent\"><img src=\"https://colab.research.google.com/assets/colab-badge.svg\" alt=\"Open In Colab\"/></a>"
      ]
    },
    {
      "cell_type": "markdown",
      "source": [
        "##Vector Part-1"
      ],
      "metadata": {
        "id": "5oD-9UyL9RyL"
      }
    },
    {
      "cell_type": "markdown",
      "source": [
        "In linear algebra, a vector is an ordered list of numbers.\n",
        "\n",
        "Vectors have several important characteristics.\n",
        "\n",
        "The first two we will start with are:\n",
        "- **Dimensionality**\n",
        "  - The number of numbers in the vector\n",
        "- **Orientation**\n",
        "  - Whether the vector is in column orientation (standing up tall) or row orientation (laying flat and wide)\n",
        "\n"
      ],
      "metadata": {
        "id": "o9oViBg59i0U"
      }
    },
    {
      "cell_type": "markdown",
      "source": [
        "##Setup"
      ],
      "metadata": {
        "id": "S9PCK-Ks-N1U"
      }
    },
    {
      "cell_type": "code",
      "source": [
        "import numpy as np\n",
        "import matplotlib.pyplot as plt\n",
        "\n",
        "from IPython import display\n",
        "display.set_matplotlib_formats('svg') # display figures in vector format\n",
        "plt.rcParams.update({'font.size':14}) # set global font size"
      ],
      "metadata": {
        "id": "3hQBH6qN-PCb"
      },
      "execution_count": null,
      "outputs": []
    },
    {
      "cell_type": "markdown",
      "source": [
        "##Creating vectors"
      ],
      "metadata": {
        "id": "lQl7mfWf-W0F"
      }
    },
    {
      "cell_type": "code",
      "source": [
        "# a vector as a Python list datatype\n",
        "as_list = [1, 2, 3]\n",
        "\n",
        "# same numbers, but as a dimensionless numpy array\n",
        "as_array = np.array([1, 2, 3])\n",
        "\n",
        "# again same numbers, but now endowed with orientations\n",
        "row_vec = np.array([\n",
        "  [1, 2, 3]  # row\n",
        "])\n",
        "col_vec = np.array([\n",
        "  [1],  # column\n",
        "  [2],\n",
        "  [3]\n",
        "])\n",
        "\n",
        "print(f\"As list: {np.shape(as_list)}\")\n",
        "print(f\"As array: {as_array.shape}\")\n",
        "print(f\"Row vector: {row_vec.shape}\")\n",
        "print(f\"Column vector: {col_vec.shape}\")"
      ],
      "metadata": {
        "colab": {
          "base_uri": "https://localhost:8080/"
        },
        "id": "USQHJzm0-XlY",
        "outputId": "e6dd0b7b-865a-4719-b740-3ff9e0c6aa76"
      },
      "execution_count": null,
      "outputs": [
        {
          "output_type": "stream",
          "name": "stdout",
          "text": [
            "As list: (3,)\n",
            "As array: (3,)\n",
            "Row vector: (1, 3)\n",
            "Column vector: (3, 1)\n"
          ]
        }
      ]
    },
    {
      "cell_type": "markdown",
      "source": [
        "##Geometry of vectors"
      ],
      "metadata": {
        "id": "WqsuaS8eA0ax"
      }
    },
    {
      "cell_type": "code",
      "source": [
        "# create a vector\n",
        "v = np.array([-1,2])\n",
        "\n",
        "# plot that vector (and a dot for the tail)\n",
        "plt.arrow(0,0,v[0],v[1],head_width=.5,width=.1)\n",
        "plt.plot(0,0,'ko',markerfacecolor='k',markersize=7)\n",
        "\n",
        "# add axis lines\n",
        "plt.plot([-3,3],[0,0],'--',color=[.8,.8,.8],zorder=-1)\n",
        "plt.plot([0,0],[-3,3],'--',color=[.8,.8,.8],zorder=-1)\n",
        "\n",
        "# make the plot look nicer\n",
        "plt.axis('square')\n",
        "plt.axis([-3,3,-3,3])\n",
        "plt.xlabel('$v_0$')\n",
        "plt.ylabel('$v_1$')\n",
        "plt.title('Vector v in standard position')\n",
        "plt.show()"
      ],
      "metadata": {
        "colab": {
          "base_uri": "https://localhost:8080/",
          "height": 471
        },
        "id": "93zXy6qtA1BR",
        "outputId": "246c52eb-cd80-446c-bf64-6300d7c21d13"
      },
      "execution_count": null,
      "outputs": [
        {
          "output_type": "display_data",
          "data": {
            "text/plain": [
              "<Figure size 640x480 with 1 Axes>"
            ],
            "image/svg+xml": "<?xml version=\"1.0\" encoding=\"utf-8\" standalone=\"no\"?>\n<!DOCTYPE svg PUBLIC \"-//W3C//DTD SVG 1.1//EN\"\n  \"http://www.w3.org/Graphics/SVG/1.1/DTD/svg11.dtd\">\n<svg xmlns:xlink=\"http://www.w3.org/1999/xlink\" width=\"330.154187pt\" height=\"337.376125pt\" viewBox=\"0 0 330.154187 337.376125\" xmlns=\"http://www.w3.org/2000/svg\" version=\"1.1\">\n <metadata>\n  <rdf:RDF xmlns:dc=\"http://purl.org/dc/elements/1.1/\" xmlns:cc=\"http://creativecommons.org/ns#\" xmlns:rdf=\"http://www.w3.org/1999/02/22-rdf-syntax-ns#\">\n   <cc:Work>\n    <dc:type rdf:resource=\"http://purl.org/dc/dcmitype/StillImage\"/>\n    <dc:date>2025-05-03T05:17:59.553015</dc:date>\n    <dc:format>image/svg+xml</dc:format>\n    <dc:creator>\n     <cc:Agent>\n      <dc:title>Matplotlib v3.10.0, https://matplotlib.org/</dc:title>\n     </cc:Agent>\n    </dc:creator>\n   </cc:Work>\n  </rdf:RDF>\n </metadata>\n <defs>\n  <style type=\"text/css\">*{stroke-linejoin: round; stroke-linecap: butt}</style>\n </defs>\n <g id=\"figure_1\">\n  <g id=\"patch_1\">\n   <path d=\"M 0 337.376125 \nL 330.154187 337.376125 \nL 330.154187 0 \nL 0 0 \nz\n\" style=\"fill: #ffffff\"/>\n  </g>\n  <g id=\"axes_1\">\n   <g id=\"patch_2\">\n    <path d=\"M 52.388438 292.077375 \nL 318.500437 292.077375 \nL 318.500437 25.965375 \nL 52.388438 25.965375 \nz\n\" style=\"fill: #ffffff\"/>\n   </g>\n   <g id=\"line2d_1\">\n    <path d=\"M 52.388438 159.021375 \nL 318.500437 159.021375 \n\" clip-path=\"url(#p5640046918)\" style=\"fill: none; stroke-dasharray: 5.55,2.4; stroke-dashoffset: 0; stroke: #cccccc; stroke-width: 1.5\"/>\n   </g>\n   <g id=\"line2d_2\">\n    <path d=\"M 185.444437 292.077375 \nL 185.444437 25.965375 \n\" clip-path=\"url(#p5640046918)\" style=\"fill: none; stroke-dasharray: 5.55,2.4; stroke-dashoffset: 0; stroke: #cccccc; stroke-width: 1.5\"/>\n   </g>\n   <g id=\"patch_3\">\n    <path d=\"M 126.216324 40.565149 \nL 151.009846 65.358671 \nL 143.075919 69.325634 \nL 187.427919 158.029634 \nL 183.460956 160.013116 \nL 139.108956 71.309116 \nL 131.175029 75.276079 \nz\n\" clip-path=\"url(#p5640046918)\" style=\"fill: #1f77b4; stroke: #000000; stroke-linejoin: miter\"/>\n   </g>\n   <g id=\"matplotlib.axis_1\">\n    <g id=\"xtick_1\">\n     <g id=\"line2d_3\">\n      <defs>\n       <path id=\"m978e9e0a0b\" d=\"M 0 0 \nL 0 3.5 \n\" style=\"stroke: #000000; stroke-width: 0.8\"/>\n      </defs>\n      <g>\n       <use xlink:href=\"#m978e9e0a0b\" x=\"52.388438\" y=\"292.077375\" style=\"stroke: #000000; stroke-width: 0.8\"/>\n      </g>\n     </g>\n     <g id=\"text_1\">\n      <!-- −3 -->\n      <g transform=\"translate(42.068906 309.715187) scale(0.14 -0.14)\">\n       <defs>\n        <path id=\"DejaVuSans-2212\" d=\"M 678 2272 \nL 4684 2272 \nL 4684 1741 \nL 678 1741 \nL 678 2272 \nz\n\" transform=\"scale(0.015625)\"/>\n        <path id=\"DejaVuSans-33\" d=\"M 2597 2516 \nQ 3050 2419 3304 2112 \nQ 3559 1806 3559 1356 \nQ 3559 666 3084 287 \nQ 2609 -91 1734 -91 \nQ 1441 -91 1130 -33 \nQ 819 25 488 141 \nL 488 750 \nQ 750 597 1062 519 \nQ 1375 441 1716 441 \nQ 2309 441 2620 675 \nQ 2931 909 2931 1356 \nQ 2931 1769 2642 2001 \nQ 2353 2234 1838 2234 \nL 1294 2234 \nL 1294 2753 \nL 1863 2753 \nQ 2328 2753 2575 2939 \nQ 2822 3125 2822 3475 \nQ 2822 3834 2567 4026 \nQ 2313 4219 1838 4219 \nQ 1578 4219 1281 4162 \nQ 984 4106 628 3988 \nL 628 4550 \nQ 988 4650 1302 4700 \nQ 1616 4750 1894 4750 \nQ 2613 4750 3031 4423 \nQ 3450 4097 3450 3541 \nQ 3450 3153 3228 2886 \nQ 3006 2619 2597 2516 \nz\n\" transform=\"scale(0.015625)\"/>\n       </defs>\n       <use xlink:href=\"#DejaVuSans-2212\"/>\n       <use xlink:href=\"#DejaVuSans-33\" transform=\"translate(83.789062 0)\"/>\n      </g>\n     </g>\n    </g>\n    <g id=\"xtick_2\">\n     <g id=\"line2d_4\">\n      <g>\n       <use xlink:href=\"#m978e9e0a0b\" x=\"96.740438\" y=\"292.077375\" style=\"stroke: #000000; stroke-width: 0.8\"/>\n      </g>\n     </g>\n     <g id=\"text_2\">\n      <!-- −2 -->\n      <g transform=\"translate(86.420906 309.715187) scale(0.14 -0.14)\">\n       <defs>\n        <path id=\"DejaVuSans-32\" d=\"M 1228 531 \nL 3431 531 \nL 3431 0 \nL 469 0 \nL 469 531 \nQ 828 903 1448 1529 \nQ 2069 2156 2228 2338 \nQ 2531 2678 2651 2914 \nQ 2772 3150 2772 3378 \nQ 2772 3750 2511 3984 \nQ 2250 4219 1831 4219 \nQ 1534 4219 1204 4116 \nQ 875 4013 500 3803 \nL 500 4441 \nQ 881 4594 1212 4672 \nQ 1544 4750 1819 4750 \nQ 2544 4750 2975 4387 \nQ 3406 4025 3406 3419 \nQ 3406 3131 3298 2873 \nQ 3191 2616 2906 2266 \nQ 2828 2175 2409 1742 \nQ 1991 1309 1228 531 \nz\n\" transform=\"scale(0.015625)\"/>\n       </defs>\n       <use xlink:href=\"#DejaVuSans-2212\"/>\n       <use xlink:href=\"#DejaVuSans-32\" transform=\"translate(83.789062 0)\"/>\n      </g>\n     </g>\n    </g>\n    <g id=\"xtick_3\">\n     <g id=\"line2d_5\">\n      <g>\n       <use xlink:href=\"#m978e9e0a0b\" x=\"141.092438\" y=\"292.077375\" style=\"stroke: #000000; stroke-width: 0.8\"/>\n      </g>\n     </g>\n     <g id=\"text_3\">\n      <!-- −1 -->\n      <g transform=\"translate(130.772906 309.715187) scale(0.14 -0.14)\">\n       <defs>\n        <path id=\"DejaVuSans-31\" d=\"M 794 531 \nL 1825 531 \nL 1825 4091 \nL 703 3866 \nL 703 4441 \nL 1819 4666 \nL 2450 4666 \nL 2450 531 \nL 3481 531 \nL 3481 0 \nL 794 0 \nL 794 531 \nz\n\" transform=\"scale(0.015625)\"/>\n       </defs>\n       <use xlink:href=\"#DejaVuSans-2212\"/>\n       <use xlink:href=\"#DejaVuSans-31\" transform=\"translate(83.789062 0)\"/>\n      </g>\n     </g>\n    </g>\n    <g id=\"xtick_4\">\n     <g id=\"line2d_6\">\n      <g>\n       <use xlink:href=\"#m978e9e0a0b\" x=\"185.444437\" y=\"292.077375\" style=\"stroke: #000000; stroke-width: 0.8\"/>\n      </g>\n     </g>\n     <g id=\"text_4\">\n      <!-- 0 -->\n      <g transform=\"translate(180.990687 309.715187) scale(0.14 -0.14)\">\n       <defs>\n        <path id=\"DejaVuSans-30\" d=\"M 2034 4250 \nQ 1547 4250 1301 3770 \nQ 1056 3291 1056 2328 \nQ 1056 1369 1301 889 \nQ 1547 409 2034 409 \nQ 2525 409 2770 889 \nQ 3016 1369 3016 2328 \nQ 3016 3291 2770 3770 \nQ 2525 4250 2034 4250 \nz\nM 2034 4750 \nQ 2819 4750 3233 4129 \nQ 3647 3509 3647 2328 \nQ 3647 1150 3233 529 \nQ 2819 -91 2034 -91 \nQ 1250 -91 836 529 \nQ 422 1150 422 2328 \nQ 422 3509 836 4129 \nQ 1250 4750 2034 4750 \nz\n\" transform=\"scale(0.015625)\"/>\n       </defs>\n       <use xlink:href=\"#DejaVuSans-30\"/>\n      </g>\n     </g>\n    </g>\n    <g id=\"xtick_5\">\n     <g id=\"line2d_7\">\n      <g>\n       <use xlink:href=\"#m978e9e0a0b\" x=\"229.796437\" y=\"292.077375\" style=\"stroke: #000000; stroke-width: 0.8\"/>\n      </g>\n     </g>\n     <g id=\"text_5\">\n      <!-- 1 -->\n      <g transform=\"translate(225.342687 309.715187) scale(0.14 -0.14)\">\n       <use xlink:href=\"#DejaVuSans-31\"/>\n      </g>\n     </g>\n    </g>\n    <g id=\"xtick_6\">\n     <g id=\"line2d_8\">\n      <g>\n       <use xlink:href=\"#m978e9e0a0b\" x=\"274.148438\" y=\"292.077375\" style=\"stroke: #000000; stroke-width: 0.8\"/>\n      </g>\n     </g>\n     <g id=\"text_6\">\n      <!-- 2 -->\n      <g transform=\"translate(269.694687 309.715187) scale(0.14 -0.14)\">\n       <use xlink:href=\"#DejaVuSans-32\"/>\n      </g>\n     </g>\n    </g>\n    <g id=\"xtick_7\">\n     <g id=\"line2d_9\">\n      <g>\n       <use xlink:href=\"#m978e9e0a0b\" x=\"318.500437\" y=\"292.077375\" style=\"stroke: #000000; stroke-width: 0.8\"/>\n      </g>\n     </g>\n     <g id=\"text_7\">\n      <!-- 3 -->\n      <g transform=\"translate(314.046687 309.715187) scale(0.14 -0.14)\">\n       <use xlink:href=\"#DejaVuSans-33\"/>\n      </g>\n     </g>\n    </g>\n    <g id=\"text_8\">\n     <!-- $v_0$ -->\n     <g transform=\"translate(177.954437 327.264562) scale(0.14 -0.14)\">\n      <defs>\n       <path id=\"DejaVuSans-Oblique-76\" d=\"M 459 3500 \nL 1069 3500 \nL 1581 525 \nL 3256 3500 \nL 3866 3500 \nL 1875 0 \nL 1100 0 \nL 459 3500 \nz\n\" transform=\"scale(0.015625)\"/>\n      </defs>\n      <use xlink:href=\"#DejaVuSans-Oblique-76\" transform=\"translate(0 0.3125)\"/>\n      <use xlink:href=\"#DejaVuSans-30\" transform=\"translate(59.179688 -16.09375) scale(0.7)\"/>\n     </g>\n    </g>\n   </g>\n   <g id=\"matplotlib.axis_2\">\n    <g id=\"ytick_1\">\n     <g id=\"line2d_10\">\n      <defs>\n       <path id=\"m15ae30d0d3\" d=\"M 0 0 \nL -3.5 0 \n\" style=\"stroke: #000000; stroke-width: 0.8\"/>\n      </defs>\n      <g>\n       <use xlink:href=\"#m15ae30d0d3\" x=\"52.388438\" y=\"292.077375\" style=\"stroke: #000000; stroke-width: 0.8\"/>\n      </g>\n     </g>\n     <g id=\"text_9\">\n      <!-- −3 -->\n      <g transform=\"translate(24.749375 297.396281) scale(0.14 -0.14)\">\n       <use xlink:href=\"#DejaVuSans-2212\"/>\n       <use xlink:href=\"#DejaVuSans-33\" transform=\"translate(83.789062 0)\"/>\n      </g>\n     </g>\n    </g>\n    <g id=\"ytick_2\">\n     <g id=\"line2d_11\">\n      <g>\n       <use xlink:href=\"#m15ae30d0d3\" x=\"52.388438\" y=\"247.725375\" style=\"stroke: #000000; stroke-width: 0.8\"/>\n      </g>\n     </g>\n     <g id=\"text_10\">\n      <!-- −2 -->\n      <g transform=\"translate(24.749375 253.044281) scale(0.14 -0.14)\">\n       <use xlink:href=\"#DejaVuSans-2212\"/>\n       <use xlink:href=\"#DejaVuSans-32\" transform=\"translate(83.789062 0)\"/>\n      </g>\n     </g>\n    </g>\n    <g id=\"ytick_3\">\n     <g id=\"line2d_12\">\n      <g>\n       <use xlink:href=\"#m15ae30d0d3\" x=\"52.388438\" y=\"203.373375\" style=\"stroke: #000000; stroke-width: 0.8\"/>\n      </g>\n     </g>\n     <g id=\"text_11\">\n      <!-- −1 -->\n      <g transform=\"translate(24.749375 208.692281) scale(0.14 -0.14)\">\n       <use xlink:href=\"#DejaVuSans-2212\"/>\n       <use xlink:href=\"#DejaVuSans-31\" transform=\"translate(83.789062 0)\"/>\n      </g>\n     </g>\n    </g>\n    <g id=\"ytick_4\">\n     <g id=\"line2d_13\">\n      <g>\n       <use xlink:href=\"#m15ae30d0d3\" x=\"52.388438\" y=\"159.021375\" style=\"stroke: #000000; stroke-width: 0.8\"/>\n      </g>\n     </g>\n     <g id=\"text_12\">\n      <!-- 0 -->\n      <g transform=\"translate(36.480938 164.340281) scale(0.14 -0.14)\">\n       <use xlink:href=\"#DejaVuSans-30\"/>\n      </g>\n     </g>\n    </g>\n    <g id=\"ytick_5\">\n     <g id=\"line2d_14\">\n      <g>\n       <use xlink:href=\"#m15ae30d0d3\" x=\"52.388438\" y=\"114.669375\" style=\"stroke: #000000; stroke-width: 0.8\"/>\n      </g>\n     </g>\n     <g id=\"text_13\">\n      <!-- 1 -->\n      <g transform=\"translate(36.480938 119.988281) scale(0.14 -0.14)\">\n       <use xlink:href=\"#DejaVuSans-31\"/>\n      </g>\n     </g>\n    </g>\n    <g id=\"ytick_6\">\n     <g id=\"line2d_15\">\n      <g>\n       <use xlink:href=\"#m15ae30d0d3\" x=\"52.388438\" y=\"70.317375\" style=\"stroke: #000000; stroke-width: 0.8\"/>\n      </g>\n     </g>\n     <g id=\"text_14\">\n      <!-- 2 -->\n      <g transform=\"translate(36.480938 75.636281) scale(0.14 -0.14)\">\n       <use xlink:href=\"#DejaVuSans-32\"/>\n      </g>\n     </g>\n    </g>\n    <g id=\"ytick_7\">\n     <g id=\"line2d_16\">\n      <g>\n       <use xlink:href=\"#m15ae30d0d3\" x=\"52.388438\" y=\"25.965375\" style=\"stroke: #000000; stroke-width: 0.8\"/>\n      </g>\n     </g>\n     <g id=\"text_15\">\n      <!-- 3 -->\n      <g transform=\"translate(36.480938 31.284281) scale(0.14 -0.14)\">\n       <use xlink:href=\"#DejaVuSans-33\"/>\n      </g>\n     </g>\n    </g>\n    <g id=\"text_16\">\n     <!-- $v_1$ -->\n     <g transform=\"translate(17.837813 166.511375) rotate(-90) scale(0.14 -0.14)\">\n      <use xlink:href=\"#DejaVuSans-Oblique-76\" transform=\"translate(0 0.3125)\"/>\n      <use xlink:href=\"#DejaVuSans-31\" transform=\"translate(59.179688 -16.09375) scale(0.7)\"/>\n     </g>\n    </g>\n   </g>\n   <g id=\"line2d_17\">\n    <defs>\n     <path id=\"m16950ce531\" d=\"M 0 3.5 \nC 0.928211 3.5 1.81853 3.131218 2.474874 2.474874 \nC 3.131218 1.81853 3.5 0.928211 3.5 0 \nC 3.5 -0.928211 3.131218 -1.81853 2.474874 -2.474874 \nC 1.81853 -3.131218 0.928211 -3.5 0 -3.5 \nC -0.928211 -3.5 -1.81853 -3.131218 -2.474874 -2.474874 \nC -3.131218 -1.81853 -3.5 -0.928211 -3.5 0 \nC -3.5 0.928211 -3.131218 1.81853 -2.474874 2.474874 \nC -1.81853 3.131218 -0.928211 3.5 0 3.5 \nz\n\" style=\"stroke: #000000\"/>\n    </defs>\n    <g clip-path=\"url(#p5640046918)\">\n     <use xlink:href=\"#m16950ce531\" x=\"185.444437\" y=\"159.021375\" style=\"stroke: #000000\"/>\n    </g>\n   </g>\n   <g id=\"patch_4\">\n    <path d=\"M 52.388438 292.077375 \nL 52.388438 25.965375 \n\" style=\"fill: none; stroke: #000000; stroke-width: 0.8; stroke-linejoin: miter; stroke-linecap: square\"/>\n   </g>\n   <g id=\"patch_5\">\n    <path d=\"M 318.500437 292.077375 \nL 318.500437 25.965375 \n\" style=\"fill: none; stroke: #000000; stroke-width: 0.8; stroke-linejoin: miter; stroke-linecap: square\"/>\n   </g>\n   <g id=\"patch_6\">\n    <path d=\"M 52.388438 292.077375 \nL 318.500437 292.077375 \n\" style=\"fill: none; stroke: #000000; stroke-width: 0.8; stroke-linejoin: miter; stroke-linecap: square\"/>\n   </g>\n   <g id=\"patch_7\">\n    <path d=\"M 52.388438 25.965375 \nL 318.500437 25.965375 \n\" style=\"fill: none; stroke: #000000; stroke-width: 0.8; stroke-linejoin: miter; stroke-linecap: square\"/>\n   </g>\n   <g id=\"text_17\">\n    <!-- Vector v in standard position -->\n    <g transform=\"translate(64.8375 19.965375) scale(0.168 -0.168)\">\n     <defs>\n      <path id=\"DejaVuSans-56\" d=\"M 1831 0 \nL 50 4666 \nL 709 4666 \nL 2188 738 \nL 3669 4666 \nL 4325 4666 \nL 2547 0 \nL 1831 0 \nz\n\" transform=\"scale(0.015625)\"/>\n      <path id=\"DejaVuSans-65\" d=\"M 3597 1894 \nL 3597 1613 \nL 953 1613 \nQ 991 1019 1311 708 \nQ 1631 397 2203 397 \nQ 2534 397 2845 478 \nQ 3156 559 3463 722 \nL 3463 178 \nQ 3153 47 2828 -22 \nQ 2503 -91 2169 -91 \nQ 1331 -91 842 396 \nQ 353 884 353 1716 \nQ 353 2575 817 3079 \nQ 1281 3584 2069 3584 \nQ 2775 3584 3186 3129 \nQ 3597 2675 3597 1894 \nz\nM 3022 2063 \nQ 3016 2534 2758 2815 \nQ 2500 3097 2075 3097 \nQ 1594 3097 1305 2825 \nQ 1016 2553 972 2059 \nL 3022 2063 \nz\n\" transform=\"scale(0.015625)\"/>\n      <path id=\"DejaVuSans-63\" d=\"M 3122 3366 \nL 3122 2828 \nQ 2878 2963 2633 3030 \nQ 2388 3097 2138 3097 \nQ 1578 3097 1268 2742 \nQ 959 2388 959 1747 \nQ 959 1106 1268 751 \nQ 1578 397 2138 397 \nQ 2388 397 2633 464 \nQ 2878 531 3122 666 \nL 3122 134 \nQ 2881 22 2623 -34 \nQ 2366 -91 2075 -91 \nQ 1284 -91 818 406 \nQ 353 903 353 1747 \nQ 353 2603 823 3093 \nQ 1294 3584 2113 3584 \nQ 2378 3584 2631 3529 \nQ 2884 3475 3122 3366 \nz\n\" transform=\"scale(0.015625)\"/>\n      <path id=\"DejaVuSans-74\" d=\"M 1172 4494 \nL 1172 3500 \nL 2356 3500 \nL 2356 3053 \nL 1172 3053 \nL 1172 1153 \nQ 1172 725 1289 603 \nQ 1406 481 1766 481 \nL 2356 481 \nL 2356 0 \nL 1766 0 \nQ 1100 0 847 248 \nQ 594 497 594 1153 \nL 594 3053 \nL 172 3053 \nL 172 3500 \nL 594 3500 \nL 594 4494 \nL 1172 4494 \nz\n\" transform=\"scale(0.015625)\"/>\n      <path id=\"DejaVuSans-6f\" d=\"M 1959 3097 \nQ 1497 3097 1228 2736 \nQ 959 2375 959 1747 \nQ 959 1119 1226 758 \nQ 1494 397 1959 397 \nQ 2419 397 2687 759 \nQ 2956 1122 2956 1747 \nQ 2956 2369 2687 2733 \nQ 2419 3097 1959 3097 \nz\nM 1959 3584 \nQ 2709 3584 3137 3096 \nQ 3566 2609 3566 1747 \nQ 3566 888 3137 398 \nQ 2709 -91 1959 -91 \nQ 1206 -91 779 398 \nQ 353 888 353 1747 \nQ 353 2609 779 3096 \nQ 1206 3584 1959 3584 \nz\n\" transform=\"scale(0.015625)\"/>\n      <path id=\"DejaVuSans-72\" d=\"M 2631 2963 \nQ 2534 3019 2420 3045 \nQ 2306 3072 2169 3072 \nQ 1681 3072 1420 2755 \nQ 1159 2438 1159 1844 \nL 1159 0 \nL 581 0 \nL 581 3500 \nL 1159 3500 \nL 1159 2956 \nQ 1341 3275 1631 3429 \nQ 1922 3584 2338 3584 \nQ 2397 3584 2469 3576 \nQ 2541 3569 2628 3553 \nL 2631 2963 \nz\n\" transform=\"scale(0.015625)\"/>\n      <path id=\"DejaVuSans-20\" transform=\"scale(0.015625)\"/>\n      <path id=\"DejaVuSans-76\" d=\"M 191 3500 \nL 800 3500 \nL 1894 563 \nL 2988 3500 \nL 3597 3500 \nL 2284 0 \nL 1503 0 \nL 191 3500 \nz\n\" transform=\"scale(0.015625)\"/>\n      <path id=\"DejaVuSans-69\" d=\"M 603 3500 \nL 1178 3500 \nL 1178 0 \nL 603 0 \nL 603 3500 \nz\nM 603 4863 \nL 1178 4863 \nL 1178 4134 \nL 603 4134 \nL 603 4863 \nz\n\" transform=\"scale(0.015625)\"/>\n      <path id=\"DejaVuSans-6e\" d=\"M 3513 2113 \nL 3513 0 \nL 2938 0 \nL 2938 2094 \nQ 2938 2591 2744 2837 \nQ 2550 3084 2163 3084 \nQ 1697 3084 1428 2787 \nQ 1159 2491 1159 1978 \nL 1159 0 \nL 581 0 \nL 581 3500 \nL 1159 3500 \nL 1159 2956 \nQ 1366 3272 1645 3428 \nQ 1925 3584 2291 3584 \nQ 2894 3584 3203 3211 \nQ 3513 2838 3513 2113 \nz\n\" transform=\"scale(0.015625)\"/>\n      <path id=\"DejaVuSans-73\" d=\"M 2834 3397 \nL 2834 2853 \nQ 2591 2978 2328 3040 \nQ 2066 3103 1784 3103 \nQ 1356 3103 1142 2972 \nQ 928 2841 928 2578 \nQ 928 2378 1081 2264 \nQ 1234 2150 1697 2047 \nL 1894 2003 \nQ 2506 1872 2764 1633 \nQ 3022 1394 3022 966 \nQ 3022 478 2636 193 \nQ 2250 -91 1575 -91 \nQ 1294 -91 989 -36 \nQ 684 19 347 128 \nL 347 722 \nQ 666 556 975 473 \nQ 1284 391 1588 391 \nQ 1994 391 2212 530 \nQ 2431 669 2431 922 \nQ 2431 1156 2273 1281 \nQ 2116 1406 1581 1522 \nL 1381 1569 \nQ 847 1681 609 1914 \nQ 372 2147 372 2553 \nQ 372 3047 722 3315 \nQ 1072 3584 1716 3584 \nQ 2034 3584 2315 3537 \nQ 2597 3491 2834 3397 \nz\n\" transform=\"scale(0.015625)\"/>\n      <path id=\"DejaVuSans-61\" d=\"M 2194 1759 \nQ 1497 1759 1228 1600 \nQ 959 1441 959 1056 \nQ 959 750 1161 570 \nQ 1363 391 1709 391 \nQ 2188 391 2477 730 \nQ 2766 1069 2766 1631 \nL 2766 1759 \nL 2194 1759 \nz\nM 3341 1997 \nL 3341 0 \nL 2766 0 \nL 2766 531 \nQ 2569 213 2275 61 \nQ 1981 -91 1556 -91 \nQ 1019 -91 701 211 \nQ 384 513 384 1019 \nQ 384 1609 779 1909 \nQ 1175 2209 1959 2209 \nL 2766 2209 \nL 2766 2266 \nQ 2766 2663 2505 2880 \nQ 2244 3097 1772 3097 \nQ 1472 3097 1187 3025 \nQ 903 2953 641 2809 \nL 641 3341 \nQ 956 3463 1253 3523 \nQ 1550 3584 1831 3584 \nQ 2591 3584 2966 3190 \nQ 3341 2797 3341 1997 \nz\n\" transform=\"scale(0.015625)\"/>\n      <path id=\"DejaVuSans-64\" d=\"M 2906 2969 \nL 2906 4863 \nL 3481 4863 \nL 3481 0 \nL 2906 0 \nL 2906 525 \nQ 2725 213 2448 61 \nQ 2172 -91 1784 -91 \nQ 1150 -91 751 415 \nQ 353 922 353 1747 \nQ 353 2572 751 3078 \nQ 1150 3584 1784 3584 \nQ 2172 3584 2448 3432 \nQ 2725 3281 2906 2969 \nz\nM 947 1747 \nQ 947 1113 1208 752 \nQ 1469 391 1925 391 \nQ 2381 391 2643 752 \nQ 2906 1113 2906 1747 \nQ 2906 2381 2643 2742 \nQ 2381 3103 1925 3103 \nQ 1469 3103 1208 2742 \nQ 947 2381 947 1747 \nz\n\" transform=\"scale(0.015625)\"/>\n      <path id=\"DejaVuSans-70\" d=\"M 1159 525 \nL 1159 -1331 \nL 581 -1331 \nL 581 3500 \nL 1159 3500 \nL 1159 2969 \nQ 1341 3281 1617 3432 \nQ 1894 3584 2278 3584 \nQ 2916 3584 3314 3078 \nQ 3713 2572 3713 1747 \nQ 3713 922 3314 415 \nQ 2916 -91 2278 -91 \nQ 1894 -91 1617 61 \nQ 1341 213 1159 525 \nz\nM 3116 1747 \nQ 3116 2381 2855 2742 \nQ 2594 3103 2138 3103 \nQ 1681 3103 1420 2742 \nQ 1159 2381 1159 1747 \nQ 1159 1113 1420 752 \nQ 1681 391 2138 391 \nQ 2594 391 2855 752 \nQ 3116 1113 3116 1747 \nz\n\" transform=\"scale(0.015625)\"/>\n     </defs>\n     <use xlink:href=\"#DejaVuSans-56\"/>\n     <use xlink:href=\"#DejaVuSans-65\" transform=\"translate(60.658203 0)\"/>\n     <use xlink:href=\"#DejaVuSans-63\" transform=\"translate(122.181641 0)\"/>\n     <use xlink:href=\"#DejaVuSans-74\" transform=\"translate(177.162109 0)\"/>\n     <use xlink:href=\"#DejaVuSans-6f\" transform=\"translate(216.371094 0)\"/>\n     <use xlink:href=\"#DejaVuSans-72\" transform=\"translate(277.552734 0)\"/>\n     <use xlink:href=\"#DejaVuSans-20\" transform=\"translate(318.666016 0)\"/>\n     <use xlink:href=\"#DejaVuSans-76\" transform=\"translate(350.453125 0)\"/>\n     <use xlink:href=\"#DejaVuSans-20\" transform=\"translate(409.632812 0)\"/>\n     <use xlink:href=\"#DejaVuSans-69\" transform=\"translate(441.419922 0)\"/>\n     <use xlink:href=\"#DejaVuSans-6e\" transform=\"translate(469.203125 0)\"/>\n     <use xlink:href=\"#DejaVuSans-20\" transform=\"translate(532.582031 0)\"/>\n     <use xlink:href=\"#DejaVuSans-73\" transform=\"translate(564.369141 0)\"/>\n     <use xlink:href=\"#DejaVuSans-74\" transform=\"translate(616.46875 0)\"/>\n     <use xlink:href=\"#DejaVuSans-61\" transform=\"translate(655.677734 0)\"/>\n     <use xlink:href=\"#DejaVuSans-6e\" transform=\"translate(716.957031 0)\"/>\n     <use xlink:href=\"#DejaVuSans-64\" transform=\"translate(780.335938 0)\"/>\n     <use xlink:href=\"#DejaVuSans-61\" transform=\"translate(843.8125 0)\"/>\n     <use xlink:href=\"#DejaVuSans-72\" transform=\"translate(905.091797 0)\"/>\n     <use xlink:href=\"#DejaVuSans-64\" transform=\"translate(944.455078 0)\"/>\n     <use xlink:href=\"#DejaVuSans-20\" transform=\"translate(1007.931641 0)\"/>\n     <use xlink:href=\"#DejaVuSans-70\" transform=\"translate(1039.71875 0)\"/>\n     <use xlink:href=\"#DejaVuSans-6f\" transform=\"translate(1103.195312 0)\"/>\n     <use xlink:href=\"#DejaVuSans-73\" transform=\"translate(1164.376953 0)\"/>\n     <use xlink:href=\"#DejaVuSans-69\" transform=\"translate(1216.476562 0)\"/>\n     <use xlink:href=\"#DejaVuSans-74\" transform=\"translate(1244.259766 0)\"/>\n     <use xlink:href=\"#DejaVuSans-69\" transform=\"translate(1283.46875 0)\"/>\n     <use xlink:href=\"#DejaVuSans-6f\" transform=\"translate(1311.251953 0)\"/>\n     <use xlink:href=\"#DejaVuSans-6e\" transform=\"translate(1372.433594 0)\"/>\n    </g>\n   </g>\n  </g>\n </g>\n <defs>\n  <clipPath id=\"p5640046918\">\n   <rect x=\"52.388438\" y=\"25.965375\" width=\"266.112\" height=\"266.112\"/>\n  </clipPath>\n </defs>\n</svg>\n"
          },
          "metadata": {}
        }
      ]
    },
    {
      "cell_type": "code",
      "source": [
        "# A range of starting positions\n",
        "start_pos = [\n",
        "    [0,0],\n",
        "    [-1,-1],\n",
        "    [1.5,-2]\n",
        "  ]\n",
        "\n",
        "# create a new figure\n",
        "fig = plt.figure(figsize=(6,6))\n",
        "\n",
        "for s in start_pos:\n",
        "  # plot that vector (and a dot for the tail)\n",
        "  # note that plt.arrow automatically adds an offset to the third/fourth inputs\n",
        "  plt.arrow(s[0],s[1],v[0],v[1],head_width=.5,width=.1,color='black')\n",
        "  plt.plot(s[0],s[1],'ko',markerfacecolor='k',markersize=7)\n",
        "\n",
        "  # indicate the vector in its standard position\n",
        "  if s==[0,0]:\n",
        "    plt.text(v[0]+.1,v[1]+.2,'\"Standard pos.\"')\n",
        "\n",
        "# add axis lines\n",
        "plt.plot([-3,3],[0,0],'--',color=[.8,.8,.8],zorder=-1)\n",
        "plt.plot([0,0],[-3,3],'--',color=[.8,.8,.8],zorder=-1)\n",
        "\n",
        "# make the plot look nicer\n",
        "plt.axis('square')\n",
        "plt.axis([-3,3,-3,3])\n",
        "plt.xlabel('$v_0$')\n",
        "plt.ylabel('$v_1$')\n",
        "plt.title('Vector in various locations')\n",
        "\n",
        "plt.show()"
      ],
      "metadata": {
        "colab": {
          "base_uri": "https://localhost:8080/",
          "height": 559
        },
        "id": "TK6PTYniBsda",
        "outputId": "220bc941-6c3c-4d3a-cefc-f25ad486e621"
      },
      "execution_count": null,
      "outputs": [
        {
          "output_type": "display_data",
          "data": {
            "text/plain": [
              "<Figure size 600x600 with 1 Axes>"
            ],
            "image/svg+xml": "<?xml version=\"1.0\" encoding=\"utf-8\" standalone=\"no\"?>\n<!DOCTYPE svg PUBLIC \"-//W3C//DTD SVG 1.1//EN\"\n  \"http://www.w3.org/Graphics/SVG/1.1/DTD/svg11.dtd\">\n<svg xmlns:xlink=\"http://www.w3.org/1999/xlink\" width=\"396.682187pt\" height=\"403.904125pt\" viewBox=\"0 0 396.682187 403.904125\" xmlns=\"http://www.w3.org/2000/svg\" version=\"1.1\">\n <metadata>\n  <rdf:RDF xmlns:dc=\"http://purl.org/dc/elements/1.1/\" xmlns:cc=\"http://creativecommons.org/ns#\" xmlns:rdf=\"http://www.w3.org/1999/02/22-rdf-syntax-ns#\">\n   <cc:Work>\n    <dc:type rdf:resource=\"http://purl.org/dc/dcmitype/StillImage\"/>\n    <dc:date>2025-05-03T05:19:31.454499</dc:date>\n    <dc:format>image/svg+xml</dc:format>\n    <dc:creator>\n     <cc:Agent>\n      <dc:title>Matplotlib v3.10.0, https://matplotlib.org/</dc:title>\n     </cc:Agent>\n    </dc:creator>\n   </cc:Work>\n  </rdf:RDF>\n </metadata>\n <defs>\n  <style type=\"text/css\">*{stroke-linejoin: round; stroke-linecap: butt}</style>\n </defs>\n <g id=\"figure_1\">\n  <g id=\"patch_1\">\n   <path d=\"M 0 403.904125 \nL 396.682187 403.904125 \nL 396.682187 0 \nL 0 0 \nz\n\" style=\"fill: #ffffff\"/>\n  </g>\n  <g id=\"axes_1\">\n   <g id=\"patch_2\">\n    <path d=\"M 52.388438 358.605375 \nL 385.028437 358.605375 \nL 385.028437 25.965375 \nL 52.388438 25.965375 \nz\n\" style=\"fill: #ffffff\"/>\n   </g>\n   <g id=\"line2d_1\">\n    <path d=\"M 52.388438 192.285375 \nL 385.028437 192.285375 \n\" clip-path=\"url(#pc8ad31a11f)\" style=\"fill: none; stroke-dasharray: 5.55,2.4; stroke-dashoffset: 0; stroke: #cccccc; stroke-width: 1.5\"/>\n   </g>\n   <g id=\"line2d_2\">\n    <path d=\"M 218.708438 358.605375 \nL 218.708438 25.965375 \n\" clip-path=\"url(#pc8ad31a11f)\" style=\"fill: none; stroke-dasharray: 5.55,2.4; stroke-dashoffset: 0; stroke: #cccccc; stroke-width: 1.5\"/>\n   </g>\n   <g id=\"patch_3\">\n    <path d=\"M 144.673296 44.215092 \nL 175.665198 75.206995 \nL 165.74779 80.165699 \nL 221.18779 191.045699 \nL 216.229085 193.525051 \nL 160.789085 82.645051 \nL 150.871677 87.603755 \nz\n\" clip-path=\"url(#pc8ad31a11f)\" style=\"stroke: #000000; stroke-linejoin: miter\"/>\n   </g>\n   <g id=\"patch_4\">\n    <path d=\"M 89.233296 99.655092 \nL 120.225198 130.646995 \nL 110.30779 135.605699 \nL 165.74779 246.485699 \nL 160.789085 248.965051 \nL 105.349085 138.085051 \nL 95.431677 143.043755 \nz\n\" clip-path=\"url(#pc8ad31a11f)\" style=\"stroke: #000000; stroke-linejoin: miter\"/>\n   </g>\n   <g id=\"patch_5\">\n    <path d=\"M 227.833296 155.095092 \nL 258.825198 186.086995 \nL 248.90779 191.045699 \nL 304.34779 301.925699 \nL 299.389085 304.405051 \nL 243.949085 193.525051 \nL 234.031677 198.483755 \nz\n\" clip-path=\"url(#pc8ad31a11f)\" style=\"stroke: #000000; stroke-linejoin: miter\"/>\n   </g>\n   <g id=\"matplotlib.axis_1\">\n    <g id=\"xtick_1\">\n     <g id=\"line2d_3\">\n      <defs>\n       <path id=\"m0c287f15e0\" d=\"M 0 0 \nL 0 3.5 \n\" style=\"stroke: #000000; stroke-width: 0.8\"/>\n      </defs>\n      <g>\n       <use xlink:href=\"#m0c287f15e0\" x=\"52.388438\" y=\"358.605375\" style=\"stroke: #000000; stroke-width: 0.8\"/>\n      </g>\n     </g>\n     <g id=\"text_1\">\n      <!-- −3 -->\n      <g transform=\"translate(42.068906 376.243188) scale(0.14 -0.14)\">\n       <defs>\n        <path id=\"DejaVuSans-2212\" d=\"M 678 2272 \nL 4684 2272 \nL 4684 1741 \nL 678 1741 \nL 678 2272 \nz\n\" transform=\"scale(0.015625)\"/>\n        <path id=\"DejaVuSans-33\" d=\"M 2597 2516 \nQ 3050 2419 3304 2112 \nQ 3559 1806 3559 1356 \nQ 3559 666 3084 287 \nQ 2609 -91 1734 -91 \nQ 1441 -91 1130 -33 \nQ 819 25 488 141 \nL 488 750 \nQ 750 597 1062 519 \nQ 1375 441 1716 441 \nQ 2309 441 2620 675 \nQ 2931 909 2931 1356 \nQ 2931 1769 2642 2001 \nQ 2353 2234 1838 2234 \nL 1294 2234 \nL 1294 2753 \nL 1863 2753 \nQ 2328 2753 2575 2939 \nQ 2822 3125 2822 3475 \nQ 2822 3834 2567 4026 \nQ 2313 4219 1838 4219 \nQ 1578 4219 1281 4162 \nQ 984 4106 628 3988 \nL 628 4550 \nQ 988 4650 1302 4700 \nQ 1616 4750 1894 4750 \nQ 2613 4750 3031 4423 \nQ 3450 4097 3450 3541 \nQ 3450 3153 3228 2886 \nQ 3006 2619 2597 2516 \nz\n\" transform=\"scale(0.015625)\"/>\n       </defs>\n       <use xlink:href=\"#DejaVuSans-2212\"/>\n       <use xlink:href=\"#DejaVuSans-33\" transform=\"translate(83.789062 0)\"/>\n      </g>\n     </g>\n    </g>\n    <g id=\"xtick_2\">\n     <g id=\"line2d_4\">\n      <g>\n       <use xlink:href=\"#m0c287f15e0\" x=\"107.828438\" y=\"358.605375\" style=\"stroke: #000000; stroke-width: 0.8\"/>\n      </g>\n     </g>\n     <g id=\"text_2\">\n      <!-- −2 -->\n      <g transform=\"translate(97.508906 376.243188) scale(0.14 -0.14)\">\n       <defs>\n        <path id=\"DejaVuSans-32\" d=\"M 1228 531 \nL 3431 531 \nL 3431 0 \nL 469 0 \nL 469 531 \nQ 828 903 1448 1529 \nQ 2069 2156 2228 2338 \nQ 2531 2678 2651 2914 \nQ 2772 3150 2772 3378 \nQ 2772 3750 2511 3984 \nQ 2250 4219 1831 4219 \nQ 1534 4219 1204 4116 \nQ 875 4013 500 3803 \nL 500 4441 \nQ 881 4594 1212 4672 \nQ 1544 4750 1819 4750 \nQ 2544 4750 2975 4387 \nQ 3406 4025 3406 3419 \nQ 3406 3131 3298 2873 \nQ 3191 2616 2906 2266 \nQ 2828 2175 2409 1742 \nQ 1991 1309 1228 531 \nz\n\" transform=\"scale(0.015625)\"/>\n       </defs>\n       <use xlink:href=\"#DejaVuSans-2212\"/>\n       <use xlink:href=\"#DejaVuSans-32\" transform=\"translate(83.789062 0)\"/>\n      </g>\n     </g>\n    </g>\n    <g id=\"xtick_3\">\n     <g id=\"line2d_5\">\n      <g>\n       <use xlink:href=\"#m0c287f15e0\" x=\"163.268438\" y=\"358.605375\" style=\"stroke: #000000; stroke-width: 0.8\"/>\n      </g>\n     </g>\n     <g id=\"text_3\">\n      <!-- −1 -->\n      <g transform=\"translate(152.948906 376.243188) scale(0.14 -0.14)\">\n       <defs>\n        <path id=\"DejaVuSans-31\" d=\"M 794 531 \nL 1825 531 \nL 1825 4091 \nL 703 3866 \nL 703 4441 \nL 1819 4666 \nL 2450 4666 \nL 2450 531 \nL 3481 531 \nL 3481 0 \nL 794 0 \nL 794 531 \nz\n\" transform=\"scale(0.015625)\"/>\n       </defs>\n       <use xlink:href=\"#DejaVuSans-2212\"/>\n       <use xlink:href=\"#DejaVuSans-31\" transform=\"translate(83.789062 0)\"/>\n      </g>\n     </g>\n    </g>\n    <g id=\"xtick_4\">\n     <g id=\"line2d_6\">\n      <g>\n       <use xlink:href=\"#m0c287f15e0\" x=\"218.708438\" y=\"358.605375\" style=\"stroke: #000000; stroke-width: 0.8\"/>\n      </g>\n     </g>\n     <g id=\"text_4\">\n      <!-- 0 -->\n      <g transform=\"translate(214.254687 376.243188) scale(0.14 -0.14)\">\n       <defs>\n        <path id=\"DejaVuSans-30\" d=\"M 2034 4250 \nQ 1547 4250 1301 3770 \nQ 1056 3291 1056 2328 \nQ 1056 1369 1301 889 \nQ 1547 409 2034 409 \nQ 2525 409 2770 889 \nQ 3016 1369 3016 2328 \nQ 3016 3291 2770 3770 \nQ 2525 4250 2034 4250 \nz\nM 2034 4750 \nQ 2819 4750 3233 4129 \nQ 3647 3509 3647 2328 \nQ 3647 1150 3233 529 \nQ 2819 -91 2034 -91 \nQ 1250 -91 836 529 \nQ 422 1150 422 2328 \nQ 422 3509 836 4129 \nQ 1250 4750 2034 4750 \nz\n\" transform=\"scale(0.015625)\"/>\n       </defs>\n       <use xlink:href=\"#DejaVuSans-30\"/>\n      </g>\n     </g>\n    </g>\n    <g id=\"xtick_5\">\n     <g id=\"line2d_7\">\n      <g>\n       <use xlink:href=\"#m0c287f15e0\" x=\"274.148438\" y=\"358.605375\" style=\"stroke: #000000; stroke-width: 0.8\"/>\n      </g>\n     </g>\n     <g id=\"text_5\">\n      <!-- 1 -->\n      <g transform=\"translate(269.694687 376.243188) scale(0.14 -0.14)\">\n       <use xlink:href=\"#DejaVuSans-31\"/>\n      </g>\n     </g>\n    </g>\n    <g id=\"xtick_6\">\n     <g id=\"line2d_8\">\n      <g>\n       <use xlink:href=\"#m0c287f15e0\" x=\"329.588437\" y=\"358.605375\" style=\"stroke: #000000; stroke-width: 0.8\"/>\n      </g>\n     </g>\n     <g id=\"text_6\">\n      <!-- 2 -->\n      <g transform=\"translate(325.134687 376.243188) scale(0.14 -0.14)\">\n       <use xlink:href=\"#DejaVuSans-32\"/>\n      </g>\n     </g>\n    </g>\n    <g id=\"xtick_7\">\n     <g id=\"line2d_9\">\n      <g>\n       <use xlink:href=\"#m0c287f15e0\" x=\"385.028437\" y=\"358.605375\" style=\"stroke: #000000; stroke-width: 0.8\"/>\n      </g>\n     </g>\n     <g id=\"text_7\">\n      <!-- 3 -->\n      <g transform=\"translate(380.574687 376.243188) scale(0.14 -0.14)\">\n       <use xlink:href=\"#DejaVuSans-33\"/>\n      </g>\n     </g>\n    </g>\n    <g id=\"text_8\">\n     <!-- $v_0$ -->\n     <g transform=\"translate(211.218437 393.792563) scale(0.14 -0.14)\">\n      <defs>\n       <path id=\"DejaVuSans-Oblique-76\" d=\"M 459 3500 \nL 1069 3500 \nL 1581 525 \nL 3256 3500 \nL 3866 3500 \nL 1875 0 \nL 1100 0 \nL 459 3500 \nz\n\" transform=\"scale(0.015625)\"/>\n      </defs>\n      <use xlink:href=\"#DejaVuSans-Oblique-76\" transform=\"translate(0 0.3125)\"/>\n      <use xlink:href=\"#DejaVuSans-30\" transform=\"translate(59.179688 -16.09375) scale(0.7)\"/>\n     </g>\n    </g>\n   </g>\n   <g id=\"matplotlib.axis_2\">\n    <g id=\"ytick_1\">\n     <g id=\"line2d_10\">\n      <defs>\n       <path id=\"ma4399c5d4c\" d=\"M 0 0 \nL -3.5 0 \n\" style=\"stroke: #000000; stroke-width: 0.8\"/>\n      </defs>\n      <g>\n       <use xlink:href=\"#ma4399c5d4c\" x=\"52.388438\" y=\"358.605375\" style=\"stroke: #000000; stroke-width: 0.8\"/>\n      </g>\n     </g>\n     <g id=\"text_9\">\n      <!-- −3 -->\n      <g transform=\"translate(24.749375 363.924281) scale(0.14 -0.14)\">\n       <use xlink:href=\"#DejaVuSans-2212\"/>\n       <use xlink:href=\"#DejaVuSans-33\" transform=\"translate(83.789062 0)\"/>\n      </g>\n     </g>\n    </g>\n    <g id=\"ytick_2\">\n     <g id=\"line2d_11\">\n      <g>\n       <use xlink:href=\"#ma4399c5d4c\" x=\"52.388438\" y=\"303.165375\" style=\"stroke: #000000; stroke-width: 0.8\"/>\n      </g>\n     </g>\n     <g id=\"text_10\">\n      <!-- −2 -->\n      <g transform=\"translate(24.749375 308.484281) scale(0.14 -0.14)\">\n       <use xlink:href=\"#DejaVuSans-2212\"/>\n       <use xlink:href=\"#DejaVuSans-32\" transform=\"translate(83.789062 0)\"/>\n      </g>\n     </g>\n    </g>\n    <g id=\"ytick_3\">\n     <g id=\"line2d_12\">\n      <g>\n       <use xlink:href=\"#ma4399c5d4c\" x=\"52.388438\" y=\"247.725375\" style=\"stroke: #000000; stroke-width: 0.8\"/>\n      </g>\n     </g>\n     <g id=\"text_11\">\n      <!-- −1 -->\n      <g transform=\"translate(24.749375 253.044281) scale(0.14 -0.14)\">\n       <use xlink:href=\"#DejaVuSans-2212\"/>\n       <use xlink:href=\"#DejaVuSans-31\" transform=\"translate(83.789062 0)\"/>\n      </g>\n     </g>\n    </g>\n    <g id=\"ytick_4\">\n     <g id=\"line2d_13\">\n      <g>\n       <use xlink:href=\"#ma4399c5d4c\" x=\"52.388438\" y=\"192.285375\" style=\"stroke: #000000; stroke-width: 0.8\"/>\n      </g>\n     </g>\n     <g id=\"text_12\">\n      <!-- 0 -->\n      <g transform=\"translate(36.480938 197.604281) scale(0.14 -0.14)\">\n       <use xlink:href=\"#DejaVuSans-30\"/>\n      </g>\n     </g>\n    </g>\n    <g id=\"ytick_5\">\n     <g id=\"line2d_14\">\n      <g>\n       <use xlink:href=\"#ma4399c5d4c\" x=\"52.388438\" y=\"136.845375\" style=\"stroke: #000000; stroke-width: 0.8\"/>\n      </g>\n     </g>\n     <g id=\"text_13\">\n      <!-- 1 -->\n      <g transform=\"translate(36.480938 142.164281) scale(0.14 -0.14)\">\n       <use xlink:href=\"#DejaVuSans-31\"/>\n      </g>\n     </g>\n    </g>\n    <g id=\"ytick_6\">\n     <g id=\"line2d_15\">\n      <g>\n       <use xlink:href=\"#ma4399c5d4c\" x=\"52.388438\" y=\"81.405375\" style=\"stroke: #000000; stroke-width: 0.8\"/>\n      </g>\n     </g>\n     <g id=\"text_14\">\n      <!-- 2 -->\n      <g transform=\"translate(36.480938 86.724281) scale(0.14 -0.14)\">\n       <use xlink:href=\"#DejaVuSans-32\"/>\n      </g>\n     </g>\n    </g>\n    <g id=\"ytick_7\">\n     <g id=\"line2d_16\">\n      <g>\n       <use xlink:href=\"#ma4399c5d4c\" x=\"52.388438\" y=\"25.965375\" style=\"stroke: #000000; stroke-width: 0.8\"/>\n      </g>\n     </g>\n     <g id=\"text_15\">\n      <!-- 3 -->\n      <g transform=\"translate(36.480938 31.284281) scale(0.14 -0.14)\">\n       <use xlink:href=\"#DejaVuSans-33\"/>\n      </g>\n     </g>\n    </g>\n    <g id=\"text_16\">\n     <!-- $v_1$ -->\n     <g transform=\"translate(17.837812 199.775375) rotate(-90) scale(0.14 -0.14)\">\n      <use xlink:href=\"#DejaVuSans-Oblique-76\" transform=\"translate(0 0.3125)\"/>\n      <use xlink:href=\"#DejaVuSans-31\" transform=\"translate(59.179688 -16.09375) scale(0.7)\"/>\n     </g>\n    </g>\n   </g>\n   <g id=\"line2d_17\">\n    <defs>\n     <path id=\"m09e8ba5acd\" d=\"M 0 3.5 \nC 0.928211 3.5 1.81853 3.131218 2.474874 2.474874 \nC 3.131218 1.81853 3.5 0.928211 3.5 0 \nC 3.5 -0.928211 3.131218 -1.81853 2.474874 -2.474874 \nC 1.81853 -3.131218 0.928211 -3.5 0 -3.5 \nC -0.928211 -3.5 -1.81853 -3.131218 -2.474874 -2.474874 \nC -3.131218 -1.81853 -3.5 -0.928211 -3.5 0 \nC -3.5 0.928211 -3.131218 1.81853 -2.474874 2.474874 \nC -1.81853 3.131218 -0.928211 3.5 0 3.5 \nz\n\" style=\"stroke: #000000\"/>\n    </defs>\n    <g clip-path=\"url(#pc8ad31a11f)\">\n     <use xlink:href=\"#m09e8ba5acd\" x=\"218.708438\" y=\"192.285375\" style=\"stroke: #000000\"/>\n    </g>\n   </g>\n   <g id=\"line2d_18\">\n    <g clip-path=\"url(#pc8ad31a11f)\">\n     <use xlink:href=\"#m09e8ba5acd\" x=\"163.268438\" y=\"247.725375\" style=\"stroke: #000000\"/>\n    </g>\n   </g>\n   <g id=\"line2d_19\">\n    <g clip-path=\"url(#pc8ad31a11f)\">\n     <use xlink:href=\"#m09e8ba5acd\" x=\"301.868438\" y=\"303.165375\" style=\"stroke: #000000\"/>\n    </g>\n   </g>\n   <g id=\"patch_6\">\n    <path d=\"M 52.388438 358.605375 \nL 52.388438 25.965375 \n\" style=\"fill: none; stroke: #000000; stroke-width: 0.8; stroke-linejoin: miter; stroke-linecap: square\"/>\n   </g>\n   <g id=\"patch_7\">\n    <path d=\"M 385.028437 358.605375 \nL 385.028437 25.965375 \n\" style=\"fill: none; stroke: #000000; stroke-width: 0.8; stroke-linejoin: miter; stroke-linecap: square\"/>\n   </g>\n   <g id=\"patch_8\">\n    <path d=\"M 52.388438 358.605375 \nL 385.028437 358.605375 \n\" style=\"fill: none; stroke: #000000; stroke-width: 0.8; stroke-linejoin: miter; stroke-linecap: square\"/>\n   </g>\n   <g id=\"patch_9\">\n    <path d=\"M 52.388438 25.965375 \nL 385.028437 25.965375 \n\" style=\"fill: none; stroke: #000000; stroke-width: 0.8; stroke-linejoin: miter; stroke-linecap: square\"/>\n   </g>\n   <g id=\"text_17\">\n    <!-- \"Standard pos.\" -->\n    <g transform=\"translate(168.812437 70.317375) scale(0.14 -0.14)\">\n     <defs>\n      <path id=\"DejaVuSans-22\" d=\"M 1147 4666 \nL 1147 2931 \nL 616 2931 \nL 616 4666 \nL 1147 4666 \nz\nM 2328 4666 \nL 2328 2931 \nL 1797 2931 \nL 1797 4666 \nL 2328 4666 \nz\n\" transform=\"scale(0.015625)\"/>\n      <path id=\"DejaVuSans-53\" d=\"M 3425 4513 \nL 3425 3897 \nQ 3066 4069 2747 4153 \nQ 2428 4238 2131 4238 \nQ 1616 4238 1336 4038 \nQ 1056 3838 1056 3469 \nQ 1056 3159 1242 3001 \nQ 1428 2844 1947 2747 \nL 2328 2669 \nQ 3034 2534 3370 2195 \nQ 3706 1856 3706 1288 \nQ 3706 609 3251 259 \nQ 2797 -91 1919 -91 \nQ 1588 -91 1214 -16 \nQ 841 59 441 206 \nL 441 856 \nQ 825 641 1194 531 \nQ 1563 422 1919 422 \nQ 2459 422 2753 634 \nQ 3047 847 3047 1241 \nQ 3047 1584 2836 1778 \nQ 2625 1972 2144 2069 \nL 1759 2144 \nQ 1053 2284 737 2584 \nQ 422 2884 422 3419 \nQ 422 4038 858 4394 \nQ 1294 4750 2059 4750 \nQ 2388 4750 2728 4690 \nQ 3069 4631 3425 4513 \nz\n\" transform=\"scale(0.015625)\"/>\n      <path id=\"DejaVuSans-74\" d=\"M 1172 4494 \nL 1172 3500 \nL 2356 3500 \nL 2356 3053 \nL 1172 3053 \nL 1172 1153 \nQ 1172 725 1289 603 \nQ 1406 481 1766 481 \nL 2356 481 \nL 2356 0 \nL 1766 0 \nQ 1100 0 847 248 \nQ 594 497 594 1153 \nL 594 3053 \nL 172 3053 \nL 172 3500 \nL 594 3500 \nL 594 4494 \nL 1172 4494 \nz\n\" transform=\"scale(0.015625)\"/>\n      <path id=\"DejaVuSans-61\" d=\"M 2194 1759 \nQ 1497 1759 1228 1600 \nQ 959 1441 959 1056 \nQ 959 750 1161 570 \nQ 1363 391 1709 391 \nQ 2188 391 2477 730 \nQ 2766 1069 2766 1631 \nL 2766 1759 \nL 2194 1759 \nz\nM 3341 1997 \nL 3341 0 \nL 2766 0 \nL 2766 531 \nQ 2569 213 2275 61 \nQ 1981 -91 1556 -91 \nQ 1019 -91 701 211 \nQ 384 513 384 1019 \nQ 384 1609 779 1909 \nQ 1175 2209 1959 2209 \nL 2766 2209 \nL 2766 2266 \nQ 2766 2663 2505 2880 \nQ 2244 3097 1772 3097 \nQ 1472 3097 1187 3025 \nQ 903 2953 641 2809 \nL 641 3341 \nQ 956 3463 1253 3523 \nQ 1550 3584 1831 3584 \nQ 2591 3584 2966 3190 \nQ 3341 2797 3341 1997 \nz\n\" transform=\"scale(0.015625)\"/>\n      <path id=\"DejaVuSans-6e\" d=\"M 3513 2113 \nL 3513 0 \nL 2938 0 \nL 2938 2094 \nQ 2938 2591 2744 2837 \nQ 2550 3084 2163 3084 \nQ 1697 3084 1428 2787 \nQ 1159 2491 1159 1978 \nL 1159 0 \nL 581 0 \nL 581 3500 \nL 1159 3500 \nL 1159 2956 \nQ 1366 3272 1645 3428 \nQ 1925 3584 2291 3584 \nQ 2894 3584 3203 3211 \nQ 3513 2838 3513 2113 \nz\n\" transform=\"scale(0.015625)\"/>\n      <path id=\"DejaVuSans-64\" d=\"M 2906 2969 \nL 2906 4863 \nL 3481 4863 \nL 3481 0 \nL 2906 0 \nL 2906 525 \nQ 2725 213 2448 61 \nQ 2172 -91 1784 -91 \nQ 1150 -91 751 415 \nQ 353 922 353 1747 \nQ 353 2572 751 3078 \nQ 1150 3584 1784 3584 \nQ 2172 3584 2448 3432 \nQ 2725 3281 2906 2969 \nz\nM 947 1747 \nQ 947 1113 1208 752 \nQ 1469 391 1925 391 \nQ 2381 391 2643 752 \nQ 2906 1113 2906 1747 \nQ 2906 2381 2643 2742 \nQ 2381 3103 1925 3103 \nQ 1469 3103 1208 2742 \nQ 947 2381 947 1747 \nz\n\" transform=\"scale(0.015625)\"/>\n      <path id=\"DejaVuSans-72\" d=\"M 2631 2963 \nQ 2534 3019 2420 3045 \nQ 2306 3072 2169 3072 \nQ 1681 3072 1420 2755 \nQ 1159 2438 1159 1844 \nL 1159 0 \nL 581 0 \nL 581 3500 \nL 1159 3500 \nL 1159 2956 \nQ 1341 3275 1631 3429 \nQ 1922 3584 2338 3584 \nQ 2397 3584 2469 3576 \nQ 2541 3569 2628 3553 \nL 2631 2963 \nz\n\" transform=\"scale(0.015625)\"/>\n      <path id=\"DejaVuSans-20\" transform=\"scale(0.015625)\"/>\n      <path id=\"DejaVuSans-70\" d=\"M 1159 525 \nL 1159 -1331 \nL 581 -1331 \nL 581 3500 \nL 1159 3500 \nL 1159 2969 \nQ 1341 3281 1617 3432 \nQ 1894 3584 2278 3584 \nQ 2916 3584 3314 3078 \nQ 3713 2572 3713 1747 \nQ 3713 922 3314 415 \nQ 2916 -91 2278 -91 \nQ 1894 -91 1617 61 \nQ 1341 213 1159 525 \nz\nM 3116 1747 \nQ 3116 2381 2855 2742 \nQ 2594 3103 2138 3103 \nQ 1681 3103 1420 2742 \nQ 1159 2381 1159 1747 \nQ 1159 1113 1420 752 \nQ 1681 391 2138 391 \nQ 2594 391 2855 752 \nQ 3116 1113 3116 1747 \nz\n\" transform=\"scale(0.015625)\"/>\n      <path id=\"DejaVuSans-6f\" d=\"M 1959 3097 \nQ 1497 3097 1228 2736 \nQ 959 2375 959 1747 \nQ 959 1119 1226 758 \nQ 1494 397 1959 397 \nQ 2419 397 2687 759 \nQ 2956 1122 2956 1747 \nQ 2956 2369 2687 2733 \nQ 2419 3097 1959 3097 \nz\nM 1959 3584 \nQ 2709 3584 3137 3096 \nQ 3566 2609 3566 1747 \nQ 3566 888 3137 398 \nQ 2709 -91 1959 -91 \nQ 1206 -91 779 398 \nQ 353 888 353 1747 \nQ 353 2609 779 3096 \nQ 1206 3584 1959 3584 \nz\n\" transform=\"scale(0.015625)\"/>\n      <path id=\"DejaVuSans-73\" d=\"M 2834 3397 \nL 2834 2853 \nQ 2591 2978 2328 3040 \nQ 2066 3103 1784 3103 \nQ 1356 3103 1142 2972 \nQ 928 2841 928 2578 \nQ 928 2378 1081 2264 \nQ 1234 2150 1697 2047 \nL 1894 2003 \nQ 2506 1872 2764 1633 \nQ 3022 1394 3022 966 \nQ 3022 478 2636 193 \nQ 2250 -91 1575 -91 \nQ 1294 -91 989 -36 \nQ 684 19 347 128 \nL 347 722 \nQ 666 556 975 473 \nQ 1284 391 1588 391 \nQ 1994 391 2212 530 \nQ 2431 669 2431 922 \nQ 2431 1156 2273 1281 \nQ 2116 1406 1581 1522 \nL 1381 1569 \nQ 847 1681 609 1914 \nQ 372 2147 372 2553 \nQ 372 3047 722 3315 \nQ 1072 3584 1716 3584 \nQ 2034 3584 2315 3537 \nQ 2597 3491 2834 3397 \nz\n\" transform=\"scale(0.015625)\"/>\n      <path id=\"DejaVuSans-2e\" d=\"M 684 794 \nL 1344 794 \nL 1344 0 \nL 684 0 \nL 684 794 \nz\n\" transform=\"scale(0.015625)\"/>\n     </defs>\n     <use xlink:href=\"#DejaVuSans-22\"/>\n     <use xlink:href=\"#DejaVuSans-53\" transform=\"translate(45.996094 0)\"/>\n     <use xlink:href=\"#DejaVuSans-74\" transform=\"translate(109.472656 0)\"/>\n     <use xlink:href=\"#DejaVuSans-61\" transform=\"translate(148.681641 0)\"/>\n     <use xlink:href=\"#DejaVuSans-6e\" transform=\"translate(209.960938 0)\"/>\n     <use xlink:href=\"#DejaVuSans-64\" transform=\"translate(273.339844 0)\"/>\n     <use xlink:href=\"#DejaVuSans-61\" transform=\"translate(336.816406 0)\"/>\n     <use xlink:href=\"#DejaVuSans-72\" transform=\"translate(398.095703 0)\"/>\n     <use xlink:href=\"#DejaVuSans-64\" transform=\"translate(437.458984 0)\"/>\n     <use xlink:href=\"#DejaVuSans-20\" transform=\"translate(500.935547 0)\"/>\n     <use xlink:href=\"#DejaVuSans-70\" transform=\"translate(532.722656 0)\"/>\n     <use xlink:href=\"#DejaVuSans-6f\" transform=\"translate(596.199219 0)\"/>\n     <use xlink:href=\"#DejaVuSans-73\" transform=\"translate(657.380859 0)\"/>\n     <use xlink:href=\"#DejaVuSans-2e\" transform=\"translate(709.480469 0)\"/>\n     <use xlink:href=\"#DejaVuSans-22\" transform=\"translate(741.267578 0)\"/>\n    </g>\n   </g>\n   <g id=\"text_18\">\n    <!-- Vector in various locations -->\n    <g transform=\"translate(107.823187 19.965375) scale(0.168 -0.168)\">\n     <defs>\n      <path id=\"DejaVuSans-56\" d=\"M 1831 0 \nL 50 4666 \nL 709 4666 \nL 2188 738 \nL 3669 4666 \nL 4325 4666 \nL 2547 0 \nL 1831 0 \nz\n\" transform=\"scale(0.015625)\"/>\n      <path id=\"DejaVuSans-65\" d=\"M 3597 1894 \nL 3597 1613 \nL 953 1613 \nQ 991 1019 1311 708 \nQ 1631 397 2203 397 \nQ 2534 397 2845 478 \nQ 3156 559 3463 722 \nL 3463 178 \nQ 3153 47 2828 -22 \nQ 2503 -91 2169 -91 \nQ 1331 -91 842 396 \nQ 353 884 353 1716 \nQ 353 2575 817 3079 \nQ 1281 3584 2069 3584 \nQ 2775 3584 3186 3129 \nQ 3597 2675 3597 1894 \nz\nM 3022 2063 \nQ 3016 2534 2758 2815 \nQ 2500 3097 2075 3097 \nQ 1594 3097 1305 2825 \nQ 1016 2553 972 2059 \nL 3022 2063 \nz\n\" transform=\"scale(0.015625)\"/>\n      <path id=\"DejaVuSans-63\" d=\"M 3122 3366 \nL 3122 2828 \nQ 2878 2963 2633 3030 \nQ 2388 3097 2138 3097 \nQ 1578 3097 1268 2742 \nQ 959 2388 959 1747 \nQ 959 1106 1268 751 \nQ 1578 397 2138 397 \nQ 2388 397 2633 464 \nQ 2878 531 3122 666 \nL 3122 134 \nQ 2881 22 2623 -34 \nQ 2366 -91 2075 -91 \nQ 1284 -91 818 406 \nQ 353 903 353 1747 \nQ 353 2603 823 3093 \nQ 1294 3584 2113 3584 \nQ 2378 3584 2631 3529 \nQ 2884 3475 3122 3366 \nz\n\" transform=\"scale(0.015625)\"/>\n      <path id=\"DejaVuSans-69\" d=\"M 603 3500 \nL 1178 3500 \nL 1178 0 \nL 603 0 \nL 603 3500 \nz\nM 603 4863 \nL 1178 4863 \nL 1178 4134 \nL 603 4134 \nL 603 4863 \nz\n\" transform=\"scale(0.015625)\"/>\n      <path id=\"DejaVuSans-76\" d=\"M 191 3500 \nL 800 3500 \nL 1894 563 \nL 2988 3500 \nL 3597 3500 \nL 2284 0 \nL 1503 0 \nL 191 3500 \nz\n\" transform=\"scale(0.015625)\"/>\n      <path id=\"DejaVuSans-75\" d=\"M 544 1381 \nL 544 3500 \nL 1119 3500 \nL 1119 1403 \nQ 1119 906 1312 657 \nQ 1506 409 1894 409 \nQ 2359 409 2629 706 \nQ 2900 1003 2900 1516 \nL 2900 3500 \nL 3475 3500 \nL 3475 0 \nL 2900 0 \nL 2900 538 \nQ 2691 219 2414 64 \nQ 2138 -91 1772 -91 \nQ 1169 -91 856 284 \nQ 544 659 544 1381 \nz\nM 1991 3584 \nL 1991 3584 \nz\n\" transform=\"scale(0.015625)\"/>\n      <path id=\"DejaVuSans-6c\" d=\"M 603 4863 \nL 1178 4863 \nL 1178 0 \nL 603 0 \nL 603 4863 \nz\n\" transform=\"scale(0.015625)\"/>\n     </defs>\n     <use xlink:href=\"#DejaVuSans-56\"/>\n     <use xlink:href=\"#DejaVuSans-65\" transform=\"translate(60.658203 0)\"/>\n     <use xlink:href=\"#DejaVuSans-63\" transform=\"translate(122.181641 0)\"/>\n     <use xlink:href=\"#DejaVuSans-74\" transform=\"translate(177.162109 0)\"/>\n     <use xlink:href=\"#DejaVuSans-6f\" transform=\"translate(216.371094 0)\"/>\n     <use xlink:href=\"#DejaVuSans-72\" transform=\"translate(277.552734 0)\"/>\n     <use xlink:href=\"#DejaVuSans-20\" transform=\"translate(318.666016 0)\"/>\n     <use xlink:href=\"#DejaVuSans-69\" transform=\"translate(350.453125 0)\"/>\n     <use xlink:href=\"#DejaVuSans-6e\" transform=\"translate(378.236328 0)\"/>\n     <use xlink:href=\"#DejaVuSans-20\" transform=\"translate(441.615234 0)\"/>\n     <use xlink:href=\"#DejaVuSans-76\" transform=\"translate(473.402344 0)\"/>\n     <use xlink:href=\"#DejaVuSans-61\" transform=\"translate(532.582031 0)\"/>\n     <use xlink:href=\"#DejaVuSans-72\" transform=\"translate(593.861328 0)\"/>\n     <use xlink:href=\"#DejaVuSans-69\" transform=\"translate(634.974609 0)\"/>\n     <use xlink:href=\"#DejaVuSans-6f\" transform=\"translate(662.757812 0)\"/>\n     <use xlink:href=\"#DejaVuSans-75\" transform=\"translate(723.939453 0)\"/>\n     <use xlink:href=\"#DejaVuSans-73\" transform=\"translate(787.318359 0)\"/>\n     <use xlink:href=\"#DejaVuSans-20\" transform=\"translate(839.417969 0)\"/>\n     <use xlink:href=\"#DejaVuSans-6c\" transform=\"translate(871.205078 0)\"/>\n     <use xlink:href=\"#DejaVuSans-6f\" transform=\"translate(898.988281 0)\"/>\n     <use xlink:href=\"#DejaVuSans-63\" transform=\"translate(960.169922 0)\"/>\n     <use xlink:href=\"#DejaVuSans-61\" transform=\"translate(1015.150391 0)\"/>\n     <use xlink:href=\"#DejaVuSans-74\" transform=\"translate(1076.429688 0)\"/>\n     <use xlink:href=\"#DejaVuSans-69\" transform=\"translate(1115.638672 0)\"/>\n     <use xlink:href=\"#DejaVuSans-6f\" transform=\"translate(1143.421875 0)\"/>\n     <use xlink:href=\"#DejaVuSans-6e\" transform=\"translate(1204.603516 0)\"/>\n     <use xlink:href=\"#DejaVuSans-73\" transform=\"translate(1267.982422 0)\"/>\n    </g>\n   </g>\n  </g>\n </g>\n <defs>\n  <clipPath id=\"pc8ad31a11f\">\n   <rect x=\"52.388438\" y=\"25.965375\" width=\"332.64\" height=\"332.64\"/>\n  </clipPath>\n </defs>\n</svg>\n"
          },
          "metadata": {}
        }
      ]
    },
    {
      "cell_type": "markdown",
      "source": [
        "##Vector Operations"
      ],
      "metadata": {
        "id": "aqkmuWKbCPxI"
      }
    },
    {
      "cell_type": "markdown",
      "source": [
        "###Addition"
      ],
      "metadata": {
        "id": "_vxV69_hC45I"
      }
    },
    {
      "cell_type": "code",
      "source": [
        "v = np.array([1, 2])\n",
        "w = np.array([4, -6])\n",
        "v_w = v + w\n",
        "\n",
        "print(v)\n",
        "print(w)\n",
        "print(v_w)"
      ],
      "metadata": {
        "colab": {
          "base_uri": "https://localhost:8080/"
        },
        "id": "VSil5XfpCTCp",
        "outputId": "4b64b539-0604-446e-9ad4-08352f14aaf7"
      },
      "execution_count": null,
      "outputs": [
        {
          "output_type": "stream",
          "name": "stdout",
          "text": [
            "[1 2]\n",
            "[ 4 -6]\n",
            "[ 5 -4]\n"
          ]
        }
      ]
    },
    {
      "cell_type": "code",
      "source": [
        "a = np.array([4, 5, 6])\n",
        "b = np.array([10, 20, 30])\n",
        "c = np.array([0, 3, 6, 9])\n",
        "d = a + b\n",
        "print(d)"
      ],
      "metadata": {
        "id": "giZzfk-gmUlb",
        "outputId": "07a3ea4e-daa5-4706-f995-d93782a1688a",
        "colab": {
          "base_uri": "https://localhost:8080/"
        }
      },
      "execution_count": null,
      "outputs": [
        {
          "output_type": "stream",
          "name": "stdout",
          "text": [
            "[14 25 36]\n"
          ]
        }
      ]
    },
    {
      "cell_type": "code",
      "source": [
        "e = a + c # Error: operands could not be broadcast together with shapes (3,) (4,)\n",
        "print(e)"
      ],
      "metadata": {
        "id": "p_dpl_dOm8E6",
        "outputId": "108698e4-012b-48e2-9cc1-fbbeca1823b4",
        "colab": {
          "base_uri": "https://localhost:8080/",
          "height": 162
        }
      },
      "execution_count": null,
      "outputs": [
        {
          "output_type": "error",
          "ename": "ValueError",
          "evalue": "operands could not be broadcast together with shapes (3,) (4,) ",
          "traceback": [
            "\u001b[0;31m---------------------------------------------------------------------------\u001b[0m",
            "\u001b[0;31mValueError\u001b[0m                                Traceback (most recent call last)",
            "\u001b[0;32m<ipython-input-8-c25d5814ac13>\u001b[0m in \u001b[0;36m<cell line: 0>\u001b[0;34m()\u001b[0m\n\u001b[0;32m----> 1\u001b[0;31m \u001b[0me\u001b[0m \u001b[0;34m=\u001b[0m \u001b[0ma\u001b[0m \u001b[0;34m+\u001b[0m \u001b[0mc\u001b[0m\u001b[0;34m\u001b[0m\u001b[0;34m\u001b[0m\u001b[0m\n\u001b[0m\u001b[1;32m      2\u001b[0m \u001b[0mprint\u001b[0m\u001b[0;34m(\u001b[0m\u001b[0me\u001b[0m\u001b[0;34m)\u001b[0m\u001b[0;34m\u001b[0m\u001b[0;34m\u001b[0m\u001b[0m\n",
            "\u001b[0;31mValueError\u001b[0m: operands could not be broadcast together with shapes (3,) (4,) "
          ]
        }
      ]
    },
    {
      "cell_type": "markdown",
      "source": [
        "###Subtraction"
      ],
      "metadata": {
        "id": "htfW8r9cDScj"
      }
    },
    {
      "cell_type": "code",
      "source": [
        "v_w = v - w\n",
        "\n",
        "print(v)\n",
        "print(w)\n",
        "print(v_w)"
      ],
      "metadata": {
        "colab": {
          "base_uri": "https://localhost:8080/"
        },
        "id": "8ApB4x7UDUJR",
        "outputId": "24beee34-1c95-4b4c-84f8-b755e84fb763"
      },
      "execution_count": null,
      "outputs": [
        {
          "output_type": "stream",
          "name": "stdout",
          "text": [
            "[1 2]\n",
            "[ 4 -6]\n",
            "[-3  8]\n"
          ]
        }
      ]
    },
    {
      "cell_type": "markdown",
      "source": [
        "###Vector-scalar multiplication"
      ],
      "metadata": {
        "id": "03kMjwQvDiat"
      }
    },
    {
      "cell_type": "code",
      "source": [
        "# a scalar\n",
        "s = -1 / 2\n",
        "\n",
        "# a vector\n",
        "b = np.array([3, 4])\n",
        "\n",
        "print(b * s)"
      ],
      "metadata": {
        "colab": {
          "base_uri": "https://localhost:8080/"
        },
        "id": "oRMcq2eODjJe",
        "outputId": "0023c69d-060b-4a62-f512-a2e81c159780"
      },
      "execution_count": null,
      "outputs": [
        {
          "output_type": "stream",
          "name": "stdout",
          "text": [
            "[-1.5 -2. ]\n"
          ]
        }
      ]
    },
    {
      "cell_type": "code",
      "source": [
        "# Scalar-vector addition\n",
        "s = 3.5\n",
        "\n",
        "print(v)\n",
        "print(s + v)"
      ],
      "metadata": {
        "colab": {
          "base_uri": "https://localhost:8080/"
        },
        "id": "C0idYaKVD3Ip",
        "outputId": "3e7157a2-30b5-45d4-fb23-981b9968e593"
      },
      "execution_count": null,
      "outputs": [
        {
          "output_type": "stream",
          "name": "stdout",
          "text": [
            "[1 2]\n",
            "[4.5 5.5]\n"
          ]
        }
      ]
    },
    {
      "cell_type": "code",
      "source": [
        "plt.plot([0,b[0]],[0,b[1]],'m--',linewidth=3,label='b')\n",
        "plt.plot([0,s*b[0]],[0,s*b[1]],'k:',linewidth=3,label='sb')\n",
        "\n",
        "plt.grid()\n",
        "plt.axis('square')\n",
        "plt.axis([-6,6,-6,6])\n",
        "plt.legend()\n",
        "plt.show()"
      ],
      "metadata": {
        "colab": {
          "base_uri": "https://localhost:8080/",
          "height": 429
        },
        "id": "bemqlUpoFHSf",
        "outputId": "d2aaa4da-f87d-4f4e-f89d-09f413fac272"
      },
      "execution_count": null,
      "outputs": [
        {
          "output_type": "display_data",
          "data": {
            "text/plain": [
              "<Figure size 640x480 with 1 Axes>"
            ],
            "image/svg+xml": "<?xml version=\"1.0\" encoding=\"utf-8\" standalone=\"no\"?>\n<!DOCTYPE svg PUBLIC \"-//W3C//DTD SVG 1.1//EN\"\n  \"http://www.w3.org/Graphics/SVG/1.1/DTD/svg11.dtd\">\n<svg xmlns:xlink=\"http://www.w3.org/1999/xlink\" width=\"312.604812pt\" height=\"306.380281pt\" viewBox=\"0 0 312.604812 306.380281\" xmlns=\"http://www.w3.org/2000/svg\" version=\"1.1\">\n <metadata>\n  <rdf:RDF xmlns:dc=\"http://purl.org/dc/elements/1.1/\" xmlns:cc=\"http://creativecommons.org/ns#\" xmlns:rdf=\"http://www.w3.org/1999/02/22-rdf-syntax-ns#\">\n   <cc:Work>\n    <dc:type rdf:resource=\"http://purl.org/dc/dcmitype/StillImage\"/>\n    <dc:date>2025-05-03T05:29:28.169361</dc:date>\n    <dc:format>image/svg+xml</dc:format>\n    <dc:creator>\n     <cc:Agent>\n      <dc:title>Matplotlib v3.10.0, https://matplotlib.org/</dc:title>\n     </cc:Agent>\n    </dc:creator>\n   </cc:Work>\n  </rdf:RDF>\n </metadata>\n <defs>\n  <style type=\"text/css\">*{stroke-linejoin: round; stroke-linecap: butt}</style>\n </defs>\n <g id=\"figure_1\">\n  <g id=\"patch_1\">\n   <path d=\"M 0 306.380281 \nL 312.604812 306.380281 \nL 312.604812 0 \nL 0 0 \nz\n\" style=\"fill: #ffffff\"/>\n  </g>\n  <g id=\"axes_1\">\n   <g id=\"patch_2\">\n    <path d=\"M 34.839062 278.630906 \nL 300.951062 278.630906 \nL 300.951062 12.518906 \nL 34.839062 12.518906 \nz\n\" style=\"fill: #ffffff\"/>\n   </g>\n   <g id=\"matplotlib.axis_1\">\n    <g id=\"xtick_1\">\n     <g id=\"line2d_1\">\n      <path d=\"M 34.839063 278.630906 \nL 34.839063 12.518906 \n\" clip-path=\"url(#p7b1c82e024)\" style=\"fill: none; stroke: #b0b0b0; stroke-width: 0.8; stroke-linecap: square\"/>\n     </g>\n     <g id=\"line2d_2\">\n      <defs>\n       <path id=\"m43c6e92809\" d=\"M 0 0 \nL 0 3.5 \n\" style=\"stroke: #000000; stroke-width: 0.8\"/>\n      </defs>\n      <g>\n       <use xlink:href=\"#m43c6e92809\" x=\"34.839063\" y=\"278.630906\" style=\"stroke: #000000; stroke-width: 0.8\"/>\n      </g>\n     </g>\n     <g id=\"text_1\">\n      <!-- −6 -->\n      <g transform=\"translate(24.519531 296.268719) scale(0.14 -0.14)\">\n       <defs>\n        <path id=\"DejaVuSans-2212\" d=\"M 678 2272 \nL 4684 2272 \nL 4684 1741 \nL 678 1741 \nL 678 2272 \nz\n\" transform=\"scale(0.015625)\"/>\n        <path id=\"DejaVuSans-36\" d=\"M 2113 2584 \nQ 1688 2584 1439 2293 \nQ 1191 2003 1191 1497 \nQ 1191 994 1439 701 \nQ 1688 409 2113 409 \nQ 2538 409 2786 701 \nQ 3034 994 3034 1497 \nQ 3034 2003 2786 2293 \nQ 2538 2584 2113 2584 \nz\nM 3366 4563 \nL 3366 3988 \nQ 3128 4100 2886 4159 \nQ 2644 4219 2406 4219 \nQ 1781 4219 1451 3797 \nQ 1122 3375 1075 2522 \nQ 1259 2794 1537 2939 \nQ 1816 3084 2150 3084 \nQ 2853 3084 3261 2657 \nQ 3669 2231 3669 1497 \nQ 3669 778 3244 343 \nQ 2819 -91 2113 -91 \nQ 1303 -91 875 529 \nQ 447 1150 447 2328 \nQ 447 3434 972 4092 \nQ 1497 4750 2381 4750 \nQ 2619 4750 2861 4703 \nQ 3103 4656 3366 4563 \nz\n\" transform=\"scale(0.015625)\"/>\n       </defs>\n       <use xlink:href=\"#DejaVuSans-2212\"/>\n       <use xlink:href=\"#DejaVuSans-36\" transform=\"translate(83.789062 0)\"/>\n      </g>\n     </g>\n    </g>\n    <g id=\"xtick_2\">\n     <g id=\"line2d_3\">\n      <path d=\"M 79.191063 278.630906 \nL 79.191063 12.518906 \n\" clip-path=\"url(#p7b1c82e024)\" style=\"fill: none; stroke: #b0b0b0; stroke-width: 0.8; stroke-linecap: square\"/>\n     </g>\n     <g id=\"line2d_4\">\n      <g>\n       <use xlink:href=\"#m43c6e92809\" x=\"79.191063\" y=\"278.630906\" style=\"stroke: #000000; stroke-width: 0.8\"/>\n      </g>\n     </g>\n     <g id=\"text_2\">\n      <!-- −4 -->\n      <g transform=\"translate(68.871531 296.268719) scale(0.14 -0.14)\">\n       <defs>\n        <path id=\"DejaVuSans-34\" d=\"M 2419 4116 \nL 825 1625 \nL 2419 1625 \nL 2419 4116 \nz\nM 2253 4666 \nL 3047 4666 \nL 3047 1625 \nL 3713 1625 \nL 3713 1100 \nL 3047 1100 \nL 3047 0 \nL 2419 0 \nL 2419 1100 \nL 313 1100 \nL 313 1709 \nL 2253 4666 \nz\n\" transform=\"scale(0.015625)\"/>\n       </defs>\n       <use xlink:href=\"#DejaVuSans-2212\"/>\n       <use xlink:href=\"#DejaVuSans-34\" transform=\"translate(83.789062 0)\"/>\n      </g>\n     </g>\n    </g>\n    <g id=\"xtick_3\">\n     <g id=\"line2d_5\">\n      <path d=\"M 123.543063 278.630906 \nL 123.543063 12.518906 \n\" clip-path=\"url(#p7b1c82e024)\" style=\"fill: none; stroke: #b0b0b0; stroke-width: 0.8; stroke-linecap: square\"/>\n     </g>\n     <g id=\"line2d_6\">\n      <g>\n       <use xlink:href=\"#m43c6e92809\" x=\"123.543063\" y=\"278.630906\" style=\"stroke: #000000; stroke-width: 0.8\"/>\n      </g>\n     </g>\n     <g id=\"text_3\">\n      <!-- −2 -->\n      <g transform=\"translate(113.223531 296.268719) scale(0.14 -0.14)\">\n       <defs>\n        <path id=\"DejaVuSans-32\" d=\"M 1228 531 \nL 3431 531 \nL 3431 0 \nL 469 0 \nL 469 531 \nQ 828 903 1448 1529 \nQ 2069 2156 2228 2338 \nQ 2531 2678 2651 2914 \nQ 2772 3150 2772 3378 \nQ 2772 3750 2511 3984 \nQ 2250 4219 1831 4219 \nQ 1534 4219 1204 4116 \nQ 875 4013 500 3803 \nL 500 4441 \nQ 881 4594 1212 4672 \nQ 1544 4750 1819 4750 \nQ 2544 4750 2975 4387 \nQ 3406 4025 3406 3419 \nQ 3406 3131 3298 2873 \nQ 3191 2616 2906 2266 \nQ 2828 2175 2409 1742 \nQ 1991 1309 1228 531 \nz\n\" transform=\"scale(0.015625)\"/>\n       </defs>\n       <use xlink:href=\"#DejaVuSans-2212\"/>\n       <use xlink:href=\"#DejaVuSans-32\" transform=\"translate(83.789062 0)\"/>\n      </g>\n     </g>\n    </g>\n    <g id=\"xtick_4\">\n     <g id=\"line2d_7\">\n      <path d=\"M 167.895062 278.630906 \nL 167.895062 12.518906 \n\" clip-path=\"url(#p7b1c82e024)\" style=\"fill: none; stroke: #b0b0b0; stroke-width: 0.8; stroke-linecap: square\"/>\n     </g>\n     <g id=\"line2d_8\">\n      <g>\n       <use xlink:href=\"#m43c6e92809\" x=\"167.895062\" y=\"278.630906\" style=\"stroke: #000000; stroke-width: 0.8\"/>\n      </g>\n     </g>\n     <g id=\"text_4\">\n      <!-- 0 -->\n      <g transform=\"translate(163.441312 296.268719) scale(0.14 -0.14)\">\n       <defs>\n        <path id=\"DejaVuSans-30\" d=\"M 2034 4250 \nQ 1547 4250 1301 3770 \nQ 1056 3291 1056 2328 \nQ 1056 1369 1301 889 \nQ 1547 409 2034 409 \nQ 2525 409 2770 889 \nQ 3016 1369 3016 2328 \nQ 3016 3291 2770 3770 \nQ 2525 4250 2034 4250 \nz\nM 2034 4750 \nQ 2819 4750 3233 4129 \nQ 3647 3509 3647 2328 \nQ 3647 1150 3233 529 \nQ 2819 -91 2034 -91 \nQ 1250 -91 836 529 \nQ 422 1150 422 2328 \nQ 422 3509 836 4129 \nQ 1250 4750 2034 4750 \nz\n\" transform=\"scale(0.015625)\"/>\n       </defs>\n       <use xlink:href=\"#DejaVuSans-30\"/>\n      </g>\n     </g>\n    </g>\n    <g id=\"xtick_5\">\n     <g id=\"line2d_9\">\n      <path d=\"M 212.247062 278.630906 \nL 212.247062 12.518906 \n\" clip-path=\"url(#p7b1c82e024)\" style=\"fill: none; stroke: #b0b0b0; stroke-width: 0.8; stroke-linecap: square\"/>\n     </g>\n     <g id=\"line2d_10\">\n      <g>\n       <use xlink:href=\"#m43c6e92809\" x=\"212.247062\" y=\"278.630906\" style=\"stroke: #000000; stroke-width: 0.8\"/>\n      </g>\n     </g>\n     <g id=\"text_5\">\n      <!-- 2 -->\n      <g transform=\"translate(207.793312 296.268719) scale(0.14 -0.14)\">\n       <use xlink:href=\"#DejaVuSans-32\"/>\n      </g>\n     </g>\n    </g>\n    <g id=\"xtick_6\">\n     <g id=\"line2d_11\">\n      <path d=\"M 256.599062 278.630906 \nL 256.599062 12.518906 \n\" clip-path=\"url(#p7b1c82e024)\" style=\"fill: none; stroke: #b0b0b0; stroke-width: 0.8; stroke-linecap: square\"/>\n     </g>\n     <g id=\"line2d_12\">\n      <g>\n       <use xlink:href=\"#m43c6e92809\" x=\"256.599062\" y=\"278.630906\" style=\"stroke: #000000; stroke-width: 0.8\"/>\n      </g>\n     </g>\n     <g id=\"text_6\">\n      <!-- 4 -->\n      <g transform=\"translate(252.145312 296.268719) scale(0.14 -0.14)\">\n       <use xlink:href=\"#DejaVuSans-34\"/>\n      </g>\n     </g>\n    </g>\n    <g id=\"xtick_7\">\n     <g id=\"line2d_13\">\n      <path d=\"M 300.951062 278.630906 \nL 300.951062 12.518906 \n\" clip-path=\"url(#p7b1c82e024)\" style=\"fill: none; stroke: #b0b0b0; stroke-width: 0.8; stroke-linecap: square\"/>\n     </g>\n     <g id=\"line2d_14\">\n      <g>\n       <use xlink:href=\"#m43c6e92809\" x=\"300.951062\" y=\"278.630906\" style=\"stroke: #000000; stroke-width: 0.8\"/>\n      </g>\n     </g>\n     <g id=\"text_7\">\n      <!-- 6 -->\n      <g transform=\"translate(296.497312 296.268719) scale(0.14 -0.14)\">\n       <use xlink:href=\"#DejaVuSans-36\"/>\n      </g>\n     </g>\n    </g>\n   </g>\n   <g id=\"matplotlib.axis_2\">\n    <g id=\"ytick_1\">\n     <g id=\"line2d_15\">\n      <path d=\"M 34.839062 278.630906 \nL 300.951062 278.630906 \n\" clip-path=\"url(#p7b1c82e024)\" style=\"fill: none; stroke: #b0b0b0; stroke-width: 0.8; stroke-linecap: square\"/>\n     </g>\n     <g id=\"line2d_16\">\n      <defs>\n       <path id=\"m66d979d904\" d=\"M 0 0 \nL -3.5 0 \n\" style=\"stroke: #000000; stroke-width: 0.8\"/>\n      </defs>\n      <g>\n       <use xlink:href=\"#m66d979d904\" x=\"34.839062\" y=\"278.630906\" style=\"stroke: #000000; stroke-width: 0.8\"/>\n      </g>\n     </g>\n     <g id=\"text_8\">\n      <!-- −6 -->\n      <g transform=\"translate(7.2 283.949812) scale(0.14 -0.14)\">\n       <use xlink:href=\"#DejaVuSans-2212\"/>\n       <use xlink:href=\"#DejaVuSans-36\" transform=\"translate(83.789062 0)\"/>\n      </g>\n     </g>\n    </g>\n    <g id=\"ytick_2\">\n     <g id=\"line2d_17\">\n      <path d=\"M 34.839062 234.278906 \nL 300.951062 234.278906 \n\" clip-path=\"url(#p7b1c82e024)\" style=\"fill: none; stroke: #b0b0b0; stroke-width: 0.8; stroke-linecap: square\"/>\n     </g>\n     <g id=\"line2d_18\">\n      <g>\n       <use xlink:href=\"#m66d979d904\" x=\"34.839062\" y=\"234.278906\" style=\"stroke: #000000; stroke-width: 0.8\"/>\n      </g>\n     </g>\n     <g id=\"text_9\">\n      <!-- −4 -->\n      <g transform=\"translate(7.2 239.597812) scale(0.14 -0.14)\">\n       <use xlink:href=\"#DejaVuSans-2212\"/>\n       <use xlink:href=\"#DejaVuSans-34\" transform=\"translate(83.789062 0)\"/>\n      </g>\n     </g>\n    </g>\n    <g id=\"ytick_3\">\n     <g id=\"line2d_19\">\n      <path d=\"M 34.839062 189.926906 \nL 300.951062 189.926906 \n\" clip-path=\"url(#p7b1c82e024)\" style=\"fill: none; stroke: #b0b0b0; stroke-width: 0.8; stroke-linecap: square\"/>\n     </g>\n     <g id=\"line2d_20\">\n      <g>\n       <use xlink:href=\"#m66d979d904\" x=\"34.839062\" y=\"189.926906\" style=\"stroke: #000000; stroke-width: 0.8\"/>\n      </g>\n     </g>\n     <g id=\"text_10\">\n      <!-- −2 -->\n      <g transform=\"translate(7.2 195.245812) scale(0.14 -0.14)\">\n       <use xlink:href=\"#DejaVuSans-2212\"/>\n       <use xlink:href=\"#DejaVuSans-32\" transform=\"translate(83.789062 0)\"/>\n      </g>\n     </g>\n    </g>\n    <g id=\"ytick_4\">\n     <g id=\"line2d_21\">\n      <path d=\"M 34.839062 145.574906 \nL 300.951062 145.574906 \n\" clip-path=\"url(#p7b1c82e024)\" style=\"fill: none; stroke: #b0b0b0; stroke-width: 0.8; stroke-linecap: square\"/>\n     </g>\n     <g id=\"line2d_22\">\n      <g>\n       <use xlink:href=\"#m66d979d904\" x=\"34.839062\" y=\"145.574906\" style=\"stroke: #000000; stroke-width: 0.8\"/>\n      </g>\n     </g>\n     <g id=\"text_11\">\n      <!-- 0 -->\n      <g transform=\"translate(18.931562 150.893812) scale(0.14 -0.14)\">\n       <use xlink:href=\"#DejaVuSans-30\"/>\n      </g>\n     </g>\n    </g>\n    <g id=\"ytick_5\">\n     <g id=\"line2d_23\">\n      <path d=\"M 34.839062 101.222906 \nL 300.951062 101.222906 \n\" clip-path=\"url(#p7b1c82e024)\" style=\"fill: none; stroke: #b0b0b0; stroke-width: 0.8; stroke-linecap: square\"/>\n     </g>\n     <g id=\"line2d_24\">\n      <g>\n       <use xlink:href=\"#m66d979d904\" x=\"34.839062\" y=\"101.222906\" style=\"stroke: #000000; stroke-width: 0.8\"/>\n      </g>\n     </g>\n     <g id=\"text_12\">\n      <!-- 2 -->\n      <g transform=\"translate(18.931562 106.541812) scale(0.14 -0.14)\">\n       <use xlink:href=\"#DejaVuSans-32\"/>\n      </g>\n     </g>\n    </g>\n    <g id=\"ytick_6\">\n     <g id=\"line2d_25\">\n      <path d=\"M 34.839062 56.870906 \nL 300.951062 56.870906 \n\" clip-path=\"url(#p7b1c82e024)\" style=\"fill: none; stroke: #b0b0b0; stroke-width: 0.8; stroke-linecap: square\"/>\n     </g>\n     <g id=\"line2d_26\">\n      <g>\n       <use xlink:href=\"#m66d979d904\" x=\"34.839062\" y=\"56.870906\" style=\"stroke: #000000; stroke-width: 0.8\"/>\n      </g>\n     </g>\n     <g id=\"text_13\">\n      <!-- 4 -->\n      <g transform=\"translate(18.931562 62.189812) scale(0.14 -0.14)\">\n       <use xlink:href=\"#DejaVuSans-34\"/>\n      </g>\n     </g>\n    </g>\n    <g id=\"ytick_7\">\n     <g id=\"line2d_27\">\n      <path d=\"M 34.839062 12.518906 \nL 300.951062 12.518906 \n\" clip-path=\"url(#p7b1c82e024)\" style=\"fill: none; stroke: #b0b0b0; stroke-width: 0.8; stroke-linecap: square\"/>\n     </g>\n     <g id=\"line2d_28\">\n      <g>\n       <use xlink:href=\"#m66d979d904\" x=\"34.839062\" y=\"12.518906\" style=\"stroke: #000000; stroke-width: 0.8\"/>\n      </g>\n     </g>\n     <g id=\"text_14\">\n      <!-- 6 -->\n      <g transform=\"translate(18.931562 17.837812) scale(0.14 -0.14)\">\n       <use xlink:href=\"#DejaVuSans-36\"/>\n      </g>\n     </g>\n    </g>\n   </g>\n   <g id=\"line2d_29\">\n    <path d=\"M 167.895062 145.574906 \nL 234.423062 56.870906 \n\" clip-path=\"url(#p7b1c82e024)\" style=\"fill: none; stroke-dasharray: 11.1,4.8; stroke-dashoffset: 0; stroke: #bf00bf; stroke-width: 3\"/>\n   </g>\n   <g id=\"line2d_30\">\n    <path d=\"M 167.895062 145.574906 \nL 277.826242 -1 \n\" clip-path=\"url(#p7b1c82e024)\" style=\"fill: none; stroke-dasharray: 3,4.95; stroke-dashoffset: 0; stroke: #000000; stroke-width: 3\"/>\n   </g>\n   <g id=\"patch_3\">\n    <path d=\"M 34.839062 278.630906 \nL 34.839062 12.518906 \n\" style=\"fill: none; stroke: #000000; stroke-width: 0.8; stroke-linejoin: miter; stroke-linecap: square\"/>\n   </g>\n   <g id=\"patch_4\">\n    <path d=\"M 300.951062 278.630906 \nL 300.951062 12.518906 \n\" style=\"fill: none; stroke: #000000; stroke-width: 0.8; stroke-linejoin: miter; stroke-linecap: square\"/>\n   </g>\n   <g id=\"patch_5\">\n    <path d=\"M 34.839063 278.630906 \nL 300.951062 278.630906 \n\" style=\"fill: none; stroke: #000000; stroke-width: 0.8; stroke-linejoin: miter; stroke-linecap: square\"/>\n   </g>\n   <g id=\"patch_6\">\n    <path d=\"M 34.839063 12.518906 \nL 300.951062 12.518906 \n\" style=\"fill: none; stroke: #000000; stroke-width: 0.8; stroke-linejoin: miter; stroke-linecap: square\"/>\n   </g>\n   <g id=\"legend_1\">\n    <g id=\"patch_7\">\n     <path d=\"M 44.639062 64.817656 \nL 105.62 64.817656 \nQ 108.42 64.817656 108.42 62.017656 \nL 108.42 22.318906 \nQ 108.42 19.518906 105.62 19.518906 \nL 44.639062 19.518906 \nQ 41.839062 19.518906 41.839062 22.318906 \nL 41.839062 62.017656 \nQ 41.839062 64.817656 44.639062 64.817656 \nz\n\" style=\"fill: #ffffff; opacity: 0.8; stroke: #cccccc; stroke-linejoin: miter\"/>\n    </g>\n    <g id=\"line2d_31\">\n     <path d=\"M 47.439062 30.856719 \nL 61.439062 30.856719 \nL 75.439063 30.856719 \n\" style=\"fill: none; stroke-dasharray: 11.1,4.8; stroke-dashoffset: 0; stroke: #bf00bf; stroke-width: 3\"/>\n    </g>\n    <g id=\"text_15\">\n     <!-- b -->\n     <g transform=\"translate(86.639062 35.756719) scale(0.14 -0.14)\">\n      <defs>\n       <path id=\"DejaVuSans-62\" d=\"M 3116 1747 \nQ 3116 2381 2855 2742 \nQ 2594 3103 2138 3103 \nQ 1681 3103 1420 2742 \nQ 1159 2381 1159 1747 \nQ 1159 1113 1420 752 \nQ 1681 391 2138 391 \nQ 2594 391 2855 752 \nQ 3116 1113 3116 1747 \nz\nM 1159 2969 \nQ 1341 3281 1617 3432 \nQ 1894 3584 2278 3584 \nQ 2916 3584 3314 3078 \nQ 3713 2572 3713 1747 \nQ 3713 922 3314 415 \nQ 2916 -91 2278 -91 \nQ 1894 -91 1617 61 \nQ 1341 213 1159 525 \nL 1159 0 \nL 581 0 \nL 581 4863 \nL 1159 4863 \nL 1159 2969 \nz\n\" transform=\"scale(0.015625)\"/>\n      </defs>\n      <use xlink:href=\"#DejaVuSans-62\"/>\n     </g>\n    </g>\n    <g id=\"line2d_32\">\n     <path d=\"M 47.439062 51.406094 \nL 61.439062 51.406094 \nL 75.439063 51.406094 \n\" style=\"fill: none; stroke-dasharray: 3,4.95; stroke-dashoffset: 0; stroke: #000000; stroke-width: 3\"/>\n    </g>\n    <g id=\"text_16\">\n     <!-- sb -->\n     <g transform=\"translate(86.639062 56.306094) scale(0.14 -0.14)\">\n      <defs>\n       <path id=\"DejaVuSans-73\" d=\"M 2834 3397 \nL 2834 2853 \nQ 2591 2978 2328 3040 \nQ 2066 3103 1784 3103 \nQ 1356 3103 1142 2972 \nQ 928 2841 928 2578 \nQ 928 2378 1081 2264 \nQ 1234 2150 1697 2047 \nL 1894 2003 \nQ 2506 1872 2764 1633 \nQ 3022 1394 3022 966 \nQ 3022 478 2636 193 \nQ 2250 -91 1575 -91 \nQ 1294 -91 989 -36 \nQ 684 19 347 128 \nL 347 722 \nQ 666 556 975 473 \nQ 1284 391 1588 391 \nQ 1994 391 2212 530 \nQ 2431 669 2431 922 \nQ 2431 1156 2273 1281 \nQ 2116 1406 1581 1522 \nL 1381 1569 \nQ 847 1681 609 1914 \nQ 372 2147 372 2553 \nQ 372 3047 722 3315 \nQ 1072 3584 1716 3584 \nQ 2034 3584 2315 3537 \nQ 2597 3491 2834 3397 \nz\n\" transform=\"scale(0.015625)\"/>\n      </defs>\n      <use xlink:href=\"#DejaVuSans-73\"/>\n      <use xlink:href=\"#DejaVuSans-62\" transform=\"translate(52.099609 0)\"/>\n     </g>\n    </g>\n   </g>\n  </g>\n </g>\n <defs>\n  <clipPath id=\"p7b1c82e024\">\n   <rect x=\"34.839062\" y=\"12.518906\" width=\"266.112\" height=\"266.112\"/>\n  </clipPath>\n </defs>\n</svg>\n"
          },
          "metadata": {}
        }
      ]
    },
    {
      "cell_type": "code",
      "source": [
        "# Effects of different scalars\n",
        "\n",
        "# a list of scalars:\n",
        "scalars = [ 1, 2, 1/3, 0, -2/3 ]\n",
        "\n",
        "baseVector = np.array([ .75,1 ])\n",
        "\n",
        "# create a figure\n",
        "fig,axs = plt.subplots(1,len(scalars),figsize=(12,3))\n",
        "i = 0 # axis counter\n",
        "\n",
        "for s in scalars:\n",
        "\n",
        "  # compute the scaled vector\n",
        "  v = s*baseVector\n",
        "\n",
        "  # plot it\n",
        "  axs[i].arrow(0,0,baseVector[0],baseVector[1],head_width=.3,width=.1,color='k',length_includes_head=True)\n",
        "  axs[i].arrow(.1,0,v[0],v[1],head_width=.3,width=.1,color=[.75,.75,.75],length_includes_head=True)\n",
        "  axs[i].grid(linestyle='--')\n",
        "  axs[i].axis('square')\n",
        "  axs[i].axis([-2.5,2.5,-2.5,2.5])\n",
        "  axs[i].set(xticks=np.arange(-2,3), yticks=np.arange(-2,3))\n",
        "  axs[i].set_title(f'$\\sigma$= {s:.2f}')\n",
        "  i+=1 # update axis counter\n",
        "\n",
        "plt.tight_layout()\n",
        "plt.show()"
      ],
      "metadata": {
        "colab": {
          "base_uri": "https://localhost:8080/",
          "height": 282
        },
        "id": "A8myBcivFRhx",
        "outputId": "01c595be-a928-4d75-fcab-ccdfa4a2f86b"
      },
      "execution_count": null,
      "outputs": [
        {
          "output_type": "display_data",
          "data": {
            "text/plain": [
              "<Figure size 1200x300 with 5 Axes>"
            ],
            "image/svg+xml": "<?xml version=\"1.0\" encoding=\"utf-8\" standalone=\"no\"?>\n<!DOCTYPE svg PUBLIC \"-//W3C//DTD SVG 1.1//EN\"\n  \"http://www.w3.org/Graphics/SVG/1.1/DTD/svg11.dtd\">\n<svg xmlns:xlink=\"http://www.w3.org/1999/xlink\" width=\"848.099062pt\" height=\"180.67075pt\" viewBox=\"0 0 848.099062 180.67075\" xmlns=\"http://www.w3.org/2000/svg\" version=\"1.1\">\n <metadata>\n  <rdf:RDF xmlns:dc=\"http://purl.org/dc/elements/1.1/\" xmlns:cc=\"http://creativecommons.org/ns#\" xmlns:rdf=\"http://www.w3.org/1999/02/22-rdf-syntax-ns#\">\n   <cc:Work>\n    <dc:type rdf:resource=\"http://purl.org/dc/dcmitype/StillImage\"/>\n    <dc:date>2025-05-03T05:29:40.794041</dc:date>\n    <dc:format>image/svg+xml</dc:format>\n    <dc:creator>\n     <cc:Agent>\n      <dc:title>Matplotlib v3.10.0, https://matplotlib.org/</dc:title>\n     </cc:Agent>\n    </dc:creator>\n   </cc:Work>\n  </rdf:RDF>\n </metadata>\n <defs>\n  <style type=\"text/css\">*{stroke-linejoin: round; stroke-linecap: butt}</style>\n </defs>\n <g id=\"figure_1\">\n  <g id=\"patch_1\">\n   <path d=\"M 0 180.67075 \nL 848.099062 180.67075 \nL 848.099062 0 \nL 0 0 \nz\n\" style=\"fill: #ffffff\"/>\n  </g>\n  <g id=\"axes_1\">\n   <g id=\"patch_2\">\n    <path d=\"M 34.839063 152.921375 \nL 161.795062 152.921375 \nL 161.795062 25.965375 \nL 34.839063 25.965375 \nz\n\" style=\"fill: #ffffff\"/>\n   </g>\n   <g id=\"patch_3\">\n    <path d=\"M 117.360462 64.052175 \nL 113.551782 75.478215 \nL 111.520486 73.954743 \nL 99.33271 90.205111 \nL 97.301414 88.681639 \nL 109.48919 72.431271 \nL 107.457894 70.907799 \nz\n\" clip-path=\"url(#p844882aaf8)\" style=\"stroke: #000000; stroke-linejoin: miter\"/>\n   </g>\n   <g id=\"patch_4\">\n    <path d=\"M 119.899582 64.052175 \nL 116.090902 75.478215 \nL 114.059606 73.954743 \nL 101.87183 90.205111 \nL 99.840534 88.681639 \nL 112.02831 72.431271 \nL 109.997014 70.907799 \nz\n\" clip-path=\"url(#p844882aaf8)\" style=\"fill: #bfbfbf; stroke: #bfbfbf; stroke-linejoin: miter\"/>\n   </g>\n   <g id=\"matplotlib.axis_1\">\n    <g id=\"xtick_1\">\n     <g id=\"line2d_1\">\n      <path d=\"M 47.534662 152.921375 \nL 47.534662 25.965375 \n\" clip-path=\"url(#p844882aaf8)\" style=\"fill: none; stroke-dasharray: 2.96,1.28; stroke-dashoffset: 0; stroke: #b0b0b0; stroke-width: 0.8\"/>\n     </g>\n     <g id=\"line2d_2\">\n      <defs>\n       <path id=\"m5a1b1f5886\" d=\"M 0 0 \nL 0 3.5 \n\" style=\"stroke: #000000; stroke-width: 0.8\"/>\n      </defs>\n      <g>\n       <use xlink:href=\"#m5a1b1f5886\" x=\"47.534662\" y=\"152.921375\" style=\"stroke: #000000; stroke-width: 0.8\"/>\n      </g>\n     </g>\n     <g id=\"text_1\">\n      <!-- −2 -->\n      <g transform=\"translate(37.215131 170.559187) scale(0.14 -0.14)\">\n       <defs>\n        <path id=\"DejaVuSans-2212\" d=\"M 678 2272 \nL 4684 2272 \nL 4684 1741 \nL 678 1741 \nL 678 2272 \nz\n\" transform=\"scale(0.015625)\"/>\n        <path id=\"DejaVuSans-32\" d=\"M 1228 531 \nL 3431 531 \nL 3431 0 \nL 469 0 \nL 469 531 \nQ 828 903 1448 1529 \nQ 2069 2156 2228 2338 \nQ 2531 2678 2651 2914 \nQ 2772 3150 2772 3378 \nQ 2772 3750 2511 3984 \nQ 2250 4219 1831 4219 \nQ 1534 4219 1204 4116 \nQ 875 4013 500 3803 \nL 500 4441 \nQ 881 4594 1212 4672 \nQ 1544 4750 1819 4750 \nQ 2544 4750 2975 4387 \nQ 3406 4025 3406 3419 \nQ 3406 3131 3298 2873 \nQ 3191 2616 2906 2266 \nQ 2828 2175 2409 1742 \nQ 1991 1309 1228 531 \nz\n\" transform=\"scale(0.015625)\"/>\n       </defs>\n       <use xlink:href=\"#DejaVuSans-2212\"/>\n       <use xlink:href=\"#DejaVuSans-32\" transform=\"translate(83.789062 0)\"/>\n      </g>\n     </g>\n    </g>\n    <g id=\"xtick_2\">\n     <g id=\"line2d_3\">\n      <path d=\"M 72.925862 152.921375 \nL 72.925862 25.965375 \n\" clip-path=\"url(#p844882aaf8)\" style=\"fill: none; stroke-dasharray: 2.96,1.28; stroke-dashoffset: 0; stroke: #b0b0b0; stroke-width: 0.8\"/>\n     </g>\n     <g id=\"line2d_4\">\n      <g>\n       <use xlink:href=\"#m5a1b1f5886\" x=\"72.925862\" y=\"152.921375\" style=\"stroke: #000000; stroke-width: 0.8\"/>\n      </g>\n     </g>\n     <g id=\"text_2\">\n      <!-- −1 -->\n      <g transform=\"translate(62.606331 170.559187) scale(0.14 -0.14)\">\n       <defs>\n        <path id=\"DejaVuSans-31\" d=\"M 794 531 \nL 1825 531 \nL 1825 4091 \nL 703 3866 \nL 703 4441 \nL 1819 4666 \nL 2450 4666 \nL 2450 531 \nL 3481 531 \nL 3481 0 \nL 794 0 \nL 794 531 \nz\n\" transform=\"scale(0.015625)\"/>\n       </defs>\n       <use xlink:href=\"#DejaVuSans-2212\"/>\n       <use xlink:href=\"#DejaVuSans-31\" transform=\"translate(83.789062 0)\"/>\n      </g>\n     </g>\n    </g>\n    <g id=\"xtick_3\">\n     <g id=\"line2d_5\">\n      <path d=\"M 98.317062 152.921375 \nL 98.317062 25.965375 \n\" clip-path=\"url(#p844882aaf8)\" style=\"fill: none; stroke-dasharray: 2.96,1.28; stroke-dashoffset: 0; stroke: #b0b0b0; stroke-width: 0.8\"/>\n     </g>\n     <g id=\"line2d_6\">\n      <g>\n       <use xlink:href=\"#m5a1b1f5886\" x=\"98.317062\" y=\"152.921375\" style=\"stroke: #000000; stroke-width: 0.8\"/>\n      </g>\n     </g>\n     <g id=\"text_3\">\n      <!-- 0 -->\n      <g transform=\"translate(93.863312 170.559187) scale(0.14 -0.14)\">\n       <defs>\n        <path id=\"DejaVuSans-30\" d=\"M 2034 4250 \nQ 1547 4250 1301 3770 \nQ 1056 3291 1056 2328 \nQ 1056 1369 1301 889 \nQ 1547 409 2034 409 \nQ 2525 409 2770 889 \nQ 3016 1369 3016 2328 \nQ 3016 3291 2770 3770 \nQ 2525 4250 2034 4250 \nz\nM 2034 4750 \nQ 2819 4750 3233 4129 \nQ 3647 3509 3647 2328 \nQ 3647 1150 3233 529 \nQ 2819 -91 2034 -91 \nQ 1250 -91 836 529 \nQ 422 1150 422 2328 \nQ 422 3509 836 4129 \nQ 1250 4750 2034 4750 \nz\n\" transform=\"scale(0.015625)\"/>\n       </defs>\n       <use xlink:href=\"#DejaVuSans-30\"/>\n      </g>\n     </g>\n    </g>\n    <g id=\"xtick_4\">\n     <g id=\"line2d_7\">\n      <path d=\"M 123.708262 152.921375 \nL 123.708262 25.965375 \n\" clip-path=\"url(#p844882aaf8)\" style=\"fill: none; stroke-dasharray: 2.96,1.28; stroke-dashoffset: 0; stroke: #b0b0b0; stroke-width: 0.8\"/>\n     </g>\n     <g id=\"line2d_8\">\n      <g>\n       <use xlink:href=\"#m5a1b1f5886\" x=\"123.708262\" y=\"152.921375\" style=\"stroke: #000000; stroke-width: 0.8\"/>\n      </g>\n     </g>\n     <g id=\"text_4\">\n      <!-- 1 -->\n      <g transform=\"translate(119.254512 170.559187) scale(0.14 -0.14)\">\n       <use xlink:href=\"#DejaVuSans-31\"/>\n      </g>\n     </g>\n    </g>\n    <g id=\"xtick_5\">\n     <g id=\"line2d_9\">\n      <path d=\"M 149.099462 152.921375 \nL 149.099462 25.965375 \n\" clip-path=\"url(#p844882aaf8)\" style=\"fill: none; stroke-dasharray: 2.96,1.28; stroke-dashoffset: 0; stroke: #b0b0b0; stroke-width: 0.8\"/>\n     </g>\n     <g id=\"line2d_10\">\n      <g>\n       <use xlink:href=\"#m5a1b1f5886\" x=\"149.099462\" y=\"152.921375\" style=\"stroke: #000000; stroke-width: 0.8\"/>\n      </g>\n     </g>\n     <g id=\"text_5\">\n      <!-- 2 -->\n      <g transform=\"translate(144.645712 170.559187) scale(0.14 -0.14)\">\n       <use xlink:href=\"#DejaVuSans-32\"/>\n      </g>\n     </g>\n    </g>\n   </g>\n   <g id=\"matplotlib.axis_2\">\n    <g id=\"ytick_1\">\n     <g id=\"line2d_11\">\n      <path d=\"M 34.839063 140.225775 \nL 161.795062 140.225775 \n\" clip-path=\"url(#p844882aaf8)\" style=\"fill: none; stroke-dasharray: 2.96,1.28; stroke-dashoffset: 0; stroke: #b0b0b0; stroke-width: 0.8\"/>\n     </g>\n     <g id=\"line2d_12\">\n      <defs>\n       <path id=\"m29d5faa00b\" d=\"M 0 0 \nL -3.5 0 \n\" style=\"stroke: #000000; stroke-width: 0.8\"/>\n      </defs>\n      <g>\n       <use xlink:href=\"#m29d5faa00b\" x=\"34.839063\" y=\"140.225775\" style=\"stroke: #000000; stroke-width: 0.8\"/>\n      </g>\n     </g>\n     <g id=\"text_6\">\n      <!-- −2 -->\n      <g transform=\"translate(7.2 145.544681) scale(0.14 -0.14)\">\n       <use xlink:href=\"#DejaVuSans-2212\"/>\n       <use xlink:href=\"#DejaVuSans-32\" transform=\"translate(83.789062 0)\"/>\n      </g>\n     </g>\n    </g>\n    <g id=\"ytick_2\">\n     <g id=\"line2d_13\">\n      <path d=\"M 34.839063 114.834575 \nL 161.795062 114.834575 \n\" clip-path=\"url(#p844882aaf8)\" style=\"fill: none; stroke-dasharray: 2.96,1.28; stroke-dashoffset: 0; stroke: #b0b0b0; stroke-width: 0.8\"/>\n     </g>\n     <g id=\"line2d_14\">\n      <g>\n       <use xlink:href=\"#m29d5faa00b\" x=\"34.839063\" y=\"114.834575\" style=\"stroke: #000000; stroke-width: 0.8\"/>\n      </g>\n     </g>\n     <g id=\"text_7\">\n      <!-- −1 -->\n      <g transform=\"translate(7.2 120.153481) scale(0.14 -0.14)\">\n       <use xlink:href=\"#DejaVuSans-2212\"/>\n       <use xlink:href=\"#DejaVuSans-31\" transform=\"translate(83.789062 0)\"/>\n      </g>\n     </g>\n    </g>\n    <g id=\"ytick_3\">\n     <g id=\"line2d_15\">\n      <path d=\"M 34.839063 89.443375 \nL 161.795062 89.443375 \n\" clip-path=\"url(#p844882aaf8)\" style=\"fill: none; stroke-dasharray: 2.96,1.28; stroke-dashoffset: 0; stroke: #b0b0b0; stroke-width: 0.8\"/>\n     </g>\n     <g id=\"line2d_16\">\n      <g>\n       <use xlink:href=\"#m29d5faa00b\" x=\"34.839063\" y=\"89.443375\" style=\"stroke: #000000; stroke-width: 0.8\"/>\n      </g>\n     </g>\n     <g id=\"text_8\">\n      <!-- 0 -->\n      <g transform=\"translate(18.931563 94.762281) scale(0.14 -0.14)\">\n       <use xlink:href=\"#DejaVuSans-30\"/>\n      </g>\n     </g>\n    </g>\n    <g id=\"ytick_4\">\n     <g id=\"line2d_17\">\n      <path d=\"M 34.839063 64.052175 \nL 161.795062 64.052175 \n\" clip-path=\"url(#p844882aaf8)\" style=\"fill: none; stroke-dasharray: 2.96,1.28; stroke-dashoffset: 0; stroke: #b0b0b0; stroke-width: 0.8\"/>\n     </g>\n     <g id=\"line2d_18\">\n      <g>\n       <use xlink:href=\"#m29d5faa00b\" x=\"34.839063\" y=\"64.052175\" style=\"stroke: #000000; stroke-width: 0.8\"/>\n      </g>\n     </g>\n     <g id=\"text_9\">\n      <!-- 1 -->\n      <g transform=\"translate(18.931563 69.371081) scale(0.14 -0.14)\">\n       <use xlink:href=\"#DejaVuSans-31\"/>\n      </g>\n     </g>\n    </g>\n    <g id=\"ytick_5\">\n     <g id=\"line2d_19\">\n      <path d=\"M 34.839063 38.660975 \nL 161.795062 38.660975 \n\" clip-path=\"url(#p844882aaf8)\" style=\"fill: none; stroke-dasharray: 2.96,1.28; stroke-dashoffset: 0; stroke: #b0b0b0; stroke-width: 0.8\"/>\n     </g>\n     <g id=\"line2d_20\">\n      <g>\n       <use xlink:href=\"#m29d5faa00b\" x=\"34.839063\" y=\"38.660975\" style=\"stroke: #000000; stroke-width: 0.8\"/>\n      </g>\n     </g>\n     <g id=\"text_10\">\n      <!-- 2 -->\n      <g transform=\"translate(18.931563 43.979881) scale(0.14 -0.14)\">\n       <use xlink:href=\"#DejaVuSans-32\"/>\n      </g>\n     </g>\n    </g>\n   </g>\n   <g id=\"patch_5\">\n    <path d=\"M 34.839063 152.921375 \nL 34.839063 25.965375 \n\" style=\"fill: none; stroke: #000000; stroke-width: 0.8; stroke-linejoin: miter; stroke-linecap: square\"/>\n   </g>\n   <g id=\"patch_6\">\n    <path d=\"M 161.795062 152.921375 \nL 161.795062 25.965375 \n\" style=\"fill: none; stroke: #000000; stroke-width: 0.8; stroke-linejoin: miter; stroke-linecap: square\"/>\n   </g>\n   <g id=\"patch_7\">\n    <path d=\"M 34.839063 152.921375 \nL 161.795062 152.921375 \n\" style=\"fill: none; stroke: #000000; stroke-width: 0.8; stroke-linejoin: miter; stroke-linecap: square\"/>\n   </g>\n   <g id=\"patch_8\">\n    <path d=\"M 34.839063 25.965375 \nL 161.795062 25.965375 \n\" style=\"fill: none; stroke: #000000; stroke-width: 0.8; stroke-linejoin: miter; stroke-linecap: square\"/>\n   </g>\n   <g id=\"text_11\">\n    <!-- $\\sigma$= 1.00 -->\n    <g transform=\"translate(64.549062 19.965375) scale(0.168 -0.168)\">\n     <defs>\n      <path id=\"DejaVuSans-Oblique-3c3\" d=\"M 2219 3044 \nQ 1744 3044 1422 2700 \nQ 1081 2341 969 1747 \nQ 844 1119 1044 756 \nQ 1241 397 1706 397 \nQ 2166 397 2503 759 \nQ 2844 1122 2966 1747 \nQ 3075 2319 2881 2700 \nQ 2700 3044 2219 3044 \nz\nM 2309 3503 \nL 4219 3500 \nL 4106 2925 \nL 3463 2925 \nQ 3706 2438 3575 1747 \nQ 3406 888 2884 400 \nQ 2359 -91 1609 -91 \nQ 856 -91 525 400 \nQ 194 888 363 1747 \nQ 528 2609 1050 3097 \nQ 1484 3503 2309 3503 \nz\n\" transform=\"scale(0.015625)\"/>\n      <path id=\"DejaVuSans-3d\" d=\"M 678 2906 \nL 4684 2906 \nL 4684 2381 \nL 678 2381 \nL 678 2906 \nz\nM 678 1631 \nL 4684 1631 \nL 4684 1100 \nL 678 1100 \nL 678 1631 \nz\n\" transform=\"scale(0.015625)\"/>\n      <path id=\"DejaVuSans-20\" transform=\"scale(0.015625)\"/>\n      <path id=\"DejaVuSans-2e\" d=\"M 684 794 \nL 1344 794 \nL 1344 0 \nL 684 0 \nL 684 794 \nz\n\" transform=\"scale(0.015625)\"/>\n     </defs>\n     <use xlink:href=\"#DejaVuSans-Oblique-3c3\" transform=\"translate(0 0.78125)\"/>\n     <use xlink:href=\"#DejaVuSans-3d\" transform=\"translate(63.378906 0.78125)\"/>\n     <use xlink:href=\"#DejaVuSans-20\" transform=\"translate(147.167969 0.78125)\"/>\n     <use xlink:href=\"#DejaVuSans-31\" transform=\"translate(178.955078 0.78125)\"/>\n     <use xlink:href=\"#DejaVuSans-2e\" transform=\"translate(242.578125 0.78125)\"/>\n     <use xlink:href=\"#DejaVuSans-30\" transform=\"translate(274.365234 0.78125)\"/>\n     <use xlink:href=\"#DejaVuSans-30\" transform=\"translate(337.988281 0.78125)\"/>\n    </g>\n   </g>\n  </g>\n  <g id=\"axes_2\">\n   <g id=\"patch_9\">\n    <path d=\"M 204.615063 152.921375 \nL 331.571062 152.921375 \nL 331.571062 25.965375 \nL 204.615063 25.965375 \nz\n\" style=\"fill: #ffffff\"/>\n   </g>\n   <g id=\"patch_10\">\n    <path d=\"M 287.136462 64.052175 \nL 283.327782 75.478215 \nL 281.296486 73.954743 \nL 269.10871 90.205111 \nL 267.077414 88.681639 \nL 279.26519 72.431271 \nL 277.233894 70.907799 \nz\n\" clip-path=\"url(#pa69b83d33f)\" style=\"stroke: #000000; stroke-linejoin: miter\"/>\n   </g>\n   <g id=\"patch_11\">\n    <path d=\"M 308.718982 38.660975 \nL 304.910302 50.087015 \nL 302.879006 48.563543 \nL 271.64783 90.205111 \nL 269.616535 88.681639 \nL 300.84771 47.040071 \nL 298.816414 45.516599 \nz\n\" clip-path=\"url(#pa69b83d33f)\" style=\"fill: #bfbfbf; stroke: #bfbfbf; stroke-linejoin: miter\"/>\n   </g>\n   <g id=\"matplotlib.axis_3\">\n    <g id=\"xtick_6\">\n     <g id=\"line2d_21\">\n      <path d=\"M 217.310663 152.921375 \nL 217.310663 25.965375 \n\" clip-path=\"url(#pa69b83d33f)\" style=\"fill: none; stroke-dasharray: 2.96,1.28; stroke-dashoffset: 0; stroke: #b0b0b0; stroke-width: 0.8\"/>\n     </g>\n     <g id=\"line2d_22\">\n      <g>\n       <use xlink:href=\"#m5a1b1f5886\" x=\"217.310663\" y=\"152.921375\" style=\"stroke: #000000; stroke-width: 0.8\"/>\n      </g>\n     </g>\n     <g id=\"text_12\">\n      <!-- −2 -->\n      <g transform=\"translate(206.991131 170.559187) scale(0.14 -0.14)\">\n       <use xlink:href=\"#DejaVuSans-2212\"/>\n       <use xlink:href=\"#DejaVuSans-32\" transform=\"translate(83.789062 0)\"/>\n      </g>\n     </g>\n    </g>\n    <g id=\"xtick_7\">\n     <g id=\"line2d_23\">\n      <path d=\"M 242.701863 152.921375 \nL 242.701863 25.965375 \n\" clip-path=\"url(#pa69b83d33f)\" style=\"fill: none; stroke-dasharray: 2.96,1.28; stroke-dashoffset: 0; stroke: #b0b0b0; stroke-width: 0.8\"/>\n     </g>\n     <g id=\"line2d_24\">\n      <g>\n       <use xlink:href=\"#m5a1b1f5886\" x=\"242.701863\" y=\"152.921375\" style=\"stroke: #000000; stroke-width: 0.8\"/>\n      </g>\n     </g>\n     <g id=\"text_13\">\n      <!-- −1 -->\n      <g transform=\"translate(232.382331 170.559187) scale(0.14 -0.14)\">\n       <use xlink:href=\"#DejaVuSans-2212\"/>\n       <use xlink:href=\"#DejaVuSans-31\" transform=\"translate(83.789062 0)\"/>\n      </g>\n     </g>\n    </g>\n    <g id=\"xtick_8\">\n     <g id=\"line2d_25\">\n      <path d=\"M 268.093062 152.921375 \nL 268.093062 25.965375 \n\" clip-path=\"url(#pa69b83d33f)\" style=\"fill: none; stroke-dasharray: 2.96,1.28; stroke-dashoffset: 0; stroke: #b0b0b0; stroke-width: 0.8\"/>\n     </g>\n     <g id=\"line2d_26\">\n      <g>\n       <use xlink:href=\"#m5a1b1f5886\" x=\"268.093062\" y=\"152.921375\" style=\"stroke: #000000; stroke-width: 0.8\"/>\n      </g>\n     </g>\n     <g id=\"text_14\">\n      <!-- 0 -->\n      <g transform=\"translate(263.639312 170.559187) scale(0.14 -0.14)\">\n       <use xlink:href=\"#DejaVuSans-30\"/>\n      </g>\n     </g>\n    </g>\n    <g id=\"xtick_9\">\n     <g id=\"line2d_27\">\n      <path d=\"M 293.484262 152.921375 \nL 293.484262 25.965375 \n\" clip-path=\"url(#pa69b83d33f)\" style=\"fill: none; stroke-dasharray: 2.96,1.28; stroke-dashoffset: 0; stroke: #b0b0b0; stroke-width: 0.8\"/>\n     </g>\n     <g id=\"line2d_28\">\n      <g>\n       <use xlink:href=\"#m5a1b1f5886\" x=\"293.484262\" y=\"152.921375\" style=\"stroke: #000000; stroke-width: 0.8\"/>\n      </g>\n     </g>\n     <g id=\"text_15\">\n      <!-- 1 -->\n      <g transform=\"translate(289.030512 170.559187) scale(0.14 -0.14)\">\n       <use xlink:href=\"#DejaVuSans-31\"/>\n      </g>\n     </g>\n    </g>\n    <g id=\"xtick_10\">\n     <g id=\"line2d_29\">\n      <path d=\"M 318.875462 152.921375 \nL 318.875462 25.965375 \n\" clip-path=\"url(#pa69b83d33f)\" style=\"fill: none; stroke-dasharray: 2.96,1.28; stroke-dashoffset: 0; stroke: #b0b0b0; stroke-width: 0.8\"/>\n     </g>\n     <g id=\"line2d_30\">\n      <g>\n       <use xlink:href=\"#m5a1b1f5886\" x=\"318.875462\" y=\"152.921375\" style=\"stroke: #000000; stroke-width: 0.8\"/>\n      </g>\n     </g>\n     <g id=\"text_16\">\n      <!-- 2 -->\n      <g transform=\"translate(314.421712 170.559187) scale(0.14 -0.14)\">\n       <use xlink:href=\"#DejaVuSans-32\"/>\n      </g>\n     </g>\n    </g>\n   </g>\n   <g id=\"matplotlib.axis_4\">\n    <g id=\"ytick_6\">\n     <g id=\"line2d_31\">\n      <path d=\"M 204.615063 140.225775 \nL 331.571062 140.225775 \n\" clip-path=\"url(#pa69b83d33f)\" style=\"fill: none; stroke-dasharray: 2.96,1.28; stroke-dashoffset: 0; stroke: #b0b0b0; stroke-width: 0.8\"/>\n     </g>\n     <g id=\"line2d_32\">\n      <g>\n       <use xlink:href=\"#m29d5faa00b\" x=\"204.615063\" y=\"140.225775\" style=\"stroke: #000000; stroke-width: 0.8\"/>\n      </g>\n     </g>\n     <g id=\"text_17\">\n      <!-- −2 -->\n      <g transform=\"translate(176.976 145.544681) scale(0.14 -0.14)\">\n       <use xlink:href=\"#DejaVuSans-2212\"/>\n       <use xlink:href=\"#DejaVuSans-32\" transform=\"translate(83.789062 0)\"/>\n      </g>\n     </g>\n    </g>\n    <g id=\"ytick_7\">\n     <g id=\"line2d_33\">\n      <path d=\"M 204.615063 114.834575 \nL 331.571062 114.834575 \n\" clip-path=\"url(#pa69b83d33f)\" style=\"fill: none; stroke-dasharray: 2.96,1.28; stroke-dashoffset: 0; stroke: #b0b0b0; stroke-width: 0.8\"/>\n     </g>\n     <g id=\"line2d_34\">\n      <g>\n       <use xlink:href=\"#m29d5faa00b\" x=\"204.615063\" y=\"114.834575\" style=\"stroke: #000000; stroke-width: 0.8\"/>\n      </g>\n     </g>\n     <g id=\"text_18\">\n      <!-- −1 -->\n      <g transform=\"translate(176.976 120.153481) scale(0.14 -0.14)\">\n       <use xlink:href=\"#DejaVuSans-2212\"/>\n       <use xlink:href=\"#DejaVuSans-31\" transform=\"translate(83.789062 0)\"/>\n      </g>\n     </g>\n    </g>\n    <g id=\"ytick_8\">\n     <g id=\"line2d_35\">\n      <path d=\"M 204.615063 89.443375 \nL 331.571062 89.443375 \n\" clip-path=\"url(#pa69b83d33f)\" style=\"fill: none; stroke-dasharray: 2.96,1.28; stroke-dashoffset: 0; stroke: #b0b0b0; stroke-width: 0.8\"/>\n     </g>\n     <g id=\"line2d_36\">\n      <g>\n       <use xlink:href=\"#m29d5faa00b\" x=\"204.615063\" y=\"89.443375\" style=\"stroke: #000000; stroke-width: 0.8\"/>\n      </g>\n     </g>\n     <g id=\"text_19\">\n      <!-- 0 -->\n      <g transform=\"translate(188.707563 94.762281) scale(0.14 -0.14)\">\n       <use xlink:href=\"#DejaVuSans-30\"/>\n      </g>\n     </g>\n    </g>\n    <g id=\"ytick_9\">\n     <g id=\"line2d_37\">\n      <path d=\"M 204.615063 64.052175 \nL 331.571062 64.052175 \n\" clip-path=\"url(#pa69b83d33f)\" style=\"fill: none; stroke-dasharray: 2.96,1.28; stroke-dashoffset: 0; stroke: #b0b0b0; stroke-width: 0.8\"/>\n     </g>\n     <g id=\"line2d_38\">\n      <g>\n       <use xlink:href=\"#m29d5faa00b\" x=\"204.615063\" y=\"64.052175\" style=\"stroke: #000000; stroke-width: 0.8\"/>\n      </g>\n     </g>\n     <g id=\"text_20\">\n      <!-- 1 -->\n      <g transform=\"translate(188.707563 69.371081) scale(0.14 -0.14)\">\n       <use xlink:href=\"#DejaVuSans-31\"/>\n      </g>\n     </g>\n    </g>\n    <g id=\"ytick_10\">\n     <g id=\"line2d_39\">\n      <path d=\"M 204.615063 38.660975 \nL 331.571062 38.660975 \n\" clip-path=\"url(#pa69b83d33f)\" style=\"fill: none; stroke-dasharray: 2.96,1.28; stroke-dashoffset: 0; stroke: #b0b0b0; stroke-width: 0.8\"/>\n     </g>\n     <g id=\"line2d_40\">\n      <g>\n       <use xlink:href=\"#m29d5faa00b\" x=\"204.615063\" y=\"38.660975\" style=\"stroke: #000000; stroke-width: 0.8\"/>\n      </g>\n     </g>\n     <g id=\"text_21\">\n      <!-- 2 -->\n      <g transform=\"translate(188.707563 43.979881) scale(0.14 -0.14)\">\n       <use xlink:href=\"#DejaVuSans-32\"/>\n      </g>\n     </g>\n    </g>\n   </g>\n   <g id=\"patch_12\">\n    <path d=\"M 204.615063 152.921375 \nL 204.615063 25.965375 \n\" style=\"fill: none; stroke: #000000; stroke-width: 0.8; stroke-linejoin: miter; stroke-linecap: square\"/>\n   </g>\n   <g id=\"patch_13\">\n    <path d=\"M 331.571062 152.921375 \nL 331.571062 25.965375 \n\" style=\"fill: none; stroke: #000000; stroke-width: 0.8; stroke-linejoin: miter; stroke-linecap: square\"/>\n   </g>\n   <g id=\"patch_14\">\n    <path d=\"M 204.615063 152.921375 \nL 331.571062 152.921375 \n\" style=\"fill: none; stroke: #000000; stroke-width: 0.8; stroke-linejoin: miter; stroke-linecap: square\"/>\n   </g>\n   <g id=\"patch_15\">\n    <path d=\"M 204.615063 25.965375 \nL 331.571062 25.965375 \n\" style=\"fill: none; stroke: #000000; stroke-width: 0.8; stroke-linejoin: miter; stroke-linecap: square\"/>\n   </g>\n   <g id=\"text_22\">\n    <!-- $\\sigma$= 2.00 -->\n    <g transform=\"translate(234.325062 19.965375) scale(0.168 -0.168)\">\n     <use xlink:href=\"#DejaVuSans-Oblique-3c3\" transform=\"translate(0 0.78125)\"/>\n     <use xlink:href=\"#DejaVuSans-3d\" transform=\"translate(63.378906 0.78125)\"/>\n     <use xlink:href=\"#DejaVuSans-20\" transform=\"translate(147.167969 0.78125)\"/>\n     <use xlink:href=\"#DejaVuSans-32\" transform=\"translate(178.955078 0.78125)\"/>\n     <use xlink:href=\"#DejaVuSans-2e\" transform=\"translate(242.578125 0.78125)\"/>\n     <use xlink:href=\"#DejaVuSans-30\" transform=\"translate(274.365234 0.78125)\"/>\n     <use xlink:href=\"#DejaVuSans-30\" transform=\"translate(337.988281 0.78125)\"/>\n    </g>\n   </g>\n  </g>\n  <g id=\"axes_3\">\n   <g id=\"patch_16\">\n    <path d=\"M 374.391063 152.921375 \nL 501.347062 152.921375 \nL 501.347062 25.965375 \nL 374.391063 25.965375 \nz\n\" style=\"fill: #ffffff\"/>\n   </g>\n   <g id=\"patch_17\">\n    <path d=\"M 456.912462 64.052175 \nL 453.103782 75.478215 \nL 451.072486 73.954743 \nL 438.88471 90.205111 \nL 436.853414 88.681639 \nL 449.04119 72.431271 \nL 447.009894 70.907799 \nz\n\" clip-path=\"url(#pf3f42da06a)\" style=\"stroke: #000000; stroke-linejoin: miter\"/>\n   </g>\n   <g id=\"patch_18\">\n    <path d=\"M 446.755982 80.979642 \nL 442.947302 92.405682 \nL 440.916006 90.88221 \nL 441.423831 90.205111 \nL 439.392535 88.681639 \nL 438.88471 89.358738 \nL 436.853414 87.835266 \nz\n\" clip-path=\"url(#pf3f42da06a)\" style=\"fill: #bfbfbf; stroke: #bfbfbf; stroke-linejoin: miter\"/>\n   </g>\n   <g id=\"matplotlib.axis_5\">\n    <g id=\"xtick_11\">\n     <g id=\"line2d_41\">\n      <path d=\"M 387.086662 152.921375 \nL 387.086662 25.965375 \n\" clip-path=\"url(#pf3f42da06a)\" style=\"fill: none; stroke-dasharray: 2.96,1.28; stroke-dashoffset: 0; stroke: #b0b0b0; stroke-width: 0.8\"/>\n     </g>\n     <g id=\"line2d_42\">\n      <g>\n       <use xlink:href=\"#m5a1b1f5886\" x=\"387.086662\" y=\"152.921375\" style=\"stroke: #000000; stroke-width: 0.8\"/>\n      </g>\n     </g>\n     <g id=\"text_23\">\n      <!-- −2 -->\n      <g transform=\"translate(376.767131 170.559187) scale(0.14 -0.14)\">\n       <use xlink:href=\"#DejaVuSans-2212\"/>\n       <use xlink:href=\"#DejaVuSans-32\" transform=\"translate(83.789062 0)\"/>\n      </g>\n     </g>\n    </g>\n    <g id=\"xtick_12\">\n     <g id=\"line2d_43\">\n      <path d=\"M 412.477863 152.921375 \nL 412.477863 25.965375 \n\" clip-path=\"url(#pf3f42da06a)\" style=\"fill: none; stroke-dasharray: 2.96,1.28; stroke-dashoffset: 0; stroke: #b0b0b0; stroke-width: 0.8\"/>\n     </g>\n     <g id=\"line2d_44\">\n      <g>\n       <use xlink:href=\"#m5a1b1f5886\" x=\"412.477863\" y=\"152.921375\" style=\"stroke: #000000; stroke-width: 0.8\"/>\n      </g>\n     </g>\n     <g id=\"text_24\">\n      <!-- −1 -->\n      <g transform=\"translate(402.158331 170.559187) scale(0.14 -0.14)\">\n       <use xlink:href=\"#DejaVuSans-2212\"/>\n       <use xlink:href=\"#DejaVuSans-31\" transform=\"translate(83.789062 0)\"/>\n      </g>\n     </g>\n    </g>\n    <g id=\"xtick_13\">\n     <g id=\"line2d_45\">\n      <path d=\"M 437.869062 152.921375 \nL 437.869062 25.965375 \n\" clip-path=\"url(#pf3f42da06a)\" style=\"fill: none; stroke-dasharray: 2.96,1.28; stroke-dashoffset: 0; stroke: #b0b0b0; stroke-width: 0.8\"/>\n     </g>\n     <g id=\"line2d_46\">\n      <g>\n       <use xlink:href=\"#m5a1b1f5886\" x=\"437.869062\" y=\"152.921375\" style=\"stroke: #000000; stroke-width: 0.8\"/>\n      </g>\n     </g>\n     <g id=\"text_25\">\n      <!-- 0 -->\n      <g transform=\"translate(433.415312 170.559187) scale(0.14 -0.14)\">\n       <use xlink:href=\"#DejaVuSans-30\"/>\n      </g>\n     </g>\n    </g>\n    <g id=\"xtick_14\">\n     <g id=\"line2d_47\">\n      <path d=\"M 463.260262 152.921375 \nL 463.260262 25.965375 \n\" clip-path=\"url(#pf3f42da06a)\" style=\"fill: none; stroke-dasharray: 2.96,1.28; stroke-dashoffset: 0; stroke: #b0b0b0; stroke-width: 0.8\"/>\n     </g>\n     <g id=\"line2d_48\">\n      <g>\n       <use xlink:href=\"#m5a1b1f5886\" x=\"463.260262\" y=\"152.921375\" style=\"stroke: #000000; stroke-width: 0.8\"/>\n      </g>\n     </g>\n     <g id=\"text_26\">\n      <!-- 1 -->\n      <g transform=\"translate(458.806512 170.559187) scale(0.14 -0.14)\">\n       <use xlink:href=\"#DejaVuSans-31\"/>\n      </g>\n     </g>\n    </g>\n    <g id=\"xtick_15\">\n     <g id=\"line2d_49\">\n      <path d=\"M 488.651462 152.921375 \nL 488.651462 25.965375 \n\" clip-path=\"url(#pf3f42da06a)\" style=\"fill: none; stroke-dasharray: 2.96,1.28; stroke-dashoffset: 0; stroke: #b0b0b0; stroke-width: 0.8\"/>\n     </g>\n     <g id=\"line2d_50\">\n      <g>\n       <use xlink:href=\"#m5a1b1f5886\" x=\"488.651462\" y=\"152.921375\" style=\"stroke: #000000; stroke-width: 0.8\"/>\n      </g>\n     </g>\n     <g id=\"text_27\">\n      <!-- 2 -->\n      <g transform=\"translate(484.197712 170.559187) scale(0.14 -0.14)\">\n       <use xlink:href=\"#DejaVuSans-32\"/>\n      </g>\n     </g>\n    </g>\n   </g>\n   <g id=\"matplotlib.axis_6\">\n    <g id=\"ytick_11\">\n     <g id=\"line2d_51\">\n      <path d=\"M 374.391063 140.225775 \nL 501.347062 140.225775 \n\" clip-path=\"url(#pf3f42da06a)\" style=\"fill: none; stroke-dasharray: 2.96,1.28; stroke-dashoffset: 0; stroke: #b0b0b0; stroke-width: 0.8\"/>\n     </g>\n     <g id=\"line2d_52\">\n      <g>\n       <use xlink:href=\"#m29d5faa00b\" x=\"374.391063\" y=\"140.225775\" style=\"stroke: #000000; stroke-width: 0.8\"/>\n      </g>\n     </g>\n     <g id=\"text_28\">\n      <!-- −2 -->\n      <g transform=\"translate(346.752 145.544681) scale(0.14 -0.14)\">\n       <use xlink:href=\"#DejaVuSans-2212\"/>\n       <use xlink:href=\"#DejaVuSans-32\" transform=\"translate(83.789062 0)\"/>\n      </g>\n     </g>\n    </g>\n    <g id=\"ytick_12\">\n     <g id=\"line2d_53\">\n      <path d=\"M 374.391063 114.834575 \nL 501.347062 114.834575 \n\" clip-path=\"url(#pf3f42da06a)\" style=\"fill: none; stroke-dasharray: 2.96,1.28; stroke-dashoffset: 0; stroke: #b0b0b0; stroke-width: 0.8\"/>\n     </g>\n     <g id=\"line2d_54\">\n      <g>\n       <use xlink:href=\"#m29d5faa00b\" x=\"374.391063\" y=\"114.834575\" style=\"stroke: #000000; stroke-width: 0.8\"/>\n      </g>\n     </g>\n     <g id=\"text_29\">\n      <!-- −1 -->\n      <g transform=\"translate(346.752 120.153481) scale(0.14 -0.14)\">\n       <use xlink:href=\"#DejaVuSans-2212\"/>\n       <use xlink:href=\"#DejaVuSans-31\" transform=\"translate(83.789062 0)\"/>\n      </g>\n     </g>\n    </g>\n    <g id=\"ytick_13\">\n     <g id=\"line2d_55\">\n      <path d=\"M 374.391063 89.443375 \nL 501.347062 89.443375 \n\" clip-path=\"url(#pf3f42da06a)\" style=\"fill: none; stroke-dasharray: 2.96,1.28; stroke-dashoffset: 0; stroke: #b0b0b0; stroke-width: 0.8\"/>\n     </g>\n     <g id=\"line2d_56\">\n      <g>\n       <use xlink:href=\"#m29d5faa00b\" x=\"374.391063\" y=\"89.443375\" style=\"stroke: #000000; stroke-width: 0.8\"/>\n      </g>\n     </g>\n     <g id=\"text_30\">\n      <!-- 0 -->\n      <g transform=\"translate(358.483563 94.762281) scale(0.14 -0.14)\">\n       <use xlink:href=\"#DejaVuSans-30\"/>\n      </g>\n     </g>\n    </g>\n    <g id=\"ytick_14\">\n     <g id=\"line2d_57\">\n      <path d=\"M 374.391063 64.052175 \nL 501.347062 64.052175 \n\" clip-path=\"url(#pf3f42da06a)\" style=\"fill: none; stroke-dasharray: 2.96,1.28; stroke-dashoffset: 0; stroke: #b0b0b0; stroke-width: 0.8\"/>\n     </g>\n     <g id=\"line2d_58\">\n      <g>\n       <use xlink:href=\"#m29d5faa00b\" x=\"374.391063\" y=\"64.052175\" style=\"stroke: #000000; stroke-width: 0.8\"/>\n      </g>\n     </g>\n     <g id=\"text_31\">\n      <!-- 1 -->\n      <g transform=\"translate(358.483563 69.371081) scale(0.14 -0.14)\">\n       <use xlink:href=\"#DejaVuSans-31\"/>\n      </g>\n     </g>\n    </g>\n    <g id=\"ytick_15\">\n     <g id=\"line2d_59\">\n      <path d=\"M 374.391063 38.660975 \nL 501.347062 38.660975 \n\" clip-path=\"url(#pf3f42da06a)\" style=\"fill: none; stroke-dasharray: 2.96,1.28; stroke-dashoffset: 0; stroke: #b0b0b0; stroke-width: 0.8\"/>\n     </g>\n     <g id=\"line2d_60\">\n      <g>\n       <use xlink:href=\"#m29d5faa00b\" x=\"374.391063\" y=\"38.660975\" style=\"stroke: #000000; stroke-width: 0.8\"/>\n      </g>\n     </g>\n     <g id=\"text_32\">\n      <!-- 2 -->\n      <g transform=\"translate(358.483563 43.979881) scale(0.14 -0.14)\">\n       <use xlink:href=\"#DejaVuSans-32\"/>\n      </g>\n     </g>\n    </g>\n   </g>\n   <g id=\"patch_19\">\n    <path d=\"M 374.391063 152.921375 \nL 374.391063 25.965375 \n\" style=\"fill: none; stroke: #000000; stroke-width: 0.8; stroke-linejoin: miter; stroke-linecap: square\"/>\n   </g>\n   <g id=\"patch_20\">\n    <path d=\"M 501.347062 152.921375 \nL 501.347062 25.965375 \n\" style=\"fill: none; stroke: #000000; stroke-width: 0.8; stroke-linejoin: miter; stroke-linecap: square\"/>\n   </g>\n   <g id=\"patch_21\">\n    <path d=\"M 374.391063 152.921375 \nL 501.347062 152.921375 \n\" style=\"fill: none; stroke: #000000; stroke-width: 0.8; stroke-linejoin: miter; stroke-linecap: square\"/>\n   </g>\n   <g id=\"patch_22\">\n    <path d=\"M 374.391063 25.965375 \nL 501.347062 25.965375 \n\" style=\"fill: none; stroke: #000000; stroke-width: 0.8; stroke-linejoin: miter; stroke-linecap: square\"/>\n   </g>\n   <g id=\"text_33\">\n    <!-- $\\sigma$= 0.33 -->\n    <g transform=\"translate(404.101063 19.965375) scale(0.168 -0.168)\">\n     <defs>\n      <path id=\"DejaVuSans-33\" d=\"M 2597 2516 \nQ 3050 2419 3304 2112 \nQ 3559 1806 3559 1356 \nQ 3559 666 3084 287 \nQ 2609 -91 1734 -91 \nQ 1441 -91 1130 -33 \nQ 819 25 488 141 \nL 488 750 \nQ 750 597 1062 519 \nQ 1375 441 1716 441 \nQ 2309 441 2620 675 \nQ 2931 909 2931 1356 \nQ 2931 1769 2642 2001 \nQ 2353 2234 1838 2234 \nL 1294 2234 \nL 1294 2753 \nL 1863 2753 \nQ 2328 2753 2575 2939 \nQ 2822 3125 2822 3475 \nQ 2822 3834 2567 4026 \nQ 2313 4219 1838 4219 \nQ 1578 4219 1281 4162 \nQ 984 4106 628 3988 \nL 628 4550 \nQ 988 4650 1302 4700 \nQ 1616 4750 1894 4750 \nQ 2613 4750 3031 4423 \nQ 3450 4097 3450 3541 \nQ 3450 3153 3228 2886 \nQ 3006 2619 2597 2516 \nz\n\" transform=\"scale(0.015625)\"/>\n     </defs>\n     <use xlink:href=\"#DejaVuSans-Oblique-3c3\" transform=\"translate(0 0.78125)\"/>\n     <use xlink:href=\"#DejaVuSans-3d\" transform=\"translate(63.378906 0.78125)\"/>\n     <use xlink:href=\"#DejaVuSans-20\" transform=\"translate(147.167969 0.78125)\"/>\n     <use xlink:href=\"#DejaVuSans-30\" transform=\"translate(178.955078 0.78125)\"/>\n     <use xlink:href=\"#DejaVuSans-2e\" transform=\"translate(242.578125 0.78125)\"/>\n     <use xlink:href=\"#DejaVuSans-33\" transform=\"translate(274.365234 0.78125)\"/>\n     <use xlink:href=\"#DejaVuSans-33\" transform=\"translate(337.988281 0.78125)\"/>\n    </g>\n   </g>\n  </g>\n  <g id=\"axes_4\">\n   <g id=\"patch_23\">\n    <path d=\"M 544.167062 152.921375 \nL 671.123062 152.921375 \nL 671.123062 25.965375 \nL 544.167062 25.965375 \nz\n\" style=\"fill: #ffffff\"/>\n   </g>\n   <g id=\"patch_24\">\n    <path d=\"M 626.688462 64.052175 \nL 622.879782 75.478215 \nL 620.848486 73.954743 \nL 608.66071 90.205111 \nL 606.629414 88.681639 \nL 618.81719 72.431271 \nL 616.785894 70.907799 \nz\n\" clip-path=\"url(#pf338247c4b)\" style=\"stroke: #000000; stroke-linejoin: miter\"/>\n   </g>\n   <g id=\"patch_25\">\n    <path clip-path=\"url(#pf338247c4b)\" style=\"fill: #bfbfbf; stroke: #bfbfbf; stroke-linejoin: miter\"/>\n   </g>\n   <g id=\"matplotlib.axis_7\">\n    <g id=\"xtick_16\">\n     <g id=\"line2d_61\">\n      <path d=\"M 556.862662 152.921375 \nL 556.862662 25.965375 \n\" clip-path=\"url(#pf338247c4b)\" style=\"fill: none; stroke-dasharray: 2.96,1.28; stroke-dashoffset: 0; stroke: #b0b0b0; stroke-width: 0.8\"/>\n     </g>\n     <g id=\"line2d_62\">\n      <g>\n       <use xlink:href=\"#m5a1b1f5886\" x=\"556.862662\" y=\"152.921375\" style=\"stroke: #000000; stroke-width: 0.8\"/>\n      </g>\n     </g>\n     <g id=\"text_34\">\n      <!-- −2 -->\n      <g transform=\"translate(546.543131 170.559187) scale(0.14 -0.14)\">\n       <use xlink:href=\"#DejaVuSans-2212\"/>\n       <use xlink:href=\"#DejaVuSans-32\" transform=\"translate(83.789062 0)\"/>\n      </g>\n     </g>\n    </g>\n    <g id=\"xtick_17\">\n     <g id=\"line2d_63\">\n      <path d=\"M 582.253862 152.921375 \nL 582.253862 25.965375 \n\" clip-path=\"url(#pf338247c4b)\" style=\"fill: none; stroke-dasharray: 2.96,1.28; stroke-dashoffset: 0; stroke: #b0b0b0; stroke-width: 0.8\"/>\n     </g>\n     <g id=\"line2d_64\">\n      <g>\n       <use xlink:href=\"#m5a1b1f5886\" x=\"582.253862\" y=\"152.921375\" style=\"stroke: #000000; stroke-width: 0.8\"/>\n      </g>\n     </g>\n     <g id=\"text_35\">\n      <!-- −1 -->\n      <g transform=\"translate(571.934331 170.559187) scale(0.14 -0.14)\">\n       <use xlink:href=\"#DejaVuSans-2212\"/>\n       <use xlink:href=\"#DejaVuSans-31\" transform=\"translate(83.789062 0)\"/>\n      </g>\n     </g>\n    </g>\n    <g id=\"xtick_18\">\n     <g id=\"line2d_65\">\n      <path d=\"M 607.645062 152.921375 \nL 607.645062 25.965375 \n\" clip-path=\"url(#pf338247c4b)\" style=\"fill: none; stroke-dasharray: 2.96,1.28; stroke-dashoffset: 0; stroke: #b0b0b0; stroke-width: 0.8\"/>\n     </g>\n     <g id=\"line2d_66\">\n      <g>\n       <use xlink:href=\"#m5a1b1f5886\" x=\"607.645062\" y=\"152.921375\" style=\"stroke: #000000; stroke-width: 0.8\"/>\n      </g>\n     </g>\n     <g id=\"text_36\">\n      <!-- 0 -->\n      <g transform=\"translate(603.191312 170.559187) scale(0.14 -0.14)\">\n       <use xlink:href=\"#DejaVuSans-30\"/>\n      </g>\n     </g>\n    </g>\n    <g id=\"xtick_19\">\n     <g id=\"line2d_67\">\n      <path d=\"M 633.036262 152.921375 \nL 633.036262 25.965375 \n\" clip-path=\"url(#pf338247c4b)\" style=\"fill: none; stroke-dasharray: 2.96,1.28; stroke-dashoffset: 0; stroke: #b0b0b0; stroke-width: 0.8\"/>\n     </g>\n     <g id=\"line2d_68\">\n      <g>\n       <use xlink:href=\"#m5a1b1f5886\" x=\"633.036262\" y=\"152.921375\" style=\"stroke: #000000; stroke-width: 0.8\"/>\n      </g>\n     </g>\n     <g id=\"text_37\">\n      <!-- 1 -->\n      <g transform=\"translate(628.582512 170.559187) scale(0.14 -0.14)\">\n       <use xlink:href=\"#DejaVuSans-31\"/>\n      </g>\n     </g>\n    </g>\n    <g id=\"xtick_20\">\n     <g id=\"line2d_69\">\n      <path d=\"M 658.427462 152.921375 \nL 658.427462 25.965375 \n\" clip-path=\"url(#pf338247c4b)\" style=\"fill: none; stroke-dasharray: 2.96,1.28; stroke-dashoffset: 0; stroke: #b0b0b0; stroke-width: 0.8\"/>\n     </g>\n     <g id=\"line2d_70\">\n      <g>\n       <use xlink:href=\"#m5a1b1f5886\" x=\"658.427462\" y=\"152.921375\" style=\"stroke: #000000; stroke-width: 0.8\"/>\n      </g>\n     </g>\n     <g id=\"text_38\">\n      <!-- 2 -->\n      <g transform=\"translate(653.973712 170.559187) scale(0.14 -0.14)\">\n       <use xlink:href=\"#DejaVuSans-32\"/>\n      </g>\n     </g>\n    </g>\n   </g>\n   <g id=\"matplotlib.axis_8\">\n    <g id=\"ytick_16\">\n     <g id=\"line2d_71\">\n      <path d=\"M 544.167062 140.225775 \nL 671.123062 140.225775 \n\" clip-path=\"url(#pf338247c4b)\" style=\"fill: none; stroke-dasharray: 2.96,1.28; stroke-dashoffset: 0; stroke: #b0b0b0; stroke-width: 0.8\"/>\n     </g>\n     <g id=\"line2d_72\">\n      <g>\n       <use xlink:href=\"#m29d5faa00b\" x=\"544.167062\" y=\"140.225775\" style=\"stroke: #000000; stroke-width: 0.8\"/>\n      </g>\n     </g>\n     <g id=\"text_39\">\n      <!-- −2 -->\n      <g transform=\"translate(516.528 145.544681) scale(0.14 -0.14)\">\n       <use xlink:href=\"#DejaVuSans-2212\"/>\n       <use xlink:href=\"#DejaVuSans-32\" transform=\"translate(83.789062 0)\"/>\n      </g>\n     </g>\n    </g>\n    <g id=\"ytick_17\">\n     <g id=\"line2d_73\">\n      <path d=\"M 544.167062 114.834575 \nL 671.123062 114.834575 \n\" clip-path=\"url(#pf338247c4b)\" style=\"fill: none; stroke-dasharray: 2.96,1.28; stroke-dashoffset: 0; stroke: #b0b0b0; stroke-width: 0.8\"/>\n     </g>\n     <g id=\"line2d_74\">\n      <g>\n       <use xlink:href=\"#m29d5faa00b\" x=\"544.167062\" y=\"114.834575\" style=\"stroke: #000000; stroke-width: 0.8\"/>\n      </g>\n     </g>\n     <g id=\"text_40\">\n      <!-- −1 -->\n      <g transform=\"translate(516.528 120.153481) scale(0.14 -0.14)\">\n       <use xlink:href=\"#DejaVuSans-2212\"/>\n       <use xlink:href=\"#DejaVuSans-31\" transform=\"translate(83.789062 0)\"/>\n      </g>\n     </g>\n    </g>\n    <g id=\"ytick_18\">\n     <g id=\"line2d_75\">\n      <path d=\"M 544.167062 89.443375 \nL 671.123062 89.443375 \n\" clip-path=\"url(#pf338247c4b)\" style=\"fill: none; stroke-dasharray: 2.96,1.28; stroke-dashoffset: 0; stroke: #b0b0b0; stroke-width: 0.8\"/>\n     </g>\n     <g id=\"line2d_76\">\n      <g>\n       <use xlink:href=\"#m29d5faa00b\" x=\"544.167062\" y=\"89.443375\" style=\"stroke: #000000; stroke-width: 0.8\"/>\n      </g>\n     </g>\n     <g id=\"text_41\">\n      <!-- 0 -->\n      <g transform=\"translate(528.259562 94.762281) scale(0.14 -0.14)\">\n       <use xlink:href=\"#DejaVuSans-30\"/>\n      </g>\n     </g>\n    </g>\n    <g id=\"ytick_19\">\n     <g id=\"line2d_77\">\n      <path d=\"M 544.167062 64.052175 \nL 671.123062 64.052175 \n\" clip-path=\"url(#pf338247c4b)\" style=\"fill: none; stroke-dasharray: 2.96,1.28; stroke-dashoffset: 0; stroke: #b0b0b0; stroke-width: 0.8\"/>\n     </g>\n     <g id=\"line2d_78\">\n      <g>\n       <use xlink:href=\"#m29d5faa00b\" x=\"544.167062\" y=\"64.052175\" style=\"stroke: #000000; stroke-width: 0.8\"/>\n      </g>\n     </g>\n     <g id=\"text_42\">\n      <!-- 1 -->\n      <g transform=\"translate(528.259562 69.371081) scale(0.14 -0.14)\">\n       <use xlink:href=\"#DejaVuSans-31\"/>\n      </g>\n     </g>\n    </g>\n    <g id=\"ytick_20\">\n     <g id=\"line2d_79\">\n      <path d=\"M 544.167062 38.660975 \nL 671.123062 38.660975 \n\" clip-path=\"url(#pf338247c4b)\" style=\"fill: none; stroke-dasharray: 2.96,1.28; stroke-dashoffset: 0; stroke: #b0b0b0; stroke-width: 0.8\"/>\n     </g>\n     <g id=\"line2d_80\">\n      <g>\n       <use xlink:href=\"#m29d5faa00b\" x=\"544.167062\" y=\"38.660975\" style=\"stroke: #000000; stroke-width: 0.8\"/>\n      </g>\n     </g>\n     <g id=\"text_43\">\n      <!-- 2 -->\n      <g transform=\"translate(528.259562 43.979881) scale(0.14 -0.14)\">\n       <use xlink:href=\"#DejaVuSans-32\"/>\n      </g>\n     </g>\n    </g>\n   </g>\n   <g id=\"patch_26\">\n    <path d=\"M 544.167062 152.921375 \nL 544.167062 25.965375 \n\" style=\"fill: none; stroke: #000000; stroke-width: 0.8; stroke-linejoin: miter; stroke-linecap: square\"/>\n   </g>\n   <g id=\"patch_27\">\n    <path d=\"M 671.123062 152.921375 \nL 671.123062 25.965375 \n\" style=\"fill: none; stroke: #000000; stroke-width: 0.8; stroke-linejoin: miter; stroke-linecap: square\"/>\n   </g>\n   <g id=\"patch_28\">\n    <path d=\"M 544.167062 152.921375 \nL 671.123062 152.921375 \n\" style=\"fill: none; stroke: #000000; stroke-width: 0.8; stroke-linejoin: miter; stroke-linecap: square\"/>\n   </g>\n   <g id=\"patch_29\">\n    <path d=\"M 544.167062 25.965375 \nL 671.123062 25.965375 \n\" style=\"fill: none; stroke: #000000; stroke-width: 0.8; stroke-linejoin: miter; stroke-linecap: square\"/>\n   </g>\n   <g id=\"text_44\">\n    <!-- $\\sigma$= 0.00 -->\n    <g transform=\"translate(573.877062 19.965375) scale(0.168 -0.168)\">\n     <use xlink:href=\"#DejaVuSans-Oblique-3c3\" transform=\"translate(0 0.78125)\"/>\n     <use xlink:href=\"#DejaVuSans-3d\" transform=\"translate(63.378906 0.78125)\"/>\n     <use xlink:href=\"#DejaVuSans-20\" transform=\"translate(147.167969 0.78125)\"/>\n     <use xlink:href=\"#DejaVuSans-30\" transform=\"translate(178.955078 0.78125)\"/>\n     <use xlink:href=\"#DejaVuSans-2e\" transform=\"translate(242.578125 0.78125)\"/>\n     <use xlink:href=\"#DejaVuSans-30\" transform=\"translate(274.365234 0.78125)\"/>\n     <use xlink:href=\"#DejaVuSans-30\" transform=\"translate(337.988281 0.78125)\"/>\n    </g>\n   </g>\n  </g>\n  <g id=\"axes_5\">\n   <g id=\"patch_30\">\n    <path d=\"M 713.943062 152.921375 \nL 840.899062 152.921375 \nL 840.899062 25.965375 \nL 713.943062 25.965375 \nz\n\" style=\"fill: #ffffff\"/>\n   </g>\n   <g id=\"patch_31\">\n    <path d=\"M 796.464462 64.052175 \nL 792.655782 75.478215 \nL 790.624486 73.954743 \nL 778.43671 90.205111 \nL 776.405414 88.681639 \nL 788.59319 72.431271 \nL 786.561894 70.907799 \nz\n\" clip-path=\"url(#pc9ea05076f)\" style=\"stroke: #000000; stroke-linejoin: miter\"/>\n   </g>\n   <g id=\"patch_32\">\n    <path d=\"M 767.264582 106.370842 \nL 771.073262 94.944802 \nL 773.104558 96.468274 \nL 778.944534 88.681639 \nL 780.97583 90.205111 \nL 775.135854 97.991746 \nL 777.16715 99.515218 \nz\n\" clip-path=\"url(#pc9ea05076f)\" style=\"fill: #bfbfbf; stroke: #bfbfbf; stroke-linejoin: miter\"/>\n   </g>\n   <g id=\"matplotlib.axis_9\">\n    <g id=\"xtick_21\">\n     <g id=\"line2d_81\">\n      <path d=\"M 726.638662 152.921375 \nL 726.638662 25.965375 \n\" clip-path=\"url(#pc9ea05076f)\" style=\"fill: none; stroke-dasharray: 2.96,1.28; stroke-dashoffset: 0; stroke: #b0b0b0; stroke-width: 0.8\"/>\n     </g>\n     <g id=\"line2d_82\">\n      <g>\n       <use xlink:href=\"#m5a1b1f5886\" x=\"726.638662\" y=\"152.921375\" style=\"stroke: #000000; stroke-width: 0.8\"/>\n      </g>\n     </g>\n     <g id=\"text_45\">\n      <!-- −2 -->\n      <g transform=\"translate(716.319131 170.559187) scale(0.14 -0.14)\">\n       <use xlink:href=\"#DejaVuSans-2212\"/>\n       <use xlink:href=\"#DejaVuSans-32\" transform=\"translate(83.789062 0)\"/>\n      </g>\n     </g>\n    </g>\n    <g id=\"xtick_22\">\n     <g id=\"line2d_83\">\n      <path d=\"M 752.029862 152.921375 \nL 752.029862 25.965375 \n\" clip-path=\"url(#pc9ea05076f)\" style=\"fill: none; stroke-dasharray: 2.96,1.28; stroke-dashoffset: 0; stroke: #b0b0b0; stroke-width: 0.8\"/>\n     </g>\n     <g id=\"line2d_84\">\n      <g>\n       <use xlink:href=\"#m5a1b1f5886\" x=\"752.029862\" y=\"152.921375\" style=\"stroke: #000000; stroke-width: 0.8\"/>\n      </g>\n     </g>\n     <g id=\"text_46\">\n      <!-- −1 -->\n      <g transform=\"translate(741.710331 170.559187) scale(0.14 -0.14)\">\n       <use xlink:href=\"#DejaVuSans-2212\"/>\n       <use xlink:href=\"#DejaVuSans-31\" transform=\"translate(83.789062 0)\"/>\n      </g>\n     </g>\n    </g>\n    <g id=\"xtick_23\">\n     <g id=\"line2d_85\">\n      <path d=\"M 777.421062 152.921375 \nL 777.421062 25.965375 \n\" clip-path=\"url(#pc9ea05076f)\" style=\"fill: none; stroke-dasharray: 2.96,1.28; stroke-dashoffset: 0; stroke: #b0b0b0; stroke-width: 0.8\"/>\n     </g>\n     <g id=\"line2d_86\">\n      <g>\n       <use xlink:href=\"#m5a1b1f5886\" x=\"777.421062\" y=\"152.921375\" style=\"stroke: #000000; stroke-width: 0.8\"/>\n      </g>\n     </g>\n     <g id=\"text_47\">\n      <!-- 0 -->\n      <g transform=\"translate(772.967312 170.559187) scale(0.14 -0.14)\">\n       <use xlink:href=\"#DejaVuSans-30\"/>\n      </g>\n     </g>\n    </g>\n    <g id=\"xtick_24\">\n     <g id=\"line2d_87\">\n      <path d=\"M 802.812262 152.921375 \nL 802.812262 25.965375 \n\" clip-path=\"url(#pc9ea05076f)\" style=\"fill: none; stroke-dasharray: 2.96,1.28; stroke-dashoffset: 0; stroke: #b0b0b0; stroke-width: 0.8\"/>\n     </g>\n     <g id=\"line2d_88\">\n      <g>\n       <use xlink:href=\"#m5a1b1f5886\" x=\"802.812262\" y=\"152.921375\" style=\"stroke: #000000; stroke-width: 0.8\"/>\n      </g>\n     </g>\n     <g id=\"text_48\">\n      <!-- 1 -->\n      <g transform=\"translate(798.358512 170.559187) scale(0.14 -0.14)\">\n       <use xlink:href=\"#DejaVuSans-31\"/>\n      </g>\n     </g>\n    </g>\n    <g id=\"xtick_25\">\n     <g id=\"line2d_89\">\n      <path d=\"M 828.203462 152.921375 \nL 828.203462 25.965375 \n\" clip-path=\"url(#pc9ea05076f)\" style=\"fill: none; stroke-dasharray: 2.96,1.28; stroke-dashoffset: 0; stroke: #b0b0b0; stroke-width: 0.8\"/>\n     </g>\n     <g id=\"line2d_90\">\n      <g>\n       <use xlink:href=\"#m5a1b1f5886\" x=\"828.203462\" y=\"152.921375\" style=\"stroke: #000000; stroke-width: 0.8\"/>\n      </g>\n     </g>\n     <g id=\"text_49\">\n      <!-- 2 -->\n      <g transform=\"translate(823.749712 170.559187) scale(0.14 -0.14)\">\n       <use xlink:href=\"#DejaVuSans-32\"/>\n      </g>\n     </g>\n    </g>\n   </g>\n   <g id=\"matplotlib.axis_10\">\n    <g id=\"ytick_21\">\n     <g id=\"line2d_91\">\n      <path d=\"M 713.943062 140.225775 \nL 840.899062 140.225775 \n\" clip-path=\"url(#pc9ea05076f)\" style=\"fill: none; stroke-dasharray: 2.96,1.28; stroke-dashoffset: 0; stroke: #b0b0b0; stroke-width: 0.8\"/>\n     </g>\n     <g id=\"line2d_92\">\n      <g>\n       <use xlink:href=\"#m29d5faa00b\" x=\"713.943062\" y=\"140.225775\" style=\"stroke: #000000; stroke-width: 0.8\"/>\n      </g>\n     </g>\n     <g id=\"text_50\">\n      <!-- −2 -->\n      <g transform=\"translate(686.304 145.544681) scale(0.14 -0.14)\">\n       <use xlink:href=\"#DejaVuSans-2212\"/>\n       <use xlink:href=\"#DejaVuSans-32\" transform=\"translate(83.789062 0)\"/>\n      </g>\n     </g>\n    </g>\n    <g id=\"ytick_22\">\n     <g id=\"line2d_93\">\n      <path d=\"M 713.943062 114.834575 \nL 840.899062 114.834575 \n\" clip-path=\"url(#pc9ea05076f)\" style=\"fill: none; stroke-dasharray: 2.96,1.28; stroke-dashoffset: 0; stroke: #b0b0b0; stroke-width: 0.8\"/>\n     </g>\n     <g id=\"line2d_94\">\n      <g>\n       <use xlink:href=\"#m29d5faa00b\" x=\"713.943062\" y=\"114.834575\" style=\"stroke: #000000; stroke-width: 0.8\"/>\n      </g>\n     </g>\n     <g id=\"text_51\">\n      <!-- −1 -->\n      <g transform=\"translate(686.304 120.153481) scale(0.14 -0.14)\">\n       <use xlink:href=\"#DejaVuSans-2212\"/>\n       <use xlink:href=\"#DejaVuSans-31\" transform=\"translate(83.789062 0)\"/>\n      </g>\n     </g>\n    </g>\n    <g id=\"ytick_23\">\n     <g id=\"line2d_95\">\n      <path d=\"M 713.943062 89.443375 \nL 840.899062 89.443375 \n\" clip-path=\"url(#pc9ea05076f)\" style=\"fill: none; stroke-dasharray: 2.96,1.28; stroke-dashoffset: 0; stroke: #b0b0b0; stroke-width: 0.8\"/>\n     </g>\n     <g id=\"line2d_96\">\n      <g>\n       <use xlink:href=\"#m29d5faa00b\" x=\"713.943062\" y=\"89.443375\" style=\"stroke: #000000; stroke-width: 0.8\"/>\n      </g>\n     </g>\n     <g id=\"text_52\">\n      <!-- 0 -->\n      <g transform=\"translate(698.035562 94.762281) scale(0.14 -0.14)\">\n       <use xlink:href=\"#DejaVuSans-30\"/>\n      </g>\n     </g>\n    </g>\n    <g id=\"ytick_24\">\n     <g id=\"line2d_97\">\n      <path d=\"M 713.943062 64.052175 \nL 840.899062 64.052175 \n\" clip-path=\"url(#pc9ea05076f)\" style=\"fill: none; stroke-dasharray: 2.96,1.28; stroke-dashoffset: 0; stroke: #b0b0b0; stroke-width: 0.8\"/>\n     </g>\n     <g id=\"line2d_98\">\n      <g>\n       <use xlink:href=\"#m29d5faa00b\" x=\"713.943062\" y=\"64.052175\" style=\"stroke: #000000; stroke-width: 0.8\"/>\n      </g>\n     </g>\n     <g id=\"text_53\">\n      <!-- 1 -->\n      <g transform=\"translate(698.035562 69.371081) scale(0.14 -0.14)\">\n       <use xlink:href=\"#DejaVuSans-31\"/>\n      </g>\n     </g>\n    </g>\n    <g id=\"ytick_25\">\n     <g id=\"line2d_99\">\n      <path d=\"M 713.943062 38.660975 \nL 840.899062 38.660975 \n\" clip-path=\"url(#pc9ea05076f)\" style=\"fill: none; stroke-dasharray: 2.96,1.28; stroke-dashoffset: 0; stroke: #b0b0b0; stroke-width: 0.8\"/>\n     </g>\n     <g id=\"line2d_100\">\n      <g>\n       <use xlink:href=\"#m29d5faa00b\" x=\"713.943062\" y=\"38.660975\" style=\"stroke: #000000; stroke-width: 0.8\"/>\n      </g>\n     </g>\n     <g id=\"text_54\">\n      <!-- 2 -->\n      <g transform=\"translate(698.035562 43.979881) scale(0.14 -0.14)\">\n       <use xlink:href=\"#DejaVuSans-32\"/>\n      </g>\n     </g>\n    </g>\n   </g>\n   <g id=\"patch_33\">\n    <path d=\"M 713.943062 152.921375 \nL 713.943062 25.965375 \n\" style=\"fill: none; stroke: #000000; stroke-width: 0.8; stroke-linejoin: miter; stroke-linecap: square\"/>\n   </g>\n   <g id=\"patch_34\">\n    <path d=\"M 840.899062 152.921375 \nL 840.899062 25.965375 \n\" style=\"fill: none; stroke: #000000; stroke-width: 0.8; stroke-linejoin: miter; stroke-linecap: square\"/>\n   </g>\n   <g id=\"patch_35\">\n    <path d=\"M 713.943062 152.921375 \nL 840.899062 152.921375 \n\" style=\"fill: none; stroke: #000000; stroke-width: 0.8; stroke-linejoin: miter; stroke-linecap: square\"/>\n   </g>\n   <g id=\"patch_36\">\n    <path d=\"M 713.943062 25.965375 \nL 840.899062 25.965375 \n\" style=\"fill: none; stroke: #000000; stroke-width: 0.8; stroke-linejoin: miter; stroke-linecap: square\"/>\n   </g>\n   <g id=\"text_55\">\n    <!-- $\\sigma$= -0.67 -->\n    <g transform=\"translate(740.629062 19.965375) scale(0.168 -0.168)\">\n     <defs>\n      <path id=\"DejaVuSans-2d\" d=\"M 313 2009 \nL 1997 2009 \nL 1997 1497 \nL 313 1497 \nL 313 2009 \nz\n\" transform=\"scale(0.015625)\"/>\n      <path id=\"DejaVuSans-36\" d=\"M 2113 2584 \nQ 1688 2584 1439 2293 \nQ 1191 2003 1191 1497 \nQ 1191 994 1439 701 \nQ 1688 409 2113 409 \nQ 2538 409 2786 701 \nQ 3034 994 3034 1497 \nQ 3034 2003 2786 2293 \nQ 2538 2584 2113 2584 \nz\nM 3366 4563 \nL 3366 3988 \nQ 3128 4100 2886 4159 \nQ 2644 4219 2406 4219 \nQ 1781 4219 1451 3797 \nQ 1122 3375 1075 2522 \nQ 1259 2794 1537 2939 \nQ 1816 3084 2150 3084 \nQ 2853 3084 3261 2657 \nQ 3669 2231 3669 1497 \nQ 3669 778 3244 343 \nQ 2819 -91 2113 -91 \nQ 1303 -91 875 529 \nQ 447 1150 447 2328 \nQ 447 3434 972 4092 \nQ 1497 4750 2381 4750 \nQ 2619 4750 2861 4703 \nQ 3103 4656 3366 4563 \nz\n\" transform=\"scale(0.015625)\"/>\n      <path id=\"DejaVuSans-37\" d=\"M 525 4666 \nL 3525 4666 \nL 3525 4397 \nL 1831 0 \nL 1172 0 \nL 2766 4134 \nL 525 4134 \nL 525 4666 \nz\n\" transform=\"scale(0.015625)\"/>\n     </defs>\n     <use xlink:href=\"#DejaVuSans-Oblique-3c3\" transform=\"translate(0 0.78125)\"/>\n     <use xlink:href=\"#DejaVuSans-3d\" transform=\"translate(63.378906 0.78125)\"/>\n     <use xlink:href=\"#DejaVuSans-20\" transform=\"translate(147.167969 0.78125)\"/>\n     <use xlink:href=\"#DejaVuSans-2d\" transform=\"translate(178.955078 0.78125)\"/>\n     <use xlink:href=\"#DejaVuSans-30\" transform=\"translate(215.039062 0.78125)\"/>\n     <use xlink:href=\"#DejaVuSans-2e\" transform=\"translate(278.662109 0.78125)\"/>\n     <use xlink:href=\"#DejaVuSans-36\" transform=\"translate(310.449219 0.78125)\"/>\n     <use xlink:href=\"#DejaVuSans-37\" transform=\"translate(374.072266 0.78125)\"/>\n    </g>\n   </g>\n  </g>\n </g>\n <defs>\n  <clipPath id=\"p844882aaf8\">\n   <rect x=\"34.839063\" y=\"25.965375\" width=\"126.956\" height=\"126.956\"/>\n  </clipPath>\n  <clipPath id=\"pa69b83d33f\">\n   <rect x=\"204.615063\" y=\"25.965375\" width=\"126.956\" height=\"126.956\"/>\n  </clipPath>\n  <clipPath id=\"pf3f42da06a\">\n   <rect x=\"374.391063\" y=\"25.965375\" width=\"126.956\" height=\"126.956\"/>\n  </clipPath>\n  <clipPath id=\"pf338247c4b\">\n   <rect x=\"544.167062\" y=\"25.965375\" width=\"126.956\" height=\"126.956\"/>\n  </clipPath>\n  <clipPath id=\"pc9ea05076f\">\n   <rect x=\"713.943062\" y=\"25.965375\" width=\"126.956\" height=\"126.956\"/>\n  </clipPath>\n </defs>\n</svg>\n"
          },
          "metadata": {}
        }
      ]
    },
    {
      "cell_type": "markdown",
      "source": [
        "###Vector transpose"
      ],
      "metadata": {
        "id": "tkur2scnFjxd"
      }
    },
    {
      "cell_type": "code",
      "source": [
        "# Row vector\n",
        "r = np.array([\n",
        "  [1, 2, 3]\n",
        "])\n",
        "\n",
        "# orientationless array\n",
        "l = np.array([1, 2, 3])\n",
        "\n",
        "# print out the vector, its transpose, and its double-transpose\n",
        "print(r), print(\" \")\n",
        "\n",
        "# Transpose the row vector\n",
        "print(r.T), print(\" \")\n",
        "\n",
        "# double-transpose\n",
        "print(r.T.T)"
      ],
      "metadata": {
        "colab": {
          "base_uri": "https://localhost:8080/"
        },
        "id": "mEqXHRjGFknW",
        "outputId": "c0fa43b5-ffd4-4bb3-bd69-ddd7ac9d09d5"
      },
      "execution_count": null,
      "outputs": [
        {
          "output_type": "stream",
          "name": "stdout",
          "text": [
            "[[1 2 3]]\n",
            " \n",
            "[[1]\n",
            " [2]\n",
            " [3]]\n",
            " \n",
            "[[1 2 3]]\n"
          ]
        }
      ]
    },
    {
      "cell_type": "code",
      "source": [
        "# Same for the orientationless array\n",
        "print(l), print(' ')\n",
        "print(l.T), print(' ')\n",
        "print(l.T.T)"
      ],
      "metadata": {
        "colab": {
          "base_uri": "https://localhost:8080/"
        },
        "id": "7XyUBFQXGGxr",
        "outputId": "4d92682f-5a69-44e9-f323-f6308cf13cfb"
      },
      "execution_count": null,
      "outputs": [
        {
          "output_type": "stream",
          "name": "stdout",
          "text": [
            "[1 2 3]\n",
            " \n",
            "[1 2 3]\n",
            " \n",
            "[1 2 3]\n"
          ]
        }
      ]
    },
    {
      "cell_type": "markdown",
      "source": [
        "### Vector Broadcasting"
      ],
      "metadata": {
        "id": "46s8z0vto71e"
      }
    },
    {
      "cell_type": "code",
      "source": [
        "v = np.array([[1, 2, 3]]).T # col vector\n",
        "w = np.array([10, 20])    # row vector\n",
        "\n",
        "v + w # addition with broadcasting"
      ],
      "metadata": {
        "id": "a-IWBZCUo_KM",
        "outputId": "b31de39b-983a-4d7f-8864-1aaf9d917756",
        "colab": {
          "base_uri": "https://localhost:8080/"
        }
      },
      "execution_count": null,
      "outputs": [
        {
          "output_type": "execute_result",
          "data": {
            "text/plain": [
              "array([[11, 21],\n",
              "       [12, 22],\n",
              "       [13, 23]])"
            ]
          },
          "metadata": {},
          "execution_count": 17
        }
      ]
    },
    {
      "cell_type": "code",
      "source": [
        "# changing v into a row vector and w into a column vector\n",
        "\n",
        "v = np.array([[1, 2, 3]])     # row vector\n",
        "w = np.array([[10, 20]]).T    # col vector\n",
        "\n",
        "v + w # addition with broadcasting"
      ],
      "metadata": {
        "id": "NukAp8l-qBSI",
        "outputId": "2765ac70-6c4f-4b51-e9b2-486b75f96267",
        "colab": {
          "base_uri": "https://localhost:8080/"
        }
      },
      "execution_count": null,
      "outputs": [
        {
          "output_type": "execute_result",
          "data": {
            "text/plain": [
              "array([[11, 12, 13],\n",
              "       [21, 22, 23]])"
            ]
          },
          "metadata": {},
          "execution_count": 18
        }
      ]
    },
    {
      "cell_type": "markdown",
      "source": [
        "### Vector Magnitude"
      ],
      "metadata": {
        "id": "Ket_WQiivzYX"
      }
    },
    {
      "cell_type": "code",
      "source": [
        "v = np.array([1, 2, 3, 7, 8, 9])\n",
        "\n",
        "v_dim = len(v) # returns the dimensionality of an array\n",
        "print(v_dim)"
      ],
      "metadata": {
        "id": "HjNPIjF_v0XS",
        "outputId": "f52a26f6-26dc-43d9-9886-4d0932d7c9e6",
        "colab": {
          "base_uri": "https://localhost:8080/"
        }
      },
      "execution_count": null,
      "outputs": [
        {
          "output_type": "stream",
          "name": "stdout",
          "text": [
            "6\n"
          ]
        }
      ]
    },
    {
      "cell_type": "code",
      "source": [
        "v_mag = np.linalg.norm(v) # returns the geometric length (magnitude or norm)\n",
        "print(v_mag)"
      ],
      "metadata": {
        "id": "MdiglvjqwJYW",
        "outputId": "500a2e1f-e218-4cb8-9cb2-16827b199d88",
        "colab": {
          "base_uri": "https://localhost:8080/"
        }
      },
      "execution_count": null,
      "outputs": [
        {
          "output_type": "stream",
          "name": "stdout",
          "text": [
            "14.422205101855956\n"
          ]
        }
      ]
    },
    {
      "cell_type": "markdown",
      "source": [
        "## Vector Dot product"
      ],
      "metadata": {
        "id": "C8qe9ZNGGNQO"
      }
    },
    {
      "cell_type": "markdown",
      "source": [
        "The dot product is a single number that provides information about the relationship between two vectors.\n",
        "\n",
        "To compute the dot product, you multiply the corresponding elements of the two vectors, and then sum over all the individual products.\n",
        "\n",
        "```python\n",
        "[1 2 3 4 · 5 6 7 8 = 1 × 5 + 2 × 6 + 3 × 7 + 4 × 8\n",
        "                   = 5 + 12 + 21 + 32\n",
        "                   = 70\n",
        "```"
      ],
      "metadata": {
        "id": "ztH7VBmnO5vT"
      }
    },
    {
      "cell_type": "code",
      "source": [
        "  v = np.array([1, 2, 3, 4])\n",
        "  w = np.array([5, 6, 7, 8])\n",
        "\n",
        "  v_dot_w = np.dot(v, w)\n",
        "  print(v_dot_w)"
      ],
      "metadata": {
        "id": "JTGr9NkFGOyO",
        "outputId": "ef4be865-6be0-415c-a6b9-c1364b281e7e",
        "colab": {
          "base_uri": "https://localhost:8080/"
        }
      },
      "execution_count": 2,
      "outputs": [
        {
          "output_type": "stream",
          "name": "stdout",
          "text": [
            "70\n"
          ]
        }
      ]
    },
    {
      "cell_type": "code",
      "source": [
        "# scalar multiplying one vector scales the dot product by the same amount.\n",
        "s = 10\n",
        "s_dot = np.dot(s * v, w)\n",
        "print(s_dot)"
      ],
      "metadata": {
        "id": "bWIskSfnPqKP",
        "outputId": "d0833e35-4e5a-46c7-f9f6-28cea721deaa",
        "colab": {
          "base_uri": "https://localhost:8080/"
        }
      },
      "execution_count": 4,
      "outputs": [
        {
          "output_type": "stream",
          "name": "stdout",
          "text": [
            "700\n"
          ]
        }
      ]
    },
    {
      "cell_type": "markdown",
      "source": [
        "The dot product can be interpreted as a measure of similarity or mapping between two vectors."
      ],
      "metadata": {
        "id": "PNdyszFzQI3a"
      }
    },
    {
      "cell_type": "code",
      "source": [
        "# dot product: the distributivity property\n",
        "a = np.array([0, 1, 2])\n",
        "b = np.array([3, 5, 8])\n",
        "c = np.array([13, 21, 34])\n",
        "\n",
        "res1 = np.dot(a, b + c)\n",
        "res2 = np.dot(a, b) + np.dot(a, c)\n",
        "\n",
        "# show that they are equivalent\n",
        "print(res1, res2)"
      ],
      "metadata": {
        "id": "gjrYs0v-P7pE",
        "outputId": "0ed0f098-085f-456a-d9b4-62cbbc483918",
        "colab": {
          "base_uri": "https://localhost:8080/"
        }
      },
      "execution_count": 5,
      "outputs": [
        {
          "output_type": "stream",
          "name": "stdout",
          "text": [
            "110 110\n"
          ]
        }
      ]
    },
    {
      "cell_type": "markdown",
      "source": [
        "##Exercise-1"
      ],
      "metadata": {
        "id": "jnvXIWp0RMS7"
      }
    },
    {
      "cell_type": "code",
      "source": [],
      "metadata": {
        "id": "wwlakp29QuMd"
      },
      "execution_count": null,
      "outputs": []
    }
  ]
}