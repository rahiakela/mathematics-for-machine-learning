{
  "nbformat": 4,
  "nbformat_minor": 0,
  "metadata": {
    "colab": {
      "provenance": [],
      "toc_visible": true,
      "authorship_tag": "ABX9TyNvtLY3vbRYJY9mwk06yLxP",
      "include_colab_link": true
    },
    "kernelspec": {
      "name": "python3",
      "display_name": "Python 3"
    },
    "language_info": {
      "name": "python"
    }
  },
  "cells": [
    {
      "cell_type": "markdown",
      "metadata": {
        "id": "view-in-github",
        "colab_type": "text"
      },
      "source": [
        "<a href=\"https://colab.research.google.com/github/rahiakela/mathematics-for-machine-learning/blob/main/deep-learning-book-maths/2_12_principal_components_analysis.ipynb\" target=\"_parent\"><img src=\"https://colab.research.google.com/assets/colab-badge.svg\" alt=\"Open In Colab\"/></a>"
      ]
    },
    {
      "cell_type": "markdown",
      "source": [
        "##Principal Components Analysis"
      ],
      "metadata": {
        "id": "IKtQpuOAWn8Y"
      }
    },
    {
      "cell_type": "markdown",
      "source": [
        "Dimensions are a crucial topic in data science. The dimensions are all the features of the dataset. For instance, if you are looking at a dataset containing pieces of music, dimensions could be the genre, the length of the piece, the number of instruments, the presence of a singer etc. You can imagine all these dimensions as different columns. When there is only two dimensions, it is very convenient to plot: you can use the $x$- and $y$-axis. Add color and you can represent a third dimension. It is similar if you have tens or hundereds of dimensions, it will just be harder to visualize it.\n",
        "\n",
        "When you have that many dimensions it happens that some of them are correlated. For instance, we can reasonably think that the genre dimension will correlate with the instruments dimensions in our previous example. One way to reduce dimensionality is simply to keep only some of them. The problem is that you loose good information. It would be nice to have a way to reduce these dimensions while keeping all the information present in the data set.\n",
        "\n",
        "The aim of principal components analysis (PCA) is generaly to reduce the number of dimensions of a dataset where dimensions are not completly decorelated. PCA provides us with a new set of dimensions, the principal components (PC). They are ordered: the first PC is the dimension having the largest variance. In addition, each PC is orthogonal to the preceding one. Remember that orthogonal vectors means that their dot product is equal to $0$ (see [2.6](https://hadrienj.github.io/posts/Deep-Learning-Book-Series-2.6-Special-Kinds-of-Matrices-and-Vectors/)). This means that each PC is decorelated to the preceding one. It is way better than feature selection where you loose a lot of information."
      ],
      "metadata": {
        "id": "W-btWPbn-f86"
      }
    },
    {
      "cell_type": "markdown",
      "source": [
        "##Setup"
      ],
      "metadata": {
        "id": "hu1fEM6AZFWr"
      }
    },
    {
      "cell_type": "code",
      "source": [
        "import numpy as np\n",
        "\n",
        "import matplotlib.pyplot as plt\n",
        "import seaborn as sns"
      ],
      "metadata": {
        "id": "XMujFm6dZGgH"
      },
      "execution_count": null,
      "outputs": []
    },
    {
      "cell_type": "code",
      "source": [
        "# Plot style\n",
        "sns.set()\n",
        "%pylab inline\n",
        "pylab.rcParams['figure.figsize'] = (4, 4)"
      ],
      "metadata": {
        "id": "dI6fjg6qZG7p",
        "outputId": "98187766-2790-4244-918a-623855781266",
        "colab": {
          "base_uri": "https://localhost:8080/"
        }
      },
      "execution_count": null,
      "outputs": [
        {
          "output_type": "stream",
          "name": "stdout",
          "text": [
            "Populating the interactive namespace from numpy and matplotlib\n"
          ]
        }
      ]
    },
    {
      "cell_type": "code",
      "source": [
        "def plot_vectors(vecs, cols, alpha=1):\n",
        "  \"\"\"\n",
        "  Plot set of vectors.\n",
        "\n",
        "  Parameters\n",
        "  ----------\n",
        "  vecs : array-like\n",
        "      Coordinates of the vectors to plot. Each vectors is in an array. For\n",
        "      instance: [[1, 3], [2, 2]] can be used to plot 2 vectors.\n",
        "  cols : array-like\n",
        "      Colors of the vectors. For instance: ['red', 'blue'] will display the\n",
        "      first vector in red and the second in blue.\n",
        "  alpha : float\n",
        "      Opacity of vectors\n",
        "\n",
        "  Returns:\n",
        "\n",
        "  fig : instance of matplotlib.figure.Figure\n",
        "      The figure of the vectors\n",
        "  \"\"\"\n",
        "  plt.axvline(x=0, color='#A9A9A9', zorder=0)\n",
        "  plt.axhline(y=0, color='#A9A9A9', zorder=0)\n",
        "\n",
        "  for i in range(len(vecs)):\n",
        "      if (isinstance(alpha, list)):\n",
        "          alpha_i = alpha[i]\n",
        "      else:\n",
        "          alpha_i = alpha\n",
        "      x = np.concatenate([[0,0],vecs[i]])\n",
        "      plt.quiver([x[0]],\n",
        "                  [x[1]],\n",
        "                  [x[2]],\n",
        "                  [x[3]],\n",
        "                  angles='xy', scale_units='xy', scale=1, color=cols[i],\n",
        "                alpha=alpha_i)"
      ],
      "metadata": {
        "id": "LScJC8SNoWON"
      },
      "execution_count": null,
      "outputs": []
    },
    {
      "cell_type": "markdown",
      "source": [
        "## Describing the problem"
      ],
      "metadata": {
        "id": "9Tbolg9LYAzH"
      }
    },
    {
      "cell_type": "markdown",
      "source": [
        "###Example 1: Orthogonal vector"
      ],
      "metadata": {
        "id": "R1cdq6K62RrL"
      }
    },
    {
      "cell_type": "markdown",
      "source": [
        "Unit vectors are an example of orthogonal vectors:\n",
        "\n",
        "<img src=\"images/orthogonal-vectors.png\" width=\"200\" alt=\"Example of orthogonal vectors\" title=\"Orthogonal vectors\">\n",
        "\n",
        "<em>Orthogonal vectors</em>"
      ],
      "metadata": {
        "id": "nQNsQZpSMOEx"
      }
    },
    {
      "cell_type": "code",
      "source": [
        "orange = '#FF9A13'\n",
        "blue = '#1190FF'\n",
        "\n",
        "i = [0, 1]\n",
        "j = [1, 0]\n",
        "\n",
        "plot_vectors([i, j], [[blue], [orange]])\n",
        "plt.xlim(-0.5, 3)\n",
        "plt.ylim(-0.5, 3)\n",
        "plt.show()"
      ],
      "metadata": {
        "colab": {
          "base_uri": "https://localhost:8080/",
          "height": 266
        },
        "id": "0jq5rz-oGuIQ",
        "outputId": "1c470e8e-0935-4da5-82f9-b77cd769a26f"
      },
      "execution_count": null,
      "outputs": [
        {
          "output_type": "display_data",
          "data": {
            "text/plain": [
              "<Figure size 288x288 with 1 Axes>"
            ],
            "image/png": "[encoded data removed]"
          },
          "metadata": {
            "needs_background": "light"
          }
        }
      ]
    },
    {
      "cell_type": "markdown",
      "source": [
        "We will apply\n",
        "\n",
        "$$\n",
        "{A}=\\begin{bmatrix}\n",
        "    2 & 0\\\\\\\\\n",
        "    0 & 2\n",
        "\\end{bmatrix}\n",
        "$$\n",
        "\n",
        "to $i$ and $j$. You can notice that this matrix is special: it is diagonal. So it will only rescale our space. No rotation here. More precisely, it will rescale each dimension the same way because the diagonal values are identical. \n",
        "\n",
        "Let's create the matrix ${A}$:"
      ],
      "metadata": {
        "id": "ad4UuGRLvzDw"
      }
    },
    {
      "cell_type": "code",
      "source": [
        "A = np.array([\n",
        "  [2, 0],\n",
        "  [0, 2]\n",
        "])\n",
        "A"
      ],
      "metadata": {
        "colab": {
          "base_uri": "https://localhost:8080/"
        },
        "id": "0ZvCa3aHHb7t",
        "outputId": "39dac050-7ce3-4e64-c141-ed1463f0ac7a"
      },
      "execution_count": null,
      "outputs": [
        {
          "output_type": "execute_result",
          "data": {
            "text/plain": [
              "array([[2, 0],\n",
              "       [0, 2]])"
            ]
          },
          "metadata": {},
          "execution_count": 5
        }
      ]
    },
    {
      "cell_type": "markdown",
      "source": [
        "Now we will apply ${A}$ on our two unit vectors $i$ and $j$ and plot the resulting new vectors:"
      ],
      "metadata": {
        "id": "wFUMkHZcMZRZ"
      }
    },
    {
      "cell_type": "code",
      "source": [
        "new_i = A.dot(i)\n",
        "new_j = A.dot(j)\n",
        "\n",
        "plot_vectors([new_i, new_j], [['#1190FF'], ['#FF9A13']])\n",
        "plt.xlim(-0.5, 3)\n",
        "plt.ylim(-0.5, 3)\n",
        "plt.show()"
      ],
      "metadata": {
        "colab": {
          "base_uri": "https://localhost:8080/",
          "height": 266
        },
        "id": "ojWoxexcMaPJ",
        "outputId": "ff1ab1ba-b3a5-4c02-e37b-8547b311c17c"
      },
      "execution_count": null,
      "outputs": [
        {
          "output_type": "display_data",
          "data": {
            "text/plain": [
              "<Figure size 288x288 with 1 Axes>"
            ],
            "image/png": "[encoded data removed]"
          },
          "metadata": {
            "needs_background": "light"
          }
        }
      ]
    },
    {
      "cell_type": "markdown",
      "source": [
        "As expected, we can see that the square corresponding to $i$ and $j$ didn't rotate but the lengths of $i$ and $j$ have doubled. \n",
        "\n",
        "We will now calculate the determinant of ${A}$ (you can go to the [Wikipedia article](https://en.wikipedia.org/wiki/Determinant) for more details about the calculation of the determinant):\n",
        "\n",
        "<img src=\"https://github.com/rahiakela/mathematics-for-machine-learning/blob/main/deep-learning-book-maths/images/unit-square-area-transformed.png?raw=1\" width=\"300\" alt=\"Areas of the unit square and its transformation by the matrix\" title=\"The transformed unit square\">\n",
        "\n",
        "<em>The unit square transformed by the matrix</em>"
      ],
      "metadata": {
        "id": "rMaEXLmNPZ0g"
      }
    },
    {
      "cell_type": "code",
      "source": [
        "np.linalg.det(A)"
      ],
      "metadata": {
        "colab": {
          "base_uri": "https://localhost:8080/"
        },
        "id": "-f5-4MCrPaR5",
        "outputId": "6e7ceffa-04d4-435b-e917-55720616c43f"
      },
      "execution_count": null,
      "outputs": [
        {
          "output_type": "execute_result",
          "data": {
            "text/plain": [
              "4.0"
            ]
          },
          "metadata": {},
          "execution_count": 7
        }
      ]
    },
    {
      "cell_type": "markdown",
      "source": [
        "And yes, the transformation have multiplied the area of the unit square by 4. The lengths of $new_i$ and $new_j$ are $2$ (thus $2\\cdot2=4$)."
      ],
      "metadata": {
        "id": "Pvtcn5wNPjn4"
      }
    },
    {
      "cell_type": "markdown",
      "source": [
        "##Example 2: Negative determinant"
      ],
      "metadata": {
        "id": "y6X3amYeRqKw"
      }
    },
    {
      "cell_type": "markdown",
      "source": [
        "Let's see now an example of negative determinant.\n",
        "\n",
        "We will transform the unit square with the matrix:\n",
        "\n",
        "$$\n",
        "{B}=\\begin{bmatrix}\n",
        "    -2 & 0\\\\\\\\\n",
        "    0 & 2\n",
        "\\end{bmatrix}\n",
        "$$\n",
        "\n",
        "Its determinant is $-4$:"
      ],
      "metadata": {
        "id": "2QGt7PviSIHh"
      }
    },
    {
      "cell_type": "code",
      "source": [
        "B = np.array([\n",
        "  [-2, 0],\n",
        "  [0, 2]\n",
        "])\n",
        "\n",
        "np.linalg.det(B)"
      ],
      "metadata": {
        "id": "dcywqFLfZa5k",
        "colab": {
          "base_uri": "https://localhost:8080/"
        },
        "outputId": "a7f85a37-de5b-449c-8a1e-6118281bcc67"
      },
      "execution_count": null,
      "outputs": [
        {
          "output_type": "execute_result",
          "data": {
            "text/plain": [
              "-4.0"
            ]
          },
          "metadata": {},
          "execution_count": 14
        }
      ]
    },
    {
      "cell_type": "code",
      "source": [
        "new_i_1 = B.dot(i)\n",
        "new_j_1 = B.dot(j)\n",
        "\n",
        "plot_vectors([new_i_1, new_j_1], [['#1190FF'], ['#FF9A13']])\n",
        "plt.xlim(-3, 0.5)\n",
        "plt.ylim(-0.5, 3)\n",
        "plt.show()"
      ],
      "metadata": {
        "colab": {
          "base_uri": "https://localhost:8080/",
          "height": 266
        },
        "id": "rSaCu7U0KbRL",
        "outputId": "d64faed1-541e-493a-cde0-c8594122b0b6"
      },
      "execution_count": null,
      "outputs": [
        {
          "output_type": "display_data",
          "data": {
            "text/plain": [
              "<Figure size 288x288 with 1 Axes>"
            ],
            "image/png": "[encoded data removed]"
          },
          "metadata": {
            "needs_background": "light"
          }
        }
      ]
    },
    {
      "cell_type": "markdown",
      "source": [
        "We can see that the matrices with determinant $2$ and $-2$ modified the area of the unit square the same way.\n",
        "\n",
        "<img src=\"https://github.com/rahiakela/mathematics-for-machine-learning/blob/main/deep-learning-book-maths/images/unit-square-area-transformed-1.png?raw=1\" width=\"300\" alt=\"Areas of the unit square and its transformation by the matrix with a negative determinant\" title=\"The transformed unit square\">\n",
        "\n",
        "<em>The unit square transformed by the matrix with a negative determinant</em>\n",
        "\n",
        "The absolute value of the determinant shows that, as in the first example, the area of the new square is 4 times the area of the unit square. But this time, it was not just a rescaling but also a transformation. It is not obvious with only the unit vectors so let's transform some random points. We will use the matrix\n",
        "\n",
        "$$\n",
        "{C}=\\begin{bmatrix}\n",
        "    -1 & 0\\\\\\\\\n",
        "    0 & 1\n",
        "\\end{bmatrix}\n",
        "$$\n",
        "\n",
        "that has a determinant equal to $-1$ for simplicity:"
      ],
      "metadata": {
        "id": "jZmJAJ8fd1Wp"
      }
    },
    {
      "cell_type": "code",
      "source": [
        "# Some random points\n",
        "points = np.array([\n",
        "  [1, 3], \n",
        "  [2, 2], \n",
        "  [3, 1], \n",
        "  [4, 7], \n",
        "  [5, 4]\n",
        "])\n",
        "\n",
        "C = np.array([\n",
        "  [-1, 0],\n",
        "  [0, 1]\n",
        "])\n",
        "\n",
        "np.linalg.det(C)"
      ],
      "metadata": {
        "id": "OXdmu18q-dZE",
        "colab": {
          "base_uri": "https://localhost:8080/"
        },
        "outputId": "47157419-78bb-460d-a56a-c4dafa2ae330"
      },
      "execution_count": null,
      "outputs": [
        {
          "output_type": "execute_result",
          "data": {
            "text/plain": [
              "-1.0"
            ]
          },
          "metadata": {},
          "execution_count": 10
        }
      ]
    },
    {
      "cell_type": "markdown",
      "source": [
        "Since the determinant is $-1$, the area of the space will not be changed. \n",
        "\n",
        "However, since it is negative we will observe a transformation that we can't obtain through rotation:"
      ],
      "metadata": {
        "id": "S-KwBUzYy0-Y"
      }
    },
    {
      "cell_type": "code",
      "source": [
        "newPoints = points.dot(C)\n",
        "\n",
        "plt.figure()\n",
        "plt.plot(points[:, 0], points[:, 1])\n",
        "plt.plot(newPoints[:, 0], newPoints[:, 1])\n",
        "plt.show()"
      ],
      "metadata": {
        "colab": {
          "base_uri": "https://localhost:8080/",
          "height": 262
        },
        "id": "kNqrqtdPy2Wn",
        "outputId": "6e9faeb9-6d20-4c44-ccb5-da93c082e771"
      },
      "execution_count": null,
      "outputs": [
        {
          "output_type": "display_data",
          "data": {
            "text/plain": [
              "<Figure size 288x288 with 1 Axes>"
            ],
            "image/png": "[encoded data removed]"
          },
          "metadata": {
            "needs_background": "light"
          }
        }
      ]
    },
    {
      "cell_type": "markdown",
      "source": [
        "You can see that the transformation mirrored the initial shape."
      ],
      "metadata": {
        "id": "W9rz3l8Uy912"
      }
    },
    {
      "cell_type": "markdown",
      "source": [
        "##Conclusion"
      ],
      "metadata": {
        "id": "KQXVv7pdzQjA"
      }
    },
    {
      "cell_type": "markdown",
      "source": [
        "We have seen that the determinant of a matrix is a special value telling us a lot of things on the transformation corresponding to this matrix. Now hang on and go to the *last chapter* on the Principal Component Analysis (PCA)."
      ],
      "metadata": {
        "id": "FlrDXVCvzRLS"
      }
    },
    {
      "cell_type": "markdown",
      "source": [
        "## References"
      ],
      "metadata": {
        "id": "pGcdv0qwjACO"
      }
    },
    {
      "cell_type": "markdown",
      "source": [
        "**Linear transformations**\n",
        "\n",
        "- [Nykamp DQ, “Determinants and linear transformations.” From Math Insight](https://mathinsight.org/determinant_linear_transformation)\n",
        "\n",
        "- [Determinant intuition - SE](https://math.stackexchange.com/questions/668/whats-an-intuitive-way-to-think-about-the-determinant)\n",
        "\n",
        "**Numpy**\n",
        "\n",
        "- [Numpy determinant](https://docs.scipy.org/doc/numpy-1.13.0/reference/generated/numpy.linalg.det.html)"
      ],
      "metadata": {
        "id": "1vK_KJ_3jBKD"
      }
    }
  ]
}