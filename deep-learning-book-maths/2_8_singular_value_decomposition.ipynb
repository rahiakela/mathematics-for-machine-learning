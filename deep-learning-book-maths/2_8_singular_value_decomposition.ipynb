{
  "nbformat": 4,
  "nbformat_minor": 0,
  "metadata": {
    "colab": {
      "name": "2.8-singular-value-decomposition.ipynb",
      "provenance": [],
      "toc_visible": true,
      "authorship_tag": "ABX9TyOs2V2kITRVA7jWKIu3V5nR",
      "include_colab_link": true
    },
    "kernelspec": {
      "name": "python3",
      "display_name": "Python 3"
    },
    "language_info": {
      "name": "python"
    }
  },
  "cells": [
    {
      "cell_type": "markdown",
      "metadata": {
        "id": "view-in-github",
        "colab_type": "text"
      },
      "source": [
        "<a href=\"https://colab.research.google.com/github/rahiakela/mathematics-for-machine-learning/blob/main/deep-learning-book-maths/2_8_singular_value_decomposition.ipynb\" target=\"_parent\"><img src=\"https://colab.research.google.com/assets/colab-badge.svg\" alt=\"Open In Colab\"/></a>"
      ]
    },
    {
      "cell_type": "markdown",
      "source": [
        "##Singular Value Decomposition"
      ],
      "metadata": {
        "id": "IKtQpuOAWn8Y"
      }
    },
    {
      "cell_type": "markdown",
      "source": [
        "Since the beginning of this series, I emphasized the fact that you can see matrices as linear transformation in space. With the SVD, you decompose a matrix in three other matrices. You can see these new matrices as *sub-transformations* of the space. Instead of doing the transformation in one movement, we decompose it in three movements. \n",
        "\n",
        "As a bonus, we will apply the SVD to image processing. We will see the effect of SVD on an image of Lucy the goose (it is just a goose named Lucy...) so keep on reading!\n",
        "\n",
        "\n",
        "<img src=\"https://github.com/rahiakela/mathematics-for-machine-learning/blob/main/deep-learning-book-maths/images/unit-circle-transformation1.png?raw=1\" width=\"400\" alt=\"Plot of the unit circle and its transformation\" title=\"Transformation of the unit circle\">\n",
        "\n",
        "<em>The unit circle and its transformation by a matrix.</em>\n",
        "\n",
        "We saw in [2.7](https://hadrienj.github.io/posts/Deep-Learning-Book-Series-2.7-Eigendecomposition/) that the eigendecomposition can be done only for square matrices. The way to go to decompose other types of matrices that can't be decomposed with eigendecomposition is to use **Singular Value Decomposition** (SVD).\n",
        "\n",
        "We will decompose ${A}$ into 3 matrices (instead of two with eigendecomposition):\n",
        "\n",
        "<img src=\"https://github.com/rahiakela/mathematics-for-machine-learning/blob/main/deep-learning-book-maths/images/singular-value-decomposition.png?raw=1\" width=\"300\" alt=\"Illustration of the singular value decomposition\" title=\"The singular value decomposition\">\n",
        "\n",
        "<em>The singular value decomposition</em>\n",
        "\n",
        "The matrices ${U}$, ${D}$, and ${V}$ have the following properties:\n",
        "\n",
        "- ${U}$ and ${V}$ are orthogonal matrices (${U}^\\text{T}={U}^{-1}$ and ${V}^\\text{T}={V}^{-1}$; see [2.6](https://hadrienj.github.io/posts/Deep-Learning-Book-Series-2.6-Special-Kinds-of-Matrices-and-Vectors/) for more details about orthogonal matrices)\n",
        "\n",
        "- ${D}$ is a diagonal matrix (all 0 except the diagonal ; see [2.6](https://hadrienj.github.io/posts/Deep-Learning-Book-Series-2.6-Special-Kinds-of-Matrices-and-Vectors/)). However ${D}$ is not necessarily square.\n",
        "\n",
        "The columns of ${U}$ are called the left-singular vectors of ${A}$ while the columns of ${V}$ are the right-singular vectors of ${A}$. The values along the diagonal of ${D}$ are the singular values of ${A}$.\n",
        "\n",
        "Here are the dimensions of the factorization:\n",
        "\n",
        "<img src=\"https://github.com/rahiakela/mathematics-for-machine-learning/blob/main/deep-learning-book-maths/images/singular-value-decomposition-understanding-dimensions.png?raw=1\" width=\"300\" alt=\"Dimensions of the singular value decomposition (SVD)\" title=\"The dimensions of the singular value decomposition (SVD)\">\n",
        "\n",
        "<em>The dimensions of the singular value decomposition</em>\n",
        "\n",
        "\n",
        "The diagonal matrix of singular values is not square but have the shape of ${A}$. Look at the example provided in the [Numpy doc](https://docs.scipy.org/doc/numpy/reference/generated/numpy.linalg.svd.html) to see that they create a matrix of zeros with the same shape as ${A}$ and fill it with the singular values:\n",
        "\n",
        "```python\n",
        "smat = np.zeros((9, 6), dtype=complex)\n",
        "smat[:6, :6] = np.diag(s)\n",
        "```"
      ],
      "metadata": {
        "id": "W-btWPbn-f86"
      }
    },
    {
      "cell_type": "markdown",
      "source": [
        "##Setup"
      ],
      "metadata": {
        "id": "hu1fEM6AZFWr"
      }
    },
    {
      "cell_type": "code",
      "source": [
        "import numpy as np\n",
        "\n",
        "from PIL import Image\n",
        "\n",
        "import matplotlib.pyplot as plt\n",
        "import seaborn as sns"
      ],
      "metadata": {
        "id": "XMujFm6dZGgH"
      },
      "execution_count": 1,
      "outputs": []
    },
    {
      "cell_type": "code",
      "source": [
        "# Plot parameters\n",
        "sns.set()\n",
        "%pylab inline\n",
        "pylab.rcParams['figure.figsize'] = (4, 4)\n",
        "plt.rcParams['xtick.major.size'] = 0\n",
        "plt.rcParams['ytick.major.size'] = 0\n",
        "# Avoid inaccurate floating values (for inverse matrices in dot product for instance)\n",
        "# See https://stackoverflow.com/questions/24537791/numpy-matrix-inversion-rounding-errors\n",
        "np.set_printoptions(suppress=True)"
      ],
      "metadata": {
        "id": "dI6fjg6qZG7p"
      },
      "execution_count": null,
      "outputs": []
    },
    {
      "cell_type": "code",
      "source": [
        "def plot_vectors(vecs, cols, alpha=1):\n",
        "  plt.axvline(x=0, color='#A9A9A9', zorder=0)\n",
        "  plt.axhline(y=0, color='#A9A9A9', zorder=0)\n",
        "\n",
        "  for i in range(len(vecs)):\n",
        "    if (isinstance(alpha, list)):\n",
        "        alpha_i = alpha[i]\n",
        "    else:\n",
        "        alpha_i = alpha\n",
        "    x = np.concatenate([[0,0],vecs[i]])\n",
        "    plt.quiver([x[0]],\n",
        "                [x[1]],\n",
        "                [x[2]],\n",
        "                [x[3]],\n",
        "                angles='xy', scale_units='xy', scale=1, color=cols[i],\n",
        "                alpha=alpha)"
      ],
      "metadata": {
        "id": "J2_jJWYE-15U"
      },
      "execution_count": 3,
      "outputs": []
    },
    {
      "cell_type": "markdown",
      "source": [
        "Let's create a function that takes a 2D matrix as an input and draw the unit circle transformation when we apply this matrix to it."
      ],
      "metadata": {
        "id": "QOUvnZZ4UJor"
      }
    },
    {
      "cell_type": "code",
      "source": [
        "def plot_matrix(matrix, vectorsCol=['#FF9A13', '#1190FF']):\n",
        "  \"\"\"\n",
        "  Modify the unit circle and basis vector by applying a matrix.\n",
        "  Visualize the effect of the matrix in 2D.\n",
        "\n",
        "  Parameters\n",
        "  ----------\n",
        "  matrix : array-like\n",
        "      2D matrix to apply to the unit circle.\n",
        "  vectorsCol : HEX color code\n",
        "      Color of the basis vectors\n",
        "\n",
        "  Returns:\n",
        "\n",
        "  fig : instance of matplotlib.figure.Figure\n",
        "      The figure containing modified unit circle and basis vectors.\n",
        "  \"\"\"\n",
        "  # Unit circle\n",
        "  x = np.linspace(-1, 1, 100000)\n",
        "  y = np.sqrt(1-(x**2))\n",
        "  \n",
        "  # Modified unit circle (separate negative and positive parts)\n",
        "  x1 = matrix[0,0]*x + matrix[0,1]*y\n",
        "  y1 = matrix[1,0]*x + matrix[1,1]*y\n",
        "  x1_neg = matrix[0,0]*x - matrix[0,1]*y\n",
        "  y1_neg = matrix[1,0]*x - matrix[1,1]*y\n",
        "  \n",
        "  # Vectors\n",
        "  u1 = [matrix[0,0],matrix[1,0]]\n",
        "  v1 = [matrix[0,1],matrix[1,1]]\n",
        "  \n",
        "  plot_vectors([u1, v1], cols=[vectorsCol[0], vectorsCol[1]])\n",
        "\n",
        "  plt.plot(x1, y1, 'g', alpha=0.5)\n",
        "  plt.plot(x1_neg, y1_neg, 'g', alpha=0.5)"
      ],
      "metadata": {
        "id": "Z_wT5SQ_ULKI"
      },
      "execution_count": 4,
      "outputs": []
    },
    {
      "cell_type": "code",
      "source": [
        "!wget https://github.com/hadrienj/deepLearningBook-Notes/raw/master/2.8%20Singular%20Value%20Decomposition/test_svd.jpg"
      ],
      "metadata": {
        "id": "J1aeT_ZKGDSd"
      },
      "execution_count": null,
      "outputs": []
    },
    {
      "cell_type": "markdown",
      "source": [
        "## Intuition"
      ],
      "metadata": {
        "id": "9Tbolg9LYAzH"
      }
    },
    {
      "cell_type": "markdown",
      "source": [
        "I think that the intuition behind the singular value decomposition needs some explanations about the idea of matrix transformation. For that reason, here are several examples showing how the space can be transformed by 2D square matrices. \n",
        "\n",
        "Hopefully, this will lead to a better understanding of this statement: ${A}$ is a matrix that can be seen as a linear transformation. \n",
        "\n",
        "This transformation can be decomposed in three sub-transformations: \n",
        "\n",
        "1. rotation, \n",
        "2. re-scaling, \n",
        "3. rotation.\n",
        "\n",
        "These three steps correspond to the three matrices ${U}$, ${D}$, and ${V}$.\n",
        "\n",
        "You can look at [this animation](https://en.wikipedia.org/wiki/Singular-value_decomposition) from the Wikipedia article on the SVD. If you scroll down the page you will see each step.\n",
        "\n",
        "**Every matrix can be seen as a linear transformation**\n",
        "\n",
        "You can see a matrix as a specific linear transformation. When you *apply* this matrix to a vector or to another matrix you will apply this linear transformation to it.\n"
      ],
      "metadata": {
        "id": "voFIEJvHYd0d"
      }
    },
    {
      "cell_type": "markdown",
      "source": [
        "### Example 1: Vector scaling"
      ],
      "metadata": {
        "id": "ORYOIN4lYuWG"
      }
    },
    {
      "cell_type": "markdown",
      "source": [
        "We will modify the vector:\n",
        "\n",
        "$$\n",
        "{v}=\\begin{bmatrix}\n",
        "    x\\\\\\\\\n",
        "    y\n",
        "\\end{bmatrix}\n",
        "$$\n",
        "\n",
        "by applying the matrix:\n",
        "\n",
        "$$\n",
        "\\begin{bmatrix}\n",
        "    2 & 0\\\\\\\\\n",
        "    0 & 2\n",
        "\\end{bmatrix}\n",
        "$$\n",
        "\n",
        "We will have:\n",
        "\n",
        "$$\n",
        "\\begin{bmatrix}\n",
        "    x'\\\\\\\\\n",
        "    y'\n",
        "\\end{bmatrix}=\\begin{bmatrix}\n",
        "    2 & 0\\\\\\\\\n",
        "    0 & 2\n",
        "\\end{bmatrix}\n",
        "\\begin{bmatrix}\n",
        "    x\\\\\\\\\n",
        "    y\n",
        "\\end{bmatrix}=\n",
        "\\begin{bmatrix}\n",
        "    2x + 0y\\\\\\\\\n",
        "    0x + 2y\n",
        "\\end{bmatrix}=\n",
        "\\begin{bmatrix}\n",
        "    2x\\\\\\\\\n",
        "    2y\n",
        "\\end{bmatrix}\n",
        "$$\n",
        "\n",
        "We see that applying the matrix:\n",
        "\n",
        "$$\n",
        "\\begin{bmatrix}\n",
        "    2 & 0\\\\\\\\\n",
        "    0 & 2\n",
        "\\end{bmatrix}\n",
        "$$\n",
        "\n",
        "just doubled each coordinate of our vector. Here are the graphical representation of ${v}$ and its transformation ${w}$:\n",
        "\n",
        "<img src=\"https://github.com/rahiakela/mathematics-for-machine-learning/blob/main/deep-learning-book-maths/images/transformation-vector-by-matrix.png?raw=1\" width=\"400\" alt=\"Plot of a vector and its transformation\" title=\"The matrix increased both coordinates of the vector\">\n",
        "\n",
        "<em>Applying the matrix on the vector multiplied each coordinate by two</em>\n",
        "\n",
        "You can look at other examples of simple transformations on vectors and unit circle in [this video](https://www.youtube.com/watch?v=kJIUbtSowRg)."
      ],
      "metadata": {
        "id": "O3AVW906DpyG"
      }
    },
    {
      "cell_type": "code",
      "source": [
        "v = np.array([1, 1])\n",
        "\n",
        "A = np.array([\n",
        "   [2, 0],\n",
        "   [0, 2]           \n",
        "])\n",
        "\n",
        "W = np.matmul(A, v)\n",
        "W"
      ],
      "metadata": {
        "colab": {
          "base_uri": "https://localhost:8080/"
        },
        "id": "SPDozWMCARJA",
        "outputId": "c7acea9f-a350-43ff-867a-3aae388bb2e3"
      },
      "execution_count": 6,
      "outputs": [
        {
          "output_type": "execute_result",
          "data": {
            "text/plain": [
              "array([2, 2])"
            ]
          },
          "metadata": {},
          "execution_count": 6
        }
      ]
    },
    {
      "cell_type": "markdown",
      "source": [
        "### Example 2: Unit circle scaling"
      ],
      "metadata": {
        "id": "j-N_rUYrAsSC"
      }
    },
    {
      "cell_type": "markdown",
      "source": [
        "To represent the linear transformation associated with matrices we can also draw the unit circle and see how a matrix can transform it (see the BONUS in [2.7](https://hadrienj.github.io/posts/Deep-Learning-Book-Series-2.7-Eigendecomposition/)). The unit circle represents the coordinates of every unit vectors (vector of length 1, see [2.6](https://hadrienj.github.io/posts/Deep-Learning-Book-Series-2.6-Special-Kinds-of-Matrices-and-Vectors/)).\n",
        "\n",
        "<img src=\"https://github.com/rahiakela/mathematics-for-machine-learning/blob/main/deep-learning-book-maths/images/unit-circle.png?raw=1\" width=\"200\" alt=\"Representation of the unit circle\" title=\"The unit circle\">\n",
        "\n",
        "<em>The unit circle</em>\n",
        "\n",
        "It is then possible to apply a matrix to all these unit vectors to see the kind of deformation it will produce.\n",
        "\n",
        "Again, let's apply the matrix:\n",
        "\n",
        "$$\n",
        "\\begin{bmatrix}\n",
        "    2 & 0\\\\\\\\\n",
        "    0 & 2\n",
        "\\end{bmatrix}\n",
        "$$\n",
        "\n",
        "to the unit circle:\n",
        "\n",
        "$$\n",
        "\\begin{bmatrix}\n",
        "    x'\\\\\\\\\n",
        "    y'\n",
        "\\end{bmatrix}=\n",
        "\\begin{bmatrix}\n",
        "    2 & 0\\\\\\\\\n",
        "    0 & 2\n",
        "\\end{bmatrix}\n",
        "\\begin{bmatrix}\n",
        "    x\\\\\\\\\n",
        "    y\n",
        "\\end{bmatrix}=\n",
        "\\begin{bmatrix}\n",
        "    2x\\\\\\\\\n",
        "    2y\n",
        "\\end{bmatrix}\n",
        "$$\n",
        "\n",
        "<img src=\"https://github.com/rahiakela/mathematics-for-machine-learning/blob/main/deep-learning-book-maths/images/unit-circle-transformation.png?raw=1\" width=\"400\" alt=\"Representation of the unit circle and its transformation\" title=\"The unit circle and its transformation\">\n",
        "\n",
        "<em>Another representation of the effect of the matrix: each coordinate of the unit circle was multiplied by two</em>\n",
        "\n",
        "We can see that the matrix doubled the size of the circle. But in some transformations, the change applied to the $x$ coordinate is different from the change applied to the $y$ coordinate. \n",
        "\n",
        "Let's see what it means graphically."
      ],
      "metadata": {
        "id": "eDfzX4qoIjY_"
      }
    },
    {
      "cell_type": "markdown",
      "source": [
        "### Example 3: Diagonal matrix"
      ],
      "metadata": {
        "id": "HJvJBw-ULhnt"
      }
    },
    {
      "cell_type": "markdown",
      "source": [
        "We will apply the matrix:\n",
        "\n",
        "$$\n",
        "\\begin{bmatrix}\n",
        "    3 & 0\\\\\\\\\n",
        "    0 & 2\n",
        "\\end{bmatrix}\n",
        "$$\n",
        "\n",
        "to the unit circle:\n",
        "\n",
        "$$\n",
        "\\begin{bmatrix}\n",
        "    x'\\\\\\\\\n",
        "    y'\n",
        "\\end{bmatrix}=\n",
        "\\begin{bmatrix}\n",
        "    3 & 0\\\\\\\\\n",
        "    0 & 2\n",
        "\\end{bmatrix}\\cdot\n",
        "\\begin{bmatrix}\n",
        "    x\\\\\\\\\n",
        "    y\n",
        "\\end{bmatrix}=\n",
        "\\begin{bmatrix}\n",
        "    3x\\\\\\\\\n",
        "    2y\n",
        "\\end{bmatrix}\n",
        "$$\n",
        "\n",
        "This gives the following new circle:\n",
        "\n",
        "<img src=\"https://github.com/rahiakela/mathematics-for-machine-learning/blob/main/deep-learning-book-maths/images/unit-circle-transformation1.png?raw=1\" width=\"400\" alt=\"Representation of the unit circle and its transformation\" title=\"The unit circle and its transformation\">\n",
        "\n",
        "<em>This time the matrix didn't rescale each coordinate with the same weight</em>\n",
        "\n",
        "We can check that with the equations associated with this matrix transformation. Let's say that the coordinates of the new circle (after transformation) are $x'$ and $y'$. The relation between the old coordinates ($x$, $y$) and the new coordinates ($x'$, $y'$) is:\n",
        "\n",
        "$$\n",
        "\\begin{bmatrix}\n",
        "    x'\\\\\\\\\n",
        "    y'\n",
        "\\end{bmatrix}=\n",
        "\\begin{bmatrix}\n",
        "    3x\\\\\\\\\n",
        "    2y\n",
        "\\end{bmatrix}\n",
        "\\Leftrightarrow\n",
        "\\begin{cases}\n",
        "x=\\frac{x'}{3}\\\\\\\\\n",
        "y=\\frac{y'}{2}\n",
        "\\end{cases}\n",
        "$$\n",
        "\n",
        "We also know that the equation of the unit circle is $x^2+y^2=1$ (the norm of the unit vectors is 1, see [2.5](https://hadrienj.github.io/posts/Deep-Learning-Book-Series-2.5-Norms/)). \n",
        "\n",
        "By replacement we end up with:\n",
        "\n",
        "$$\n",
        "\\begin{align*}\n",
        "\\left(\\frac{x'}{3}\\right)^2 + \\left(\\frac{y'}{2}\\right)^2 = 1\\\\\\\\\n",
        "\\left(\\frac{y'}{2}\\right)^2 = 1 - \\left(\\frac{x'}{3}\\right)^2\\\\\\\\\n",
        "\\frac{y'}{2} = \\sqrt{1 - \\left(\\frac{x'}{3}\\right)^2}\\\\\\\\\n",
        "y' = 2\\sqrt{1 - \\left(\\frac{x'}{3}\\right)^2}\n",
        "\\end{align*}\n",
        "$$\n",
        "\n",
        "We can check that this equation corresponds to our transformed circle. \n",
        "\n",
        "Let's start by drawing the old circle. Its equation is:\n",
        "\n",
        "$$\n",
        "\\begin{align*}\n",
        "x^2+y^2=1\\\\\\\\\n",
        "y^2=1-x^2\\\\\\\\\n",
        "y=\\sqrt{1-x^2}\n",
        "\\end{align*}\n",
        "$$"
      ],
      "metadata": {
        "id": "OQxUDm4fLiEL"
      }
    },
    {
      "cell_type": "code",
      "source": [
        "x = np.linspace(-1, 1, 100000)\n",
        "y = np.sqrt(1 - (x ** 2))\n",
        "\n",
        "plt.plot(x, y, sns.color_palette().as_hex()[0])\n",
        "plt.plot(x, -y, sns.color_palette().as_hex()[0])\n",
        "plt.xlim(-1.5, 1.5)\n",
        "plt.ylim(-1.5, 1.5)\n",
        "plt.show()"
      ],
      "metadata": {
        "colab": {
          "base_uri": "https://localhost:8080/",
          "height": 266
        },
        "id": "fmISAqP8AtPl",
        "outputId": "3aef2e0a-47fa-4415-ff0b-989515252e1b"
      },
      "execution_count": 7,
      "outputs": [
        {
          "output_type": "display_data",
          "data": {
            "text/plain": [
              "<Figure size 288x288 with 1 Axes>"
            ],
            "image/png": "[encoded data removed]"
          },
          "metadata": {
            "needs_background": "light"
          }
        }
      ]
    },
    {
      "cell_type": "markdown",
      "source": [
        "So far so good!\n",
        "\n",
        "*Coding tip*: You can see the trick to plot a circle here: you create the $x$ variable, then $y$ is defined from $x$. This means that for each $x$, the corresponding $y$ value is calculated (and thus $y$ has the same shape as $x$). Since the result of the square root can be negative or positive (for instance, 4 can be the result of $2^2$ but also of $(-2)^2$) we need to plot both solutions ($y$ and $-y$ in `plt.plot`). Note also that a lot of values are needed if we want the connection between the two demi-spheres. See also some discussion [here](https://stackoverflow.com/questions/32092899/plot-equation-showing-a-circle).\n",
        "\n",
        "\n",
        "Now let's add the circle obtained after matrix transformation. We saw that it is defined with\n",
        "\n",
        "$$\n",
        "y = 2\\sqrt{1 - \\left(\\frac{x}{3}\\right)^2}\n",
        "$$"
      ],
      "metadata": {
        "id": "p1wusNL1sOZR"
      }
    },
    {
      "cell_type": "code",
      "source": [
        "x1 = np.linspace(-3, 3, 100000)\n",
        "y1 = 2 * np.sqrt(1 - ((x1 / 3) ** 2))\n",
        "\n",
        "plt.plot(x, y, sns.color_palette().as_hex()[0])\n",
        "plt.plot(x, -y, sns.color_palette().as_hex()[0])\n",
        "plt.plot(x1, y1, sns.color_palette().as_hex()[1])\n",
        "plt.plot(x1, -y1, sns.color_palette().as_hex()[1])\n",
        "plt.xlim(-4, 4)\n",
        "plt.ylim(-4, 4)\n",
        "plt.show()"
      ],
      "metadata": {
        "id": "-GyWdCodsO2_",
        "outputId": "3e3a078e-bfb3-44fc-ad72-9f13e7b04eef",
        "colab": {
          "base_uri": "https://localhost:8080/",
          "height": 266
        }
      },
      "execution_count": 8,
      "outputs": [
        {
          "output_type": "display_data",
          "data": {
            "text/plain": [
              "<Figure size 288x288 with 1 Axes>"
            ],
            "image/png": "[encoded data removed]"
          },
          "metadata": {
            "needs_background": "light"
          }
        }
      ]
    },
    {
      "cell_type": "markdown",
      "source": [
        "This shows that our transformation was correct.\n",
        "\n",
        "Note that these examples used **diagonal matrices** (all zeros except the diagonal). The general rule is that the transformation associated with diagonal matrices imply only a rescaling of each coordinate **without rotation**. This is a first element to understand the SVD. Look again at the decomposition\n",
        "\n",
        "<img src=\"https://github.com/rahiakela/mathematics-for-machine-learning/blob/main/deep-learning-book-maths/images/singular-value-decomposition.png?raw=1\" width=\"300\">\n",
        "\n",
        "> The transformation associated with diagonal matrices imply only a rescaling of each coordinate **without rotation**.\n",
        "\n",
        "We saw that the matrix ${D}$ is a diagonal matrix. And we saw also that it corresponds to a rescaling without rotation."
      ],
      "metadata": {
        "id": "jjSUU2hitAGj"
      }
    },
    {
      "cell_type": "markdown",
      "source": [
        "### Example 4: Rotation matrix"
      ],
      "metadata": {
        "id": "9ehtxIc9Y9sJ"
      }
    },
    {
      "cell_type": "markdown",
      "source": [
        "Matrices that are not diagonal can produce a rotation (see more details [here](https://en.wikipedia.org/wiki/Rotation_matrix)). Since it is easier to think about angles when we talk about rotation, we will use a matrix of the form\n",
        "\n",
        "$$\n",
        "R=\n",
        "\\begin{bmatrix}\n",
        "    cos(\\theta) & -sin(\\theta)\\\\\\\\\n",
        "    sin(\\theta) & cos(\\theta)\n",
        "\\end{bmatrix}\n",
        "$$\n",
        "\n",
        "This matrix will rotate our vectors or matrices counterclockwise through an angle $\\theta$. Our new coordinates will be\n",
        "\n",
        "$$\n",
        "\\begin{bmatrix}\n",
        "    x'\\\\\\\\\n",
        "    y'\n",
        "\\end{bmatrix}=\n",
        "\\begin{bmatrix}\n",
        "    cos(\\theta) & -sin(\\theta)\\\\\\\\\n",
        "    sin(\\theta) & cos(\\theta)\n",
        "\\end{bmatrix}\n",
        "\\begin{bmatrix}\n",
        "    x\\\\\\\\\n",
        "    y\n",
        "\\end{bmatrix}=\n",
        "\\begin{bmatrix}\n",
        "    xcos(\\theta) - ysin(\\theta)\\\\\\\\\n",
        "    xsin(\\theta) + ycos(\\theta)\n",
        "\\end{bmatrix}\n",
        "$$\n",
        "\n",
        "Let's rotate some vectors through an angle of $\\theta = 45^\\circ$.\n",
        "\n",
        "$$\n",
        "R=\n",
        "\\begin{bmatrix}\n",
        "    cos(45) & -sin(45)\\\\\\\\\n",
        "    sin(45) & cos(45)\n",
        "\\end{bmatrix}\n",
        "= \\begin{bmatrix}\n",
        "    0.70 & -0.70\\\\\\\\\n",
        "    0.70 & 0.70\n",
        "\\end{bmatrix}\n",
        "$$\n",
        "\n",
        "\n",
        "Let's start with the vector ${u}$ of coordinates $x=0$ and $y=1$ and the vector ${v}$ of coordinates $x=1$ and $y=0$. The vectors ${u'}$ ${v'}$ are the rotated vectors.\n",
        "\n",
        "<img src=\"https://github.com/rahiakela/mathematics-for-machine-learning/blob/main/deep-learning-book-maths/images/unit-vectors-rotation.png?raw=1\" width=\"200\" alt=\"Rotation of the unit vectors through matrix operation\" title=\"Rotation of the unit vectors\">\n",
        "\n",
        "<em>Counter clockwise rotation of the unit vectors with $\\theta = 45^\\circ$</em>\n",
        "\n",
        "First, let's plot ${u}$ and ${v}$."
      ],
      "metadata": {
        "id": "mWBvIHnNY92w"
      }
    },
    {
      "cell_type": "code",
      "source": [
        "orange = '#FF9A13'\n",
        "blue = '#1190FF'\n",
        "\n",
        "u = [1, 0]\n",
        "v = [0, 1]\n",
        "\n",
        "plot_vectors([u, v], cols=[blue, blue])\n",
        "\n",
        "plt.xlim(-1.5, 1.5)\n",
        "plt.ylim(-1.5, 1.5)\n",
        "\n",
        "plt.text(-0.25, 0.2, r'$\\vec{u}$', color=blue, size=18)\n",
        "plt.text(0.4, -0.25, r'$\\vec{v}$', color=blue, size=18)\n",
        "plt.show()"
      ],
      "metadata": {
        "colab": {
          "base_uri": "https://localhost:8080/",
          "height": 266
        },
        "id": "z8y1a1v2b_H5",
        "outputId": "b2417b6a-b773-4d94-e883-bb124c1ce1e0"
      },
      "execution_count": 9,
      "outputs": [
        {
          "output_type": "display_data",
          "data": {
            "text/plain": [
              "<Figure size 288x288 with 1 Axes>"
            ],
            "image/png": "[encoded data removed]"
          },
          "metadata": {
            "needs_background": "light"
          }
        }
      ]
    },
    {
      "cell_type": "markdown",
      "source": [
        "They are the <a href=\"https://en.wikipedia.org/wiki/Basis_(linear_algebra)\">basis vectors</a> of our space. We will calculate the transformation of these vectors:\n",
        "\n",
        "$$\n",
        "\\begin{cases}\n",
        "u_x = 0\\cdot cos(45) - 1\\cdot sin(45)\\\\\\\\\n",
        "u_y = 0\\cdot sin(45) + 1\\cdot cos(45)\n",
        "\\end{cases}\n",
        "\\Leftrightarrow\n",
        "\\begin{cases}\n",
        "u_x = -sin(45)\\\\\\\\\n",
        "u_y = cos(45)\n",
        "\\end{cases}\n",
        "$$\n",
        "\n",
        "$$\n",
        "\\begin{cases}\n",
        "v_x = 1\\cdot cos(45) - 0\\cdot sin(45)\\\\\\\\\n",
        "v_y = 1\\cdot sin(45) + 0\\cdot cos(45)\n",
        "\\end{cases}\n",
        "\\Leftrightarrow\n",
        "\\begin{cases}\n",
        "v_x = cos(45)\\\\\\\\\n",
        "v_y = sin(45)\n",
        "\\end{cases}\n",
        "$$\n",
        "\n",
        "We will now plot these new vectors to check that they are well our basis vectors rotated through an angle of $45^\\circ$."
      ],
      "metadata": {
        "id": "xtRucx2K0s02"
      }
    },
    {
      "cell_type": "code",
      "source": [
        "u1 = [-np.sin(np.radians(45)), np.cos(np.radians(45))]\n",
        "v1 = [np.cos(np.radians(45)), np.sin(np.radians(45))]\n",
        "\n",
        "plot_vectors([u1, v1], cols=[orange, orange])\n",
        "\n",
        "plt.xlim(-1.5, 1.5)\n",
        "plt.ylim(-1.5, 1.5)\n",
        "\n",
        "plt.text(-0.7, 0.1, r'$\\vec{u}$', color=orange, size=18)\n",
        "plt.text(0.4, -0.1, r'$\\vec{v}$', color=orange, size=18)\n",
        "plt.show()"
      ],
      "metadata": {
        "colab": {
          "base_uri": "https://localhost:8080/",
          "height": 266
        },
        "id": "8jsKVkNqci9L",
        "outputId": "5ae24457-14af-4607-8219-172255855684"
      },
      "execution_count": 10,
      "outputs": [
        {
          "output_type": "display_data",
          "data": {
            "text/plain": [
              "<Figure size 288x288 with 1 Axes>"
            ],
            "image/png": "[encoded data removed]"
          },
          "metadata": {
            "needs_background": "light"
          }
        }
      ]
    },
    {
      "cell_type": "markdown",
      "source": [
        "**Coding tip:** the numpy functions `sin` and `cos` take input in radians. We can convert our angle from degrees to radians with the function `np.radians()`.\n",
        "\n",
        "We can also transform a circle. We will take a rescaled circle (the one from the example 3.) to be able to see the effect of the rotation.\n",
        "\n",
        "<img src=\"https://github.com/rahiakela/mathematics-for-machine-learning/blob/main/deep-learning-book-maths/images/rescaled-circle-rotated.png?raw=1\" width=\"300\" alt=\"A rescaled circle (not the same hight and width) rotated\" title=\"Rescaled circle rotated\">\n",
        "\n",
        "<em>The effect of a rotation matrix on a rescaled circle</em>"
      ],
      "metadata": {
        "id": "1X8iolth6erA"
      }
    },
    {
      "cell_type": "code",
      "source": [
        "x = np.linspace(-3, 3, 100000)\n",
        "y = 2 * np.sqrt(1 - ((x / 3) ** 2))\n",
        "\n",
        "x1 = x * np.cos(np.radians(45)) - y * np.sin(np.radians(45))\n",
        "y1 = x * np.sin(np.radians(45)) + y * np.cos(np.radians(45))\n",
        "\n",
        "x1_neg = x * np.cos(np.radians(45)) - -y * np.sin(np.radians(45))\n",
        "y1_neg = x * np.sin(np.radians(45)) + -y * np.cos(np.radians(45))\n",
        "\n",
        "u1 = [-2 * np.cos(np.radians(45)), 2 * np.sin(np.radians(45))]\n",
        "v1 = [3 * np.sin(np.radians(45)), 3 * np.cos(np.radians(45))]\n",
        "\n",
        "plot_vectors([u1, v1], cols=[\"#FF9A13\", \"#FF9A13\"])\n",
        "\n",
        "plt.plot(x, y, '#1190FF')\n",
        "plt.plot(x, -y, '#1190FF')\n",
        "\n",
        "plt.plot(x1, y1, '#FF9A13')\n",
        "plt.plot(x1_neg, y1_neg, '#FF9A13')\n",
        "\n",
        "plt.xlim(-4, 4)\n",
        "plt.ylim(-4, 4)\n",
        "plt.show()"
      ],
      "metadata": {
        "id": "WflISKZgy3Q1",
        "outputId": "2be15a73-0562-4910-97eb-e4f89ac0531b",
        "colab": {
          "base_uri": "https://localhost:8080/",
          "height": 266
        }
      },
      "execution_count": 11,
      "outputs": [
        {
          "output_type": "display_data",
          "data": {
            "text/plain": [
              "<Figure size 288x288 with 1 Axes>"
            ],
            "image/png": "[encoded data removed]"
          },
          "metadata": {
            "needs_background": "light"
          }
        }
      ]
    },
    {
      "cell_type": "markdown",
      "source": [
        "We can see that the circle has been rotated by an angle of $45^\\circ$. We have chosen the length of the vectors from the rescaling weight from example 3 (factor 3 and 2) to match the circle."
      ],
      "metadata": {
        "id": "t60XKcCq91TA"
      }
    },
    {
      "cell_type": "markdown",
      "source": [
        "### Summary"
      ],
      "metadata": {
        "id": "WEIlXm8O91yD"
      }
    },
    {
      "cell_type": "markdown",
      "source": [
        "I hope that you got how vectors and matrices can be transformed by rotating or scaling matrices. \n",
        "\n",
        "**The SVD can be seen as the decomposition of one complex transformation in 3 simpler transformations**:\n",
        "\n",
        "1. a rotation, \n",
        "2. a scaling and \n",
        "3. another rotation\n",
        "\n",
        "Note that we took only square matrices. The SVD can be done even with non square matrices but it is harder to represent transformation associated with non square matrices. For instance, a 3 by 2 matrix will map a 2D space to a 3D space.\n",
        "\n",
        "<img src=\"https://github.com/rahiakela/mathematics-for-machine-learning/blob/main/deep-learning-book-maths/images/non-square-matrix-change-dimensions.png?raw=1\" width=\"250\" alt=\"A non square matrix change the number of dimensions of the input\" title=\"Example of a change of dimensions\">\n",
        "\n",
        "<em>A non square matrix change the number of dimensions of the input</em>"
      ],
      "metadata": {
        "id": "Fb3TtCuH9330"
      }
    },
    {
      "cell_type": "markdown",
      "source": [
        "## The three transformations"
      ],
      "metadata": {
        "id": "it-sQee6dMVH"
      }
    },
    {
      "cell_type": "markdown",
      "source": [
        "We can use `plot_matrix` to check that the three transformations given by the SVD are equivalent to the transformation done with the original matrix. We will also draw each step of the SVD to see the independant effect of the first rotation, the scaling and the second rotation.\n",
        "\n",
        "We will use the matrix:\n",
        "\n",
        "$$\n",
        "{A}=\\begin{bmatrix}\n",
        "    3 & 7\\\\\\\\\n",
        "    5 & 2\n",
        "\\end{bmatrix}\n",
        "$$\n",
        "\n",
        "and plot the unit circle and its transformation by ${A}$:"
      ],
      "metadata": {
        "id": "VLyeNjVxdMyG"
      }
    },
    {
      "cell_type": "code",
      "source": [
        "A = np.array([\n",
        "  [3, 7],\n",
        "  [5, 2]\n",
        "])\n",
        "\n",
        "print(\"Unit circle:\")\n",
        "plot_matrix(np.array([[1, 0], [0, 1]]))\n",
        "plt.xlim(-1.5, 1.5)\n",
        "plt.ylim(-1.5, 1.5)\n",
        "plt.show()\n",
        "\n",
        "print(\"Unit circle transformed by A:\")\n",
        "plot_matrix(A)\n",
        "plt.xlim(-8, 8)\n",
        "plt.ylim(-8, 8)\n",
        "plt.show()"
      ],
      "metadata": {
        "colab": {
          "base_uri": "https://localhost:8080/",
          "height": 550
        },
        "id": "Mu2IuxREdzEj",
        "outputId": "038ae96b-d6d1-44db-9864-9ca19d6c4e4e"
      },
      "execution_count": 12,
      "outputs": [
        {
          "output_type": "stream",
          "name": "stdout",
          "text": [
            "Unit circle:\n"
          ]
        },
        {
          "output_type": "display_data",
          "data": {
            "text/plain": [
              "<Figure size 288x288 with 1 Axes>"
            ],
            "image/png": "[encoded data removed]"
          },
          "metadata": {
            "needs_background": "light"
          }
        },
        {
          "output_type": "stream",
          "name": "stdout",
          "text": [
            "Unit circle transformed by A:\n"
          ]
        },
        {
          "output_type": "display_data",
          "data": {
            "text/plain": [
              "<Figure size 288x288 with 1 Axes>"
            ],
            "image/png": "[encoded data removed]"
          },
          "metadata": {
            "needs_background": "light"
          }
        }
      ]
    },
    {
      "cell_type": "markdown",
      "source": [
        "This is what we get when we apply the matrix ${A}$ to the unit circle and the basis vectors. We can see that the two base vectors are not necessarily rotated the same way. This is related to the sign of the determinant of the matrix (see [2.11](https://hadrienj.github.io/posts/Deep-Learning-Book-Series-2.11-The-determinant/)).\n",
        "\n",
        "Let's now compute the SVD of ${A}$:"
      ],
      "metadata": {
        "id": "OxdpLAM6WDzP"
      }
    },
    {
      "cell_type": "code",
      "source": [
        "U, D, V = np.linalg.svd(A)\n",
        "U"
      ],
      "metadata": {
        "id": "7GnWm_zXWFbj",
        "outputId": "716bb9eb-0c02-493e-87c4-1de6163fdbc8",
        "colab": {
          "base_uri": "https://localhost:8080/"
        }
      },
      "execution_count": 13,
      "outputs": [
        {
          "output_type": "execute_result",
          "data": {
            "text/plain": [
              "array([[-0.85065081, -0.52573111],\n",
              "       [-0.52573111,  0.85065081]])"
            ]
          },
          "metadata": {},
          "execution_count": 13
        }
      ]
    },
    {
      "cell_type": "code",
      "source": [
        "D"
      ],
      "metadata": {
        "id": "slq8MZu5WTsE",
        "outputId": "e4fc5f06-c457-401c-a5d9-67f55d0907e9",
        "colab": {
          "base_uri": "https://localhost:8080/"
        }
      },
      "execution_count": 14,
      "outputs": [
        {
          "output_type": "execute_result",
          "data": {
            "text/plain": [
              "array([8.71337969, 3.32821489])"
            ]
          },
          "metadata": {},
          "execution_count": 14
        }
      ]
    },
    {
      "cell_type": "code",
      "source": [
        "V"
      ],
      "metadata": {
        "id": "tQQmVcnSWUWi",
        "outputId": "4ce40882-6537-491e-d933-e97f94924a65",
        "colab": {
          "base_uri": "https://localhost:8080/"
        }
      },
      "execution_count": 15,
      "outputs": [
        {
          "output_type": "execute_result",
          "data": {
            "text/plain": [
              "array([[-0.59455781, -0.80405286],\n",
              "       [ 0.80405286, -0.59455781]])"
            ]
          },
          "metadata": {},
          "execution_count": 15
        }
      ]
    },
    {
      "cell_type": "markdown",
      "source": [
        "We can now look at the sub-transformations by looking at the effect of the matrices ${U}$, ${D}$ and ${V}$ in the reverse order. \n",
        "\n",
        "Note that it returns the right singular vector **already transposed** (see the [doc](https://docs.scipy.org/doc/numpy-1.13.0/reference/generated/numpy.linalg.svd.html))."
      ],
      "metadata": {
        "id": "T6K-hxRfWhfw"
      }
    },
    {
      "cell_type": "code",
      "source": [
        "print(\"Unit circle:\")\n",
        "plot_matrix(np.array([[1, 0], [0, 1]]))\n",
        "plt.xlim(-1.5, 1.5)\n",
        "plt.ylim(-1.5, 1.5)\n",
        "plt.show()\n",
        "\n",
        "print(\"First rotation:\")\n",
        "plot_matrix(V)\n",
        "plt.xlim(-1.5, 1.5)\n",
        "plt.ylim(-1.5, 1.5)\n",
        "plt.show()\n",
        "\n",
        "print(\"Scaling:\")\n",
        "plot_matrix(np.diag(D).dot(V))\n",
        "plt.xlim(-9, 9)\n",
        "plt.ylim(-9, 9)\n",
        "plt.show()\n",
        "\n",
        "print(\"Second rotation:\")\n",
        "plot_matrix(U.dot(np.diag(D)).dot(V))\n",
        "plt.xlim(-8, 8)\n",
        "plt.ylim(-8, 8)\n",
        "plt.show()"
      ],
      "metadata": {
        "id": "XGjawi0wWnG_",
        "outputId": "1a90a309-3e83-4483-b867-7e8a9bf0badf",
        "colab": {
          "base_uri": "https://localhost:8080/",
          "height": 1000
        }
      },
      "execution_count": 16,
      "outputs": [
        {
          "output_type": "stream",
          "name": "stdout",
          "text": [
            "Unit circle:\n"
          ]
        },
        {
          "output_type": "display_data",
          "data": {
            "text/plain": [
              "<Figure size 288x288 with 1 Axes>"
            ],
            "image/png": "[encoded data removed]"
          },
          "metadata": {
            "needs_background": "light"
          }
        },
        {
          "output_type": "stream",
          "name": "stdout",
          "text": [
            "First rotation:\n"
          ]
        },
        {
          "output_type": "display_data",
          "data": {
            "text/plain": [
              "<Figure size 288x288 with 1 Axes>"
            ],
            "image/png": "[encoded data removed]"
          },
          "metadata": {
            "needs_background": "light"
          }
        },
        {
          "output_type": "stream",
          "name": "stdout",
          "text": [
            "Scaling:\n"
          ]
        },
        {
          "output_type": "display_data",
          "data": {
            "text/plain": [
              "<Figure size 288x288 with 1 Axes>"
            ],
            "image/png": "[encoded data removed]"
          },
          "metadata": {
            "needs_background": "light"
          }
        },
        {
          "output_type": "stream",
          "name": "stdout",
          "text": [
            "Second rotation:\n"
          ]
        },
        {
          "output_type": "display_data",
          "data": {
            "text/plain": [
              "<Figure size 288x288 with 1 Axes>"
            ],
            "image/png": "[encoded data removed]"
          },
          "metadata": {
            "needs_background": "light"
          }
        }
      ]
    },
    {
      "cell_type": "markdown",
      "source": [
        "Just to be sure, you can compare this last step with the transformation by ${A}$. \n",
        "\n",
        "Fortunately, you will see that the result is the same:"
      ],
      "metadata": {
        "id": "zqvcp7xcY_KM"
      }
    },
    {
      "cell_type": "code",
      "source": [
        "plot_matrix(A)\n",
        "plt.xlim(-8, 8)\n",
        "plt.ylim(-8, 8)\n",
        "plt.show()"
      ],
      "metadata": {
        "id": "xf5EDbxyZCFx",
        "outputId": "87174831-95dd-4bc2-eb49-26a6a2b2ac50",
        "colab": {
          "base_uri": "https://localhost:8080/",
          "height": 266
        }
      },
      "execution_count": 17,
      "outputs": [
        {
          "output_type": "display_data",
          "data": {
            "text/plain": [
              "<Figure size 288x288 with 1 Axes>"
            ],
            "image/png": "[encoded data removed]"
          },
          "metadata": {
            "needs_background": "light"
          }
        }
      ]
    },
    {
      "cell_type": "markdown",
      "source": [
        "##Singular values interpretation"
      ],
      "metadata": {
        "id": "QMkyIrkRZXHG"
      }
    },
    {
      "cell_type": "markdown",
      "source": [
        "The singular values are ordered by descending order. They correspond to a new set of features (that are a linear combination of the original features) with the first feature explaining most of the variance. \n",
        "\n",
        "For instance from the last example we can visualize these new features. The major axis of the elipse will be the first left singular vector ($u_1$) and its norm will be the first singular value ($\\sigma_1$)."
      ],
      "metadata": {
        "id": "kejeA2hVZX1A"
      }
    },
    {
      "cell_type": "code",
      "source": [
        "u1 = [D[0] * U[0, 0], D[0] * U[0, 1]]\n",
        "v1 = [D[1] * U[1, 0], D[1] * U[1, 1]]\n",
        "\n",
        "plot_vectors([u1, v1], cols=[\"red\", \"black\"])\n",
        "\n",
        "plot_matrix(A)\n",
        "\n",
        "plt.text(-5, -4, r\"$\\sigma_1u_1$\", size=18)\n",
        "plt.text(-4, 1, r\"$\\sigma_2v_2$\", size=18)\n",
        "\n",
        "plt.xlim(-8, 8)\n",
        "plt.ylim(-8, 8)\n",
        "plt.show()"
      ],
      "metadata": {
        "id": "dcywqFLfZa5k",
        "outputId": "aa0631eb-e6fc-4431-e09a-b6f571743f20",
        "colab": {
          "base_uri": "https://localhost:8080/",
          "height": 266
        }
      },
      "execution_count": 18,
      "outputs": [
        {
          "output_type": "display_data",
          "data": {
            "text/plain": [
              "<Figure size 288x288 with 1 Axes>"
            ],
            "image/png": "[encoded data removed]"
          },
          "metadata": {
            "needs_background": "light"
          }
        }
      ]
    },
    {
      "cell_type": "markdown",
      "source": [
        "They are the major ($\\sigma_1u_1$) and minor ($\\sigma_2u_2$) axes of the elipse. We can see that the feature corresponding to this major axis is associated with more variance (the range of value on this axis is bigger than the other). \n",
        "\n",
        "See [2.12](https://hadrienj.github.io/posts/Deep-Learning-Book-Series-2.12-Example-Principal-Components-Analysis/) for more details about the variance explained."
      ],
      "metadata": {
        "id": "jZmJAJ8fd1Wp"
      }
    },
    {
      "cell_type": "markdown",
      "source": [
        "##SVD and eigendecomposition"
      ],
      "metadata": {
        "id": "FQxVcW-Jd3Kn"
      }
    },
    {
      "cell_type": "markdown",
      "source": [
        "Now that we understand the kind of decomposition done with the SVD, we want to know how the sub-transformations are found.\n",
        "\n",
        "The matrices ${U}$, ${D}$ and ${V}$ can be found by transforming ${A}$ in a square matrix and by computing the eigenvectors of this square matrix. The square matrix can be obtain by multiplying the matrix ${A}$ by its transpose in one way or the other:\n",
        "\n",
        "- ${U}$ corresponds to the eigenvectors of ${AA}^\\text{T}$\n",
        "- ${V}$ corresponds to the eigenvectors of ${A^\\text{T}A}$\n",
        "- ${D}$ corresponds to the eigenvalues ${AA}^\\text{T}$ or ${A^\\text{T}A}$ which are the same.\n",
        "\n",
        "Let's take an example of a non square matrix:\n",
        "\n",
        "$$\n",
        "{A}=\\begin{bmatrix}\n",
        "    7 & 2\\\\\\\\\n",
        "    3 & 4\\\\\\\\\n",
        "    5 & 3\n",
        "\\end{bmatrix}\n",
        "$$\n",
        "\n",
        "The singular value decomposition can be done with the `linalg.svd()` function from Numpy (note that `np.linalg.eig(A)` works only on square matrices and will give an error for `A`)."
      ],
      "metadata": {
        "id": "lEs2anVJd956"
      }
    },
    {
      "cell_type": "code",
      "source": [
        "A = np.array([\n",
        "  [7, 2],\n",
        "  [3, 4],\n",
        "  [5, 3]\n",
        "])\n",
        "\n",
        "U, D, V = np.linalg.svd(A)\n",
        "U"
      ],
      "metadata": {
        "id": "r_wJkMceKtVz",
        "outputId": "f4b912ba-1e1f-4f0f-8080-c163d096551e",
        "colab": {
          "base_uri": "https://localhost:8080/"
        }
      },
      "execution_count": 19,
      "outputs": [
        {
          "output_type": "execute_result",
          "data": {
            "text/plain": [
              "array([[-0.69366543,  0.59343205, -0.40824829],\n",
              "       [-0.4427092 , -0.79833696, -0.40824829],\n",
              "       [-0.56818732, -0.10245245,  0.81649658]])"
            ]
          },
          "metadata": {},
          "execution_count": 19
        }
      ]
    },
    {
      "cell_type": "code",
      "source": [
        "D"
      ],
      "metadata": {
        "id": "RQsf47NdLCwj",
        "outputId": "f4a371f5-3a43-4066-d290-022e77575ce7",
        "colab": {
          "base_uri": "https://localhost:8080/"
        }
      },
      "execution_count": 20,
      "outputs": [
        {
          "output_type": "execute_result",
          "data": {
            "text/plain": [
              "array([10.25142677,  2.62835484])"
            ]
          },
          "metadata": {},
          "execution_count": 20
        }
      ]
    },
    {
      "cell_type": "code",
      "source": [
        "V"
      ],
      "metadata": {
        "id": "82HzTPogLF_h",
        "outputId": "c12849a3-11a0-4e72-b561-a0100c5710f8",
        "colab": {
          "base_uri": "https://localhost:8080/"
        }
      },
      "execution_count": 22,
      "outputs": [
        {
          "output_type": "execute_result",
          "data": {
            "text/plain": [
              "array([[-0.88033817, -0.47434662],\n",
              "       [ 0.47434662, -0.88033817]])"
            ]
          },
          "metadata": {},
          "execution_count": 22
        }
      ]
    },
    {
      "cell_type": "markdown",
      "source": [
        "### Example 5: The left-singular values"
      ],
      "metadata": {
        "id": "ppc8DDt9LmBo"
      }
    },
    {
      "cell_type": "markdown",
      "source": [
        "The left-singular values of ${A}$ correspond to the eigenvectors of ${AA}^\\text{T}$.\n",
        "\n",
        "Note that the sign difference comes from the fact that eigenvectors are not unique. The `linalg` functions from Numpy return the normalized eigenvectors. Scaling by `-1` doesn't change their direction or the fact that they are unit vectors."
      ],
      "metadata": {
        "id": "OV9cvnNnLo1y"
      }
    },
    {
      "cell_type": "code",
      "source": [
        "U, D, V = np.linalg.svd(A)"
      ],
      "metadata": {
        "id": "eJYr8pc2NALg"
      },
      "execution_count": 23,
      "outputs": []
    },
    {
      "cell_type": "markdown",
      "source": [
        "Left singular vectors of A:"
      ],
      "metadata": {
        "id": "8wT7A355NFfR"
      }
    },
    {
      "cell_type": "code",
      "source": [
        "U"
      ],
      "metadata": {
        "id": "UhzaYvTONF26",
        "outputId": "7298cb1b-d9bd-4480-c6d5-ff2c47cb639b",
        "colab": {
          "base_uri": "https://localhost:8080/"
        }
      },
      "execution_count": 24,
      "outputs": [
        {
          "output_type": "execute_result",
          "data": {
            "text/plain": [
              "array([[-0.69366543,  0.59343205, -0.40824829],\n",
              "       [-0.4427092 , -0.79833696, -0.40824829],\n",
              "       [-0.56818732, -0.10245245,  0.81649658]])"
            ]
          },
          "metadata": {},
          "execution_count": 24
        }
      ]
    },
    {
      "cell_type": "markdown",
      "source": [
        "Eigenvectors of AA_transpose:"
      ],
      "metadata": {
        "id": "PSHCb9J8NLQ8"
      }
    },
    {
      "cell_type": "code",
      "source": [
        "np.linalg.eig(A.dot(A.T))[1]"
      ],
      "metadata": {
        "id": "Ivc82eUDNXXl",
        "outputId": "dcc87abd-7281-46e8-c0e6-0274083913cb",
        "colab": {
          "base_uri": "https://localhost:8080/"
        }
      },
      "execution_count": 25,
      "outputs": [
        {
          "output_type": "execute_result",
          "data": {
            "text/plain": [
              "array([[-0.69366543, -0.59343205, -0.40824829],\n",
              "       [-0.4427092 ,  0.79833696, -0.40824829],\n",
              "       [-0.56818732,  0.10245245,  0.81649658]])"
            ]
          },
          "metadata": {},
          "execution_count": 25
        }
      ]
    },
    {
      "cell_type": "markdown",
      "source": [
        "### Example 6: The right-singular values"
      ],
      "metadata": {
        "id": "I_gMLIrhNuXq"
      }
    },
    {
      "cell_type": "markdown",
      "source": [
        "The right-singular values of ${A}$ correspond to the eigenvectors of ${A}^\\text{T}{A}$."
      ],
      "metadata": {
        "id": "Ici0U_FJNxFM"
      }
    },
    {
      "cell_type": "code",
      "source": [
        "U, D, V = np.linalg.svd(A)"
      ],
      "metadata": {
        "id": "RUVOJc16N3l-"
      },
      "execution_count": 26,
      "outputs": []
    },
    {
      "cell_type": "markdown",
      "source": [
        "Right singular vectors of A:"
      ],
      "metadata": {
        "id": "IDYU9Be-N_-H"
      }
    },
    {
      "cell_type": "code",
      "source": [
        "V"
      ],
      "metadata": {
        "id": "z86Uc3FCN-JK",
        "outputId": "a0a48008-0c15-46eb-ec71-aa3edb141bfa",
        "colab": {
          "base_uri": "https://localhost:8080/"
        }
      },
      "execution_count": 27,
      "outputs": [
        {
          "output_type": "execute_result",
          "data": {
            "text/plain": [
              "array([[-0.88033817, -0.47434662],\n",
              "       [ 0.47434662, -0.88033817]])"
            ]
          },
          "metadata": {},
          "execution_count": 27
        }
      ]
    },
    {
      "cell_type": "markdown",
      "source": [
        "Eigenvectors of $A^TA$:"
      ],
      "metadata": {
        "id": "ti1EKkixOCFa"
      }
    },
    {
      "cell_type": "code",
      "source": [
        "np.linalg.eig(A.T.dot(A))[1]"
      ],
      "metadata": {
        "id": "IEIBHqFfOIHl",
        "outputId": "8e26b242-0253-448f-b2a4-357126f7ae13",
        "colab": {
          "base_uri": "https://localhost:8080/"
        }
      },
      "execution_count": 28,
      "outputs": [
        {
          "output_type": "execute_result",
          "data": {
            "text/plain": [
              "array([[ 0.88033817, -0.47434662],\n",
              "       [ 0.47434662,  0.88033817]])"
            ]
          },
          "metadata": {},
          "execution_count": 28
        }
      ]
    },
    {
      "cell_type": "markdown",
      "source": [
        "### Example 7: The nonzero singular values"
      ],
      "metadata": {
        "id": "X90ISh2YORwf"
      }
    },
    {
      "cell_type": "markdown",
      "source": [
        "The nonzero singular values of ${A}$ are the square roots of the eigenvalues of ${A}^\\text{T}{A}$ and ${AA}^\\text{T}$."
      ],
      "metadata": {
        "id": "wgzaAFcpOUSS"
      }
    },
    {
      "cell_type": "code",
      "source": [
        "U, D, V = np.linalg.svd(A)\n",
        "D"
      ],
      "metadata": {
        "id": "EsUsKh5EOZ7h",
        "outputId": "54b8f325-a91d-4175-980f-9ac7615627f3",
        "colab": {
          "base_uri": "https://localhost:8080/"
        }
      },
      "execution_count": 30,
      "outputs": [
        {
          "output_type": "execute_result",
          "data": {
            "text/plain": [
              "array([10.25142677,  2.62835484])"
            ]
          },
          "metadata": {},
          "execution_count": 30
        }
      ]
    },
    {
      "cell_type": "markdown",
      "source": [
        "Eigenvalues of $A^TA$:"
      ],
      "metadata": {
        "id": "eL73biYFO8tq"
      }
    },
    {
      "cell_type": "code",
      "source": [
        "np.linalg.eig(A.T.dot(A))[0]"
      ],
      "metadata": {
        "id": "nVSAus0KPEOO",
        "outputId": "a543cfa4-b340-4546-8ed5-ff289c2ba75d",
        "colab": {
          "base_uri": "https://localhost:8080/"
        }
      },
      "execution_count": 34,
      "outputs": [
        {
          "output_type": "execute_result",
          "data": {
            "text/plain": [
              "array([105.09175083,   6.90824917])"
            ]
          },
          "metadata": {},
          "execution_count": 34
        }
      ]
    },
    {
      "cell_type": "markdown",
      "source": [
        "Eigenvalues of $AA^T$:"
      ],
      "metadata": {
        "id": "aNOjOe4MPUdU"
      }
    },
    {
      "cell_type": "code",
      "source": [
        "np.linalg.eig(A.dot(A.T))[0]"
      ],
      "metadata": {
        "id": "kWw1xCmLPXpl",
        "outputId": "3e7d3f6c-944e-432e-cc47-5e1bcce7fd82",
        "colab": {
          "base_uri": "https://localhost:8080/"
        }
      },
      "execution_count": 35,
      "outputs": [
        {
          "output_type": "execute_result",
          "data": {
            "text/plain": [
              "array([105.09175083,   6.90824917,  -0.        ])"
            ]
          },
          "metadata": {},
          "execution_count": 35
        }
      ]
    },
    {
      "cell_type": "markdown",
      "source": [
        "Square root of the eigenvalues:"
      ],
      "metadata": {
        "id": "ijUe8ICxPjZ3"
      }
    },
    {
      "cell_type": "code",
      "source": [
        "np.sqrt(np.linalg.eig(A.T.dot(A))[0])"
      ],
      "metadata": {
        "id": "r-kHFSpLPj1q",
        "outputId": "3ca08c05-753c-405f-d00a-4a555311759f",
        "colab": {
          "base_uri": "https://localhost:8080/"
        }
      },
      "execution_count": 36,
      "outputs": [
        {
          "output_type": "execute_result",
          "data": {
            "text/plain": [
              "array([10.25142677,  2.62835484])"
            ]
          },
          "metadata": {},
          "execution_count": 36
        }
      ]
    },
    {
      "cell_type": "markdown",
      "source": [
        "## BONUS: Apply the SVD on images"
      ],
      "metadata": {
        "id": "QfYyoMdTQF2o"
      }
    },
    {
      "cell_type": "markdown",
      "source": [
        "In this example, we will use the SVD to extract the more important features from the image. It is nice to see the effect of the SVD on something very visual. The code is inspired/taken from [this blog post](https://www.frankcleary.com/svdimage/).\n",
        "\n",
        "Let's start by loading an image in python and convert it to a Numpy array. We will convert it to grayscale to have one dimension per pixel. The shape of the matrix corresponds to the dimension of the image filled with intensity values: 1 cell per pixel."
      ],
      "metadata": {
        "id": "Lfc-vTCtQG0e"
      }
    },
    {
      "cell_type": "code",
      "source": [],
      "metadata": {
        "id": "T7VeEFDeQMuV"
      },
      "execution_count": null,
      "outputs": []
    },
    {
      "cell_type": "markdown",
      "source": [
        "## References"
      ],
      "metadata": {
        "id": "pGcdv0qwjACO"
      }
    },
    {
      "cell_type": "markdown",
      "source": [
        "**Drawing a circle with Matplotlib**\n",
        "\n",
        "1.   List item\n",
        "2.   List item\n",
        "\n",
        "\n",
        "\n",
        "- https://stackoverflow.com/questions/32092899/plot-equation-showing-a-circle\n",
        "\n",
        "**Rotation matrix**\n",
        "\n",
        "- https://en.wikipedia.org/wiki/Rotation_matrix)\n",
        "\n",
        "**Basis vectors**\n",
        "\n",
        "- https://en.wikipedia.org/wiki/Basis_(linear_algebra)\n",
        "\n",
        "**Linear transformation**\n",
        "\n",
        "- [Aran Glancy - Linear transformation and matrices](https://www.youtube.com/watch?v=kJIUbtSowRg)\n",
        "\n",
        "**SVD**\n",
        "\n",
        "- [Singular Value Decomposition - Wikipedia](https://en.wikipedia.org/wiki/Singular-value_decomposition)\n",
        "\n",
        "- [Professor-svd](https://fr.mathworks.com/company/newsletters/articles/professor-svd.html)\n",
        "\n",
        "- [Intoli - PCA and SVD](https://intoli.com/blog/pca-and-svd/)\n",
        "\n",
        "**Numpy**\n",
        "\n",
        "- [Numpy SVD doc](https://docs.scipy.org/doc/numpy-1.13.0/reference/generated/numpy.linalg.svd.html)\n",
        "\n",
        "**Image processing**\n",
        "\n",
        "- [Frank Cleary - SVD of an image](https://www.frankcleary.com/svdimage/)"
      ],
      "metadata": {
        "id": "1vK_KJ_3jBKD"
      }
    }
  ]
}