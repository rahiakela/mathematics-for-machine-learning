{
  "nbformat": 4,
  "nbformat_minor": 0,
  "metadata": {
    "colab": {
      "name": "2.8-singular-value-decomposition.ipynb",
      "provenance": [],
      "toc_visible": true,
      "authorship_tag": "ABX9TyPQ1jTQIJRcKzCW/PC2zyhc",
      "include_colab_link": true
    },
    "kernelspec": {
      "name": "python3",
      "display_name": "Python 3"
    },
    "language_info": {
      "name": "python"
    }
  },
  "cells": [
    {
      "cell_type": "markdown",
      "metadata": {
        "id": "view-in-github",
        "colab_type": "text"
      },
      "source": [
        "<a href=\"https://colab.research.google.com/github/rahiakela/mathematics-for-machine-learning/blob/main/deep-learning-book-maths/2_8_singular_value_decomposition.ipynb\" target=\"_parent\"><img src=\"https://colab.research.google.com/assets/colab-badge.svg\" alt=\"Open In Colab\"/></a>"
      ]
    },
    {
      "cell_type": "markdown",
      "source": [
        "##Singular Value Decomposition"
      ],
      "metadata": {
        "id": "IKtQpuOAWn8Y"
      }
    },
    {
      "cell_type": "markdown",
      "source": [
        "Since the beginning of this series, I emphasized the fact that you can see matrices as linear transformation in space. With the SVD, you decompose a matrix in three other matrices. You can see these new matrices as *sub-transformations* of the space. Instead of doing the transformation in one movement, we decompose it in three movements. \n",
        "\n",
        "As a bonus, we will apply the SVD to image processing. We will see the effect of SVD on an image of Lucy the goose (it is just a goose named Lucy...) so keep on reading!\n",
        "\n",
        "\n",
        "<img src=\"https://github.com/rahiakela/mathematics-for-machine-learning/blob/main/deep-learning-book-maths/images/unit-circle-transformation1.png?raw=1\" width=\"400\" alt=\"Plot of the unit circle and its transformation\" title=\"Transformation of the unit circle\">\n",
        "\n",
        "<em>The unit circle and its transformation by a matrix.</em>\n",
        "\n",
        "We saw in [2.7](https://hadrienj.github.io/posts/Deep-Learning-Book-Series-2.7-Eigendecomposition/) that the eigendecomposition can be done only for square matrices. The way to go to decompose other types of matrices that can't be decomposed with eigendecomposition is to use **Singular Value Decomposition** (SVD).\n",
        "\n",
        "We will decompose ${A}$ into 3 matrices (instead of two with eigendecomposition):\n",
        "\n",
        "<img src=\"https://github.com/rahiakela/mathematics-for-machine-learning/blob/main/deep-learning-book-maths/images/singular-value-decomposition.png?raw=1\" width=\"300\" alt=\"Illustration of the singular value decomposition\" title=\"The singular value decomposition\">\n",
        "\n",
        "<em>The singular value decomposition</em>\n",
        "\n",
        "The matrices ${U}$, ${D}$, and ${V}$ have the following properties:\n",
        "\n",
        "- ${U}$ and ${V}$ are orthogonal matrices (${U}^\\text{T}={U}^{-1}$ and ${V}^\\text{T}={V}^{-1}$; see [2.6](https://hadrienj.github.io/posts/Deep-Learning-Book-Series-2.6-Special-Kinds-of-Matrices-and-Vectors/) for more details about orthogonal matrices)\n",
        "\n",
        "- ${D}$ is a diagonal matrix (all 0 except the diagonal ; see [2.6](https://hadrienj.github.io/posts/Deep-Learning-Book-Series-2.6-Special-Kinds-of-Matrices-and-Vectors/)). However ${D}$ is not necessarily square.\n",
        "\n",
        "The columns of ${U}$ are called the left-singular vectors of ${A}$ while the columns of ${V}$ are the right-singular vectors of ${A}$. The values along the diagonal of ${D}$ are the singular values of ${A}$.\n",
        "\n",
        "Here are the dimensions of the factorization:\n",
        "\n",
        "<img src=\"https://github.com/rahiakela/mathematics-for-machine-learning/blob/main/deep-learning-book-maths/images/singular-value-decomposition-understanding-dimensions.png?raw=1\" width=\"300\" alt=\"Dimensions of the singular value decomposition (SVD)\" title=\"The dimensions of the singular value decomposition (SVD)\">\n",
        "\n",
        "<em>The dimensions of the singular value decomposition</em>\n",
        "\n",
        "\n",
        "The diagonal matrix of singular values is not square but have the shape of ${A}$. Look at the example provided in the [Numpy doc](https://docs.scipy.org/doc/numpy/reference/generated/numpy.linalg.svd.html) to see that they create a matrix of zeros with the same shape as ${A}$ and fill it with the singular values:\n",
        "\n",
        "```python\n",
        "smat = np.zeros((9, 6), dtype=complex)\n",
        "smat[:6, :6] = np.diag(s)\n",
        "```"
      ],
      "metadata": {
        "id": "W-btWPbn-f86"
      }
    },
    {
      "cell_type": "markdown",
      "source": [
        "##Setup"
      ],
      "metadata": {
        "id": "hu1fEM6AZFWr"
      }
    },
    {
      "cell_type": "code",
      "source": [
        "import numpy as np\n",
        "import matplotlib.pyplot as plt\n",
        "import seaborn as sns"
      ],
      "metadata": {
        "id": "XMujFm6dZGgH"
      },
      "execution_count": 1,
      "outputs": []
    },
    {
      "cell_type": "code",
      "source": [
        "# Plot parameters\n",
        "sns.set()\n",
        "%pylab inline\n",
        "pylab.rcParams['figure.figsize'] = (4, 4)\n",
        "plt.rcParams['xtick.major.size'] = 0\n",
        "plt.rcParams['ytick.major.size'] = 0\n",
        "# Avoid inaccurate floating values (for inverse matrices in dot product for instance)\n",
        "# See https://stackoverflow.com/questions/24537791/numpy-matrix-inversion-rounding-errors\n",
        "np.set_printoptions(suppress=True)"
      ],
      "metadata": {
        "id": "dI6fjg6qZG7p"
      },
      "execution_count": null,
      "outputs": []
    },
    {
      "cell_type": "code",
      "source": [
        "def plot_vectors(vecs, cols, alpha=1):\n",
        "  plt.figure()\n",
        "  plt.axvline(x=0, color='#A9A9A9', zorder=0)\n",
        "  plt.axhline(y=0, color='#A9A9A9', zorder=0)\n",
        "\n",
        "  for i in range(len(vecs)):\n",
        "      x = np.concatenate([[0,0],vecs[i]])\n",
        "      plt.quiver([x[0]],\n",
        "                  [x[1]],\n",
        "                  [x[2]],\n",
        "                  [x[3]],\n",
        "                  angles='xy', scale_units='xy', scale=1, color=cols[i],\n",
        "                  alpha=alpha)"
      ],
      "metadata": {
        "id": "J2_jJWYE-15U"
      },
      "execution_count": 22,
      "outputs": []
    },
    {
      "cell_type": "code",
      "source": [
        "!wget https://github.com/hadrienj/deepLearningBook-Notes/raw/master/2.8%20Singular%20Value%20Decomposition/test_svd.jpg"
      ],
      "metadata": {
        "id": "J1aeT_ZKGDSd"
      },
      "execution_count": null,
      "outputs": []
    },
    {
      "cell_type": "markdown",
      "source": [
        "## Intuition"
      ],
      "metadata": {
        "id": "9Tbolg9LYAzH"
      }
    },
    {
      "cell_type": "markdown",
      "source": [
        "I think that the intuition behind the singular value decomposition needs some explanations about the idea of matrix transformation. For that reason, here are several examples showing how the space can be transformed by 2D square matrices. \n",
        "\n",
        "Hopefully, this will lead to a better understanding of this statement: ${A}$ is a matrix that can be seen as a linear transformation. \n",
        "\n",
        "This transformation can be decomposed in three sub-transformations: \n",
        "\n",
        "1. rotation, \n",
        "2. re-scaling, \n",
        "3. rotation.\n",
        "\n",
        "These three steps correspond to the three matrices ${U}$, ${D}$, and ${V}$.\n",
        "\n",
        "You can look at [this animation](https://en.wikipedia.org/wiki/Singular-value_decomposition) from the Wikipedia article on the SVD. If you scroll down the page you will see each step.\n",
        "\n",
        "**Every matrix can be seen as a linear transformation**\n",
        "\n",
        "You can see a matrix as a specific linear transformation. When you *apply* this matrix to a vector or to another matrix you will apply this linear transformation to it.\n"
      ],
      "metadata": {
        "id": "voFIEJvHYd0d"
      }
    },
    {
      "cell_type": "markdown",
      "source": [
        "### Example 1: Vector scaling"
      ],
      "metadata": {
        "id": "ORYOIN4lYuWG"
      }
    },
    {
      "cell_type": "markdown",
      "source": [
        "We will modify the vector:\n",
        "\n",
        "$$\n",
        "{v}=\\begin{bmatrix}\n",
        "    x\\\\\\\\\n",
        "    y\n",
        "\\end{bmatrix}\n",
        "$$\n",
        "\n",
        "by applying the matrix:\n",
        "\n",
        "$$\n",
        "\\begin{bmatrix}\n",
        "    2 & 0\\\\\\\\\n",
        "    0 & 2\n",
        "\\end{bmatrix}\n",
        "$$\n",
        "\n",
        "We will have:\n",
        "\n",
        "$$\n",
        "\\begin{bmatrix}\n",
        "    x'\\\\\\\\\n",
        "    y'\n",
        "\\end{bmatrix}=\\begin{bmatrix}\n",
        "    2 & 0\\\\\\\\\n",
        "    0 & 2\n",
        "\\end{bmatrix}\n",
        "\\begin{bmatrix}\n",
        "    x\\\\\\\\\n",
        "    y\n",
        "\\end{bmatrix}=\n",
        "\\begin{bmatrix}\n",
        "    2x + 0y\\\\\\\\\n",
        "    0x + 2y\n",
        "\\end{bmatrix}=\n",
        "\\begin{bmatrix}\n",
        "    2x\\\\\\\\\n",
        "    2y\n",
        "\\end{bmatrix}\n",
        "$$\n",
        "\n",
        "We see that applying the matrix:\n",
        "\n",
        "$$\n",
        "\\begin{bmatrix}\n",
        "    2 & 0\\\\\\\\\n",
        "    0 & 2\n",
        "\\end{bmatrix}\n",
        "$$\n",
        "\n",
        "just doubled each coordinate of our vector. Here are the graphical representation of ${v}$ and its transformation ${w}$:\n",
        "\n",
        "<img src=\"https://github.com/rahiakela/mathematics-for-machine-learning/blob/main/deep-learning-book-maths/images/transformation-vector-by-matrix.png?raw=1\" width=\"400\" alt=\"Plot of a vector and its transformation\" title=\"The matrix increased both coordinates of the vector\">\n",
        "\n",
        "<em>Applying the matrix on the vector multiplied each coordinate by two</em>\n",
        "\n",
        "You can look at other examples of simple transformations on vectors and unit circle in [this video](https://www.youtube.com/watch?v=kJIUbtSowRg)."
      ],
      "metadata": {
        "id": "O3AVW906DpyG"
      }
    },
    {
      "cell_type": "code",
      "source": [
        "v = np.array([1, 1])\n",
        "\n",
        "A = np.array([\n",
        "   [2, 0],\n",
        "   [0, 2]           \n",
        "])\n",
        "\n",
        "W = np.matmul(A, v)\n",
        "W"
      ],
      "metadata": {
        "colab": {
          "base_uri": "https://localhost:8080/"
        },
        "id": "SPDozWMCARJA",
        "outputId": "f4854a0d-2fc5-4982-b6ae-feacdac977c5"
      },
      "execution_count": null,
      "outputs": [
        {
          "output_type": "execute_result",
          "data": {
            "text/plain": [
              "array([2, 2])"
            ]
          },
          "metadata": {},
          "execution_count": 5
        }
      ]
    },
    {
      "cell_type": "markdown",
      "source": [
        "### Example 2: Unit circle scaling"
      ],
      "metadata": {
        "id": "j-N_rUYrAsSC"
      }
    },
    {
      "cell_type": "markdown",
      "source": [
        "To represent the linear transformation associated with matrices we can also draw the unit circle and see how a matrix can transform it (see the BONUS in [2.7](https://hadrienj.github.io/posts/Deep-Learning-Book-Series-2.7-Eigendecomposition/)). The unit circle represents the coordinates of every unit vectors (vector of length 1, see [2.6](https://hadrienj.github.io/posts/Deep-Learning-Book-Series-2.6-Special-Kinds-of-Matrices-and-Vectors/)).\n",
        "\n",
        "<img src=\"https://github.com/rahiakela/mathematics-for-machine-learning/blob/main/deep-learning-book-maths/images/unit-circle.png?raw=1\" width=\"200\" alt=\"Representation of the unit circle\" title=\"The unit circle\">\n",
        "\n",
        "<em>The unit circle</em>\n",
        "\n",
        "It is then possible to apply a matrix to all these unit vectors to see the kind of deformation it will produce.\n",
        "\n",
        "Again, let's apply the matrix:\n",
        "\n",
        "$$\n",
        "\\begin{bmatrix}\n",
        "    2 & 0\\\\\\\\\n",
        "    0 & 2\n",
        "\\end{bmatrix}\n",
        "$$\n",
        "\n",
        "to the unit circle:\n",
        "\n",
        "$$\n",
        "\\begin{bmatrix}\n",
        "    x'\\\\\\\\\n",
        "    y'\n",
        "\\end{bmatrix}=\n",
        "\\begin{bmatrix}\n",
        "    2 & 0\\\\\\\\\n",
        "    0 & 2\n",
        "\\end{bmatrix}\n",
        "\\begin{bmatrix}\n",
        "    x\\\\\\\\\n",
        "    y\n",
        "\\end{bmatrix}=\n",
        "\\begin{bmatrix}\n",
        "    2x\\\\\\\\\n",
        "    2y\n",
        "\\end{bmatrix}\n",
        "$$\n",
        "\n",
        "<img src=\"https://github.com/rahiakela/mathematics-for-machine-learning/blob/main/deep-learning-book-maths/images/unit-circle-transformation.png?raw=1\" width=\"400\" alt=\"Representation of the unit circle and its transformation\" title=\"The unit circle and its transformation\">\n",
        "\n",
        "<em>Another representation of the effect of the matrix: each coordinate of the unit circle was multiplied by two</em>\n",
        "\n",
        "We can see that the matrix doubled the size of the circle. But in some transformations, the change applied to the $x$ coordinate is different from the change applied to the $y$ coordinate. \n",
        "\n",
        "Let's see what it means graphically."
      ],
      "metadata": {
        "id": "eDfzX4qoIjY_"
      }
    },
    {
      "cell_type": "markdown",
      "source": [
        "### Example 3: Diagonal matrix"
      ],
      "metadata": {
        "id": "HJvJBw-ULhnt"
      }
    },
    {
      "cell_type": "markdown",
      "source": [
        "We will apply the matrix:\n",
        "\n",
        "$$\n",
        "\\begin{bmatrix}\n",
        "    3 & 0\\\\\\\\\n",
        "    0 & 2\n",
        "\\end{bmatrix}\n",
        "$$\n",
        "\n",
        "to the unit circle:\n",
        "\n",
        "$$\n",
        "\\begin{bmatrix}\n",
        "    x'\\\\\\\\\n",
        "    y'\n",
        "\\end{bmatrix}=\n",
        "\\begin{bmatrix}\n",
        "    3 & 0\\\\\\\\\n",
        "    0 & 2\n",
        "\\end{bmatrix}\\cdot\n",
        "\\begin{bmatrix}\n",
        "    x\\\\\\\\\n",
        "    y\n",
        "\\end{bmatrix}=\n",
        "\\begin{bmatrix}\n",
        "    3x\\\\\\\\\n",
        "    2y\n",
        "\\end{bmatrix}\n",
        "$$\n",
        "\n",
        "This gives the following new circle:\n",
        "\n",
        "<img src=\"https://github.com/rahiakela/mathematics-for-machine-learning/blob/main/deep-learning-book-maths/images/unit-circle-transformation1.png?raw=1\" width=\"400\" alt=\"Representation of the unit circle and its transformation\" title=\"The unit circle and its transformation\">\n",
        "\n",
        "<em>This time the matrix didn't rescale each coordinate with the same weight</em>\n",
        "\n",
        "We can check that with the equations associated with this matrix transformation. Let's say that the coordinates of the new circle (after transformation) are $x'$ and $y'$. The relation between the old coordinates ($x$, $y$) and the new coordinates ($x'$, $y'$) is:\n",
        "\n",
        "$$\n",
        "\\begin{bmatrix}\n",
        "    x'\\\\\\\\\n",
        "    y'\n",
        "\\end{bmatrix}=\n",
        "\\begin{bmatrix}\n",
        "    3x\\\\\\\\\n",
        "    2y\n",
        "\\end{bmatrix}\n",
        "\\Leftrightarrow\n",
        "\\begin{cases}\n",
        "x=\\frac{x'}{3}\\\\\\\\\n",
        "y=\\frac{y'}{2}\n",
        "\\end{cases}\n",
        "$$\n",
        "\n",
        "We also know that the equation of the unit circle is $x^2+y^2=1$ (the norm of the unit vectors is 1, see [2.5](https://hadrienj.github.io/posts/Deep-Learning-Book-Series-2.5-Norms/)). \n",
        "\n",
        "By replacement we end up with:\n",
        "\n",
        "$$\n",
        "\\begin{align*}\n",
        "\\left(\\frac{x'}{3}\\right)^2 + \\left(\\frac{y'}{2}\\right)^2 = 1\\\\\\\\\n",
        "\\left(\\frac{y'}{2}\\right)^2 = 1 - \\left(\\frac{x'}{3}\\right)^2\\\\\\\\\n",
        "\\frac{y'}{2} = \\sqrt{1 - \\left(\\frac{x'}{3}\\right)^2}\\\\\\\\\n",
        "y' = 2\\sqrt{1 - \\left(\\frac{x'}{3}\\right)^2}\n",
        "\\end{align*}\n",
        "$$\n",
        "\n",
        "We can check that this equation corresponds to our transformed circle. \n",
        "\n",
        "Let's start by drawing the old circle. Its equation is:\n",
        "\n",
        "$$\n",
        "\\begin{align*}\n",
        "x^2+y^2=1\\\\\\\\\n",
        "y^2=1-x^2\\\\\\\\\n",
        "y=\\sqrt{1-x^2}\n",
        "\\end{align*}\n",
        "$$"
      ],
      "metadata": {
        "id": "OQxUDm4fLiEL"
      }
    },
    {
      "cell_type": "code",
      "source": [
        "x = np.linspace(-1, 1, 100000)\n",
        "y = np.sqrt(1 - (x ** 2))\n",
        "\n",
        "plt.plot(x, y, sns.color_palette().as_hex()[0])\n",
        "plt.plot(x, -y, sns.color_palette().as_hex()[0])\n",
        "plt.xlim(-1.5, 1.5)\n",
        "plt.ylim(-1.5, 1.5)\n",
        "plt.show()"
      ],
      "metadata": {
        "colab": {
          "base_uri": "https://localhost:8080/",
          "height": 266
        },
        "id": "fmISAqP8AtPl",
        "outputId": "ce32adfe-2c0d-448e-d3e3-ea77deaaaa83"
      },
      "execution_count": 5,
      "outputs": [
        {
          "output_type": "display_data",
          "data": {
            "text/plain": [
              "<Figure size 288x288 with 1 Axes>"
            ],
            "image/png": "[encoded data removed]"
          },
          "metadata": {
            "needs_background": "light"
          }
        }
      ]
    },
    {
      "cell_type": "markdown",
      "source": [
        "So far so good!\n",
        "\n",
        "*Coding tip*: You can see the trick to plot a circle here: you create the $x$ variable, then $y$ is defined from $x$. This means that for each $x$, the corresponding $y$ value is calculated (and thus $y$ has the same shape as $x$). Since the result of the square root can be negative or positive (for instance, 4 can be the result of $2^2$ but also of $(-2)^2$) we need to plot both solutions ($y$ and $-y$ in `plt.plot`). Note also that a lot of values are needed if we want the connection between the two demi-spheres. See also some discussion [here](https://stackoverflow.com/questions/32092899/plot-equation-showing-a-circle).\n",
        "\n",
        "\n",
        "Now let's add the circle obtained after matrix transformation. We saw that it is defined with\n",
        "\n",
        "$$\n",
        "y = 2\\sqrt{1 - \\left(\\frac{x}{3}\\right)^2}\n",
        "$$"
      ],
      "metadata": {
        "id": "p1wusNL1sOZR"
      }
    },
    {
      "cell_type": "code",
      "source": [
        "x1 = np.linspace(-3, 3, 100000)\n",
        "y1 = 2 * np.sqrt(1 - ((x1 / 3) ** 2))\n",
        "\n",
        "plt.plot(x, y, sns.color_palette().as_hex()[0])\n",
        "plt.plot(x, -y, sns.color_palette().as_hex()[0])\n",
        "plt.plot(x1, y1, sns.color_palette().as_hex()[1])\n",
        "plt.plot(x1, -y1, sns.color_palette().as_hex()[1])\n",
        "plt.xlim(-4, 4)\n",
        "plt.ylim(-4, 4)\n",
        "plt.show()"
      ],
      "metadata": {
        "id": "-GyWdCodsO2_",
        "outputId": "624a105a-54f6-4456-e752-626c293796ff",
        "colab": {
          "base_uri": "https://localhost:8080/",
          "height": 266
        }
      },
      "execution_count": 6,
      "outputs": [
        {
          "output_type": "display_data",
          "data": {
            "text/plain": [
              "<Figure size 288x288 with 1 Axes>"
            ],
            "image/png": "[encoded data removed]"
          },
          "metadata": {
            "needs_background": "light"
          }
        }
      ]
    },
    {
      "cell_type": "markdown",
      "source": [
        "This shows that our transformation was correct.\n",
        "\n",
        "Note that these examples used **diagonal matrices** (all zeros except the diagonal). The general rule is that the transformation associated with diagonal matrices imply only a rescaling of each coordinate **without rotation**. This is a first element to understand the SVD. Look again at the decomposition\n",
        "\n",
        "<img src=\"https://github.com/rahiakela/mathematics-for-machine-learning/blob/main/deep-learning-book-maths/images/singular-value-decomposition.png?raw=1\" width=\"300\">\n",
        "\n",
        "> The transformation associated with diagonal matrices imply only a rescaling of each coordinate **without rotation**.\n",
        "\n",
        "We saw that the matrix ${D}$ is a diagonal matrix. And we saw also that it corresponds to a rescaling without rotation."
      ],
      "metadata": {
        "id": "jjSUU2hitAGj"
      }
    },
    {
      "cell_type": "markdown",
      "source": [
        "### Example 4: Rotation matrix"
      ],
      "metadata": {
        "id": "9ehtxIc9Y9sJ"
      }
    },
    {
      "cell_type": "markdown",
      "source": [
        "Matrices that are not diagonal can produce a rotation (see more details [here](https://en.wikipedia.org/wiki/Rotation_matrix)). Since it is easier to think about angles when we talk about rotation, we will use a matrix of the form\n",
        "\n",
        "$$\n",
        "R=\n",
        "\\begin{bmatrix}\n",
        "    cos(\\theta) & -sin(\\theta)\\\\\\\\\n",
        "    sin(\\theta) & cos(\\theta)\n",
        "\\end{bmatrix}\n",
        "$$\n",
        "\n",
        "This matrix will rotate our vectors or matrices counterclockwise through an angle $\\theta$. Our new coordinates will be\n",
        "\n",
        "$$\n",
        "\\begin{bmatrix}\n",
        "    x'\\\\\\\\\n",
        "    y'\n",
        "\\end{bmatrix}=\n",
        "\\begin{bmatrix}\n",
        "    cos(\\theta) & -sin(\\theta)\\\\\\\\\n",
        "    sin(\\theta) & cos(\\theta)\n",
        "\\end{bmatrix}\n",
        "\\begin{bmatrix}\n",
        "    x\\\\\\\\\n",
        "    y\n",
        "\\end{bmatrix}=\n",
        "\\begin{bmatrix}\n",
        "    xcos(\\theta) - ysin(\\theta)\\\\\\\\\n",
        "    xsin(\\theta) + ycos(\\theta)\n",
        "\\end{bmatrix}\n",
        "$$\n",
        "\n",
        "Let's rotate some vectors through an angle of $\\theta = 45^\\circ$.\n",
        "\n",
        "$$\n",
        "R=\n",
        "\\begin{bmatrix}\n",
        "    cos(45) & -sin(45)\\\\\\\\\n",
        "    sin(45) & cos(45)\n",
        "\\end{bmatrix}\n",
        "= \\begin{bmatrix}\n",
        "    0.70 & -0.70\\\\\\\\\n",
        "    0.70 & 0.70\n",
        "\\end{bmatrix}\n",
        "$$\n",
        "\n",
        "\n",
        "Let's start with the vector ${u}$ of coordinates $x=0$ and $y=1$ and the vector ${v}$ of coordinates $x=1$ and $y=0$. The vectors ${u'}$ ${v'}$ are the rotated vectors.\n",
        "\n",
        "<img src=\"https://github.com/rahiakela/mathematics-for-machine-learning/blob/main/deep-learning-book-maths/images/unit-vectors-rotation.png?raw=1\" width=\"200\" alt=\"Rotation of the unit vectors through matrix operation\" title=\"Rotation of the unit vectors\">\n",
        "\n",
        "<em>Counter clockwise rotation of the unit vectors with $\\theta = 45^\\circ$</em>\n",
        "\n",
        "First, let's plot ${u}$ and ${v}$."
      ],
      "metadata": {
        "id": "mWBvIHnNY92w"
      }
    },
    {
      "cell_type": "code",
      "source": [
        "orange = '#FF9A13'\n",
        "blue = '#1190FF'\n",
        "\n",
        "u = [1, 0]\n",
        "v = [0, 1]\n",
        "\n",
        "plot_vectors([u, v], cols=[blue, blue])\n",
        "\n",
        "plt.xlim(-1.5, 1.5)\n",
        "plt.ylim(-1.5, 1.5)\n",
        "\n",
        "plt.text(-0.25, 0.2, r'$\\vec{u}$', color=blue, size=18)\n",
        "plt.text(0.4, -0.25, r'$\\vec{v}$', color=blue, size=18)\n",
        "plt.show()"
      ],
      "metadata": {
        "colab": {
          "base_uri": "https://localhost:8080/",
          "height": 266
        },
        "id": "z8y1a1v2b_H5",
        "outputId": "b7abfd13-6bcf-443b-c5b5-a6e75d7c0024"
      },
      "execution_count": 11,
      "outputs": [
        {
          "output_type": "display_data",
          "data": {
            "text/plain": [
              "<Figure size 288x288 with 1 Axes>"
            ],
            "image/png": "[encoded data removed]"
          },
          "metadata": {
            "needs_background": "light"
          }
        }
      ]
    },
    {
      "cell_type": "markdown",
      "source": [
        "They are the <a href=\"https://en.wikipedia.org/wiki/Basis_(linear_algebra)\">basis vectors</a> of our space. We will calculate the transformation of these vectors:\n",
        "\n",
        "$$\n",
        "\\begin{cases}\n",
        "u_x = 0\\cdot cos(45) - 1\\cdot sin(45)\\\\\\\\\n",
        "u_y = 0\\cdot sin(45) + 1\\cdot cos(45)\n",
        "\\end{cases}\n",
        "\\Leftrightarrow\n",
        "\\begin{cases}\n",
        "u_x = -sin(45)\\\\\\\\\n",
        "u_y = cos(45)\n",
        "\\end{cases}\n",
        "$$\n",
        "\n",
        "$$\n",
        "\\begin{cases}\n",
        "v_x = 1\\cdot cos(45) - 0\\cdot sin(45)\\\\\\\\\n",
        "v_y = 1\\cdot sin(45) + 0\\cdot cos(45)\n",
        "\\end{cases}\n",
        "\\Leftrightarrow\n",
        "\\begin{cases}\n",
        "v_x = cos(45)\\\\\\\\\n",
        "v_y = sin(45)\n",
        "\\end{cases}\n",
        "$$\n",
        "\n",
        "We will now plot these new vectors to check that they are well our basis vectors rotated through an angle of $45^\\circ$."
      ],
      "metadata": {
        "id": "xtRucx2K0s02"
      }
    },
    {
      "cell_type": "code",
      "source": [
        "u1 = [-np.sin(np.radians(45)), np.cos(np.radians(45))]\n",
        "v1 = [np.cos(np.radians(45)), np.sin(np.radians(45))]\n",
        "\n",
        "plot_vectors([u1, v1], cols=[orange, orange])\n",
        "\n",
        "plt.xlim(-1.5, 1.5)\n",
        "plt.ylim(-1.5, 1.5)\n",
        "\n",
        "plt.text(-0.7, 0.1, r'$\\vec{u}$', color=orange, size=18)\n",
        "plt.text(0.4, -0.1, r'$\\vec{v}$', color=orange, size=18)\n",
        "plt.show()"
      ],
      "metadata": {
        "colab": {
          "base_uri": "https://localhost:8080/",
          "height": 266
        },
        "id": "8jsKVkNqci9L",
        "outputId": "84287d91-1347-4124-d6ac-6e56f54cd386"
      },
      "execution_count": 18,
      "outputs": [
        {
          "output_type": "display_data",
          "data": {
            "text/plain": [
              "<Figure size 288x288 with 1 Axes>"
            ],
            "image/png": "[encoded data removed]"
          },
          "metadata": {
            "needs_background": "light"
          }
        }
      ]
    },
    {
      "cell_type": "markdown",
      "source": [
        "**Coding tip:** the numpy functions `sin` and `cos` take input in radians. We can convert our angle from degrees to radians with the function `np.radians()`.\n",
        "\n",
        "We can also transform a circle. We will take a rescaled circle (the one from the example 3.) to be able to see the effect of the rotation.\n",
        "\n",
        "<img src=\"https://github.com/rahiakela/mathematics-for-machine-learning/blob/main/deep-learning-book-maths/images/rescaled-circle-rotated.png?raw=1\" width=\"300\" alt=\"A rescaled circle (not the same hight and width) rotated\" title=\"Rescaled circle rotated\">\n",
        "\n",
        "<em>The effect of a rotation matrix on a rescaled circle</em>"
      ],
      "metadata": {
        "id": "1X8iolth6erA"
      }
    },
    {
      "cell_type": "code",
      "source": [
        "x = np.linspace(-3, 3, 100000)\n",
        "y = 2 * np.sqrt(1 - ((x / 3) ** 2))\n",
        "\n",
        "x1 = x * np.cos(np.radians(45)) - y * np.sin(np.radians(45))\n",
        "y1 = x * np.sin(np.radians(45)) + y * np.cos(np.radians(45))\n",
        "\n",
        "x1_neg = x * np.cos(np.radians(45)) - -y * np.sin(np.radians(45))\n",
        "y1_neg = x * np.sin(np.radians(45)) + -y * np.cos(np.radians(45))\n",
        "\n",
        "u1 = [-2 * np.cos(np.radians(45)), 2 * np.sin(np.radians(45))]\n",
        "v1 = [3 * np.sin(np.radians(45)), 3 * np.cos(np.radians(45))]\n",
        "\n",
        "plot_vectors([u1, v1], cols=[\"#FF9A13\", \"#FF9A13\"])\n",
        "\n",
        "plt.plot(x, y, '#1190FF')\n",
        "plt.plot(x, -y, '#1190FF')\n",
        "\n",
        "plt.plot(x1, y1, '#FF9A13')\n",
        "plt.plot(x1_neg, y1_neg, '#FF9A13')\n",
        "\n",
        "plt.xlim(-4, 4)\n",
        "plt.ylim(-4, 4)\n",
        "plt.show()"
      ],
      "metadata": {
        "id": "WflISKZgy3Q1",
        "outputId": "556c5823-86d1-428a-bcce-4ab9e6cced12",
        "colab": {
          "base_uri": "https://localhost:8080/",
          "height": 266
        }
      },
      "execution_count": 25,
      "outputs": [
        {
          "output_type": "display_data",
          "data": {
            "text/plain": [
              "<Figure size 288x288 with 1 Axes>"
            ],
            "image/png": "[encoded data removed]"
          },
          "metadata": {
            "needs_background": "light"
          }
        }
      ]
    },
    {
      "cell_type": "markdown",
      "source": [
        "We can see that the circle has been rotated by an angle of $45^\\circ$. We have chosen the length of the vectors from the rescaling weight from example 3 (factor 3 and 2) to match the circle."
      ],
      "metadata": {
        "id": "t60XKcCq91TA"
      }
    },
    {
      "cell_type": "markdown",
      "source": [
        "### Summary"
      ],
      "metadata": {
        "id": "WEIlXm8O91yD"
      }
    },
    {
      "cell_type": "markdown",
      "source": [
        "I hope that you got how vectors and matrices can be transformed by rotating or scaling matrices. The SVD can be seen as the decomposition of one complex transformation in 3 simpler transformations (a rotation, a scaling and another rotation).\n",
        "\n",
        "Note that we took only square matrices. The SVD can be done even with non square matrices but it is harder to represent transformation associated with non square matrices. For instance, a 3 by 2 matrix will map a 2D space to a 3D space.\n",
        "\n",
        "<img src=\"https://github.com/rahiakela/mathematics-for-machine-learning/blob/main/deep-learning-book-maths/images/non-square-matrix-change-dimensions.png?raw=1\" width=\"250\" alt=\"A non square matrix change the number of dimensions of the input\" title=\"Example of a change of dimensions\">\n",
        "\n",
        "<em>A non square matrix change the number of dimensions of the input</em>"
      ],
      "metadata": {
        "id": "Fb3TtCuH9330"
      }
    },
    {
      "cell_type": "markdown",
      "source": [
        "## The three transformations"
      ],
      "metadata": {
        "id": "it-sQee6dMVH"
      }
    },
    {
      "cell_type": "markdown",
      "source": [],
      "metadata": {
        "id": "VLyeNjVxdMyG"
      }
    },
    {
      "cell_type": "code",
      "source": [],
      "metadata": {
        "colab": {
          "base_uri": "https://localhost:8080/"
        },
        "id": "Mu2IuxREdzEj",
        "outputId": "a128d4ea-857f-4e7c-d63c-5937dad7f344"
      },
      "execution_count": null,
      "outputs": [
        {
          "output_type": "execute_result",
          "data": {
            "text/plain": [
              "array([[5, 1],\n",
              "       [3, 3]])"
            ]
          },
          "metadata": {},
          "execution_count": 13
        }
      ]
    },
    {
      "cell_type": "markdown",
      "source": [
        "## References"
      ],
      "metadata": {
        "id": "pGcdv0qwjACO"
      }
    },
    {
      "cell_type": "markdown",
      "source": [
        "## Drawing a circle with Matplotlib\n",
        "\n",
        "- https://stackoverflow.com/questions/32092899/plot-equation-showing-a-circle\n",
        "\n",
        "## Rotation matrix\n",
        "\n",
        "- https://en.wikipedia.org/wiki/Rotation_matrix)\n",
        "\n",
        "## Basis vectors\n",
        "\n",
        "- https://en.wikipedia.org/wiki/Basis_(linear_algebra)\n",
        "\n",
        "## Linear transformation\n",
        "\n",
        "- [Aran Glancy - Linear transformation and matrices](https://www.youtube.com/watch?v=kJIUbtSowRg)\n",
        "\n",
        "## SVD\n",
        "\n",
        "- [Singular Value Decomposition - Wikipedia](https://en.wikipedia.org/wiki/Singular-value_decomposition)\n",
        "\n",
        "- [Professor-svd](https://fr.mathworks.com/company/newsletters/articles/professor-svd.html)\n",
        "\n",
        "- [Intoli - PCA and SVD](https://intoli.com/blog/pca-and-svd/)\n",
        "\n",
        "## Numpy\n",
        "\n",
        "- [Numpy SVD doc](https://docs.scipy.org/doc/numpy-1.13.0/reference/generated/numpy.linalg.svd.html)\n",
        "\n",
        "## Image processing\n",
        "\n",
        "- [Frank Cleary - SVD of an image](https://www.frankcleary.com/svdimage/)"
      ],
      "metadata": {
        "id": "1vK_KJ_3jBKD"
      }
    }
  ]
}