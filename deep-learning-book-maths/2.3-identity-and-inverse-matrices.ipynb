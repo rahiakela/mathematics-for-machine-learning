{
  "nbformat": 4,
  "nbformat_minor": 0,
  "metadata": {
    "kernelspec": {
      "display_name": "Python 2",
      "language": "python",
      "name": "python2"
    },
    "language_info": {
      "codemirror_mode": {
        "name": "ipython",
        "version": 2
      },
      "file_extension": ".py",
      "mimetype": "text/x-python",
      "name": "python",
      "nbconvert_exporter": "python",
      "pygments_lexer": "ipython2",
      "version": "2.7.10"
    },
    "colab": {
      "name": "2.3 Identity and Inverse Matrices.ipynb",
      "provenance": [],
      "toc_visible": true,
      "include_colab_link": true
    }
  },
  "cells": [
    {
      "cell_type": "markdown",
      "metadata": {
        "id": "view-in-github",
        "colab_type": "text"
      },
      "source": [
        "<a href=\"https://colab.research.google.com/github/rahiakela/deep-learning-book-maths/blob/main/2.3-identity-and-inverse-matrices.ipynb\" target=\"_parent\"><img src=\"https://colab.research.google.com/assets/colab-badge.svg\" alt=\"Open In Colab\"/></a>"
      ]
    },
    {
      "cell_type": "markdown",
      "metadata": {
        "id": "m4a8iLSSubzn"
      },
      "source": [
        "# Introduction\n",
        "\n",
        "This chapter is light but contains some important definitions. The identity matrix or the inverse of a matrix are concepts that will be very useful in the next chapters. We will see at the end of this chapter that we can solve systems of linear equations by using the inverse matrix. So hang on!"
      ]
    },
    {
      "cell_type": "markdown",
      "metadata": {
        "id": "i6pIQWpLu8R6"
      },
      "source": [
        "#Setup"
      ]
    },
    {
      "cell_type": "code",
      "metadata": {
        "id": "E2G_iHc5u-Fn"
      },
      "source": [
        "import numpy as np\n",
        "import matplotlib.pyplot as plt\n",
        "import seaborn as sns"
      ],
      "execution_count": null,
      "outputs": []
    },
    {
      "cell_type": "code",
      "metadata": {
        "id": "SFxG2fHmvBCo",
        "colab": {
          "base_uri": "https://localhost:8080/"
        },
        "outputId": "2d0f3138-98bb-47ee-aeb1-3b7b648f73b5"
      },
      "source": [
        "# Plot parameters\n",
        "sns.set()\n",
        "%pylab inline\n",
        "pylab.rcParams['figure.figsize'] = (4, 4)"
      ],
      "execution_count": null,
      "outputs": [
        {
          "output_type": "stream",
          "text": [
            "Populating the interactive namespace from numpy and matplotlib\n"
          ],
          "name": "stdout"
        }
      ]
    },
    {
      "cell_type": "code",
      "metadata": {
        "id": "FyRgdtFHvBcb"
      },
      "source": [
        "# Avoid inaccurate floating values (for inverse matrices in dot product for instance)\n",
        "# See https://stackoverflow.com/questions/24537791/numpy-matrix-inversion-rounding-errors\n",
        "np.set_printoptions(suppress=True)"
      ],
      "execution_count": null,
      "outputs": []
    },
    {
      "cell_type": "markdown",
      "metadata": {
        "id": "j0yZOBBeubzo"
      },
      "source": [
        "# 2.3 Identity and Inverse Matrices\n"
      ]
    },
    {
      "cell_type": "markdown",
      "metadata": {
        "id": "PmFSktyNv8Fp"
      },
      "source": [
        "## Identity matrices"
      ]
    },
    {
      "cell_type": "markdown",
      "metadata": {
        "id": "H4ll448Cv8R4"
      },
      "source": [
        "\n",
        "\n",
        "The identity matrix ${I}_n$ is a special matrix of shape ($n \\times n$) that is filled with $0$ except the diagonal that is filled with 1.\n",
        "\n",
        "<img src=\"https://github.com/rahiakela/deep-learning-book-maths/blob/main/images/identity-matrix.png?raw=1\" width=\"150\" alt=\"Example of an identity matrix\" title=\"Identity matrix\">\n",
        "<em>A 3 by 3 identity matrix</em>"
      ]
    },
    {
      "cell_type": "markdown",
      "metadata": {
        "id": "1Mf0ont9ubzo"
      },
      "source": [
        "An identity matrix can be created with the Numpy function `eye()`:"
      ]
    },
    {
      "cell_type": "code",
      "metadata": {
        "id": "4ewyrgdxubzp",
        "colab": {
          "base_uri": "https://localhost:8080/"
        },
        "outputId": "ccfe7d75-52b5-4eec-d93a-96b151caff62"
      },
      "source": [
        "np.eye(3)"
      ],
      "execution_count": null,
      "outputs": [
        {
          "output_type": "execute_result",
          "data": {
            "text/plain": [
              "array([[1., 0., 0.],\n",
              "       [0., 1., 0.],\n",
              "       [0., 0., 1.]])"
            ]
          },
          "metadata": {
            "tags": []
          },
          "execution_count": 4
        }
      ]
    },
    {
      "cell_type": "markdown",
      "metadata": {
        "id": "vm7UpixWubzp"
      },
      "source": [
        "When 'apply' the identity matrix to a vector the result is this same vector:\n",
        "\n",
        "$${I}_n{x} = {x}$$\n",
        "\n",
        "### Example 1.\n",
        "\n",
        "$$\n",
        "\\begin{bmatrix}\n",
        "    1 & 0 & 0 \\\\\\\\\n",
        "    0 & 1 & 0 \\\\\\\\\n",
        "    0 & 0 & 1\n",
        "\\end{bmatrix}\n",
        "\\times\n",
        "\\begin{bmatrix}\n",
        "    x_{1} \\\\\\\\\n",
        "    x_{2} \\\\\\\\\n",
        "    x_{3}\n",
        "\\end{bmatrix}=\n",
        "\\begin{bmatrix}\n",
        "    1 \\times x_1 + 0 \\times x_2 + 0\\times x_3 \\\\\\\\\n",
        "    0 \\times x_1 + 1 \\times x_2 + 0\\times x_3 \\\\\\\\\n",
        "    0 \\times x_1 + 0 \\times x_2 + 1\\times x_3\n",
        "\\end{bmatrix}=\n",
        "\\begin{bmatrix}\n",
        "    x_{1} \\\\\\\\\n",
        "    x_{2} \\\\\\\\\n",
        "    x_{3}\n",
        "\\end{bmatrix}\n",
        "$$"
      ]
    },
    {
      "cell_type": "code",
      "metadata": {
        "id": "2ZTEq5Tgubzp",
        "colab": {
          "base_uri": "https://localhost:8080/"
        },
        "outputId": "b045df54-1792-482a-b2ea-c5b8d094b643"
      },
      "source": [
        "x = np.array([[2], [6], [3]])\n",
        "x"
      ],
      "execution_count": null,
      "outputs": [
        {
          "output_type": "execute_result",
          "data": {
            "text/plain": [
              "array([[2],\n",
              "       [6],\n",
              "       [3]])"
            ]
          },
          "metadata": {
            "tags": []
          },
          "execution_count": 5
        }
      ]
    },
    {
      "cell_type": "code",
      "metadata": {
        "id": "BDwXVUQTubzq",
        "colab": {
          "base_uri": "https://localhost:8080/"
        },
        "outputId": "af71c088-d27b-4ee9-cc86-e97c9d17189c"
      },
      "source": [
        "xid = np.eye(x.shape[0]).dot(x)\n",
        "xid"
      ],
      "execution_count": null,
      "outputs": [
        {
          "output_type": "execute_result",
          "data": {
            "text/plain": [
              "array([[2.],\n",
              "       [6.],\n",
              "       [3.]])"
            ]
          },
          "metadata": {
            "tags": []
          },
          "execution_count": 6
        }
      ]
    },
    {
      "cell_type": "markdown",
      "metadata": {
        "id": "007uj53xwFjz"
      },
      "source": [
        "## Intuition"
      ]
    },
    {
      "cell_type": "markdown",
      "metadata": {
        "id": "wgfX4zBWubzq"
      },
      "source": [
        "You can think of a matrix as a way to transform objects in a $n$-dimensional space. It applies a linear transformation of the space. We can say that we *apply* a matrix to an element: this means that we do the dot product between this matrix and the element (more details about the dot product in [2.2](https://hadrienj.github.io/posts/Deep-Learning-Book-Series-2.2-Multiplying-Matrices-and-Vectors/)). We will see this notion thoroughly in the next chapters but the identity matrix is a good first example. It is a particular example because the space doesn't change when we *apply* the identity matrix to it.\n",
        "\n",
        "<span class='pquote'>\n",
        "    The space doesn't change when we *apply* the identity matrix to it\n",
        "</span>\n",
        "\n",
        "We saw that ${x}$ was not altered after being multiplied by ${I}$."
      ]
    },
    {
      "cell_type": "markdown",
      "metadata": {
        "id": "-EssJzYSwImL"
      },
      "source": [
        "# Inverse Matrices"
      ]
    },
    {
      "cell_type": "markdown",
      "metadata": {
        "id": "MrPuPLkHubzq"
      },
      "source": [
        "The matrix inverse of ${A}$ is denoted ${A}^{-1}$. It is the matrix that results in the identity matrix when it is multiplied by ${A}$:\n",
        "\n",
        "$${A}^{-1}{A}={I}_n$$\n",
        "\n",
        "This means that if we apply a linear transformation to the space with ${A}$, it is possible to go back with ${A}^{-1}$. It provides a way to cancel the transformation.\n",
        "\n"
      ]
    },
    {
      "cell_type": "markdown",
      "metadata": {
        "id": "-xhymPXxwNWx"
      },
      "source": [
        "### Example 2."
      ]
    },
    {
      "cell_type": "markdown",
      "metadata": {
        "id": "wwWtEmK3wN6I"
      },
      "source": [
        "$$\n",
        "{A}=\\begin{bmatrix}\n",
        "    3 & 0 & 2 \\\\\\\\\n",
        "    2 & 0 & -2 \\\\\\\\\n",
        "    0 & 1 & 1\n",
        "\\end{bmatrix}\n",
        "$$\n",
        "\n",
        "For this example, we will use the Numpy function `linalg.inv()` to calculate the inverse of ${A}$. Let's start by creating ${A}$:"
      ]
    },
    {
      "cell_type": "code",
      "metadata": {
        "id": "MPNXgq1Qubzr",
        "colab": {
          "base_uri": "https://localhost:8080/"
        },
        "outputId": "62c1ae6f-931c-4a6c-871d-beec6c9e5981"
      },
      "source": [
        "A = np.array([[3, 0, 2], [2, 0, -2], [0, 1, 1]])\n",
        "A"
      ],
      "execution_count": null,
      "outputs": [
        {
          "output_type": "execute_result",
          "data": {
            "text/plain": [
              "array([[ 3,  0,  2],\n",
              "       [ 2,  0, -2],\n",
              "       [ 0,  1,  1]])"
            ]
          },
          "metadata": {
            "tags": []
          },
          "execution_count": 7
        }
      ]
    },
    {
      "cell_type": "markdown",
      "metadata": {
        "id": "Z1IjeXl9ubzr"
      },
      "source": [
        "Now we calculate its inverse:"
      ]
    },
    {
      "cell_type": "code",
      "metadata": {
        "id": "Is4qmWWuubzr",
        "colab": {
          "base_uri": "https://localhost:8080/"
        },
        "outputId": "afaf14ca-5edf-406a-b59a-debf77cdef1f"
      },
      "source": [
        "A_inv = np.linalg.inv(A)\n",
        "A_inv"
      ],
      "execution_count": null,
      "outputs": [
        {
          "output_type": "execute_result",
          "data": {
            "text/plain": [
              "array([[ 0.2,  0.2,  0. ],\n",
              "       [-0.2,  0.3,  1. ],\n",
              "       [ 0.2, -0.3, -0. ]])"
            ]
          },
          "metadata": {
            "tags": []
          },
          "execution_count": 8
        }
      ]
    },
    {
      "cell_type": "markdown",
      "metadata": {
        "id": "oFymQVB9ubzs"
      },
      "source": [
        "We can check that ${A_{inv}}$ is well the inverse of ${A}$ with Python:"
      ]
    },
    {
      "cell_type": "code",
      "metadata": {
        "id": "Z22jhuPvubzs",
        "colab": {
          "base_uri": "https://localhost:8080/"
        },
        "outputId": "e54c630b-6364-4bac-d783-9ce6601061ee"
      },
      "source": [
        "A_bis = A_inv.dot(A)\n",
        "A_bis"
      ],
      "execution_count": null,
      "outputs": [
        {
          "output_type": "execute_result",
          "data": {
            "text/plain": [
              "array([[ 1.,  0., -0.],\n",
              "       [ 0.,  1.,  0.],\n",
              "       [ 0.,  0.,  1.]])"
            ]
          },
          "metadata": {
            "tags": []
          },
          "execution_count": 9
        }
      ]
    },
    {
      "cell_type": "markdown",
      "metadata": {
        "id": "B6BLSbI2ubzs"
      },
      "source": [
        "We will see that inverse of matrices can be very usefull, for instance to solve a set of linear equations. We must note however that non square matrices (matrices with more columns than rows or more rows than columns) don't have inverse."
      ]
    },
    {
      "cell_type": "markdown",
      "metadata": {
        "id": "WL3etG5jzANW"
      },
      "source": [
        "# Sovling a system of linear equations"
      ]
    },
    {
      "cell_type": "markdown",
      "metadata": {
        "id": "t1sguOabubzs"
      },
      "source": [
        "An introduction on system of linear equations can be found in [2.2](https://hadrienj.github.io/posts/Deep-Learning-Book-Series-2.2-Multiplying-Matrices-and-Vectors/).\n",
        "\n",
        "The inverse matrix can be used to solve the equation ${Ax}={b}$ by adding it to each term:\n",
        "\n",
        "$${A}^{-1}{Ax}={A}^{-1}{b}$$\n",
        "\n",
        "Since we know by definition that ${A}^{-1}{A}={I}$, we have:\n",
        "\n",
        "$${I}_n{x}={A}^{-1}{b}$$\n",
        "\n",
        "We saw that a vector is not changed when multiplied by the identity matrix. So we can write:\n",
        "\n",
        "$${x}={A}^{-1}{b}$$\n",
        "\n",
        "This is great! We can solve a set of linear equation just by computing the inverse of ${A}$ and apply this matrix to the vector of results ${b}$!\n",
        "\n",
        "Let's try that!"
      ]
    },
    {
      "cell_type": "markdown",
      "metadata": {
        "id": "65F4BwEIzEPe"
      },
      "source": [
        "### Example 3."
      ]
    },
    {
      "cell_type": "markdown",
      "metadata": {
        "id": "OdPO0_L3ubzt"
      },
      "source": [
        "We will take a simple solvable example:\n",
        "\n",
        "$$\n",
        "\\begin{cases}\n",
        "y = 2x \\\\\\\\\n",
        "y = -x +3\n",
        "\\end{cases}\n",
        "$$\n",
        "\n",
        "We will use the notation that we saw in [2.2](https://hadrienj.github.io/posts/Deep-Learning-Book-Series-2.2-Multiplying-Matrices-and-Vectors/):\n",
        "\n",
        "$$\n",
        "\\begin{cases}\n",
        "A_{1,1}x_1 + A_{1,2}x_2 = b_1 \\\\\\\\\n",
        "A_{2,1}x_1 + A_{2,2}x_2= b_2\n",
        "\\end{cases}\n",
        "$$\n",
        "\n",
        "Here, $x_1$ corresponds to $x$ and $x_2$ corresponds to $y$. So we have:\n",
        "\n",
        "$$\n",
        "\\begin{cases}\n",
        "2x_1 - x_2 = 0 \\\\\\\\\n",
        "x_1 + x_2= 3\n",
        "\\end{cases}\n",
        "$$\n",
        "\n",
        "Our matrix ${A}$ of weights is:\n",
        "\n",
        "$$\n",
        "{A}=\n",
        "\\begin{bmatrix}\n",
        "    2 & -1 \\\\\\\\\n",
        "    1 & 1\n",
        "\\end{bmatrix}\n",
        "$$\n",
        "\n",
        "And the vector ${b}$ containing the solutions of individual equations is:\n",
        "\n",
        "$$\n",
        "{b}=\n",
        "\\begin{bmatrix}\n",
        "    0 \\\\\\\\\n",
        "    3\n",
        "\\end{bmatrix}\n",
        "$$\n",
        "\n",
        "Under the matrix form, our systems becomes:\n",
        "\n",
        "$$\n",
        "\\begin{bmatrix}\n",
        "    2 & -1 \\\\\\\\\n",
        "    1 & 1\n",
        "\\end{bmatrix}\n",
        "\\begin{bmatrix}\n",
        "    x_1 \\\\\\\\\n",
        "    x_2\n",
        "\\end{bmatrix}=\n",
        "\\begin{bmatrix}\n",
        "    0 \\\\\\\\\n",
        "    3\n",
        "\\end{bmatrix}\n",
        "$$\n",
        "\n",
        "Let's find the inverse of ${A}$:"
      ]
    },
    {
      "cell_type": "code",
      "metadata": {
        "id": "JMvv_NBQubzu",
        "colab": {
          "base_uri": "https://localhost:8080/"
        },
        "outputId": "0b1b9077-c71b-4bb2-b98a-a94b1019e3aa"
      },
      "source": [
        "A = np.array([[2, -1], [1, 1]])\n",
        "A"
      ],
      "execution_count": null,
      "outputs": [
        {
          "output_type": "execute_result",
          "data": {
            "text/plain": [
              "array([[ 2, -1],\n",
              "       [ 1,  1]])"
            ]
          },
          "metadata": {
            "tags": []
          },
          "execution_count": 10
        }
      ]
    },
    {
      "cell_type": "code",
      "metadata": {
        "id": "304geDyFubzu",
        "colab": {
          "base_uri": "https://localhost:8080/"
        },
        "outputId": "21a3eb32-21f1-4bc5-fda3-b2dceac5141a"
      },
      "source": [
        "A_inv = np.linalg.inv(A)\n",
        "A_inv"
      ],
      "execution_count": null,
      "outputs": [
        {
          "output_type": "execute_result",
          "data": {
            "text/plain": [
              "array([[ 0.33333333,  0.33333333],\n",
              "       [-0.33333333,  0.66666667]])"
            ]
          },
          "metadata": {
            "tags": []
          },
          "execution_count": 11
        }
      ]
    },
    {
      "cell_type": "markdown",
      "metadata": {
        "id": "QpoheuENubzu"
      },
      "source": [
        "We have also:"
      ]
    },
    {
      "cell_type": "code",
      "metadata": {
        "collapsed": true,
        "id": "YasLmvr9ubzu"
      },
      "source": [
        "b = np.array([[0], [3]])"
      ],
      "execution_count": null,
      "outputs": []
    },
    {
      "cell_type": "markdown",
      "metadata": {
        "id": "moZQH-UPubzv"
      },
      "source": [
        "Since we saw that\n",
        "\n",
        "$${x}={A}^{-1}{b}$$\n",
        "\n",
        "We have:"
      ]
    },
    {
      "cell_type": "code",
      "metadata": {
        "id": "JmzCXRDGubzv",
        "colab": {
          "base_uri": "https://localhost:8080/"
        },
        "outputId": "f5896cfc-8195-4f64-89a2-105c1a054a2a"
      },
      "source": [
        "x = A_inv.dot(b)\n",
        "x"
      ],
      "execution_count": null,
      "outputs": [
        {
          "output_type": "execute_result",
          "data": {
            "text/plain": [
              "array([[1.],\n",
              "       [2.]])"
            ]
          },
          "metadata": {
            "tags": []
          },
          "execution_count": 13
        }
      ]
    },
    {
      "cell_type": "markdown",
      "metadata": {
        "id": "QUO-EhYeubzv"
      },
      "source": [
        "This is our solution! \n",
        "\n",
        "$$\n",
        "{x}=\n",
        "\\begin{bmatrix}\n",
        "    1 \\\\\\\\\n",
        "    2\n",
        "\\end{bmatrix}\n",
        "$$\n",
        "\n",
        "This means that the point of coordinates (1, 2) is the solution and is at the intersection of the lines representing the equations. Let's plot them to check this solution:"
      ]
    },
    {
      "cell_type": "code",
      "metadata": {
        "id": "4F_UCZkcubzv",
        "colab": {
          "base_uri": "https://localhost:8080/",
          "height": 274
        },
        "outputId": "c52334df-b7cf-4963-fc90-c1ab080657fe"
      },
      "source": [
        "x = np.arange(-10, 10)\n",
        "y = 2*x\n",
        "y1 = -x + 3\n",
        "\n",
        "plt.figure()\n",
        "plt.plot(x, y)\n",
        "plt.plot(x, y1)\n",
        "plt.xlim(0, 3)\n",
        "plt.ylim(0, 3)\n",
        "# draw axes\n",
        "plt.axvline(x=0, color='grey')\n",
        "plt.axhline(y=0, color='grey')\n",
        "plt.show()\n",
        "plt.close()"
      ],
      "execution_count": null,
      "outputs": [
        {
          "output_type": "display_data",
          "data": {
            "image/png": "[encoded data removed]",
            "text/plain": [
              "<Figure size 288x288 with 1 Axes>"
            ]
          },
          "metadata": {
            "tags": [],
            "needs_background": "light"
          }
        }
      ]
    },
    {
      "cell_type": "markdown",
      "metadata": {
        "id": "o2YqQ15mubzw"
      },
      "source": [
        "We can see that the solution (corresponding to the line crossing) is when $x=1$ and $y=2$. It confirms what we found with the matrix inversion!"
      ]
    },
    {
      "cell_type": "markdown",
      "metadata": {
        "id": "LVEvLochzKXK"
      },
      "source": [
        "## BONUS: Coding tip - Draw an equation"
      ]
    },
    {
      "cell_type": "markdown",
      "metadata": {
        "id": "SAikugBwubzw"
      },
      "source": [
        "\n",
        "To draw the equation with Matplotlib, we first need to create a vector with all the $x$ values. Actually, since this is a line, only two points would have been sufficient. But with more complex functions, the length of the vector $x$ corresponds to the sampling rate. So here we used the Numpy function `arrange()` (see the [doc](https://docs.scipy.org/doc/numpy/reference/generated/numpy.arange.html)) to create a vector from $-10$ to $10$ (not included)."
      ]
    },
    {
      "cell_type": "code",
      "metadata": {
        "id": "5d_Bvum7ubzw",
        "colab": {
          "base_uri": "https://localhost:8080/"
        },
        "outputId": "33694ebc-7cb5-4dae-ec9c-bb2dbf824507"
      },
      "source": [
        "np.arange(-10, 10)"
      ],
      "execution_count": null,
      "outputs": [
        {
          "output_type": "execute_result",
          "data": {
            "text/plain": [
              "array([-10,  -9,  -8,  -7,  -6,  -5,  -4,  -3,  -2,  -1,   0,   1,   2,\n",
              "         3,   4,   5,   6,   7,   8,   9])"
            ]
          },
          "metadata": {
            "tags": []
          },
          "execution_count": 15
        }
      ]
    },
    {
      "cell_type": "markdown",
      "metadata": {
        "id": "CBpZ0wPYubzw"
      },
      "source": [
        "The first argument is the starting point and the second the ending point. You can add a third argument to specify the step:"
      ]
    },
    {
      "cell_type": "code",
      "metadata": {
        "id": "okgP6-ABubzw",
        "colab": {
          "base_uri": "https://localhost:8080/"
        },
        "outputId": "90588925-5724-4ba3-999f-cd3aad4fa565"
      },
      "source": [
        "np.arange(-10, 10, 2)"
      ],
      "execution_count": null,
      "outputs": [
        {
          "output_type": "execute_result",
          "data": {
            "text/plain": [
              "array([-10,  -8,  -6,  -4,  -2,   0,   2,   4,   6,   8])"
            ]
          },
          "metadata": {
            "tags": []
          },
          "execution_count": 16
        }
      ]
    },
    {
      "cell_type": "markdown",
      "metadata": {
        "id": "mIiGXMQKubzx"
      },
      "source": [
        "Then we create a second vector $y$ that depends on the $x$ vector. Numpy will take each value of $x$ and apply the equation formula to it."
      ]
    },
    {
      "cell_type": "code",
      "metadata": {
        "id": "rHMYQCAiubzx",
        "colab": {
          "base_uri": "https://localhost:8080/"
        },
        "outputId": "8c321a3c-da55-4a14-ea76-50d4fd10dabe"
      },
      "source": [
        "x = np.arange(-10, 10)\n",
        "y = 2*x + 1\n",
        "y"
      ],
      "execution_count": null,
      "outputs": [
        {
          "output_type": "execute_result",
          "data": {
            "text/plain": [
              "array([-19, -17, -15, -13, -11,  -9,  -7,  -5,  -3,  -1,   1,   3,   5,\n",
              "         7,   9,  11,  13,  15,  17,  19])"
            ]
          },
          "metadata": {
            "tags": []
          },
          "execution_count": 17
        }
      ]
    },
    {
      "cell_type": "markdown",
      "metadata": {
        "id": "8jnHJNHaubzx"
      },
      "source": [
        "Finally, you just need to plot these vectors."
      ]
    },
    {
      "cell_type": "markdown",
      "metadata": {
        "collapsed": true,
        "id": "gA36VvKqubzx"
      },
      "source": [
        "# Singular matrices\n",
        "\n",
        "Some matrices are not invertible. They are called **singular**."
      ]
    },
    {
      "cell_type": "markdown",
      "metadata": {
        "id": "CxkL7dlmubzx"
      },
      "source": [
        "# Conclusion\n",
        "\n",
        "This introduces different cases according to the linear system because ${A}^{-1}$ exists only if the equation ${Ax}={b}$ has one and only one solution. [The next chapter](https://hadrienj.github.io/posts/Deep-Learning-Book-Series-2.4-Linear-Dependence-and-Span/) is almost all about systems of linear equations and number of solutions."
      ]
    }
  ]
}