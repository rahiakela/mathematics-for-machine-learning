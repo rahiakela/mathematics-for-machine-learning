{
  "nbformat": 4,
  "nbformat_minor": 0,
  "metadata": {
    "colab": {
      "provenance": [],
      "toc_visible": true,
      "authorship_tag": "ABX9TyMeXSa9p4SvmAtSuGDgw9l2",
      "include_colab_link": true
    },
    "kernelspec": {
      "name": "python3",
      "display_name": "Python 3"
    },
    "language_info": {
      "name": "python"
    }
  },
  "cells": [
    {
      "cell_type": "markdown",
      "metadata": {
        "id": "view-in-github",
        "colab_type": "text"
      },
      "source": [
        "<a href=\"https://colab.research.google.com/github/rahiakela/mathematics-for-machine-learning/blob/main/deep-learning-book-maths/2_10_trace_of_matrix.ipynb\" target=\"_parent\"><img src=\"https://colab.research.google.com/assets/colab-badge.svg\" alt=\"Open In Colab\"/></a>"
      ]
    },
    {
      "cell_type": "markdown",
      "source": [
        "##The Trace of Matrix"
      ],
      "metadata": {
        "id": "IKtQpuOAWn8Y"
      }
    },
    {
      "cell_type": "markdown",
      "source": [
        "This chapter is very light! I can assure you that you will read it in 1 minute! It is nice after the last two chapters that were quite big! We will see what is the Trace of a matrix. It will be needed for the last chapter on the Principal Component Analysis (PCA).\n",
        "\n",
        "<img src=\"images/trace-matrix.png\" width=\"200\" alt=\"Calculating the trace of a matrix\" title=\"Calculating the trace of a matrix\">\n",
        "\n",
        "<em>The trace of matrix</em>"
      ],
      "metadata": {
        "id": "W-btWPbn-f86"
      }
    },
    {
      "cell_type": "markdown",
      "source": [
        "##Setup"
      ],
      "metadata": {
        "id": "hu1fEM6AZFWr"
      }
    },
    {
      "cell_type": "code",
      "source": [
        "import numpy as np\n",
        "\n",
        "from PIL import Image\n",
        "\n",
        "import matplotlib.pyplot as plt\n",
        "import seaborn as sns"
      ],
      "metadata": {
        "id": "XMujFm6dZGgH"
      },
      "execution_count": 1,
      "outputs": []
    },
    {
      "cell_type": "code",
      "source": [
        "# Plot parameters\n",
        "sns.set()\n",
        "%pylab inline\n",
        "pylab.rcParams['figure.figsize'] = (4, 4)\n",
        "plt.rcParams['xtick.major.size'] = 0\n",
        "plt.rcParams['ytick.major.size'] = 0\n",
        "# Avoid inaccurate floating values (for inverse matrices in dot product for instance)\n",
        "# See https://stackoverflow.com/questions/24537791/numpy-matrix-inversion-rounding-errors\n",
        "np.set_printoptions(suppress=True)"
      ],
      "metadata": {
        "id": "dI6fjg6qZG7p",
        "outputId": "0fb5f62d-098d-4031-ea6c-475b21acd142",
        "colab": {
          "base_uri": "https://localhost:8080/"
        }
      },
      "execution_count": 2,
      "outputs": [
        {
          "output_type": "stream",
          "name": "stdout",
          "text": [
            "Populating the interactive namespace from numpy and matplotlib\n"
          ]
        }
      ]
    },
    {
      "cell_type": "markdown",
      "source": [
        "## Intuition"
      ],
      "metadata": {
        "id": "9Tbolg9LYAzH"
      }
    },
    {
      "cell_type": "markdown",
      "source": [
        "The trace is the sum of all values in the diagonal of a square matrix.\n",
        "\n",
        "$$\n",
        "{A}=\n",
        "\\begin{bmatrix}\n",
        "    2 & 9 & 8 \\\\\\\\\n",
        "    4 & 7 & 1 \\\\\\\\\n",
        "    8 & 2 & 5\n",
        "\\end{bmatrix}\n",
        "$$\n",
        "\n",
        "$$\n",
        "\\mathrm{Tr}({A}) = 2 + 7 + 5 = 14\n",
        "$$\n",
        "\n",
        "Numpy provides the function `trace()` to calculate it:"
      ],
      "metadata": {
        "id": "nQNsQZpSMOEx"
      }
    },
    {
      "cell_type": "code",
      "source": [
        "A = np.array([\n",
        "  [2, 9, 8],\n",
        "  [4, 7, 1],\n",
        "  [8, 2, 5]\n",
        "])\n",
        "A"
      ],
      "metadata": {
        "colab": {
          "base_uri": "https://localhost:8080/"
        },
        "id": "0jq5rz-oGuIQ",
        "outputId": "c929673a-5eb6-4c76-db48-75e700045f42"
      },
      "execution_count": 3,
      "outputs": [
        {
          "output_type": "execute_result",
          "data": {
            "text/plain": [
              "array([[2, 9, 8],\n",
              "       [4, 7, 1],\n",
              "       [8, 2, 5]])"
            ]
          },
          "metadata": {},
          "execution_count": 3
        }
      ]
    },
    {
      "cell_type": "code",
      "source": [
        "A_trace = np.trace(A)\n",
        "A_trace"
      ],
      "metadata": {
        "colab": {
          "base_uri": "https://localhost:8080/"
        },
        "id": "0ZvCa3aHHb7t",
        "outputId": "8a1291a1-5eb2-4310-b960-0f5d382347c3"
      },
      "execution_count": 4,
      "outputs": [
        {
          "output_type": "execute_result",
          "data": {
            "text/plain": [
              "14"
            ]
          },
          "metadata": {},
          "execution_count": 4
        }
      ]
    },
    {
      "cell_type": "markdown",
      "source": [
        "GoodFellow et al. explain that the trace can be used to specify the Frobenius norm of a matrix (see [2.5](https://hadrienj.github.io/posts/Deep-Learning-Book-Series-2.5-Norms/)). The Frobenius norm is the equivalent of the $L^2$ norm for matrices. It is defined by:\n",
        "\n",
        "$$\n",
        "||{{A}}||_F=\\sqrt{\\sum_{i,j}A^2_{i,j}}\n",
        "$$\n",
        "\n",
        "Take the square of all elements and sum them. Take the square root of the result. This norm can also be calculated with:\n",
        "\n",
        "$$\n",
        "||{{A}}||_F=\\sqrt{Tr({{AA}^T})}\n",
        "$$\n",
        "\n",
        "We can check this. The first way to compute the norm can be done with the simple command `np.linalg.norm()`:"
      ],
      "metadata": {
        "id": "wFUMkHZcMZRZ"
      }
    },
    {
      "cell_type": "code",
      "source": [
        "np.linalg.norm(A)"
      ],
      "metadata": {
        "colab": {
          "base_uri": "https://localhost:8080/"
        },
        "id": "ojWoxexcMaPJ",
        "outputId": "efbf0232-eef1-448c-dc32-48a00954c1c7"
      },
      "execution_count": 5,
      "outputs": [
        {
          "output_type": "execute_result",
          "data": {
            "text/plain": [
              "17.549928774784245"
            ]
          },
          "metadata": {},
          "execution_count": 5
        }
      ]
    },
    {
      "cell_type": "markdown",
      "source": [
        "The Frobenius norm of ${A}$ is 17.549928774784245.\n",
        "\n",
        "With the trace the result is identical:"
      ],
      "metadata": {
        "id": "rMaEXLmNPZ0g"
      }
    },
    {
      "cell_type": "code",
      "source": [
        "np.sqrt(np.trace(A.dot(A.T)))"
      ],
      "metadata": {
        "colab": {
          "base_uri": "https://localhost:8080/"
        },
        "id": "-f5-4MCrPaR5",
        "outputId": "4b20f914-6d61-4e1a-c1a7-8f51712af705"
      },
      "execution_count": 6,
      "outputs": [
        {
          "output_type": "execute_result",
          "data": {
            "text/plain": [
              "17.549928774784245"
            ]
          },
          "metadata": {},
          "execution_count": 6
        }
      ]
    },
    {
      "cell_type": "markdown",
      "source": [
        "Since the transposition of a matrix doesn't change the diagonal, the trace of the matrix is equal to the trace of its transpose:\n",
        "\n",
        "$$\n",
        "Tr({A})=Tr({A}^T)\n",
        "$$"
      ],
      "metadata": {
        "id": "Pvtcn5wNPjn4"
      }
    },
    {
      "cell_type": "code",
      "source": [
        "assert np.trace(A) == np.trace(A.T)"
      ],
      "metadata": {
        "id": "iZZvFxscPo3I"
      },
      "execution_count": 7,
      "outputs": []
    },
    {
      "cell_type": "markdown",
      "source": [
        "##Trace of a product"
      ],
      "metadata": {
        "id": "QMkyIrkRZXHG"
      }
    },
    {
      "cell_type": "markdown",
      "source": [
        "$$\n",
        "Tr({ABC}) = Tr({CAB}) = Tr({BCA})\n",
        "$$"
      ],
      "metadata": {
        "id": "kejeA2hVZX1A"
      }
    },
    {
      "cell_type": "markdown",
      "source": [
        "###Example 1: Trace property"
      ],
      "metadata": {
        "id": "y6X3amYeRqKw"
      }
    },
    {
      "cell_type": "markdown",
      "source": [
        "Let's see an example of this property.\n",
        "\n",
        "$$\n",
        "{A}=\n",
        "\\begin{bmatrix}\n",
        "    4 & 12 \\\\\\\\\n",
        "    7 & 6\n",
        "\\end{bmatrix}\n",
        "$$\n",
        "\n",
        "$$\n",
        "{B}=\n",
        "\\begin{bmatrix}\n",
        "    1 & -3 \\\\\\\\\n",
        "    4 & 3\n",
        "\\end{bmatrix}\n",
        "$$\n",
        "\n",
        "$$\n",
        "{C}=\n",
        "\\begin{bmatrix}\n",
        "    6 & 6 \\\\\\\\\n",
        "    2 & 5\n",
        "\\end{bmatrix}\n",
        "$$"
      ],
      "metadata": {
        "id": "2QGt7PviSIHh"
      }
    },
    {
      "cell_type": "code",
      "source": [
        "A = np.array([\n",
        "  [4, 12],\n",
        "  [7, 6]\n",
        "])\n",
        "\n",
        "B = np.array([\n",
        "  [1, -3], \n",
        "  [4, 3]\n",
        "])\n",
        "\n",
        "C = np.array([\n",
        "  [6, 6], \n",
        "  [2, 5]\n",
        "])"
      ],
      "metadata": {
        "id": "dcywqFLfZa5k"
      },
      "execution_count": 8,
      "outputs": []
    },
    {
      "cell_type": "code",
      "source": [
        "np.trace(A.dot(B).dot(C))"
      ],
      "metadata": {
        "colab": {
          "base_uri": "https://localhost:8080/"
        },
        "id": "rSaCu7U0KbRL",
        "outputId": "4a785ec4-6939-480b-d20a-51c8d4f6c02f"
      },
      "execution_count": 9,
      "outputs": [
        {
          "output_type": "execute_result",
          "data": {
            "text/plain": [
              "531"
            ]
          },
          "metadata": {},
          "execution_count": 9
        }
      ]
    },
    {
      "cell_type": "code",
      "source": [
        "np.trace(C.dot(A).dot(B))"
      ],
      "metadata": {
        "colab": {
          "base_uri": "https://localhost:8080/"
        },
        "id": "98s2rBm7Kuze",
        "outputId": "11b8026d-b2a6-4143-d602-4fbbda1bac25"
      },
      "execution_count": 10,
      "outputs": [
        {
          "output_type": "execute_result",
          "data": {
            "text/plain": [
              "531"
            ]
          },
          "metadata": {},
          "execution_count": 10
        }
      ]
    },
    {
      "cell_type": "code",
      "source": [
        "np.trace(B.dot(C).dot(A))"
      ],
      "metadata": {
        "colab": {
          "base_uri": "https://localhost:8080/"
        },
        "id": "984AHCawK1gb",
        "outputId": "39c4884f-24e0-4753-df9c-65f6c627e26f"
      },
      "execution_count": 11,
      "outputs": [
        {
          "output_type": "execute_result",
          "data": {
            "text/plain": [
              "531"
            ]
          },
          "metadata": {},
          "execution_count": 11
        }
      ]
    },
    {
      "cell_type": "markdown",
      "source": [
        "$$\n",
        "{ABC}=\n",
        "\\begin{bmatrix}\n",
        "    360 & 432 \\\\\\\\\n",
        "    180 & 171\n",
        "\\end{bmatrix}\n",
        "$$\n",
        "\n",
        "$$\n",
        "{CAB}=\n",
        "\\begin{bmatrix}\n",
        "    498 & 126 \\\\\\\\\n",
        "    259 & 33\n",
        "\\end{bmatrix}\n",
        "$$\n",
        "\n",
        "$$\n",
        "{BCA}=\n",
        "\\begin{bmatrix}\n",
        "    -63 & -54 \\\\\\\\\n",
        "    393 & 594\n",
        "\\end{bmatrix}\n",
        "$$\n",
        "\n",
        "$$\n",
        "Tr({ABC}) = Tr({CAB}) = Tr({BCA}) =  531\n",
        "$$"
      ],
      "metadata": {
        "id": "jZmJAJ8fd1Wp"
      }
    },
    {
      "cell_type": "code",
      "source": [
        "assert np.trace(A.dot(B).dot(C)) == np.trace(C.dot(A).dot(B)) == np.trace(B.dot(C).dot(A)) == 531"
      ],
      "metadata": {
        "id": "OXdmu18q-dZE"
      },
      "execution_count": 12,
      "outputs": []
    },
    {
      "cell_type": "markdown",
      "source": [
        "## References"
      ],
      "metadata": {
        "id": "pGcdv0qwjACO"
      }
    },
    {
      "cell_type": "markdown",
      "source": [
        "[Trace (linear algebra) - Wikipedia](https://en.wikipedia.org/wiki/Trace_(linear_algebra))\n",
        "\n",
        "[Numpy Trace operator](https://docs.scipy.org/doc/numpy/reference/generated/numpy.trace.html)"
      ],
      "metadata": {
        "id": "1vK_KJ_3jBKD"
      }
    }
  ]
}