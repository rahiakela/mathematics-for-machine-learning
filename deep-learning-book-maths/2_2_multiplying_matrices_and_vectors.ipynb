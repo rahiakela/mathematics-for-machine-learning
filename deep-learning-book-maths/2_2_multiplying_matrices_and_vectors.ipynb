{
  "nbformat": 4,
  "nbformat_minor": 0,
  "metadata": {
    "hide_code_all_hidden": false,
    "kernelspec": {
      "display_name": "Python 3",
      "language": "python",
      "name": "python3"
    },
    "language_info": {
      "codemirror_mode": {
        "name": "ipython",
        "version": 3
      },
      "file_extension": ".py",
      "mimetype": "text/x-python",
      "name": "python",
      "nbconvert_exporter": "python",
      "pygments_lexer": "ipython3",
      "version": "3.7.2"
    },
    "toc": {
      "base_numbering": 1,
      "nav_menu": {},
      "number_sections": false,
      "sideBar": true,
      "skip_h1_title": false,
      "title_cell": "Table of Contents",
      "title_sidebar": "Contents",
      "toc_cell": false,
      "toc_position": {},
      "toc_section_display": true,
      "toc_window_display": false
    },
    "colab": {
      "name": "2.2-multiplying-matrices-and-vectors.ipynb",
      "provenance": [],
      "toc_visible": true,
      "include_colab_link": true
    }
  },
  "cells": [
    {
      "cell_type": "markdown",
      "metadata": {
        "id": "view-in-github",
        "colab_type": "text"
      },
      "source": [
        "<a href=\"https://colab.research.google.com/github/rahiakela/deep-learning-book-maths/blob/main/2_2_multiplying_matrices_and_vectors.ipynb\" target=\"_parent\"><img src=\"https://colab.research.google.com/assets/colab-badge.svg\" alt=\"Open In Colab\"/></a>"
      ]
    },
    {
      "cell_type": "markdown",
      "metadata": {
        "id": "BlDsKSdAxfmM"
      },
      "source": [
        "# Introduction\n",
        "\n",
        "The dot product is a major concept of linear algebra and thus machine learning and data science. We will see some properties of this operation. Then, we will get some intuition on the link between matrices and systems of linear equations."
      ]
    },
    {
      "cell_type": "markdown",
      "metadata": {
        "id": "_nrcZTBb0sC-"
      },
      "source": [
        "# 2.2 Multiplying Matrices and Vectors"
      ]
    },
    {
      "cell_type": "markdown",
      "metadata": {
        "hideCode": false,
        "hidePrompt": false,
        "id": "OSMZxlEAxfmN"
      },
      "source": [
        "The standard way to multiply matrices is not to multiply each element of one with each element of the other (called the *element-wise product*) but to calculate the sum of the products between rows and columns. The matrix product, also called **dot product**, is calculated as following:\n",
        "\n",
        "<img src=\"https://github.com/rahiakela/deep-learning-book-maths/blob/main/images/dot-product.png?raw=1\" width=\"400\" alt=\"An example of how to calculate the dot product between a matrix and a vector\" title=\"The dot product between a matrix and a vector\">\n",
        "<em>The dot product between a matrix and a vector</em>\n",
        "\n",
        "The number of columns of the first matrix must be equal to the number of rows of the second matrix. If the dimensions of the first matrix is ($m \\times n$), the second matrix needs to be of shape ($n \\times x$). The resulting matrix will have the shape ($m \\times x$)."
      ]
    },
    {
      "cell_type": "markdown",
      "metadata": {
        "id": "o-83X-YM0wC7"
      },
      "source": [
        "### Example 1"
      ]
    },
    {
      "cell_type": "markdown",
      "metadata": {
        "id": "TVvUhfMHxfmO"
      },
      "source": [
        "Let's start with the multiplication of a matrix and a vector.\n",
        "\n",
        "$${A} {b} = {C}$$\n",
        "\n",
        "with $\n",
        "{A}=\n",
        "\\begin{bmatrix}\n",
        "    1 & 2\\\\\\\\\n",
        "    3 & 4\\\\\\\\\n",
        "    5 & 6\n",
        "\\end{bmatrix}\n",
        "$ and ${b}=\\begin{bmatrix}\n",
        "    2\\\\\\\\\n",
        "    4\n",
        "\\end{bmatrix}$.\n",
        "\n",
        "We saw that the formula is the following:\n",
        "\n",
        "$$\n",
        "\\begin{align*}\n",
        "&\\begin{bmatrix}\n",
        "    A_{1,1} & A_{1,2} \\\\\\\\\n",
        "    A_{2,1} & A_{2,2} \\\\\\\\\n",
        "    A_{3,1} & A_{3,2}\n",
        "\\end{bmatrix}\\times\n",
        "\\begin{bmatrix}\n",
        "    B_{1,1} \\\\\\\\\n",
        "    B_{2,1}\n",
        "\\end{bmatrix}=\\\\\\\\\n",
        "&\\begin{bmatrix}\n",
        "    A_{1,1}B_{1,1} + A_{1,2}B_{2,1} \\\\\\\\\n",
        "    A_{2,1}B_{1,1} + A_{2,2}B_{2,1} \\\\\\\\\n",
        "    A_{3,1}B_{1,1} + A_{3,2}B_{2,1}\n",
        "\\end{bmatrix}\n",
        "\\end{align*}\n",
        "$$\n",
        "\n",
        "So we will have:\n",
        "\n",
        "$$\n",
        "\\begin{align*}\n",
        "&\\begin{bmatrix}\n",
        "    1 & 2 \\\\\\\\\n",
        "    3 & 4 \\\\\\\\\n",
        "    5 & 6\n",
        "\\end{bmatrix}\n",
        "\\begin{bmatrix}\n",
        "    2 \\\\\\\\\n",
        "    4\n",
        "\\end{bmatrix}=\\\\\\\\\n",
        "&\\begin{bmatrix}\n",
        "    1 \\times 2 + 2 \\times 4 \\\\\\\\\n",
        "    3 \\times 2 + 4 \\times 4 \\\\\\\\\n",
        "    5 \\times 2 + 6 \\times 4\n",
        "\\end{bmatrix}=\n",
        "\\begin{bmatrix}\n",
        "    10 \\\\\\\\\n",
        "    22 \\\\\\\\\n",
        "    34\n",
        "\\end{bmatrix}\n",
        "\\end{align*}\n",
        "$$\n",
        "\n",
        "It is a good habit to check the dimensions of the matrix to see what is going on. We can see in this example that the shape of ${A}$ is ($3 \\times 2$) and the shape of ${b}$ is ($2 \\times 1$). So the dimensions of ${C}$ are ($3 \\times 1$)."
      ]
    },
    {
      "cell_type": "markdown",
      "metadata": {
        "hideCode": false,
        "hidePrompt": false,
        "id": "5bfvnbbsxfmQ"
      },
      "source": [
        "### With Numpy\n",
        "\n",
        "The Numpy function `dot()` can be used to compute the matrix product (or dot product). Let's try to reproduce the last exemple:"
      ]
    },
    {
      "cell_type": "code",
      "metadata": {
        "id": "eYl6vJlkx7EN"
      },
      "source": [
        "import numpy as np"
      ],
      "execution_count": null,
      "outputs": []
    },
    {
      "cell_type": "code",
      "metadata": {
        "hideCode": false,
        "hidePrompt": false,
        "id": "RRHeOgnkxfmQ",
        "colab": {
          "base_uri": "https://localhost:8080/"
        },
        "outputId": "effd2337-c774-4a43-833a-71bea38e78e3"
      },
      "source": [
        "A = np.array([[1, 2], [3, 4], [5, 6]])\n",
        "A"
      ],
      "execution_count": null,
      "outputs": [
        {
          "output_type": "execute_result",
          "data": {
            "text/plain": [
              "array([[1, 2],\n",
              "       [3, 4],\n",
              "       [5, 6]])"
            ]
          },
          "metadata": {
            "tags": []
          },
          "execution_count": 2
        }
      ]
    },
    {
      "cell_type": "code",
      "metadata": {
        "id": "7uscdkf3xfmR",
        "colab": {
          "base_uri": "https://localhost:8080/"
        },
        "outputId": "dce34cef-564c-420f-9c5c-818110301320"
      },
      "source": [
        "B = np.array([[2], [4]])\n",
        "B"
      ],
      "execution_count": null,
      "outputs": [
        {
          "output_type": "execute_result",
          "data": {
            "text/plain": [
              "array([[2],\n",
              "       [4]])"
            ]
          },
          "metadata": {
            "tags": []
          },
          "execution_count": 4
        }
      ]
    },
    {
      "cell_type": "code",
      "metadata": {
        "hideCode": false,
        "hidePrompt": false,
        "id": "-Sxej8ooxfmR",
        "colab": {
          "base_uri": "https://localhost:8080/"
        },
        "outputId": "4506932e-5ffa-4670-f1eb-44e50dabb149"
      },
      "source": [
        "C = np.dot(A, B)\n",
        "C"
      ],
      "execution_count": null,
      "outputs": [
        {
          "output_type": "execute_result",
          "data": {
            "text/plain": [
              "array([[10],\n",
              "       [22],\n",
              "       [34]])"
            ]
          },
          "metadata": {
            "tags": []
          },
          "execution_count": 5
        }
      ]
    },
    {
      "cell_type": "markdown",
      "metadata": {
        "id": "zh27GYQNxfmR"
      },
      "source": [
        "It is equivalent to use the method `dot()` of Numpy arrays:"
      ]
    },
    {
      "cell_type": "code",
      "metadata": {
        "id": "95q6ilW0xfmS",
        "colab": {
          "base_uri": "https://localhost:8080/"
        },
        "outputId": "d435d00b-815e-4cee-8b60-eb02628d4db0"
      },
      "source": [
        "C = A.dot(B)\n",
        "C"
      ],
      "execution_count": null,
      "outputs": [
        {
          "output_type": "execute_result",
          "data": {
            "text/plain": [
              "array([[10],\n",
              "       [22],\n",
              "       [34]])"
            ]
          },
          "metadata": {
            "tags": []
          },
          "execution_count": 6
        }
      ]
    },
    {
      "cell_type": "markdown",
      "metadata": {
        "id": "GzMUMgTs03eA"
      },
      "source": [
        "### Example 2"
      ]
    },
    {
      "cell_type": "markdown",
      "metadata": {
        "hideCode": false,
        "hidePrompt": false,
        "id": "AlVvggf8xfmS"
      },
      "source": [
        "Multiplication of two matrices.\n",
        "\n",
        "$${A} \\times {B} = {C}$$\n",
        "\n",
        "with:\n",
        "\n",
        "$${A}=\\begin{bmatrix}\n",
        "    1 & 2 & 3 \\\\\\\\\n",
        "    4 & 5 & 6 \\\\\\\\\n",
        "    7 & 8 & 9 \\\\\\\\\n",
        "    10 & 11 & 12\n",
        "\\end{bmatrix}\n",
        "$$\n",
        "\n",
        "and:\n",
        "\n",
        "$${B}=\\begin{bmatrix}\n",
        "    2 & 7 \\\\\\\\\n",
        "    1 & 2 \\\\\\\\\n",
        "    3 & 6\n",
        "\\end{bmatrix}\n",
        "$$\n",
        "\n",
        "So we have:\n",
        "\n",
        "$$\n",
        "\\begin{align*}\n",
        "&\\begin{bmatrix}\n",
        "    1 & 2 & 3 \\\\\\\\\n",
        "    4 & 5 & 6 \\\\\\\\\n",
        "    7 & 8 & 9 \\\\\\\\\n",
        "    10 & 11 & 12\n",
        "\\end{bmatrix}\n",
        "\\begin{bmatrix}\n",
        "    2 & 7 \\\\\\\\\n",
        "    1 & 2 \\\\\\\\\n",
        "    3 & 6\n",
        "\\end{bmatrix}=\\\\\\\\\n",
        "&\\begin{bmatrix}\n",
        "    2 \\times 1 + 1 \\times 2 + 3 \\times 3 & 7 \\times 1 + 2 \\times 2 + 6 \\times 3 \\\\\\\\\n",
        "    2 \\times 4 + 1 \\times 5 + 3 \\times 6 & 7 \\times 4 + 2 \\times 5 + 6 \\times 6 \\\\\\\\\n",
        "    2 \\times 7 + 1 \\times 8 + 3 \\times 9 & 7 \\times 7 + 2 \\times 8 + 6 \\times 9 \\\\\\\\\n",
        "    2 \\times 10 + 1 \\times 11 + 3 \\times 12 & 7 \\times 10 + 2 \\times 11 + 6 \\times 12 \\\\\\\\\n",
        "\\end{bmatrix}\\\\\\\\\n",
        "&=\n",
        "\\begin{bmatrix}\n",
        "    13 & 29 \\\\\\\\\n",
        "    31 & 74 \\\\\\\\\n",
        "    49 & 119 \\\\\\\\\n",
        "    67 & 164\n",
        "\\end{bmatrix}\n",
        "\\end{align*}\n",
        "$$\n",
        "\n",
        "Let's check the result with Numpy:"
      ]
    },
    {
      "cell_type": "code",
      "metadata": {
        "hideCode": false,
        "hidePrompt": false,
        "id": "HT6tbUeYxfmT",
        "colab": {
          "base_uri": "https://localhost:8080/"
        },
        "outputId": "30c2d148-4bbb-4e81-cab4-2bb7f1e17f89"
      },
      "source": [
        "A = np.array([[1, 2, 3], [4, 5, 6], [7, 8, 9], [10, 11, 12]])\n",
        "A"
      ],
      "execution_count": null,
      "outputs": [
        {
          "output_type": "execute_result",
          "data": {
            "text/plain": [
              "array([[ 1,  2,  3],\n",
              "       [ 4,  5,  6],\n",
              "       [ 7,  8,  9],\n",
              "       [10, 11, 12]])"
            ]
          },
          "metadata": {
            "tags": []
          },
          "execution_count": 7
        }
      ]
    },
    {
      "cell_type": "code",
      "metadata": {
        "id": "UEmUhkucxfmU",
        "colab": {
          "base_uri": "https://localhost:8080/"
        },
        "outputId": "c43db8dd-ced1-4695-da16-d1bc33284e3b"
      },
      "source": [
        "B = np.array([[2, 7], [1, 2], [3, 6]])\n",
        "B"
      ],
      "execution_count": null,
      "outputs": [
        {
          "output_type": "execute_result",
          "data": {
            "text/plain": [
              "array([[2, 7],\n",
              "       [1, 2],\n",
              "       [3, 6]])"
            ]
          },
          "metadata": {
            "tags": []
          },
          "execution_count": 8
        }
      ]
    },
    {
      "cell_type": "code",
      "metadata": {
        "hideCode": false,
        "hidePrompt": false,
        "id": "mR_WPjQ-xfmU",
        "colab": {
          "base_uri": "https://localhost:8080/"
        },
        "outputId": "8eb11ca9-b702-4a14-8d10-7a280946a1d2"
      },
      "source": [
        "C = A.dot(B)\n",
        "C"
      ],
      "execution_count": null,
      "outputs": [
        {
          "output_type": "execute_result",
          "data": {
            "text/plain": [
              "array([[ 13,  29],\n",
              "       [ 31,  74],\n",
              "       [ 49, 119],\n",
              "       [ 67, 164]])"
            ]
          },
          "metadata": {
            "tags": []
          },
          "execution_count": 9
        }
      ]
    },
    {
      "cell_type": "markdown",
      "metadata": {
        "hideCode": false,
        "hidePrompt": false,
        "id": "TW3Ro9mVxfmU"
      },
      "source": [
        "It works!"
      ]
    },
    {
      "cell_type": "markdown",
      "metadata": {
        "id": "VuijGGme1jCM"
      },
      "source": [
        "# Formalization of the dot product"
      ]
    },
    {
      "cell_type": "markdown",
      "metadata": {
        "id": "ZFlxoNIv1lCS"
      },
      "source": [
        "The dot product can be formalized through the following equation:\n",
        "\n",
        "$$\n",
        "C_{i,j} = A_{i,k}B_{k,j} = \\sum_{k}A_{i,k}B_{k,j}\n",
        "$$\n",
        "\n",
        "You can find more examples about the dot product [here](https://www.mathsisfun.com/algebra/matrix-multiplying.html)."
      ]
    },
    {
      "cell_type": "markdown",
      "metadata": {
        "id": "mDJFMWLD1vnb"
      },
      "source": [
        "# Properties of the dot product"
      ]
    },
    {
      "cell_type": "markdown",
      "metadata": {
        "id": "vk2sFGGv1273"
      },
      "source": [
        "We will now see some interesting properties of the dot product. Using simple examples for each property, we'll get used to the Numpy functions."
      ]
    },
    {
      "cell_type": "markdown",
      "metadata": {
        "id": "ircoGtpb13j4"
      },
      "source": [
        "## Matrix mutliplication is distributive"
      ]
    },
    {
      "cell_type": "markdown",
      "metadata": {
        "id": "B5HCH9vb1_Cw"
      },
      "source": [
        "$${A}({B}+{C}) = {AB}+{AC}$$"
      ]
    },
    {
      "cell_type": "markdown",
      "metadata": {
        "id": "9W8RIGRJ2Ad-"
      },
      "source": [
        "### Example 3"
      ]
    },
    {
      "cell_type": "markdown",
      "metadata": {
        "hideCode": false,
        "hidePrompt": false,
        "id": "3dwM1ULrxfmV"
      },
      "source": [
        "\n",
        "\n",
        "$$\n",
        "{A}=\\begin{bmatrix}\n",
        "    2 & 3 \\\\\\\\\n",
        "    1 & 4 \\\\\\\\\n",
        "    7 & 6\n",
        "\\end{bmatrix}, \n",
        "{B}=\\begin{bmatrix}\n",
        "    5 \\\\\\\\\n",
        "    2\n",
        "\\end{bmatrix}, \n",
        "{C}=\\begin{bmatrix}\n",
        "    4 \\\\\\\\\n",
        "    3\n",
        "\\end{bmatrix}\n",
        "$$\n",
        "\n",
        "\n",
        "$$\n",
        "\\begin{align*}\n",
        "{A}({B}+{C})&=\\begin{bmatrix}\n",
        "    2 & 3 \\\\\\\\\n",
        "    1 & 4 \\\\\\\\\n",
        "    7 & 6\n",
        "\\end{bmatrix}\\times\n",
        "\\left(\\begin{bmatrix}\n",
        "    5 \\\\\\\\\n",
        "    2\n",
        "\\end{bmatrix}+\n",
        "\\begin{bmatrix}\n",
        "    4 \\\\\\\\\n",
        "    3\n",
        "\\end{bmatrix}\\right)=\n",
        "\\begin{bmatrix}\n",
        "    2 & 3 \\\\\\\\\n",
        "    1 & 4 \\\\\\\\\n",
        "    7 & 6\n",
        "\\end{bmatrix}\\times\n",
        "\\begin{bmatrix}\n",
        "    9 \\\\\\\\\n",
        "    5\n",
        "\\end{bmatrix}\\\\\\\\\n",
        "&=\n",
        "\\begin{bmatrix}\n",
        "    2 \\times 9 + 3 \\times 5 \\\\\\\\\n",
        "    1 \\times 9 + 4 \\times 5 \\\\\\\\\n",
        "    7 \\times 9 + 6 \\times 5\n",
        "\\end{bmatrix}=\n",
        "\\begin{bmatrix}\n",
        "    33 \\\\\\\\\n",
        "    29 \\\\\\\\\n",
        "    93\n",
        "\\end{bmatrix}\n",
        "\\end{align*}\n",
        "$$\n",
        "\n",
        "is equivalent to\n",
        "\n",
        "$$\n",
        "\\begin{align*}\n",
        "{A}{B}+{A}{C} &= \\begin{bmatrix}\n",
        "    2 & 3 \\\\\\\\\n",
        "    1 & 4 \\\\\\\\\n",
        "    7 & 6\n",
        "\\end{bmatrix}\\times\n",
        "\\begin{bmatrix}\n",
        "    5 \\\\\\\\\n",
        "    2\n",
        "\\end{bmatrix}+\n",
        "\\begin{bmatrix}\n",
        "    2 & 3 \\\\\\\\\n",
        "    1 & 4 \\\\\\\\\n",
        "    7 & 6\n",
        "\\end{bmatrix}\\times\n",
        "\\begin{bmatrix}\n",
        "    4 \\\\\\\\\n",
        "    3\n",
        "\\end{bmatrix}\\\\\\\\\n",
        "&=\n",
        "\\begin{bmatrix}\n",
        "    2 \\times 5 + 3 \\times 2 \\\\\\\\\n",
        "    1 \\times 5 + 4 \\times 2 \\\\\\\\\n",
        "    7 \\times 5 + 6 \\times 2\n",
        "\\end{bmatrix}+\n",
        "\\begin{bmatrix}\n",
        "    2 \\times 4 + 3 \\times 3 \\\\\\\\\n",
        "    1 \\times 4 + 4 \\times 3 \\\\\\\\\n",
        "    7 \\times 4 + 6 \\times 3\n",
        "\\end{bmatrix}\\\\\\\\\n",
        "&=\n",
        "\\begin{bmatrix}\n",
        "    16 \\\\\\\\\n",
        "    13 \\\\\\\\\n",
        "    47\n",
        "\\end{bmatrix}+\n",
        "\\begin{bmatrix}\n",
        "    17 \\\\\\\\\n",
        "    16 \\\\\\\\\n",
        "    46\n",
        "\\end{bmatrix}=\n",
        "\\begin{bmatrix}\n",
        "    33 \\\\\\\\\n",
        "    29 \\\\\\\\\n",
        "    93\n",
        "\\end{bmatrix}\n",
        "\\end{align*}\n",
        "$$"
      ]
    },
    {
      "cell_type": "code",
      "metadata": {
        "hideCode": false,
        "hidePrompt": false,
        "id": "Ded1BRE4xfmV",
        "colab": {
          "base_uri": "https://localhost:8080/"
        },
        "outputId": "3f4bc008-82e5-4dfb-9cf0-e2043ec973cb"
      },
      "source": [
        "A = np.array([[2, 3], [1, 4], [7, 6]])\n",
        "A"
      ],
      "execution_count": null,
      "outputs": [
        {
          "output_type": "execute_result",
          "data": {
            "text/plain": [
              "array([[2, 3],\n",
              "       [1, 4],\n",
              "       [7, 6]])"
            ]
          },
          "metadata": {
            "tags": []
          },
          "execution_count": 10
        }
      ]
    },
    {
      "cell_type": "code",
      "metadata": {
        "id": "exIEXQMexfmW",
        "colab": {
          "base_uri": "https://localhost:8080/"
        },
        "outputId": "77c2f139-42d9-46a8-a56c-6f893e31c58b"
      },
      "source": [
        "B = np.array([[5], [2]])\n",
        "B"
      ],
      "execution_count": null,
      "outputs": [
        {
          "output_type": "execute_result",
          "data": {
            "text/plain": [
              "array([[5],\n",
              "       [2]])"
            ]
          },
          "metadata": {
            "tags": []
          },
          "execution_count": 11
        }
      ]
    },
    {
      "cell_type": "code",
      "metadata": {
        "hideCode": false,
        "hidePrompt": false,
        "id": "denLHvcRxfmW",
        "colab": {
          "base_uri": "https://localhost:8080/"
        },
        "outputId": "bde3464f-a90c-4cfe-9538-cf1a0f144570"
      },
      "source": [
        "C = np.array([[4], [3]])\n",
        "C"
      ],
      "execution_count": null,
      "outputs": [
        {
          "output_type": "execute_result",
          "data": {
            "text/plain": [
              "array([[4],\n",
              "       [3]])"
            ]
          },
          "metadata": {
            "tags": []
          },
          "execution_count": 12
        }
      ]
    },
    {
      "cell_type": "markdown",
      "metadata": {
        "id": "-HnyYV-AxfmW"
      },
      "source": [
        "${A}({B}+{C})$:"
      ]
    },
    {
      "cell_type": "code",
      "metadata": {
        "hideCode": false,
        "hidePrompt": false,
        "id": "1NwuIF-nxfmX",
        "colab": {
          "base_uri": "https://localhost:8080/"
        },
        "outputId": "c04db16f-5b75-400c-b750-4c0c9cf0f3e6"
      },
      "source": [
        "D = A.dot(B+C)\n",
        "D"
      ],
      "execution_count": null,
      "outputs": [
        {
          "output_type": "execute_result",
          "data": {
            "text/plain": [
              "array([[33],\n",
              "       [29],\n",
              "       [93]])"
            ]
          },
          "metadata": {
            "tags": []
          },
          "execution_count": 13
        }
      ]
    },
    {
      "cell_type": "markdown",
      "metadata": {
        "id": "U6ySxMLtxfmX"
      },
      "source": [
        "is equivalent to ${AB}+{AC}$:"
      ]
    },
    {
      "cell_type": "code",
      "metadata": {
        "hideCode": false,
        "hidePrompt": false,
        "id": "8xHSOJ54xfmX",
        "colab": {
          "base_uri": "https://localhost:8080/"
        },
        "outputId": "274fde60-299b-4e0f-9196-c6c48b7dd472"
      },
      "source": [
        "D = A.dot(B) + A.dot(C)\n",
        "D"
      ],
      "execution_count": null,
      "outputs": [
        {
          "output_type": "execute_result",
          "data": {
            "text/plain": [
              "array([[33],\n",
              "       [29],\n",
              "       [93]])"
            ]
          },
          "metadata": {
            "tags": []
          },
          "execution_count": 14
        }
      ]
    },
    {
      "cell_type": "markdown",
      "metadata": {
        "hideCode": false,
        "hidePrompt": false,
        "id": "cax_O4T9xfmY"
      },
      "source": [
        "## Matrix mutliplication is associative\n",
        "\n",
        "$${A}({BC}) = ({AB}){C}$$\n"
      ]
    },
    {
      "cell_type": "markdown",
      "metadata": {
        "id": "1ZQogOto3KlL"
      },
      "source": [
        "###Example 4"
      ]
    },
    {
      "cell_type": "code",
      "metadata": {
        "hideCode": false,
        "hidePrompt": false,
        "id": "hvhKSZlYxfmY",
        "colab": {
          "base_uri": "https://localhost:8080/"
        },
        "outputId": "9a43742f-2fc8-42ba-a727-61c9b0e94d8d"
      },
      "source": [
        "A = np.array([[2, 3], [1, 4], [7, 6]])\n",
        "A"
      ],
      "execution_count": null,
      "outputs": [
        {
          "output_type": "execute_result",
          "data": {
            "text/plain": [
              "array([[2, 3],\n",
              "       [1, 4],\n",
              "       [7, 6]])"
            ]
          },
          "metadata": {
            "tags": []
          },
          "execution_count": 15
        }
      ]
    },
    {
      "cell_type": "code",
      "metadata": {
        "id": "ZDxWTeZxxfmY",
        "colab": {
          "base_uri": "https://localhost:8080/"
        },
        "outputId": "9b0c3563-dc93-4bfc-8f5b-0f106d7cc04d"
      },
      "source": [
        "B = np.array([[5, 3], [2, 2]])\n",
        "B"
      ],
      "execution_count": null,
      "outputs": [
        {
          "output_type": "execute_result",
          "data": {
            "text/plain": [
              "array([[5, 3],\n",
              "       [2, 2]])"
            ]
          },
          "metadata": {
            "tags": []
          },
          "execution_count": 16
        }
      ]
    },
    {
      "cell_type": "markdown",
      "metadata": {
        "id": "ojdXSNJQxfmY"
      },
      "source": [
        "${A}({BC})$:\n"
      ]
    },
    {
      "cell_type": "code",
      "metadata": {
        "hideCode": false,
        "hidePrompt": false,
        "id": "oBCFDIkpxfmZ",
        "colab": {
          "base_uri": "https://localhost:8080/"
        },
        "outputId": "7d270199-7342-470e-9139-657a5c993063"
      },
      "source": [
        "D = A.dot(B.dot(C))\n",
        "D"
      ],
      "execution_count": null,
      "outputs": [
        {
          "output_type": "execute_result",
          "data": {
            "text/plain": [
              "array([[100],\n",
              "       [ 85],\n",
              "       [287]])"
            ]
          },
          "metadata": {
            "tags": []
          },
          "execution_count": 17
        }
      ]
    },
    {
      "cell_type": "markdown",
      "metadata": {
        "id": "kjkpnSU1xfmZ"
      },
      "source": [
        "is equivalent to $({AB}){C}$:"
      ]
    },
    {
      "cell_type": "code",
      "metadata": {
        "hideCode": false,
        "hidePrompt": false,
        "id": "-Nh96rjoxfmZ",
        "colab": {
          "base_uri": "https://localhost:8080/"
        },
        "outputId": "849d61bf-edf4-4f73-816c-d8ddcd6853d2"
      },
      "source": [
        "D = (A.dot(B)).dot(C)\n",
        "D"
      ],
      "execution_count": null,
      "outputs": [
        {
          "output_type": "execute_result",
          "data": {
            "text/plain": [
              "array([[100],\n",
              "       [ 85],\n",
              "       [287]])"
            ]
          },
          "metadata": {
            "tags": []
          },
          "execution_count": 18
        }
      ]
    },
    {
      "cell_type": "markdown",
      "metadata": {
        "hideCode": false,
        "hidePrompt": false,
        "id": "WY8D2lxixfmZ"
      },
      "source": [
        "## Matrix multiplication is not commutative\n",
        "\n",
        "$${AB} \\neq {BA}$$"
      ]
    },
    {
      "cell_type": "markdown",
      "metadata": {
        "id": "4mDp997k3S4Q"
      },
      "source": [
        "### Example 5"
      ]
    },
    {
      "cell_type": "code",
      "metadata": {
        "hideCode": false,
        "hidePrompt": false,
        "id": "gux7cO-TxfmZ",
        "colab": {
          "base_uri": "https://localhost:8080/"
        },
        "outputId": "b2061913-87b7-492f-f17d-2fb564f02dae"
      },
      "source": [
        "A = np.array([[2, 3], [6, 5]])\n",
        "A"
      ],
      "execution_count": null,
      "outputs": [
        {
          "output_type": "execute_result",
          "data": {
            "text/plain": [
              "array([[2, 3],\n",
              "       [6, 5]])"
            ]
          },
          "metadata": {
            "tags": []
          },
          "execution_count": 19
        }
      ]
    },
    {
      "cell_type": "code",
      "metadata": {
        "id": "R_-pLrDDxfma",
        "colab": {
          "base_uri": "https://localhost:8080/"
        },
        "outputId": "710e9666-3a9e-4c2f-f906-e2975ae04965"
      },
      "source": [
        "B = np.array([[5, 3], [2, 2]])\n",
        "B"
      ],
      "execution_count": null,
      "outputs": [
        {
          "output_type": "execute_result",
          "data": {
            "text/plain": [
              "array([[5, 3],\n",
              "       [2, 2]])"
            ]
          },
          "metadata": {
            "tags": []
          },
          "execution_count": 20
        }
      ]
    },
    {
      "cell_type": "markdown",
      "metadata": {
        "id": "RTgg2S4Txfma"
      },
      "source": [
        "${AB}$:"
      ]
    },
    {
      "cell_type": "code",
      "metadata": {
        "hideCode": false,
        "hidePrompt": false,
        "id": "LFx6_njtxfma",
        "colab": {
          "base_uri": "https://localhost:8080/"
        },
        "outputId": "204330ae-b596-4340-e722-2b31633132c0"
      },
      "source": [
        "AB = np.dot(A, B)\n",
        "AB"
      ],
      "execution_count": null,
      "outputs": [
        {
          "output_type": "execute_result",
          "data": {
            "text/plain": [
              "array([[16, 12],\n",
              "       [40, 28]])"
            ]
          },
          "metadata": {
            "tags": []
          },
          "execution_count": 21
        }
      ]
    },
    {
      "cell_type": "markdown",
      "metadata": {
        "id": "JLGXsPjxxfma"
      },
      "source": [
        "is different from ${BA}$:"
      ]
    },
    {
      "cell_type": "code",
      "metadata": {
        "hideCode": false,
        "hidePrompt": false,
        "id": "T7jpOjB5xfmb",
        "colab": {
          "base_uri": "https://localhost:8080/"
        },
        "outputId": "b5c97b59-c3d3-4988-9bd4-1c4447bf2dba"
      },
      "source": [
        "BA = np.dot(B, A)\n",
        "BA"
      ],
      "execution_count": null,
      "outputs": [
        {
          "output_type": "execute_result",
          "data": {
            "text/plain": [
              "array([[28, 30],\n",
              "       [16, 16]])"
            ]
          },
          "metadata": {
            "tags": []
          },
          "execution_count": 22
        }
      ]
    },
    {
      "cell_type": "markdown",
      "metadata": {
        "hideCode": false,
        "hidePrompt": false,
        "id": "hT5lKP7Hxfmb"
      },
      "source": [
        "## However vector multiplication is commutative\n",
        "\n",
        "$${x^{ \\text{T}}y} = {y^{\\text{T}}x} $$"
      ]
    },
    {
      "cell_type": "markdown",
      "metadata": {
        "id": "_3EK2HzT3epv"
      },
      "source": [
        "###Example 6"
      ]
    },
    {
      "cell_type": "code",
      "metadata": {
        "hideCode": false,
        "hidePrompt": false,
        "id": "-K5tdmOXxfmb",
        "colab": {
          "base_uri": "https://localhost:8080/"
        },
        "outputId": "86627bcc-ca78-465d-a18e-cdc5a139979c"
      },
      "source": [
        "x = np.array([[2], [6]])\n",
        "x"
      ],
      "execution_count": null,
      "outputs": [
        {
          "output_type": "execute_result",
          "data": {
            "text/plain": [
              "array([[2],\n",
              "       [6]])"
            ]
          },
          "metadata": {
            "tags": []
          },
          "execution_count": 23
        }
      ]
    },
    {
      "cell_type": "code",
      "metadata": {
        "id": "vytRu_oGxfmb",
        "colab": {
          "base_uri": "https://localhost:8080/"
        },
        "outputId": "c5f9c3a9-602a-463c-a3b9-b6b878dea1fe"
      },
      "source": [
        "y = np.array([[5], [2]])\n",
        "y"
      ],
      "execution_count": null,
      "outputs": [
        {
          "output_type": "execute_result",
          "data": {
            "text/plain": [
              "array([[5],\n",
              "       [2]])"
            ]
          },
          "metadata": {
            "tags": []
          },
          "execution_count": 24
        }
      ]
    },
    {
      "cell_type": "markdown",
      "metadata": {
        "id": "BskBC13kxfmc"
      },
      "source": [
        "${x^\\text{T}y}$:"
      ]
    },
    {
      "cell_type": "code",
      "metadata": {
        "hideCode": false,
        "hidePrompt": false,
        "id": "tzJYIF8mxfmc",
        "colab": {
          "base_uri": "https://localhost:8080/"
        },
        "outputId": "0c067ae3-ca83-454d-fb36-d73d46743987"
      },
      "source": [
        "x_ty = x.T.dot(y)\n",
        "x_ty"
      ],
      "execution_count": null,
      "outputs": [
        {
          "output_type": "execute_result",
          "data": {
            "text/plain": [
              "array([[22]])"
            ]
          },
          "metadata": {
            "tags": []
          },
          "execution_count": 25
        }
      ]
    },
    {
      "cell_type": "markdown",
      "metadata": {
        "id": "weuvblL_xfmc"
      },
      "source": [
        "is equivalent to ${y^\\text{T}x}$:"
      ]
    },
    {
      "cell_type": "code",
      "metadata": {
        "hideCode": false,
        "hidePrompt": false,
        "id": "8H7kSwqnxfmc",
        "colab": {
          "base_uri": "https://localhost:8080/"
        },
        "outputId": "18b5b0c3-4df5-4df5-c994-b8de7336e53e"
      },
      "source": [
        "y_tx = y.T.dot(x)\n",
        "y_tx"
      ],
      "execution_count": null,
      "outputs": [
        {
          "output_type": "execute_result",
          "data": {
            "text/plain": [
              "array([[22]])"
            ]
          },
          "metadata": {
            "tags": []
          },
          "execution_count": 26
        }
      ]
    },
    {
      "cell_type": "markdown",
      "metadata": {
        "hideCode": false,
        "hidePrompt": false,
        "id": "wKXG9pR8xfmc"
      },
      "source": [
        "## Simplification of the matrix product\n",
        "\n",
        "$$({AB})^{\\text{T}} = {B}^\\text{T}{A}^\\text{T}$$"
      ]
    },
    {
      "cell_type": "markdown",
      "metadata": {
        "id": "vj-ZvFD430i2"
      },
      "source": [
        "###Example 7"
      ]
    },
    {
      "cell_type": "code",
      "metadata": {
        "hideCode": false,
        "hidePrompt": false,
        "id": "EfVbb5eUxfmd",
        "colab": {
          "base_uri": "https://localhost:8080/"
        },
        "outputId": "b7b3e0d4-2ac2-4e7a-fbcd-789659cdb001"
      },
      "source": [
        "A = np.array([[2, 3], [1, 4], [7, 6]])\n",
        "A"
      ],
      "execution_count": null,
      "outputs": [
        {
          "output_type": "execute_result",
          "data": {
            "text/plain": [
              "array([[2, 3],\n",
              "       [1, 4],\n",
              "       [7, 6]])"
            ]
          },
          "metadata": {
            "tags": []
          },
          "execution_count": 27
        }
      ]
    },
    {
      "cell_type": "code",
      "metadata": {
        "id": "rmdhOYjzxfmd",
        "colab": {
          "base_uri": "https://localhost:8080/"
        },
        "outputId": "d756802c-2fd9-4a2f-fb5c-40de84750a13"
      },
      "source": [
        "B = np.array([[5, 3], [2, 2]])\n",
        "B"
      ],
      "execution_count": null,
      "outputs": [
        {
          "output_type": "execute_result",
          "data": {
            "text/plain": [
              "array([[5, 3],\n",
              "       [2, 2]])"
            ]
          },
          "metadata": {
            "tags": []
          },
          "execution_count": 28
        }
      ]
    },
    {
      "cell_type": "markdown",
      "metadata": {
        "hideCode": false,
        "hidePrompt": false,
        "id": "Yzq29NHrxfmd"
      },
      "source": [
        "$({AB})^{\\text{T}}$:"
      ]
    },
    {
      "cell_type": "code",
      "metadata": {
        "hideCode": false,
        "hidePrompt": false,
        "id": "2nywVh18xfmd",
        "colab": {
          "base_uri": "https://localhost:8080/"
        },
        "outputId": "6039d1cc-50c6-4395-d3d2-80a53140fe83"
      },
      "source": [
        "AB_t = A.dot(B).T\n",
        "AB_t"
      ],
      "execution_count": null,
      "outputs": [
        {
          "output_type": "execute_result",
          "data": {
            "text/plain": [
              "array([[16, 13, 47],\n",
              "       [12, 11, 33]])"
            ]
          },
          "metadata": {
            "tags": []
          },
          "execution_count": 29
        }
      ]
    },
    {
      "cell_type": "markdown",
      "metadata": {
        "hideCode": false,
        "hidePrompt": false,
        "id": "PdUN1QbJxfme"
      },
      "source": [
        "is equivalent to ${B}^\\text{T}{A}^\\text{T}$:"
      ]
    },
    {
      "cell_type": "code",
      "metadata": {
        "hideCode": false,
        "hidePrompt": false,
        "scrolled": true,
        "id": "EUb3YpoNxfme",
        "colab": {
          "base_uri": "https://localhost:8080/"
        },
        "outputId": "bb0acd2b-c3df-4abd-db7d-12e22f299bfd"
      },
      "source": [
        "B_tA = B.T.dot(A.T)\n",
        "B_tA"
      ],
      "execution_count": null,
      "outputs": [
        {
          "output_type": "execute_result",
          "data": {
            "text/plain": [
              "array([[16, 13, 47],\n",
              "       [12, 11, 33]])"
            ]
          },
          "metadata": {
            "tags": []
          },
          "execution_count": 30
        }
      ]
    },
    {
      "cell_type": "markdown",
      "metadata": {
        "id": "acOOnWeC4AJC"
      },
      "source": [
        "# System of linear equations"
      ]
    },
    {
      "cell_type": "markdown",
      "metadata": {
        "hideCode": false,
        "hidePrompt": false,
        "id": "BPpE06f_xfme"
      },
      "source": [
        "This is an important part of why linear algebra can be very useful to solve a large variety of problems. Here we will see that it can be used to represent systems of equations.\n",
        "\n",
        "A system of equations is a set of multiple equations (at least 1). For instance we could have:\n",
        "\n",
        "<div>\n",
        "$\n",
        "\\begin{cases}\n",
        "y = 2x + 1 \\\\\\\n",
        "y = \\frac{7}{2}x +3\n",
        "\\end{cases}\n",
        "$\n",
        "</div>\n",
        "\n",
        "It is defined by its number of equations and its number of unknowns. In this example, there are 2 equations (the first and the second line) and 2 unknowns ($x$ and $y$). In addition we call this a system of **linear** equations because each equation is linear. We can represent that in 2 dimensions: we have one straight line per equation and dimensions correspond to the unknowns. Here is the plot of the first equation:\n",
        "\n",
        "<img src=\"https://github.com/rahiakela/deep-learning-book-maths/blob/main/images/plot-linear-equation.png?raw=1\" width=\"300\" alt=\"Representation of a line from an equation\" title=\"Plot of a linear equation\">\n",
        "\n",
        "**Representation of a linear equation**:\n",
        "<span class='pquote'>\n",
        "    In our system of equations, the unknowns are the dimensions and the number of equations is the number of lines (in 2D) or $n$-dimensional planes.\n",
        "</span>"
      ]
    },
    {
      "cell_type": "markdown",
      "metadata": {
        "id": "garTFcot6XUP"
      },
      "source": [
        "## Using matrices to describe the system"
      ]
    },
    {
      "cell_type": "markdown",
      "metadata": {
        "id": "bKY7VeZhxfme"
      },
      "source": [
        "Matrices can be used to describe a system of linear equations of the form ${Ax}={b}$. Here is such a system:\n",
        "\n",
        "$$\n",
        "A_{1,1}x_1 + A_{1,2}x_2 + A_{1,n}x_n = b_1 \\\\\\\\\n",
        "A_{2,1}x_1 + A_{2,2}x_2 + A_{2,n}x_n = b_2 \\\\\\\\\n",
        "\\cdots \\\\\\\\\n",
        "A_{m,1}x_1 + A_{m,2}x_2 + A_{m,n}x_n = b_n\n",
        "$$\n",
        "\n",
        "The unknowns (what we want to find to solve the system) are the variables $x_1$ and $x_2$. It is exactly the same form as with the last example but with all the variables on the same side. $y = 2x + 1$ becomes $-2x + y = 1$ with $x$ corresponding to $x_1$ and $y$ corresponding to $x_2$. We will have $n$ unknowns and $m$ equations.\n",
        "\n",
        "The variables are named $x_1, x_2, \\cdots, x_n$ by convention because we will see that it can be summarised in the vector ${x}$."
      ]
    },
    {
      "cell_type": "markdown",
      "metadata": {
        "id": "GwZkZAM26w35"
      },
      "source": [
        "### Left-hand side"
      ]
    },
    {
      "cell_type": "markdown",
      "metadata": {
        "id": "tRq9GwNq6xDY"
      },
      "source": [
        "The left-hand side can be considered as the product of a matrix ${A}$ containing weights for each variable ($n$ columns) and each equation ($m$ rows):\n",
        "\n",
        "<div>\n",
        "$\n",
        "{A}=\n",
        "\\begin{bmatrix}\n",
        "    A_{1,1} & A_{1,2} & \\cdots & A_{1,n} \\\\\\\n",
        "    A_{2,1} & A_{2,2} & \\cdots & A_{2,n} \\\\\\\n",
        "    \\cdots & \\cdots & \\cdots & \\cdots \\\\\\\n",
        "    A_{m,1} & A_{m,2} & \\cdots & A_{m,n}\n",
        "\\end{bmatrix}\n",
        "$\n",
        "</div>\n",
        "\n",
        "with a vector ${x}$ containing the $n$ unknowns\n",
        "\n",
        "<div>\n",
        "$\n",
        "{x}=\n",
        "\\begin{bmatrix}\n",
        "    x_1 \\\\\\\n",
        "    x_2 \\\\\\\n",
        "    \\cdots \\\\\\\n",
        "    x_n\n",
        "\\end{bmatrix}\n",
        "$\n",
        "</div>\n",
        "\n",
        "The dot product of ${A}$ and ${x}$ gives a set of equations. Here is a simple example:\n",
        "\n",
        "<img src=\"https://github.com/rahiakela/deep-learning-book-maths/blob/main/images/system-linear-equations-matrix-form.png?raw=1\" width=\"400\" alt=\"Matrix form of a system of linear equation\" title=\"Matrix form of a system of linear equation\">\n",
        "\n",
        "<em>Matrix form of a system of linear equations</em>\n",
        "\n",
        "We have a set of two equations with two unknowns. So the number of rows of ${A}$ gives the number of equations and the number of columns gives the number of unknowns."
      ]
    },
    {
      "cell_type": "markdown",
      "metadata": {
        "id": "EDLNYPpp63dQ"
      },
      "source": [
        "### Both sides"
      ]
    },
    {
      "cell_type": "markdown",
      "metadata": {
        "id": "G_cBa7lv63rh"
      },
      "source": [
        "The equation system can be wrote like that:\n",
        "\n",
        "$$\n",
        "\\begin{bmatrix}\n",
        "    A_{1,1} & A_{1,2} & \\cdots & A_{1,n} \\\\\\\\\n",
        "    A_{2,1} & A_{2,2} & \\cdots & A_{2,n} \\\\\\\\\n",
        "    \\cdots & \\cdots & \\cdots & \\cdots \\\\\\\\\n",
        "    A_{m,1} & A_{m,2} & \\cdots & A_{m,n}\n",
        "\\end{bmatrix}\n",
        "\\begin{bmatrix}\n",
        "    x_1 \\\\\\\\\n",
        "    x_2 \\\\\\\\\n",
        "    \\cdots \\\\\\\\\n",
        "    x_n\n",
        "\\end{bmatrix}\n",
        "=\n",
        "\\begin{bmatrix}\n",
        "    b_1 \\\\\\\\\n",
        "    b_2 \\\\\\\\\n",
        "    \\cdots \\\\\\\\\n",
        "    b_m\n",
        "\\end{bmatrix}\n",
        "$$\n",
        "\n",
        "Or simply:\n",
        "\n",
        "$${Ax}={b}$$"
      ]
    },
    {
      "cell_type": "markdown",
      "metadata": {
        "id": "k98qKnzN68gx"
      },
      "source": [
        "### Example 8"
      ]
    },
    {
      "cell_type": "markdown",
      "metadata": {
        "id": "4cVaf1E-xfmf"
      },
      "source": [
        "We will try to convert the common form of a linear equation $y=ax+b$ to the matrix form. If we want to keep the previous notation we will have instead:\n",
        "\n",
        "<div>\n",
        "$x_2=ax_1+b$\n",
        "</div>\n",
        "\n",
        "Don't confuse the variable $x_1$ and $x_2$ with the vector ${x}$. This vector contains all the variables of our equations:\n",
        "\n",
        "<div>\n",
        "$\n",
        "{x} =\n",
        "\\begin{bmatrix}\n",
        "    x_1 \\\\\\\n",
        "    x_2\n",
        "\\end{bmatrix}\n",
        "$\n",
        "</div>\n",
        "\n",
        "In this example we will use the following equation:\n",
        "\n",
        "<div>\n",
        "$\n",
        "\\begin{aligned}\n",
        "&x_2=2x_1+1 \\\\\\\n",
        "\\Leftrightarrow& 2x_1-x_2=-1\n",
        "\\end{aligned}\n",
        "$\n",
        "</div>\n",
        "\n",
        "In order to end up with this system when we multiply ${A}$ and ${x}$ we need ${A}$ to be a matrix containing the weights of each variable. The weight of $x_1$ is $2$ and the weights of $x_2$ is $-1$:\n",
        "\n",
        "<div>\n",
        "$\n",
        "{A}=\n",
        "\\begin{bmatrix}\n",
        "    2 & -1\n",
        "\\end{bmatrix}\n",
        "$\n",
        "</div>\n",
        "\n",
        "So we have\n",
        "\n",
        "<div>\n",
        "$\n",
        "\\begin{bmatrix}\n",
        "    2 & -1\n",
        "\\end{bmatrix}\n",
        "\\begin{bmatrix}\n",
        "    x_1 \\\\\\\n",
        "    x_2\n",
        "\\end{bmatrix}\n",
        "=\n",
        "\\begin{bmatrix}\n",
        "2x_1-1x_2\n",
        "\\end{bmatrix}\n",
        "$\n",
        "</div>\n",
        "\n",
        "To complete the equation we have\n",
        "\n",
        "<div>\n",
        "$\n",
        "{b}=\n",
        "\\begin{bmatrix}\n",
        "    -1\n",
        "\\end{bmatrix}\n",
        "$\n",
        "</div>\n",
        "\n",
        "which gives\n",
        "\n",
        "<div>\n",
        "$\n",
        "\\begin{bmatrix}\n",
        "    2 & -1\n",
        "\\end{bmatrix}\n",
        "\\begin{bmatrix}\n",
        "    x_1 \\\\\\\n",
        "    x_2\n",
        "\\end{bmatrix}\n",
        "=\n",
        "\\begin{bmatrix}\n",
        "    -1\n",
        "\\end{bmatrix}\n",
        "$\n",
        "</div>\n",
        "\n",
        "This system of equations is thus very simple and contains only 1 equation (${A}$ has 1 row) and 2 variables (${A}$ has 2 columns).\n",
        "\n",
        "To summarise, ${A}$ will be a matrix of dimensions $m\\times n$ containing scalars multiplying these variables (here $x_1$ is multiplied by 2 and $x_2$ by -1). The vector ${x}$ contains the variables $x_1$ and $x_2$. And the right-hand side is the constant ${b}$:\n",
        "\n",
        "<div>\n",
        "$\n",
        "{A}=\n",
        "\\begin{bmatrix}\n",
        "    2 & -1\n",
        "\\end{bmatrix}\n",
        "$\n",
        "</div>\n",
        "\n",
        "<div>\n",
        "$\n",
        "{x}=\n",
        "\\begin{bmatrix}\n",
        "    x_1 \\\\\\\n",
        "    x_2\n",
        "\\end{bmatrix}\n",
        "$\n",
        "</div>\n",
        "\n",
        "<div>\n",
        "$\n",
        "{b}=\n",
        "\\begin{bmatrix}\n",
        "    -1\n",
        "\\end{bmatrix}\n",
        "$\n",
        "</div>\n",
        "\n",
        "We can write this system\n",
        "\n",
        "<div>\n",
        "$\n",
        "{Ax}={b}\n",
        "$\n",
        "</div>\n",
        "\n",
        "This is a compact way of writing sets of linear equations can be very usefull. It provides a way to solve the equations."
      ]
    },
    {
      "cell_type": "markdown",
      "metadata": {
        "id": "3TRnwyZexfmg"
      },
      "source": [
        "# References\n",
        "\n",
        "- [Math is fun - Multiplying matrices](https://www.mathsisfun.com/algebra/matrix-multiplying.html)"
      ]
    }
  ]
}