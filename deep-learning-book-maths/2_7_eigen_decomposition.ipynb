{
  "nbformat": 4,
  "nbformat_minor": 0,
  "metadata": {
    "colab": {
      "name": "2.7-eigen-decomposition.ipynb",
      "provenance": [],
      "toc_visible": true,
      "authorship_tag": "ABX9TyMlewTvZRGAJmQmULxa81/4",
      "include_colab_link": true
    },
    "kernelspec": {
      "name": "python3",
      "display_name": "Python 3"
    },
    "language_info": {
      "name": "python"
    }
  },
  "cells": [
    {
      "cell_type": "markdown",
      "metadata": {
        "id": "view-in-github",
        "colab_type": "text"
      },
      "source": [
        "<a href=\"https://colab.research.google.com/github/rahiakela/mathematics-for-machine-learning/blob/main/deep-learning-book-maths/2_7_eigen_decomposition.ipynb\" target=\"_parent\"><img src=\"https://colab.research.google.com/assets/colab-badge.svg\" alt=\"Open In Colab\"/></a>"
      ]
    },
    {
      "cell_type": "markdown",
      "source": [
        "##2.7 Eigendecomposition"
      ],
      "metadata": {
        "id": "IKtQpuOAWn8Y"
      }
    },
    {
      "cell_type": "markdown",
      "source": [
        "We will see some major concepts of linear algebra in this chapter. It is also quite heavy so hang on! We will start with getting some ideas on eigenvectors and eigenvalues. We will develop on the idea that a matrix can be seen as a linear transformation and that applying a matrix on its eigenvectors gives new vectors with the same direction. Then we will see how to express quadratic equations into the matrix form. \n",
        "\n",
        "We will see that the eigendecomposition of the matrix corresponding to a quadratic equation can be used to find the minimum and maximum of this function. As a bonus, we will also see how to visualize linear transformations in Python!\n",
        "\n",
        "The eigendecomposition is one form of matrix decomposition. Decomposing a matrix means that we want to find a product of matrices that is equal to the initial matrix. \n",
        "\n",
        "In the case of the eigendecomposition, we decompose the initial matrix into the product of its eigenvectors and eigenvalues. Before all, let's see what are eigenvectors and eigenvalues.\n",
        "\n",
        "<img src=\"https://github.com/rahiakela/mathematics-for-machine-learning/blob/main/deep-learning-book-maths/images/unit-circle-eigenvectors.png?raw=1\" width=\"400\">"
      ],
      "metadata": {
        "id": "W-btWPbn-f86"
      }
    },
    {
      "cell_type": "markdown",
      "source": [
        "##Setup"
      ],
      "metadata": {
        "id": "hu1fEM6AZFWr"
      }
    },
    {
      "cell_type": "code",
      "source": [
        "import numpy as np\n",
        "import matplotlib.pyplot as plt\n",
        "import seaborn as sns"
      ],
      "metadata": {
        "id": "XMujFm6dZGgH"
      },
      "execution_count": 1,
      "outputs": []
    },
    {
      "cell_type": "code",
      "source": [
        "# Plot parameters\n",
        "sns.set()\n",
        "%pylab inline\n",
        "pylab.rcParams['figure.figsize'] = (4, 4)\n",
        "plt.rcParams['xtick.major.size'] = 0\n",
        "plt.rcParams['ytick.major.size'] = 0\n",
        "# Avoid inaccurate floating values (for inverse matrices in dot product for instance)\n",
        "# See https://stackoverflow.com/questions/24537791/numpy-matrix-inversion-rounding-errors\n",
        "np.set_printoptions(suppress=True)"
      ],
      "metadata": {
        "id": "dI6fjg6qZG7p"
      },
      "execution_count": null,
      "outputs": []
    },
    {
      "cell_type": "code",
      "source": [
        "def plot_vectors(vecs, cols, alpha=1):\n",
        "  \"\"\"\n",
        "  Plot set of vectors.\n",
        "\n",
        "  Parameters\n",
        "  ----------\n",
        "  vecs : array-like\n",
        "      Coordinates of the vectors to plot. Each vectors is in an array. For\n",
        "      instance: [[1, 3], [2, 2]] can be used to plot 2 vectors.\n",
        "  cols : array-like\n",
        "      Colors of the vectors. For instance: ['red', 'blue'] will display the\n",
        "      first vector in red and the second in blue.\n",
        "  alpha : float\n",
        "      Opacity of vectors\n",
        "\n",
        "  Returns:\n",
        "\n",
        "  fig : instance of matplotlib.figure.Figure\n",
        "      The figure of the vectors\n",
        "  \"\"\"\n",
        "  plt.axvline(x=0, color='#A9A9A9', zorder=0)\n",
        "  plt.axhline(y=0, color='#A9A9A9', zorder=0)\n",
        "\n",
        "  for i in range(len(vecs)):\n",
        "      if (isinstance(alpha, list)):\n",
        "          alpha_i = alpha[i]\n",
        "      else:\n",
        "          alpha_i = alpha\n",
        "      x = np.concatenate([[0,0],vecs[i]])\n",
        "      plt.quiver([x[0]],\n",
        "                  [x[1]],\n",
        "                  [x[2]],\n",
        "                  [x[3]],\n",
        "                  angles='xy', scale_units='xy', scale=1, color=cols[i],\n",
        "                alpha=alpha_i)"
      ],
      "metadata": {
        "id": "J2_jJWYE-15U"
      },
      "execution_count": 3,
      "outputs": []
    },
    {
      "cell_type": "markdown",
      "source": [
        "## Matrices as linear transformations"
      ],
      "metadata": {
        "id": "9Tbolg9LYAzH"
      }
    },
    {
      "cell_type": "markdown",
      "source": [
        "As we have seen in [2.3](https://hadrienj.github.io/posts/Deep-Learning-Book-Series-2.3-Identity-and-Inverse-Matrices/) with the example of the identity matrix, you can think of matrices as linear transformations. Some matrices will rotate your space, others will rescale it etc. So when we apply a matrix to a vector, we end up with a transformed version of the vector. When we say that we 'apply' the matrix to the vector it means that we calculate the dot product of the matrix with the vector. We will start with a basic example of this kind of transformation."
      ],
      "metadata": {
        "id": "voFIEJvHYd0d"
      }
    },
    {
      "cell_type": "markdown",
      "source": [
        "### Example 1."
      ],
      "metadata": {
        "id": "ORYOIN4lYuWG"
      }
    },
    {
      "cell_type": "code",
      "source": [
        "A = np.array([\n",
        "   [-1, 3],\n",
        "   [2, -2]           \n",
        "])\n",
        "A"
      ],
      "metadata": {
        "colab": {
          "base_uri": "https://localhost:8080/"
        },
        "id": "SPDozWMCARJA",
        "outputId": "78f9ac4d-9b99-428a-b1c0-920f3a15cd04"
      },
      "execution_count": 4,
      "outputs": [
        {
          "output_type": "execute_result",
          "data": {
            "text/plain": [
              "array([[-1,  3],\n",
              "       [ 2, -2]])"
            ]
          },
          "metadata": {},
          "execution_count": 4
        }
      ]
    },
    {
      "cell_type": "code",
      "source": [
        "v = np.array([\n",
        "  [2],\n",
        "  [1]            \n",
        "])\n",
        "v"
      ],
      "metadata": {
        "colab": {
          "base_uri": "https://localhost:8080/"
        },
        "id": "J4S8XIdIAdLB",
        "outputId": "52ee31ad-dbfc-4fb6-bc2d-2121c5292c2f"
      },
      "execution_count": 5,
      "outputs": [
        {
          "output_type": "execute_result",
          "data": {
            "text/plain": [
              "array([[2],\n",
              "       [1]])"
            ]
          },
          "metadata": {},
          "execution_count": 5
        }
      ]
    },
    {
      "cell_type": "markdown",
      "source": [
        "Let's plot this vector."
      ],
      "metadata": {
        "id": "j-N_rUYrAsSC"
      }
    },
    {
      "cell_type": "code",
      "source": [
        "plot_vectors([v.flatten()], cols=[\"#1190FF\"])\n",
        "plt.ylim(-1, 4)\n",
        "plt.xlim(-1, 4)"
      ],
      "metadata": {
        "colab": {
          "base_uri": "https://localhost:8080/",
          "height": 283
        },
        "id": "fmISAqP8AtPl",
        "outputId": "1ba15bd1-bc13-4d3d-f0fb-025c77766097"
      },
      "execution_count": 6,
      "outputs": [
        {
          "output_type": "execute_result",
          "data": {
            "text/plain": [
              "(-1.0, 4.0)"
            ]
          },
          "metadata": {},
          "execution_count": 6
        },
        {
          "output_type": "display_data",
          "data": {
            "text/plain": [
              "<Figure size 288x288 with 1 Axes>"
            ],
            "image/png": "[encoded data removed]"
          },
          "metadata": {
            "needs_background": "light"
          }
        }
      ]
    },
    {
      "cell_type": "markdown",
      "source": [
        "Now, we will apply the matrix ${A}$ to this vector and plot the old vector (light blue) and the new one (orange)."
      ],
      "metadata": {
        "id": "tSbx3bWWBH-j"
      }
    },
    {
      "cell_type": "code",
      "source": [
        "Av = A.dot(v)\n",
        "print(Av)\n",
        "\n",
        "plot_vectors([v.flatten(), Av.flatten()], cols=[\"#1190FF\", \"#FF9A13\"])\n",
        "plt.ylim(-1, 4)\n",
        "plt.xlim(-1, 4)"
      ],
      "metadata": {
        "colab": {
          "base_uri": "https://localhost:8080/",
          "height": 318
        },
        "id": "Y103WqM_BJEX",
        "outputId": "a4077d46-25e3-4d40-8da0-24dd252ab408"
      },
      "execution_count": 7,
      "outputs": [
        {
          "output_type": "stream",
          "name": "stdout",
          "text": [
            "[[1]\n",
            " [2]]\n"
          ]
        },
        {
          "output_type": "execute_result",
          "data": {
            "text/plain": [
              "(-1.0, 4.0)"
            ]
          },
          "metadata": {},
          "execution_count": 7
        },
        {
          "output_type": "display_data",
          "data": {
            "text/plain": [
              "<Figure size 288x288 with 1 Axes>"
            ],
            "image/png": "[encoded data removed]"
          },
          "metadata": {
            "needs_background": "light"
          }
        }
      ]
    },
    {
      "cell_type": "markdown",
      "source": [
        "We can see that applying the matrix ${A}$ has the effect of modifying the vector.\n",
        "\n",
        "Now that you can think of matrices as linear transformation recipes.\n",
        "\n",
        "Let's see the case of a very special type of vector: the eigenvector."
      ],
      "metadata": {
        "id": "U9QgbDWnBf2v"
      }
    },
    {
      "cell_type": "markdown",
      "source": [
        "##Eigenvectors and eigenvalues"
      ],
      "metadata": {
        "id": "GR2zjCfDY2r8"
      }
    },
    {
      "cell_type": "markdown",
      "source": [
        "We have seen an example of a vector transformed by a matrix. Now imagine that the transformation of the initial vector gives us a new vector that has the exact same direction. The scale can be different but the direction is the same. Applying the matrix didn't change the direction of the vector. This special vector is called an eigenvector of the matrix. We will see that finding the eigenvectors of a matrix can be very useful.\n",
        "\n",
        "> Imagine that the transformation of the initial vector by the matrix gives a new vector with the exact same direction. This vector is called an eigenvector of ${A}$.\n",
        "\n",
        "\n",
        "This means that ${v}$ is a eigenvector of ${A}$ if ${v}$ and ${Av}$ are in the same direction or to rephrase it if the vectors ${Av}$ and ${v}$ are parallel. The output vector is just a scaled version of the input vector. This scalling factor is $\\lambda$ which is called the **eigenvalue** of ${A}$.\n",
        "\n",
        "$$\n",
        "{Av} = \\lambda {v}\n",
        "$$"
      ],
      "metadata": {
        "id": "NjytkM54Y20I"
      }
    },
    {
      "cell_type": "markdown",
      "source": [
        "### Example 2"
      ],
      "metadata": {
        "id": "9ehtxIc9Y9sJ"
      }
    },
    {
      "cell_type": "markdown",
      "source": [
        "Let's ${A}$ be the following matrix:\n",
        "\n",
        "$$\n",
        "{A}=\n",
        "\\begin{bmatrix}\n",
        "    5 & 1\\\\\\\\\n",
        "    3 & 3\n",
        "\\end{bmatrix}\n",
        "$$\n",
        "\n",
        "We know that one eigenvector of A is:\n",
        "\n",
        "$$\n",
        "{v}=\n",
        "\\begin{bmatrix}\n",
        "    1\\\\\\\\\n",
        "    1\n",
        "\\end{bmatrix}\n",
        "$$\n",
        "\n",
        "We can check that ${Av} = \\lambda{v}$:\n",
        "\n",
        "$$\n",
        "\\begin{bmatrix}\n",
        "    5 & 1\\\\\\\\\n",
        "    3 & 3\n",
        "\\end{bmatrix}\n",
        "\\begin{bmatrix}\n",
        "    1\\\\\\\\\n",
        "    1\n",
        "\\end{bmatrix}=\\begin{bmatrix}\n",
        "    6\\\\\\\\\n",
        "    6\n",
        "\\end{bmatrix}\n",
        "$$\n",
        "\n",
        "We can see that:\n",
        "\n",
        "$$\n",
        "6\\times \\begin{bmatrix}\n",
        "    1\\\\\\\\\n",
        "    1\n",
        "\\end{bmatrix} = \\begin{bmatrix}\n",
        "    6\\\\\\\\\n",
        "    6\n",
        "\\end{bmatrix}\n",
        "$$\n",
        "\n",
        "Which means that ${v}$ is well an eigenvector of ${A}$. Also, the corresponding eigenvalue is $\\lambda=6$.\n",
        "\n",
        "\n",
        "We can represent ${v}$ and ${Av}$ to check if their directions are the same:"
      ],
      "metadata": {
        "id": "mWBvIHnNY92w"
      }
    },
    {
      "cell_type": "code",
      "source": [
        "A = np.array([\n",
        "  [5, 1],\n",
        "  [3, 3]            \n",
        "])\n",
        "A"
      ],
      "metadata": {
        "colab": {
          "base_uri": "https://localhost:8080/"
        },
        "id": "z8y1a1v2b_H5",
        "outputId": "82a5a8ca-fd91-4371-ad35-494c86339aaf"
      },
      "execution_count": 8,
      "outputs": [
        {
          "output_type": "execute_result",
          "data": {
            "text/plain": [
              "array([[5, 1],\n",
              "       [3, 3]])"
            ]
          },
          "metadata": {},
          "execution_count": 8
        }
      ]
    },
    {
      "cell_type": "code",
      "source": [
        "v = np.array([[1], [1]])\n",
        "v"
      ],
      "metadata": {
        "colab": {
          "base_uri": "https://localhost:8080/"
        },
        "id": "8jsKVkNqci9L",
        "outputId": "cbb1c94d-6c91-4193-d3a9-91a96be3823f"
      },
      "execution_count": 9,
      "outputs": [
        {
          "output_type": "execute_result",
          "data": {
            "text/plain": [
              "array([[1],\n",
              "       [1]])"
            ]
          },
          "metadata": {},
          "execution_count": 9
        }
      ]
    },
    {
      "cell_type": "code",
      "source": [
        "Av = A.dot(v)\n",
        "\n",
        "orange = '#FF9A13'\n",
        "blue = '#1190FF'\n",
        "\n",
        "plot_vectors([Av.flatten(), v.flatten()], cols=[blue, orange])\n",
        "plt.ylim(-1, 7)\n",
        "plt.xlim(-1, 7)"
      ],
      "metadata": {
        "id": "1fmFCfbUot4k",
        "outputId": "b8c741f3-0c47-4d6c-8ae3-02fe12fad4be",
        "colab": {
          "base_uri": "https://localhost:8080/",
          "height": 283
        }
      },
      "execution_count": 10,
      "outputs": [
        {
          "output_type": "execute_result",
          "data": {
            "text/plain": [
              "(-1.0, 7.0)"
            ]
          },
          "metadata": {},
          "execution_count": 10
        },
        {
          "output_type": "display_data",
          "data": {
            "text/plain": [
              "<Figure size 288x288 with 1 Axes>"
            ],
            "image/png": "[encoded data removed]"
          },
          "metadata": {
            "needs_background": "light"
          }
        }
      ]
    },
    {
      "cell_type": "markdown",
      "source": [
        "**An eigenvector of a matrix doesn’t change direction when we apply this matrix.**\n",
        "\n",
        "We can see that their directions are the same!\n",
        "\n",
        "Another eigenvector of ${A}$ is\n",
        "\n",
        "$$\n",
        "{v}=\n",
        "\\begin{bmatrix}\n",
        "    1\\\\\\\\\n",
        "    -3\n",
        "\\end{bmatrix}\n",
        "$$\n",
        "\n",
        "because\n",
        "\n",
        "$$\n",
        "\\begin{bmatrix}\n",
        "    5 & 1\\\\\\\\\n",
        "    3 & 3\n",
        "\\end{bmatrix}\\begin{bmatrix}\n",
        "    1\\\\\\\\\n",
        "    -3\n",
        "\\end{bmatrix} = \\begin{bmatrix}\n",
        "    2\\\\\\\\\n",
        "    -6\n",
        "\\end{bmatrix}\n",
        "$$\n",
        "\n",
        "and\n",
        "\n",
        "$$\n",
        "2 \\times \\begin{bmatrix}\n",
        "    1\\\\\\\\\n",
        "    -3\n",
        "\\end{bmatrix} =\n",
        "\\begin{bmatrix}\n",
        "    2\\\\\\\\\n",
        "    -6\n",
        "\\end{bmatrix}\n",
        "$$\n",
        "\n",
        "So the corresponding eigenvalue is $\\lambda=2$."
      ],
      "metadata": {
        "id": "lHF5eS6EpUdN"
      }
    },
    {
      "cell_type": "code",
      "source": [
        "v = np.array([[1], [-3]])\n",
        "v"
      ],
      "metadata": {
        "id": "2llO5dOpppTM",
        "outputId": "5d831d2d-dec6-4d7a-f2ef-9c56039f9121",
        "colab": {
          "base_uri": "https://localhost:8080/"
        }
      },
      "execution_count": 11,
      "outputs": [
        {
          "output_type": "execute_result",
          "data": {
            "text/plain": [
              "array([[ 1],\n",
              "       [-3]])"
            ]
          },
          "metadata": {},
          "execution_count": 11
        }
      ]
    },
    {
      "cell_type": "code",
      "source": [
        "Av = A.dot(v)\n",
        "\n",
        "plot_vectors([Av.flatten(), v.flatten()], cols=[blue, orange])\n",
        "plt.ylim(-7, 1)\n",
        "plt.xlim(-1, 3)"
      ],
      "metadata": {
        "id": "kmCDNvrhp3Ci",
        "outputId": "66644429-5e81-45d8-d0dc-7c9ce33ac58f",
        "colab": {
          "base_uri": "https://localhost:8080/",
          "height": 283
        }
      },
      "execution_count": 12,
      "outputs": [
        {
          "output_type": "execute_result",
          "data": {
            "text/plain": [
              "(-1.0, 3.0)"
            ]
          },
          "metadata": {},
          "execution_count": 12
        },
        {
          "output_type": "display_data",
          "data": {
            "text/plain": [
              "<Figure size 288x288 with 1 Axes>"
            ],
            "image/png": "[encoded data removed]"
          },
          "metadata": {
            "needs_background": "light"
          }
        }
      ]
    },
    {
      "cell_type": "markdown",
      "source": [
        "This example shows that the eigenvectors ${v}$ are vectors that change only in scale when we apply the matrix ${A}$ to them. Here the scales were 6 for the first eigenvector and 2 to the second but $\\lambda$ can take any real or even complex value."
      ],
      "metadata": {
        "id": "lA1On8FbqN43"
      }
    },
    {
      "cell_type": "markdown",
      "source": [
        "##Eigenvalues/Eigenvectors in Python"
      ],
      "metadata": {
        "id": "it-sQee6dMVH"
      }
    },
    {
      "cell_type": "markdown",
      "source": [
        "Numpy provides a function returning eigenvectors and eigenvalues (the first array corresponds to the eigenvalues and the second to the eigenvectors concatenated in columns):\n",
        "\n",
        "```python\n",
        "(array([ 6.,  2.]), array([[ 0.70710678, -0.31622777], [ 0.70710678,  0.9486833 ]]))\n",
        "```\n",
        "\n",
        "Here a demonstration with the preceding example."
      ],
      "metadata": {
        "id": "VLyeNjVxdMyG"
      }
    },
    {
      "cell_type": "code",
      "source": [
        "A = np.array([\n",
        "  [5, 1],\n",
        "  [3, 3]            \n",
        "])\n",
        "A"
      ],
      "metadata": {
        "colab": {
          "base_uri": "https://localhost:8080/"
        },
        "id": "Mu2IuxREdzEj",
        "outputId": "a128d4ea-857f-4e7c-d63c-5937dad7f344"
      },
      "execution_count": 13,
      "outputs": [
        {
          "output_type": "execute_result",
          "data": {
            "text/plain": [
              "array([[5, 1],\n",
              "       [3, 3]])"
            ]
          },
          "metadata": {},
          "execution_count": 13
        }
      ]
    },
    {
      "cell_type": "code",
      "source": [
        "np.linalg.eig(A)"
      ],
      "metadata": {
        "colab": {
          "base_uri": "https://localhost:8080/"
        },
        "id": "DcoiReGbd6Ja",
        "outputId": "4b93a313-12b5-4611-88d0-d2e43e4477e5"
      },
      "execution_count": 14,
      "outputs": [
        {
          "output_type": "execute_result",
          "data": {
            "text/plain": [
              "(array([6., 2.]), array([[ 0.70710678, -0.31622777],\n",
              "        [ 0.70710678,  0.9486833 ]]))"
            ]
          },
          "metadata": {},
          "execution_count": 14
        }
      ]
    },
    {
      "cell_type": "markdown",
      "source": [
        "We can see that the eigenvalues are the same than the ones we used before: 6 and 2 (first array).\n",
        "\n",
        "The eigenvectors correspond to the columns of the second array. This means that the eigenvector corresponding to $\\lambda=6$ is:\n",
        "\n",
        "$$\n",
        "\\begin{bmatrix}\n",
        "    0.70710678\\\\\\\\\n",
        "    0.70710678\n",
        "\\end{bmatrix}\n",
        "$$\n",
        "\n",
        "The eigenvector corresponding to $\\lambda=2$ is:\n",
        "\n",
        "$$\n",
        "\\begin{bmatrix}\n",
        "    -0.31622777\\\\\\\\\n",
        "    0.9486833\n",
        "\\end{bmatrix}\n",
        "$$\n",
        "\n",
        "The eigenvectors look different because they have not necessarly the same scaling than the ones we gave in the example. We can easily see that the first corresponds to a scaled version of our $\\begin{bmatrix}\n",
        "    1\\\\\\\\\n",
        "    1\n",
        "\\end{bmatrix}$. But the same property stands. We have still ${Av} = \\lambda{v}$:\n",
        "\n",
        "$$\n",
        "\\begin{bmatrix}\n",
        "    5 & 1\\\\\\\\\n",
        "    3 & 3\n",
        "\\end{bmatrix}\n",
        "\\begin{bmatrix}\n",
        "    0.70710678\\\\\\\\\n",
        "    0.70710678\n",
        "\\end{bmatrix}=\n",
        "\\begin{bmatrix}\n",
        "    4.24264069\\\\\\\\\n",
        "    4.24264069\n",
        "\\end{bmatrix}\n",
        "$$\n",
        "\n",
        "With $0.70710678 \\times 6 = 4.24264069$. So there are an infinite number of eigenvectors corresponding to the eigenvalue $6$. They are equivalent because we are interested by their directions.\n",
        "\n",
        "For the second eigenvector we can check that it corresponds to a scaled version of $\\begin{bmatrix}\n",
        "    1\\\\\\\\\n",
        "    -3\n",
        "\\end{bmatrix}$. \n",
        "\n",
        "We can draw these vectors and see if they are parallel."
      ],
      "metadata": {
        "id": "vxTm37KJgErx"
      }
    },
    {
      "cell_type": "code",
      "source": [
        "v = np.array([[1], [-3]])\n",
        "Av = A.dot(v)\n",
        "v_np = [-0.31622777, 0.9486833]\n",
        "\n",
        "plot_vectors([Av.flatten(), v.flatten(), v_np], cols=[blue, orange, 'blue'])\n",
        "plt.ylim(-7, 1)\n",
        "plt.xlim(-1, 3)"
      ],
      "metadata": {
        "colab": {
          "base_uri": "https://localhost:8080/",
          "height": 283
        },
        "id": "MvlRS6iagLY4",
        "outputId": "60c3d42f-9055-45b1-d549-fb4ac09f40e8"
      },
      "execution_count": 15,
      "outputs": [
        {
          "output_type": "execute_result",
          "data": {
            "text/plain": [
              "(-1.0, 3.0)"
            ]
          },
          "metadata": {},
          "execution_count": 15
        },
        {
          "output_type": "display_data",
          "data": {
            "text/plain": [
              "<Figure size 288x288 with 1 Axes>"
            ],
            "image/png": "[encoded data removed]"
          },
          "metadata": {
            "needs_background": "light"
          }
        }
      ]
    },
    {
      "cell_type": "markdown",
      "source": [
        "We can see that the vector found with Numpy (in dark blue) is a scaled version of our preceding $\\begin{bmatrix}\n",
        "    1\\\\\\\\\n",
        "    -3\n",
        "\\end{bmatrix}$."
      ],
      "metadata": {
        "id": "kV2as2xlhfDK"
      }
    },
    {
      "cell_type": "markdown",
      "source": [
        "## Rescaled vectors"
      ],
      "metadata": {
        "id": "fuL7sXZkt9qs"
      }
    },
    {
      "cell_type": "markdown",
      "source": [
        "As we saw it with numpy, if ${v}$ is an eigenvector of ${A}$, then any rescaled vector $s{v}$ is also an eigenvector of ${A}$. The eigenvalue of the rescaled vector is the same.\n",
        "\n",
        "Let's try to rescale\n",
        "\n",
        "$$\n",
        "{v}=\n",
        "\\begin{bmatrix}\n",
        "    1\\\\\\\\\n",
        "    -3\n",
        "\\end{bmatrix}\n",
        "$$\n",
        "\n",
        "from our preceding example. \n",
        "\n",
        "For instance,\n",
        "\n",
        "$$\n",
        "{3v}=\n",
        "\\begin{bmatrix}\n",
        "    3\\\\\\\\\n",
        "    -9\n",
        "\\end{bmatrix}\n",
        "$$\n",
        "\n",
        "$$\n",
        "\\begin{bmatrix}\n",
        "    5 & 1\\\\\\\\\n",
        "    3 & 3\n",
        "\\end{bmatrix}\n",
        "\\begin{bmatrix}\n",
        "    3\\\\\\\\\n",
        "    -9\n",
        "\\end{bmatrix} =\n",
        "\\begin{bmatrix}\n",
        "    6\\\\\\\\\n",
        "    -18\n",
        "\\end{bmatrix} = 2 \\times\n",
        "\\begin{bmatrix}\n",
        "    3\\\\\\\\\n",
        "    -9\n",
        "\\end{bmatrix}\n",
        "$$\n",
        "\n",
        "We have well ${A}\\times 3{v} = \\lambda{v}$ and the eigenvalue is still $\\lambda=2$."
      ],
      "metadata": {
        "id": "0pLVLQlauAxC"
      }
    },
    {
      "cell_type": "code",
      "source": [
        "v = np.array([[1], [-3]])\n",
        "v"
      ],
      "metadata": {
        "id": "VnA6cu4Iv0R5",
        "outputId": "716d5c29-85dd-45f9-eefd-3e966c4ab65c",
        "colab": {
          "base_uri": "https://localhost:8080/"
        }
      },
      "execution_count": 16,
      "outputs": [
        {
          "output_type": "execute_result",
          "data": {
            "text/plain": [
              "array([[ 1],\n",
              "       [-3]])"
            ]
          },
          "metadata": {},
          "execution_count": 16
        }
      ]
    },
    {
      "cell_type": "code",
      "source": [
        "v_p = 3 * v\n",
        "v_p"
      ],
      "metadata": {
        "id": "cpv6xWIlv7By",
        "outputId": "6e58d873-44e8-4a9a-8b48-f666712999d4",
        "colab": {
          "base_uri": "https://localhost:8080/"
        }
      },
      "execution_count": 17,
      "outputs": [
        {
          "output_type": "execute_result",
          "data": {
            "text/plain": [
              "array([[ 3],\n",
              "       [-9]])"
            ]
          },
          "metadata": {},
          "execution_count": 17
        }
      ]
    },
    {
      "cell_type": "code",
      "source": [
        "Av = A.dot(v_p)\n",
        "Av"
      ],
      "metadata": {
        "id": "2v_4ZZ9bwF6m",
        "outputId": "d9b0b082-d07b-4579-ed67-d59645b759c0",
        "colab": {
          "base_uri": "https://localhost:8080/"
        }
      },
      "execution_count": 18,
      "outputs": [
        {
          "output_type": "execute_result",
          "data": {
            "text/plain": [
              "array([[  6],\n",
              "       [-18]])"
            ]
          },
          "metadata": {},
          "execution_count": 18
        }
      ]
    },
    {
      "cell_type": "markdown",
      "source": [
        "## Concatenating eigenvalues and eigenvectors"
      ],
      "metadata": {
        "id": "JtqfPSPauf_e"
      }
    },
    {
      "cell_type": "markdown",
      "source": [
        "Now that we have an idea of what eigenvectors and eigenvalues are we can see how it can be used to decompose a matrix. All eigenvectors of a matrix ${A}$ can be concatenated in a matrix with each column corresponding to each eigenvector (like in the second array return by `np.linalg.eig(A)`):\n",
        "\n",
        "$$\n",
        "{V}=\n",
        "\\begin{bmatrix}\n",
        "    1 & 1\\\\\\\\\n",
        "    1 & -3\n",
        "\\end{bmatrix}\n",
        "$$\n",
        "\n",
        "The first column $\n",
        "\\begin{bmatrix}\n",
        "    1\\\\\\\\\n",
        "    1\n",
        "\\end{bmatrix}\n",
        "$ corresponds to $\\lambda=6$ and the second $\n",
        "\\begin{bmatrix}\n",
        "    1\\\\\\\\\n",
        "    -3\n",
        "\\end{bmatrix}\n",
        "$ to $\\lambda=2$.\n",
        "\n",
        "The vector ${\\lambda}$ can be created from all eigenvalues:\n",
        "\n",
        "$$\n",
        "{\\lambda}=\n",
        "\\begin{bmatrix}\n",
        "    6\\\\\\\\\n",
        "    2\n",
        "\\end{bmatrix}\n",
        "$$\n",
        "\n",
        "Then the eigendecomposition is given by\n",
        "\n",
        "$$\n",
        "{A}={V}\\cdot diag({\\lambda}) \\cdot {V}^{-1}\n",
        "$$\n",
        "\n",
        "> We can decompose the matrix ${A}$ with eigenvectors and eigenvalues. It is done with: ${A}={V}\\cdot diag({\\lambda}) \\cdot {V}^{-1}$\n",
        "\n",
        "\n",
        "$diag({v})$ is a diagonal matrix (see [2.6](https://hadrienj.github.io/posts/Deep-Learning-Book-Series-2.6-Special-Kinds-of-Matrices-and-Vectors/)) containing all the eigenvalues. Continuing with our example we have\n",
        "\n",
        "$$\n",
        "{V}=\\begin{bmatrix}\n",
        "    1 & 1\\\\\\\\\n",
        "    1 & -3\n",
        "\\end{bmatrix}\n",
        "$$\n",
        "\n",
        "The diagonal matrix is all zeros except the diagonal that is our vector ${\\lambda}$.\n",
        "\n",
        "$$\n",
        "diag({v})=\n",
        "\\begin{bmatrix}\n",
        "    6 & 0\\\\\\\\\n",
        "    0 & 2\n",
        "\\end{bmatrix}\n",
        "$$\n",
        "\n",
        "The inverse matrix of ${V}$ can be calculated with numpy:"
      ],
      "metadata": {
        "id": "VYZd5mwCugsU"
      }
    },
    {
      "cell_type": "code",
      "source": [
        "V = np.array([\n",
        "   [1, 1], \n",
        "   [1, -3]         \n",
        "])\n",
        "V"
      ],
      "metadata": {
        "colab": {
          "base_uri": "https://localhost:8080/"
        },
        "id": "8u-GvHeZhkF4",
        "outputId": "9ad88e9c-effa-488b-a28c-d4de25944b82"
      },
      "execution_count": 22,
      "outputs": [
        {
          "output_type": "execute_result",
          "data": {
            "text/plain": [
              "array([[ 1,  1],\n",
              "       [ 1, -3]])"
            ]
          },
          "metadata": {},
          "execution_count": 22
        }
      ]
    },
    {
      "cell_type": "code",
      "source": [
        "V_inv = np.linalg.inv(V)\n",
        "V_inv"
      ],
      "metadata": {
        "colab": {
          "base_uri": "https://localhost:8080/"
        },
        "id": "3HN6nigDh6fc",
        "outputId": "33d5bd24-1825-440c-dd9c-3d259870a8f5"
      },
      "execution_count": 23,
      "outputs": [
        {
          "output_type": "execute_result",
          "data": {
            "text/plain": [
              "array([[ 0.75,  0.25],\n",
              "       [ 0.25, -0.25]])"
            ]
          },
          "metadata": {},
          "execution_count": 23
        }
      ]
    },
    {
      "cell_type": "markdown",
      "source": [
        "So let's plug\n",
        "\n",
        "$$\n",
        "{V}^{-1}=\\begin{bmatrix}\n",
        "    0.75 & 0.25\\\\\\\\\n",
        "    0.25 & -0.25\n",
        "\\end{bmatrix}\n",
        "$$\n",
        "\n",
        "into our equation:\n",
        "\n",
        "$$\n",
        "\\begin{align*}\n",
        "&{V}\\cdot diag({\\lambda}) \\cdot {V}^{-1}\\\\\\\\\n",
        "&=\n",
        "\\begin{bmatrix}\n",
        "    1 & 1\\\\\\\\\n",
        "    1 & -3\n",
        "\\end{bmatrix}\n",
        "\\begin{bmatrix}\n",
        "    6 & 0\\\\\\\\\n",
        "    0 & 2\n",
        "\\end{bmatrix}\n",
        "\\begin{bmatrix}\n",
        "    0.75 & 0.25\\\\\\\\\n",
        "    0.25 & -0.25\n",
        "\\end{bmatrix}\n",
        "\\end{align*}\n",
        "$$\n",
        "\n",
        "If we do the dot product of the first two matrices we have:\n",
        "\n",
        "$$\n",
        "\\begin{bmatrix}\n",
        "    1 & 1\\\\\\\\\n",
        "    1 & -3\n",
        "\\end{bmatrix}\n",
        "\\begin{bmatrix}\n",
        "    6 & 0\\\\\\\\\n",
        "    0 & 2\n",
        "\\end{bmatrix} =\n",
        "\\begin{bmatrix}\n",
        "    6 & 2\\\\\\\\\n",
        "    6 & -6\n",
        "\\end{bmatrix}\n",
        "$$\n",
        "\n",
        "So with replacing into the equation:\n",
        "\n",
        "$$\n",
        "\\begin{align*}\n",
        "&\\begin{bmatrix}\n",
        "    6 & 2\\\\\\\\\n",
        "    6 & -6\n",
        "\\end{bmatrix}\n",
        "\\begin{bmatrix}\n",
        "    0.75 & 0.25\\\\\\\\\n",
        "    0.25 & -0.25\n",
        "\\end{bmatrix}\\\\\\\\\n",
        "&=\n",
        "\\begin{bmatrix}\n",
        "    6\\times0.75 + (2\\times0.25) & 6\\times0.25 + (2\\times-0.25)\\\\\\\\\n",
        "    6\\times0.75 + (-6\\times0.25) & 6\\times0.25 + (-6\\times-0.25)\n",
        "\\end{bmatrix}\\\\\\\\\n",
        "&=\n",
        "\\begin{bmatrix}\n",
        "    5 & 1\\\\\\\\\n",
        "    3 & 3\n",
        "\\end{bmatrix}=\n",
        "{A}\n",
        "\\end{align*}\n",
        "$$\n",
        "\n",
        "Let's check our result with Python:"
      ],
      "metadata": {
        "id": "jR5kFOpHibGu"
      }
    },
    {
      "cell_type": "code",
      "source": [
        "lambdas = np.diag([6, 2])\n",
        "lambdas"
      ],
      "metadata": {
        "id": "9sJo_A_bLzB2",
        "outputId": "a81976dd-b127-40ab-94f8-34f599fd00a8",
        "colab": {
          "base_uri": "https://localhost:8080/"
        }
      },
      "execution_count": 24,
      "outputs": [
        {
          "output_type": "execute_result",
          "data": {
            "text/plain": [
              "array([[6, 0],\n",
              "       [0, 2]])"
            ]
          },
          "metadata": {},
          "execution_count": 24
        }
      ]
    },
    {
      "cell_type": "code",
      "source": [
        "V.dot(lambdas).dot(V_inv)"
      ],
      "metadata": {
        "id": "B1n7ucSBMFSu",
        "outputId": "94dca946-b58d-4d30-ec77-0e7b86ca5b49",
        "colab": {
          "base_uri": "https://localhost:8080/"
        }
      },
      "execution_count": 25,
      "outputs": [
        {
          "output_type": "execute_result",
          "data": {
            "text/plain": [
              "array([[5., 1.],\n",
              "       [3., 3.]])"
            ]
          },
          "metadata": {},
          "execution_count": 25
        }
      ]
    },
    {
      "cell_type": "markdown",
      "source": [
        "That confirms our previous calculation. "
      ],
      "metadata": {
        "id": "kIjOLVMBMPJP"
      }
    },
    {
      "cell_type": "markdown",
      "source": [
        "## Real symmetric matrix"
      ],
      "metadata": {
        "id": "rg_YSyGuibiu"
      }
    },
    {
      "cell_type": "markdown",
      "source": [
        "In the case of real symmetric matrices (more details about symmetric matrices in [2.6](https://hadrienj.github.io/posts/Deep-Learning-Book-Series-2.6-Special-Kinds-of-Matrices-and-Vectors/)), the eigendecomposition can be expressed as\n",
        "\n",
        "$$\n",
        "{A} = {Q}\\Lambda {Q}^\\text{T}\n",
        "$$\n",
        "\n",
        "where ${Q}$ is the matrix with eigenvectors as columns and $\\Lambda$ is $diag(\\lambda)$."
      ],
      "metadata": {
        "id": "dmUKO5NIid_e"
      }
    },
    {
      "cell_type": "markdown",
      "source": [
        "### Example 3"
      ],
      "metadata": {
        "id": "XRAH3YqXioY-"
      }
    },
    {
      "cell_type": "markdown",
      "source": [
        "$$\n",
        "{A}=\\begin{bmatrix}\n",
        "    6 & 2\\\\\\\\\n",
        "    2 & 3\n",
        "\\end{bmatrix}\n",
        "$$\n",
        "\n",
        "This matrix is symmetric because ${A}={A}^\\text{T}$. Its eigenvectors are:\n",
        "\n",
        "$$\n",
        "{Q}=\n",
        "\\begin{bmatrix}\n",
        "    0.89442719 & -0.4472136\\\\\\\\\n",
        "    0.4472136 & 0.89442719\n",
        "\\end{bmatrix}\n",
        "$$\n",
        "\n",
        "and its eigenvalues put in a diagonal matrix gives:\n",
        "\n",
        "$$\n",
        "{\\Lambda}=\n",
        "\\begin{bmatrix}\n",
        "    7 & 0\\\\\\\\\n",
        "    0 & 2\n",
        "\\end{bmatrix}\n",
        "$$\n",
        "\n",
        "So let's begin to calculate ${Q\\Lambda}$:\n",
        "\n",
        "$$\n",
        "\\begin{align*}\n",
        "{Q\\Lambda}&=\n",
        "\\begin{bmatrix}\n",
        "    0.89442719 & -0.4472136\\\\\\\\\n",
        "    0.4472136 & 0.89442719\n",
        "\\end{bmatrix}\n",
        "\\begin{bmatrix}\n",
        "    7 & 0\\\\\\\\\n",
        "    0 & 2\n",
        "\\end{bmatrix}\\\\\\\\\n",
        "&=\n",
        "\\begin{bmatrix}\n",
        "    0.89442719 \\times 7 & -0.4472136\\times 2\\\\\\\\\n",
        "    0.4472136 \\times 7 & 0.89442719\\times 2\n",
        "\\end{bmatrix}\\\\\\\\\n",
        "&=\n",
        "\\begin{bmatrix}\n",
        "    6.26099033 & -0.8944272\\\\\\\\\n",
        "    3.1304952 & 1.78885438\n",
        "\\end{bmatrix}\n",
        "\\end{align*}\n",
        "$$\n",
        "\n",
        "with:\n",
        "\n",
        "$$\n",
        "{Q}^\\text{T}=\n",
        "\\begin{bmatrix}\n",
        "    0.89442719 & 0.4472136\\\\\\\\\n",
        "    -0.4472136 & 0.89442719\n",
        "\\end{bmatrix}\n",
        "$$\n",
        "\n",
        "So we have:\n",
        "\n",
        "$$\n",
        "\\begin{align*}\n",
        "{Q\\Lambda} {Q}^\\text{T}&=\n",
        "\\begin{bmatrix}\n",
        "    6.26099033 & -0.8944272\\\\\\\\\n",
        "    3.1304952 & 1.78885438\n",
        "\\end{bmatrix}\n",
        "\\begin{bmatrix}\n",
        "    0.89442719 & 0.4472136\\\\\\\\\n",
        "    -0.4472136 & 0.89442719\n",
        "\\end{bmatrix}\\\\\\\\\n",
        "&=\n",
        "\\begin{bmatrix}\n",
        "    6 & 2\\\\\\\\\n",
        "    2 & 3\n",
        "\\end{bmatrix}\n",
        "\\end{align*}\n",
        "$$\n",
        "\n",
        "It works! For that reason, it can useful to use symmetric matrices! Let's do the same things easily with `linalg` from numpy:"
      ],
      "metadata": {
        "id": "MkryTR8SiquH"
      }
    },
    {
      "cell_type": "code",
      "source": [
        "A = np.array([\n",
        "  [6, 2],\n",
        "  [2, 3]            \n",
        "])\n",
        "A"
      ],
      "metadata": {
        "id": "Gk_g37ECQdPg",
        "outputId": "2efcfe23-e17d-4daf-d2b8-1f602b03c0da",
        "colab": {
          "base_uri": "https://localhost:8080/"
        }
      },
      "execution_count": 26,
      "outputs": [
        {
          "output_type": "execute_result",
          "data": {
            "text/plain": [
              "array([[6, 2],\n",
              "       [2, 3]])"
            ]
          },
          "metadata": {},
          "execution_count": 26
        }
      ]
    },
    {
      "cell_type": "code",
      "source": [
        "eig_val, eig_vec = np.linalg.eig(A)\n",
        "eig_vec"
      ],
      "metadata": {
        "id": "kHBhH1baQuqD",
        "outputId": "fdbfeb79-51a4-4e97-cf70-294b35690aba",
        "colab": {
          "base_uri": "https://localhost:8080/"
        }
      },
      "execution_count": 30,
      "outputs": [
        {
          "output_type": "execute_result",
          "data": {
            "text/plain": [
              "array([[ 0.89442719, -0.4472136 ],\n",
              "       [ 0.4472136 ,  0.89442719]])"
            ]
          },
          "metadata": {},
          "execution_count": 30
        }
      ]
    },
    {
      "cell_type": "code",
      "source": [
        "eig_val = np.diag(eig_val)\n",
        "eig_val"
      ],
      "metadata": {
        "id": "dKMXVh6QRBFt",
        "outputId": "bf5f1cbc-9908-40b2-974e-ee5092114728",
        "colab": {
          "base_uri": "https://localhost:8080/"
        }
      },
      "execution_count": 31,
      "outputs": [
        {
          "output_type": "execute_result",
          "data": {
            "text/plain": [
              "array([[7., 0.],\n",
              "       [0., 2.]])"
            ]
          },
          "metadata": {},
          "execution_count": 31
        }
      ]
    },
    {
      "cell_type": "code",
      "source": [
        "eig_vec.dot(eig_val).dot(eig_vec.T)"
      ],
      "metadata": {
        "id": "uXMLiWvJRkYX",
        "outputId": "9c4c0453-2ce1-4a24-8db0-216e137fc271",
        "colab": {
          "base_uri": "https://localhost:8080/"
        }
      },
      "execution_count": 33,
      "outputs": [
        {
          "output_type": "execute_result",
          "data": {
            "text/plain": [
              "array([[6., 2.],\n",
              "       [2., 3.]])"
            ]
          },
          "metadata": {},
          "execution_count": 33
        }
      ]
    },
    {
      "cell_type": "markdown",
      "source": [
        "We can see that the result corresponds to our initial matrix."
      ],
      "metadata": {
        "id": "h25So3CqRyQn"
      }
    },
    {
      "cell_type": "markdown",
      "source": [
        "##Quadratic form to matrix form"
      ],
      "metadata": {
        "id": "wPLWd0SXRywf"
      }
    },
    {
      "cell_type": "markdown",
      "source": [
        "Eigendecomposition can be used to optimize quadratic functions. We will see that when ${x}$ takes the values of an eigenvector, $f({x})$ takes the value of its corresponding eigenvalue.\n",
        "\n",
        "\n",
        "> When ${x}$ takes the values of an eigenvector, $f({x})$ takes the value of its corresponding eigenvalue.\n",
        "\n",
        "We will see in the following points how we can show that with different methods.\n",
        "\n",
        "Let's have the following quadratic equation:\n",
        "\n",
        "$$\n",
        "f({x}) = ax_1^2 +(b+c)x_1x_2 + dx_2^2\n",
        "$$\n",
        "\n",
        "These quadratic forms can be generated by matrices:\n",
        "\n",
        "$$\n",
        "f({x})= \\begin{bmatrix}\n",
        "    x_1 & x_2\n",
        "\\end{bmatrix}\\begin{bmatrix}\n",
        "    a & b\\\\\\\\\n",
        "    c & d\n",
        "\\end{bmatrix}\\begin{bmatrix}\n",
        "    x_1\\\\\\\\\n",
        "    x_2\n",
        "\\end{bmatrix} = {x^\\text{T}Ax}\n",
        "$$\n",
        "\n",
        "with:\n",
        "\n",
        "$$\n",
        "{x} = \\begin{bmatrix}\n",
        "    x_1\\\\\\\\\n",
        "    x_2\n",
        "\\end{bmatrix}\n",
        "$$\n",
        "\n",
        "and\n",
        "\n",
        "$$\n",
        "{A}=\\begin{bmatrix}\n",
        "    a & b\\\\\\\\\n",
        "    c & d\n",
        "\\end{bmatrix}\n",
        "$$\n",
        "\n",
        "We call them matrix forms. This form is useful to do various things on the quadratic equation like constrained optimization (see bellow).\n",
        "\n",
        "\n",
        "> Quadratic equations can be expressed under the matrix form\n",
        "\n",
        "If you look at the relation between these forms you can see that $a$ gives you the number of $x_1^2$, $(b + c)$ the number of $x_1x_2$ and $d$ the number of $x_2^2$. This means that the same quadratic form can be obtained from infinite number of matrices ${A}$ by changing $b$ and $c$ while preserving their sum."
      ],
      "metadata": {
        "id": "Go97qzU4R2PU"
      }
    },
    {
      "cell_type": "markdown",
      "source": [
        "### Example 4"
      ],
      "metadata": {
        "id": "h2dHEa3_R8mg"
      }
    },
    {
      "cell_type": "markdown",
      "source": [
        ""
      ],
      "metadata": {
        "id": "NBt1Vcy7R_FK"
      }
    },
    {
      "cell_type": "markdown",
      "source": [
        "## References"
      ],
      "metadata": {
        "id": "pGcdv0qwjACO"
      }
    },
    {
      "cell_type": "markdown",
      "source": [
        "- https://hadrienj.github.io/posts/Deep-Learning-Book-Series-2.6-Special-Kinds-of-Matrices-and-Vectors/\n",
        "\n",
        "- https://math.stackexchange.com/questions/1936020/why-is-the-inverse-of-an-orthogonal-matrix-equal-to-its-transpose\n",
        "\n",
        "- https://dyinglovegrape.wordpress.com/2010/11/30/the-inverse-of-an-orthogonal-matrix-is-its-transpose/"
      ],
      "metadata": {
        "id": "1vK_KJ_3jBKD"
      }
    }
  ]
}