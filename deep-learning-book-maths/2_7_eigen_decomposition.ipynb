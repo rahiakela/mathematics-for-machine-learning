{
  "nbformat": 4,
  "nbformat_minor": 0,
  "metadata": {
    "colab": {
      "name": "2.7-eigen-decomposition.ipynb",
      "provenance": [],
      "toc_visible": true,
      "authorship_tag": "ABX9TyPtz0LziWhDae0HfQw2Hd8m",
      "include_colab_link": true
    },
    "kernelspec": {
      "name": "python3",
      "display_name": "Python 3"
    },
    "language_info": {
      "name": "python"
    }
  },
  "cells": [
    {
      "cell_type": "markdown",
      "metadata": {
        "id": "view-in-github",
        "colab_type": "text"
      },
      "source": [
        "<a href=\"https://colab.research.google.com/github/rahiakela/mathematics-for-machine-learning/blob/main/deep-learning-book-maths/2_7_eigen_decomposition.ipynb\" target=\"_parent\"><img src=\"https://colab.research.google.com/assets/colab-badge.svg\" alt=\"Open In Colab\"/></a>"
      ]
    },
    {
      "cell_type": "markdown",
      "source": [
        "##2.7 Eigendecomposition"
      ],
      "metadata": {
        "id": "IKtQpuOAWn8Y"
      }
    },
    {
      "cell_type": "markdown",
      "source": [
        "We will see some major concepts of linear algebra in this chapter. It is also quite heavy so hang on! We will start with getting some ideas on eigenvectors and eigenvalues. We will develop on the idea that a matrix can be seen as a linear transformation and that applying a matrix on its eigenvectors gives new vectors with the same direction. Then we will see how to express quadratic equations into the matrix form. \n",
        "\n",
        "We will see that the eigendecomposition of the matrix corresponding to a quadratic equation can be used to find the minimum and maximum of this function. As a bonus, we will also see how to visualize linear transformations in Python!\n",
        "\n",
        "The eigendecomposition is one form of matrix decomposition. Decomposing a matrix means that we want to find a product of matrices that is equal to the initial matrix. \n",
        "\n",
        "In the case of the eigendecomposition, we decompose the initial matrix into the product of its eigenvectors and eigenvalues. Before all, let's see what are eigenvectors and eigenvalues.\n",
        "\n",
        "<img src=\"https://github.com/rahiakela/mathematics-for-machine-learning/blob/main/deep-learning-book-maths/images/unit-circle-eigenvectors.png?raw=1\" width=\"400\">"
      ],
      "metadata": {
        "id": "W-btWPbn-f86"
      }
    },
    {
      "cell_type": "markdown",
      "source": [
        "##Setup"
      ],
      "metadata": {
        "id": "hu1fEM6AZFWr"
      }
    },
    {
      "cell_type": "code",
      "source": [
        "import numpy as np\n",
        "import matplotlib.pyplot as plt\n",
        "import seaborn as sns"
      ],
      "metadata": {
        "id": "XMujFm6dZGgH"
      },
      "execution_count": 1,
      "outputs": []
    },
    {
      "cell_type": "code",
      "source": [
        "# Plot parameters\n",
        "sns.set()\n",
        "%pylab inline\n",
        "pylab.rcParams['figure.figsize'] = (4, 4)\n",
        "plt.rcParams['xtick.major.size'] = 0\n",
        "plt.rcParams['ytick.major.size'] = 0\n",
        "# Avoid inaccurate floating values (for inverse matrices in dot product for instance)\n",
        "# See https://stackoverflow.com/questions/24537791/numpy-matrix-inversion-rounding-errors\n",
        "np.set_printoptions(suppress=True)"
      ],
      "metadata": {
        "id": "dI6fjg6qZG7p",
        "colab": {
          "base_uri": "https://localhost:8080/"
        },
        "outputId": "c02aa46a-2a3b-4df5-eab1-31843b12eb47"
      },
      "execution_count": 2,
      "outputs": [
        {
          "output_type": "stream",
          "name": "stdout",
          "text": [
            "Populating the interactive namespace from numpy and matplotlib\n"
          ]
        }
      ]
    },
    {
      "cell_type": "code",
      "source": [
        "def plot_vectors(vecs, cols, alpha=1):\n",
        "  \"\"\"\n",
        "  Plot set of vectors.\n",
        "\n",
        "  Parameters\n",
        "  ----------\n",
        "  vecs : array-like\n",
        "      Coordinates of the vectors to plot. Each vectors is in an array. For\n",
        "      instance: [[1, 3], [2, 2]] can be used to plot 2 vectors.\n",
        "  cols : array-like\n",
        "      Colors of the vectors. For instance: ['red', 'blue'] will display the\n",
        "      first vector in red and the second in blue.\n",
        "  alpha : float\n",
        "      Opacity of vectors\n",
        "\n",
        "  Returns:\n",
        "\n",
        "  fig : instance of matplotlib.figure.Figure\n",
        "      The figure of the vectors\n",
        "  \"\"\"\n",
        "  plt.axvline(x=0, color='#A9A9A9', zorder=0)\n",
        "  plt.axhline(y=0, color='#A9A9A9', zorder=0)\n",
        "\n",
        "  for i in range(len(vecs)):\n",
        "      if (isinstance(alpha, list)):\n",
        "          alpha_i = alpha[i]\n",
        "      else:\n",
        "          alpha_i = alpha\n",
        "      x = np.concatenate([[0,0],vecs[i]])\n",
        "      plt.quiver([x[0]],\n",
        "                  [x[1]],\n",
        "                  [x[2]],\n",
        "                  [x[3]],\n",
        "                  angles='xy', scale_units='xy', scale=1, color=cols[i],\n",
        "                alpha=alpha_i)"
      ],
      "metadata": {
        "id": "J2_jJWYE-15U"
      },
      "execution_count": 3,
      "outputs": []
    },
    {
      "cell_type": "markdown",
      "source": [
        "## Matrices as linear transformations"
      ],
      "metadata": {
        "id": "9Tbolg9LYAzH"
      }
    },
    {
      "cell_type": "markdown",
      "source": [
        "As we have seen in [2.3](https://hadrienj.github.io/posts/Deep-Learning-Book-Series-2.3-Identity-and-Inverse-Matrices/) with the example of the identity matrix, you can think of matrices as linear transformations. Some matrices will rotate your space, others will rescale it etc. So when we apply a matrix to a vector, we end up with a transformed version of the vector. When we say that we 'apply' the matrix to the vector it means that we calculate the dot product of the matrix with the vector. We will start with a basic example of this kind of transformation."
      ],
      "metadata": {
        "id": "voFIEJvHYd0d"
      }
    },
    {
      "cell_type": "markdown",
      "source": [
        "### Example 1."
      ],
      "metadata": {
        "id": "ORYOIN4lYuWG"
      }
    },
    {
      "cell_type": "code",
      "source": [
        "A = np.array([\n",
        "   [-1, 3],\n",
        "   [2, -2]           \n",
        "])\n",
        "A"
      ],
      "metadata": {
        "colab": {
          "base_uri": "https://localhost:8080/"
        },
        "id": "SPDozWMCARJA",
        "outputId": "943e7889-554a-4389-a3b8-bea06be7cae6"
      },
      "execution_count": 4,
      "outputs": [
        {
          "output_type": "execute_result",
          "data": {
            "text/plain": [
              "array([[-1,  3],\n",
              "       [ 2, -2]])"
            ]
          },
          "metadata": {},
          "execution_count": 4
        }
      ]
    },
    {
      "cell_type": "code",
      "source": [
        "v = np.array([\n",
        "  [2],\n",
        "  [1]            \n",
        "])\n",
        "v"
      ],
      "metadata": {
        "colab": {
          "base_uri": "https://localhost:8080/"
        },
        "id": "J4S8XIdIAdLB",
        "outputId": "b3668b3c-132e-44ba-eeb8-5dcf595c29ce"
      },
      "execution_count": 5,
      "outputs": [
        {
          "output_type": "execute_result",
          "data": {
            "text/plain": [
              "array([[2],\n",
              "       [1]])"
            ]
          },
          "metadata": {},
          "execution_count": 5
        }
      ]
    },
    {
      "cell_type": "markdown",
      "source": [
        "Let's plot this vector."
      ],
      "metadata": {
        "id": "j-N_rUYrAsSC"
      }
    },
    {
      "cell_type": "code",
      "source": [
        "plot_vectors([v.flatten()], cols=[\"#1190FF\"])\n",
        "plt.ylim(-1, 4)\n",
        "plt.xlim(-1, 4)"
      ],
      "metadata": {
        "colab": {
          "base_uri": "https://localhost:8080/",
          "height": 283
        },
        "id": "fmISAqP8AtPl",
        "outputId": "4ebcdb5c-ee09-454c-a3ba-c80e2e3c0b04"
      },
      "execution_count": 6,
      "outputs": [
        {
          "output_type": "execute_result",
          "data": {
            "text/plain": [
              "(-1.0, 4.0)"
            ]
          },
          "metadata": {},
          "execution_count": 6
        },
        {
          "output_type": "display_data",
          "data": {
            "text/plain": [
              "<Figure size 288x288 with 1 Axes>"
            ],
            "image/png": "[encoded data removed]"
          },
          "metadata": {
            "needs_background": "light"
          }
        }
      ]
    },
    {
      "cell_type": "markdown",
      "source": [
        "Now, we will apply the matrix ${A}$ to this vector and plot the old vector (light blue) and the new one (orange)."
      ],
      "metadata": {
        "id": "tSbx3bWWBH-j"
      }
    },
    {
      "cell_type": "code",
      "source": [
        "Av = A.dot(v)\n",
        "print(Av)\n",
        "\n",
        "plot_vectors([v.flatten(), Av.flatten()], cols=[\"#1190FF\", \"#FF9A13\"])\n",
        "plt.ylim(-1, 4)\n",
        "plt.xlim(-1, 4)"
      ],
      "metadata": {
        "colab": {
          "base_uri": "https://localhost:8080/",
          "height": 318
        },
        "id": "Y103WqM_BJEX",
        "outputId": "33e1f83f-5761-4204-b50d-fc955b68e9ab"
      },
      "execution_count": 7,
      "outputs": [
        {
          "output_type": "stream",
          "name": "stdout",
          "text": [
            "[[1]\n",
            " [2]]\n"
          ]
        },
        {
          "output_type": "execute_result",
          "data": {
            "text/plain": [
              "(-1.0, 4.0)"
            ]
          },
          "metadata": {},
          "execution_count": 7
        },
        {
          "output_type": "display_data",
          "data": {
            "text/plain": [
              "<Figure size 288x288 with 1 Axes>"
            ],
            "image/png": "[encoded data removed]"
          },
          "metadata": {
            "needs_background": "light"
          }
        }
      ]
    },
    {
      "cell_type": "markdown",
      "source": [
        "We can see that applying the matrix ${A}$ has the effect of modifying the vector.\n",
        "\n",
        "Now that you can think of matrices as linear transformation recipes.\n",
        "\n",
        "Let's see the case of a very special type of vector: the eigenvector."
      ],
      "metadata": {
        "id": "U9QgbDWnBf2v"
      }
    },
    {
      "cell_type": "markdown",
      "source": [
        "##Eigenvectors and eigenvalues"
      ],
      "metadata": {
        "id": "GR2zjCfDY2r8"
      }
    },
    {
      "cell_type": "markdown",
      "source": [
        "We have seen an example of a vector transformed by a matrix. Now imagine that the transformation of the initial vector gives us a new vector that has the exact same direction. The scale can be different but the direction is the same. Applying the matrix didn't change the direction of the vector. This special vector is called an eigenvector of the matrix. We will see that finding the eigenvectors of a matrix can be very useful.\n",
        "\n",
        "> Imagine that the transformation of the initial vector by the matrix gives a new vector with the exact same direction. This vector is called an eigenvector of ${A}$.\n",
        "\n",
        "\n",
        "This means that ${v}$ is a eigenvector of ${A}$ if ${v}$ and ${Av}$ are in the same direction or to rephrase it if the vectors ${Av}$ and ${v}$ are parallel. The output vector is just a scaled version of the input vector. This scalling factor is $\\lambda$ which is called the **eigenvalue** of ${A}$.\n",
        "\n",
        "$$\n",
        "{Av} = \\lambda {v}\n",
        "$$"
      ],
      "metadata": {
        "id": "NjytkM54Y20I"
      }
    },
    {
      "cell_type": "markdown",
      "source": [
        "### Example 3."
      ],
      "metadata": {
        "id": "9ehtxIc9Y9sJ"
      }
    },
    {
      "cell_type": "markdown",
      "source": [
        "The diagonal matrix can be denoted $diag({v})$ where ${v}$ is the vector containing the diagonal values."
      ],
      "metadata": {
        "id": "Bh9EZckrb2aW"
      }
    },
    {
      "cell_type": "markdown",
      "source": [
        "$$\n",
        "{D}=\n",
        "\\begin{bmatrix}\n",
        "    2 & 0 & 0 & 0\\\\\\\\\n",
        "    0 & 4 & 0 & 0\\\\\\\\\n",
        "    0 & 0 & 3 & 0\\\\\\\\\n",
        "    0 & 0 & 0 & 1\n",
        "\\end{bmatrix}\n",
        "$$\n",
        "\n",
        "In this matrix, ${v}$ is the following vector:\n",
        "\n",
        "$$\n",
        "{v}=\n",
        "\\begin{bmatrix}\n",
        "    2\\\\\\\\\n",
        "    4\\\\\\\\\n",
        "    3\\\\\\\\\n",
        "    1\n",
        "\\end{bmatrix}\n",
        "$$\n",
        "\n",
        "The Numpy function `diag()` can be used to create square diagonal matrices:"
      ],
      "metadata": {
        "id": "mWBvIHnNY92w"
      }
    },
    {
      "cell_type": "code",
      "source": [
        "# create square diagonal matrice\n",
        "v = np.array([2, 4, 3, 1])\n",
        "D = np.diag(v)\n",
        "D"
      ],
      "metadata": {
        "colab": {
          "base_uri": "https://localhost:8080/"
        },
        "id": "z8y1a1v2b_H5",
        "outputId": "ae7c52f6-2b14-459d-fcea-0f2cab2b7365"
      },
      "execution_count": null,
      "outputs": [
        {
          "output_type": "execute_result",
          "data": {
            "text/plain": [
              "array([[2, 0, 0, 0],\n",
              "       [0, 4, 0, 0],\n",
              "       [0, 0, 3, 0],\n",
              "       [0, 0, 0, 1]])"
            ]
          },
          "metadata": {},
          "execution_count": 4
        }
      ]
    },
    {
      "cell_type": "code",
      "source": [
        "# create the vector containing the diagonal values\n",
        "v = np.diag(D)\n",
        "v"
      ],
      "metadata": {
        "colab": {
          "base_uri": "https://localhost:8080/"
        },
        "id": "8jsKVkNqci9L",
        "outputId": "b433bd44-5d70-46b8-ecc4-0d1ef6dd78fd"
      },
      "execution_count": null,
      "outputs": [
        {
          "output_type": "execute_result",
          "data": {
            "text/plain": [
              "array([2, 4, 3, 1])"
            ]
          },
          "metadata": {},
          "execution_count": 5
        }
      ]
    },
    {
      "cell_type": "markdown",
      "source": [
        "### Example 4."
      ],
      "metadata": {
        "id": "it-sQee6dMVH"
      }
    },
    {
      "cell_type": "markdown",
      "source": [
        "The mutliplication between a diagonal matrix and a vector is thus just a ponderation of each element of the vector by $v$:\n",
        "\n",
        "$$\n",
        "{D}=\n",
        "\\begin{bmatrix}\n",
        "    2 & 0 & 0 & 0\\\\\\\\\n",
        "    0 & 4 & 0 & 0\\\\\\\\\n",
        "    0 & 0 & 3 & 0\\\\\\\\\n",
        "    0 & 0 & 0 & 1\n",
        "\\end{bmatrix}\n",
        "$$\n",
        "\n",
        "and\n",
        "\n",
        "$$\n",
        "{x}=\n",
        "\\begin{bmatrix}\n",
        "    3\\\\\\\\\n",
        "    2\\\\\\\\\n",
        "    2\\\\\\\\\n",
        "    7\n",
        "\\end{bmatrix}\n",
        "$$\n",
        "\n",
        "$$\n",
        "\\begin{align*}\n",
        "&{Dx}=\n",
        "\\begin{bmatrix}\n",
        "    2 & 0 & 0 & 0\\\\\\\\\n",
        "    0 & 4 & 0 & 0\\\\\\\\\n",
        "    0 & 0 & 3 & 0\\\\\\\\\n",
        "    0 & 0 & 0 & 1\n",
        "\\end{bmatrix} \\times\n",
        "\\begin{bmatrix}\n",
        "    3\\\\\\\\\n",
        "    2\\\\\\\\\n",
        "    2\\\\\\\\\n",
        "    7\n",
        "\\end{bmatrix}\\\\\\\\\n",
        "&=\\begin{bmatrix}\n",
        "    2\\times3 + 0\\times2 + 0\\times2 + 0\\times7\\\\\\\\\n",
        "    0\\times3 + 4\\times2 + 0\\times2 + 0\\times7\\\\\\\\\n",
        "    0\\times3 + 0\\times2 + 3\\times2 + 0\\times7\\\\\\\\\n",
        "    0\\times3 + 0\\times2 + 0\\times2 + 1\\times7\n",
        "\\end{bmatrix}\\\\\\\\\n",
        "&=\n",
        "\\begin{bmatrix}\n",
        "    2\\times3\\\\\\\\\n",
        "    4\\times2\\\\\\\\\n",
        "    3\\times2\\\\\\\\\n",
        "    1\\times7\n",
        "\\end{bmatrix}\n",
        "\\end{align*}\n",
        "$$"
      ],
      "metadata": {
        "id": "VLyeNjVxdMyG"
      }
    },
    {
      "cell_type": "code",
      "source": [
        "# create square diagonal matrice\n",
        "v = np.array([2, 4, 3, 1])\n",
        "D = np.diag(v)\n",
        "D"
      ],
      "metadata": {
        "colab": {
          "base_uri": "https://localhost:8080/"
        },
        "id": "Mu2IuxREdzEj",
        "outputId": "65b908e6-f4dc-4908-807b-bc61b77c5ad3"
      },
      "execution_count": null,
      "outputs": [
        {
          "output_type": "execute_result",
          "data": {
            "text/plain": [
              "array([[2, 0, 0, 0],\n",
              "       [0, 4, 0, 0],\n",
              "       [0, 0, 3, 0],\n",
              "       [0, 0, 0, 1]])"
            ]
          },
          "metadata": {},
          "execution_count": 6
        }
      ]
    },
    {
      "cell_type": "code",
      "source": [
        "x = np.array([3, 2, 2, 7])\n",
        "\n",
        "# get Dx by dot product becoz we have to do here matrix-vector mutliplication\n",
        "Dx = np.dot(D, x)\n",
        "Dx"
      ],
      "metadata": {
        "colab": {
          "base_uri": "https://localhost:8080/"
        },
        "id": "DcoiReGbd6Ja",
        "outputId": "66104eee-7603-4802-c327-fe4a110b60ba"
      },
      "execution_count": null,
      "outputs": [
        {
          "output_type": "execute_result",
          "data": {
            "text/plain": [
              "array([6, 8, 6, 7])"
            ]
          },
          "metadata": {},
          "execution_count": 7
        }
      ]
    },
    {
      "cell_type": "markdown",
      "source": [
        "### Example 5."
      ],
      "metadata": {
        "id": "Sqx-f0uegEPs"
      }
    },
    {
      "cell_type": "markdown",
      "source": [
        "Non square matrices have the same properties:\n",
        "\n",
        "$$\n",
        "{D}=\n",
        "\\begin{bmatrix}\n",
        "    2 & 0 & 0\\\\\\\\\n",
        "    0 & 4 & 0\\\\\\\\\n",
        "    0 & 0 & 3\\\\\\\\\n",
        "    0 & 0 & 0\n",
        "\\end{bmatrix}\n",
        "$$\n",
        "\n",
        "and\n",
        "\n",
        "$$\n",
        "{x}=\n",
        "\\begin{bmatrix}\n",
        "    3\\\\\\\\\n",
        "    2\\\\\\\\\n",
        "    2\n",
        "\\end{bmatrix}\n",
        "$$\n",
        "\n",
        "$$\n",
        "{Dx}=\n",
        "\\begin{bmatrix}\n",
        "    2 & 0 & 0\\\\\\\\\n",
        "    0 & 4 & 0\\\\\\\\\n",
        "    0 & 0 & 3\\\\\\\\\n",
        "    0 & 0 & 0\n",
        "\\end{bmatrix}\n",
        "\\times\n",
        "\\begin{bmatrix}\n",
        "    3\\\\\\\\\n",
        "    2\\\\\\\\\n",
        "    2\n",
        "\\end{bmatrix}\n",
        "=\n",
        "\\begin{bmatrix}\n",
        "    2\\times3\\\\\\\\\n",
        "    4\\times2\\\\\\\\\n",
        "    3\\times2\\\\\\\\\n",
        "    0\n",
        "\\end{bmatrix}\n",
        "$$"
      ],
      "metadata": {
        "id": "vxTm37KJgErx"
      }
    },
    {
      "cell_type": "code",
      "source": [
        "D = np.array([\n",
        "  [2, 0, 0],\n",
        "  [0, 4, 0],\n",
        "  [0, 0, 3],\n",
        "  [0, 0, 0]\n",
        "])\n",
        "\n",
        "x = np.array([3, 2, 2])\n",
        "Dx = np.dot(D, x)\n",
        "Dx"
      ],
      "metadata": {
        "colab": {
          "base_uri": "https://localhost:8080/"
        },
        "id": "MvlRS6iagLY4",
        "outputId": "ab3a5935-eda9-4c57-8536-c8be57e01ea2"
      },
      "execution_count": null,
      "outputs": [
        {
          "output_type": "execute_result",
          "data": {
            "text/plain": [
              "array([6, 8, 6, 0])"
            ]
          },
          "metadata": {},
          "execution_count": 10
        }
      ]
    },
    {
      "cell_type": "markdown",
      "source": [
        "The invert of a square diagonal matrix exists if all entries of the diagonal are non-zeros. If it is the case, the invert is easy to find. Also, the inverse doen't exist if the matrix is non-square.\n",
        "\n",
        "$$\n",
        "{D}=\n",
        "\\begin{bmatrix}\n",
        "    2 & 0 & 0 & 0\\\\\\\\\n",
        "    0 & 4 & 0 & 0\\\\\\\\\n",
        "    0 & 0 & 3 & 0\\\\\\\\\n",
        "    0 & 0 & 0 & 1\n",
        "\\end{bmatrix}\n",
        "$$\n",
        "\n",
        "$$\n",
        "{D}^{-1}=\n",
        "\\begin{bmatrix}\n",
        "    \\frac{1}{2} & 0 & 0 & 0\\\\\\\\\n",
        "    0 & \\frac{1}{4} & 0 & 0\\\\\\\\\n",
        "    0 & 0 & \\frac{1}{3} & 0\\\\\\\\\n",
        "    0 & 0 & 0 & \\frac{1}{1}\n",
        "\\end{bmatrix}\n",
        "$$\n",
        "\n",
        "$$\n",
        "{D}=\n",
        "\\begin{bmatrix}\n",
        "    2 & 0 & 0 & 0\\\\\\\\\n",
        "    0 & 4 & 0 & 0\\\\\\\\\n",
        "    0 & 0 & 3 & 0\\\\\\\\\n",
        "    0 & 0 & 0 & 1\n",
        "\\end{bmatrix}\n",
        "\\begin{bmatrix}\n",
        "    \\frac{1}{2} & 0 & 0 & 0\\\\\\\\\n",
        "    0 & \\frac{1}{4} & 0 & 0\\\\\\\\\n",
        "    0 & 0 & \\frac{1}{3} & 0\\\\\\\\\n",
        "    0 & 0 & 0 & \\frac{1}{1}\n",
        "\\end{bmatrix}=\n",
        "\\begin{bmatrix}\n",
        "    1 & 0 & 0 & 0\\\\\\\\\n",
        "    0 & 1 & 0 & 0\\\\\\\\\n",
        "    0 & 0 & 1 & 0\\\\\\\\\n",
        "    0 & 0 & 0 & 1\n",
        "\\end{bmatrix}\n",
        "$$\n",
        "\n",
        "Let's check with Numpy that the multiplication of the matrix with its invert gives us the identity matrix:"
      ],
      "metadata": {
        "id": "kV2as2xlhfDK"
      }
    },
    {
      "cell_type": "code",
      "source": [
        "A = np.array([\n",
        "   [2, 0, 0, 0], \n",
        "   [0, 4, 0, 0], \n",
        "   [0, 0, 3, 0], \n",
        "   [0, 0, 0, 1]           \n",
        "])\n",
        "A"
      ],
      "metadata": {
        "colab": {
          "base_uri": "https://localhost:8080/"
        },
        "id": "8u-GvHeZhkF4",
        "outputId": "5a0018b9-abb3-47da-bb9e-bf755337a194"
      },
      "execution_count": null,
      "outputs": [
        {
          "output_type": "execute_result",
          "data": {
            "text/plain": [
              "array([[2, 0, 0, 0],\n",
              "       [0, 4, 0, 0],\n",
              "       [0, 0, 3, 0],\n",
              "       [0, 0, 0, 1]])"
            ]
          },
          "metadata": {},
          "execution_count": 11
        }
      ]
    },
    {
      "cell_type": "code",
      "source": [
        "A_inv = np.linalg.inv(A)\n",
        "A_inv"
      ],
      "metadata": {
        "colab": {
          "base_uri": "https://localhost:8080/"
        },
        "id": "3HN6nigDh6fc",
        "outputId": "62f294f5-ee63-49ab-dc40-0130e8cbffb5"
      },
      "execution_count": null,
      "outputs": [
        {
          "output_type": "execute_result",
          "data": {
            "text/plain": [
              "array([[0.5       , 0.        , 0.        , 0.        ],\n",
              "       [0.        , 0.25      , 0.        , 0.        ],\n",
              "       [0.        , 0.        , 0.33333333, 0.        ],\n",
              "       [0.        , 0.        , 0.        , 1.        ]])"
            ]
          },
          "metadata": {},
          "execution_count": 13
        }
      ]
    },
    {
      "cell_type": "code",
      "source": [
        "A = A.dot(A_inv)\n",
        "A"
      ],
      "metadata": {
        "colab": {
          "base_uri": "https://localhost:8080/"
        },
        "id": "611SO2TbiPiv",
        "outputId": "95c6d564-5175-47c5-bb96-2c19f51f43a8"
      },
      "execution_count": null,
      "outputs": [
        {
          "output_type": "execute_result",
          "data": {
            "text/plain": [
              "array([[1., 0., 0., 0.],\n",
              "       [0., 1., 0., 0.],\n",
              "       [0., 0., 1., 0.],\n",
              "       [0., 0., 0., 1.]])"
            ]
          },
          "metadata": {},
          "execution_count": 14
        }
      ]
    },
    {
      "cell_type": "markdown",
      "source": [
        "Great! This gives the identity matrix"
      ],
      "metadata": {
        "id": "jR5kFOpHibGu"
      }
    },
    {
      "cell_type": "markdown",
      "source": [
        "## Symmetric matrices"
      ],
      "metadata": {
        "id": "rg_YSyGuibiu"
      }
    },
    {
      "cell_type": "markdown",
      "source": [
        "<img src=\"https://github.com/rahiakela/mathematics-for-machine-learning/blob/main/deep-learning-book-maths/images/symmetric-matrix.png?raw=1\" width=\"150\" alt=\"Illustration of a symmetric matrix\" title=\"Symmetric matrix\">\n",
        "\n",
        "The matrix $A$ is symmetric if it is equal to its transpose:\n",
        "    \n",
        "$$\n",
        "{A} = {A}^\\text{T}\n",
        "$$\n"
      ],
      "metadata": {
        "id": "dmUKO5NIid_e"
      }
    },
    {
      "cell_type": "markdown",
      "source": [
        "### Example 6."
      ],
      "metadata": {
        "id": "XRAH3YqXioY-"
      }
    },
    {
      "cell_type": "markdown",
      "source": [
        "This concerns only square matrices."
      ],
      "metadata": {
        "id": "MkryTR8SiquH"
      }
    },
    {
      "cell_type": "markdown",
      "source": [
        "## References"
      ],
      "metadata": {
        "id": "pGcdv0qwjACO"
      }
    },
    {
      "cell_type": "markdown",
      "source": [
        "- https://hadrienj.github.io/posts/Deep-Learning-Book-Series-2.6-Special-Kinds-of-Matrices-and-Vectors/\n",
        "\n",
        "- https://math.stackexchange.com/questions/1936020/why-is-the-inverse-of-an-orthogonal-matrix-equal-to-its-transpose\n",
        "\n",
        "- https://dyinglovegrape.wordpress.com/2010/11/30/the-inverse-of-an-orthogonal-matrix-is-its-transpose/"
      ],
      "metadata": {
        "id": "1vK_KJ_3jBKD"
      }
    }
  ]
}