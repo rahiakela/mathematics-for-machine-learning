{
  "nbformat": 4,
  "nbformat_minor": 0,
  "metadata": {
    "colab": {
      "name": "2.1 scalars-vectors-matrices-and-tensors.ipynb",
      "provenance": [],
      "authorship_tag": "ABX9TyPTPCIGA7YFdvAw85yj8+bY",
      "include_colab_link": true
    },
    "kernelspec": {
      "name": "python3",
      "display_name": "Python 3"
    },
    "language_info": {
      "name": "python"
    }
  },
  "cells": [
    {
      "cell_type": "markdown",
      "metadata": {
        "id": "view-in-github",
        "colab_type": "text"
      },
      "source": [
        "<a href=\"https://colab.research.google.com/github/rahiakela/deep-learning-book-maths/blob/main/2_1_scalars_vectors_matrices_and_tensors.ipynb\" target=\"_parent\"><img src=\"https://colab.research.google.com/assets/colab-badge.svg\" alt=\"Open In Colab\"/></a>"
      ]
    },
    {
      "cell_type": "markdown",
      "metadata": {
        "id": "v62UOSAlu6D-"
      },
      "source": [
        "## Scalars, Vectors, Matrices and Tensors"
      ]
    },
    {
      "cell_type": "markdown",
      "metadata": {
        "id": "P-zKNE6_u7Ui"
      },
      "source": [
        "Let's start with some basic definitions:\n",
        "\n",
        "<img src=\"https://github.com/rahiakela/deep-learning-book-maths/blob/main/images/scalar-vector-matrix-tensor.png?raw=1\" width=\"800\" alt=\"An example of a scalar, a vector, a matrix and a tensor\" title=\"Difference between a scalar, a vector, a matrix and a tensor\">\n",
        "\n",
        "\n",
        "<em>Difference between a scalar, a vector, a matrix and a tensor</em>\n",
        "\n",
        "- A scalar is a single number\n",
        "- A vector is an array of numbers.\n",
        "\n",
        "$$\n",
        "{x} =\\begin{bmatrix}\n",
        "    x_1 \\\\\\\\\n",
        "    x_2 \\\\\\\\\n",
        "    \\cdots \\\\\\\\\n",
        "    x_n\n",
        "\\end{bmatrix}\n",
        "$$\n",
        "\n",
        "- A matrix is a 2-D array\n",
        "\n",
        "$$\n",
        "{A}=\n",
        "\\begin{bmatrix}\n",
        "    A_{1,1} & A_{1,2} & \\cdots & A_{1,n} \\\\\\\\\n",
        "    A_{2,1} & A_{2,2} & \\cdots & A_{2,n} \\\\\\\\\n",
        "    \\cdots & \\cdots & \\cdots & \\cdots \\\\\\\\\n",
        "    A_{m,1} & A_{m,2} & \\cdots & A_{m,n}\n",
        "\\end{bmatrix}\n",
        "$$\n",
        "\n",
        "- A tensor is a $n$-dimensional array with $n>2$\n",
        "\n",
        "We will follow the conventions used in the [Deep Learning Book](http://www.deeplearningbook.org/):\n",
        "\n",
        "- scalars are written in lowercase and italics. For instance: $n$\n",
        "- vectors are written in lowercase, italics and bold type. For instance: ${x}$\n",
        "- matrices are written in uppercase, italics and bold. For instance: ${X}$"
      ]
    },
    {
      "cell_type": "markdown",
      "metadata": {
        "id": "vatmgRFRvPnE"
      },
      "source": [
        "### Example 1-Create a vector with Python and Numpy"
      ]
    },
    {
      "cell_type": "markdown",
      "metadata": {
        "id": "K0JeRH5hvTTM"
      },
      "source": [
        "*Coding tip*: Unlike the `matrix()` function which necessarily creates $2$-dimensional matrices, you can create $n$-dimensionnal arrays with the `array()` function. The main advantage to use `matrix()` is the useful methods (conjugate transpose, inverse, matrix operations...). We will use the `array()` function in this series.\n",
        "\n",
        "We will start by creating a vector. This is just a $1$-dimensional array:"
      ]
    },
    {
      "cell_type": "code",
      "metadata": {
        "id": "nBtLrNO3vWq0"
      },
      "source": [
        "import numpy as np"
      ],
      "execution_count": 1,
      "outputs": []
    },
    {
      "cell_type": "code",
      "metadata": {
        "colab": {
          "base_uri": "https://localhost:8080/"
        },
        "id": "im54Zgp7zcfQ",
        "outputId": "b7873bfb-956d-40c5-df33-f8081b14596f"
      },
      "source": [
        "x = np.array([1, 2, 3, 4])\n",
        "\n",
        "x"
      ],
      "execution_count": 2,
      "outputs": [
        {
          "output_type": "execute_result",
          "data": {
            "text/plain": [
              "array([1, 2, 3, 4])"
            ]
          },
          "metadata": {
            "tags": []
          },
          "execution_count": 2
        }
      ]
    },
    {
      "cell_type": "markdown",
      "metadata": {
        "id": "f-r4xCKd0aln"
      },
      "source": [
        "###Example 2-Create a (3x2) matrix with nested brackets"
      ]
    },
    {
      "cell_type": "markdown",
      "metadata": {
        "id": "EGl33fmL0d9g"
      },
      "source": [
        "The `array()` function can also create $2$-dimensional arrays with nested brackets:"
      ]
    },
    {
      "cell_type": "code",
      "metadata": {
        "colab": {
          "base_uri": "https://localhost:8080/"
        },
        "id": "4weZppvW0RVb",
        "outputId": "800e3a02-1627-449c-ff43-b622cf1fc58c"
      },
      "source": [
        "A = np.array([\n",
        "   [1, 2],\n",
        "   [3, 4],\n",
        "   [5, 6]           \n",
        "])\n",
        "\n",
        "A"
      ],
      "execution_count": 3,
      "outputs": [
        {
          "output_type": "execute_result",
          "data": {
            "text/plain": [
              "array([[1, 2],\n",
              "       [3, 4],\n",
              "       [5, 6]])"
            ]
          },
          "metadata": {
            "tags": []
          },
          "execution_count": 3
        }
      ]
    },
    {
      "cell_type": "markdown",
      "metadata": {
        "id": "nNrwD3an1ESF"
      },
      "source": [
        "## Shape"
      ]
    },
    {
      "cell_type": "markdown",
      "metadata": {
        "id": "mb7Vaduy1FjC"
      },
      "source": [
        "The shape of an array (that is to say its dimensions) tells you the number of values for each dimension. For a $2$-dimensional array it will give you the number of rows and the number of columns. Let's find the shape of our preceding $2$-dimensional array `A`. Since `A` is a Numpy array (it was created with the `array()` function) you can access its shape with:"
      ]
    },
    {
      "cell_type": "code",
      "metadata": {
        "colab": {
          "base_uri": "https://localhost:8080/"
        },
        "id": "1VHffMtg0sMf",
        "outputId": "690b3f0f-8c90-4d44-bf02-fc7a932530f1"
      },
      "source": [
        "A.shape"
      ],
      "execution_count": 4,
      "outputs": [
        {
          "output_type": "execute_result",
          "data": {
            "text/plain": [
              "(3, 2)"
            ]
          },
          "metadata": {
            "tags": []
          },
          "execution_count": 4
        }
      ]
    },
    {
      "cell_type": "markdown",
      "metadata": {
        "id": "8n5snpV71Mdu"
      },
      "source": [
        "We can see that ${A}$ has 3 rows and 2 columns.\n",
        "\n",
        "Let's check the shape of our first vector:"
      ]
    },
    {
      "cell_type": "code",
      "metadata": {
        "colab": {
          "base_uri": "https://localhost:8080/"
        },
        "id": "KvkBZ5XT1JiL",
        "outputId": "0a8fad18-c9a9-4e01-aada-00167578ce49"
      },
      "source": [
        "x.shape"
      ],
      "execution_count": 5,
      "outputs": [
        {
          "output_type": "execute_result",
          "data": {
            "text/plain": [
              "(4,)"
            ]
          },
          "metadata": {
            "tags": []
          },
          "execution_count": 5
        }
      ]
    },
    {
      "cell_type": "markdown",
      "metadata": {
        "id": "XTfbgyqi1TDN"
      },
      "source": [
        "As expected, you can see that ${x}$ has only one dimension. \n",
        "\n",
        "The number corresponds to the length of the array:"
      ]
    },
    {
      "cell_type": "code",
      "metadata": {
        "colab": {
          "base_uri": "https://localhost:8080/"
        },
        "id": "NP3cOznZ1QvB",
        "outputId": "0e346d64-1f25-4674-a5cc-519d68e7bc82"
      },
      "source": [
        "len(x)"
      ],
      "execution_count": 6,
      "outputs": [
        {
          "output_type": "execute_result",
          "data": {
            "text/plain": [
              "4"
            ]
          },
          "metadata": {
            "tags": []
          },
          "execution_count": 6
        }
      ]
    },
    {
      "cell_type": "code",
      "metadata": {
        "colab": {
          "base_uri": "https://localhost:8080/"
        },
        "id": "xMj8-0jI1Xyr",
        "outputId": "494c9157-6c09-4fb4-8e92-d258703645d5"
      },
      "source": [
        "len(A)"
      ],
      "execution_count": 7,
      "outputs": [
        {
          "output_type": "execute_result",
          "data": {
            "text/plain": [
              "3"
            ]
          },
          "metadata": {
            "tags": []
          },
          "execution_count": 7
        }
      ]
    },
    {
      "cell_type": "markdown",
      "metadata": {
        "id": "R5Du44rp13aK"
      },
      "source": [
        "## Transposition"
      ]
    },
    {
      "cell_type": "markdown",
      "metadata": {
        "id": "F5lVGnCz14Hr"
      },
      "source": [
        "With transposition you can convert a row vector to a column vector and vice versa:\n",
        "\n",
        "<img src=\"https://github.com/rahiakela/deep-learning-book-maths/blob/main/images/vector-transposition.png?raw=1\" alt=\"Transposition of a vector\" title=\"Vector transposition\" width=\"200\">\n",
        "<em>Vector transposition</em>\n",
        "\n",
        "The transpose ${A}^{\\text{T}}$ of the matrix ${A}$ corresponds to the mirrored axes. If the matrix is a square matrix (same number of columns and rows):\n",
        "\n",
        "<img src=\"https://github.com/rahiakela/deep-learning-book-maths/blob/main/images/square-matrix-transposition.png?raw=1\" alt=\"Transposition of a square matrix\" title=\"Square matrix transposition\" width=\"300\">\n",
        "<em>Square matrix transposition</em>\n",
        "\n",
        "If the matrix is not square the idea is the same:\n",
        "\n",
        "<img src=\"https://github.com/rahiakela/deep-learning-book-maths/blob/main/images/non-squared-matrix-transposition.png?raw=1\" alt=\"Transposition of a square matrix\" title=\"Non square matrix transposition\" width=\"300\">\n",
        "<em>Non-square matrix transposition</em>\n",
        "\n",
        "\n",
        "The superscript $^\\text{T}$ is used for transposed matrices.\n",
        "\n",
        "$$\n",
        "{A}=\n",
        "\\begin{bmatrix}\n",
        "    A_{1,1} & A_{1,2} \\\\\\\\\n",
        "    A_{2,1} & A_{2,2} \\\\\\\\\n",
        "    A_{3,1} & A_{3,2}\n",
        "\\end{bmatrix}\n",
        "$$\n",
        "\n",
        "$$\n",
        "{A}^{\\text{T}}=\n",
        "\\begin{bmatrix}\n",
        "    A_{1,1} & A_{2,1} & A_{3,1} \\\\\\\\\n",
        "    A_{1,2} & A_{2,2} & A_{3,2}\n",
        "\\end{bmatrix}\n",
        "$$\n",
        "\n",
        "The shape ($m \\times n$) is inverted and becomes ($n \\times m$).\n",
        "\n",
        "<img src=\"https://github.com/rahiakela/deep-learning-book-maths/blob/main/images/dimensions-transposition-matrix.png?raw=1\" alt=\"Dimensions of matrix transposition\" title=\"Dimensions of matrix transposition\" width=\"300\">\n",
        "<em>Dimensions of matrix transposition</em>"
      ]
    },
    {
      "cell_type": "markdown",
      "metadata": {
        "id": "ecD5TXuy2hu6"
      },
      "source": [
        "### Example 3-Create a matrix A and transpose it"
      ]
    },
    {
      "cell_type": "code",
      "metadata": {
        "colab": {
          "base_uri": "https://localhost:8080/"
        },
        "id": "Q16R4MUx1ZZX",
        "outputId": "1688326d-b91e-4ffb-e235-efb92a7a2ef2"
      },
      "source": [
        "A = np.array([[1, 2], [3, 4], [5, 6]])\n",
        "A"
      ],
      "execution_count": 8,
      "outputs": [
        {
          "output_type": "execute_result",
          "data": {
            "text/plain": [
              "array([[1, 2],\n",
              "       [3, 4],\n",
              "       [5, 6]])"
            ]
          },
          "metadata": {
            "tags": []
          },
          "execution_count": 8
        }
      ]
    },
    {
      "cell_type": "code",
      "metadata": {
        "colab": {
          "base_uri": "https://localhost:8080/"
        },
        "id": "N3PBe1Pd3PhE",
        "outputId": "8dd1bff3-5a77-4826-83f1-c35011d85554"
      },
      "source": [
        "A_t = A.T\n",
        "\n",
        "A_t"
      ],
      "execution_count": 9,
      "outputs": [
        {
          "output_type": "execute_result",
          "data": {
            "text/plain": [
              "array([[1, 3, 5],\n",
              "       [2, 4, 6]])"
            ]
          },
          "metadata": {
            "tags": []
          },
          "execution_count": 9
        }
      ]
    },
    {
      "cell_type": "markdown",
      "metadata": {
        "id": "fNHhipCk3Vss"
      },
      "source": [
        "We can check the dimensions of the matrices:"
      ]
    },
    {
      "cell_type": "code",
      "metadata": {
        "colab": {
          "base_uri": "https://localhost:8080/"
        },
        "id": "BgGJxtRj3TLX",
        "outputId": "5a4a8490-da59-48f8-c056-6bc69527fa32"
      },
      "source": [
        "A.shape"
      ],
      "execution_count": 10,
      "outputs": [
        {
          "output_type": "execute_result",
          "data": {
            "text/plain": [
              "(3, 2)"
            ]
          },
          "metadata": {
            "tags": []
          },
          "execution_count": 10
        }
      ]
    },
    {
      "cell_type": "code",
      "metadata": {
        "colab": {
          "base_uri": "https://localhost:8080/"
        },
        "id": "HYhvUQtq3X6p",
        "outputId": "f8e735d9-912d-4514-a605-b715e1dde8aa"
      },
      "source": [
        "A_t.shape"
      ],
      "execution_count": 11,
      "outputs": [
        {
          "output_type": "execute_result",
          "data": {
            "text/plain": [
              "(2, 3)"
            ]
          },
          "metadata": {
            "tags": []
          },
          "execution_count": 11
        }
      ]
    },
    {
      "cell_type": "markdown",
      "metadata": {
        "id": "cFAboEII3dk4"
      },
      "source": [
        "We can see that the number of columns becomes the number of rows with transposition and vice versa."
      ]
    },
    {
      "cell_type": "markdown",
      "metadata": {
        "id": "Fm-3rSLE3ePu"
      },
      "source": [
        "##Addition"
      ]
    },
    {
      "cell_type": "markdown",
      "metadata": {
        "id": "REDNisUW31Ys"
      },
      "source": [
        "<img src=\"https://github.com/rahiakela/deep-learning-book-maths/blob/main/images/matrix-addition.png?raw=1\" alt=\"Addition of two matrices\" title=\"Addition of two matrices\" width=\"300\">\n",
        "<em>Addition of two matrices</em>\n",
        "\n",
        "Matrices can be added if they have the same shape:\n",
        "\n",
        "$${A} + {B} = {C}$$\n",
        "\n",
        "Each cell of ${A}$ is added to the corresponding cell of ${B}$:\n",
        "\n",
        "$${A}_{i,j} + {B}_{i,j} = {C}_{i,j}$$\n",
        "\n",
        "$i$ is the row index and $j$ the column index.\n",
        "\n",
        "$$\n",
        "\\begin{bmatrix}\n",
        "    A_{1,1} & A_{1,2} \\\\\\\\\n",
        "    A_{2,1} & A_{2,2} \\\\\\\\\n",
        "    A_{3,1} & A_{3,2}\n",
        "\\end{bmatrix}+\n",
        "\\begin{bmatrix}\n",
        "    B_{1,1} & B_{1,2} \\\\\\\\\n",
        "    B_{2,1} & B_{2,2} \\\\\\\\\n",
        "    B_{3,1} & B_{3,2}\n",
        "\\end{bmatrix}=\n",
        "\\begin{bmatrix}\n",
        "    A_{1,1} + B_{1,1} & A_{1,2} + B_{1,2} \\\\\\\\\n",
        "    A_{2,1} + B_{2,1} & A_{2,2} + B_{2,2} \\\\\\\\\n",
        "    A_{3,1} + B_{3,1} & A_{3,2} + B_{3,2}\n",
        "\\end{bmatrix}\n",
        "$$\n",
        "\n",
        "The shape of ${A}$, ${B}$ and ${C}$ are identical. Let's check that in an example:"
      ]
    },
    {
      "cell_type": "markdown",
      "metadata": {
        "id": "wjoXOb4h4K2B"
      },
      "source": [
        "### Example 4-Create two matrices A and B and add them"
      ]
    },
    {
      "cell_type": "markdown",
      "metadata": {
        "id": "ZEqTMSMN5rFd"
      },
      "source": [
        "With Numpy you can add matrices just as you would add vectors or scalars."
      ]
    },
    {
      "cell_type": "code",
      "metadata": {
        "colab": {
          "base_uri": "https://localhost:8080/"
        },
        "id": "Je4cnE9f3ZqK",
        "outputId": "3d27ec98-b5b9-4b3f-a021-5efb8d346be2"
      },
      "source": [
        "A = np.array([[1, 2], [3, 4], [5, 6]])\n",
        "A"
      ],
      "execution_count": 12,
      "outputs": [
        {
          "output_type": "execute_result",
          "data": {
            "text/plain": [
              "array([[1, 2],\n",
              "       [3, 4],\n",
              "       [5, 6]])"
            ]
          },
          "metadata": {
            "tags": []
          },
          "execution_count": 12
        }
      ]
    },
    {
      "cell_type": "code",
      "metadata": {
        "colab": {
          "base_uri": "https://localhost:8080/"
        },
        "id": "SzitG4JQ5yXA",
        "outputId": "e0a598c4-4798-4299-ff19-10ae6a92ee1b"
      },
      "source": [
        "B = np.array([[2, 5], [7, 4], [4, 3]])\n",
        "B"
      ],
      "execution_count": 13,
      "outputs": [
        {
          "output_type": "execute_result",
          "data": {
            "text/plain": [
              "array([[2, 5],\n",
              "       [7, 4],\n",
              "       [4, 3]])"
            ]
          },
          "metadata": {
            "tags": []
          },
          "execution_count": 13
        }
      ]
    },
    {
      "cell_type": "code",
      "metadata": {
        "colab": {
          "base_uri": "https://localhost:8080/"
        },
        "id": "d5eppXJt5z3r",
        "outputId": "acf788e9-dfc6-4a33-f2b8-68a287c68420"
      },
      "source": [
        "# Add matrices A and B\n",
        "C = A + B\n",
        "C"
      ],
      "execution_count": 14,
      "outputs": [
        {
          "output_type": "execute_result",
          "data": {
            "text/plain": [
              "array([[ 3,  7],\n",
              "       [10,  8],\n",
              "       [ 9,  9]])"
            ]
          },
          "metadata": {
            "tags": []
          },
          "execution_count": 14
        }
      ]
    },
    {
      "cell_type": "markdown",
      "metadata": {
        "id": "SSoINM2X6DVe"
      },
      "source": [
        "### Example 5-Add a scalar to a matrix"
      ]
    },
    {
      "cell_type": "markdown",
      "metadata": {
        "id": "7F-ZWjAr5-Ii"
      },
      "source": [
        "It is also possible to add a scalar to a matrix. This means adding this scalar to each cell of the matrix.\n",
        "\n",
        "$$\n",
        "\\alpha+ \\begin{bmatrix}\n",
        "    A_{1,1} & A_{1,2} \\\\\\\\\n",
        "    A_{2,1} & A_{2,2} \\\\\\\\\n",
        "    A_{3,1} & A_{3,2}\n",
        "\\end{bmatrix}=\n",
        "\\begin{bmatrix}\n",
        "    \\alpha + A_{1,1} & \\alpha + A_{1,2} \\\\\\\\\n",
        "    \\alpha + A_{2,1} & \\alpha + A_{2,2} \\\\\\\\\n",
        "    \\alpha + A_{3,1} & \\alpha + A_{3,2}\n",
        "\\end{bmatrix}\n",
        "$$"
      ]
    },
    {
      "cell_type": "code",
      "metadata": {
        "colab": {
          "base_uri": "https://localhost:8080/"
        },
        "id": "0ySa7-bZ54NT",
        "outputId": "442a9589-a999-4cfd-db87-f7e852723ad6"
      },
      "source": [
        "A"
      ],
      "execution_count": 15,
      "outputs": [
        {
          "output_type": "execute_result",
          "data": {
            "text/plain": [
              "array([[1, 2],\n",
              "       [3, 4],\n",
              "       [5, 6]])"
            ]
          },
          "metadata": {
            "tags": []
          },
          "execution_count": 15
        }
      ]
    },
    {
      "cell_type": "code",
      "metadata": {
        "colab": {
          "base_uri": "https://localhost:8080/"
        },
        "id": "q49pPtN76OWg",
        "outputId": "1900476c-c30f-4d65-9a3c-cfd20e43fb2f"
      },
      "source": [
        "# Exemple: Add 4 to the matrix A\n",
        "C = A + 4\n",
        "C"
      ],
      "execution_count": 16,
      "outputs": [
        {
          "output_type": "execute_result",
          "data": {
            "text/plain": [
              "array([[ 5,  6],\n",
              "       [ 7,  8],\n",
              "       [ 9, 10]])"
            ]
          },
          "metadata": {
            "tags": []
          },
          "execution_count": 16
        }
      ]
    },
    {
      "cell_type": "markdown",
      "metadata": {
        "id": "v-WtbMtB6ZpG"
      },
      "source": [
        "## Broadcasting"
      ]
    },
    {
      "cell_type": "markdown",
      "metadata": {
        "id": "RkuNtmm96ark"
      },
      "source": [
        "In the context of deep learning, we also use some less conventional notation.\n",
        "We allow the addition of matrix and a vector, yielding another matrix: $C = A + b$, where $C_{i,j} = A_{i,j} + b_j$ . In other words, the vector $b$ is added to each row of the matrix. This shorthand eliminates the need to define a matrix with $b$ copied into each row before doing the addition. **This implicit copying of $b$ to many locations is called broadcasting.**\n",
        "\n",
        "Numpy can handle operations on arrays of different shapes. The smaller array will be extended to match the shape of the bigger one. The advantage is that this is done in `C` under the hood (like any vectorized operations in Numpy).\n",
        "\n",
        "Actually, we used broadcasting in the example 5. The scalar was converted in an array of same shape as ${A}$ like so:\n",
        "\n",
        "$$\n",
        "\\alpha+ \\begin{bmatrix}\n",
        "    A_{1,1} & A_{1,2} \\\\\\\\\n",
        "    A_{2,1} & A_{2,2} \\\\\\\\\n",
        "    A_{3,1} & A_{3,2}\n",
        "\\end{bmatrix}=\n",
        "\\begin{bmatrix}\n",
        "    \\alpha & \\alpha \\\\\\\\\n",
        "    \\alpha & \\alpha \\\\\\\\\n",
        "    \\alpha & \\alpha \n",
        "\\end{bmatrix} + \\begin{bmatrix}\n",
        "    A_{1,1} & A_{1,2} \\\\\\\\\n",
        "    A_{2,1} & A_{2,2} \\\\\\\\\n",
        "    A_{3,1} & A_{3,2}\n",
        "\\end{bmatrix}=\n",
        "\\begin{bmatrix}\n",
        "    \\alpha + A_{1,1} & \\alpha + A_{1,2} \\\\\\\\\n",
        "    \\alpha + A_{2,1} & \\alpha + A_{2,2} \\\\\\\\\n",
        "    \\alpha + A_{3,1} & \\alpha + A_{3,2}\n",
        "\\end{bmatrix}\n",
        "$$\n",
        "\n",
        "Here is another generic example:\n",
        "\n",
        "$$\n",
        "\\begin{bmatrix}\n",
        "    A_{1,1} & A_{1,2} \\\\\\\\\n",
        "    A_{2,1} & A_{2,2} \\\\\\\\\n",
        "    A_{3,1} & A_{3,2}\n",
        "\\end{bmatrix}+\n",
        "\\begin{bmatrix}\n",
        "    B_{1,1} \\\\\\\\\n",
        "    B_{2,1} \\\\\\\\\n",
        "    B_{3,1}\n",
        "\\end{bmatrix}\n",
        "$$\n",
        "\n",
        "is equivalent to\n",
        "\n",
        "$$\n",
        "\\begin{bmatrix}\n",
        "    A_{1,1} & A_{1,2} \\\\\\\\\n",
        "    A_{2,1} & A_{2,2} \\\\\\\\\n",
        "    A_{3,1} & A_{3,2}\n",
        "\\end{bmatrix}+\n",
        "\\begin{bmatrix}\n",
        "    B_{1,1} & B_{1,1} \\\\\\\\\n",
        "    B_{2,1} & B_{2,1} \\\\\\\\\n",
        "    B_{3,1} & B_{3,1}\n",
        "\\end{bmatrix}=\n",
        "\\begin{bmatrix}\n",
        "    A_{1,1} + B_{1,1} & A_{1,2} + B_{1,1} \\\\\\\\\n",
        "    A_{2,1} + B_{2,1} & A_{2,2} + B_{2,1} \\\\\\\\\n",
        "    A_{3,1} + B_{3,1} & A_{3,2} + B_{3,1}\n",
        "\\end{bmatrix}\n",
        "$$\n",
        "\n",
        "where the ($3 \\times 1$) matrix is converted to the right shape ($3 \\times 2$) by copying the first column. Numpy will do that automatically if the shapes can match."
      ]
    },
    {
      "cell_type": "markdown",
      "metadata": {
        "id": "xgbjmAwx9uLl"
      },
      "source": [
        "### Example 6-Add two matrices of different shapes"
      ]
    },
    {
      "cell_type": "code",
      "metadata": {
        "colab": {
          "base_uri": "https://localhost:8080/"
        },
        "id": "lg3w5-UC6TlJ",
        "outputId": "1cb269f3-2023-4079-b271-c6ebfcc7ab1e"
      },
      "source": [
        "A = np.array([[1, 2], [3, 4], [5, 6]])\n",
        "A"
      ],
      "execution_count": 17,
      "outputs": [
        {
          "output_type": "execute_result",
          "data": {
            "text/plain": [
              "array([[1, 2],\n",
              "       [3, 4],\n",
              "       [5, 6]])"
            ]
          },
          "metadata": {
            "tags": []
          },
          "execution_count": 17
        }
      ]
    },
    {
      "cell_type": "code",
      "metadata": {
        "colab": {
          "base_uri": "https://localhost:8080/"
        },
        "id": "ASJ0ch9h9zYV",
        "outputId": "b7262507-e385-4f5a-a21a-18a5bb69857a"
      },
      "source": [
        "B = np.array([[2], [4], [6]])\n",
        "B"
      ],
      "execution_count": 18,
      "outputs": [
        {
          "output_type": "execute_result",
          "data": {
            "text/plain": [
              "array([[2],\n",
              "       [4],\n",
              "       [6]])"
            ]
          },
          "metadata": {
            "tags": []
          },
          "execution_count": 18
        }
      ]
    },
    {
      "cell_type": "code",
      "metadata": {
        "colab": {
          "base_uri": "https://localhost:8080/"
        },
        "id": "pFM18IFN91SH",
        "outputId": "9ff6b411-3f92-4da9-ee2e-a0cd1a97bb53"
      },
      "source": [
        "# Broadcasting\n",
        "C = A + B   # shape is matching (3x2)+(3x1)\n",
        "C"
      ],
      "execution_count": 19,
      "outputs": [
        {
          "output_type": "execute_result",
          "data": {
            "text/plain": [
              "array([[ 3,  4],\n",
              "       [ 7,  8],\n",
              "       [11, 12]])"
            ]
          },
          "metadata": {
            "tags": []
          },
          "execution_count": 19
        }
      ]
    },
    {
      "cell_type": "code",
      "metadata": {
        "colab": {
          "base_uri": "https://localhost:8080/",
          "height": 221
        },
        "id": "uIEZBc1R97A-",
        "outputId": "75456171-1e1d-47b7-b313-89349e705ca0"
      },
      "source": [
        "# Broadcasting\n",
        "B = np.array([[2], [4]])\n",
        "B\n",
        "\n",
        "C = A + B   # shape is not matching (3x2)+(2x1)\n",
        "C"
      ],
      "execution_count": 21,
      "outputs": [
        {
          "output_type": "error",
          "ename": "ValueError",
          "evalue": "ignored",
          "traceback": [
            "\u001b[0;31m---------------------------------------------------------------------------\u001b[0m",
            "\u001b[0;31mValueError\u001b[0m                                Traceback (most recent call last)",
            "\u001b[0;32m<ipython-input-21-b2fd3df77f18>\u001b[0m in \u001b[0;36m<module>\u001b[0;34m()\u001b[0m\n\u001b[1;32m      3\u001b[0m \u001b[0mB\u001b[0m\u001b[0;34m\u001b[0m\u001b[0;34m\u001b[0m\u001b[0m\n\u001b[1;32m      4\u001b[0m \u001b[0;34m\u001b[0m\u001b[0m\n\u001b[0;32m----> 5\u001b[0;31m \u001b[0mC\u001b[0m \u001b[0;34m=\u001b[0m \u001b[0mA\u001b[0m \u001b[0;34m+\u001b[0m \u001b[0mB\u001b[0m   \u001b[0;31m# shape is not matching (3x2)+(2x1)\u001b[0m\u001b[0;34m\u001b[0m\u001b[0;34m\u001b[0m\u001b[0m\n\u001b[0m\u001b[1;32m      6\u001b[0m \u001b[0mC\u001b[0m\u001b[0;34m\u001b[0m\u001b[0;34m\u001b[0m\u001b[0m\n",
            "\u001b[0;31mValueError\u001b[0m: operands could not be broadcast together with shapes (3,2) (2,1) "
          ]
        }
      ]
    },
    {
      "cell_type": "markdown",
      "metadata": {
        "id": "__FeW3ox-sI1"
      },
      "source": [
        "## References"
      ]
    },
    {
      "cell_type": "markdown",
      "metadata": {
        "id": "ivA4snnr-u4i"
      },
      "source": [
        "You can find basics operations on matrices simply explained [here](https://www.mathsisfun.com/algebra/matrix-introduction.html).\n",
        "\n",
        "- [Broadcasting in Numpy](https://docs.scipy.org/doc/numpy-1.13.0/user/basics.broadcasting.html)\n",
        "\n",
        "- [Discussion on Arrays and matrices](https://stackoverflow.com/questions/4151128/what-are-the-differences-between-numpy-arrays-and-matrices-which-one-should-i-u)\n",
        "\n",
        "- [Math is fun - Matrix introduction](https://www.mathsisfun.com/algebra/matrix-introduction.html)"
      ]
    }
  ]
}