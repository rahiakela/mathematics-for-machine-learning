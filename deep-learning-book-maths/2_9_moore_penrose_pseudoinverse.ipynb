{
  "nbformat": 4,
  "nbformat_minor": 0,
  "metadata": {
    "colab": {
      "provenance": [],
      "toc_visible": true,
      "authorship_tag": "ABX9TyNVj1BW+PdHNhDd0MTSh/Q1",
      "include_colab_link": true
    },
    "kernelspec": {
      "name": "python3",
      "display_name": "Python 3"
    },
    "language_info": {
      "name": "python"
    }
  },
  "cells": [
    {
      "cell_type": "markdown",
      "metadata": {
        "id": "view-in-github",
        "colab_type": "text"
      },
      "source": [
        "<a href=\"https://colab.research.google.com/github/rahiakela/mathematics-for-machine-learning/blob/main/deep-learning-book-maths/2_9_moore_penrose_pseudoinverse.ipynb\" target=\"_parent\"><img src=\"https://colab.research.google.com/assets/colab-badge.svg\" alt=\"Open In Colab\"/></a>"
      ]
    },
    {
      "cell_type": "markdown",
      "source": [
        "##The Moore-Penrose Pseudoinverse"
      ],
      "metadata": {
        "id": "IKtQpuOAWn8Y"
      }
    },
    {
      "cell_type": "markdown",
      "source": [
        "We saw that not all matrices have an inverse. It is unfortunate because the inverse is used to solve system of equations. In some cases, a system of equation has no solution, and thus the inverse doesn't exist. However it can be useful to find a value that is almost a solution (in term of minimizing the error). We will see for instance how we can find the best-fit line of a set of data points with the pseudoinverse.\n",
        "\n"
      ],
      "metadata": {
        "id": "W-btWPbn-f86"
      }
    },
    {
      "cell_type": "markdown",
      "source": [
        "##Setup"
      ],
      "metadata": {
        "id": "hu1fEM6AZFWr"
      }
    },
    {
      "cell_type": "code",
      "source": [
        "import numpy as np\n",
        "\n",
        "from PIL import Image\n",
        "\n",
        "import matplotlib.pyplot as plt\n",
        "import seaborn as sns"
      ],
      "metadata": {
        "id": "XMujFm6dZGgH"
      },
      "execution_count": 1,
      "outputs": []
    },
    {
      "cell_type": "code",
      "source": [
        "# Plot parameters\n",
        "sns.set()\n",
        "%pylab inline\n",
        "pylab.rcParams['figure.figsize'] = (4, 4)\n",
        "plt.rcParams['xtick.major.size'] = 0\n",
        "plt.rcParams['ytick.major.size'] = 0\n",
        "# Avoid inaccurate floating values (for inverse matrices in dot product for instance)\n",
        "# See https://stackoverflow.com/questions/24537791/numpy-matrix-inversion-rounding-errors\n",
        "np.set_printoptions(suppress=True)"
      ],
      "metadata": {
        "id": "dI6fjg6qZG7p",
        "outputId": "377a174b-eecf-4c51-abf3-063794d7f3d5",
        "colab": {
          "base_uri": "https://localhost:8080/"
        }
      },
      "execution_count": 2,
      "outputs": [
        {
          "output_type": "stream",
          "name": "stdout",
          "text": [
            "Populating the interactive namespace from numpy and matplotlib\n"
          ]
        }
      ]
    },
    {
      "cell_type": "markdown",
      "source": [
        "## Intuition"
      ],
      "metadata": {
        "id": "9Tbolg9LYAzH"
      }
    },
    {
      "cell_type": "markdown",
      "source": [
        "The Moore-Penrose pseudoinverse is a direct application of the SVD (see [2.8](https://hadrienj.github.io/posts/Deep-Learning-Book-Series-2.8-Singular-Value-Decomposition/)). But before all, we have to remind that systems of equations can be expressed under the matrix form.\n",
        "\n",
        "As we have seen in [2.3](https://hadrienj.github.io/posts/Deep-Learning-Book-Series-2.3-Identity-and-Inverse-Matrices/), the inverse of a matrix ${A}$ can be used to solve the equation ${Ax}={b}$:\n",
        "\n",
        "$$\n",
        "{A}^{-1}{Ax}={A}^{-1}{b}\n",
        "$$\n",
        "\n",
        "$$\n",
        "{I}_n{x}={A}^{-1}{b}\n",
        "$$\n",
        "\n",
        "$$\n",
        "{x}={A}^{-1}{b}\n",
        "$$\n",
        "\n",
        "But in the case where the set of equations have 0 or many solutions the inverse cannot be found and the equation cannot be solved. The pseudoinverse is ${A}^+$ such as:\n",
        "\n",
        "$$\n",
        "{A}{A}^+\\approx{I_n}\n",
        "$$\n",
        "\n",
        "minimizing\n",
        "\n",
        "$$||{{A}{A}^+-{I_n}}||_2$$\n",
        "\n",
        "The following formula can be used to find the pseudoinverse:\n",
        "\n",
        "$$\n",
        "{A}^+= {VD}^+{U}^T\n",
        "$$\n",
        "\n",
        "with ${U}$, ${D}$ and ${V}$ respectively the left singular vectors, the singular values and the right singular vectors of ${A}$ (see the SVD in [2.8](https://hadrienj.github.io/posts/Deep-Learning-Book-Series-2.8-Singular-Value-Decomposition/)). ${A}^+$ is the pseudoinverse of ${A}$ and ${D}^+$ the pseudoinverse of ${D}$. We saw that ${D}$ is a diagonal matrix and thus ${D}^+$ can be calculated by taking the reciprocal of the non zero values of ${D}$.\n",
        "\n",
        "This is a bit crude but we will see some examples to clarify all of this."
      ],
      "metadata": {
        "id": "nQNsQZpSMOEx"
      }
    },
    {
      "cell_type": "markdown",
      "source": [
        "### Example 1: SVD and its pseudoinverse"
      ],
      "metadata": {
        "id": "voFIEJvHYd0d"
      }
    },
    {
      "cell_type": "markdown",
      "source": [
        "Let's see how to implement that. We will create a non square matrix ${A}$, calculate its singular value decomposition and its pseudoinverse.\n",
        "\n",
        "$$\n",
        "{A}=\\begin{bmatrix}\n",
        "    7 & 2\\\\\\\\\n",
        "    3 & 4\\\\\\\\\n",
        "    5 & 3\n",
        "\\end{bmatrix}\n",
        "$$"
      ],
      "metadata": {
        "id": "wFUMkHZcMZRZ"
      }
    },
    {
      "cell_type": "code",
      "source": [
        "A = np.array([\n",
        "  [7, 2],\n",
        "  [3, 4],\n",
        "  [5, 3]\n",
        "])\n",
        "\n",
        "U, D, V = np.linalg.svd(A)\n",
        "\n",
        "D_plus = np.zeros((A.shape[0], A.shape[1])).T\n",
        "D_plus[:D.shape[0], :D.shape[0]] = np.linalg.inv(np.diag(D))\n",
        "\n",
        "A_plus = V.T.dot(D_plus).dot(U.T)\n",
        "A_plus"
      ],
      "metadata": {
        "colab": {
          "base_uri": "https://localhost:8080/"
        },
        "id": "ojWoxexcMaPJ",
        "outputId": "4f0e4786-9b1a-4c91-d778-8f530b7b6f0c"
      },
      "execution_count": 3,
      "outputs": [
        {
          "output_type": "execute_result",
          "data": {
            "text/plain": [
              "array([[ 0.16666667, -0.10606061,  0.03030303],\n",
              "       [-0.16666667,  0.28787879,  0.06060606]])"
            ]
          },
          "metadata": {},
          "execution_count": 3
        }
      ]
    },
    {
      "cell_type": "markdown",
      "source": [
        "We can now check with the `pinv()` function from Numpy that the pseudoinverse is correct:"
      ],
      "metadata": {
        "id": "rMaEXLmNPZ0g"
      }
    },
    {
      "cell_type": "code",
      "source": [
        "np.linalg.pinv(A)"
      ],
      "metadata": {
        "colab": {
          "base_uri": "https://localhost:8080/"
        },
        "id": "-f5-4MCrPaR5",
        "outputId": "8413f36c-1b00-416c-d2cb-34275407d042"
      },
      "execution_count": 4,
      "outputs": [
        {
          "output_type": "execute_result",
          "data": {
            "text/plain": [
              "array([[ 0.16666667, -0.10606061,  0.03030303],\n",
              "       [-0.16666667,  0.28787879,  0.06060606]])"
            ]
          },
          "metadata": {},
          "execution_count": 4
        }
      ]
    },
    {
      "cell_type": "markdown",
      "source": [
        "It looks good! We can now check that it is really the near inverse of ${A}$. Since we know that\n",
        "\n",
        "$${A}^{-1}{A}={I_n}$$\n",
        "\n",
        "with\n",
        "\n",
        "$${I_2}=\\begin{bmatrix}\n",
        "    1 & 0 \\\\\\\\\n",
        "    0 & 1\n",
        "\\end{bmatrix}\n",
        "$$"
      ],
      "metadata": {
        "id": "Pvtcn5wNPjn4"
      }
    },
    {
      "cell_type": "code",
      "source": [
        "A_plus.dot(A)"
      ],
      "metadata": {
        "colab": {
          "base_uri": "https://localhost:8080/"
        },
        "id": "iZZvFxscPo3I",
        "outputId": "789fb25b-05a2-40ac-95b7-18a61a655d9b"
      },
      "execution_count": 5,
      "outputs": [
        {
          "output_type": "execute_result",
          "data": {
            "text/plain": [
              "array([[1., 0.],\n",
              "       [0., 1.]])"
            ]
          },
          "metadata": {},
          "execution_count": 5
        }
      ]
    },
    {
      "cell_type": "markdown",
      "source": [
        "This is not bad! This is almost the identity matrix!\n",
        "\n",
        "A difference with the real inverse is that ${A}^+{A}\\approx{I}$ but ${A}{A}^+\\neq{I}$.\n"
      ],
      "metadata": {
        "id": "J3n59KOtQFji"
      }
    },
    {
      "cell_type": "code",
      "source": [
        "A.dot(A_plus)"
      ],
      "metadata": {
        "colab": {
          "base_uri": "https://localhost:8080/"
        },
        "id": "okW_o5A6QPNU",
        "outputId": "b00101d7-0f0a-4885-8337-c73e53b33522"
      },
      "execution_count": 6,
      "outputs": [
        {
          "output_type": "execute_result",
          "data": {
            "text/plain": [
              "array([[ 0.83333333, -0.16666667,  0.33333333],\n",
              "       [-0.16666667,  0.83333333,  0.33333333],\n",
              "       [ 0.33333333,  0.33333333,  0.33333333]])"
            ]
          },
          "metadata": {},
          "execution_count": 6
        }
      ]
    },
    {
      "cell_type": "markdown",
      "source": [
        "Another way of computing the pseudoinverse is to use this formula:\n",
        "\n",
        "$$\n",
        "({A}^T{A})^{-1}{A}^T\n",
        "$$\n",
        "\n",
        "The result is less acurate than the SVD method and Numpy `pinv()` uses the SVD ([cf Numpy doc](https://docs.scipy.org/doc/numpy/reference/generated/numpy.linalg.pinv.html)). \n",
        "\n",
        "Here is an example from the same matrix ${A}$:"
      ],
      "metadata": {
        "id": "LLo1jtROQjdQ"
      }
    },
    {
      "cell_type": "code",
      "source": [
        "A_plus_1 = np.linalg.inv(A.T.dot(A)).dot(A.T)\n",
        "A_plus_1"
      ],
      "metadata": {
        "colab": {
          "base_uri": "https://localhost:8080/"
        },
        "id": "5lSAog3VQijJ",
        "outputId": "20cf42cd-e0eb-4cac-8d0c-bc9e54ea977c"
      },
      "execution_count": 7,
      "outputs": [
        {
          "output_type": "execute_result",
          "data": {
            "text/plain": [
              "array([[ 0.16666667, -0.10606061,  0.03030303],\n",
              "       [-0.16666667,  0.28787879,  0.06060606]])"
            ]
          },
          "metadata": {},
          "execution_count": 7
        }
      ]
    },
    {
      "cell_type": "markdown",
      "source": [
        "In this case the result is the same as with the SVD way."
      ],
      "metadata": {
        "id": "kVJDbM2tRJUi"
      }
    },
    {
      "cell_type": "markdown",
      "source": [
        "##Over-determined Linear System"
      ],
      "metadata": {
        "id": "QMkyIrkRZXHG"
      }
    },
    {
      "cell_type": "markdown",
      "source": [
        "In general there is no solution to overdetermined systems (see [2.4](https://hadrienj.github.io/posts/Deep-Learning-Book-Series-2.4-Linear-Dependence-and-Span/) ; [Overdetermined systems](https://en.wikipedia.org/wiki/Overdetermined_system)). \n",
        "\n",
        "In the following picture, there is no point at the intersection of the three lines corresponding to three equations:\n",
        "\n",
        "<img src=\"https://github.com/rahiakela/mathematics-for-machine-learning/blob/main/deep-learning-book-maths/images/overdetermined-system-equations.png?raw=1\" width=\"300\" alt=\"Example of three linear equations in 2 dimensions: this is an overdetermined system\" title=\"Overdetermined system of equations\">\n",
        "\n",
        "<em>There is more equations (3) than unknowns (2) so this is an overdetermined system of equations</em>\n",
        "\n",
        "The pseudoinverse solve the system in the least square error perspective: it finds the solution that minimize the error. We will see this more explicitly with an example.\n",
        "\n",
        "\n",
        ">**The pseudoinverse solve the system in the least square error perspective**"
      ],
      "metadata": {
        "id": "kejeA2hVZX1A"
      }
    },
    {
      "cell_type": "markdown",
      "source": [
        "###Example 2: Over-determined equation"
      ],
      "metadata": {
        "id": "y6X3amYeRqKw"
      }
    },
    {
      "cell_type": "markdown",
      "source": [
        "For this example we will consider this set of three equations with two unknowns:\n",
        "\n",
        "$$\n",
        "\\begin{cases}\n",
        "-2x_1 + 2 = x_2 \\\\\\\\\n",
        "4x_1 + 8 = x_2 \\\\\\\\\n",
        "-1x_1 + 2 = x_2\n",
        "\\end{cases}\n",
        "\\Leftrightarrow\n",
        "\\begin{cases}\n",
        "-2x_1 - x_2 = -2 \\\\\\\\\n",
        "4x_1 - x_2 = -8 \\\\\\\\\n",
        "-1x_1 - x_2 = -2\n",
        "\\end{cases}\n",
        "$$\n",
        "\n",
        "Let's see their graphical representation:"
      ],
      "metadata": {
        "id": "2QGt7PviSIHh"
      }
    },
    {
      "cell_type": "code",
      "source": [
        "x1 = np.linspace(-5, 5, 1000)\n",
        "\n",
        "x2_1 = -2 * x1 + 2\n",
        "x2_2 = 4 * x1 + 8\n",
        "x2_3 = -1 * x1 + 2\n",
        "\n",
        "plt.plot(x1, x2_1)\n",
        "plt.plot(x1, x2_2)\n",
        "plt.plot(x1, x2_3)\n",
        "\n",
        "plt.xlim(-2., 1)\n",
        "plt.ylim(1, 5)\n",
        "plt.show()"
      ],
      "metadata": {
        "id": "dcywqFLfZa5k",
        "outputId": "345d1a24-f271-4c85-988a-fa6cfdc1ae3d",
        "colab": {
          "base_uri": "https://localhost:8080/",
          "height": 266
        }
      },
      "execution_count": 8,
      "outputs": [
        {
          "output_type": "display_data",
          "data": {
            "text/plain": [
              "<Figure size 288x288 with 1 Axes>"
            ],
            "image/png": "[encoded data removed]"
          },
          "metadata": {
            "needs_background": "light"
          }
        }
      ]
    },
    {
      "cell_type": "markdown",
      "source": [
        "We actually see that there is no solution.\n",
        "\n",
        "Putting this into the matrix form we have:\n",
        "\n",
        "$$\n",
        "{A}=\n",
        "\\begin{bmatrix}\n",
        "    -2 & -1 \\\\\\\\\n",
        "    4 & -1 \\\\\\\\\n",
        "    -1 & -1\n",
        "\\end{bmatrix}\n",
        "$$\n",
        "\n",
        "$$\n",
        "{x}=\n",
        "\\begin{bmatrix}\n",
        "    x_1 \\\\\\\\\n",
        "    x_2\n",
        "\\end{bmatrix}\n",
        "$$\n",
        "\n",
        "and\n",
        "\n",
        "$$\n",
        "{b}=\n",
        "\\begin{bmatrix}\n",
        "    -2 \\\\\\\\\n",
        "    -8 \\\\\\\\\n",
        "    -2\n",
        "\\end{bmatrix}\n",
        "$$\n",
        "\n",
        "So we have:\n",
        "\n",
        "$$\n",
        "{Ax} = {b}\n",
        "\\Leftrightarrow\n",
        "\\begin{bmatrix}\n",
        "    -2 & -1 \\\\\\\\\n",
        "    4 & -1 \\\\\\\\\n",
        "    -1 & -1\n",
        "\\end{bmatrix}\n",
        "\\begin{bmatrix}\n",
        "    x_1 \\\\\\\\\n",
        "    x_2\n",
        "\\end{bmatrix}\n",
        "=\n",
        "\\begin{bmatrix}\n",
        "    -2 \\\\\\\\\n",
        "    -8 \\\\\\\\\n",
        "    -2\n",
        "\\end{bmatrix}\n",
        "$$\n",
        "\n",
        "We will now calculate the pseudoinverse of ${A}$:"
      ],
      "metadata": {
        "id": "jZmJAJ8fd1Wp"
      }
    },
    {
      "cell_type": "code",
      "source": [
        "A = np.array([\n",
        "  [-2, -1],\n",
        "  [4, -1],\n",
        "  [-1, -1]\n",
        "])\n",
        "\n",
        "A_plus = np.linalg.pinv(A)\n",
        "A_plus"
      ],
      "metadata": {
        "id": "OXdmu18q-dZE",
        "outputId": "ec7c7929-d41e-480a-c05d-1bc289131599",
        "colab": {
          "base_uri": "https://localhost:8080/"
        }
      },
      "execution_count": 9,
      "outputs": [
        {
          "output_type": "execute_result",
          "data": {
            "text/plain": [
              "array([[-0.11290323,  0.17741935, -0.06451613],\n",
              "       [-0.37096774, -0.27419355, -0.35483871]])"
            ]
          },
          "metadata": {},
          "execution_count": 9
        }
      ]
    },
    {
      "cell_type": "markdown",
      "source": [
        "Now that we have calculated the pseudoinverse of ${A}$:\n",
        "\n",
        "$$\n",
        "{A}^+=\n",
        "\\begin{bmatrix}\n",
        "    -0.11290323 &  0.17741935 & -0.06451613 \\\\\\\\\n",
        "    -0.37096774 & -0.27419355 & -0.35483871\n",
        "\\end{bmatrix}\n",
        "$$\n",
        "\n",
        "we can use it to find ${x}$ knowing that:\n",
        "\n",
        "$$\n",
        "{x}={A}^+{b}\n",
        "$$\n",
        "\n",
        "with:\n",
        "\n",
        "$$\n",
        "{x}\n",
        "=\n",
        "\\begin{bmatrix}\n",
        "    x1 \\\\\\\\\n",
        "    x2\n",
        "\\end{bmatrix}\n",
        "$$"
      ],
      "metadata": {
        "id": "nenczpyZAO5c"
      }
    },
    {
      "cell_type": "code",
      "source": [
        "b = np.array([\n",
        "  [-2],\n",
        "  [-8],\n",
        "  [-2]\n",
        "])\n",
        "\n",
        "result = A_plus.dot(b)\n",
        "result"
      ],
      "metadata": {
        "id": "u4kh-c6yAUIL",
        "outputId": "beb7e23e-dcfa-467b-e610-ebf6e6361ce6",
        "colab": {
          "base_uri": "https://localhost:8080/"
        }
      },
      "execution_count": 10,
      "outputs": [
        {
          "output_type": "execute_result",
          "data": {
            "text/plain": [
              "array([[-1.06451613],\n",
              "       [ 3.64516129]])"
            ]
          },
          "metadata": {},
          "execution_count": 10
        }
      ]
    },
    {
      "cell_type": "markdown",
      "source": [
        "So we have\n",
        "\n",
        "$$\n",
        "\\begin{align*}\n",
        "{A}^+{b}&=\n",
        "\\begin{bmatrix}\n",
        "    -0.11290323 &  0.17741935 & -0.06451613 \\\\\\\\\n",
        "    -0.37096774 & -0.27419355 & -0.35483871\n",
        "\\end{bmatrix}\n",
        "\\begin{bmatrix}\n",
        "    -2 \\\\\\\\\n",
        "    -8 \\\\\\\\\n",
        "    -2\n",
        "\\end{bmatrix}\\\\\\\\\n",
        "&=\n",
        "\\begin{bmatrix}\n",
        "    -1.06451613 \\\\\\\\\n",
        "    3.64516129\n",
        "\\end{bmatrix}\n",
        "\\end{align*}\n",
        "$$\n",
        "\n",
        "In our two dimensions, the coordinates of ${x}$ are\n",
        "\n",
        "$$\n",
        "\\begin{bmatrix}\n",
        "    -1.06451613 \\\\\\\\\n",
        "    3.64516129\n",
        "\\end{bmatrix}\n",
        "$$\n",
        "\n",
        "Let's plot this point along with the equations lines:"
      ],
      "metadata": {
        "id": "u9d6alCkA6lA"
      }
    },
    {
      "cell_type": "code",
      "source": [
        "plt.plot(x1, x2_1)\n",
        "plt.plot(x1, x2_2)\n",
        "plt.plot(x1, x2_3)\n",
        "\n",
        "plt.xlim(-2., 1)\n",
        "plt.ylim(1, 5)\n",
        "\n",
        "plt.scatter(result[0], result[1])\n",
        "\n",
        "plt.show()"
      ],
      "metadata": {
        "id": "23HHlVP_A_ef",
        "outputId": "644e081f-c363-4c79-bd7f-df99371634af",
        "colab": {
          "base_uri": "https://localhost:8080/",
          "height": 266
        }
      },
      "execution_count": 11,
      "outputs": [
        {
          "output_type": "display_data",
          "data": {
            "text/plain": [
              "<Figure size 288x288 with 1 Axes>"
            ],
            "image/png": "[encoded data removed]"
          },
          "metadata": {
            "needs_background": "light"
          }
        }
      ]
    },
    {
      "cell_type": "markdown",
      "source": [
        "Maybe you would have expected the point being at the barycenter of the triangle (cf. [Least square solution in the triangle center](https://math.stackexchange.com/questions/471812/is-the-least-squares-solution-to-an-overdetermined-system-a-triangle-center)). \n",
        "\n",
        "This is not the case becase the equations are not scaled the same way. Actually the point is at the intersection of the three [symmedians](https://en.wikipedia.org/wiki/Symmedian) of the triangle."
      ],
      "metadata": {
        "id": "WVyDKlJ5Br3e"
      }
    },
    {
      "cell_type": "markdown",
      "source": [
        "### Example 3: Fit a line"
      ],
      "metadata": {
        "id": "FQxVcW-Jd3Kn"
      }
    },
    {
      "cell_type": "markdown",
      "source": [
        "This method can also be used to fit a line to a set of points. \n",
        "\n",
        "Let's take the following data points:\n",
        "\n",
        "<img src=\"https://github.com/rahiakela/mathematics-for-machine-learning/blob/main/deep-learning-book-maths/images/dataset-representation.png?raw=1\" width=\"300\" alt=\"Representation of a set of data points\" title=\"Some data points\">\n",
        "\n",
        "<em>We want to fit a line to this set of data points</em>\n",
        "\n",
        "We have this set of ${x}$ and ${y}$ and we are looking for the line $y=mx+b$ that minimizes the error. The error can be evaluated as the sum of the differences between the fit and the actual data points. We can represent the data points with a matrix equations:\n",
        "\n",
        "$$\n",
        "{Ax} = {b}\n",
        "\\Leftrightarrow\n",
        "\\begin{bmatrix}\n",
        "    0 & 1 \\\\\\\\\n",
        "    1 & 1 \\\\\\\\\n",
        "    2 & 1 \\\\\\\\\n",
        "    3 & 1 \\\\\\\\\n",
        "    3 & 1 \\\\\\\\\n",
        "    4 & 1\n",
        "\\end{bmatrix}\n",
        "\\begin{bmatrix}\n",
        "    m \\\\\\\\\n",
        "    b\n",
        "\\end{bmatrix}\n",
        "=\n",
        "\\begin{bmatrix}\n",
        "    2 \\\\\\\\\n",
        "    4 \\\\\\\\\n",
        "    0 \\\\\\\\\n",
        "    2 \\\\\\\\\n",
        "    5 \\\\\\\\\n",
        "    3\n",
        "\\end{bmatrix}\n",
        "$$\n",
        "\n",
        "Note that here the matrix ${A}$ represents the values of the coefficients. The column of 1 correspond to the intercepts (without it the fit would have the constraint to cross the origin). It gives the following set of equations:\n",
        "\n",
        "$$\n",
        "\\begin{cases}\n",
        "    0m + 1b = 2 \\\\\\\\\n",
        "    1m + 1b = 4 \\\\\\\\\n",
        "    2m + 1b = 0 \\\\\\\\\n",
        "    3m + 1b = 2 \\\\\\\\\n",
        "    3m + 1b = 5 \\\\\\\\\n",
        "    4m + 1b = 3\n",
        "\\end{cases}\n",
        "$$\n",
        "\n",
        "We have the set of equations $mx+b=y$. The ones are used to give back the intercept parameter. For instance, in the first equation corresponding to the first point we have well $x=0$ and $y=2$. This can be confusing because here the vector ${x}$ corresponds to the coefficients. This is because the problem is different from the other examples: we are looking for the coefficients of a line and not for $x$ and $y$ unknowns. We kept this notation to indicate the similarity with the last examples.\n",
        "\n",
        "So we will construct these matrices and try to use the pseudoinverse to find the equation of the line minimizing the error (difference between the line and the actual data points).\n",
        "\n",
        "Let's start with the creation of the matrix of ${A}$ and ${b}$:"
      ],
      "metadata": {
        "id": "lEs2anVJd956"
      }
    },
    {
      "cell_type": "code",
      "source": [
        "A = np.array([\n",
        "  [0, 1], \n",
        "  [1, 1], \n",
        "  [2, 1], \n",
        "  [3, 1], \n",
        "  [3, 1], \n",
        "  [4, 1]\n",
        "])\n",
        "\n",
        "b = np.array([\n",
        "  [2], [4], [0], [2], [5], [3]\n",
        "])"
      ],
      "metadata": {
        "id": "r_wJkMceKtVz"
      },
      "execution_count": 12,
      "outputs": []
    },
    {
      "cell_type": "markdown",
      "source": [
        "We can now calculate the pseudoinverse of ${A}$:"
      ],
      "metadata": {
        "id": "jiP4Sx2JVqHF"
      }
    },
    {
      "cell_type": "code",
      "source": [
        "A_plus = np.linalg.pinv(A)\n",
        "A_plus"
      ],
      "metadata": {
        "id": "45aT9DtLVrRI",
        "outputId": "f9a62fe8-bfd5-49f2-99bf-1c31724385e8",
        "colab": {
          "base_uri": "https://localhost:8080/"
        }
      },
      "execution_count": 13,
      "outputs": [
        {
          "output_type": "execute_result",
          "data": {
            "text/plain": [
              "array([[-0.2       , -0.10769231, -0.01538462,  0.07692308,  0.07692308,\n",
              "         0.16923077],\n",
              "       [ 0.6       ,  0.4       ,  0.2       ,  0.        ,  0.        ,\n",
              "        -0.2       ]])"
            ]
          },
          "metadata": {},
          "execution_count": 13
        }
      ]
    },
    {
      "cell_type": "markdown",
      "source": [
        "and apply it to the result to find the coefficients with the formula:\n",
        "\n",
        "$$\n",
        "{x}={A}^+{b}\n",
        "$$"
      ],
      "metadata": {
        "id": "VntA-gZmV5aT"
      }
    },
    {
      "cell_type": "code",
      "source": [
        "coefs = A_plus.dot(b)\n",
        "coefs"
      ],
      "metadata": {
        "id": "UZQZCM4eV7ta",
        "outputId": "38f7fab2-0c51-497a-8e66-f21745e78ac9",
        "colab": {
          "base_uri": "https://localhost:8080/"
        }
      },
      "execution_count": 14,
      "outputs": [
        {
          "output_type": "execute_result",
          "data": {
            "text/plain": [
              "array([[0.21538462],\n",
              "       [2.2       ]])"
            ]
          },
          "metadata": {},
          "execution_count": 14
        }
      ]
    },
    {
      "cell_type": "markdown",
      "source": [
        "These are the parameters of the fit. \n",
        "\n",
        "The slope is $m=0.21538462$ and the intercept is $b=2.2$. \n",
        "\n",
        "We will plot the data points and the regression line: "
      ],
      "metadata": {
        "id": "XXkDEB5rWEW4"
      }
    },
    {
      "cell_type": "code",
      "source": [
        "x = np.linspace(-1, 5, 1000)\n",
        "y = coefs[0] * x + coefs[1]\n",
        "\n",
        "plt.plot(A[:, 0], b, \"*\")\n",
        "plt.plot(x, y)\n",
        "plt.xlim(-1., 6)\n",
        "plt.ylim(-0.5, 5.5)\n",
        "\n",
        "plt.show()"
      ],
      "metadata": {
        "id": "193qmaKDWF5P",
        "outputId": "c7c194c2-7127-49a7-a73b-68d299b5b448",
        "colab": {
          "base_uri": "https://localhost:8080/",
          "height": 262
        }
      },
      "execution_count": 15,
      "outputs": [
        {
          "output_type": "display_data",
          "data": {
            "text/plain": [
              "<Figure size 288x288 with 1 Axes>"
            ],
            "image/png": "[encoded data removed]"
          },
          "metadata": {
            "needs_background": "light"
          }
        }
      ]
    },
    {
      "cell_type": "markdown",
      "source": [
        "That's good! We have seen how to use the pseudoinverse in order to solve a simple regression problem. \n",
        "\n",
        "Let's see with a more realistic case."
      ],
      "metadata": {
        "id": "2CHsC8JIWkGz"
      }
    },
    {
      "cell_type": "markdown",
      "source": [
        "### Example 4:Least-square fitting"
      ],
      "metadata": {
        "id": "oRPof_SJWm3H"
      }
    },
    {
      "cell_type": "markdown",
      "source": [
        "To see the process with more data points we can generate data (see [this nice blog post](https://mec560sbu.github.io/2016/08/29/Least_SQ_Fitting/) for other methods of fitting).\n",
        "\n",
        "We will generate a column vector (see `reshape()` bellow) containing 100 points with random $x$ values and pseudo-random $y$ values. The function `seed()` from the [Numpy.random package](https://docs.scipy.org/doc/numpy/reference/generated/numpy.random.seed.html) is used to freeze the randomisation and be able to reproduce the results:"
      ],
      "metadata": {
        "id": "RkTIzAQCW2GR"
      }
    },
    {
      "cell_type": "code",
      "source": [
        "np.random.seed(123)\n",
        "\n",
        "x = 5 * np.random.rand(100)\n",
        "y = 2 * x + 1 + np.random.rand(100)\n",
        "\n",
        "x = x.reshape(100, 1)\n",
        "y = y.reshape(100, 1)\n",
        "x[:10]"
      ],
      "metadata": {
        "id": "bPuJZtavW5M2",
        "outputId": "2f66b7a0-d9fc-46ed-84ea-b12955759d26",
        "colab": {
          "base_uri": "https://localhost:8080/"
        }
      },
      "execution_count": 17,
      "outputs": [
        {
          "output_type": "execute_result",
          "data": {
            "text/plain": [
              "array([[3.48234593],\n",
              "       [1.43069667],\n",
              "       [1.13425727],\n",
              "       [2.75657385],\n",
              "       [3.59734485],\n",
              "       [2.1155323 ],\n",
              "       [4.90382099],\n",
              "       [3.42414869],\n",
              "       [2.40465951],\n",
              "       [1.96058759]])"
            ]
          },
          "metadata": {},
          "execution_count": 17
        }
      ]
    },
    {
      "cell_type": "code",
      "source": [
        "y[:10]"
      ],
      "metadata": {
        "id": "Eq8TR1avXssL",
        "outputId": "f830475c-e647-411e-f62f-344f59973434",
        "colab": {
          "base_uri": "https://localhost:8080/"
        }
      },
      "execution_count": 18,
      "outputs": [
        {
          "output_type": "execute_result",
          "data": {
            "text/plain": [
              "array([[ 8.47782001],\n",
              "       [ 4.5280179 ],\n",
              "       [ 3.37442302],\n",
              "       [ 6.64404264],\n",
              "       [ 8.5166703 ],\n",
              "       [ 5.89262894],\n",
              "       [11.65414821],\n",
              "       [ 8.40155473],\n",
              "       [ 6.6637715 ],\n",
              "       [ 5.30601299]])"
            ]
          },
          "metadata": {},
          "execution_count": 18
        }
      ]
    },
    {
      "cell_type": "markdown",
      "source": [
        "We will create the matrix ${A}$ from ${x}$ by adding a column of ones exactly like we did in the example 3."
      ],
      "metadata": {
        "id": "afQggDTMXxS0"
      }
    },
    {
      "cell_type": "code",
      "source": [
        "A = np.hstack((x, np.ones(np.shape(x))))\n",
        "A[:10]"
      ],
      "metadata": {
        "id": "jl1RZ4mEXzQy",
        "outputId": "071075b3-af53-4c80-af0b-0d0d56dd11cd",
        "colab": {
          "base_uri": "https://localhost:8080/"
        }
      },
      "execution_count": 19,
      "outputs": [
        {
          "output_type": "execute_result",
          "data": {
            "text/plain": [
              "array([[3.48234593, 1.        ],\n",
              "       [1.43069667, 1.        ],\n",
              "       [1.13425727, 1.        ],\n",
              "       [2.75657385, 1.        ],\n",
              "       [3.59734485, 1.        ],\n",
              "       [2.1155323 , 1.        ],\n",
              "       [4.90382099, 1.        ],\n",
              "       [3.42414869, 1.        ],\n",
              "       [2.40465951, 1.        ],\n",
              "       [1.96058759, 1.        ]])"
            ]
          },
          "metadata": {},
          "execution_count": 19
        }
      ]
    },
    {
      "cell_type": "markdown",
      "source": [
        "We can now find the pseudoinverse of ${A}$ and calculate the coefficients of the regression line:"
      ],
      "metadata": {
        "id": "tSfsWbGbYCk_"
      }
    },
    {
      "cell_type": "code",
      "source": [
        "A_plus = np.linalg.pinv(A)\n",
        "coefs = A_plus.dot(y)\n",
        "coefs"
      ],
      "metadata": {
        "id": "UfZvkd7SYDz6",
        "outputId": "023e3a23-fb7b-4597-eb8d-d840ffc40dd1",
        "colab": {
          "base_uri": "https://localhost:8080/"
        }
      },
      "execution_count": 20,
      "outputs": [
        {
          "output_type": "execute_result",
          "data": {
            "text/plain": [
              "array([[1.97849538],\n",
              "       [1.55902793]])"
            ]
          },
          "metadata": {},
          "execution_count": 20
        }
      ]
    },
    {
      "cell_type": "markdown",
      "source": [
        "We can finally draw the point and the regression line:"
      ],
      "metadata": {
        "id": "JXHW7LyUYT3V"
      }
    },
    {
      "cell_type": "code",
      "source": [
        "x_line = np.linspace(0, 5, 1000)\n",
        "y_line = coefs[0] * x_line + coefs[1]\n",
        "\n",
        "plt.plot(x, y, \"*\")\n",
        "plt.plot(x_line, y_line)\n",
        "plt.xlim(0, 5)\n",
        "plt.ylim(-2, 12)\n",
        "plt.show()"
      ],
      "metadata": {
        "id": "xeUIADerYURf",
        "outputId": "88f612c8-d718-4726-a48b-92e150a7d494",
        "colab": {
          "base_uri": "https://localhost:8080/",
          "height": 266
        }
      },
      "execution_count": 24,
      "outputs": [
        {
          "output_type": "display_data",
          "data": {
            "text/plain": [
              "<Figure size 288x288 with 1 Axes>"
            ],
            "image/png": "[encoded data removed]"
          },
          "metadata": {
            "needs_background": "light"
          }
        }
      ]
    },
    {
      "cell_type": "markdown",
      "source": [
        "Looks good!"
      ],
      "metadata": {
        "id": "5ELv95MdZ5wK"
      }
    },
    {
      "cell_type": "markdown",
      "source": [
        "##Conclusion"
      ],
      "metadata": {
        "id": "9yZCkIhiZcoH"
      }
    },
    {
      "cell_type": "markdown",
      "source": [
        "You can see that the pseudoinverse can be very useful for this kind of problems! The series is not completely finished since we still have 3 chapters to cover. \n",
        "\n",
        "However, we have done the hardest part! We will now see two very light chapters before going to a nice example using all the linear algebra we have learn: the PCA."
      ],
      "metadata": {
        "id": "6Pq-R_3BZfvb"
      }
    },
    {
      "cell_type": "markdown",
      "source": [
        "## References"
      ],
      "metadata": {
        "id": "pGcdv0qwjACO"
      }
    },
    {
      "cell_type": "markdown",
      "source": [
        "**Intuition**\n",
        "\n",
        "- [Sean Owen - Pseudoinverse intuition](https://www.quora.com/What-is-the-intuition-behind-pseudo-inverse-of-a-matrix)\n",
        "\n",
        "**Numpy**\n",
        "\n",
        "- [Numpy - linalg.pinv](https://docs.scipy.org/doc/numpy/reference/generated/numpy.linalg.pinv.html)\n",
        "\n",
        "- [Numpy random seed](https://docs.scipy.org/doc/numpy/reference/generated/numpy.random.seed.html)\n",
        "\n",
        "**Systems of equations**\n",
        "\n",
        "- [Using the Moore-Penrose Pseudoinverse to Solve Linear Equations](https://www.youtube.com/watch?v=5bxsxM2UTb4)\n",
        "\n",
        "- [Overdetermined systems](https://en.wikipedia.org/wiki/Overdetermined_system)\n",
        "\n",
        "- [Least square solution in the triangle center](https://math.stackexchange.com/questions/471812/is-the-least-squares-solution-to-an-overdetermined-system-a-triangle-center)\n",
        "\n",
        "- [Symmedian](https://en.wikipedia.org/wiki/Symmedian)\n",
        "\n",
        "**Least square fit**\n",
        "\n",
        "- [Least square fitting](https://mec560sbu.github.io/2016/08/29/Least_SQ_Fitting/)"
      ],
      "metadata": {
        "id": "1vK_KJ_3jBKD"
      }
    }
  ]
}