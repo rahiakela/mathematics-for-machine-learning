{
  "nbformat": 4,
  "nbformat_minor": 0,
  "metadata": {
    "colab": {
      "provenance": [],
      "toc_visible": true,
      "authorship_tag": "ABX9TyORQ3Pl+rxw8kG6dU4In1KN",
      "include_colab_link": true
    },
    "kernelspec": {
      "name": "python3",
      "display_name": "Python 3"
    },
    "language_info": {
      "name": "python"
    }
  },
  "cells": [
    {
      "cell_type": "markdown",
      "metadata": {
        "id": "view-in-github",
        "colab_type": "text"
      },
      "source": [
        "<a href=\"https://colab.research.google.com/github/rahiakela/mathematics-for-machine-learning/blob/main/mathematics-for-machine-learning-and-data-science-specialization/02-calculus/week1-derivatives-and-optimization/differentiation_in_python.ipynb\" target=\"_parent\"><img src=\"https://colab.research.google.com/assets/colab-badge.svg\" alt=\"Open In Colab\"/></a>"
      ]
    },
    {
      "cell_type": "markdown",
      "source": [
        "##Differentiation in Python: Symbolic, Numerical and Automatic"
      ],
      "metadata": {
        "id": "xGMPOUtI5r3C"
      }
    },
    {
      "cell_type": "markdown",
      "source": [
        "In this lab you explore which tools and libraries are available in Python to compute derivatives. You will perform symbolic differentiation with `SymPy` library, numerical with `NumPy` and automatic with `JAX` (based on `Autograd`. \n",
        "\n",
        "Comparing the speed of calculations, you will investigate the computational efficiency of those three methods.\n",
        "\n",
        "**Table of Contents**\n",
        "\n",
        "- [ 1 - Functions in Python](#1)\n",
        "- [ 2 - Symbolic Differentiation](#2)\n",
        "  - [ 2.1 - Introduction to Symbolic Computation with `SymPy`](#2.1)\n",
        "  - [ 2.2 - Symbolic Differentiation with `SymPy`](#2.2)\n",
        "  - [ 2.3 - Limitations of Symbolic Differentiation](#2.3)\n",
        "- [ 3 - Numerical Differentiation](#3)\n",
        "  - [ 3.1 - Numerical Differentiation with `NumPy`](#3.1)\n",
        "  - [ 3.2 - Limitations of Numerical Differentiation](#3.2)\n",
        "- [ 4 - Automatic Differentiation](#4)\n",
        "  - [ 4.1 - Introduction to `JAX`](#4.1)\n",
        "  - [ 4.2 - Automatic Differentiation with `JAX` ](#4.2)\n",
        "- [ 5 - Computational Efficiency of Symbolic, Numerical and Automatic Differentiation](#5)"
      ],
      "metadata": {
        "id": "j8-4kAM45utA"
      }
    },
    {
      "cell_type": "markdown",
      "source": [
        "##Setup"
      ],
      "metadata": {
        "id": "gzwJd4tA6uVp"
      }
    },
    {
      "cell_type": "code",
      "source": [
        "import math\n",
        "from sympy import *\n",
        "from sympy.utilities.lambdify import lambdify\n",
        "\n",
        "from jax import grad, vmap\n",
        "import jax.numpy as jnp\n",
        "\n",
        "import timeit, time\n",
        "\n",
        "import numpy as np\n",
        "\n",
        "import matplotlib.pyplot as plt\n",
        "%matplotlib inline"
      ],
      "metadata": {
        "id": "KEwEp2Z06wQF"
      },
      "execution_count": null,
      "outputs": []
    },
    {
      "cell_type": "markdown",
      "source": [
        "<a name='1'></a>\n",
        "## 1 - Functions in Python"
      ],
      "metadata": {
        "id": "VLU5Z0r46Lit"
      }
    },
    {
      "cell_type": "markdown",
      "source": [
        "This is just a reminder how to define functions in Python. A simple function $f\\left(x\\right) = x^2$, it can be set up as:"
      ],
      "metadata": {
        "id": "EOSNvWsr6Ymq"
      }
    },
    {
      "cell_type": "code",
      "source": [],
      "metadata": {
        "id": "5TGVaC2V6bLz"
      },
      "execution_count": null,
      "outputs": []
    }
  ]
}