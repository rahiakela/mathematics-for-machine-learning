{
  "cells": [
    {
      "cell_type": "markdown",
      "metadata": {
        "id": "view-in-github",
        "colab_type": "text"
      },
      "source": [
        "<a href=\"https://colab.research.google.com/github/rahiakela/mathematics-for-machine-learning/blob/main/mathematics-for-machine-learning-and-data-science-specialization/03-probability-and-statistics/week2-describing-probability-distributions/lab_2_dice_simulations.ipynb\" target=\"_parent\"><img src=\"https://colab.research.google.com/assets/colab-badge.svg\" alt=\"Open In Colab\"/></a>"
      ]
    },
    {
      "cell_type": "markdown",
      "id": "8db3caba",
      "metadata": {
        "id": "8db3caba"
      },
      "source": [
        "## Lab: Dice Simulations"
      ]
    },
    {
      "cell_type": "markdown",
      "source": [
        "Welcome! In this lab you will see how you can use numpy to simulate different scenarios involving rolling dices from rolling a single die up to doing multiple rolls and summing the result. You will also see how to handle situations in which one of the sides of the die is loaded (it has a greater probability of landing on that side comparing to the rest).\n",
        "\n",
        "Let's get started!"
      ],
      "metadata": {
        "id": "1PrqUnbkwAMy"
      },
      "id": "1PrqUnbkwAMy"
    },
    {
      "cell_type": "code",
      "execution_count": 1,
      "id": "2d4d615c-0e4f-4001-a171-4d80e491e5ec",
      "metadata": {
        "tags": [],
        "id": "2d4d615c-0e4f-4001-a171-4d80e491e5ec"
      },
      "outputs": [],
      "source": [
        "import numpy as np\n",
        "import seaborn as sns\n",
        "import matplotlib.pyplot as plt"
      ]
    },
    {
      "cell_type": "markdown",
      "source": [
        "## Represent a die"
      ],
      "metadata": {
        "id": "UTuBdGSSwHbm"
      },
      "id": "UTuBdGSSwHbm"
    },
    {
      "cell_type": "markdown",
      "id": "7958a323",
      "metadata": {
        "id": "7958a323"
      },
      "source": [
        "The first thing you will need is to define how many sides your dice will have. You can even go a step further and represent a die by using a numpy array and assigning to each side a label which will be equal to the number of that side:"
      ]
    },
    {
      "cell_type": "code",
      "execution_count": 2,
      "id": "6f450c24",
      "metadata": {
        "id": "6f450c24",
        "colab": {
          "base_uri": "https://localhost:8080/"
        },
        "outputId": "413d8eae-436b-45c5-fbe5-b7b39b8a7be3"
      },
      "outputs": [
        {
          "output_type": "execute_result",
          "data": {
            "text/plain": [
              "array([1, 2, 3, 4, 5, 6])"
            ]
          },
          "metadata": {},
          "execution_count": 2
        }
      ],
      "source": [
        "# Define the desired number of sides (try changing this value!)\n",
        "n_sides = 6\n",
        "\n",
        "# Represent a die by using a numpy array\n",
        "die = np.array([i for i in range(1, n_sides + 1)])\n",
        "\n",
        "die"
      ]
    },
    {
      "cell_type": "markdown",
      "id": "7ec3e024",
      "metadata": {
        "id": "7ec3e024"
      },
      "source": [
        "## Roll the die"
      ]
    },
    {
      "cell_type": "markdown",
      "source": [
        "With your die ready it is time to roll it. For now you will assume that the die is fair, which means the probability of landing on each side is the same (it follows a uniform distribution).\n",
        "\n",
        "To achieve this behaviour you can use the function [np.random.choice](https://numpy.org/doc/stable/reference/random/generated/numpy.random.choice.html), which given a numpy array returns one of the entries in it randomnly:"
      ],
      "metadata": {
        "id": "oE5yD-Ya1E9F"
      },
      "id": "oE5yD-Ya1E9F"
    },
    {
      "cell_type": "code",
      "execution_count": 3,
      "id": "075e35c5-85f4-427f-9d63-b540aec4caa3",
      "metadata": {
        "tags": [],
        "id": "075e35c5-85f4-427f-9d63-b540aec4caa3",
        "colab": {
          "base_uri": "https://localhost:8080/"
        },
        "outputId": "ece8020c-0fce-4ac8-b7c6-1bf13ebb4e64"
      },
      "outputs": [
        {
          "output_type": "execute_result",
          "data": {
            "text/plain": [
              "3"
            ]
          },
          "metadata": {},
          "execution_count": 3
        }
      ],
      "source": [
        "# Run this cell multiple times (every time you should get a different result at random)\n",
        "np.random.choice(die)"
      ]
    },
    {
      "cell_type": "markdown",
      "id": "0aa06656",
      "metadata": {
        "id": "0aa06656"
      },
      "source": [
        "This is great but if you wanted to roll the die 20 times you will need to run the cell 20 times and record each result. Now you need a way to simulate several rolls at the same time.\n",
        "\n",
        "For this you can define the number of rolls you desire and use a list comprehension to roll the die as many times as you like, you can also save every roll in a numpy array:"
      ]
    },
    {
      "cell_type": "code",
      "execution_count": 4,
      "id": "14557c4f-588f-40a9-8e4e-c188b947fe42",
      "metadata": {
        "tags": [],
        "id": "14557c4f-588f-40a9-8e4e-c188b947fe42",
        "outputId": "157f63cd-b890-4a71-a7ce-4c681cb61a62",
        "colab": {
          "base_uri": "https://localhost:8080/"
        }
      },
      "outputs": [
        {
          "output_type": "execute_result",
          "data": {
            "text/plain": [
              "array([5, 5, 3, 2, 2, 1, 6, 2, 6, 1, 2, 3, 5, 5, 2, 3, 5, 5, 5, 5])"
            ]
          },
          "metadata": {},
          "execution_count": 4
        }
      ],
      "source": [
        "# Roll the die 20 times\n",
        "n_rolls = 20\n",
        "\n",
        "# Save the result of each roll\n",
        "rolls = np.array([np.random.choice(die) for _ in range(n_rolls)])\n",
        "\n",
        "rolls"
      ]
    },
    {
      "cell_type": "markdown",
      "id": "9e82157c",
      "metadata": {
        "id": "9e82157c"
      },
      "source": [
        "Now you have a convenient way of keeping track of the result of each roll, nice!\n",
        "\n",
        "What is you would like to know the mean and variance of this process. For this you can use numpy's functions [np.mean](https://numpy.org/doc/stable/reference/generated/numpy.mean.html) and [np.var](https://numpy.org/doc/stable/reference/generated/numpy.var.html):"
      ]
    },
    {
      "cell_type": "code",
      "source": [
        "# Compute mean of 20 rolls\n",
        "m = np.mean(rolls)\n",
        "\n",
        "# Compute variance of 20 rolls\n",
        "v = np.var(rolls)\n",
        "\n",
        "print(f\"mean of rolls: {m:.2f}\\nvariance of rolls: {v:.2f}\")"
      ],
      "metadata": {
        "colab": {
          "base_uri": "https://localhost:8080/"
        },
        "id": "Sf_voyw-BV0a",
        "outputId": "95b26a81-be22-464a-da3d-5d7eae577416"
      },
      "id": "Sf_voyw-BV0a",
      "execution_count": 5,
      "outputs": [
        {
          "output_type": "stream",
          "name": "stdout",
          "text": [
            "mean of rolls: 3.65\n",
            "variance of rolls: 2.73\n"
          ]
        }
      ]
    },
    {
      "cell_type": "markdown",
      "source": [
        "You can even check the distribution of the rolls by plotting a histogram of the numpy array that holds the result of each throw.\n",
        "\n",
        "For this you will use the plotting library Seaborn, concretely the [sns.histplot](https://seaborn.pydata.org/generated/seaborn.histplot.html) function:"
      ],
      "metadata": {
        "id": "xyiiyfJpBo0O"
      },
      "id": "xyiiyfJpBo0O"
    },
    {
      "cell_type": "code",
      "source": [
        "# Display histogram of 20 rolls\n",
        "sns.histplot(rolls)\n",
        "plt.show()"
      ],
      "metadata": {
        "colab": {
          "base_uri": "https://localhost:8080/",
          "height": 430
        },
        "id": "QpS-Vv4HBqIn",
        "outputId": "ff293063-dcd3-412d-a79d-6c3bd9c8a51e"
      },
      "id": "QpS-Vv4HBqIn",
      "execution_count": 6,
      "outputs": [
        {
          "output_type": "display_data",
          "data": {
            "text/plain": [
              "<Figure size 640x480 with 1 Axes>"
            ],
            "image/png": "[encoded data removed]"
          },
          "metadata": {}
        }
      ]
    },
    {
      "cell_type": "markdown",
      "source": [
        "You probably didn't get a distribution that looks uniform (since the results are random). This happened because you are only simulating 20 rolls so far.\n",
        "\n",
        "Now try doing the same but for 20000 rolls:"
      ],
      "metadata": {
        "id": "-RaF1K5oB9jG"
      },
      "id": "-RaF1K5oB9jG"
    },
    {
      "cell_type": "code",
      "source": [
        "# Roll the die 20,000 times\n",
        "n_rolls = 20_000\n",
        "\n",
        "# Save the result of each roll\n",
        "rolls = np.array([np.random.choice(die) for _ in range(n_rolls)])\n",
        "\n",
        "print(f\"mean of rolls: {np.mean(rolls):.2f}\\nvariance of rolls: {np.var(rolls):.2f}\")\n",
        "\n",
        "sns.histplot(rolls)\n",
        "plt.show()"
      ],
      "metadata": {
        "colab": {
          "base_uri": "https://localhost:8080/",
          "height": 465
        },
        "id": "wpCF_OANB_Rd",
        "outputId": "105e3580-b0f0-4406-d0b1-a724126974b8"
      },
      "id": "wpCF_OANB_Rd",
      "execution_count": 7,
      "outputs": [
        {
          "output_type": "stream",
          "name": "stdout",
          "text": [
            "mean of rolls: 3.48\n",
            "variance of rolls: 2.92\n"
          ]
        },
        {
          "output_type": "display_data",
          "data": {
            "text/plain": [
              "<Figure size 640x480 with 1 Axes>"
            ],
            "image/png": "[encoded data removed]"
          },
          "metadata": {}
        }
      ]
    },
    {
      "cell_type": "markdown",
      "source": [
        "Does this plot and the metrics of mean and variance allign with what you have learned about the uniform distribution during the course?\n",
        "\n",
        "Simulations are a great way of contrasting results against analytical solutions.\n",
        "\n",
        "For example, in this case the theoretical mean and variance are 3.5 and 2.916 respectively (you can check the formulas to get this results [here](https://en.wikipedia.org/wiki/Discrete_uniform_distribution)).\n",
        "\n",
        "The important thing to keep in mind is that the more simulations you perform the closer your results will be to the analytical values so always choose an appropriate number of simulations!\n",
        "\n",
        "Numpy is quite fast so performing 20 thousand runs is done fairly quick."
      ],
      "metadata": {
        "id": "V074DauZCUHr"
      },
      "id": "V074DauZCUHr"
    },
    {
      "cell_type": "markdown",
      "source": [
        "## Summing the result of rolling twice"
      ],
      "metadata": {
        "id": "nYssorxGCWpb"
      },
      "id": "nYssorxGCWpb"
    },
    {
      "cell_type": "markdown",
      "source": [
        "Now you want to throw the die twice and record the sum of the two rolls. For this you can do as before and save all results of the first roll in a numpy array but this time you will have a second array that saves the results for the second rolls.\n",
        "\n",
        "To get the sum you can simply sum the two arrays. This is possible because numpy allows for vectorized operations such as this one. When you sum two numpy arrays you will get a new array that includes the element-wise sum of the elements in the arrays you summed up.\n",
        "\n",
        "Notice that now you can compute the the mean and variance for the first rolls, the second rolls and the sum of rolls. You can also compute the covariance between the first and second rolls:"
      ],
      "metadata": {
        "id": "yxptjTbTCXGS"
      },
      "id": "yxptjTbTCXGS"
    },
    {
      "cell_type": "code",
      "source": [
        "# Roll the die 20,000 times\n",
        "n_rolls = 20_000\n",
        "\n",
        "# First roll (same as before)\n",
        "first_rolls = np.array([np.random.choice(die) for _ in range(n_rolls)])\n",
        "\n",
        "# Second roll (code is the same but saved in a new numpy array)\n",
        "second_rolls = np.array([np.random.choice(die) for _ in range(n_rolls)])\n",
        "\n",
        "# Sum both rolls (this is easy since numpy allows vectorization)\n",
        "sum_of_rolls = first_rolls + second_rolls\n",
        "\n",
        "# Print mean, variance and covariance\n",
        "print(f\"mean of first_rolls: {np.mean(first_rolls):.2f}\\nvariance of first_rolls: {np.var(first_rolls):.2f}\\n\")\n",
        "print(f\"mean of second_rolls: {np.mean(second_rolls):.2f}\\nvariance of second_rolls: {np.var(second_rolls):.2f}\\n\")\n",
        "print(f\"mean of sum_of_rolls: {np.mean(sum_of_rolls):.2f}\\nvariance of sum_of_rolls: {np.var(sum_of_rolls):.2f}\\n\")\n",
        "print(f\"covariance between first and second roll:\\n{np.cov(first_rolls, second_rolls)}\")\n",
        "\n",
        "sns.histplot(sum_of_rolls, stat=\"probability\")\n",
        "plt.show()"
      ],
      "metadata": {
        "id": "8QJwXAKv4Mcc",
        "outputId": "ca84f3d6-2d37-4c8a-8474-58b2e85d374e",
        "colab": {
          "base_uri": "https://localhost:8080/",
          "height": 638
        }
      },
      "id": "8QJwXAKv4Mcc",
      "execution_count": 10,
      "outputs": [
        {
          "output_type": "stream",
          "name": "stdout",
          "text": [
            "mean of first_rolls: 3.49\n",
            "variance of first_rolls: 2.95\n",
            "\n",
            "mean of second_rolls: 3.51\n",
            "variance of second_rolls: 2.93\n",
            "\n",
            "mean of sum_of_rolls: 7.00\n",
            "variance of sum_of_rolls: 5.85\n",
            "\n",
            "covariance between first and second roll:\n",
            "[[ 2.94534986 -0.01305003]\n",
            " [-0.01305003  2.92729011]]\n"
          ]
        },
        {
          "output_type": "display_data",
          "data": {
            "text/plain": [
              "<Figure size 640x480 with 1 Axes>"
            ],
            "image/png": "[encoded data removed]"
          },
          "metadata": {}
        }
      ]
    },
    {
      "cell_type": "markdown",
      "source": [
        "The resulting plot looks pretty Gaussian, as you might expect. Notice that the covariance between the first and second rolls is very close to zero since these two processes are independant of one another.\n",
        "\n",
        "Also notice that you can change the stat displayed in the histogram by changing the `stat` parameter of the `sns.histplot` function. In the previous exercises you were displaying the frequency but in this latter one you are plotting the probability, which makes more sense in this context. To check what other stats are available you can check the [docs](https://seaborn.pydata.org/generated/seaborn.histplot.html)."
      ],
      "metadata": {
        "id": "UCtuIrEo5ZB-"
      },
      "id": "UCtuIrEo5ZB-"
    },
    {
      "cell_type": "markdown",
      "source": [
        "## Using loaded dice"
      ],
      "metadata": {
        "id": "oUHzkMHq5ZqT"
      },
      "id": "oUHzkMHq5ZqT"
    },
    {
      "cell_type": "markdown",
      "source": [
        "So far you have only simulated dice that are fair (all of the sides on them have the same probability of showing up), but what about simulating loaded dice (one or more of the sides have a greater probability of showing up)?\n",
        "\n",
        "It is actually pretty simple. [np.random.choice](https://numpy.org/doc/stable/reference/random/generated/numpy.random.choice.html) has support for these kind of scenarios by having a parameter `p` you can set. This parameter controls the probability of selecting each one of the entries in the array.\n",
        "\n",
        "To see it in action, code a function that returns the probabilities of the die landing on each side given that one of the sides must have twice as much probability as the rest of them:"
      ],
      "metadata": {
        "id": "PQ05m5-95cR0"
      },
      "id": "PQ05m5-95cR0"
    },
    {
      "cell_type": "code",
      "source": [],
      "metadata": {
        "id": "T3FUiguK5efv"
      },
      "id": "T3FUiguK5efv",
      "execution_count": null,
      "outputs": []
    }
  ],
  "metadata": {
    "kernelspec": {
      "display_name": "Python 3 (ipykernel)",
      "language": "python",
      "name": "python3"
    },
    "language_info": {
      "codemirror_mode": {
        "name": "ipython",
        "version": 3
      },
      "file_extension": ".py",
      "mimetype": "text/x-python",
      "name": "python",
      "nbconvert_exporter": "python",
      "pygments_lexer": "ipython3",
      "version": "3.10.9"
    },
    "colab": {
      "provenance": [],
      "toc_visible": true,
      "include_colab_link": true
    }
  },
  "nbformat": 4,
  "nbformat_minor": 5
}