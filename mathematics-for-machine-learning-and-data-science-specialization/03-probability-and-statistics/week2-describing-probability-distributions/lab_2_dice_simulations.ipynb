{
  "cells": [
    {
      "cell_type": "markdown",
      "metadata": {
        "id": "view-in-github",
        "colab_type": "text"
      },
      "source": [
        "<a href=\"https://colab.research.google.com/github/rahiakela/mathematics-for-machine-learning/blob/main/mathematics-for-machine-learning-and-data-science-specialization/03-probability-and-statistics/week2-describing-probability-distributions/lab_2_dice_simulations.ipynb\" target=\"_parent\"><img src=\"https://colab.research.google.com/assets/colab-badge.svg\" alt=\"Open In Colab\"/></a>"
      ]
    },
    {
      "cell_type": "markdown",
      "id": "8db3caba",
      "metadata": {
        "id": "8db3caba"
      },
      "source": [
        "## Lab: Dice Simulations"
      ]
    },
    {
      "cell_type": "markdown",
      "source": [
        "Welcome! In this lab you will see how you can use numpy to simulate different scenarios involving rolling dices from rolling a single die up to doing multiple rolls and summing the result. You will also see how to handle situations in which one of the sides of the die is loaded (it has a greater probability of landing on that side comparing to the rest).\n",
        "\n",
        "Let's get started!"
      ],
      "metadata": {
        "id": "1PrqUnbkwAMy"
      },
      "id": "1PrqUnbkwAMy"
    },
    {
      "cell_type": "code",
      "execution_count": 1,
      "id": "2d4d615c-0e4f-4001-a171-4d80e491e5ec",
      "metadata": {
        "tags": [],
        "id": "2d4d615c-0e4f-4001-a171-4d80e491e5ec"
      },
      "outputs": [],
      "source": [
        "import numpy as np\n",
        "import seaborn as sns\n",
        "import matplotlib.pyplot as plt"
      ]
    },
    {
      "cell_type": "markdown",
      "source": [
        "## Represent a die"
      ],
      "metadata": {
        "id": "UTuBdGSSwHbm"
      },
      "id": "UTuBdGSSwHbm"
    },
    {
      "cell_type": "markdown",
      "id": "7958a323",
      "metadata": {
        "id": "7958a323"
      },
      "source": [
        "The first thing you will need is to define how many sides your dice will have. You can even go a step further and represent a die by using a numpy array and assigning to each side a label which will be equal to the number of that side:"
      ]
    },
    {
      "cell_type": "code",
      "execution_count": 2,
      "id": "6f450c24",
      "metadata": {
        "id": "6f450c24",
        "colab": {
          "base_uri": "https://localhost:8080/"
        },
        "outputId": "8e81880f-2666-43d6-d0a6-6e7cb757ca4d"
      },
      "outputs": [
        {
          "output_type": "execute_result",
          "data": {
            "text/plain": [
              "array([1, 2, 3, 4, 5, 6])"
            ]
          },
          "metadata": {},
          "execution_count": 2
        }
      ],
      "source": [
        "# Define the desired number of sides (try changing this value!)\n",
        "n_sides = 6\n",
        "\n",
        "# Represent a die by using a numpy array\n",
        "die = np.array([i for i in range(1, n_sides + 1)])\n",
        "\n",
        "die"
      ]
    },
    {
      "cell_type": "markdown",
      "id": "7ec3e024",
      "metadata": {
        "id": "7ec3e024"
      },
      "source": [
        "## Roll the die"
      ]
    },
    {
      "cell_type": "markdown",
      "source": [
        "With your die ready it is time to roll it. For now you will assume that the die is fair, which means the probability of landing on each side is the same (it follows a uniform distribution).\n",
        "\n",
        "To achieve this behaviour you can use the function [np.random.choice](https://numpy.org/doc/stable/reference/random/generated/numpy.random.choice.html), which given a numpy array returns one of the entries in it randomnly:"
      ],
      "metadata": {
        "id": "oE5yD-Ya1E9F"
      },
      "id": "oE5yD-Ya1E9F"
    },
    {
      "cell_type": "code",
      "execution_count": 3,
      "id": "075e35c5-85f4-427f-9d63-b540aec4caa3",
      "metadata": {
        "tags": [],
        "id": "075e35c5-85f4-427f-9d63-b540aec4caa3",
        "colab": {
          "base_uri": "https://localhost:8080/"
        },
        "outputId": "ac3b47eb-ee62-4cbc-ff87-d51f8ae54d64"
      },
      "outputs": [
        {
          "output_type": "execute_result",
          "data": {
            "text/plain": [
              "4"
            ]
          },
          "metadata": {},
          "execution_count": 3
        }
      ],
      "source": [
        "# Run this cell multiple times (every time you should get a different result at random)\n",
        "np.random.choice(die)"
      ]
    },
    {
      "cell_type": "markdown",
      "id": "0aa06656",
      "metadata": {
        "id": "0aa06656"
      },
      "source": [
        "This is great but if you wanted to roll the die 20 times you will need to run the cell 20 times and record each result. Now you need a way to simulate several rolls at the same time.\n",
        "\n",
        "For this you can define the number of rolls you desire and use a list comprehension to roll the die as many times as you like, you can also save every roll in a numpy array:"
      ]
    },
    {
      "cell_type": "code",
      "execution_count": 4,
      "id": "14557c4f-588f-40a9-8e4e-c188b947fe42",
      "metadata": {
        "tags": [],
        "id": "14557c4f-588f-40a9-8e4e-c188b947fe42",
        "outputId": "ac4c5ea1-6e00-4dee-fa7f-9c2993046344",
        "colab": {
          "base_uri": "https://localhost:8080/"
        }
      },
      "outputs": [
        {
          "output_type": "execute_result",
          "data": {
            "text/plain": [
              "array([3, 3, 1, 4, 5, 4, 1, 4, 6, 5, 1, 4, 2, 5, 6, 5, 3, 2, 3, 5])"
            ]
          },
          "metadata": {},
          "execution_count": 4
        }
      ],
      "source": [
        "# Roll the die 20 times\n",
        "n_rolls = 20\n",
        "\n",
        "# Save the result of each roll\n",
        "rolls = np.array([np.random.choice(die) for _ in range(n_rolls)])\n",
        "\n",
        "rolls"
      ]
    },
    {
      "cell_type": "markdown",
      "id": "9e82157c",
      "metadata": {
        "id": "9e82157c"
      },
      "source": [
        "Now you have a convenient way of keeping track of the result of each roll, nice!\n",
        "\n",
        "What is you would like to know the mean and variance of this process. For this you can use numpy's functions [np.mean](https://numpy.org/doc/stable/reference/generated/numpy.mean.html) and [np.var](https://numpy.org/doc/stable/reference/generated/numpy.var.html):"
      ]
    },
    {
      "cell_type": "code",
      "source": [
        "# Compute mean of 20 rolls\n",
        "m = np.mean(rolls)\n",
        "\n",
        "# Compute variance of 20 rolls\n",
        "v = np.var(rolls)\n",
        "\n",
        "print(f\"mean of rolls: {m:.2f}\\nvariance of rolls: {v:.2f}\")"
      ],
      "metadata": {
        "colab": {
          "base_uri": "https://localhost:8080/"
        },
        "id": "Sf_voyw-BV0a",
        "outputId": "6e91822c-53cf-4257-aaa7-2b3c085a6848"
      },
      "id": "Sf_voyw-BV0a",
      "execution_count": 5,
      "outputs": [
        {
          "output_type": "stream",
          "name": "stdout",
          "text": [
            "mean of rolls: 3.60\n",
            "variance of rolls: 2.44\n"
          ]
        }
      ]
    },
    {
      "cell_type": "markdown",
      "source": [
        "You can even check the distribution of the rolls by plotting a histogram of the numpy array that holds the result of each throw.\n",
        "\n",
        "For this you will use the plotting library Seaborn, concretely the [sns.histplot](https://seaborn.pydata.org/generated/seaborn.histplot.html) function:"
      ],
      "metadata": {
        "id": "xyiiyfJpBo0O"
      },
      "id": "xyiiyfJpBo0O"
    },
    {
      "cell_type": "code",
      "source": [
        "# Display histogram of 20 rolls\n",
        "sns.histplot(rolls)\n",
        "plt.show()"
      ],
      "metadata": {
        "colab": {
          "base_uri": "https://localhost:8080/",
          "height": 430
        },
        "id": "QpS-Vv4HBqIn",
        "outputId": "6ca7222d-ecf7-40d2-9c8e-a7ece75c6e6b"
      },
      "id": "QpS-Vv4HBqIn",
      "execution_count": 6,
      "outputs": [
        {
          "output_type": "display_data",
          "data": {
            "text/plain": [
              "<Figure size 640x480 with 1 Axes>"
            ],
            "image/png": "[encoded data removed]"
          },
          "metadata": {}
        }
      ]
    },
    {
      "cell_type": "markdown",
      "source": [
        "You probably didn't get a distribution that looks uniform (since the results are random). This happened because you are only simulating 20 rolls so far.\n",
        "\n",
        "Now try doing the same but for 20000 rolls:"
      ],
      "metadata": {
        "id": "-RaF1K5oB9jG"
      },
      "id": "-RaF1K5oB9jG"
    },
    {
      "cell_type": "code",
      "source": [
        "# Roll the die 20,000 times\n",
        "n_rolls = 20_000\n",
        "\n",
        "# Save the result of each roll\n",
        "rolls = np.array([np.random.choice(die) for _ in range(n_rolls)])\n",
        "\n",
        "print(f\"mean of rolls: {np.mean(rolls):.2f}\\nvariance of rolls: {np.var(rolls):.2f}\")\n",
        "\n",
        "sns.histplot(rolls)\n",
        "plt.show()"
      ],
      "metadata": {
        "colab": {
          "base_uri": "https://localhost:8080/",
          "height": 465
        },
        "id": "wpCF_OANB_Rd",
        "outputId": "1eab62fc-9c7b-4c70-e766-e8cdfdf28b87"
      },
      "id": "wpCF_OANB_Rd",
      "execution_count": 7,
      "outputs": [
        {
          "output_type": "stream",
          "name": "stdout",
          "text": [
            "mean of rolls: 3.50\n",
            "variance of rolls: 2.93\n"
          ]
        },
        {
          "output_type": "display_data",
          "data": {
            "text/plain": [
              "<Figure size 640x480 with 1 Axes>"
            ],
            "image/png": "[encoded data removed]"
          },
          "metadata": {}
        }
      ]
    },
    {
      "cell_type": "markdown",
      "source": [
        "Does this plot and the metrics of mean and variance allign with what you have learned about the uniform distribution during the course?\n",
        "\n",
        "Simulations are a great way of contrasting results against analytical solutions.\n",
        "\n",
        "For example, in this case the theoretical mean and variance are 3.5 and 2.916 respectively (you can check the formulas to get this results [here](https://en.wikipedia.org/wiki/Discrete_uniform_distribution)).\n",
        "\n",
        "The important thing to keep in mind is that the more simulations you perform the closer your results will be to the analytical values so always choose an appropriate number of simulations!\n",
        "\n",
        "Numpy is quite fast so performing 20 thousand runs is done fairly quick."
      ],
      "metadata": {
        "id": "V074DauZCUHr"
      },
      "id": "V074DauZCUHr"
    },
    {
      "cell_type": "markdown",
      "source": [
        "## Summing the result of rolling twice"
      ],
      "metadata": {
        "id": "nYssorxGCWpb"
      },
      "id": "nYssorxGCWpb"
    },
    {
      "cell_type": "markdown",
      "source": [
        "Now you want to throw the die twice and record the sum of the two rolls. For this you can do as before and save all results of the first roll in a numpy array but this time you will have a second array that saves the results for the second rolls.\n",
        "\n",
        "To get the sum you can simply sum the two arrays. This is possible because numpy allows for vectorized operations such as this one. When you sum two numpy arrays you will get a new array that includes the element-wise sum of the elements in the arrays you summed up.\n",
        "\n",
        "Notice that now you can compute the the mean and variance for the first rolls, the second rolls and the sum of rolls. You can also compute the covariance between the first and second rolls:"
      ],
      "metadata": {
        "id": "yxptjTbTCXGS"
      },
      "id": "yxptjTbTCXGS"
    },
    {
      "cell_type": "code",
      "source": [
        "# Roll the die 20,000 times\n",
        "n_rolls = 20_000\n",
        "\n",
        "# First roll (same as before)\n",
        "first_rolls = np.array([np.random.choice(die) for _ in range(n_rolls)])\n",
        "\n",
        "# Second roll (code is the same but saved in a new numpy array)\n",
        "second_rolls = np.array([np.random.choice(die) for _ in range(n_rolls)])\n",
        "\n",
        "# Sum both rolls (this is easy since numpy allows vectorization)\n",
        "sum_of_rolls = first_rolls + second_rolls\n",
        "\n",
        "# Print mean, variance and covariance\n",
        "print(f\"mean of first_rolls: {np.mean(first_rolls):.2f}\\nvariance of first_rolls: {np.var(first_rolls):.2f}\\n\")\n",
        "print(f\"mean of second_rolls: {np.mean(second_rolls):.2f}\\nvariance of second_rolls: {np.var(second_rolls):.2f}\\n\")\n",
        "print(f\"mean of sum_of_rolls: {np.mean(sum_of_rolls):.2f}\\nvariance of sum_of_rolls: {np.var(sum_of_rolls):.2f}\\n\")\n",
        "print(f\"covariance between first and second roll:\\n{np.cov(first_rolls, second_rolls)}\")\n",
        "\n",
        "sns.histplot(sum_of_rolls, stat=\"probability\")\n",
        "plt.show()"
      ],
      "metadata": {
        "id": "8QJwXAKv4Mcc",
        "outputId": "02ddf0fd-df3f-45cb-9540-6830a2bbbf15",
        "colab": {
          "base_uri": "https://localhost:8080/",
          "height": 638
        }
      },
      "id": "8QJwXAKv4Mcc",
      "execution_count": 8,
      "outputs": [
        {
          "output_type": "stream",
          "name": "stdout",
          "text": [
            "mean of first_rolls: 3.50\n",
            "variance of first_rolls: 2.91\n",
            "\n",
            "mean of second_rolls: 3.51\n",
            "variance of second_rolls: 2.90\n",
            "\n",
            "mean of sum_of_rolls: 7.01\n",
            "variance of sum_of_rolls: 5.80\n",
            "\n",
            "covariance between first and second roll:\n",
            "[[ 2.9101446  -0.00465731]\n",
            " [-0.00465731  2.89628931]]\n"
          ]
        },
        {
          "output_type": "display_data",
          "data": {
            "text/plain": [
              "<Figure size 640x480 with 1 Axes>"
            ],
            "image/png": "[encoded data removed]"
          },
          "metadata": {}
        }
      ]
    },
    {
      "cell_type": "markdown",
      "source": [
        "The resulting plot looks pretty Gaussian, as you might expect. Notice that the covariance between the first and second rolls is very close to zero since these two processes are independant of one another.\n",
        "\n",
        "Also notice that you can change the stat displayed in the histogram by changing the `stat` parameter of the `sns.histplot` function. In the previous exercises you were displaying the frequency but in this latter one you are plotting the probability, which makes more sense in this context. To check what other stats are available you can check the [docs](https://seaborn.pydata.org/generated/seaborn.histplot.html)."
      ],
      "metadata": {
        "id": "UCtuIrEo5ZB-"
      },
      "id": "UCtuIrEo5ZB-"
    },
    {
      "cell_type": "markdown",
      "source": [
        "## Using loaded dice"
      ],
      "metadata": {
        "id": "oUHzkMHq5ZqT"
      },
      "id": "oUHzkMHq5ZqT"
    },
    {
      "cell_type": "markdown",
      "source": [
        "So far you have only simulated dice that are fair (all of the sides on them have the same probability of showing up), but what about simulating loaded dice (one or more of the sides have a greater probability of showing up)?\n",
        "\n",
        "It is actually pretty simple. [np.random.choice](https://numpy.org/doc/stable/reference/random/generated/numpy.random.choice.html) has support for these kind of scenarios by having a parameter `p` you can set. This parameter controls the probability of selecting each one of the entries in the array.\n",
        "\n",
        "To see it in action, code a function that returns the probabilities of the die landing on each side given that one of the sides must have twice as much probability as the rest of them:"
      ],
      "metadata": {
        "id": "PQ05m5-95cR0"
      },
      "id": "PQ05m5-95cR0"
    },
    {
      "cell_type": "code",
      "source": [
        "def load_dice(n_sides, loaded_number):\n",
        "  # All probabilities are initially the same\n",
        "  probs = np.array([1 / (n_sides + 1) for _ in range(n_sides)])\n",
        "\n",
        "  # Assign the loaded side a probability that is twice as the other ones\n",
        "  probs[loaded_number - 1] = 1 - sum(probs[:-1])\n",
        "\n",
        "  # Check that all probabilities sum up to 1\n",
        "  if not np.isclose(sum(probs), 1):\n",
        "    print(\"All probabilities should add up to 1\")\n",
        "    return\n",
        "\n",
        "  return probs"
      ],
      "metadata": {
        "id": "T3FUiguK5efv"
      },
      "id": "T3FUiguK5efv",
      "execution_count": 9,
      "outputs": []
    },
    {
      "cell_type": "code",
      "source": [
        "probs = np.array([1 / (n_sides + 1) for _ in range(n_sides)])\n",
        "probs"
      ],
      "metadata": {
        "id": "6P4K3qB8FLnd",
        "outputId": "8fcad1ee-8eab-409c-f93e-1f6780dace89",
        "colab": {
          "base_uri": "https://localhost:8080/"
        }
      },
      "id": "6P4K3qB8FLnd",
      "execution_count": 10,
      "outputs": [
        {
          "output_type": "execute_result",
          "data": {
            "text/plain": [
              "array([0.14285714, 0.14285714, 0.14285714, 0.14285714, 0.14285714,\n",
              "       0.14285714])"
            ]
          },
          "metadata": {},
          "execution_count": 10
        }
      ]
    },
    {
      "cell_type": "code",
      "source": [
        "probs[:-1]"
      ],
      "metadata": {
        "id": "EjymlI8SFnaQ",
        "outputId": "ebb77634-53a8-46ba-adc5-7c08cf8e86b9",
        "colab": {
          "base_uri": "https://localhost:8080/"
        }
      },
      "id": "EjymlI8SFnaQ",
      "execution_count": 11,
      "outputs": [
        {
          "output_type": "execute_result",
          "data": {
            "text/plain": [
              "array([0.14285714, 0.14285714, 0.14285714, 0.14285714, 0.14285714])"
            ]
          },
          "metadata": {},
          "execution_count": 11
        }
      ]
    },
    {
      "cell_type": "markdown",
      "source": [
        "Before using this function, check how the probabilities of a fair die would look like:"
      ],
      "metadata": {
        "id": "J6q49KqkFsF8"
      },
      "id": "J6q49KqkFsF8"
    },
    {
      "cell_type": "code",
      "source": [
        "# Compute same probabilities for every side\n",
        "probs_fair_die = np.array([1 / n_sides] * n_sides)\n",
        "\n",
        "# Plot probabilities\n",
        "fair_die_sides = sns.barplot(x=die, y=probs_fair_die)\n",
        "fair_die_sides.set_ylim(0,0.5)\n",
        "plt.show()"
      ],
      "metadata": {
        "id": "Fjjp1DrtFoEg",
        "outputId": "8a4f15d8-8cdd-4496-fe22-a09f46e7e9f5",
        "colab": {
          "base_uri": "https://localhost:8080/",
          "height": 435
        }
      },
      "id": "Fjjp1DrtFoEg",
      "execution_count": 12,
      "outputs": [
        {
          "output_type": "display_data",
          "data": {
            "text/plain": [
              "<Figure size 640x480 with 1 Axes>"
            ],
            "image/png": "[encoded data removed]"
          },
          "metadata": {}
        }
      ]
    },
    {
      "cell_type": "markdown",
      "source": [
        "Now get the probabilities by using the `load_dice` function. Try changing the loaded side!"
      ],
      "metadata": {
        "id": "YKxFxVWTF7Ul"
      },
      "id": "YKxFxVWTF7Ul"
    },
    {
      "cell_type": "code",
      "source": [
        "# Get probabilities if die is loaded towards side 2\n",
        "probs_loaded_die = load_dice(n_sides, loaded_number=2)\n",
        "\n",
        "# Plot probabilities\n",
        "loaded_die_sides = sns.barplot(x=die, y=probs_loaded_die)\n",
        "loaded_die_sides.set_ylim(0,0.5)\n",
        "plt.show()"
      ],
      "metadata": {
        "id": "_pR2j17AF_Bf",
        "outputId": "5e071102-c998-40a2-b317-2c639970eb20",
        "colab": {
          "base_uri": "https://localhost:8080/",
          "height": 435
        }
      },
      "id": "_pR2j17AF_Bf",
      "execution_count": 13,
      "outputs": [
        {
          "output_type": "display_data",
          "data": {
            "text/plain": [
              "<Figure size 640x480 with 1 Axes>"
            ],
            "image/png": "[encoded data removed]"
          },
          "metadata": {}
        }
      ]
    },
    {
      "cell_type": "markdown",
      "source": [
        "Now, feed the `probs_loaded_die` array into `np.random.choice` and see how this affect the metrics and plot:"
      ],
      "metadata": {
        "id": "7ffEZ-T7JaUQ"
      },
      "id": "7ffEZ-T7JaUQ"
    },
    {
      "cell_type": "code",
      "source": [
        "n_rolls = 20_000\n",
        "\n",
        "# Notice that the p parameter is being set\n",
        "first_rolls = np.array([np.random.choice(die, p=probs_loaded_die) for _ in range(n_rolls)])\n",
        "\n",
        "second_rolls = np.array([np.random.choice(die, p=probs_loaded_die) for _ in range(n_rolls)])\n",
        "\n",
        "# Sum both rolls (this is easy since numpy allows vectorization)\n",
        "sum_of_rolls = first_rolls + second_rolls\n",
        "\n",
        "# Print mean, variance and covariance\n",
        "print(f\"mean of first_rolls: {np.mean(first_rolls):.2f}\\nvariance of first_rolls: {np.var(first_rolls):.2f}\\n\")\n",
        "print(f\"mean of second_rolls: {np.mean(second_rolls):.2f}\\nvariance of second_rolls: {np.var(second_rolls):.2f}\\n\")\n",
        "print(f\"mean of sum_of_rolls: {np.mean(sum_of_rolls):.2f}\\nvariance of sum_of_rolls: {np.var(sum_of_rolls):.2f}\\n\")\n",
        "print(f\"covariance between first and second roll:\\n{np.cov(first_rolls, second_rolls)}\")\n",
        "\n",
        "sns.histplot(sum_of_rolls, stat=\"probability\")\n",
        "plt.show()"
      ],
      "metadata": {
        "id": "U0XX3DYiJa0v",
        "outputId": "63fb2fb5-79c4-421e-df7d-fc579481ba2e",
        "colab": {
          "base_uri": "https://localhost:8080/",
          "height": 638
        }
      },
      "id": "U0XX3DYiJa0v",
      "execution_count": 14,
      "outputs": [
        {
          "output_type": "stream",
          "name": "stdout",
          "text": [
            "mean of first_rolls: 3.30\n",
            "variance of first_rolls: 2.77\n",
            "\n",
            "mean of second_rolls: 3.29\n",
            "variance of second_rolls: 2.79\n",
            "\n",
            "mean of sum_of_rolls: 6.59\n",
            "variance of sum_of_rolls: 5.58\n",
            "\n",
            "covariance between first and second roll:\n",
            "[[2.76768877 0.01268552]\n",
            " [0.01268552 2.79053392]]\n"
          ]
        },
        {
          "output_type": "display_data",
          "data": {
            "text/plain": [
              "<Figure size 640x480 with 1 Axes>"
            ],
            "image/png": "[encoded data removed]"
          },
          "metadata": {}
        }
      ]
    },
    {
      "cell_type": "markdown",
      "source": [
        "Now the histogram is skewed towards some values since some sums are now more likely than others. Try changing the loaded side and see how the histogram changes!\n",
        "\n",
        "Notice that covariance is still very close to zero since there is not any dependance between rolls of the die."
      ],
      "metadata": {
        "id": "7VrU-QdNKU5U"
      },
      "id": "7VrU-QdNKU5U"
    },
    {
      "cell_type": "markdown",
      "source": [
        "## Dependant Rolls"
      ],
      "metadata": {
        "id": "_GjKUitpKVTz"
      },
      "id": "_GjKUitpKVTz"
    },
    {
      "cell_type": "markdown",
      "source": [
        "To finish this lab you will now simulate the scenario in which the second roll depends on the result of the first one. Say that you are playing a variant of the game you have played so far and you only roll the die a second time if the result of the first roll is greater or equal to 4.\n",
        "\n",
        "Before doing the simulations reflect on what might happen in this scenario. Some behavior you will probably see:\n",
        "\n",
        "- 1 is now a possible result since if you get a 1 in the first roll you don't roll again\n",
        "- 1, 2 and 3 now have a greater chance of showing up\n",
        "- 4 is now not a possible result since you need to roll again if you get a 4 in the first roll\n",
        "\n",
        "To achieve this behaviour you can use the [np.where](https://numpy.org/doc/stable/reference/generated/numpy.where.html) function, which given a condition can be used to zero-out the elements that don't meet its criteria:"
      ],
      "metadata": {
        "id": "toHbE7HoKb2i"
      },
      "id": "toHbE7HoKb2i"
    },
    {
      "cell_type": "code",
      "source": [
        "n_rolls = 20_000\n",
        "\n",
        "# Notice that the p parameter is being set\n",
        "first_rolls = np.array([np.random.choice(die) for _ in range(n_rolls)])\n",
        "\n",
        "second_rolls = np.array([np.random.choice(die) for _ in range(n_rolls)])\n",
        "\n",
        "# Preserve the result of the second throw only if the first roll was greater or equal to 4\n",
        "second_rolls = np.where(first_rolls >= 4, second_rolls, 0)\n",
        "\n",
        "# Sum both rolls (this is easy since numpy allows vectorization)\n",
        "sum_of_rolls = first_rolls + second_rolls\n",
        "\n",
        "# Print mean, variance and covariance\n",
        "print(f\"mean of first_rolls: {np.mean(first_rolls):.2f}\\nvariance of first_rolls: {np.var(first_rolls):.2f}\\n\")\n",
        "print(f\"mean of second_rolls: {np.mean(second_rolls):.2f}\\nvariance of second_rolls: {np.var(second_rolls):.2f}\\n\")\n",
        "print(f\"mean of sum_of_rolls: {np.mean(sum_of_rolls):.2f}\\nvariance of sum_of_rolls: {np.var(sum_of_rolls):.2f}\\n\")\n",
        "print(f\"covariance between first and second roll:\\n{np.cov(first_rolls, second_rolls)}\")\n",
        "\n",
        "sns.histplot(sum_of_rolls, stat=\"probability\")\n",
        "plt.show()"
      ],
      "metadata": {
        "id": "5sQTFBdHKiCT",
        "outputId": "9ee8adfd-e8d1-4096-b285-08fd2f283407",
        "colab": {
          "base_uri": "https://localhost:8080/",
          "height": 638
        }
      },
      "id": "5sQTFBdHKiCT",
      "execution_count": 15,
      "outputs": [
        {
          "output_type": "stream",
          "name": "stdout",
          "text": [
            "mean of first_rolls: 3.50\n",
            "variance of first_rolls: 2.93\n",
            "\n",
            "mean of second_rolls: 1.75\n",
            "variance of second_rolls: 4.55\n",
            "\n",
            "mean of sum_of_rolls: 5.25\n",
            "variance of sum_of_rolls: 12.78\n",
            "\n",
            "covariance between first and second roll:\n",
            "[[2.93264657 2.64976965]\n",
            " [2.64976965 4.55205078]]\n"
          ]
        },
        {
          "output_type": "display_data",
          "data": {
            "text/plain": [
              "<Figure size 640x480 with 1 Axes>"
            ],
            "image/png": "[encoded data removed]"
          },
          "metadata": {}
        }
      ]
    },
    {
      "cell_type": "markdown",
      "source": [
        "Looks like all of the predictions of this new scenario indeed happened. Notice that the covariance now is nowhere near zero since there is a dependency between the first and the second roll!\n",
        "\n",
        "**Now you have finished this ungraded lab, nice job!**"
      ],
      "metadata": {
        "id": "WNRw81kdM8L3"
      },
      "id": "WNRw81kdM8L3"
    }
  ],
  "metadata": {
    "kernelspec": {
      "display_name": "Python 3 (ipykernel)",
      "language": "python",
      "name": "python3"
    },
    "language_info": {
      "codemirror_mode": {
        "name": "ipython",
        "version": 3
      },
      "file_extension": ".py",
      "mimetype": "text/x-python",
      "name": "python",
      "nbconvert_exporter": "python",
      "pygments_lexer": "ipython3",
      "version": "3.10.9"
    },
    "colab": {
      "provenance": [],
      "toc_visible": true,
      "include_colab_link": true
    }
  },
  "nbformat": 4,
  "nbformat_minor": 5
}