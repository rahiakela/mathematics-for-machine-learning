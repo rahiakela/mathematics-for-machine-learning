{
  "nbformat": 4,
  "nbformat_minor": 0,
  "metadata": {
    "colab": {
      "provenance": [],
      "toc_visible": true,
      "authorship_tag": "ABX9TyMHdgRKElMDmiC1A2JoEayD",
      "include_colab_link": true
    },
    "kernelspec": {
      "name": "python3",
      "display_name": "Python 3"
    },
    "language_info": {
      "name": "python"
    },
    "widgets": {
      "application/vnd.jupyter.widget-state+json": {
        "f90276eca3294e9990bebaaa4b21eb5a": {
          "model_module": "@jupyter-widgets/controls",
          "model_name": "VBoxModel",
          "model_module_version": "1.5.0",
          "state": {
            "_dom_classes": [
              "widget-interact"
            ],
            "_model_module": "@jupyter-widgets/controls",
            "_model_module_version": "1.5.0",
            "_model_name": "VBoxModel",
            "_view_count": null,
            "_view_module": "@jupyter-widgets/controls",
            "_view_module_version": "1.5.0",
            "_view_name": "VBoxView",
            "box_style": "",
            "children": [
              "IPY_MODEL_4610c4080fcf4e51b8509c5e7db6293b",
              "IPY_MODEL_b236c0b2594042d2a3007388a1585677",
              "IPY_MODEL_27511b40d047426e80dd30cef02ce294",
              "IPY_MODEL_efc2a239072f40fcbf4debd5063d0fb8",
              "IPY_MODEL_8b6f442fd9b04342ae3734eea5714874"
            ],
            "layout": "IPY_MODEL_460d263970434fb2a00307fd0c77b78f"
          }
        },
        "4610c4080fcf4e51b8509c5e7db6293b": {
          "model_module": "@jupyter-widgets/controls",
          "model_name": "FloatSliderModel",
          "model_module_version": "1.5.0",
          "state": {
            "_dom_classes": [],
            "_model_module": "@jupyter-widgets/controls",
            "_model_module_version": "1.5.0",
            "_model_name": "FloatSliderModel",
            "_view_count": null,
            "_view_module": "@jupyter-widgets/controls",
            "_view_module_version": "1.5.0",
            "_view_name": "FloatSliderView",
            "continuous_update": false,
            "description": "mu",
            "description_tooltip": null,
            "disabled": false,
            "layout": "IPY_MODEL_6552d44348a8438bbb2b9694942f8483",
            "max": 50,
            "min": 0.01,
            "orientation": "horizontal",
            "readout": true,
            "readout_format": ".1f",
            "step": 1,
            "style": "IPY_MODEL_970d53acc4bb4dd2870355f84e949a03",
            "value": 10
          }
        },
        "b236c0b2594042d2a3007388a1585677": {
          "model_module": "@jupyter-widgets/controls",
          "model_name": "FloatSliderModel",
          "model_module_version": "1.5.0",
          "state": {
            "_dom_classes": [],
            "_model_module": "@jupyter-widgets/controls",
            "_model_module_version": "1.5.0",
            "_model_name": "FloatSliderModel",
            "_view_count": null,
            "_view_module": "@jupyter-widgets/controls",
            "_view_module_version": "1.5.0",
            "_view_name": "FloatSliderView",
            "continuous_update": false,
            "description": "sigma",
            "description_tooltip": null,
            "disabled": false,
            "layout": "IPY_MODEL_29a9ef024b474bda8563d0df1f18b290",
            "max": 20,
            "min": 0.01,
            "orientation": "horizontal",
            "readout": true,
            "readout_format": ".1f",
            "step": 0.1,
            "style": "IPY_MODEL_37a083962247426fbf913b3bf3418b1f",
            "value": 5
          }
        },
        "27511b40d047426e80dd30cef02ce294": {
          "model_module": "@jupyter-widgets/controls",
          "model_name": "IntSliderModel",
          "model_module_version": "1.5.0",
          "state": {
            "_dom_classes": [],
            "_model_module": "@jupyter-widgets/controls",
            "_model_module_version": "1.5.0",
            "_model_name": "IntSliderModel",
            "_view_count": null,
            "_view_module": "@jupyter-widgets/controls",
            "_view_module_version": "1.5.0",
            "_view_name": "IntSliderView",
            "continuous_update": false,
            "description": "sample_size",
            "description_tooltip": null,
            "disabled": false,
            "layout": "IPY_MODEL_f4f4383e33054ff9919a35752f607755",
            "max": 100,
            "min": 2,
            "orientation": "horizontal",
            "readout": true,
            "readout_format": "d",
            "step": 1,
            "style": "IPY_MODEL_beb4b3ecc2ec4e69af0fea41cb143291",
            "value": 2
          }
        },
        "efc2a239072f40fcbf4debd5063d0fb8": {
          "model_module": "@jupyter-widgets/controls",
          "model_name": "ButtonModel",
          "model_module_version": "1.5.0",
          "state": {
            "_dom_classes": [],
            "_model_module": "@jupyter-widgets/controls",
            "_model_module_version": "1.5.0",
            "_model_name": "ButtonModel",
            "_view_count": null,
            "_view_module": "@jupyter-widgets/controls",
            "_view_module_version": "1.5.0",
            "_view_name": "ButtonView",
            "button_style": "",
            "description": "Run Interact",
            "disabled": false,
            "icon": "",
            "layout": "IPY_MODEL_49ac1cd4363e4713adece1e2fa842e14",
            "style": "IPY_MODEL_57086726051244898ab10c3cf9b128d9",
            "tooltip": ""
          }
        },
        "8b6f442fd9b04342ae3734eea5714874": {
          "model_module": "@jupyter-widgets/output",
          "model_name": "OutputModel",
          "model_module_version": "1.0.0",
          "state": {
            "_dom_classes": [],
            "_model_module": "@jupyter-widgets/output",
            "_model_module_version": "1.0.0",
            "_model_name": "OutputModel",
            "_view_count": null,
            "_view_module": "@jupyter-widgets/output",
            "_view_module_version": "1.0.0",
            "_view_name": "OutputView",
            "layout": "IPY_MODEL_b1a1049f14dd4896b8806af01f8f9b47",
            "msg_id": "",
            "outputs": []
          }
        },
        "460d263970434fb2a00307fd0c77b78f": {
          "model_module": "@jupyter-widgets/base",
          "model_name": "LayoutModel",
          "model_module_version": "1.2.0",
          "state": {
            "_model_module": "@jupyter-widgets/base",
            "_model_module_version": "1.2.0",
            "_model_name": "LayoutModel",
            "_view_count": null,
            "_view_module": "@jupyter-widgets/base",
            "_view_module_version": "1.2.0",
            "_view_name": "LayoutView",
            "align_content": null,
            "align_items": null,
            "align_self": null,
            "border": null,
            "bottom": null,
            "display": null,
            "flex": null,
            "flex_flow": null,
            "grid_area": null,
            "grid_auto_columns": null,
            "grid_auto_flow": null,
            "grid_auto_rows": null,
            "grid_column": null,
            "grid_gap": null,
            "grid_row": null,
            "grid_template_areas": null,
            "grid_template_columns": null,
            "grid_template_rows": null,
            "height": null,
            "justify_content": null,
            "justify_items": null,
            "left": null,
            "margin": null,
            "max_height": null,
            "max_width": null,
            "min_height": null,
            "min_width": null,
            "object_fit": null,
            "object_position": null,
            "order": null,
            "overflow": null,
            "overflow_x": null,
            "overflow_y": null,
            "padding": null,
            "right": null,
            "top": null,
            "visibility": null,
            "width": null
          }
        },
        "6552d44348a8438bbb2b9694942f8483": {
          "model_module": "@jupyter-widgets/base",
          "model_name": "LayoutModel",
          "model_module_version": "1.2.0",
          "state": {
            "_model_module": "@jupyter-widgets/base",
            "_model_module_version": "1.2.0",
            "_model_name": "LayoutModel",
            "_view_count": null,
            "_view_module": "@jupyter-widgets/base",
            "_view_module_version": "1.2.0",
            "_view_name": "LayoutView",
            "align_content": null,
            "align_items": null,
            "align_self": null,
            "border": null,
            "bottom": null,
            "display": null,
            "flex": null,
            "flex_flow": null,
            "grid_area": null,
            "grid_auto_columns": null,
            "grid_auto_flow": null,
            "grid_auto_rows": null,
            "grid_column": null,
            "grid_gap": null,
            "grid_row": null,
            "grid_template_areas": null,
            "grid_template_columns": null,
            "grid_template_rows": null,
            "height": null,
            "justify_content": null,
            "justify_items": null,
            "left": null,
            "margin": null,
            "max_height": null,
            "max_width": null,
            "min_height": null,
            "min_width": null,
            "object_fit": null,
            "object_position": null,
            "order": null,
            "overflow": null,
            "overflow_x": null,
            "overflow_y": null,
            "padding": null,
            "right": null,
            "top": null,
            "visibility": null,
            "width": null
          }
        },
        "970d53acc4bb4dd2870355f84e949a03": {
          "model_module": "@jupyter-widgets/controls",
          "model_name": "SliderStyleModel",
          "model_module_version": "1.5.0",
          "state": {
            "_model_module": "@jupyter-widgets/controls",
            "_model_module_version": "1.5.0",
            "_model_name": "SliderStyleModel",
            "_view_count": null,
            "_view_module": "@jupyter-widgets/base",
            "_view_module_version": "1.2.0",
            "_view_name": "StyleView",
            "description_width": "",
            "handle_color": null
          }
        },
        "29a9ef024b474bda8563d0df1f18b290": {
          "model_module": "@jupyter-widgets/base",
          "model_name": "LayoutModel",
          "model_module_version": "1.2.0",
          "state": {
            "_model_module": "@jupyter-widgets/base",
            "_model_module_version": "1.2.0",
            "_model_name": "LayoutModel",
            "_view_count": null,
            "_view_module": "@jupyter-widgets/base",
            "_view_module_version": "1.2.0",
            "_view_name": "LayoutView",
            "align_content": null,
            "align_items": null,
            "align_self": null,
            "border": null,
            "bottom": null,
            "display": null,
            "flex": null,
            "flex_flow": null,
            "grid_area": null,
            "grid_auto_columns": null,
            "grid_auto_flow": null,
            "grid_auto_rows": null,
            "grid_column": null,
            "grid_gap": null,
            "grid_row": null,
            "grid_template_areas": null,
            "grid_template_columns": null,
            "grid_template_rows": null,
            "height": null,
            "justify_content": null,
            "justify_items": null,
            "left": null,
            "margin": null,
            "max_height": null,
            "max_width": null,
            "min_height": null,
            "min_width": null,
            "object_fit": null,
            "object_position": null,
            "order": null,
            "overflow": null,
            "overflow_x": null,
            "overflow_y": null,
            "padding": null,
            "right": null,
            "top": null,
            "visibility": null,
            "width": null
          }
        },
        "37a083962247426fbf913b3bf3418b1f": {
          "model_module": "@jupyter-widgets/controls",
          "model_name": "SliderStyleModel",
          "model_module_version": "1.5.0",
          "state": {
            "_model_module": "@jupyter-widgets/controls",
            "_model_module_version": "1.5.0",
            "_model_name": "SliderStyleModel",
            "_view_count": null,
            "_view_module": "@jupyter-widgets/base",
            "_view_module_version": "1.2.0",
            "_view_name": "StyleView",
            "description_width": "",
            "handle_color": null
          }
        },
        "f4f4383e33054ff9919a35752f607755": {
          "model_module": "@jupyter-widgets/base",
          "model_name": "LayoutModel",
          "model_module_version": "1.2.0",
          "state": {
            "_model_module": "@jupyter-widgets/base",
            "_model_module_version": "1.2.0",
            "_model_name": "LayoutModel",
            "_view_count": null,
            "_view_module": "@jupyter-widgets/base",
            "_view_module_version": "1.2.0",
            "_view_name": "LayoutView",
            "align_content": null,
            "align_items": null,
            "align_self": null,
            "border": null,
            "bottom": null,
            "display": null,
            "flex": null,
            "flex_flow": null,
            "grid_area": null,
            "grid_auto_columns": null,
            "grid_auto_flow": null,
            "grid_auto_rows": null,
            "grid_column": null,
            "grid_gap": null,
            "grid_row": null,
            "grid_template_areas": null,
            "grid_template_columns": null,
            "grid_template_rows": null,
            "height": null,
            "justify_content": null,
            "justify_items": null,
            "left": null,
            "margin": null,
            "max_height": null,
            "max_width": null,
            "min_height": null,
            "min_width": null,
            "object_fit": null,
            "object_position": null,
            "order": null,
            "overflow": null,
            "overflow_x": null,
            "overflow_y": null,
            "padding": null,
            "right": null,
            "top": null,
            "visibility": null,
            "width": null
          }
        },
        "beb4b3ecc2ec4e69af0fea41cb143291": {
          "model_module": "@jupyter-widgets/controls",
          "model_name": "SliderStyleModel",
          "model_module_version": "1.5.0",
          "state": {
            "_model_module": "@jupyter-widgets/controls",
            "_model_module_version": "1.5.0",
            "_model_name": "SliderStyleModel",
            "_view_count": null,
            "_view_module": "@jupyter-widgets/base",
            "_view_module_version": "1.2.0",
            "_view_name": "StyleView",
            "description_width": "",
            "handle_color": null
          }
        },
        "49ac1cd4363e4713adece1e2fa842e14": {
          "model_module": "@jupyter-widgets/base",
          "model_name": "LayoutModel",
          "model_module_version": "1.2.0",
          "state": {
            "_model_module": "@jupyter-widgets/base",
            "_model_module_version": "1.2.0",
            "_model_name": "LayoutModel",
            "_view_count": null,
            "_view_module": "@jupyter-widgets/base",
            "_view_module_version": "1.2.0",
            "_view_name": "LayoutView",
            "align_content": null,
            "align_items": null,
            "align_self": null,
            "border": null,
            "bottom": null,
            "display": null,
            "flex": null,
            "flex_flow": null,
            "grid_area": null,
            "grid_auto_columns": null,
            "grid_auto_flow": null,
            "grid_auto_rows": null,
            "grid_column": null,
            "grid_gap": null,
            "grid_row": null,
            "grid_template_areas": null,
            "grid_template_columns": null,
            "grid_template_rows": null,
            "height": null,
            "justify_content": null,
            "justify_items": null,
            "left": null,
            "margin": null,
            "max_height": null,
            "max_width": null,
            "min_height": null,
            "min_width": null,
            "object_fit": null,
            "object_position": null,
            "order": null,
            "overflow": null,
            "overflow_x": null,
            "overflow_y": null,
            "padding": null,
            "right": null,
            "top": null,
            "visibility": null,
            "width": null
          }
        },
        "57086726051244898ab10c3cf9b128d9": {
          "model_module": "@jupyter-widgets/controls",
          "model_name": "ButtonStyleModel",
          "model_module_version": "1.5.0",
          "state": {
            "_model_module": "@jupyter-widgets/controls",
            "_model_module_version": "1.5.0",
            "_model_name": "ButtonStyleModel",
            "_view_count": null,
            "_view_module": "@jupyter-widgets/base",
            "_view_module_version": "1.2.0",
            "_view_name": "StyleView",
            "button_color": null,
            "font_weight": ""
          }
        },
        "b1a1049f14dd4896b8806af01f8f9b47": {
          "model_module": "@jupyter-widgets/base",
          "model_name": "LayoutModel",
          "model_module_version": "1.2.0",
          "state": {
            "_model_module": "@jupyter-widgets/base",
            "_model_module_version": "1.2.0",
            "_model_name": "LayoutModel",
            "_view_count": null,
            "_view_module": "@jupyter-widgets/base",
            "_view_module_version": "1.2.0",
            "_view_name": "LayoutView",
            "align_content": null,
            "align_items": null,
            "align_self": null,
            "border": null,
            "bottom": null,
            "display": null,
            "flex": null,
            "flex_flow": null,
            "grid_area": null,
            "grid_auto_columns": null,
            "grid_auto_flow": null,
            "grid_auto_rows": null,
            "grid_column": null,
            "grid_gap": null,
            "grid_row": null,
            "grid_template_areas": null,
            "grid_template_columns": null,
            "grid_template_rows": null,
            "height": null,
            "justify_content": null,
            "justify_items": null,
            "left": null,
            "margin": null,
            "max_height": null,
            "max_width": null,
            "min_height": null,
            "min_width": null,
            "object_fit": null,
            "object_position": null,
            "order": null,
            "overflow": null,
            "overflow_x": null,
            "overflow_y": null,
            "padding": null,
            "right": null,
            "top": null,
            "visibility": null,
            "width": null
          }
        }
      }
    }
  },
  "cells": [
    {
      "cell_type": "markdown",
      "metadata": {
        "id": "view-in-github",
        "colab_type": "text"
      },
      "source": [
        "<a href=\"https://colab.research.google.com/github/rahiakela/mathematics-for-machine-learning/blob/main/mathematics-for-machine-learning-and-data-science-specialization/03-probability-and-statistics/week3-sampling-and-point-estimation/lab_central_limit_theorem.ipynb\" target=\"_parent\"><img src=\"https://colab.research.google.com/assets/colab-badge.svg\" alt=\"Open In Colab\"/></a>"
      ]
    },
    {
      "cell_type": "markdown",
      "source": [
        "## Lab: Central Limit Theorem"
      ],
      "metadata": {
        "id": "z1hvqEmmIA_6"
      }
    },
    {
      "cell_type": "markdown",
      "source": [
        "Welcome! In this ungraded lab see applications of the Central Limit Theorem when working with different distributions of data. You will see how to see the theorem in action, as well as scenarios in which the theorem doesn't hold.\n",
        "\n",
        "Let's get started!"
      ],
      "metadata": {
        "id": "6kaqAM61IMmC"
      }
    },
    {
      "cell_type": "markdown",
      "source": [
        "##Setup"
      ],
      "metadata": {
        "id": "czUgqweJIOmf"
      }
    },
    {
      "cell_type": "code",
      "source": [
        "!wget https://github.com/rahiakela/mathematics-for-machine-learning/raw/main/mathematics-for-machine-learning-and-data-science-specialization/03-probability-and-statistics/week3-sampling-and-point-estimation/utils.py"
      ],
      "metadata": {
        "id": "yCLtzlXLIPzR"
      },
      "execution_count": null,
      "outputs": []
    },
    {
      "cell_type": "code",
      "source": [
        "import numpy as np\n",
        "import pandas as pd\n",
        "import seaborn as sns\n",
        "import matplotlib.pyplot as plt\n",
        "from scipy import stats\n",
        "from scipy.stats import norm\n",
        "\n",
        "import utils"
      ],
      "metadata": {
        "id": "6fw2BjPIJvwp"
      },
      "execution_count": null,
      "outputs": []
    },
    {
      "cell_type": "markdown",
      "source": [
        "## Gaussian population"
      ],
      "metadata": {
        "id": "5QoQ0aoGJwYE"
      }
    },
    {
      "cell_type": "markdown",
      "source": [
        "Begin with the most straightforward scenario: when your population follows a Gaussian distribution. You will generate the data for this population by using the [np.random.normal](https://numpy.org/doc/stable/reference/random/generated/numpy.random.normal.html) function."
      ],
      "metadata": {
        "id": "WC_LyEO5J76_"
      }
    },
    {
      "cell_type": "code",
      "source": [
        "mu = 10\n",
        "sigma = 5\n",
        "\n",
        "gaussian_population = np.random.normal(mu, sigma, 100_000)"
      ],
      "metadata": {
        "id": "HRxq9_LxJ99W"
      },
      "execution_count": null,
      "outputs": []
    },
    {
      "cell_type": "markdown",
      "source": [
        "The population has a mean of 10 and a standard deviation of 5 (since these are the true parameters you used to generate the data) and a total of 100'000 observations.\n",
        "\n",
        "You can visualize its histogram by running the next cell:"
      ],
      "metadata": {
        "id": "Hf_-8L05Kjbv"
      }
    },
    {
      "cell_type": "code",
      "source": [
        "sns.histplot(gaussian_population, stat=\"density\")\n",
        "plt.show()"
      ],
      "metadata": {
        "id": "Q6TvTpwUKkkB",
        "outputId": "26baff1c-6ecd-4d63-eaa5-bec6bf2f5155",
        "colab": {
          "base_uri": "https://localhost:8080/",
          "height": 430
        }
      },
      "execution_count": null,
      "outputs": [
        {
          "output_type": "display_data",
          "data": {
            "text/plain": [
              "<Figure size 640x480 with 1 Axes>"
            ],
            "image/png": "[encoded data removed]"
          },
          "metadata": {}
        }
      ]
    },
    {
      "cell_type": "markdown",
      "source": [
        "## Sampling from the population"
      ],
      "metadata": {
        "id": "LVyeNSTiT3Fx"
      }
    },
    {
      "cell_type": "markdown",
      "source": [
        "Since this lab uses simulated data you could very easily use the whole population to draw conclusions from the data. For instance if you didn't know about the values of $\\mu$ and $\\sigma$ you could get very close estimates of the true values by computing the mean and standard deviation of the whole population like so:"
      ],
      "metadata": {
        "id": "mg12qvf4T3f2"
      }
    },
    {
      "cell_type": "code",
      "source": [
        "gaussian_pop_mean = np.mean(gaussian_population)\n",
        "gaussian_pop_std = np.std(gaussian_population)\n",
        "\n",
        "print(f\"Gaussian population has mean: {gaussian_pop_mean:.1f} and std: {gaussian_pop_std:.1f}\")"
      ],
      "metadata": {
        "id": "TTT4oeFjT6Cw",
        "outputId": "1c6a6367-7c89-4c5f-fa7d-aa760fb2ee4a",
        "colab": {
          "base_uri": "https://localhost:8080/"
        }
      },
      "execution_count": null,
      "outputs": [
        {
          "output_type": "stream",
          "name": "stdout",
          "text": [
            "Gaussian population has mean: 10.0 and std: 5.0\n"
          ]
        }
      ]
    },
    {
      "cell_type": "markdown",
      "source": [
        "However in real life this will most certainly not be possible and you will need to use samples that are nowhere near as big as the population to draw conclusions of the behaviour of the data.  After all, this is what statistics is all about.\n",
        "\n",
        "Depending on the sampling techniques you could encounter different properties, this is where the Central Limit Theorem comes in handy. For many distributions the following is true:\n",
        "\n",
        "The sum or average of a large number of independent and identically distributed random variables tends to follow a normal distribution, regardless of the distribution of the individual variables themselves. This is important because the normal distribution is well-understood and allows for statistical inference and hypothesis testing.\n",
        "\n",
        "With this in mind you need a way of averaging samples out of your population.\n",
        "\n",
        "For this the `sample_means` is defined:"
      ],
      "metadata": {
        "id": "xdUdB8oz0NDd"
      }
    },
    {
      "cell_type": "code",
      "source": [
        "def sample_means(data, sample_size):\n",
        "  # Save all the means in a list\n",
        "  means = []\n",
        "\n",
        "  # For a big number of samples\n",
        "  # This value does not impact the theorem but how nicely the histograms will look (more samples = better looking)\n",
        "  for _ in range(10_000):\n",
        "    # Get a sample of the data WITH replacement\n",
        "    sample = np.random.choice(data, size=sample_size)\n",
        "    # Save the mean of the sample\n",
        "    means.append(np.mean(sample))\n",
        "  # Return the means within a numpy array\n",
        "  return np.array(means)"
      ],
      "metadata": {
        "id": "uMyFDyP40OyC"
      },
      "execution_count": null,
      "outputs": []
    },
    {
      "cell_type": "markdown",
      "source": [
        "Let's break down the function above:\n",
        "\n",
        "- You take random samples out of the population (the sampling is done with replacement, which means that once you select an element you put it back in the sampling space so you could choose a particular element more than once). This ensures that the independence condition is met.\n",
        "\n",
        "- Compute the mean of each sample\n",
        "\n",
        "- Save the means of each sample in a numpy array\n",
        "\n",
        "The theorem states that if a large enough `sample_size` is used (usually bigger than 30) then the distribution of the sample means should be Gaussian. See it in action by running the next cell:"
      ],
      "metadata": {
        "id": "ESAHajRtETr4"
      }
    },
    {
      "cell_type": "code",
      "source": [
        "# Compute the sample means\n",
        "gaussian_sample_means = sample_means(gaussian_population, sample_size=5)\n",
        "\n",
        "# Plot a histogram of the sample means\n",
        "sns.histplot(gaussian_sample_means, stat=\"density\")\n",
        "plt.show()"
      ],
      "metadata": {
        "id": "ldrJO8zjEE9P",
        "outputId": "d07c0702-38a7-4461-9146-d7553681b69f",
        "colab": {
          "base_uri": "https://localhost:8080/",
          "height": 430
        }
      },
      "execution_count": null,
      "outputs": [
        {
          "output_type": "display_data",
          "data": {
            "text/plain": [
              "<Figure size 640x480 with 1 Axes>"
            ],
            "image/png": "[encoded data removed]"
          },
          "metadata": {}
        }
      ]
    },
    {
      "cell_type": "markdown",
      "source": [
        "The distribution of the sample means looks pretty Gaussian. However this is not good enough to determine if the theorem holds, after all you used a very small `sample_size` in this example. There are various ways to check if the sample means do follow a Gaussian distribution.\n",
        "\n",
        "The first one is to compute the theoretical $\\mu$ and $\\sigma$ of the sample means which will be denoted with the symbols $\\mu_{\\bar{X}}$ and $\\sigma_{\\bar{X}}$ respectively. These values can be computed as follows:\n",
        "\n",
        "- $\\mu_{\\bar{X}} = \\mu$\n",
        "\n",
        "\n",
        "- $\\sigma_{\\bar{X}} = \\frac{\\sigma}{\\sqrt{n}}$\n",
        "\n",
        "**Note: In this case $n$ is the size of the sample.**\n",
        "\n",
        "And then use these values to plot a Gaussian curve with parameters $\\mu_{\\bar{X}}$ and $\\sigma_{\\bar{X}}$. If the theorem holds then the resulting distribution of the sample means should resemble this Gaussian curve. Run the next cell to include this into the plot:"
      ],
      "metadata": {
        "id": "f36DRZ7IElFd"
      }
    },
    {
      "cell_type": "code",
      "source": [
        "# Compute estimated mu\n",
        "mu_sample_means = mu\n",
        "\n",
        "# Compute estimated sigma\n",
        "# 5 is being used because you used a sample size of 5\n",
        "sigma_sample_means = sigma / np.sqrt(5)\n",
        "\n",
        "# Define the x-range for the Gaussian curve (this is just for plotting purposes)\n",
        "x_range = np.linspace(min(gaussian_sample_means), max(gaussian_sample_means), 100)\n",
        "\n",
        "# Plot everything together\n",
        "sns.histplot(gaussian_sample_means, stat=\"density\")\n",
        "plt.plot(\n",
        "    x_range,\n",
        "    norm.pdf(x_range, loc=mu_sample_means, scale=sigma_sample_means),\n",
        "    color=\"black\",\n",
        ")\n",
        "plt.show()"
      ],
      "metadata": {
        "id": "jbNGWILUEls1",
        "outputId": "5c1115b5-c81c-45ba-8843-547b26663a56",
        "colab": {
          "base_uri": "https://localhost:8080/",
          "height": 430
        }
      },
      "execution_count": null,
      "outputs": [
        {
          "output_type": "display_data",
          "data": {
            "text/plain": [
              "<Figure size 640x480 with 1 Axes>"
            ],
            "image/png": "[encoded data removed]"
          },
          "metadata": {}
        }
      ]
    },
    {
      "cell_type": "markdown",
      "source": [
        "They look pretty similar. However you can go one step further and plot a smooth function that attempts to estimate the probability density function of the sample means through a method known as `kernel density estimation`.\n",
        "\n",
        "If this smooth function resembles the Gaussian function then you know that the distribution of the sample means is very similar to a Gaussian:"
      ],
      "metadata": {
        "id": "4G2YwAaNWm4l"
      }
    },
    {
      "cell_type": "code",
      "source": [
        "# Histogram of sample means (blue)\n",
        "sns.histplot(gaussian_sample_means, stat=\"density\", label=\"hist\")\n",
        "\n",
        "# Estimated PDF of sample means (red)\n",
        "sns.kdeplot(\n",
        "    data=gaussian_sample_means,\n",
        "    color=\"crimson\",\n",
        "    label=\"kde\",\n",
        "    linestyle=\"dashed\",\n",
        "    fill=True,\n",
        ")\n",
        "\n",
        "# Gaussian curve with estimated mu and sigma (black)\n",
        "plt.plot(\n",
        "    x_range,\n",
        "    norm.pdf(x_range, loc=mu_sample_means, scale=sigma_sample_means),\n",
        "    color=\"black\",\n",
        "    label=\"gaussian\",\n",
        ")\n",
        "\n",
        "plt.legend()\n",
        "plt.show()"
      ],
      "metadata": {
        "id": "frnyT3ysWpCZ",
        "outputId": "f4a853ec-0f1d-4595-8267-07f98228fd16",
        "colab": {
          "base_uri": "https://localhost:8080/",
          "height": 430
        }
      },
      "execution_count": null,
      "outputs": [
        {
          "output_type": "display_data",
          "data": {
            "text/plain": [
              "<Figure size 640x480 with 1 Axes>"
            ],
            "image/png": "[encoded data removed]"
          },
          "metadata": {}
        }
      ]
    },
    {
      "cell_type": "markdown",
      "source": [
        "Both curves look almost identical!\n",
        "\n",
        "Another way of checking for normality is to perform a QQ plot of the sample means. The points in this plot should resemble a straight line if the distribution of the data is Gaussian:"
      ],
      "metadata": {
        "id": "V6AaCbwKW46O"
      }
    },
    {
      "cell_type": "code",
      "source": [
        "# Create the QQ plot\n",
        "fig, ax = plt.subplots(figsize=(6, 6))\n",
        "res = stats.probplot(gaussian_sample_means, plot=ax, fit=True)\n",
        "plt.show()"
      ],
      "metadata": {
        "id": "f1Cuwa3KW5Wr",
        "outputId": "4f7477be-9321-4e3f-b8ed-676b6b78447d",
        "colab": {
          "base_uri": "https://localhost:8080/",
          "height": 564
        }
      },
      "execution_count": null,
      "outputs": [
        {
          "output_type": "display_data",
          "data": {
            "text/plain": [
              "<Figure size 600x600 with 1 Axes>"
            ],
            "image/png": "[encoded data removed]"
          },
          "metadata": {}
        }
      ]
    },
    {
      "cell_type": "markdown",
      "source": [
        "The resulting QQ plot yields an almost perfect straight line which further confirms that the sample means do follow a Gaussian distribution.\n",
        "\n",
        "Now, put everything together in an interactive widget to experiment with different values for $\\mu$, $\\sigma$ and `sample_size`. **To update the plots you will need to click the `Run Interact` button after changing the parameters**:"
      ],
      "metadata": {
        "id": "Jn82SgDgW8qd"
      }
    },
    {
      "cell_type": "code",
      "source": [
        "utils.gaussian_clt()"
      ],
      "metadata": {
        "id": "juewK9DjgWtO",
        "outputId": "39236a85-c7d2-4e51-e299-44ab39220a8f",
        "colab": {
          "base_uri": "https://localhost:8080/",
          "height": 145,
          "referenced_widgets": [
            "f90276eca3294e9990bebaaa4b21eb5a",
            "4610c4080fcf4e51b8509c5e7db6293b",
            "b236c0b2594042d2a3007388a1585677",
            "27511b40d047426e80dd30cef02ce294",
            "efc2a239072f40fcbf4debd5063d0fb8",
            "8b6f442fd9b04342ae3734eea5714874",
            "460d263970434fb2a00307fd0c77b78f",
            "6552d44348a8438bbb2b9694942f8483",
            "970d53acc4bb4dd2870355f84e949a03",
            "29a9ef024b474bda8563d0df1f18b290",
            "37a083962247426fbf913b3bf3418b1f",
            "f4f4383e33054ff9919a35752f607755",
            "beb4b3ecc2ec4e69af0fea41cb143291",
            "49ac1cd4363e4713adece1e2fa842e14",
            "57086726051244898ab10c3cf9b128d9",
            "b1a1049f14dd4896b8806af01f8f9b47"
          ]
        }
      },
      "execution_count": null,
      "outputs": [
        {
          "output_type": "display_data",
          "data": {
            "text/plain": [
              "interactive(children=(FloatSlider(value=10.0, continuous_update=False, description='mu', max=50.0, min=0.01, r…"
            ],
            "application/vnd.jupyter.widget-view+json": {
              "version_major": 2,
              "version_minor": 0,
              "model_id": "f90276eca3294e9990bebaaa4b21eb5a"
            }
          },
          "metadata": {}
        }
      ]
    },
    {
      "cell_type": "markdown",
      "source": [
        "Even with very small values for `sample_size` the sample means follow a Gaussian distribution. This is actually one of the properties of the Gaussian distribution so the theorem is not as powerful in this case, since it will always hold regardless of the size of the sample.\n",
        "\n",
        "Now test the theorem with other distributions!"
      ],
      "metadata": {
        "id": "3KeR0rMfgqM4"
      }
    },
    {
      "cell_type": "markdown",
      "source": [
        "##Binomial Population"
      ],
      "metadata": {
        "id": "XMJWY96Ogqt_"
      }
    },
    {
      "cell_type": "markdown",
      "source": [
        "Now try with a population distribution that is not Gaussian. One such distribution is the Binomial distribution which you already saw covered in the lectures. To generate data that follows this distribution you will need to define values for the parameters of `n` and `p`:"
      ],
      "metadata": {
        "id": "q2_UBZNBg0Kb"
      }
    },
    {
      "cell_type": "code",
      "source": [
        "n = 5\n",
        "p = 0.8\n",
        "\n",
        "binomial_population = np.random.binomial(n, p, 100_000)"
      ],
      "metadata": {
        "id": "30E4BhHQg3md"
      },
      "execution_count": null,
      "outputs": []
    },
    {
      "cell_type": "markdown",
      "source": [
        "The population has a total of 100'000 observations. You can visualize its histogram by running the next cell:"
      ],
      "metadata": {
        "id": "jY4PF-d582Y9"
      }
    },
    {
      "cell_type": "code",
      "source": [
        "sns.histplot(binomial_population, stat=\"count\")\n",
        "plt.show()"
      ],
      "metadata": {
        "id": "ub-MAcrp8ykr",
        "outputId": "d2499931-6fef-4639-8f60-ce824a0f72e5",
        "colab": {
          "base_uri": "https://localhost:8080/",
          "height": 430
        }
      },
      "execution_count": null,
      "outputs": [
        {
          "output_type": "display_data",
          "data": {
            "text/plain": [
              "<Figure size 640x480 with 1 Axes>"
            ],
            "image/png": "[encoded data removed]"
          },
          "metadata": {}
        }
      ]
    },
    {
      "cell_type": "markdown",
      "source": [
        "The mean and standard deviation is not as straightforward as in the Gaussian case (since these parameters were needed to generate the data in that case). However you can easily compute those values by drawing them directly from the population:"
      ],
      "metadata": {
        "id": "u55a8Tdi9HBc"
      }
    },
    {
      "cell_type": "code",
      "source": [
        "binomial_pop_mean = np.mean(binomial_population)\n",
        "binomial_pop_std = np.std(binomial_population)\n",
        "\n",
        "print(f\"Gaussian population has mean: {binomial_pop_mean:.1f} and std: {binomial_pop_std:.1f}\")"
      ],
      "metadata": {
        "id": "W84dnvx485eo",
        "outputId": "7b305545-b98e-426a-8625-9ecf0979e3c7",
        "colab": {
          "base_uri": "https://localhost:8080/"
        }
      },
      "execution_count": null,
      "outputs": [
        {
          "output_type": "stream",
          "name": "stdout",
          "text": [
            "Gaussian population has mean: 4.0 and std: 0.9\n"
          ]
        }
      ]
    },
    {
      "cell_type": "markdown",
      "source": [
        "Once again, in real life you will not have access to the whole population so you need another method to compute this values. Actually the mean and standard deviation of binomal distributions are well defined and can be computed by using the following formulas:\n",
        "\n",
        "- $\\mu = np$\n",
        "\n",
        "\n",
        "- $\\sigma = \\sqrt{np(1-p)}$"
      ],
      "metadata": {
        "id": "uRO897bd9Wgx"
      }
    },
    {
      "cell_type": "code",
      "source": [
        "binomial_pop_mean = n * p\n",
        "binomial_pop_std = np.sqrt(n * p * (1 - p))\n",
        "\n",
        "print(f\"Gaussian population has mean: {binomial_pop_mean:.1f} and std: {binomial_pop_std:.1f}\")"
      ],
      "metadata": {
        "id": "_IAnP4H09YvG",
        "outputId": "dc1d92c6-ad27-4fe4-f64c-3d1f51b434de",
        "colab": {
          "base_uri": "https://localhost:8080/"
        }
      },
      "execution_count": null,
      "outputs": [
        {
          "output_type": "stream",
          "name": "stdout",
          "text": [
            "Gaussian population has mean: 4.0 and std: 0.9\n"
          ]
        }
      ]
    },
    {
      "cell_type": "markdown",
      "source": [
        "Now you have found these same values but without needing to sample the whole population. Nice!\n",
        "\n",
        "Before seeing the theorem for this case, you should know that there is a rule of thumb to know if the theorem will hold or not. This condition is the following:\n",
        "\n",
        "if $min(Np, N(1-p)) >= 5$ then CLT holds\n",
        "\n",
        "where $N = n*sample\\_size$\n",
        "\n",
        "However, it is important to note that this rule is only a rough guideline, and other factors such as the presence of outliers and the purpose of the analysis should also be taken into consideration when choosing an appropriate statistical method.\n",
        "\n",
        "Now check the theorem in action. Begin by using a small `sample_size`:"
      ],
      "metadata": {
        "id": "lYlw1HzoKFpD"
      }
    },
    {
      "cell_type": "code",
      "source": [
        "sample_size = 3\n",
        "N = n * sample_size\n",
        "\n",
        "condition_value = np.min([N * p, N * (1 - p)])\n",
        "print(f\"The condition value is: {condition_value:.1f}. CLT should hold?: {True if condition_value >= 5 else False}\")"
      ],
      "metadata": {
        "id": "hmQVC21EKGFN"
      },
      "execution_count": null,
      "outputs": []
    },
    {
      "cell_type": "markdown",
      "source": [
        "Perform the sampling and compute the theoretical values for the mean and standard deviation of the sample means. Remember these latter two can be computed like so:\n",
        "\n",
        "- $\\mu_{\\bar{X}} = \\mu$\n",
        "\n",
        "\n",
        "- $\\sigma_{\\bar{X}} = \\frac{\\sigma}{\\sqrt{sample\\_size}}$"
      ],
      "metadata": {
        "id": "pCWNvUmCM6c6"
      }
    },
    {
      "cell_type": "code",
      "source": [],
      "metadata": {
        "id": "551Y0zrFM6-w"
      },
      "execution_count": null,
      "outputs": []
    }
  ]
}