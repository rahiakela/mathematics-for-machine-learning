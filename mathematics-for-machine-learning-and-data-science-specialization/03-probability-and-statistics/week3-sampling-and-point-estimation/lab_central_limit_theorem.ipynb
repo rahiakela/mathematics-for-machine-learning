{
  "nbformat": 4,
  "nbformat_minor": 0,
  "metadata": {
    "colab": {
      "provenance": [],
      "toc_visible": true,
      "authorship_tag": "ABX9TyMipL2SGL23HA8IcLsxUXl2",
      "include_colab_link": true
    },
    "kernelspec": {
      "name": "python3",
      "display_name": "Python 3"
    },
    "language_info": {
      "name": "python"
    }
  },
  "cells": [
    {
      "cell_type": "markdown",
      "metadata": {
        "id": "view-in-github",
        "colab_type": "text"
      },
      "source": [
        "<a href=\"https://colab.research.google.com/github/rahiakela/mathematics-for-machine-learning/blob/main/mathematics-for-machine-learning-and-data-science-specialization/03-probability-and-statistics/week3-sampling-and-point-estimation/lab_central_limit_theorem.ipynb\" target=\"_parent\"><img src=\"https://colab.research.google.com/assets/colab-badge.svg\" alt=\"Open In Colab\"/></a>"
      ]
    },
    {
      "cell_type": "markdown",
      "source": [
        "## Lab: Central Limit Theorem"
      ],
      "metadata": {
        "id": "z1hvqEmmIA_6"
      }
    },
    {
      "cell_type": "markdown",
      "source": [
        "Welcome! In this ungraded lab see applications of the Central Limit Theorem when working with different distributions of data. You will see how to see the theorem in action, as well as scenarios in which the theorem doesn't hold.\n",
        "\n",
        "Let's get started!"
      ],
      "metadata": {
        "id": "6kaqAM61IMmC"
      }
    },
    {
      "cell_type": "markdown",
      "source": [
        "##Setup"
      ],
      "metadata": {
        "id": "czUgqweJIOmf"
      }
    },
    {
      "cell_type": "code",
      "source": [],
      "metadata": {
        "id": "yCLtzlXLIPzR"
      },
      "execution_count": null,
      "outputs": []
    }
  ]
}