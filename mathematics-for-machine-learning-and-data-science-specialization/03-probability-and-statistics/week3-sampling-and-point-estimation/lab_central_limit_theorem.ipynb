{
  "nbformat": 4,
  "nbformat_minor": 0,
  "metadata": {
    "colab": {
      "provenance": [],
      "toc_visible": true,
      "authorship_tag": "ABX9TyNrKt2JU+t0ssAbQAorduzm",
      "include_colab_link": true
    },
    "kernelspec": {
      "name": "python3",
      "display_name": "Python 3"
    },
    "language_info": {
      "name": "python"
    }
  },
  "cells": [
    {
      "cell_type": "markdown",
      "metadata": {
        "id": "view-in-github",
        "colab_type": "text"
      },
      "source": [
        "<a href=\"https://colab.research.google.com/github/rahiakela/mathematics-for-machine-learning/blob/main/mathematics-for-machine-learning-and-data-science-specialization/03-probability-and-statistics/week3-sampling-and-point-estimation/lab_central_limit_theorem.ipynb\" target=\"_parent\"><img src=\"https://colab.research.google.com/assets/colab-badge.svg\" alt=\"Open In Colab\"/></a>"
      ]
    },
    {
      "cell_type": "markdown",
      "source": [
        "## Lab: Central Limit Theorem"
      ],
      "metadata": {
        "id": "z1hvqEmmIA_6"
      }
    },
    {
      "cell_type": "markdown",
      "source": [
        "Welcome! In this ungraded lab see applications of the Central Limit Theorem when working with different distributions of data. You will see how to see the theorem in action, as well as scenarios in which the theorem doesn't hold.\n",
        "\n",
        "Let's get started!"
      ],
      "metadata": {
        "id": "6kaqAM61IMmC"
      }
    },
    {
      "cell_type": "markdown",
      "source": [
        "##Setup"
      ],
      "metadata": {
        "id": "czUgqweJIOmf"
      }
    },
    {
      "cell_type": "code",
      "source": [
        "!wget https://github.com/rahiakela/mathematics-for-machine-learning/raw/main/mathematics-for-machine-learning-and-data-science-specialization/03-probability-and-statistics/week3-sampling-and-point-estimation/utils.py"
      ],
      "metadata": {
        "id": "yCLtzlXLIPzR"
      },
      "execution_count": null,
      "outputs": []
    },
    {
      "cell_type": "code",
      "source": [
        "import numpy as np\n",
        "import pandas as pd\n",
        "import seaborn as sns\n",
        "import matplotlib.pyplot as plt\n",
        "from scipy import stats\n",
        "from scipy.stats import norm\n",
        "\n",
        "import utils"
      ],
      "metadata": {
        "id": "6fw2BjPIJvwp"
      },
      "execution_count": 2,
      "outputs": []
    },
    {
      "cell_type": "markdown",
      "source": [
        "## Gaussian population"
      ],
      "metadata": {
        "id": "5QoQ0aoGJwYE"
      }
    },
    {
      "cell_type": "markdown",
      "source": [
        "Begin with the most straightforward scenario: when your population follows a Gaussian distribution. You will generate the data for this population by using the [np.random.normal](https://numpy.org/doc/stable/reference/random/generated/numpy.random.normal.html) function."
      ],
      "metadata": {
        "id": "WC_LyEO5J76_"
      }
    },
    {
      "cell_type": "code",
      "source": [
        "mu = 10\n",
        "sigma = 5\n",
        "\n",
        "gaussian_population = np.random.normal(mu, sigma, 100_000)"
      ],
      "metadata": {
        "id": "HRxq9_LxJ99W"
      },
      "execution_count": 3,
      "outputs": []
    },
    {
      "cell_type": "markdown",
      "source": [
        "The population has a mean of 10 and a standard deviation of 5 (since these are the true parameters you used to generate the data) and a total of 100'000 observations.\n",
        "\n",
        "You can visualize its histogram by running the next cell:"
      ],
      "metadata": {
        "id": "Hf_-8L05Kjbv"
      }
    },
    {
      "cell_type": "code",
      "source": [
        "sns.histplot(gaussian_population, stat=\"density\")\n",
        "plt.show()"
      ],
      "metadata": {
        "id": "Q6TvTpwUKkkB",
        "outputId": "a5c3c5dc-ef52-4018-b950-d49c1855fff4",
        "colab": {
          "base_uri": "https://localhost:8080/",
          "height": 430
        }
      },
      "execution_count": 4,
      "outputs": [
        {
          "output_type": "display_data",
          "data": {
            "text/plain": [
              "<Figure size 640x480 with 1 Axes>"
            ],
            "image/png": "[encoded data removed]"
          },
          "metadata": {}
        }
      ]
    },
    {
      "cell_type": "markdown",
      "source": [
        "## Sampling from the population"
      ],
      "metadata": {
        "id": "LVyeNSTiT3Fx"
      }
    },
    {
      "cell_type": "markdown",
      "source": [
        "Since this lab uses simulated data you could very easily use the whole population to draw conclusions from the data. For instance if you didn't know about the values of $\\mu$ and $\\sigma$ you could get very close estimates of the true values by computing the mean and standard deviation of the whole population like so:"
      ],
      "metadata": {
        "id": "mg12qvf4T3f2"
      }
    },
    {
      "cell_type": "code",
      "source": [],
      "metadata": {
        "id": "TTT4oeFjT6Cw"
      },
      "execution_count": null,
      "outputs": []
    }
  ]
}