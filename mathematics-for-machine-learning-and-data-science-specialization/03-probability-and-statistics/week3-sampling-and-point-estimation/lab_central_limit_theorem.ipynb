{
  "nbformat": 4,
  "nbformat_minor": 0,
  "metadata": {
    "colab": {
      "provenance": [],
      "toc_visible": true,
      "authorship_tag": "ABX9TyPgemsf0stT8bwg6pN3CmRT",
      "include_colab_link": true
    },
    "kernelspec": {
      "name": "python3",
      "display_name": "Python 3"
    },
    "language_info": {
      "name": "python"
    }
  },
  "cells": [
    {
      "cell_type": "markdown",
      "metadata": {
        "id": "view-in-github",
        "colab_type": "text"
      },
      "source": [
        "<a href=\"https://colab.research.google.com/github/rahiakela/mathematics-for-machine-learning/blob/main/mathematics-for-machine-learning-and-data-science-specialization/03-probability-and-statistics/week3-sampling-and-point-estimation/lab_central_limit_theorem.ipynb\" target=\"_parent\"><img src=\"https://colab.research.google.com/assets/colab-badge.svg\" alt=\"Open In Colab\"/></a>"
      ]
    },
    {
      "cell_type": "markdown",
      "source": [
        "## Lab: Central Limit Theorem"
      ],
      "metadata": {
        "id": "z1hvqEmmIA_6"
      }
    },
    {
      "cell_type": "markdown",
      "source": [
        "Welcome! In this ungraded lab see applications of the Central Limit Theorem when working with different distributions of data. You will see how to see the theorem in action, as well as scenarios in which the theorem doesn't hold.\n",
        "\n",
        "Let's get started!"
      ],
      "metadata": {
        "id": "6kaqAM61IMmC"
      }
    },
    {
      "cell_type": "markdown",
      "source": [
        "##Setup"
      ],
      "metadata": {
        "id": "czUgqweJIOmf"
      }
    },
    {
      "cell_type": "code",
      "source": [
        "!wget https://github.com/rahiakela/mathematics-for-machine-learning/raw/main/mathematics-for-machine-learning-and-data-science-specialization/03-probability-and-statistics/week3-sampling-and-point-estimation/utils.py"
      ],
      "metadata": {
        "id": "yCLtzlXLIPzR"
      },
      "execution_count": null,
      "outputs": []
    },
    {
      "cell_type": "code",
      "source": [
        "import numpy as np\n",
        "import pandas as pd\n",
        "import seaborn as sns\n",
        "import matplotlib.pyplot as plt\n",
        "from scipy import stats\n",
        "from scipy.stats import norm\n",
        "\n",
        "import utils"
      ],
      "metadata": {
        "id": "6fw2BjPIJvwp"
      },
      "execution_count": 2,
      "outputs": []
    },
    {
      "cell_type": "markdown",
      "source": [
        "## Gaussian population"
      ],
      "metadata": {
        "id": "5QoQ0aoGJwYE"
      }
    },
    {
      "cell_type": "markdown",
      "source": [
        "Begin with the most straightforward scenario: when your population follows a Gaussian distribution. You will generate the data for this population by using the [np.random.normal](https://numpy.org/doc/stable/reference/random/generated/numpy.random.normal.html) function."
      ],
      "metadata": {
        "id": "WC_LyEO5J76_"
      }
    },
    {
      "cell_type": "code",
      "source": [
        "mu = 10\n",
        "sigma = 5\n",
        "\n",
        "gaussian_population = np.random.normal(mu, sigma, 100_000)"
      ],
      "metadata": {
        "id": "HRxq9_LxJ99W"
      },
      "execution_count": 3,
      "outputs": []
    },
    {
      "cell_type": "markdown",
      "source": [
        "The population has a mean of 10 and a standard deviation of 5 (since these are the true parameters you used to generate the data) and a total of 100'000 observations.\n",
        "\n",
        "You can visualize its histogram by running the next cell:"
      ],
      "metadata": {
        "id": "Hf_-8L05Kjbv"
      }
    },
    {
      "cell_type": "code",
      "source": [
        "sns.histplot(gaussian_population, stat=\"density\")\n",
        "plt.show()"
      ],
      "metadata": {
        "id": "Q6TvTpwUKkkB",
        "outputId": "39c08e17-69d6-4bfd-d57a-55eca5f60e86",
        "colab": {
          "base_uri": "https://localhost:8080/",
          "height": 430
        }
      },
      "execution_count": 4,
      "outputs": [
        {
          "output_type": "display_data",
          "data": {
            "text/plain": [
              "<Figure size 640x480 with 1 Axes>"
            ],
            "image/png": "[encoded data removed]"
          },
          "metadata": {}
        }
      ]
    },
    {
      "cell_type": "markdown",
      "source": [
        "## Sampling from the population"
      ],
      "metadata": {
        "id": "LVyeNSTiT3Fx"
      }
    },
    {
      "cell_type": "markdown",
      "source": [
        "Since this lab uses simulated data you could very easily use the whole population to draw conclusions from the data. For instance if you didn't know about the values of $\\mu$ and $\\sigma$ you could get very close estimates of the true values by computing the mean and standard deviation of the whole population like so:"
      ],
      "metadata": {
        "id": "mg12qvf4T3f2"
      }
    },
    {
      "cell_type": "code",
      "source": [
        "gaussian_pop_mean = np.mean(gaussian_population)\n",
        "gaussian_pop_std = np.std(gaussian_population)\n",
        "\n",
        "print(f\"Gaussian population has mean: {gaussian_pop_mean:.1f} and std: {gaussian_pop_std:.1f}\")"
      ],
      "metadata": {
        "id": "TTT4oeFjT6Cw",
        "outputId": "cf157db4-5c09-4b40-abec-12fefa32aac8",
        "colab": {
          "base_uri": "https://localhost:8080/"
        }
      },
      "execution_count": 5,
      "outputs": [
        {
          "output_type": "stream",
          "name": "stdout",
          "text": [
            "Gaussian population has mean: 10.0 and std: 5.0\n"
          ]
        }
      ]
    },
    {
      "cell_type": "markdown",
      "source": [
        "However in real life this will most certainly not be possible and you will need to use samples that are nowhere near as big as the population to draw conclusions of the behaviour of the data.  After all, this is what statistics is all about.\n",
        "\n",
        "Depending on the sampling techniques you could encounter different properties, this is where the Central Limit Theorem comes in handy. For many distributions the following is true:\n",
        "\n",
        "The sum or average of a large number of independent and identically distributed random variables tends to follow a normal distribution, regardless of the distribution of the individual variables themselves. This is important because the normal distribution is well-understood and allows for statistical inference and hypothesis testing.\n",
        "\n",
        "With this in mind you need a way of averaging samples out of your population.\n",
        "\n",
        "For this the `sample_means` is defined:"
      ],
      "metadata": {
        "id": "xdUdB8oz0NDd"
      }
    },
    {
      "cell_type": "code",
      "source": [
        "def sample_means(data, sample_size):\n",
        "  # Save all the means in a list\n",
        "  means = []\n",
        "\n",
        "  # For a big number of samples\n",
        "  # This value does not impact the theorem but how nicely the histograms will look (more samples = better looking)\n",
        "  for _ in range(10_000):\n",
        "    # Get a sample of the data WITH replacement\n",
        "    sample = np.random.choice(data, size=sample_size)\n",
        "    # Save the mean of the sample\n",
        "    means.append(np.mean(sample))\n",
        "  # Return the means within a numpy array\n",
        "  return np.array(means)"
      ],
      "metadata": {
        "id": "uMyFDyP40OyC"
      },
      "execution_count": 6,
      "outputs": []
    },
    {
      "cell_type": "markdown",
      "source": [
        "Let's break down the function above:\n",
        "\n",
        "- You take random samples out of the population (the sampling is done with replacement, which means that once you select an element you put it back in the sampling space so you could choose a particular element more than once). This ensures that the independence condition is met.\n",
        "\n",
        "- Compute the mean of each sample\n",
        "\n",
        "- Save the means of each sample in a numpy array\n",
        "\n",
        "The theorem states that if a large enough `sample_size` is used (usually bigger than 30) then the distribution of the sample means should be Gaussian. See it in action by running the next cell:"
      ],
      "metadata": {
        "id": "ESAHajRtETr4"
      }
    },
    {
      "cell_type": "code",
      "source": [
        "# Compute the sample means\n",
        "gaussian_sample_means = sample_means(gaussian_population, sample_size=5)\n",
        "\n",
        "# Plot a histogram of the sample means\n",
        "sns.histplot(gaussian_sample_means, stat=\"density\")\n",
        "plt.show()"
      ],
      "metadata": {
        "id": "ldrJO8zjEE9P",
        "outputId": "90654b49-1c3e-4a07-8c2d-8170e995c8d8",
        "colab": {
          "base_uri": "https://localhost:8080/",
          "height": 430
        }
      },
      "execution_count": 7,
      "outputs": [
        {
          "output_type": "display_data",
          "data": {
            "text/plain": [
              "<Figure size 640x480 with 1 Axes>"
            ],
            "image/png": "[encoded data removed]"
          },
          "metadata": {}
        }
      ]
    },
    {
      "cell_type": "markdown",
      "source": [
        "The distribution of the sample means looks pretty Gaussian. However this is not good enough to determine if the theorem holds, after all you used a very small `sample_size` in this example. There are various ways to check if the sample means do follow a Gaussian distribution.\n",
        "\n",
        "The first one is to compute the theoretical $\\mu$ and $\\sigma$ of the sample means which will be denoted with the symbols $\\mu_{\\bar{X}}$ and $\\sigma_{\\bar{X}}$ respectively. These values can be computed as follows:\n",
        "\n",
        "- $\\mu_{\\bar{X}} = \\mu$\n",
        "\n",
        "\n",
        "- $\\sigma_{\\bar{X}} = \\frac{\\sigma}{\\sqrt{n}}$\n",
        "\n",
        "**Note: In this case $n$ is the size of the sample.**\n",
        "\n",
        "And then use these values to plot a Gaussian curve with parameters $\\mu_{\\bar{X}}$ and $\\sigma_{\\bar{X}}$. If the theorem holds then the resulting distribution of the sample means should resemble this Gaussian curve. Run the next cell to include this into the plot:"
      ],
      "metadata": {
        "id": "f36DRZ7IElFd"
      }
    },
    {
      "cell_type": "code",
      "source": [],
      "metadata": {
        "id": "jbNGWILUEls1"
      },
      "execution_count": null,
      "outputs": []
    }
  ]
}