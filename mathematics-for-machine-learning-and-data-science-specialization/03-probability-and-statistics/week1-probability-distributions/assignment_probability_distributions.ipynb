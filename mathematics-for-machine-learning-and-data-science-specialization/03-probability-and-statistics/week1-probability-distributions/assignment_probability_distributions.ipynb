{
  "nbformat": 4,
  "nbformat_minor": 0,
  "metadata": {
    "colab": {
      "provenance": [],
      "toc_visible": true,
      "authorship_tag": "ABX9TyNmILSl3Mu8PmOdcMICMDsu",
      "include_colab_link": true
    },
    "kernelspec": {
      "name": "python3",
      "display_name": "Python 3"
    },
    "language_info": {
      "name": "python"
    }
  },
  "cells": [
    {
      "cell_type": "markdown",
      "metadata": {
        "id": "view-in-github",
        "colab_type": "text"
      },
      "source": [
        "<a href=\"https://colab.research.google.com/github/rahiakela/mathematics-for-machine-learning/blob/main/mathematics-for-machine-learning-and-data-science-specialization/03-probability-and-statistics/week1-probability-distributions/assignment_probability_distributions.ipynb\" target=\"_parent\"><img src=\"https://colab.research.google.com/assets/colab-badge.svg\" alt=\"Open In Colab\"/></a>"
      ]
    },
    {
      "cell_type": "markdown",
      "source": [
        "## Probability Distributions"
      ],
      "metadata": {
        "id": "rMe95alMVM6u"
      }
    },
    {
      "cell_type": "markdown",
      "source": [
        "Data plays a central role in various fields, including Data Science and Machine Learning Engineering. As time progresses, data has become increasingly crucial for making informed decisions and developing innovative products. In this assignment, you will work with data that follows different probability distributions.\n",
        "\n",
        "**Sections**\n",
        "\n",
        "1. **Generating Data**: Learn how to generate data that follows specific probability distributions.\n",
        "\n",
        "2. **Naive Bayes Classifier (Continuous)**: Implement a Naive Bayes classifier for continuous data generated in Section 1.\n",
        "\n",
        "3. **Real-Life Problem (Spam Detection)**: Enhance the Naive Bayes implementation to address a real-life problem, specifically spam detection.\n"
      ],
      "metadata": {
        "id": "IzbJJ42TVNJA"
      }
    },
    {
      "cell_type": "markdown",
      "source": [
        "##Setup"
      ],
      "metadata": {
        "id": "q8Z6lEYsVqqQ"
      }
    },
    {
      "cell_type": "code",
      "source": [
        "!wget https://github.com/rahiakela/mathematics-for-machine-learning/raw/main/mathematics-for-machine-learning-and-data-science-specialization/03-probability-and-statistics/week1-probability-distributions/utils.py\n",
        "!wget https://github.com/rahiakela/mathematics-for-machine-learning/raw/main/mathematics-for-machine-learning-and-data-science-specialization/03-probability-and-statistics/week1-probability-distributions/data/emails.csv"
      ],
      "metadata": {
        "id": "a_PFwrd5Vrp4"
      },
      "execution_count": null,
      "outputs": []
    },
    {
      "cell_type": "code",
      "source": [
        "import numpy as np\n",
        "import pandas as pd\n",
        "import matplotlib.pyplot as plt\n",
        "\n",
        "import scipy\n",
        "from scipy.special import erfinv\n",
        "from scipy.stats import uniform, binom, norm\n",
        "from dataclasses import dataclass\n",
        "from sklearn.metrics import accuracy_score\n",
        "import pprint\n",
        "pp = pprint.PrettyPrinter()\n",
        "\n",
        "import utils\n",
        "from utils import (\n",
        "    estimate_gaussian_params,\n",
        "    estimate_binomial_params,\n",
        "    estimate_uniform_params\n",
        ")"
      ],
      "metadata": {
        "id": "VJDwucNpVwgQ"
      },
      "execution_count": 2,
      "outputs": []
    },
    {
      "cell_type": "markdown",
      "source": [
        "## Section 1: Generating Data from a Specific Distribution"
      ],
      "metadata": {
        "id": "A3K-b1e0X7rK"
      }
    },
    {
      "cell_type": "markdown",
      "source": [
        "Let's recap some concepts and formalize them to facilitate coding. Don't worry, you will be guided throughout the entire assignment!\n",
        "\n",
        "A random variable $X$ is a function that represents a random phenomenon, meaning its exact value cannot be determined. However, probabilities can be assigned to a set of possible values it can take. For example, if $X$ has a uniform distribution on $[2, 4]$, we cannot determine the exact value of $X$, but we can say with a probability of $1$ that the value lies between $[2, 4]$. We can also say that:\n",
        "\n",
        "$$P(X \\leq 3) = \\frac{1}{2}$$\n",
        "\n",
        "where $3$ is the midpoint of the interval $[2, 4]$. Therefore, you have learned that a random variable is associated with a function called the probability density function (pdf), which encodes the probability of the random variable falling within a given range. In other words, if $X$ is a continuous random variable and $f$ is its pdf, then:\n",
        "\n",
        "$$P(a \\leq X \\leq b) = \\text{Area of } f \\text{ between } a \\text{ and } b$$\n",
        "\n",
        "In the discrete case, $P(X = a) = f(a)$. In any case, $P(-\\infty < X < +\\infty) = 1$ because a random variable is assumed to output real numbers.\n",
        "\n",
        "Another function associated with a random variable is the cumulative distribution function (cdf), denoted as $F$. It represents the probability that a random variable $X$ will be less than or equal to $x$, for any $x \\in \\mathbb{R}$:\n",
        "\n",
        "$$F(x) := P(X \\leq x), \\quad \\forall x \\in \\mathbb{R}$$\n",
        "\n",
        "The cdf is a non-decreasing function and approaches $1$ as $x$ approaches infinity because it represents a probability and must yield a value between $0$ and $1$.\n",
        "\n",
        "In the lectures, you learned that if $X$ is a random variable with cdf $F$, then $F(X)$ follows a uniform distribution between $0$ and $1$. In other words, the new random variable $F(X)$ will be uniformly distributed between $0$ and $1$. This opens up the possibility of generating artificial data with any desired distribution, given that we know $F$. The process is as follows:\n",
        "\n",
        "1. Generate a random value $y$ uniformly from the interval $[0, 1]$.\n",
        "2. Compute $F^{-1}(y)$, which is the inverse function of $F$ evaluated at $y$.\n",
        "\n",
        "It can be shown that if $Y$ follows a uniform distribution between $0$ and $1$, then the random variable $F^{-1}(Y)$ has the same distribution as $X$.\n",
        "\n",
        "Therefore, by computing the inverse of $F$, you can generate artificial data from any known distribution! This is an incredibly powerful technique, isn't it?\n",
        "\n",
        "So far in the course, you have encountered three common probability distributions:\n",
        "- Uniform\n",
        "- Binomial\n",
        "- Gaussian\n",
        "\n",
        "In the first part of this assignment, you will code a random generator for each of the above distributions!"
      ],
      "metadata": {
        "id": "mPe0B91dX8r_"
      }
    },
    {
      "cell_type": "markdown",
      "source": [
        "### Exercise 1: Uniform Generator"
      ],
      "metadata": {
        "id": "iu9jbDoJYBPa"
      }
    },
    {
      "cell_type": "markdown",
      "source": [
        "The natural first step is to create a function capable of generating random data that comes from the uniform distribution. You will not be coding a [pseudo-random number generator](https://en.wikipedia.org/wiki/Pseudorandom_number_generator) (this is outside the scope of this assignment) but instead you will use a predefined function that handles this for you. If you are unsure where you can find such a function take a look at the [numpy.random.uniform](https://numpy.org/doc/stable/reference/random/generated/numpy.random.uniform.html) function."
      ],
      "metadata": {
        "id": "yFg0mtu8pRol"
      }
    },
    {
      "cell_type": "code",
      "source": [
        "def uniform_generator(a, b, num_samples=100):\n",
        "  \"\"\"\n",
        "  Generates an array of uniformly distributed random numbers within the specified range.\n",
        "\n",
        "  Parameters:\n",
        "  - a (float): The lower bound of the range.\n",
        "  - b (float): The upper bound of the range.\n",
        "  - num_samples (int): The number of samples to generate (default: 100).\n",
        "\n",
        "  Returns:\n",
        "  - array (ndarray): An array of random numbers sampled uniformly from the range [a, b).\n",
        "  \"\"\"\n",
        "  np.random.seed(42)\n",
        "\n",
        "  ### START CODE HERE ###\n",
        "  X = np.random.uniform(a, b, num_samples)\n",
        "  ### END CODE HERE ###\n",
        "\n",
        "  return X"
      ],
      "metadata": {
        "id": "azdGAIeHpnIg"
      },
      "execution_count": 3,
      "outputs": []
    },
    {
      "cell_type": "code",
      "source": [
        "print(f\"6 randomly generated values between 0 and 1:\\n{np.array2string(uniform_generator(0, 1, num_samples=6), precision=3)}\\n\")\n",
        "print(f\"3 randomly generated values between 20 and 55:\\n{np.array2string(uniform_generator(20, 55, num_samples=3), precision=3)}\\n\")\n",
        "print(f\"1 randomly generated value between 0 and 100:\\n{np.array2string(uniform_generator(0, 100, num_samples=1), precision=3)}\")"
      ],
      "metadata": {
        "id": "4k7wTovQqCNg",
        "outputId": "6a857fff-1721-4afa-9fbc-af30f44e0619",
        "colab": {
          "base_uri": "https://localhost:8080/"
        }
      },
      "execution_count": 4,
      "outputs": [
        {
          "output_type": "stream",
          "name": "stdout",
          "text": [
            "6 randomly generated values between 0 and 1:\n",
            "[0.375 0.951 0.732 0.599 0.156 0.156]\n",
            "\n",
            "3 randomly generated values between 20 and 55:\n",
            "[33.109 53.275 45.62 ]\n",
            "\n",
            "1 randomly generated value between 0 and 100:\n",
            "[37.454]\n"
          ]
        }
      ]
    },
    {
      "cell_type": "markdown",
      "source": [
        "**__Expected Output__**\n",
        "\n",
        "```\n",
        "6 randomly generated values between 0 and 1:\n",
        "[0.375 0.951 0.732 0.599 0.156 0.156]\n",
        "\n",
        "3 randomly generated values between 20 and 55:\n",
        "[33.109 53.275 45.62 ]\n",
        "\n",
        "1 randomly generated value between 0 and 100:\n",
        "[37.454]\n",
        "```"
      ],
      "metadata": {
        "id": "LAa7vhoxqaVg"
      }
    },
    {
      "cell_type": "markdown",
      "source": [
        "### Exercise 2:  Gaussian Generator"
      ],
      "metadata": {
        "id": "Bhb_9EQ-qtqw"
      }
    },
    {
      "cell_type": "markdown",
      "source": [
        "With your uniform data generator ready, you can go ahead and create generators for the other distributions. In order to do this you will need the inverse `CDF` for the distribution you wish to create data for."
      ],
      "metadata": {
        "id": "SYtWeJrbqug4"
      }
    },
    {
      "cell_type": "markdown",
      "source": [
        "#### 2.1 Inverse CDF - Gaussian"
      ],
      "metadata": {
        "id": "RRjl-e-aqwnV"
      }
    },
    {
      "cell_type": "markdown",
      "source": [
        "Let's start with a Normal Distribution generator. Usually, closed forms for CDFs are hard to obtain because they involve computing areas, which can be challenging.\n",
        "\n",
        "In the Gaussian distribution, the closed formula uses a function called the Gaussian error function, denoted as $\\text{erf}(x)$. However, you don't need to implement it or its inverse for this assignment. These functions are important in statistics, and there are many libraries available that provide their implementations.\n",
        "\n",
        "For instance, you can use [scipy.special.erf](https://docs.scipy.org/doc/scipy/reference/generated/scipy.special.erf.html) and [scipy.special.erfinv](https://docs.scipy.org/doc/scipy/reference/generated/scipy.special.erfinv.html#scipy.special.erfinv) to compute the erf function and its inverse. Alternatively, you can find an implementation of the erf function in [math.erf](https://docs.python.org/3/library/math.html#math.erf) from the Python math library.\n",
        "\n",
        "If $X \\sim N(\\mu, \\sigma)$, then the CDF $F(x)$ can be expressed as:\n",
        "\n",
        "$$y = F(x) = \\frac{1}{2} \\left[ 1 + \\text{erf}\\left( \\frac{x - \\mu}{\\sigma \\sqrt{2}} \\right) \\right].$$\n",
        "\n",
        "With some simple calculations and denoting ${\\text{erf}}^{-1}$ as the inverse of the $\\text{erf}$ function, it can be shown that:\n",
        "\n",
        "$$x = F^{-1}(y) = \\sigma \\sqrt{2} \\cdot \\text{erf}^{-1}(2y - 1) + \\mu.$$"
      ],
      "metadata": {
        "id": "qSRY-V_yqzCI"
      }
    },
    {
      "cell_type": "code",
      "source": [
        "def inverse_cdf_gaussian(y, mu, sigma):\n",
        "  \"\"\"\n",
        "  Calculates the inverse cumulative distribution function (CDF) of a Gaussian distribution.\n",
        "\n",
        "  Parameters:\n",
        "  - y (float or ndarray): The probability or array of probabilities.\n",
        "  - mu (float): The mean of the Gaussian distribution.\n",
        "  - sigma (float): The standard deviation of the Gaussian distribution.\n",
        "\n",
        "  Returns:\n",
        "  - x (float or ndarray): The corresponding value(s) from the Gaussian distribution that correspond to the given probability/ies.\n",
        "  \"\"\"\n",
        "  ### START CODE HERE ###\n",
        "  x = mu + scipy.special.erfinv(2 * y - 1) * sigma * (2 ** 0.5)\n",
        "  ### END CODE HERE ###\n",
        "  return x"
      ],
      "metadata": {
        "id": "q4Crm7P2q1sl"
      },
      "execution_count": 5,
      "outputs": []
    },
    {
      "cell_type": "code",
      "source": [
        "# Test your function\n",
        "print(f\"Inverse of Gaussian CDF with mu {15} and sigma {5} for value {1e-10}: {inverse_cdf_gaussian(1e-10, 15, 5):.3f}\")\n",
        "print(f\"Inverse of Gaussian CDF with mu {15} and sigma {5} for value {0}: {inverse_cdf_gaussian(0, 15, 5)}\")\n",
        "print(f\"Inverse of Gaussian CDF with mu {20} and sigma {0.5} for value {0.4}: {inverse_cdf_gaussian(0.4, 20, 0.5):.3f}\")\n",
        "print(f\"Inverse of Gaussian CDF with mu {15} and sigma {5} for value {1}: {inverse_cdf_gaussian(1, 15, 5)}\")"
      ],
      "metadata": {
        "id": "cA3DnFUxsMX_",
        "outputId": "d480c72f-850b-4c1e-c612-e48b5d3acb36",
        "colab": {
          "base_uri": "https://localhost:8080/"
        }
      },
      "execution_count": 6,
      "outputs": [
        {
          "output_type": "stream",
          "name": "stdout",
          "text": [
            "Inverse of Gaussian CDF with mu 15 and sigma 5 for value 1e-10: -16.807\n",
            "Inverse of Gaussian CDF with mu 15 and sigma 5 for value 0: -inf\n",
            "Inverse of Gaussian CDF with mu 20 and sigma 0.5 for value 0.4: 19.873\n",
            "Inverse of Gaussian CDF with mu 15 and sigma 5 for value 1: inf\n"
          ]
        }
      ]
    },
    {
      "cell_type": "markdown",
      "source": [
        "**__Expected Output__**\n",
        "\n",
        "```\n",
        "Inverse of Gaussian CDF with mu 15 and sigma 5 for value 1e-10: -16.807\n",
        "Inverse of Gaussian CDF with mu 15 and sigma 5 for value 0: -inf\n",
        "Inverse of Gaussian CDF with mu 20 and sigma 0.5 for value 0.4: 19.873\n",
        "Inverse of Gaussian CDF with mu 15 and sigma 5 for value 1: inf\n",
        "```"
      ],
      "metadata": {
        "id": "wfA9SmnqsvsA"
      }
    },
    {
      "cell_type": "markdown",
      "source": [
        "#### 2.2 Gaussian Generator"
      ],
      "metadata": {
        "id": "Qnw0Idm3sygd"
      }
    },
    {
      "cell_type": "markdown",
      "source": [
        "Now that you have all the necessary information, you can create a generator for data that follows a Gaussian distribution with a specified $\\mu$ and $\\sigma$. Similar to the generator for uniformly distributed data, the `gaussian_generator` function should allow you to specify the number of samples to generate. **Make sure to utilize the functions you have defined earlier in the assignment.**"
      ],
      "metadata": {
        "id": "ds_MKuESs1GL"
      }
    },
    {
      "cell_type": "code",
      "source": [
        "def gaussian_generator(mu, sigma, num_samples):\n",
        "  ### START CODE HERE ###\n",
        "  # Generate an array with num_samples elements that distribute uniformally between 0 and 1\n",
        "  uniform_dist = uniform_generator(0, 1, num_samples)\n",
        "\n",
        "  # Use the uniform-distributed sample to generate Gaussian-distributed data\n",
        "  # Hint: You need to sample from the inverse of the CDF of the distribution you are generating\n",
        "  X = inverse_cdf_gaussian(uniform_dist, mu, sigma)\n",
        "  ### END CODE HERE ###\n",
        "  return X"
      ],
      "metadata": {
        "id": "cMKZwgHFs3me"
      },
      "execution_count": 7,
      "outputs": []
    },
    {
      "cell_type": "code",
      "source": [
        "# Test your function\n",
        "gaussian_0 = gaussian_generator(0, 1, 1000)\n",
        "gaussian_1 = gaussian_generator(5, 3, 1000)\n",
        "gaussian_2 = gaussian_generator(10, 5, 1000)\n",
        "\n",
        "utils.plot_gaussian_distributions(gaussian_0, gaussian_1, gaussian_2)"
      ],
      "metadata": {
        "id": "oXdOIr2K-Whi",
        "outputId": "318519c0-bf93-4adf-c24e-0eaf662e788b",
        "colab": {
          "base_uri": "https://localhost:8080/",
          "height": 410
        }
      },
      "execution_count": 8,
      "outputs": [
        {
          "output_type": "display_data",
          "data": {
            "text/plain": [
              "<Figure size 1000x400 with 1 Axes>"
            ],
            "image/png": "[encoded data removed]"
          },
          "metadata": {}
        }
      ]
    },
    {
      "cell_type": "markdown",
      "source": [
        "**__Expected Output__**\n",
        "\n",
        "<img src=\"https://github.com/rahiakela/mathematics-for-machine-learning/blob/main/mathematics-for-machine-learning-and-data-science-specialization/03-probability-and-statistics/week1-probability-distributions/images/gaussian.png?raw=1\" style=\"height: 300px;\"/>\n"
      ],
      "metadata": {
        "id": "IGJm2e8T-kL-"
      }
    },
    {
      "cell_type": "markdown",
      "source": [
        "### Exercise 3: Binomial Generator"
      ],
      "metadata": {
        "id": "pO9OI-Wk-uIz"
      }
    },
    {
      "cell_type": "markdown",
      "source": [
        "#### 3.1 Inverse CDF - Binomial"
      ],
      "metadata": {
        "id": "iIjIhwiT-u5i"
      }
    },
    {
      "cell_type": "markdown",
      "source": [
        "If $X \\sim \\text{Binomial}(n,p)$, then its PDF is given by:\n",
        "\n",
        "$$P(X = k) = {n \\choose k}p^{k}(1-p)^{n-k}.$$\n",
        "\n",
        "Therefore, if $0 \\leq x \\leq n$, its CDF is given by:\n",
        "\n",
        "$$F(x) = P(X \\leq x) = P(X = 0) + P(X = 1) + \\ldots + P(X = \\lfloor x \\rfloor) = \\sum_{k=0}^{\\lfloor x \\rfloor} {n \\choose k}p^{k}(1-p)^{n-k}.$$\n",
        "\n",
        "Here, $\\lfloor x \\rfloor$ denotes the [floor function](https://en.wikipedia.org/wiki/Floor_and_ceiling_functions), which returns the greatest integer less than or equal to $x$. For example, $\\lfloor 2.9 \\rfloor = 2$ and $\\lfloor 1.2 \\rfloor = 1$. This function is necessary because the domain of $F$ is the entire set of real numbers, but $P(X = k)$ is non-zero only for positive integer values.\n",
        "\n",
        "If $x > n$, then $F(x) = 1$. It is important to note that the expression for $F(x)$ can become complex and messy, and there is no closed-form expression for the inverse function $F^{-1}$ in this case. However, statistical libraries provide implementations of the inverse CDF using [generalized quantile functions](https://en.wikipedia.org/wiki/Cumulative_distribution_function#Inverse_distribution_function_.28quantile_function.29). You can refer to [scipy.stats.binom](https://docs.scipy.org/doc/scipy/reference/generated/scipy.stats.binom.html) for an example of a library that implements these functions. In particular, the `scipy.stats.binom.ppf` function is what you need. Since the `binom` class is already imported, you can use `help(binom)` to explore its parameters and functions. The function you will need is located in the \"Methods\" section: `ppf`.\n"
      ],
      "metadata": {
        "id": "4DHAGPw3-yrG"
      }
    },
    {
      "cell_type": "code",
      "source": [
        "def inverse_cdf_binomial(y, n, p):\n",
        "  \"\"\"\n",
        "  Calculates the inverse cumulative distribution function (CDF) of a binomial distribution.\n",
        "\n",
        "  Parameters:\n",
        "  - y (float or ndarray): The probability or array of probabilities.\n",
        "  - n (int): The number of trials in the binomial distribution.\n",
        "  - p (float): The probability of success in each trial.\n",
        "\n",
        "  Returns:\n",
        "  - x (float or ndarray): The corresponding value(s) from the binomial distribution that correspond to the given probability/ies.\n",
        "  \"\"\"\n",
        "\n",
        "  ### START CODE HERE ###\n",
        "  x = binom.ppf(y, n, p)\n",
        "  ### END CODE HERE ###\n",
        "\n",
        "  return x"
      ],
      "metadata": {
        "id": "6SGZ0LBy-1WW"
      },
      "execution_count": 9,
      "outputs": []
    },
    {
      "cell_type": "code",
      "source": [
        "# Test your function\n",
        "print(f\"Inverse of Binomial CDF with n {15} and p {0.9} for value {1e-10}: {inverse_cdf_binomial(1e-10, 15, 0.9):.3f}\")\n",
        "print(f\"Inverse of Binomial CDF with n {15} and p {0.5} for value {0}: {inverse_cdf_binomial(0, 15, 0.5)}\")\n",
        "print(f\"Inverse of Binomial CDF with n {20} and p {0.2} for value {0.4}: {inverse_cdf_binomial(0.4, 20, 0.2):.3f}\")\n",
        "print(f\"Inverse of Binomial CDF with n {15} and p {0.5} for value {1}: {inverse_cdf_binomial(1, 15, 0.5)}\")"
      ],
      "metadata": {
        "id": "nGPdqSpdN5pe",
        "outputId": "d9a2baa0-f3b4-4fab-89eb-fd89d8990b76",
        "colab": {
          "base_uri": "https://localhost:8080/"
        }
      },
      "execution_count": 10,
      "outputs": [
        {
          "output_type": "stream",
          "name": "stdout",
          "text": [
            "Inverse of Binomial CDF with n 15 and p 0.9 for value 1e-10: 3.000\n",
            "Inverse of Binomial CDF with n 15 and p 0.5 for value 0: -1.0\n",
            "Inverse of Binomial CDF with n 20 and p 0.2 for value 0.4: 3.000\n",
            "Inverse of Binomial CDF with n 15 and p 0.5 for value 1: 15.0\n"
          ]
        }
      ]
    },
    {
      "cell_type": "markdown",
      "source": [
        "**__Expected Output__**\n",
        "\n",
        "```\n",
        "Inverse of Binomial CDF with n 15 and p 0.9 for value 1e-10: 3.000\n",
        "Inverse of Binomial CDF with n 15 and p 0.5 for value 0: -1.0\n",
        "Inverse of Binomial CDF with n 20 and p 0.2 for value 0.4: 3.000\n",
        "Inverse of Binomial CDF with n 15 and p 0.5 for value 1: 15.0\n",
        "```"
      ],
      "metadata": {
        "id": "pj3YjeAe-mny"
      }
    },
    {
      "cell_type": "markdown",
      "source": [
        "#### 3.2 Binomial Generator"
      ],
      "metadata": {
        "id": "3MEFmpdaOBKm"
      }
    },
    {
      "cell_type": "code",
      "source": [
        "def binomial_generator(n, p, num_samples):\n",
        "  \"\"\"\n",
        "  Generates an array of binomially distributed random numbers.\n",
        "\n",
        "  Args:\n",
        "      n (int): The number of trials in the binomial distribution.\n",
        "      p (float): The probability of success in each trial.\n",
        "      num_samples (int): The number of samples to generate.\n",
        "\n",
        "  Returns:\n",
        "      array: An array of binomially distributed random numbers.\n",
        "  \"\"\"\n",
        "  ### START CODE HERE ###\n",
        "\n",
        "  # Generate an array with num_samples elements that distribute uniformally between 0 and 1\n",
        "  uniform_gen = uniform_generator(0, 1, num_samples)\n",
        "  # Use the uniform-distributed sample to generate binomial-distributed data\n",
        "  # Hint: You need to sample from the inverse of the CDF of the distribution you are generating\n",
        "  X = inverse_cdf_binomial(uniform_gen, n, p)\n",
        "  ### END CODE HERE ###\n",
        "\n",
        "  return X"
      ],
      "metadata": {
        "id": "80JZas4AOEQj"
      },
      "execution_count": 11,
      "outputs": []
    },
    {
      "cell_type": "code",
      "source": [
        "# Test your function\n",
        "binomial_0 = binomial_generator(12, 0.4, 1000)\n",
        "binomial_1 = binomial_generator(15, 0.5, 1000)\n",
        "binomial_2 = binomial_generator(25, 0.8, 1000)\n",
        "\n",
        "utils.plot_binomial_distributions(binomial_0, binomial_1, binomial_2)"
      ],
      "metadata": {
        "id": "2aXLHy-aPILd",
        "outputId": "dd323ad4-918f-496b-93a2-6fe5e81549fe",
        "colab": {
          "base_uri": "https://localhost:8080/",
          "height": 410
        }
      },
      "execution_count": 12,
      "outputs": [
        {
          "output_type": "display_data",
          "data": {
            "text/plain": [
              "<Figure size 1000x400 with 1 Axes>"
            ],
            "image/png": "[encoded data removed]"
          },
          "metadata": {}
        }
      ]
    },
    {
      "cell_type": "markdown",
      "source": [
        "**__Expected Output__**\n",
        "\n",
        "<img src=\"https://github.com/rahiakela/mathematics-for-machine-learning/blob/main/mathematics-for-machine-learning-and-data-science-specialization/03-probability-and-statistics/week1-probability-distributions/images/binomial2.png?raw=1\" style=\"height: 300px;\"/>"
      ],
      "metadata": {
        "id": "57K9i3eVPQlU"
      }
    },
    {
      "cell_type": "markdown",
      "source": [
        "## Section 2: Building a Dog Breed Classifier using Naive Bayes"
      ],
      "metadata": {
        "id": "PWZcziiFPU3L"
      }
    },
    {
      "cell_type": "markdown",
      "source": [
        "In this section, you will utilize the generator functions to create features for a synthetic dataset containing information about three different dog breeds. Once you have prepared the dataset, your task is to implement the Naive Bayes algorithm to classify the dogs accurately based on their features."
      ],
      "metadata": {
        "id": "bfcGM5FnPYEi"
      }
    },
    {
      "cell_type": "markdown",
      "source": [
        "### 2.1: Generating the Dataset"
      ],
      "metadata": {
        "id": "Hnx4jAzTPbuO"
      }
    },
    {
      "cell_type": "markdown",
      "source": [
        "In this section, we will generate a dataset that consists of four features for each dog:\n",
        "\n",
        "- `height` in centimeters, which follows a Gaussian distribution.\n",
        "- `weight` in kilograms, which follows a Gaussian distribution.\n",
        "- `bark_days`, representing the number of days (out of 30) that the dog barks. It follows a Binomial distribution with `n = 30`.\n",
        "- `ear_head_ratio`, which is the ratio between the length of the ears and the length of the head. It follows a Uniform distribution.\n",
        "\n",
        "We will generate synthetic data using the generator functions defined earlier to create a diverse and representative dataset for our dog breed classification problem."
      ],
      "metadata": {
        "id": "9HEkEPLCN6Pd"
      }
    },
    {
      "cell_type": "code",
      "source": [
        "FEATURES = [\"height\", \"weight\", \"bark_days\", \"ear_head_ratio\"]"
      ],
      "metadata": {
        "id": "0PrqXCQdN9Qe"
      },
      "execution_count": 13,
      "outputs": []
    },
    {
      "cell_type": "markdown",
      "source": [
        "Since the features follow different distributions and each one of these has different parameters you will create a `dataclass` for each one so you have an easy way of saving parameters. If you haven't used dataclasses before, don't worry, they are nothing complicated, you can think of them as containers for data in which you can access each variable by using the dot notation. So for example if you have:\n",
        "\n",
        "```python\n",
        "@dataclass\n",
        "class my_data_class:\n",
        "    my_var: str\n",
        "        \n",
        "foo = my_data_class(my_var=\"Hello World\")\n",
        "```\n",
        "\n",
        "You can access the information of `my_var` from `foo` by using the syntax `foo.my_var`, which should be equal to \"Hello World\" in this example.\n",
        "\n",
        "Dataclasses were introduced in Python 3.7 and are an excellent way of storing data (notice that it is a good practice when using them to specify the types of the data they store) so if you didn't know about them, you can start using them in your projects too. Also don't worry about the `__repr__` method, this only controls how many decimal points are printed out when you print an object of these dataclasses."
      ],
      "metadata": {
        "id": "EzoMPVprPZWe"
      }
    },
    {
      "cell_type": "code",
      "source": [
        "@dataclass\n",
        "class GaussianDistribution:\n",
        "    mu: float\n",
        "    sigma: float\n",
        "\n",
        "    def __repr__(self):\n",
        "        return f\"params_gaussian(mu={self.mu:.3f}, sigma={self.sigma:.3f})\"\n",
        "\n",
        "\n",
        "@dataclass\n",
        "class BinomialDistribution:\n",
        "    n: int\n",
        "    p: float\n",
        "\n",
        "    def __repr__(self):\n",
        "        return f\"params_binomial(n={self.n:.3f}, p={self.p:.3f})\"\n",
        "\n",
        "\n",
        "@dataclass\n",
        "class UniformDistribution:\n",
        "    a: int\n",
        "    b: int\n",
        "\n",
        "    def __repr__(self):\n",
        "        return f\"params_uniform(a={self.a:.3f}, b={self.b:.3f})\""
      ],
      "metadata": {
        "id": "0Mp1-YgZPZ1A"
      },
      "execution_count": 14,
      "outputs": []
    },
    {
      "cell_type": "markdown",
      "source": [
        "Now that you have a place to store information about the parameters for different probability distributions you will define a dictionary that has the information for every breed of dogs:"
      ],
      "metadata": {
        "id": "3GOh6wthPwPQ"
      }
    },
    {
      "cell_type": "code",
      "source": [
        "breed_params = {\n",
        "    0: {\n",
        "        \"height\": GaussianDistribution(mu=35, sigma=1.5),\n",
        "        \"weight\": GaussianDistribution(mu=20, sigma=1),\n",
        "        \"bark_days\": BinomialDistribution(n=30, p=0.8),\n",
        "        \"ear_head_ratio\": UniformDistribution(a=0.6, b=0.1)\n",
        "    },\n",
        "    1: {\n",
        "        \"height\": GaussianDistribution(mu=35, sigma=2),\n",
        "        \"weight\": GaussianDistribution(mu=25, sigma=5),\n",
        "        \"bark_days\": BinomialDistribution(n=30, p=0.5),\n",
        "        \"ear_head_ratio\": UniformDistribution(a=0.2, b=0.5)\n",
        "    },\n",
        "    2: {\n",
        "        \"height\": GaussianDistribution(mu=40, sigma=3.5),\n",
        "        \"weight\": GaussianDistribution(mu=32, sigma=3),\n",
        "        \"bark_days\": BinomialDistribution(n=30, p=0.3),\n",
        "        \"ear_head_ratio\": UniformDistribution(a=0.1, b=0.3)\n",
        "    }\n",
        "}"
      ],
      "metadata": {
        "id": "D4Ege7A4Pwrb"
      },
      "execution_count": 15,
      "outputs": []
    },
    {
      "cell_type": "markdown",
      "source": [
        "With the parameters and distributions for each breed defined you will generate the dataset. For this the `generate_data_for_breed` is provided for you.\n",
        "\n",
        "Notice that this function uses a `match` statement which was introduced in Python 3.10 (the same version available in this environment) which allows this function to be written in a clear manner:"
      ],
      "metadata": {
        "id": "t9F53holQ3zT"
      }
    },
    {
      "cell_type": "code",
      "source": [
        "def generate_data_for_breed(breed, features, n_samples, params):\n",
        "  \"\"\"\n",
        "  Generate synthetic data for a specific breed of dogs based on given features and parameters.\n",
        "\n",
        "  Parameters:\n",
        "      - breed (str): The breed of the dog for which data is generated.\n",
        "      - features (list[str]): List of features to generate data for (e.g., \"height\", \"weight\", \"bark_days\", \"ear_head_ratio\").\n",
        "      - n_samples (int): Number of samples to generate for each feature.\n",
        "      - params (dict): Dictionary containing parameters for each breed and its features.\n",
        "\n",
        "  Returns:\n",
        "      - df (pandas.DataFrame): A DataFrame containing the generated synthetic data.\n",
        "          The DataFrame will have columns for each feature and an additional column for the breed.\n",
        "  \"\"\"\n",
        "  df = pd.DataFrame()\n",
        "\n",
        "  for feature in features:\n",
        "    match feature:\n",
        "      case \"height\" | \"weight\":\n",
        "        df[feature] = gaussian_generator(params[breed][feature].mu, params[breed][feature].sigma, n_samples)\n",
        "      case \"bark_days\":\n",
        "        df[feature] = binomial_generator(params[breed][feature].n, params[breed][feature].p, n_samples)\n",
        "      case \"ear_head_ratio\":\n",
        "        df[feature] = uniform_generator(params[breed][feature].a, params[breed][feature].b, n_samples)\n",
        "\n",
        "  df[\"breed\"] = breed\n",
        "\n",
        "  return df"
      ],
      "metadata": {
        "id": "5coZGYK0Q6WL"
      },
      "execution_count": 16,
      "outputs": []
    },
    {
      "cell_type": "code",
      "source": [
        "# Generate data for each breed\n",
        "df_0 = generate_data_for_breed(breed=0, features=FEATURES, n_samples=1200, params=breed_params)\n",
        "df_1 = generate_data_for_breed(breed=1, features=FEATURES, n_samples=1350, params=breed_params)\n",
        "df_2 = generate_data_for_breed(breed=2, features=FEATURES, n_samples=900, params=breed_params)\n",
        "\n",
        "# Concatenate all breeds into a single dataframe\n",
        "df_all_breeds = pd.concat([df_0, df_1, df_2]).reset_index(drop=True)\n",
        "\n",
        "# Shuffle the data\n",
        "df_all_breeds = df_all_breeds.sample(frac = 1)\n",
        "\n",
        "# Print the dataframe\n",
        "df_all_breeds.head(10)"
      ],
      "metadata": {
        "id": "eBgqRYhISBvq",
        "outputId": "e3192eda-4794-44ff-e080-cc7b04fdbfeb",
        "colab": {
          "base_uri": "https://localhost:8080/",
          "height": 363
        }
      },
      "execution_count": 17,
      "outputs": [
        {
          "output_type": "execute_result",
          "data": {
            "text/plain": [
              "         height     weight  bark_days  ear_head_ratio  breed\n",
              "2836  39.697810  31.740980        9.0        0.193120      2\n",
              "1002  36.710641  21.140427       26.0        0.163527      0\n",
              "1075  34.726930  19.817954       24.0        0.386113      0\n",
              "1583  37.324884  30.812210       18.0        0.463242      1\n",
              "248   37.691499  21.794333       28.0        0.118190      0\n",
              "814   36.688852  21.125901       26.0        0.165052      0\n",
              "1407  35.844078  27.110196       16.0        0.399051      1\n",
              "3376  38.616784  30.814387        8.0        0.169269      2\n",
              "2700  44.655532  35.990456       12.0        0.281653      2\n",
              "533   35.209095  20.139397       24.0        0.322284      0"
            ],
            "text/html": [
              "\n",
              "\n",
              "  <div id=\"df-2f2d1b59-8c8f-41bc-b451-6c49f666bbf6\">\n",
              "    <div class=\"colab-df-container\">\n",
              "      <div>\n",
              "<style scoped>\n",
              "    .dataframe tbody tr th:only-of-type {\n",
              "        vertical-align: middle;\n",
              "    }\n",
              "\n",
              "    .dataframe tbody tr th {\n",
              "        vertical-align: top;\n",
              "    }\n",
              "\n",
              "    .dataframe thead th {\n",
              "        text-align: right;\n",
              "    }\n",
              "</style>\n",
              "<table border=\"1\" class=\"dataframe\">\n",
              "  <thead>\n",
              "    <tr style=\"text-align: right;\">\n",
              "      <th></th>\n",
              "      <th>height</th>\n",
              "      <th>weight</th>\n",
              "      <th>bark_days</th>\n",
              "      <th>ear_head_ratio</th>\n",
              "      <th>breed</th>\n",
              "    </tr>\n",
              "  </thead>\n",
              "  <tbody>\n",
              "    <tr>\n",
              "      <th>2836</th>\n",
              "      <td>39.697810</td>\n",
              "      <td>31.740980</td>\n",
              "      <td>9.0</td>\n",
              "      <td>0.193120</td>\n",
              "      <td>2</td>\n",
              "    </tr>\n",
              "    <tr>\n",
              "      <th>1002</th>\n",
              "      <td>36.710641</td>\n",
              "      <td>21.140427</td>\n",
              "      <td>26.0</td>\n",
              "      <td>0.163527</td>\n",
              "      <td>0</td>\n",
              "    </tr>\n",
              "    <tr>\n",
              "      <th>1075</th>\n",
              "      <td>34.726930</td>\n",
              "      <td>19.817954</td>\n",
              "      <td>24.0</td>\n",
              "      <td>0.386113</td>\n",
              "      <td>0</td>\n",
              "    </tr>\n",
              "    <tr>\n",
              "      <th>1583</th>\n",
              "      <td>37.324884</td>\n",
              "      <td>30.812210</td>\n",
              "      <td>18.0</td>\n",
              "      <td>0.463242</td>\n",
              "      <td>1</td>\n",
              "    </tr>\n",
              "    <tr>\n",
              "      <th>248</th>\n",
              "      <td>37.691499</td>\n",
              "      <td>21.794333</td>\n",
              "      <td>28.0</td>\n",
              "      <td>0.118190</td>\n",
              "      <td>0</td>\n",
              "    </tr>\n",
              "    <tr>\n",
              "      <th>814</th>\n",
              "      <td>36.688852</td>\n",
              "      <td>21.125901</td>\n",
              "      <td>26.0</td>\n",
              "      <td>0.165052</td>\n",
              "      <td>0</td>\n",
              "    </tr>\n",
              "    <tr>\n",
              "      <th>1407</th>\n",
              "      <td>35.844078</td>\n",
              "      <td>27.110196</td>\n",
              "      <td>16.0</td>\n",
              "      <td>0.399051</td>\n",
              "      <td>1</td>\n",
              "    </tr>\n",
              "    <tr>\n",
              "      <th>3376</th>\n",
              "      <td>38.616784</td>\n",
              "      <td>30.814387</td>\n",
              "      <td>8.0</td>\n",
              "      <td>0.169269</td>\n",
              "      <td>2</td>\n",
              "    </tr>\n",
              "    <tr>\n",
              "      <th>2700</th>\n",
              "      <td>44.655532</td>\n",
              "      <td>35.990456</td>\n",
              "      <td>12.0</td>\n",
              "      <td>0.281653</td>\n",
              "      <td>2</td>\n",
              "    </tr>\n",
              "    <tr>\n",
              "      <th>533</th>\n",
              "      <td>35.209095</td>\n",
              "      <td>20.139397</td>\n",
              "      <td>24.0</td>\n",
              "      <td>0.322284</td>\n",
              "      <td>0</td>\n",
              "    </tr>\n",
              "  </tbody>\n",
              "</table>\n",
              "</div>\n",
              "      <button class=\"colab-df-convert\" onclick=\"convertToInteractive('df-2f2d1b59-8c8f-41bc-b451-6c49f666bbf6')\"\n",
              "              title=\"Convert this dataframe to an interactive table.\"\n",
              "              style=\"display:none;\">\n",
              "\n",
              "  <svg xmlns=\"http://www.w3.org/2000/svg\" height=\"24px\"viewBox=\"0 0 24 24\"\n",
              "       width=\"24px\">\n",
              "    <path d=\"M0 0h24v24H0V0z\" fill=\"none\"/>\n",
              "    <path d=\"M18.56 5.44l.94 2.06.94-2.06 2.06-.94-2.06-.94-.94-2.06-.94 2.06-2.06.94zm-11 1L8.5 8.5l.94-2.06 2.06-.94-2.06-.94L8.5 2.5l-.94 2.06-2.06.94zm10 10l.94 2.06.94-2.06 2.06-.94-2.06-.94-.94-2.06-.94 2.06-2.06.94z\"/><path d=\"M17.41 7.96l-1.37-1.37c-.4-.4-.92-.59-1.43-.59-.52 0-1.04.2-1.43.59L10.3 9.45l-7.72 7.72c-.78.78-.78 2.05 0 2.83L4 21.41c.39.39.9.59 1.41.59.51 0 1.02-.2 1.41-.59l7.78-7.78 2.81-2.81c.8-.78.8-2.07 0-2.86zM5.41 20L4 18.59l7.72-7.72 1.47 1.35L5.41 20z\"/>\n",
              "  </svg>\n",
              "      </button>\n",
              "\n",
              "\n",
              "\n",
              "    <div id=\"df-c21e8aa0-53ed-4580-a5a9-e427e45d0236\">\n",
              "      <button class=\"colab-df-quickchart\" onclick=\"quickchart('df-c21e8aa0-53ed-4580-a5a9-e427e45d0236')\"\n",
              "              title=\"Suggest charts.\"\n",
              "              style=\"display:none;\">\n",
              "\n",
              "<svg xmlns=\"http://www.w3.org/2000/svg\" height=\"24px\"viewBox=\"0 0 24 24\"\n",
              "     width=\"24px\">\n",
              "    <g>\n",
              "        <path d=\"M19 3H5c-1.1 0-2 .9-2 2v14c0 1.1.9 2 2 2h14c1.1 0 2-.9 2-2V5c0-1.1-.9-2-2-2zM9 17H7v-7h2v7zm4 0h-2V7h2v10zm4 0h-2v-4h2v4z\"/>\n",
              "    </g>\n",
              "</svg>\n",
              "      </button>\n",
              "    </div>\n",
              "\n",
              "<style>\n",
              "  .colab-df-quickchart {\n",
              "    background-color: #E8F0FE;\n",
              "    border: none;\n",
              "    border-radius: 50%;\n",
              "    cursor: pointer;\n",
              "    display: none;\n",
              "    fill: #1967D2;\n",
              "    height: 32px;\n",
              "    padding: 0 0 0 0;\n",
              "    width: 32px;\n",
              "  }\n",
              "\n",
              "  .colab-df-quickchart:hover {\n",
              "    background-color: #E2EBFA;\n",
              "    box-shadow: 0px 1px 2px rgba(60, 64, 67, 0.3), 0px 1px 3px 1px rgba(60, 64, 67, 0.15);\n",
              "    fill: #174EA6;\n",
              "  }\n",
              "\n",
              "  [theme=dark] .colab-df-quickchart {\n",
              "    background-color: #3B4455;\n",
              "    fill: #D2E3FC;\n",
              "  }\n",
              "\n",
              "  [theme=dark] .colab-df-quickchart:hover {\n",
              "    background-color: #434B5C;\n",
              "    box-shadow: 0px 1px 3px 1px rgba(0, 0, 0, 0.15);\n",
              "    filter: drop-shadow(0px 1px 2px rgba(0, 0, 0, 0.3));\n",
              "    fill: #FFFFFF;\n",
              "  }\n",
              "</style>\n",
              "\n",
              "    <script>\n",
              "      async function quickchart(key) {\n",
              "        const containerElement = document.querySelector('#' + key);\n",
              "        const charts = await google.colab.kernel.invokeFunction(\n",
              "            'suggestCharts', [key], {});\n",
              "      }\n",
              "    </script>\n",
              "\n",
              "      <script>\n",
              "\n",
              "function displayQuickchartButton(domScope) {\n",
              "  let quickchartButtonEl =\n",
              "    domScope.querySelector('#df-c21e8aa0-53ed-4580-a5a9-e427e45d0236 button.colab-df-quickchart');\n",
              "  quickchartButtonEl.style.display =\n",
              "    google.colab.kernel.accessAllowed ? 'block' : 'none';\n",
              "}\n",
              "\n",
              "        displayQuickchartButton(document);\n",
              "      </script>\n",
              "      <style>\n",
              "    .colab-df-container {\n",
              "      display:flex;\n",
              "      flex-wrap:wrap;\n",
              "      gap: 12px;\n",
              "    }\n",
              "\n",
              "    .colab-df-convert {\n",
              "      background-color: #E8F0FE;\n",
              "      border: none;\n",
              "      border-radius: 50%;\n",
              "      cursor: pointer;\n",
              "      display: none;\n",
              "      fill: #1967D2;\n",
              "      height: 32px;\n",
              "      padding: 0 0 0 0;\n",
              "      width: 32px;\n",
              "    }\n",
              "\n",
              "    .colab-df-convert:hover {\n",
              "      background-color: #E2EBFA;\n",
              "      box-shadow: 0px 1px 2px rgba(60, 64, 67, 0.3), 0px 1px 3px 1px rgba(60, 64, 67, 0.15);\n",
              "      fill: #174EA6;\n",
              "    }\n",
              "\n",
              "    [theme=dark] .colab-df-convert {\n",
              "      background-color: #3B4455;\n",
              "      fill: #D2E3FC;\n",
              "    }\n",
              "\n",
              "    [theme=dark] .colab-df-convert:hover {\n",
              "      background-color: #434B5C;\n",
              "      box-shadow: 0px 1px 3px 1px rgba(0, 0, 0, 0.15);\n",
              "      filter: drop-shadow(0px 1px 2px rgba(0, 0, 0, 0.3));\n",
              "      fill: #FFFFFF;\n",
              "    }\n",
              "  </style>\n",
              "\n",
              "      <script>\n",
              "        const buttonEl =\n",
              "          document.querySelector('#df-2f2d1b59-8c8f-41bc-b451-6c49f666bbf6 button.colab-df-convert');\n",
              "        buttonEl.style.display =\n",
              "          google.colab.kernel.accessAllowed ? 'block' : 'none';\n",
              "\n",
              "        async function convertToInteractive(key) {\n",
              "          const element = document.querySelector('#df-2f2d1b59-8c8f-41bc-b451-6c49f666bbf6');\n",
              "          const dataTable =\n",
              "            await google.colab.kernel.invokeFunction('convertToInteractive',\n",
              "                                                     [key], {});\n",
              "          if (!dataTable) return;\n",
              "\n",
              "          const docLinkHtml = 'Like what you see? Visit the ' +\n",
              "            '<a target=\"_blank\" href=https://colab.research.google.com/notebooks/data_table.ipynb>data table notebook</a>'\n",
              "            + ' to learn more about interactive tables.';\n",
              "          element.innerHTML = '';\n",
              "          dataTable['output_type'] = 'display_data';\n",
              "          await google.colab.output.renderOutput(dataTable, element);\n",
              "          const docLink = document.createElement('div');\n",
              "          docLink.innerHTML = docLinkHtml;\n",
              "          element.appendChild(docLink);\n",
              "        }\n",
              "      </script>\n",
              "    </div>\n",
              "  </div>\n"
            ]
          },
          "metadata": {},
          "execution_count": 17
        }
      ]
    },
    {
      "cell_type": "markdown",
      "source": [
        "All that is left is to divide the generated dataset into training and testing splits. You will use the 70% of the data for training and the remaining 30% for testing:"
      ],
      "metadata": {
        "id": "Ozmn2WY7Sqdb"
      }
    },
    {
      "cell_type": "code",
      "source": [
        "# Define a 70/30 training/testing split\n",
        "split = int(len(df_all_breeds) * 0.7)\n",
        "\n",
        "# Do the split\n",
        "df_train = df_all_breeds[:split].reset_index(drop=True)\n",
        "df_test = df_all_breeds[split:].reset_index(drop=True)"
      ],
      "metadata": {
        "id": "PXU9WwIOSrPD"
      },
      "execution_count": 18,
      "outputs": []
    },
    {
      "cell_type": "markdown",
      "source": [
        "### 2.2 Naive Bayes Algorithm"
      ],
      "metadata": {
        "id": "oC_pell_SyAq"
      }
    },
    {
      "cell_type": "markdown",
      "source": [
        "Let's recap how the Naive Bayes algorithm works and formalize the notation.\n",
        "\n",
        "Let $X$ be a set of training data. An element $x \\in X$ is a vector in the form $x = (x_1, x_2, \\ldots, x_n)$, where $n$ is the number of attributes of each sample. For instance, $X$ can be a set of 100 dog breeds, and each dog breed might have 3 attributes, such as ear head ratio, weight, and height. So, $X = \\{ \\text{dog}_1, \\text{dog}_2, \\ldots, \\text{dog}_{100} \\}$, and each dog breed, for instance, dog 5, will be represented as a 3-dimensional vector: $\\text{dog}_5 = (\\text{ear head ratio}_{\\text{dog}_5}, \\text{weight}_{\\text{dog}_5}, \\text{height}_{\\text{dog}_5})$.\n",
        "\n",
        "Suppose that there are $m$ classes $C_1, C_2, \\ldots, C_m$. Using the same example above, suppose there are $m = 5$ different types of dog breeds in the training data. The idea is to predict the class of a sample $x \\in X$ by looking at its attributes. Naive Bayes does so by computing the posterior probabilities of a sample belonging to class $C_i$, i.e., it computes\n",
        "\n",
        "$$P(C_i \\mid x), \\quad i = 1, \\ldots, m.$$\n",
        "\n",
        "The predicted class is the $C_i$ with the highest probability. More formally, considering the set of every posterior probability of a given sample, what Naive Bayes computes is:\n",
        "\n",
        "$$\\text{predicted class for } x = \\arg \\max \\left\\{ P(C_1 \\mid x), P(C_2 \\mid x), \\ldots, P(C_m \\mid x) \\right\\}$$\n",
        "\n",
        "So, if the highest value is $P(C_4 \\mid x)$, then $\\arg \\max \\left\\{ P(C_1 \\mid x), P(C_2 \\mid x), \\ldots, P(C_m \\mid x) \\right\\} = 4$.\n",
        "\n",
        "To compute the posterior probability $P(C_i \\mid x)$, we use the Bayes' Theorem:\n",
        "\n",
        "$$P(C_i \\mid x) = \\frac{P(x \\mid C_i)P(C_i)}{P(x)}.$$\n",
        "\n",
        "Note that $P(x)$ is positive and constant for every class $C_i$, therefore, to maximize $P(C_i \\mid x)$, it is sufficient to maximize $P(x \\mid C_i)P(C_i)$. The probabilities $P(C_i)$ are called the class prior probabilities, and they denote how likely a random sample from $X$ (without knowing any of its attributes) is to belong to each class. This value is usually not known and can be estimated from the training set by computing the proportion of each class in the training set. If the training set is too small, it is common to assume that each class is equally likely, i.e., $P(C_1) = P(C_2) = \\ldots = P(C_m)$, thus only maximizing $P(x \\mid C_i)$ remains. We will work with the more general case here.\n",
        "\n",
        "In general, it would be computationally expensive to compute $P(x \\mid C_i)$ for each $x$ and each class, this is why a **naive** assumption of **class-conditional independence** is made. This assumption states that each attribute is independent of each other attribute within each class. It is a strong assumption. For example, in our dog breed example, it would mean that for a specific type of dog breed, there is no correlation between its weight, height, and ear head ratio.\n",
        "\n",
        "Assuming class-conditional independence, for an $x = (x_1, \\ldots x_n)$ in $X$:\n",
        "\n",
        "$$P(x \\mid C_i) = P(x_1 \\mid C_i) \\cdot P(x_2 \\mid C_i) \\cdot \\ldots \\cdot P(x_n \\mid C_i) = \\prod_{k = 1}^{n} P(x_k \\mid C_i).$$\n",
        "\n",
        "The probabilities $P(x_k \\mid C_i)$ can be estimated from the training data. The computation of $P(x_k \\mid C_i)$ depends on whether $x_k$ is categorical or not.\n",
        "\n",
        "- If $x_k$ is categorical, then $P(x_k \\mid C_i)$ is the number of samples in $X$ that have attribute $x_k$ divided by the number of samples in class $C_i$.\n",
        "\n",
        "- If $x_k$ is continuous-valued or discrete-valued, we need to make an assumption about its distribution and estimate its parameters using the training data. For instance, if $x_k$ is continuous-valued, we can assume that $P(x_k \\mid C_i)$ follows a Gaussian distribution with parameters $\\mu_{C_i}$ and $\\sigma_{C_i}$. Therefore, we need to estimate $\\mu$ and $\\sigma$ from the training data, and then $P(x_k \\mid C_i) = \\text{PDF}_{\\text{gaussian}}(x_k, \\mu_{C_i}, \\sigma_{C_i})$."
      ],
      "metadata": {
        "id": "s-UWNGAbSymr"
      }
    },
    {
      "cell_type": "markdown",
      "source": [
        "### Exercise 4: PDF for Distributions"
      ],
      "metadata": {
        "id": "JBbPIo7EjlkX"
      }
    },
    {
      "cell_type": "markdown",
      "source": [
        "To calculate the probabilities of predicting each class using Naive Bayes, you need to compute the prior probabilities. Although you already know the prior for each feature, you still need a way to compute the probability. In the next exercise, you are required to write a function that takes a value `x` and the relevant parameters and returns the value of the Probability Density Function (`PDF`) for each distribution.\n",
        "\n",
        "You can choose to implement this function on your own or utilize the implementation from the [scipy.stats](https://docs.scipy.org/doc/scipy/reference/stats.html) module."
      ],
      "metadata": {
        "id": "72PKRPpmjqR1"
      }
    },
    {
      "cell_type": "markdown",
      "source": [
        "###### 4.1 Uniform PDF"
      ],
      "metadata": {
        "id": "PxE3wzO5jw5w"
      }
    },
    {
      "cell_type": "markdown",
      "source": [
        "If $X \\sim \\text{Uniform}(a,b)$, then the PDF for $X$ is given by:\n",
        "\n",
        "\n",
        "$$f(x;a,b) =\n",
        "\\begin{cases}\n",
        "\\frac{1}{b-a}, \\quad \\text{if } x \\in [a,b]. \\\\\n",
        "0, \\quad \\text{otherwise.}\n",
        "\\end{cases}\n",
        "$$"
      ],
      "metadata": {
        "id": "2ebsievAjx_W"
      }
    },
    {
      "cell_type": "code",
      "source": [
        "def pdf_uniform(x, a, b):\n",
        "  \"\"\"\n",
        "  Calculates the probability density function (PDF) for a uniform distribution between 'a' and 'b' at a given point 'x'.\n",
        "\n",
        "  Args:\n",
        "      x (float): The value at which the PDF is evaluated.\n",
        "      a (float): The lower bound of the uniform distribution.\n",
        "      b (float): The upper bound of the uniform distribution.\n",
        "\n",
        "  Returns:\n",
        "      float: The PDF value at the given point 'x'. Returns 0 if 'x' is outside the range [a, b].\n",
        "  \"\"\"\n",
        "  # ### START CODE HERE ###\n",
        "  pdf = (0) if (x < a or x > b) else 1 / (b - a)\n",
        "  ### END CODE HERE ###\n",
        "  return pdf"
      ],
      "metadata": {
        "id": "hdoLMsCYSvoF"
      },
      "execution_count": 19,
      "outputs": []
    },
    {
      "cell_type": "code",
      "source": [
        "# Test your function\n",
        "print(f\"Uniform PDF with a={0} and b={5} for value {1e-10}: {pdf_uniform(1e-10, 0, 5):.3f}\")\n",
        "print(f\"Uniform PDF with a={20} and b={25} for value {5}: {pdf_uniform(5, 20, 25):.3f}\")\n",
        "print(f\"Uniform PDF with a={2} and b={10} for value {5.4}: {pdf_uniform(5.4, 2, 10):.3f}\")"
      ],
      "metadata": {
        "colab": {
          "base_uri": "https://localhost:8080/"
        },
        "id": "PqA1DIC2oKkh",
        "outputId": "dd9c4f83-a118-4e89-8070-f4dc052eb3bd"
      },
      "execution_count": 20,
      "outputs": [
        {
          "output_type": "stream",
          "name": "stdout",
          "text": [
            "Uniform PDF with a=0 and b=5 for value 1e-10: 0.200\n",
            "Uniform PDF with a=20 and b=25 for value 5: 0.000\n",
            "Uniform PDF with a=2 and b=10 for value 5.4: 0.125\n"
          ]
        }
      ]
    },
    {
      "cell_type": "markdown",
      "source": [
        "**__Expected Output__**\n",
        "\n",
        "```\n",
        "Uniform PDF with a=0 and b=5 for value 1e-10: 0.200\n",
        "Uniform PDF with a=20 and b=25 for value 5: 0.000\n",
        "Uniform PDF with a=2 and b=10 for value 5.4: 0.125\n",
        "```"
      ],
      "metadata": {
        "id": "7BWJTPNGoOMS"
      }
    },
    {
      "cell_type": "markdown",
      "source": [
        "##### 4.2 Gaussian PDF"
      ],
      "metadata": {
        "id": "udfdoZVwoZKU"
      }
    },
    {
      "cell_type": "markdown",
      "source": [
        "You will need to implement the PDF for the Gaussian Distribution. The PDF for $X$ if $X \\sim \\text{Normal}(\\mu,\\sigma)$ is given by:\n",
        "\n",
        "$$f(x;\\mu,\\sigma) = \\frac{1}{\\sigma \\sqrt{2 \\pi}} e^{-\\frac{1}{2}\\left(\\frac{x - \\mu}{\\sigma}\\right)^2}$$"
      ],
      "metadata": {
        "id": "rhRU3NWEoZ9h"
      }
    },
    {
      "cell_type": "code",
      "source": [
        "def pdf_gaussian(x, mu, sigma):\n",
        "  \"\"\"\n",
        "  Calculate the probability density function (PDF) of a Gaussian distribution at a given value.\n",
        "\n",
        "  Args:\n",
        "      x (float or array-like): The value(s) at which to evaluate the PDF.\n",
        "      mu (float): The mean of the Gaussian distribution.\n",
        "      sigma (float): The standard deviation of the Gaussian distribution.\n",
        "\n",
        "  Returns:\n",
        "      float or ndarray: The PDF value(s) at the given point(s) x.\n",
        "  \"\"\"\n",
        "  ### START CODE HERE ###\n",
        "  coefficient = 1.0 / (sigma * np.sqrt(2 * np.pi))\n",
        "  exponent = -0.5 * ((x - mu) / sigma) ** 2\n",
        "  pdf = coefficient * np.exp(exponent)\n",
        "  ### END CODE HERE ###\n",
        "  return pdf"
      ],
      "metadata": {
        "id": "0VNJfkWOocW5"
      },
      "execution_count": 21,
      "outputs": []
    },
    {
      "cell_type": "code",
      "source": [
        "# Test your function\n",
        "print(f\"Gaussian PDF with mu={15} and sigma={5} for value {10}: {pdf_gaussian(10, 15, 5):.3f}\")\n",
        "print(f\"Gaussian PDF with mu={15} and sigma={5} for value {0}: {pdf_gaussian(0, 15, 5):.3f}\")\n",
        "print(f\"Gaussian PDF with mu={20} and sigma={0.5} for value {20}: {pdf_gaussian(20, 20, 0.5):.3f}\")\n",
        "print(f\"Gaussian PDF with mu={15} and sigma={5} for value {1}: {pdf_gaussian(1, 15, 5):.3f}\")"
      ],
      "metadata": {
        "colab": {
          "base_uri": "https://localhost:8080/"
        },
        "id": "LzlJFA_epi6H",
        "outputId": "52234a2a-c217-47ce-c0a0-9deb7ef44ea3"
      },
      "execution_count": 22,
      "outputs": [
        {
          "output_type": "stream",
          "name": "stdout",
          "text": [
            "Gaussian PDF with mu=15 and sigma=5 for value 10: 0.048\n",
            "Gaussian PDF with mu=15 and sigma=5 for value 0: 0.001\n",
            "Gaussian PDF with mu=20 and sigma=0.5 for value 20: 0.798\n",
            "Gaussian PDF with mu=15 and sigma=5 for value 1: 0.002\n"
          ]
        }
      ]
    },
    {
      "cell_type": "markdown",
      "source": [
        "**__Expected Output__**\n",
        "\n",
        "```\n",
        "Gaussian PDF with mu=15 and sigma=5 for value 10: 0.048\n",
        "Gaussian PDF with mu=15 and sigma=5 for value 0: 0.001\n",
        "Gaussian PDF with mu=20 and sigma=0.5 for value 20: 0.798\n",
        "Gaussian PDF with mu=15 and sigma=5 for value 1: 0.002\n",
        "```"
      ],
      "metadata": {
        "id": "OSGzLuybpqge"
      }
    },
    {
      "cell_type": "markdown",
      "source": [
        "##### 4.3 Binomial Probability Mass Function (PMF)"
      ],
      "metadata": {
        "id": "y6GdCN9LpsfS"
      }
    },
    {
      "cell_type": "markdown",
      "source": [
        "For the binomial distribution, since it is a discrete distribution, we will be using the Probability Mass Function (PMF) instead of the Probability Density Function (PDF). However, for consistency, the graded function should still be named `pdf_binomial`.\n",
        "\n",
        "Remember that if we have a random variable X following a binomial distribution with parameters n and p, its PMF is given by:\n",
        "$$f(k; n, p) = {n \\choose k}  p^k  (1-p)^{n-k}$$\n",
        "\n",
        "Here, you can calculate the combination ${n \\choose k}$ using either the definition: ${n \\choose k} = \\frac{n!}{k!(n-k)!}$, utilizing the `math.factorial` function, or you can use the `scipy.special.comb` function to obtain the combination. You can also refer to the `binom` documentation to find any other relevant functions that may assist you."
      ],
      "metadata": {
        "id": "qSutDJvTql34"
      }
    },
    {
      "cell_type": "code",
      "source": [
        "import math\n",
        "\n",
        "def pmf_binomial(x, n, p):\n",
        "  \"\"\"\n",
        "  Calculate the probability mass function (PMF) of a binomial distribution at a specific value.\n",
        "\n",
        "  Args:\n",
        "      x (int): The value at which to evaluate the PMF.\n",
        "      n (int): The number of trials in the binomial distribution.\n",
        "      p (float): The probability of success for each trial.\n",
        "\n",
        "  Returns:\n",
        "      float: The probability mass function (PMF) of the binomial distribution at the specified value.\n",
        "  \"\"\"\n",
        "  ### START CODE HERE ###\n",
        "  pmf = binom.pmf(x, n, p)\n",
        "  # pmf = math.factorial(n) * (p ** x) * (1 - p) ** (n - x)\n",
        "  ### END CODE HERE ###\n",
        "  return pmf"
      ],
      "metadata": {
        "id": "5KoInH4rqovb"
      },
      "execution_count": 23,
      "outputs": []
    },
    {
      "cell_type": "code",
      "source": [
        "# Test your function\n",
        "print(f\"Binomial PMF with n={15} and p={0.9} for value {15}: {pmf_binomial(15, 15, 0.9):.3f}\")\n",
        "print(f\"Binomial PMF with n={30} and p={0.5} for value {15}: {pmf_binomial(15, 30, 0.5):.3f}\")\n",
        "print(f\"Binomial PMF with n={20} and p={0.9} for value {15}: {pmf_binomial(15, 20, 0.9):.3f}\")\n",
        "print(f\"Binomial PMF with n={15} and p={0.5} for value {20}: {pmf_binomial(20, 15, 0.5):.3f}\")"
      ],
      "metadata": {
        "colab": {
          "base_uri": "https://localhost:8080/"
        },
        "id": "ZL2AwuEGrmB9",
        "outputId": "f6b738e8-8302-4b30-f090-da98212a1047"
      },
      "execution_count": 24,
      "outputs": [
        {
          "output_type": "stream",
          "name": "stdout",
          "text": [
            "Binomial PMF with n=15 and p=0.9 for value 15: 0.206\n",
            "Binomial PMF with n=30 and p=0.5 for value 15: 0.144\n",
            "Binomial PMF with n=20 and p=0.9 for value 15: 0.032\n",
            "Binomial PMF with n=15 and p=0.5 for value 20: 0.000\n"
          ]
        }
      ]
    },
    {
      "cell_type": "markdown",
      "source": [
        "**__Expected Output__**\n",
        "\n",
        "```\n",
        "Binomial PMF with n=15 and p=0.9 for value 15: 0.206\n",
        "Binomial PMF with n=30 and p=0.5 for value 15: 0.144\n",
        "Binomial PMF with n=20 and p=0.9 for value 15: 0.032\n",
        "Binomial PMF with n=15 and p=0.5 for value 20: 0.000\n",
        "```"
      ],
      "metadata": {
        "id": "NvQrNhR7rvmh"
      }
    },
    {
      "cell_type": "markdown",
      "source": [
        "### 2.3 Estimated Parameters"
      ],
      "metadata": {
        "id": "r_PqVkv1rxuN"
      }
    },
    {
      "cell_type": "markdown",
      "source": [
        "Now that you have the `PDF`s ready you need a way of estimating the parameters of the distributions for the features in the training split, this translates to estimating:\n",
        "\n",
        "- `mu` and `sigma` for the `height` feature\n",
        "- `mu` and `sigma` for the `weight` feature\n",
        "- `n` and `p` for the `bark_days` feature\n",
        "- `a` and `b` for the `ear_head_ratio` feature\n",
        "\n",
        "\n",
        "Since the interpretation and way of computing these parameters has not been covered in the lectures, the assignment provides functions that can accomplish this for you. These have already been imported into this environment and are called:\n",
        "\n",
        "- `estimate_gaussian_params`\n",
        "- `estimate_binomial_params`\n",
        "- `estimate_uniform_params`\n",
        "\n",
        "All of these functions work in the same way. They expect an array of numbers (a numpy array, a pandas series or a regular python list) and will return the relevant parameters depending on the distribution selected. An example of how to use these functions can be seen by running the following cell:"
      ],
      "metadata": {
        "id": "uln9qlQ1r5PD"
      }
    },
    {
      "cell_type": "code",
      "source": [
        "m, s = estimate_gaussian_params(np.array([26.31, 32.45, 14.99]))\n",
        "print(f\"Gaussian:\\nmu = {m:.3f} and sigma = {s:.3f} for sample: {np.array([26.31, 32.45, 14.99])}\\n\")\n",
        "\n",
        "n, p = estimate_binomial_params(np.array([9, 26, 18, 14, 5]))\n",
        "print(f\"Binomial:\\nn = {n} and p = {p:.3f} for sample: {np.array([9, 26, 18, 14, 5])}\\n\")\n",
        "\n",
        "a, b = estimate_uniform_params(np.array([0.9, 0.26, 0.18, 0.07, 0.5]))\n",
        "print(f\"Uniform:\\na = {a:.3f} and b = {b:.3f} for sample: {np.array([0.9, 0.26, 0.18, 0.07, 0.5])}\")"
      ],
      "metadata": {
        "id": "4pSTQfe4sBW2",
        "outputId": "9111c686-2024-4ae4-855f-f85409f81163",
        "colab": {
          "base_uri": "https://localhost:8080/"
        }
      },
      "execution_count": 25,
      "outputs": [
        {
          "output_type": "stream",
          "name": "stdout",
          "text": [
            "Gaussian:\n",
            "mu = 24.583 and sigma = 7.232 for sample: [26.31 32.45 14.99]\n",
            "\n",
            "Binomial:\n",
            "n = 30 and p = 0.480 for sample: [ 9 26 18 14  5]\n",
            "\n",
            "Uniform:\n",
            "a = 0.070 and b = 0.900 for sample: [0.9  0.26 0.18 0.07 0.5 ]\n"
          ]
        }
      ]
    },
    {
      "cell_type": "markdown",
      "source": [
        "### Exercise 5: Computing parameters out of the training data"
      ],
      "metadata": {
        "id": "4yjEOddFIJDe"
      }
    },
    {
      "cell_type": "markdown",
      "source": [
        "Now you have all the pieces you need to code the `compute_training_parameters` below. This function should receive a dataframe with the same structure as the one you generated at the beginning of this section and return two dictionaries:\n",
        "\n",
        "- The first one (`params_dict`) should contain the estimated parameters of each feature for every breed. To be more concrete the first level should have the breeds (encoded as integers) as keys and the values should be another dictionary with the name of each feature as keys and with the estimated parameters saved within the relevant dataclass as values. To make this clearer, the end dictionary should end up looking like this:\n",
        "\n",
        "```\n",
        "{0: {'bark_days': params_dataclass(param1=x11, param2=x12),\n",
        "     'ear_head_ratio': params_dataclass(param1=x21, param2=x22),\n",
        "     'height': params_dataclass(param1=x31, param2=x32),\n",
        "     'weight': params_dataclass(param1=x42, param2=x42)},\n",
        " 1: ...     \n",
        "}\n",
        "```\n",
        "\n",
        "- The second one (`probs_dict`) should include the proportion of data belonging to each breed. Notice that all values should sum up to 1. You can use Python's built-in `round` function to avoid very long floats but this is up to you and your grade will not be affected by this. This dict should look like this:\n",
        "\n",
        "```\n",
        "{0: 0.25, 1: 0.5, 2: 0.25}    \n",
        "```\n",
        "\n",
        "Notice that some structure has been pre-defined to help you out with the implementation. This structure uses a `match` statement but feel free to use any other way of coding this function (there are many ways to do it!). As long as the returning dictionaries contain the correct information, the implementation details won't affect your grade. As a reference for the `match` statement, you can access [here](https://peps.python.org/pep-0636/). Feel free to use `if-else` statement if you feel more comfortable with."
      ],
      "metadata": {
        "id": "gpjlt7dIIKim"
      }
    },
    {
      "cell_type": "code",
      "source": [
        "df_all_breeds.columns"
      ],
      "metadata": {
        "id": "8BCRcQlGH-w1",
        "outputId": "51f08a7d-0044-4ac2-ec5e-71e8aa243ef7",
        "colab": {
          "base_uri": "https://localhost:8080/"
        }
      },
      "execution_count": 26,
      "outputs": [
        {
          "output_type": "execute_result",
          "data": {
            "text/plain": [
              "Index(['height', 'weight', 'bark_days', 'ear_head_ratio', 'breed'], dtype='object')"
            ]
          },
          "metadata": {},
          "execution_count": 26
        }
      ]
    },
    {
      "cell_type": "code",
      "source": [
        "def compute_training_params(df, features):\n",
        "  \"\"\"\n",
        "  Computes the estimated parameters for training a model based on the provided dataframe and features.\n",
        "\n",
        "  Args:\n",
        "      df (pandas.DataFrame): The dataframe containing the training data.\n",
        "      features (list): A list of feature names to consider.\n",
        "\n",
        "  Returns:\n",
        "      tuple: A tuple containing two dictionaries:\n",
        "          - params_dict (dict): A dictionary that contains the estimated parameters for each breed and feature.\n",
        "          - probs_dict (dict): A dictionary that contains the proportion of data belonging to each breed.\n",
        "  \"\"\"\n",
        "  # Dict that should contain the estimated parameters\n",
        "  params_dict = {}\n",
        "  # Dict that should contain the proportion of data belonging to each class\n",
        "  probs_dict = {}\n",
        "\n",
        "  ### START CODE HERE ###\n",
        "  # Loop over the breeds\n",
        "  for breed in df_train[\"breed\"]:\n",
        "    # Slice the original df to only include data for the current breed and the feature columns\n",
        "    # For reference in slicing with pandas, you can use the df_breed.groupby function followed by .get_group or you can use the syntax df[df['breed'] == group]\n",
        "    df_breed = df_train[df_train[\"breed\"] == breed][features]\n",
        "\n",
        "    # Save the probability of each class (breed) in the probabilities dict\n",
        "    # You can find the number of rows in a dataframe by using len(dataframe)\n",
        "    probs_dict[breed] = len(df_breed) / len(df)\n",
        "\n",
        "    # Initialize the inner dict\n",
        "    inner_dict = {}\n",
        "\n",
        "    # Loop over the columns of the sliced dataframe\n",
        "    # You can get the columns of a dataframe like this: dataframe.columns\n",
        "    for feature in df_breed.columns:\n",
        "      match feature:\n",
        "        case \"height\" | \"weight\":\n",
        "          # Estimate parameters depending on the distribution of the current feature\n",
        "          # and save them in the corresponding dataclass object\n",
        "          mu = df_breed[feature].mean()\n",
        "          sigma = df_breed[feature].std()\n",
        "          params = GaussianDistribution(mu=mu, sigma=sigma)\n",
        "\n",
        "        case \"bark_days\":\n",
        "          # Estimate parameters depending on the distribution of the current feature\n",
        "          # and save them in the corresponding dataclass object\n",
        "          n = df_breed[feature].max()\n",
        "          p = df_breed[feature].mean() / n\n",
        "          params = BinomialDistribution(n=n, p=p)\n",
        "\n",
        "        case \"ear_head_ratio\":\n",
        "          # Estimate parameters depending on the distribution of the current feature\n",
        "          # and save them in the corresponding dataclass object\n",
        "          a = df_breed[feature].min()\n",
        "          b = df_breed[feature].max()\n",
        "          params = UniformDistribution(a=a, b=b)\n",
        "\n",
        "      # Save the dataclass object within the inner dict\n",
        "      inner_dict[feature] = params\n",
        "\n",
        "    # Save inner dict within outer dict\n",
        "    params_dict[breed] = inner_dict\n",
        "\n",
        "  # ### END CODE HERE ###\n",
        "  return params_dict, probs_dict"
      ],
      "metadata": {
        "id": "A60SGPjyxV0e"
      },
      "execution_count": 27,
      "outputs": []
    },
    {
      "cell_type": "code",
      "source": [
        "# Test your function\n",
        "train_params, train_class_probs = compute_training_params(df_train, FEATURES)\n",
        "\n",
        "print(\"Distribution parameters for training split:\\n\")\n",
        "pp.pprint(train_params)\n",
        "print(\"\\nProbability of each class for training split:\\n\")\n",
        "pp.pprint(train_class_probs)"
      ],
      "metadata": {
        "id": "yWclSkfz_aSU",
        "outputId": "22ce0afe-b041-4491-edf1-9a7f2877fdbc",
        "colab": {
          "base_uri": "https://localhost:8080/"
        }
      },
      "execution_count": 28,
      "outputs": [
        {
          "output_type": "stream",
          "name": "stdout",
          "text": [
            "Distribution parameters for training split:\n",
            "\n",
            "{0: {'bark_days': params_binomial(n=30.000, p=0.801),\n",
            "     'ear_head_ratio': params_uniform(a=0.100, b=0.597),\n",
            "     'height': params_gaussian(mu=35.030, sigma=1.519),\n",
            "     'weight': params_gaussian(mu=20.020, sigma=1.013)},\n",
            " 1: {'bark_days': params_binomial(n=24.000, p=0.622),\n",
            "     'ear_head_ratio': params_uniform(a=0.201, b=0.500),\n",
            "     'height': params_gaussian(mu=34.971, sigma=2.011),\n",
            "     'weight': params_gaussian(mu=24.927, sigma=5.028)},\n",
            " 2: {'bark_days': params_binomial(n=18.000, p=0.493),\n",
            "     'ear_head_ratio': params_uniform(a=0.101, b=0.300),\n",
            "     'height': params_gaussian(mu=39.814, sigma=3.575),\n",
            "     'weight': params_gaussian(mu=31.841, sigma=3.064)}}\n",
            "\n",
            "Probability of each class for training split:\n",
            "\n",
            "{0: 0.3461697722567288, 1: 0.39337474120082816, 2: 0.26045548654244305}\n"
          ]
        }
      ]
    },
    {
      "cell_type": "markdown",
      "source": [
        "**__Expected Output__**\n",
        "\n",
        "```\n",
        "Distribution parameters for training split:\n",
        "\n",
        "{0: {'bark_days': params_binomial(n=30.000, p=0.801),\n",
        "     'ear_head_ratio': params_uniform(a=0.100, b=0.597),\n",
        "     'height': params_gaussian(mu=35.030, sigma=1.518),\n",
        "     'weight': params_gaussian(mu=20.020, sigma=1.012)},\n",
        " 1: {'bark_days': params_binomial(n=30.000, p=0.498),\n",
        "     'ear_head_ratio': params_uniform(a=0.201, b=0.500),\n",
        "     'height': params_gaussian(mu=29.971, sigma=2.010),\n",
        "     'weight': params_gaussian(mu=24.927, sigma=5.025)},\n",
        " 2: {'bark_days': params_binomial(n=30.000, p=0.296),\n",
        "     'ear_head_ratio': params_uniform(a=0.101, b=0.300),\n",
        "     'height': params_gaussian(mu=39.814, sigma=3.572),\n",
        "     'weight': params_gaussian(mu=31.841, sigma=3.061)}}\n",
        "\n",
        "Probability of each class for training split:\n",
        "\n",
        "{0: 0.346, 1: 0.393, 2: 0.26}\n",
        "```"
      ],
      "metadata": {
        "id": "e_dkTAD1_pMZ"
      }
    },
    {
      "cell_type": "markdown",
      "source": [
        "### Exercise 6: Compute the Probability of X given the Breed -> $P(x \\mid C_{i})$"
      ],
      "metadata": {
        "id": "Wa-bEmj3_v8Q"
      }
    },
    {
      "cell_type": "markdown",
      "source": [
        "To code a Naive Bayes classifier, you will assume **class-conditional independence** for a given $x = (x_1, \\ldots, x_n)$ in $X$. With this assumption, you can compute the probability of $x$ given the class using the following expression:\n",
        "\n",
        "$$P(x \\mid C_{i}) = P(x_1 \\mid C_i) \\cdot P(x_2 \\mid C_i) \\cdot \\ldots \\cdot P(x_n \\mid C_i) = \\prod_{k = 1}^{n} P(x_k \\mid C_i).$$\n",
        "\n",
        "The probabilities $P(x_k \\mid C_i)$ can be estimated from the training tuples.\n",
        "\n",
        "If $x_k$ is continuous-valued or discrete-valued, you need to make an assumption about its distribution and estimate its parameters using the training set. For example, if $x_k$ is continuous-valued, it is often assumed that $P(x_k \\mid C_i)$ follows a Gaussian distribution with parameters $\\mu_{C_i}$ and $\\sigma_{C_i}$. Therefore, you need to estimate $\\mu$ and $\\sigma$ from the training set, and then $P(x_k \\mid C_i) = \\text{PDF}_{\\text{gaussian}}(x_k,\\mu_{C_i},\\sigma_{C_i})$.\n",
        "\n",
        "In this case, you already know the true distributions for every feature, so you just need to compute the appropriate `PDF` for each feature by passing the estimated parameters of that feature to the corresponding `PDF` computation function.\n",
        "\n",
        "Complete the `prob_of_X_given_C` function below. This function takes the following parameters:\n",
        "- `X`: a list containing the values for the features in the `features` parameter (the order matters)\n",
        "- `features`: the names of the features being passed\n",
        "- `breed`: the breed that will be assumed for the `X` observation\n",
        "- `params_dict`: the dictionary containing the estimated parameters from the training split\n",
        "\n",
        "The function should return the probability of the values of `X` given the selected `breed`.\n"
      ],
      "metadata": {
        "id": "B6SjPAHS_2bU"
      }
    },
    {
      "cell_type": "code",
      "source": [
        "def prob_of_X_given_C(X, features, breed, params_dict):\n",
        "  \"\"\"\n",
        "  Calculate the conditional probability of X given a specific breed, using the given features and parameters.\n",
        "\n",
        "  Args:\n",
        "      X (list): List of feature values for which the probability needs to be calculated.\n",
        "      features (list): List of feature names corresponding to the feature values in X.\n",
        "      breed (str): The breed for which the probability is calculated.\n",
        "      params_dict (dict): Dictionary containing the parameters for different breeds and features.\n",
        "\n",
        "  Returns:\n",
        "      float: The conditional probability of X given the specified breed.\n",
        "  \"\"\"\n",
        "  if len(X) != len(features):\n",
        "    print(\"X and list of features should have the same length\")\n",
        "    return 0\n",
        "\n",
        "  probability = 1.0\n",
        "\n",
        "  ### START CODE HERE ###\n",
        "  for x, feature in zip(X, features):\n",
        "    # Get the relevant parameters from params_dict\n",
        "    params = params_dict[breed][feature]\n",
        "    match feature:\n",
        "      # You can add add as many case statements as you see fit\n",
        "      case \"height\" | \"weight\":\n",
        "        # Compute the relevant pdf given the distribution and the estimated parameters\n",
        "        probability_f = pdf_gaussian(x, params.mu, params.sigma)\n",
        "      case \"bark_days\":\n",
        "        probability_f = pmf_binomial(x, params.n, params.p)\n",
        "      case \"ear_head_ratio\":\n",
        "        probability_f = pdf_uniform(x, params.a, params.b)\n",
        "\n",
        "    #  Multiply by probability of current feature\n",
        "    probability *= probability_f\n",
        "  ### END CODE HERE ###\n",
        "  return probability"
      ],
      "metadata": {
        "id": "yGmdv-9U_22S"
      },
      "execution_count": 29,
      "outputs": []
    },
    {
      "cell_type": "code",
      "source": [
        "# Test your function\n",
        "example_dog = df_test[FEATURES].loc[0]\n",
        "example_breed = df_test[[\"breed\"]].loc[0][\"breed\"]\n",
        "print(f\"Example dog has breed {example_breed} and features: height = {example_dog['height']:.2f}, weight = {example_dog['weight']:.2f}, bark_days = {example_dog['bark_days']:.2f}, ear_head_ratio = {example_dog['ear_head_ratio']:.2f}\\n\")\n",
        "\n",
        "print(f\"Probability of these features if dog is classified as breed 0: {prob_of_X_given_C([*example_dog], FEATURES, 0, train_params)}\")\n",
        "print(f\"Probability of these features if dog is classified as breed 1: {prob_of_X_given_C([*example_dog], FEATURES, 1, train_params)}\")\n",
        "print(f\"Probability of these features if dog is classified as breed 2: {prob_of_X_given_C([*example_dog], FEATURES, 2, train_params)}\")"
      ],
      "metadata": {
        "colab": {
          "base_uri": "https://localhost:8080/"
        },
        "id": "XSwKUhZCmif9",
        "outputId": "a2e26dbc-1a94-4033-eebc-67848aa7ee82"
      },
      "execution_count": 30,
      "outputs": [
        {
          "output_type": "stream",
          "name": "stdout",
          "text": [
            "Example dog has breed 1 and features: height = 33.63, weight = 21.56, bark_days = 13.00, ear_head_ratio = 0.27\n",
            "\n",
            "Probability of these features if dog is classified as breed 0: 3.328493789988861e-07\n",
            "Probability of these features if dog is classified as breed 1: 0.003942085319420158\n",
            "Probability of these features if dog is classified as breed 2: 1.7290651869884347e-06\n"
          ]
        }
      ]
    },
    {
      "cell_type": "markdown",
      "source": [
        "**__Expected Output__**\n",
        "\n",
        "```\n",
        "Example dog has breed 1 and features: height = 28.63, weight = 21.56, bark_days = 13.00, ear_head_ratio = 0.27\n",
        "\n",
        "Probability of these features if dog is classified as breed 0: 6.989632718589114e-11\n",
        "Probability of these features if dog is classified as breed 1: 0.0038267778327024894\n",
        "Probability of these features if dog is classified as breed 2: 7.959172138800559e-08\n",
        "```"
      ],
      "metadata": {
        "id": "boyGTDVNmxS-"
      }
    },
    {
      "cell_type": "markdown",
      "source": [
        "### Exercise 7: Predict the Breed"
      ],
      "metadata": {
        "id": "M1WXn4GYmz7t"
      }
    },
    {
      "cell_type": "markdown",
      "source": [
        "If all classes were perfectly balanced, the previous function could be used to compute the maximum posterior. However, this is NOT the case, and you still need to multiply every probability $P(x \\mid C_{i})$ by the probability of belonging to each class $P(C_{i})$. After all, the expression that you need to maximize in order to get a prediction is $P(x \\mid C_{i})P(C_{i})$. You can accomplish this by multiplying the result of `prob_of_X_given_C` by the corresponding proportion found in the `probs_dict` dictionary.\n",
        "\n",
        "Complete the `predict_breed` function below. This function receives the following parameters:\n",
        "- `X`: a list containing the values for the features of each feature in the `features` parameter (the order matters).\n",
        "- `features`: the name of the features being passed.\n",
        "- `params_dict`: the dictionary containing the estimated parameters from the training split.\n",
        "- `probs_dict`: the dictionary containing the proportion of each class from the training split.\n",
        "\n",
        "The function should return the breed with the highest maximum posterior:"
      ],
      "metadata": {
        "id": "CTIdarAUm4t2"
      }
    },
    {
      "cell_type": "code",
      "source": [
        "def predict_breed(X, features, params_dict, probs_dict):\n",
        "  \"\"\"\n",
        "  Predicts the breed based on the input and features.\n",
        "\n",
        "  Args:\n",
        "      X (array-like): The input data for prediction.\n",
        "      features (array-like): The features used for prediction.\n",
        "      params_dict (dict): A dictionary containing parameters for different breeds.\n",
        "      probs_dict (dict): A dictionary containing probabilities for different breeds.\n",
        "\n",
        "  Returns:\n",
        "      int: The predicted breed index.\n",
        "  \"\"\"\n",
        "  ### START CODE HERE ###\n",
        "  posterior_breed_0 = prob_of_X_given_C(X, features, 0, params_dict) * probs_dict[0]\n",
        "  posterior_breed_1 = prob_of_X_given_C(X, features, 1, params_dict) * probs_dict[1]\n",
        "  posterior_breed_2 = prob_of_X_given_C(X, features, 2, params_dict) * probs_dict[2]\n",
        "  # Save the breed with the maximum posterior\n",
        "  # Hint: You can create a numpy array with the posteriors and then use np.argmax\n",
        "  posterior_array = np.array([posterior_breed_0, posterior_breed_1, posterior_breed_2])\n",
        "  prediction = np.argmax(posterior_array)\n",
        "  ### END CODE HERE ###\n",
        "  return prediction"
      ],
      "metadata": {
        "id": "dsQhsI0cm7iv"
      },
      "execution_count": 31,
      "outputs": []
    },
    {
      "cell_type": "code",
      "source": [
        "# Test your function\n",
        "example_pred = predict_breed([*example_dog], FEATURES, train_params, train_class_probs)\n",
        "print(f\"Example dog has breed {example_breed} and Naive Bayes classified it as {example_pred}\")"
      ],
      "metadata": {
        "id": "aY50mYShgSTt",
        "outputId": "d84829d9-8375-48a7-8935-6edf83dff84d",
        "colab": {
          "base_uri": "https://localhost:8080/"
        }
      },
      "execution_count": 32,
      "outputs": [
        {
          "output_type": "stream",
          "name": "stdout",
          "text": [
            "Example dog has breed 1 and Naive Bayes classified it as 1\n"
          ]
        }
      ]
    },
    {
      "cell_type": "markdown",
      "source": [
        "**__Expected Output__**\n",
        "\n",
        "```\n",
        "Example dog has breed 1 and Naive Bayes classified it as 1\n",
        "```\n",
        "\n",
        "The classifier worked for this particular example, but how will it perform when considering the whole testing split?\n",
        "\n",
        "Run the following cell to find out:"
      ],
      "metadata": {
        "id": "ZZJErfpUgYa3"
      }
    },
    {
      "cell_type": "code",
      "source": [
        "preds = df_test.apply(lambda x: predict_breed([*x[FEATURES]], FEATURES, train_params, train_class_probs), axis=1)\n",
        "test_acc = accuracy_score(df_test[\"breed\"], preds)\n",
        "print(f\"Accuracy score for the test split: {test_acc:.2f}\")"
      ],
      "metadata": {
        "id": "mxgb0HtRgdJT",
        "outputId": "7c107598-bc19-42e3-9b9f-77d5018fafb6",
        "colab": {
          "base_uri": "https://localhost:8080/"
        }
      },
      "execution_count": 33,
      "outputs": [
        {
          "output_type": "stream",
          "name": "stdout",
          "text": [
            "Accuracy score for the test split: 1.00\n"
          ]
        }
      ]
    },
    {
      "cell_type": "markdown",
      "source": [
        "**__Expected Output__**\n",
        "\n",
        "```\n",
        "Accuracy score for the test split: 1.00\n",
        "```\n",
        "\n",
        "The Naive Bayes classifier achieved an accuracy of 100% in the testing data. Nice job!\n",
        "\n",
        "You might think that something is wrong when reaching such a high accuracy but in this case it makes sense because the data is generated and you know the true distributions for each feature, real-life data won't have this nice behavior!"
      ],
      "metadata": {
        "id": "7WnOdoGIglLS"
      }
    },
    {
      "cell_type": "markdown",
      "source": [
        "## Section 3 - Spam Detector"
      ],
      "metadata": {
        "id": "FHV6mR9Hg0p2"
      }
    },
    {
      "cell_type": "markdown",
      "source": [
        "In this final section you will once again implement and train a Naive Bayes classifier. The idea is to build a classifier that is able to detect spam from ham (aka not spam) emails. This time your implementation should take into account two major differences:\n",
        "\n",
        "- The data is a real life dataset that includes over 5500 emails with their corresponding labels\n",
        "- The features are categorical\n",
        "\n",
        "Begin by loading the dataset and doing some pre-processing:"
      ],
      "metadata": {
        "id": "mC4J3Tvcg1Pa"
      }
    },
    {
      "cell_type": "code",
      "source": [
        "# Load the dataset\n",
        "emails = pd.read_csv(\"emails.csv\")\n",
        "emails.head()"
      ],
      "metadata": {
        "id": "ykqzdF2pg6dZ",
        "outputId": "d9ca2207-2336-4db3-e231-a0f9899c65ce",
        "colab": {
          "base_uri": "https://localhost:8080/",
          "height": 206
        }
      },
      "execution_count": 36,
      "outputs": [
        {
          "output_type": "execute_result",
          "data": {
            "text/plain": [
              "                                                text  spam\n",
              "0  Subject: naturally irresistible your corporate...     1\n",
              "1  Subject: the stock trading gunslinger  fanny i...     1\n",
              "2  Subject: unbelievable new homes made easy  im ...     1\n",
              "3  Subject: 4 color printing special  request add...     1\n",
              "4  Subject: do not have money , get software cds ...     1"
            ],
            "text/html": [
              "\n",
              "\n",
              "  <div id=\"df-7a540401-f0be-4d6d-b5df-b28f1ab7e40b\">\n",
              "    <div class=\"colab-df-container\">\n",
              "      <div>\n",
              "<style scoped>\n",
              "    .dataframe tbody tr th:only-of-type {\n",
              "        vertical-align: middle;\n",
              "    }\n",
              "\n",
              "    .dataframe tbody tr th {\n",
              "        vertical-align: top;\n",
              "    }\n",
              "\n",
              "    .dataframe thead th {\n",
              "        text-align: right;\n",
              "    }\n",
              "</style>\n",
              "<table border=\"1\" class=\"dataframe\">\n",
              "  <thead>\n",
              "    <tr style=\"text-align: right;\">\n",
              "      <th></th>\n",
              "      <th>text</th>\n",
              "      <th>spam</th>\n",
              "    </tr>\n",
              "  </thead>\n",
              "  <tbody>\n",
              "    <tr>\n",
              "      <th>0</th>\n",
              "      <td>Subject: naturally irresistible your corporate...</td>\n",
              "      <td>1</td>\n",
              "    </tr>\n",
              "    <tr>\n",
              "      <th>1</th>\n",
              "      <td>Subject: the stock trading gunslinger  fanny i...</td>\n",
              "      <td>1</td>\n",
              "    </tr>\n",
              "    <tr>\n",
              "      <th>2</th>\n",
              "      <td>Subject: unbelievable new homes made easy  im ...</td>\n",
              "      <td>1</td>\n",
              "    </tr>\n",
              "    <tr>\n",
              "      <th>3</th>\n",
              "      <td>Subject: 4 color printing special  request add...</td>\n",
              "      <td>1</td>\n",
              "    </tr>\n",
              "    <tr>\n",
              "      <th>4</th>\n",
              "      <td>Subject: do not have money , get software cds ...</td>\n",
              "      <td>1</td>\n",
              "    </tr>\n",
              "  </tbody>\n",
              "</table>\n",
              "</div>\n",
              "      <button class=\"colab-df-convert\" onclick=\"convertToInteractive('df-7a540401-f0be-4d6d-b5df-b28f1ab7e40b')\"\n",
              "              title=\"Convert this dataframe to an interactive table.\"\n",
              "              style=\"display:none;\">\n",
              "\n",
              "  <svg xmlns=\"http://www.w3.org/2000/svg\" height=\"24px\"viewBox=\"0 0 24 24\"\n",
              "       width=\"24px\">\n",
              "    <path d=\"M0 0h24v24H0V0z\" fill=\"none\"/>\n",
              "    <path d=\"M18.56 5.44l.94 2.06.94-2.06 2.06-.94-2.06-.94-.94-2.06-.94 2.06-2.06.94zm-11 1L8.5 8.5l.94-2.06 2.06-.94-2.06-.94L8.5 2.5l-.94 2.06-2.06.94zm10 10l.94 2.06.94-2.06 2.06-.94-2.06-.94-.94-2.06-.94 2.06-2.06.94z\"/><path d=\"M17.41 7.96l-1.37-1.37c-.4-.4-.92-.59-1.43-.59-.52 0-1.04.2-1.43.59L10.3 9.45l-7.72 7.72c-.78.78-.78 2.05 0 2.83L4 21.41c.39.39.9.59 1.41.59.51 0 1.02-.2 1.41-.59l7.78-7.78 2.81-2.81c.8-.78.8-2.07 0-2.86zM5.41 20L4 18.59l7.72-7.72 1.47 1.35L5.41 20z\"/>\n",
              "  </svg>\n",
              "      </button>\n",
              "\n",
              "\n",
              "\n",
              "    <div id=\"df-540918fa-cc79-4de7-9155-d38b09db18b4\">\n",
              "      <button class=\"colab-df-quickchart\" onclick=\"quickchart('df-540918fa-cc79-4de7-9155-d38b09db18b4')\"\n",
              "              title=\"Suggest charts.\"\n",
              "              style=\"display:none;\">\n",
              "\n",
              "<svg xmlns=\"http://www.w3.org/2000/svg\" height=\"24px\"viewBox=\"0 0 24 24\"\n",
              "     width=\"24px\">\n",
              "    <g>\n",
              "        <path d=\"M19 3H5c-1.1 0-2 .9-2 2v14c0 1.1.9 2 2 2h14c1.1 0 2-.9 2-2V5c0-1.1-.9-2-2-2zM9 17H7v-7h2v7zm4 0h-2V7h2v10zm4 0h-2v-4h2v4z\"/>\n",
              "    </g>\n",
              "</svg>\n",
              "      </button>\n",
              "    </div>\n",
              "\n",
              "<style>\n",
              "  .colab-df-quickchart {\n",
              "    background-color: #E8F0FE;\n",
              "    border: none;\n",
              "    border-radius: 50%;\n",
              "    cursor: pointer;\n",
              "    display: none;\n",
              "    fill: #1967D2;\n",
              "    height: 32px;\n",
              "    padding: 0 0 0 0;\n",
              "    width: 32px;\n",
              "  }\n",
              "\n",
              "  .colab-df-quickchart:hover {\n",
              "    background-color: #E2EBFA;\n",
              "    box-shadow: 0px 1px 2px rgba(60, 64, 67, 0.3), 0px 1px 3px 1px rgba(60, 64, 67, 0.15);\n",
              "    fill: #174EA6;\n",
              "  }\n",
              "\n",
              "  [theme=dark] .colab-df-quickchart {\n",
              "    background-color: #3B4455;\n",
              "    fill: #D2E3FC;\n",
              "  }\n",
              "\n",
              "  [theme=dark] .colab-df-quickchart:hover {\n",
              "    background-color: #434B5C;\n",
              "    box-shadow: 0px 1px 3px 1px rgba(0, 0, 0, 0.15);\n",
              "    filter: drop-shadow(0px 1px 2px rgba(0, 0, 0, 0.3));\n",
              "    fill: #FFFFFF;\n",
              "  }\n",
              "</style>\n",
              "\n",
              "    <script>\n",
              "      async function quickchart(key) {\n",
              "        const containerElement = document.querySelector('#' + key);\n",
              "        const charts = await google.colab.kernel.invokeFunction(\n",
              "            'suggestCharts', [key], {});\n",
              "      }\n",
              "    </script>\n",
              "\n",
              "      <script>\n",
              "\n",
              "function displayQuickchartButton(domScope) {\n",
              "  let quickchartButtonEl =\n",
              "    domScope.querySelector('#df-540918fa-cc79-4de7-9155-d38b09db18b4 button.colab-df-quickchart');\n",
              "  quickchartButtonEl.style.display =\n",
              "    google.colab.kernel.accessAllowed ? 'block' : 'none';\n",
              "}\n",
              "\n",
              "        displayQuickchartButton(document);\n",
              "      </script>\n",
              "      <style>\n",
              "    .colab-df-container {\n",
              "      display:flex;\n",
              "      flex-wrap:wrap;\n",
              "      gap: 12px;\n",
              "    }\n",
              "\n",
              "    .colab-df-convert {\n",
              "      background-color: #E8F0FE;\n",
              "      border: none;\n",
              "      border-radius: 50%;\n",
              "      cursor: pointer;\n",
              "      display: none;\n",
              "      fill: #1967D2;\n",
              "      height: 32px;\n",
              "      padding: 0 0 0 0;\n",
              "      width: 32px;\n",
              "    }\n",
              "\n",
              "    .colab-df-convert:hover {\n",
              "      background-color: #E2EBFA;\n",
              "      box-shadow: 0px 1px 2px rgba(60, 64, 67, 0.3), 0px 1px 3px 1px rgba(60, 64, 67, 0.15);\n",
              "      fill: #174EA6;\n",
              "    }\n",
              "\n",
              "    [theme=dark] .colab-df-convert {\n",
              "      background-color: #3B4455;\n",
              "      fill: #D2E3FC;\n",
              "    }\n",
              "\n",
              "    [theme=dark] .colab-df-convert:hover {\n",
              "      background-color: #434B5C;\n",
              "      box-shadow: 0px 1px 3px 1px rgba(0, 0, 0, 0.15);\n",
              "      filter: drop-shadow(0px 1px 2px rgba(0, 0, 0, 0.3));\n",
              "      fill: #FFFFFF;\n",
              "    }\n",
              "  </style>\n",
              "\n",
              "      <script>\n",
              "        const buttonEl =\n",
              "          document.querySelector('#df-7a540401-f0be-4d6d-b5df-b28f1ab7e40b button.colab-df-convert');\n",
              "        buttonEl.style.display =\n",
              "          google.colab.kernel.accessAllowed ? 'block' : 'none';\n",
              "\n",
              "        async function convertToInteractive(key) {\n",
              "          const element = document.querySelector('#df-7a540401-f0be-4d6d-b5df-b28f1ab7e40b');\n",
              "          const dataTable =\n",
              "            await google.colab.kernel.invokeFunction('convertToInteractive',\n",
              "                                                     [key], {});\n",
              "          if (!dataTable) return;\n",
              "\n",
              "          const docLinkHtml = 'Like what you see? Visit the ' +\n",
              "            '<a target=\"_blank\" href=https://colab.research.google.com/notebooks/data_table.ipynb>data table notebook</a>'\n",
              "            + ' to learn more about interactive tables.';\n",
              "          element.innerHTML = '';\n",
              "          dataTable['output_type'] = 'display_data';\n",
              "          await google.colab.output.renderOutput(dataTable, element);\n",
              "          const docLink = document.createElement('div');\n",
              "          docLink.innerHTML = docLinkHtml;\n",
              "          element.appendChild(docLink);\n",
              "        }\n",
              "      </script>\n",
              "    </div>\n",
              "  </div>\n"
            ]
          },
          "metadata": {},
          "execution_count": 36
        }
      ]
    },
    {
      "cell_type": "code",
      "source": [
        "# Helper function that converts text to lowercase and splits words into a list\n",
        "def process_email(text):\n",
        "  \"\"\"\n",
        "  Processes the given email text by converting it to lowercase, splitting it into words, and returning a list of unique words.\n",
        "\n",
        "  Parameters:\n",
        "  - text (str): The email text to be processed.\n",
        "\n",
        "  Returns:\n",
        "  - list: A list of unique words extracted from the email text.\n",
        "  \"\"\"\n",
        "  text = text.lower()\n",
        "  return list(set(text.split()))"
      ],
      "metadata": {
        "id": "y98jDEwgpktm"
      },
      "execution_count": 37,
      "outputs": []
    },
    {
      "cell_type": "code",
      "source": [
        "# Create an extra column with the text converted to a lower-cased list of words\n",
        "emails[\"words\"] = emails[\"text\"].apply(process_email)\n",
        "\n",
        "# Show the first 5 rows\n",
        "emails.head()"
      ],
      "metadata": {
        "id": "oo-BxiDdxnY8",
        "outputId": "a70f8844-8c90-4829-b76a-fbe04b0fec6c",
        "colab": {
          "base_uri": "https://localhost:8080/",
          "height": 206
        }
      },
      "execution_count": 38,
      "outputs": [
        {
          "output_type": "execute_result",
          "data": {
            "text/plain": [
              "                                                text  spam  \\\n",
              "0  Subject: naturally irresistible your corporate...     1   \n",
              "1  Subject: the stock trading gunslinger  fanny i...     1   \n",
              "2  Subject: unbelievable new homes made easy  im ...     1   \n",
              "3  Subject: 4 color printing special  request add...     1   \n",
              "4  Subject: do not have money , get software cds ...     1   \n",
              "\n",
              "                                               words  \n",
              "0  [_, structure, management, but, and, :, look, ...  \n",
              "1  [hawthorn, huzzah, sapling, hall, try, merrill...  \n",
              "2  [opportunity, advantage, credit, pre, at, home...  \n",
              "3  [advertisement, canyon, an, graphix, here, ord...  \n",
              "4  [', here, compatibility, money, have, ., all, ...  "
            ],
            "text/html": [
              "\n",
              "\n",
              "  <div id=\"df-3bd3cce5-ce94-4f87-a5b3-098a128287cc\">\n",
              "    <div class=\"colab-df-container\">\n",
              "      <div>\n",
              "<style scoped>\n",
              "    .dataframe tbody tr th:only-of-type {\n",
              "        vertical-align: middle;\n",
              "    }\n",
              "\n",
              "    .dataframe tbody tr th {\n",
              "        vertical-align: top;\n",
              "    }\n",
              "\n",
              "    .dataframe thead th {\n",
              "        text-align: right;\n",
              "    }\n",
              "</style>\n",
              "<table border=\"1\" class=\"dataframe\">\n",
              "  <thead>\n",
              "    <tr style=\"text-align: right;\">\n",
              "      <th></th>\n",
              "      <th>text</th>\n",
              "      <th>spam</th>\n",
              "      <th>words</th>\n",
              "    </tr>\n",
              "  </thead>\n",
              "  <tbody>\n",
              "    <tr>\n",
              "      <th>0</th>\n",
              "      <td>Subject: naturally irresistible your corporate...</td>\n",
              "      <td>1</td>\n",
              "      <td>[_, structure, management, but, and, :, look, ...</td>\n",
              "    </tr>\n",
              "    <tr>\n",
              "      <th>1</th>\n",
              "      <td>Subject: the stock trading gunslinger  fanny i...</td>\n",
              "      <td>1</td>\n",
              "      <td>[hawthorn, huzzah, sapling, hall, try, merrill...</td>\n",
              "    </tr>\n",
              "    <tr>\n",
              "      <th>2</th>\n",
              "      <td>Subject: unbelievable new homes made easy  im ...</td>\n",
              "      <td>1</td>\n",
              "      <td>[opportunity, advantage, credit, pre, at, home...</td>\n",
              "    </tr>\n",
              "    <tr>\n",
              "      <th>3</th>\n",
              "      <td>Subject: 4 color printing special  request add...</td>\n",
              "      <td>1</td>\n",
              "      <td>[advertisement, canyon, an, graphix, here, ord...</td>\n",
              "    </tr>\n",
              "    <tr>\n",
              "      <th>4</th>\n",
              "      <td>Subject: do not have money , get software cds ...</td>\n",
              "      <td>1</td>\n",
              "      <td>[', here, compatibility, money, have, ., all, ...</td>\n",
              "    </tr>\n",
              "  </tbody>\n",
              "</table>\n",
              "</div>\n",
              "      <button class=\"colab-df-convert\" onclick=\"convertToInteractive('df-3bd3cce5-ce94-4f87-a5b3-098a128287cc')\"\n",
              "              title=\"Convert this dataframe to an interactive table.\"\n",
              "              style=\"display:none;\">\n",
              "\n",
              "  <svg xmlns=\"http://www.w3.org/2000/svg\" height=\"24px\"viewBox=\"0 0 24 24\"\n",
              "       width=\"24px\">\n",
              "    <path d=\"M0 0h24v24H0V0z\" fill=\"none\"/>\n",
              "    <path d=\"M18.56 5.44l.94 2.06.94-2.06 2.06-.94-2.06-.94-.94-2.06-.94 2.06-2.06.94zm-11 1L8.5 8.5l.94-2.06 2.06-.94-2.06-.94L8.5 2.5l-.94 2.06-2.06.94zm10 10l.94 2.06.94-2.06 2.06-.94-2.06-.94-.94-2.06-.94 2.06-2.06.94z\"/><path d=\"M17.41 7.96l-1.37-1.37c-.4-.4-.92-.59-1.43-.59-.52 0-1.04.2-1.43.59L10.3 9.45l-7.72 7.72c-.78.78-.78 2.05 0 2.83L4 21.41c.39.39.9.59 1.41.59.51 0 1.02-.2 1.41-.59l7.78-7.78 2.81-2.81c.8-.78.8-2.07 0-2.86zM5.41 20L4 18.59l7.72-7.72 1.47 1.35L5.41 20z\"/>\n",
              "  </svg>\n",
              "      </button>\n",
              "\n",
              "\n",
              "\n",
              "    <div id=\"df-13001f7c-ba67-4b6f-a0b9-1751a4e6cca4\">\n",
              "      <button class=\"colab-df-quickchart\" onclick=\"quickchart('df-13001f7c-ba67-4b6f-a0b9-1751a4e6cca4')\"\n",
              "              title=\"Suggest charts.\"\n",
              "              style=\"display:none;\">\n",
              "\n",
              "<svg xmlns=\"http://www.w3.org/2000/svg\" height=\"24px\"viewBox=\"0 0 24 24\"\n",
              "     width=\"24px\">\n",
              "    <g>\n",
              "        <path d=\"M19 3H5c-1.1 0-2 .9-2 2v14c0 1.1.9 2 2 2h14c1.1 0 2-.9 2-2V5c0-1.1-.9-2-2-2zM9 17H7v-7h2v7zm4 0h-2V7h2v10zm4 0h-2v-4h2v4z\"/>\n",
              "    </g>\n",
              "</svg>\n",
              "      </button>\n",
              "    </div>\n",
              "\n",
              "<style>\n",
              "  .colab-df-quickchart {\n",
              "    background-color: #E8F0FE;\n",
              "    border: none;\n",
              "    border-radius: 50%;\n",
              "    cursor: pointer;\n",
              "    display: none;\n",
              "    fill: #1967D2;\n",
              "    height: 32px;\n",
              "    padding: 0 0 0 0;\n",
              "    width: 32px;\n",
              "  }\n",
              "\n",
              "  .colab-df-quickchart:hover {\n",
              "    background-color: #E2EBFA;\n",
              "    box-shadow: 0px 1px 2px rgba(60, 64, 67, 0.3), 0px 1px 3px 1px rgba(60, 64, 67, 0.15);\n",
              "    fill: #174EA6;\n",
              "  }\n",
              "\n",
              "  [theme=dark] .colab-df-quickchart {\n",
              "    background-color: #3B4455;\n",
              "    fill: #D2E3FC;\n",
              "  }\n",
              "\n",
              "  [theme=dark] .colab-df-quickchart:hover {\n",
              "    background-color: #434B5C;\n",
              "    box-shadow: 0px 1px 3px 1px rgba(0, 0, 0, 0.15);\n",
              "    filter: drop-shadow(0px 1px 2px rgba(0, 0, 0, 0.3));\n",
              "    fill: #FFFFFF;\n",
              "  }\n",
              "</style>\n",
              "\n",
              "    <script>\n",
              "      async function quickchart(key) {\n",
              "        const containerElement = document.querySelector('#' + key);\n",
              "        const charts = await google.colab.kernel.invokeFunction(\n",
              "            'suggestCharts', [key], {});\n",
              "      }\n",
              "    </script>\n",
              "\n",
              "      <script>\n",
              "\n",
              "function displayQuickchartButton(domScope) {\n",
              "  let quickchartButtonEl =\n",
              "    domScope.querySelector('#df-13001f7c-ba67-4b6f-a0b9-1751a4e6cca4 button.colab-df-quickchart');\n",
              "  quickchartButtonEl.style.display =\n",
              "    google.colab.kernel.accessAllowed ? 'block' : 'none';\n",
              "}\n",
              "\n",
              "        displayQuickchartButton(document);\n",
              "      </script>\n",
              "      <style>\n",
              "    .colab-df-container {\n",
              "      display:flex;\n",
              "      flex-wrap:wrap;\n",
              "      gap: 12px;\n",
              "    }\n",
              "\n",
              "    .colab-df-convert {\n",
              "      background-color: #E8F0FE;\n",
              "      border: none;\n",
              "      border-radius: 50%;\n",
              "      cursor: pointer;\n",
              "      display: none;\n",
              "      fill: #1967D2;\n",
              "      height: 32px;\n",
              "      padding: 0 0 0 0;\n",
              "      width: 32px;\n",
              "    }\n",
              "\n",
              "    .colab-df-convert:hover {\n",
              "      background-color: #E2EBFA;\n",
              "      box-shadow: 0px 1px 2px rgba(60, 64, 67, 0.3), 0px 1px 3px 1px rgba(60, 64, 67, 0.15);\n",
              "      fill: #174EA6;\n",
              "    }\n",
              "\n",
              "    [theme=dark] .colab-df-convert {\n",
              "      background-color: #3B4455;\n",
              "      fill: #D2E3FC;\n",
              "    }\n",
              "\n",
              "    [theme=dark] .colab-df-convert:hover {\n",
              "      background-color: #434B5C;\n",
              "      box-shadow: 0px 1px 3px 1px rgba(0, 0, 0, 0.15);\n",
              "      filter: drop-shadow(0px 1px 2px rgba(0, 0, 0, 0.3));\n",
              "      fill: #FFFFFF;\n",
              "    }\n",
              "  </style>\n",
              "\n",
              "      <script>\n",
              "        const buttonEl =\n",
              "          document.querySelector('#df-3bd3cce5-ce94-4f87-a5b3-098a128287cc button.colab-df-convert');\n",
              "        buttonEl.style.display =\n",
              "          google.colab.kernel.accessAllowed ? 'block' : 'none';\n",
              "\n",
              "        async function convertToInteractive(key) {\n",
              "          const element = document.querySelector('#df-3bd3cce5-ce94-4f87-a5b3-098a128287cc');\n",
              "          const dataTable =\n",
              "            await google.colab.kernel.invokeFunction('convertToInteractive',\n",
              "                                                     [key], {});\n",
              "          if (!dataTable) return;\n",
              "\n",
              "          const docLinkHtml = 'Like what you see? Visit the ' +\n",
              "            '<a target=\"_blank\" href=https://colab.research.google.com/notebooks/data_table.ipynb>data table notebook</a>'\n",
              "            + ' to learn more about interactive tables.';\n",
              "          element.innerHTML = '';\n",
              "          dataTable['output_type'] = 'display_data';\n",
              "          await google.colab.output.renderOutput(dataTable, element);\n",
              "          const docLink = document.createElement('div');\n",
              "          docLink.innerHTML = docLinkHtml;\n",
              "          element.appendChild(docLink);\n",
              "        }\n",
              "      </script>\n",
              "    </div>\n",
              "  </div>\n"
            ]
          },
          "metadata": {},
          "execution_count": 38
        }
      ]
    },
    {
      "cell_type": "markdown",
      "source": [
        "### One last Naive Bayes reminder"
      ],
      "metadata": {
        "id": "ubAXC-ehx-SZ"
      }
    },
    {
      "cell_type": "markdown",
      "source": [
        "Remember that supposing **class-conditional independence**, for a $x = (x_1, \\ldots x_n)$ in $X$:\n",
        "\n",
        "$$P(x \\mid C_{i}) = P(x_1 \\mid C_i) \\cdot P(x_2 \\mid C_i) \\cdot \\ldots \\cdot P(x_n \\mid C_i) = \\prod_{k = 1}^{n} P(x_k \\mid C_i).$$\n",
        "\n",
        "The probabilities $P(x_k\\mid C_i)$ can be estimated from the training tuples. The computation of $P(x_k \\mid C_i)$ depends on whether $x_k$ is categorical or not.\n",
        "\n",
        "If $x_k$ is categorical, then $P(x_k \\mid C_i)$ is the number of samples in $X$ that has attribute $x_k$ divided by the number of samples in class $C_i$.\n",
        "\n",
        "With this in mind, you need to know the number of times that each word appears in both spam and ham emails, as well as the number of samples for class. Your next two exercises will be about computing these values.\n",
        "\n",
        "**Note:** If you need some extra help for this implementation be sure to check out this amazing [tutorial](https://www.youtube.com/watch?v=Q8l0Vip5YUw) by your instructor Luis."
      ],
      "metadata": {
        "id": "n61TgIW1yAQ_"
      }
    },
    {
      "cell_type": "markdown",
      "source": [
        "### Exercise 8: Frequency of a word in each class"
      ],
      "metadata": {
        "id": "uvDjKI4RyGH3"
      }
    },
    {
      "cell_type": "markdown",
      "source": [
        "To compute the frequency of each word in the dataset you need to define the `word_freq_per_class` below. This function receives the email dataframe as input and should return a dictionary that has the words in the emails as keys and another dictionary that keeps track of how many times that word appeared in `spam` and `hams` emails as values. This dictionary should look like this:\n",
        "\n",
        "```python\n",
        "{'website': {'spam': 204, 'ham': 135},\n",
        " 'collaboration': {'spam': 28, 'ham': 34},\n",
        " 'logo': {'spam': 97, 'ham': 13},\n",
        " ...\n",
        "}\n",
        "```"
      ],
      "metadata": {
        "id": "IwjHsRBByH7g"
      }
    },
    {
      "cell_type": "code",
      "source": [],
      "metadata": {
        "id": "U8Q2NMbdyKqx"
      },
      "execution_count": null,
      "outputs": []
    }
  ]
}