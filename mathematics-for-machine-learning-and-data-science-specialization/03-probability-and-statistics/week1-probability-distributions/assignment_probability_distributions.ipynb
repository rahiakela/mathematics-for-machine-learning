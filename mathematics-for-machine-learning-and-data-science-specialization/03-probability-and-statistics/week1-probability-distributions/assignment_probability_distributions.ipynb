{
  "nbformat": 4,
  "nbformat_minor": 0,
  "metadata": {
    "colab": {
      "provenance": [],
      "toc_visible": true,
      "authorship_tag": "ABX9TyMFlornvLepvikdzFwT6mLf",
      "include_colab_link": true
    },
    "kernelspec": {
      "name": "python3",
      "display_name": "Python 3"
    },
    "language_info": {
      "name": "python"
    }
  },
  "cells": [
    {
      "cell_type": "markdown",
      "metadata": {
        "id": "view-in-github",
        "colab_type": "text"
      },
      "source": [
        "<a href=\"https://colab.research.google.com/github/rahiakela/mathematics-for-machine-learning/blob/main/mathematics-for-machine-learning-and-data-science-specialization/03-probability-and-statistics/week1-probability-distributions/assignment_probability_distributions.ipynb\" target=\"_parent\"><img src=\"https://colab.research.google.com/assets/colab-badge.svg\" alt=\"Open In Colab\"/></a>"
      ]
    },
    {
      "cell_type": "markdown",
      "source": [
        "## Probability Distributions"
      ],
      "metadata": {
        "id": "rMe95alMVM6u"
      }
    },
    {
      "cell_type": "markdown",
      "source": [
        "Data plays a central role in various fields, including Data Science and Machine Learning Engineering. As time progresses, data has become increasingly crucial for making informed decisions and developing innovative products. In this assignment, you will work with data that follows different probability distributions.\n",
        "\n",
        "**Sections**\n",
        "\n",
        "1. **Generating Data**: Learn how to generate data that follows specific probability distributions.\n",
        "\n",
        "2. **Naive Bayes Classifier (Continuous)**: Implement a Naive Bayes classifier for continuous data generated in Section 1.\n",
        "\n",
        "3. **Real-Life Problem (Spam Detection)**: Enhance the Naive Bayes implementation to address a real-life problem, specifically spam detection.\n"
      ],
      "metadata": {
        "id": "IzbJJ42TVNJA"
      }
    },
    {
      "cell_type": "markdown",
      "source": [
        "##Setup"
      ],
      "metadata": {
        "id": "q8Z6lEYsVqqQ"
      }
    },
    {
      "cell_type": "code",
      "source": [
        "!wget https://github.com/rahiakela/mathematics-for-machine-learning/raw/main/mathematics-for-machine-learning-and-data-science-specialization/03-probability-and-statistics/week1-probability-distributions/utils.py"
      ],
      "metadata": {
        "id": "a_PFwrd5Vrp4"
      },
      "execution_count": null,
      "outputs": []
    },
    {
      "cell_type": "code",
      "source": [
        "import numpy as np\n",
        "import pandas as pd\n",
        "import matplotlib.pyplot as plt\n",
        "\n",
        "import scipy\n",
        "from scipy.special import erfinv\n",
        "from scipy.stats import uniform, binom, norm\n",
        "from dataclasses import dataclass\n",
        "from sklearn.metrics import accuracy_score\n",
        "import pprint\n",
        "pp = pprint.PrettyPrinter()\n",
        "\n",
        "import utils\n",
        "from utils import (\n",
        "    estimate_gaussian_params,\n",
        "    estimate_binomial_params,\n",
        "    estimate_uniform_params\n",
        ")"
      ],
      "metadata": {
        "id": "VJDwucNpVwgQ"
      },
      "execution_count": 6,
      "outputs": []
    },
    {
      "cell_type": "markdown",
      "source": [
        "## Section 1: Generating Data from a Specific Distribution"
      ],
      "metadata": {
        "id": "A3K-b1e0X7rK"
      }
    },
    {
      "cell_type": "markdown",
      "source": [
        "Let's recap some concepts and formalize them to facilitate coding. Don't worry, you will be guided throughout the entire assignment!\n",
        "\n",
        "A random variable $X$ is a function that represents a random phenomenon, meaning its exact value cannot be determined. However, probabilities can be assigned to a set of possible values it can take. For example, if $X$ has a uniform distribution on $[2, 4]$, we cannot determine the exact value of $X$, but we can say with a probability of $1$ that the value lies between $[2, 4]$. We can also say that:\n",
        "\n",
        "$$P(X \\leq 3) = \\frac{1}{2}$$\n",
        "\n",
        "where $3$ is the midpoint of the interval $[2, 4]$. Therefore, you have learned that a random variable is associated with a function called the probability density function (pdf), which encodes the probability of the random variable falling within a given range. In other words, if $X$ is a continuous random variable and $f$ is its pdf, then:\n",
        "\n",
        "$$P(a \\leq X \\leq b) = \\text{Area of } f \\text{ between } a \\text{ and } b$$\n",
        "\n",
        "In the discrete case, $P(X = a) = f(a)$. In any case, $P(-\\infty < X < +\\infty) = 1$ because a random variable is assumed to output real numbers.\n",
        "\n",
        "Another function associated with a random variable is the cumulative distribution function (cdf), denoted as $F$. It represents the probability that a random variable $X$ will be less than or equal to $x$, for any $x \\in \\mathbb{R}$:\n",
        "\n",
        "$$F(x) := P(X \\leq x), \\quad \\forall x \\in \\mathbb{R}$$\n",
        "\n",
        "The cdf is a non-decreasing function and approaches $1$ as $x$ approaches infinity because it represents a probability and must yield a value between $0$ and $1$.\n",
        "\n",
        "In the lectures, you learned that if $X$ is a random variable with cdf $F$, then $F(X)$ follows a uniform distribution between $0$ and $1$. In other words, the new random variable $F(X)$ will be uniformly distributed between $0$ and $1$. This opens up the possibility of generating artificial data with any desired distribution, given that we know $F$. The process is as follows:\n",
        "\n",
        "1. Generate a random value $y$ uniformly from the interval $[0, 1]$.\n",
        "2. Compute $F^{-1}(y)$, which is the inverse function of $F$ evaluated at $y$.\n",
        "\n",
        "It can be shown that if $Y$ follows a uniform distribution between $0$ and $1$, then the random variable $F^{-1}(Y)$ has the same distribution as $X$.\n",
        "\n",
        "Therefore, by computing the inverse of $F$, you can generate artificial data from any known distribution! This is an incredibly powerful technique, isn't it?\n",
        "\n",
        "So far in the course, you have encountered three common probability distributions:\n",
        "- Uniform\n",
        "- Binomial\n",
        "- Gaussian\n",
        "\n",
        "In the first part of this assignment, you will code a random generator for each of the above distributions!"
      ],
      "metadata": {
        "id": "mPe0B91dX8r_"
      }
    },
    {
      "cell_type": "markdown",
      "source": [
        "### Exercise 1: Uniform Generator"
      ],
      "metadata": {
        "id": "iu9jbDoJYBPa"
      }
    },
    {
      "cell_type": "markdown",
      "source": [
        "The natural first step is to create a function capable of generating random data that comes from the uniform distribution. You will not be coding a [pseudo-random number generator](https://en.wikipedia.org/wiki/Pseudorandom_number_generator) (this is outside the scope of this assignment) but instead you will use a predefined function that handles this for you. If you are unsure where you can find such a function take a look at the [numpy.random.uniform](https://numpy.org/doc/stable/reference/random/generated/numpy.random.uniform.html) function."
      ],
      "metadata": {
        "id": "yFg0mtu8pRol"
      }
    },
    {
      "cell_type": "code",
      "source": [
        "def uniform_generator(a, b, num_samples=100):\n",
        "  \"\"\"\n",
        "  Generates an array of uniformly distributed random numbers within the specified range.\n",
        "\n",
        "  Parameters:\n",
        "  - a (float): The lower bound of the range.\n",
        "  - b (float): The upper bound of the range.\n",
        "  - num_samples (int): The number of samples to generate (default: 100).\n",
        "\n",
        "  Returns:\n",
        "  - array (ndarray): An array of random numbers sampled uniformly from the range [a, b).\n",
        "  \"\"\"\n",
        "  np.random.seed(42)\n",
        "\n",
        "  ### START CODE HERE ###\n",
        "  X = np.random.uniform(a, b, num_samples)\n",
        "  ### END CODE HERE ###\n",
        "\n",
        "  return X"
      ],
      "metadata": {
        "id": "azdGAIeHpnIg"
      },
      "execution_count": 3,
      "outputs": []
    },
    {
      "cell_type": "code",
      "source": [
        "print(f\"6 randomly generated values between 0 and 1:\\n{np.array2string(uniform_generator(0, 1, num_samples=6), precision=3)}\\n\")\n",
        "print(f\"3 randomly generated values between 20 and 55:\\n{np.array2string(uniform_generator(20, 55, num_samples=3), precision=3)}\\n\")\n",
        "print(f\"1 randomly generated value between 0 and 100:\\n{np.array2string(uniform_generator(0, 100, num_samples=1), precision=3)}\")"
      ],
      "metadata": {
        "id": "4k7wTovQqCNg",
        "outputId": "ee19d9d9-127f-41d0-9ffa-3045c4a2a837",
        "colab": {
          "base_uri": "https://localhost:8080/"
        }
      },
      "execution_count": 4,
      "outputs": [
        {
          "output_type": "stream",
          "name": "stdout",
          "text": [
            "6 randomly generated values between 0 and 1:\n",
            "[0.375 0.951 0.732 0.599 0.156 0.156]\n",
            "\n",
            "3 randomly generated values between 20 and 55:\n",
            "[33.109 53.275 45.62 ]\n",
            "\n",
            "1 randomly generated value between 0 and 100:\n",
            "[37.454]\n"
          ]
        }
      ]
    },
    {
      "cell_type": "markdown",
      "source": [
        "**__Expected Output__**\n",
        "\n",
        "```\n",
        "6 randomly generated values between 0 and 1:\n",
        "[0.375 0.951 0.732 0.599 0.156 0.156]\n",
        "\n",
        "3 randomly generated values between 20 and 55:\n",
        "[33.109 53.275 45.62 ]\n",
        "\n",
        "1 randomly generated value between 0 and 100:\n",
        "[37.454]\n",
        "```"
      ],
      "metadata": {
        "id": "LAa7vhoxqaVg"
      }
    },
    {
      "cell_type": "markdown",
      "source": [
        "### Exercise 2:  Gaussian Generator"
      ],
      "metadata": {
        "id": "Bhb_9EQ-qtqw"
      }
    },
    {
      "cell_type": "markdown",
      "source": [
        "With your uniform data generator ready, you can go ahead and create generators for the other distributions. In order to do this you will need the inverse `CDF` for the distribution you wish to create data for."
      ],
      "metadata": {
        "id": "SYtWeJrbqug4"
      }
    },
    {
      "cell_type": "markdown",
      "source": [
        "#### 2.1 Inverse CDF - Gaussian"
      ],
      "metadata": {
        "id": "RRjl-e-aqwnV"
      }
    },
    {
      "cell_type": "markdown",
      "source": [
        "Let's start with a Normal Distribution generator. Usually, closed forms for CDFs are hard to obtain because they involve computing areas, which can be challenging.\n",
        "\n",
        "In the Gaussian distribution, the closed formula uses a function called the Gaussian error function, denoted as $\\text{erf}(x)$. However, you don't need to implement it or its inverse for this assignment. These functions are important in statistics, and there are many libraries available that provide their implementations.\n",
        "\n",
        "For instance, you can use [scipy.special.erf](https://docs.scipy.org/doc/scipy/reference/generated/scipy.special.erf.html) and [scipy.special.erfinv](https://docs.scipy.org/doc/scipy/reference/generated/scipy.special.erfinv.html#scipy.special.erfinv) to compute the erf function and its inverse. Alternatively, you can find an implementation of the erf function in [math.erf](https://docs.python.org/3/library/math.html#math.erf) from the Python math library.\n",
        "\n",
        "If $X \\sim N(\\mu, \\sigma)$, then the CDF $F(x)$ can be expressed as:\n",
        "\n",
        "$$y = F(x) = \\frac{1}{2} \\left[ 1 + \\text{erf}\\left( \\frac{x - \\mu}{\\sigma \\sqrt{2}} \\right) \\right].$$\n",
        "\n",
        "With some simple calculations and denoting ${\\text{erf}}^{-1}$ as the inverse of the $\\text{erf}$ function, it can be shown that:\n",
        "\n",
        "$$x = F^{-1}(y) = \\sigma \\sqrt{2} \\cdot \\text{erf}^{-1}(2y - 1) + \\mu.$$"
      ],
      "metadata": {
        "id": "qSRY-V_yqzCI"
      }
    },
    {
      "cell_type": "code",
      "source": [
        "def inverse_cdf_gaussian(y, mu, sigma):\n",
        "  \"\"\"\n",
        "  Calculates the inverse cumulative distribution function (CDF) of a Gaussian distribution.\n",
        "\n",
        "  Parameters:\n",
        "  - y (float or ndarray): The probability or array of probabilities.\n",
        "  - mu (float): The mean of the Gaussian distribution.\n",
        "  - sigma (float): The standard deviation of the Gaussian distribution.\n",
        "\n",
        "  Returns:\n",
        "  - x (float or ndarray): The corresponding value(s) from the Gaussian distribution that correspond to the given probability/ies.\n",
        "  \"\"\"\n",
        "  ### START CODE HERE ###\n",
        "  x = mu + scipy.special.erfinv(2 * y - 1) * sigma * (2 ** 0.5)\n",
        "  ### END CODE HERE ###\n",
        "  return x"
      ],
      "metadata": {
        "id": "q4Crm7P2q1sl"
      },
      "execution_count": 8,
      "outputs": []
    },
    {
      "cell_type": "code",
      "source": [
        "# Test your function\n",
        "print(f\"Inverse of Gaussian CDF with mu {15} and sigma {5} for value {1e-10}: {inverse_cdf_gaussian(1e-10, 15, 5):.3f}\")\n",
        "print(f\"Inverse of Gaussian CDF with mu {15} and sigma {5} for value {0}: {inverse_cdf_gaussian(0, 15, 5)}\")\n",
        "print(f\"Inverse of Gaussian CDF with mu {20} and sigma {0.5} for value {0.4}: {inverse_cdf_gaussian(0.4, 20, 0.5):.3f}\")\n",
        "print(f\"Inverse of Gaussian CDF with mu {15} and sigma {5} for value {1}: {inverse_cdf_gaussian(1, 15, 5)}\")"
      ],
      "metadata": {
        "id": "cA3DnFUxsMX_",
        "outputId": "e7c4847a-33ff-4367-e77f-6ac11746da4e",
        "colab": {
          "base_uri": "https://localhost:8080/"
        }
      },
      "execution_count": 9,
      "outputs": [
        {
          "output_type": "stream",
          "name": "stdout",
          "text": [
            "Inverse of Gaussian CDF with mu 15 and sigma 5 for value 1e-10: -16.807\n",
            "Inverse of Gaussian CDF with mu 15 and sigma 5 for value 0: -inf\n",
            "Inverse of Gaussian CDF with mu 20 and sigma 0.5 for value 0.4: 19.873\n",
            "Inverse of Gaussian CDF with mu 15 and sigma 5 for value 1: inf\n"
          ]
        }
      ]
    },
    {
      "cell_type": "markdown",
      "source": [
        "**__Expected Output__**\n",
        "\n",
        "```\n",
        "Inverse of Gaussian CDF with mu 15 and sigma 5 for value 1e-10: -16.807\n",
        "Inverse of Gaussian CDF with mu 15 and sigma 5 for value 0: -inf\n",
        "Inverse of Gaussian CDF with mu 20 and sigma 0.5 for value 0.4: 19.873\n",
        "Inverse of Gaussian CDF with mu 15 and sigma 5 for value 1: inf\n",
        "```"
      ],
      "metadata": {
        "id": "wfA9SmnqsvsA"
      }
    },
    {
      "cell_type": "markdown",
      "source": [
        "#### 2.2 Gaussian Generator"
      ],
      "metadata": {
        "id": "Qnw0Idm3sygd"
      }
    },
    {
      "cell_type": "markdown",
      "source": [
        "Now that you have all the necessary information, you can create a generator for data that follows a Gaussian distribution with a specified $\\mu$ and $\\sigma$. Similar to the generator for uniformly distributed data, the `gaussian_generator` function should allow you to specify the number of samples to generate. **Make sure to utilize the functions you have defined earlier in the assignment.**"
      ],
      "metadata": {
        "id": "ds_MKuESs1GL"
      }
    },
    {
      "cell_type": "code",
      "source": [
        "def gaussian_generator(mu, sigma, num_samples):\n",
        "  ### START CODE HERE ###\n",
        "  # Generate an array with num_samples elements that distribute uniformally between 0 and 1\n",
        "  uniform_dist = uniform_generator(0, 1, num_samples)\n",
        "\n",
        "  # Use the uniform-distributed sample to generate Gaussian-distributed data\n",
        "  # Hint: You need to sample from the inverse of the CDF of the distribution you are generating\n",
        "  X = inverse_cdf_gaussian(uniform_dist, mu, sigma)\n",
        "  ### END CODE HERE ###\n",
        "  return X"
      ],
      "metadata": {
        "id": "cMKZwgHFs3me"
      },
      "execution_count": 10,
      "outputs": []
    },
    {
      "cell_type": "code",
      "source": [
        "# Test your function\n",
        "gaussian_0 = gaussian_generator(0, 1, 1000)\n",
        "gaussian_1 = gaussian_generator(5, 3, 1000)\n",
        "gaussian_2 = gaussian_generator(10, 5, 1000)\n",
        "\n",
        "utils.plot_gaussian_distributions(gaussian_0, gaussian_1, gaussian_2)"
      ],
      "metadata": {
        "id": "oXdOIr2K-Whi",
        "outputId": "d8b25101-f9ac-4a56-d648-3b98dd6c8626",
        "colab": {
          "base_uri": "https://localhost:8080/",
          "height": 410
        }
      },
      "execution_count": 11,
      "outputs": [
        {
          "output_type": "display_data",
          "data": {
            "text/plain": [
              "<Figure size 1000x400 with 1 Axes>"
            ],
            "image/png": "[encoded data removed]"
          },
          "metadata": {}
        }
      ]
    },
    {
      "cell_type": "markdown",
      "source": [
        "**__Expected Output__**\n",
        "\n",
        "<img src=\"https://github.com/rahiakela/mathematics-for-machine-learning/blob/main/mathematics-for-machine-learning-and-data-science-specialization/03-probability-and-statistics/week1-probability-distributions/images/gaussian.png?raw=1\" style=\"height: 300px;\"/>\n"
      ],
      "metadata": {
        "id": "IGJm2e8T-kL-"
      }
    },
    {
      "cell_type": "markdown",
      "source": [
        "### Exercise 3: Binomial Generator"
      ],
      "metadata": {
        "id": "pO9OI-Wk-uIz"
      }
    },
    {
      "cell_type": "markdown",
      "source": [
        "#### 3.1 Inverse CDF - Binomial"
      ],
      "metadata": {
        "id": "iIjIhwiT-u5i"
      }
    },
    {
      "cell_type": "markdown",
      "source": [
        "If $X \\sim \\text{Binomial}(n,p)$, then its PDF is given by:\n",
        "\n",
        "$$P(X = k) = {n \\choose k}p^{k}(1-p)^{n-k}.$$\n",
        "\n",
        "Therefore, if $0 \\leq x \\leq n$, its CDF is given by:\n",
        "\n",
        "$$F(x) = P(X \\leq x) = P(X = 0) + P(X = 1) + \\ldots + P(X = \\lfloor x \\rfloor) = \\sum_{k=0}^{\\lfloor x \\rfloor} {n \\choose k}p^{k}(1-p)^{n-k}.$$\n",
        "\n",
        "Here, $\\lfloor x \\rfloor$ denotes the [floor function](https://en.wikipedia.org/wiki/Floor_and_ceiling_functions), which returns the greatest integer less than or equal to $x$. For example, $\\lfloor 2.9 \\rfloor = 2$ and $\\lfloor 1.2 \\rfloor = 1$. This function is necessary because the domain of $F$ is the entire set of real numbers, but $P(X = k)$ is non-zero only for positive integer values.\n",
        "\n",
        "If $x > n$, then $F(x) = 1$. It is important to note that the expression for $F(x)$ can become complex and messy, and there is no closed-form expression for the inverse function $F^{-1}$ in this case. However, statistical libraries provide implementations of the inverse CDF using [generalized quantile functions](https://en.wikipedia.org/wiki/Cumulative_distribution_function#Inverse_distribution_function_.28quantile_function.29). You can refer to [scipy.stats.binom](https://docs.scipy.org/doc/scipy/reference/generated/scipy.stats.binom.html) for an example of a library that implements these functions. In particular, the `scipy.stats.binom.ppf` function is what you need. Since the `binom` class is already imported, you can use `help(binom)` to explore its parameters and functions. The function you will need is located in the \"Methods\" section: `ppf`.\n"
      ],
      "metadata": {
        "id": "4DHAGPw3-yrG"
      }
    },
    {
      "cell_type": "code",
      "source": [],
      "metadata": {
        "id": "6SGZ0LBy-1WW"
      },
      "execution_count": null,
      "outputs": []
    },
    {
      "cell_type": "markdown",
      "source": [],
      "metadata": {
        "id": "pj3YjeAe-mny"
      }
    }
  ]
}