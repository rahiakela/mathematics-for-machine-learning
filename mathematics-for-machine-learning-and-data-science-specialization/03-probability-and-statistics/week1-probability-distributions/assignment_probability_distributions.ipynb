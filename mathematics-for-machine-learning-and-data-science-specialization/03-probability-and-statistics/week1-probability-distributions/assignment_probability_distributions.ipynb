{
  "nbformat": 4,
  "nbformat_minor": 0,
  "metadata": {
    "colab": {
      "provenance": [],
      "toc_visible": true,
      "authorship_tag": "ABX9TyO+jzSiiANaO9rDHK5twXHt",
      "include_colab_link": true
    },
    "kernelspec": {
      "name": "python3",
      "display_name": "Python 3"
    },
    "language_info": {
      "name": "python"
    }
  },
  "cells": [
    {
      "cell_type": "markdown",
      "metadata": {
        "id": "view-in-github",
        "colab_type": "text"
      },
      "source": [
        "<a href=\"https://colab.research.google.com/github/rahiakela/mathematics-for-machine-learning/blob/main/mathematics-for-machine-learning-and-data-science-specialization/03-probability-and-statistics/week1-probability-distributions/assignment_probability_distributions.ipynb\" target=\"_parent\"><img src=\"https://colab.research.google.com/assets/colab-badge.svg\" alt=\"Open In Colab\"/></a>"
      ]
    },
    {
      "cell_type": "markdown",
      "source": [
        "## Probability Distributions"
      ],
      "metadata": {
        "id": "rMe95alMVM6u"
      }
    },
    {
      "cell_type": "markdown",
      "source": [
        "Data plays a central role in various fields, including Data Science and Machine Learning Engineering. As time progresses, data has become increasingly crucial for making informed decisions and developing innovative products. In this assignment, you will work with data that follows different probability distributions.\n",
        "\n",
        "**Sections**\n",
        "\n",
        "1. **Generating Data**: Learn how to generate data that follows specific probability distributions.\n",
        "\n",
        "2. **Naive Bayes Classifier (Continuous)**: Implement a Naive Bayes classifier for continuous data generated in Section 1.\n",
        "\n",
        "3. **Real-Life Problem (Spam Detection)**: Enhance the Naive Bayes implementation to address a real-life problem, specifically spam detection.\n"
      ],
      "metadata": {
        "id": "IzbJJ42TVNJA"
      }
    },
    {
      "cell_type": "markdown",
      "source": [
        "##Setup"
      ],
      "metadata": {
        "id": "q8Z6lEYsVqqQ"
      }
    },
    {
      "cell_type": "code",
      "source": [
        "!wget https://github.com/rahiakela/mathematics-for-machine-learning/raw/main/mathematics-for-machine-learning-and-data-science-specialization/03-probability-and-statistics/week1-probability-and-probability-distributions/utils.py"
      ],
      "metadata": {
        "id": "a_PFwrd5Vrp4"
      },
      "execution_count": null,
      "outputs": []
    },
    {
      "cell_type": "code",
      "source": [
        "import numpy as np\n",
        "import pandas as pd\n",
        "import matplotlib.pyplot as plt\n",
        "\n",
        "from scipy.special import erfinv\n",
        "from scipy.stats import uniform, binom, norm\n",
        "from dataclasses import dataclass\n",
        "from sklearn.metrics import accuracy_score\n",
        "import pprint\n",
        "pp = pprint.PrettyPrinter()\n",
        "\n",
        "import utils\n",
        "from utils import (\n",
        "    estimate_gaussian_params,\n",
        "    estimate_binomial_params,\n",
        "    estimate_uniform_params\n",
        ")"
      ],
      "metadata": {
        "id": "VJDwucNpVwgQ"
      },
      "execution_count": null,
      "outputs": []
    },
    {
      "cell_type": "markdown",
      "source": [
        "## Section 1: Generating Data from a Specific Distribution"
      ],
      "metadata": {
        "id": "A3K-b1e0X7rK"
      }
    },
    {
      "cell_type": "markdown",
      "source": [
        "Let's recap some concepts and formalize them to facilitate coding. Don't worry, you will be guided throughout the entire assignment!\n",
        "\n",
        "A random variable $X$ is a function that represents a random phenomenon, meaning its exact value cannot be determined. However, probabilities can be assigned to a set of possible values it can take. For example, if $X$ has a uniform distribution on $[2, 4]$, we cannot determine the exact value of $X$, but we can say with a probability of $1$ that the value lies between $[2, 4]$. We can also say that:\n",
        "\n",
        "$$P(X \\leq 3) = \\frac{1}{2}$$\n",
        "\n",
        "where $3$ is the midpoint of the interval $[2, 4]$. Therefore, you have learned that a random variable is associated with a function called the probability density function (pdf), which encodes the probability of the random variable falling within a given range. In other words, if $X$ is a continuous random variable and $f$ is its pdf, then:\n",
        "\n",
        "$$P(a \\leq X \\leq b) = \\text{Area of } f \\text{ between } a \\text{ and } b$$\n",
        "\n",
        "In the discrete case, $P(X = a) = f(a)$. In any case, $P(-\\infty < X < +\\infty) = 1$ because a random variable is assumed to output real numbers.\n",
        "\n",
        "Another function associated with a random variable is the cumulative distribution function (cdf), denoted as $F$. It represents the probability that a random variable $X$ will be less than or equal to $x$, for any $x \\in \\mathbb{R}$:\n",
        "\n",
        "$$F(x) := P(X \\leq x), \\quad \\forall x \\in \\mathbb{R}$$\n",
        "\n",
        "The cdf is a non-decreasing function and approaches $1$ as $x$ approaches infinity because it represents a probability and must yield a value between $0$ and $1$.\n",
        "\n",
        "In the lectures, you learned that if $X$ is a random variable with cdf $F$, then $F(X)$ follows a uniform distribution between $0$ and $1$. In other words, the new random variable $F(X)$ will be uniformly distributed between $0$ and $1$. This opens up the possibility of generating artificial data with any desired distribution, given that we know $F$. The process is as follows:\n",
        "\n",
        "1. Generate a random value $y$ uniformly from the interval $[0, 1]$.\n",
        "2. Compute $F^{-1}(y)$, which is the inverse function of $F$ evaluated at $y$.\n",
        "\n",
        "It can be shown that if $Y$ follows a uniform distribution between $0$ and $1$, then the random variable $F^{-1}(Y)$ has the same distribution as $X$.\n",
        "\n",
        "Therefore, by computing the inverse of $F$, you can generate artificial data from any known distribution! This is an incredibly powerful technique, isn't it?\n",
        "\n",
        "So far in the course, you have encountered three common probability distributions:\n",
        "- Uniform\n",
        "- Binomial\n",
        "- Gaussian\n",
        "\n",
        "In the first part of this assignment, you will code a random generator for each of the above distributions!"
      ],
      "metadata": {
        "id": "mPe0B91dX8r_"
      }
    },
    {
      "cell_type": "markdown",
      "source": [],
      "metadata": {
        "id": "iu9jbDoJYBPa"
      }
    }
  ]
}