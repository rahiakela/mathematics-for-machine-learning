{
  "nbformat": 4,
  "nbformat_minor": 0,
  "metadata": {
    "colab": {
      "provenance": [],
      "toc_visible": true,
      "authorship_tag": "ABX9TyMWtPcTJWKVBqdM3EeZz9Bg",
      "include_colab_link": true
    },
    "kernelspec": {
      "name": "python3",
      "display_name": "Python 3"
    },
    "language_info": {
      "name": "python"
    }
  },
  "cells": [
    {
      "cell_type": "markdown",
      "metadata": {
        "id": "view-in-github",
        "colab_type": "text"
      },
      "source": [
        "<a href=\"https://colab.research.google.com/github/rahiakela/mathematics-for-machine-learning/blob/main/mathematics-for-machine-learning-and-data-science-specialization/01-learning-linear-algebra/week1-system-of-linear-equations/01_introduction_to_numpy_arrays.ipynb\" target=\"_parent\"><img src=\"https://colab.research.google.com/assets/colab-badge.svg\" alt=\"Open In Colab\"/></a>"
      ]
    },
    {
      "cell_type": "markdown",
      "source": [
        "## Introduction to Python Matrices and NumPy"
      ],
      "metadata": {
        "id": "HpwpVK-Wd6CN"
      }
    },
    {
      "cell_type": "markdown",
      "source": [
        "Welcome to your first notebook of this specialization! In this notebook, you will use NumPy to create 2-D arrays and easily compute mathematical operations. NumPy (Numerical Python) is an open-source package that is widely used in science and engineering. Feel fre to skip this notebook, if you are already fluent with NumPy.\n",
        "\n",
        "**After this assignment you will be able to:**\n",
        "- Use Jupyter Notebook and its features. \n",
        "- Use NumPy functions to create arrays and NumPy array operations. \n",
        "- Use indexing, and slicing for 2-D arrays.\n",
        "- Find the shape of an array, reshape, and stack horizontally and vertically.\n",
        "\n",
        "**Instructions**\n",
        "- You will be using Python 3.\n",
        "- Follow along the cells using `Shift`+`Enter`. Alternatively, you can press `Run` in the menu. \n",
        "\n",
        "**Table of Contents**\n",
        "\n",
        "- [1 - Basics of NumPy](#1)\n",
        "    - [1.1 - Packages](#1-1)\n",
        "    - [1.2 - Advantages of using NumPy arrays](#1-2)\n",
        "    - [1.3 - How to create NumPy arrays](#1-3)\n",
        "    - [1.4 - More NumPy Arrays](#1-4)\n",
        "- [2 - Multi-dimensional Arrays](#2)\n",
        "    - [2.1 - Finding size, shape, dimension](#2-1)\n",
        "- [3 - Array Math Operations](#3)\n",
        "    - [3.1 - Multiplying vector with a scalar (broadcasting)](#3-1)\n",
        "- [4 - Indexing and Slicing](#4)\n",
        "    - [4.1 - Indexing](#4-1)\n",
        "    - [4.2 - Slicing](#4-2)\n",
        "- [5 - Stacking](#5)\n",
        "- [6 - Exercises](#6)"
      ],
      "metadata": {
        "id": "1RK4GspWd6mF"
      }
    },
    {
      "cell_type": "markdown",
      "source": [
        "##Setup"
      ],
      "metadata": {
        "id": "omFt9kbFeOJG"
      }
    },
    {
      "cell_type": "code",
      "source": [
        "import numpy as np\n",
        "\n",
        "import ipywidgets as widgets"
      ],
      "metadata": {
        "id": "wZbRHHs5ePg5"
      },
      "execution_count": 1,
      "outputs": []
    },
    {
      "cell_type": "markdown",
      "source": [
        "<a name='1'></a>\n",
        "## 1 - NumPy Basics #"
      ],
      "metadata": {
        "id": "SuErilUAfw3X"
      }
    },
    {
      "cell_type": "markdown",
      "source": [
        "NumPy is the main package for scientific computing in Python. It performs a wide variety of advanced mathematical operations with high efficiency. In this practice lab you will learn several key NumPy functions that will help you in future assignments, such as creating arrays, slicing, indexing, reshaping, and stacking."
      ],
      "metadata": {
        "id": "BQX6ncHYgeAJ"
      }
    },
    {
      "cell_type": "markdown",
      "source": [
        "<a name='1-1'></a>\n",
        "### 1.1 - Packages ##"
      ],
      "metadata": {
        "id": "lBM2ZXssgouk"
      }
    },
    {
      "cell_type": "markdown",
      "source": [
        "Before you get started, you have to import NumPy to load its functions. As you may notice, even though there is no expected output, when you run this cell, the Jupyter Notebook will have imported the package (often referred to as the library) and its functions. "
      ],
      "metadata": {
        "id": "VshO3JCTgp3I"
      }
    },
    {
      "cell_type": "markdown",
      "source": [
        "<a name='1-2'></a>\n",
        "### 1.2 - Advantages of using NumPy arrays ##"
      ],
      "metadata": {
        "id": "PRpdS8jSgvvP"
      }
    },
    {
      "cell_type": "markdown",
      "source": [
        "Arrays are one of the core data structures of the NumPy library, essential for organizing your data. You can think of them as a grid of values, all of the same type. If you have used Python lists before, you may remember that they are convenient, as you can store different data types. However, Python lists are limited in functions and take up more space and time than NumPy arrays.\n",
        "\n",
        "NumPy provides an array object that is much faster and more compact than Python lists. Through its extensive API integration, the library offers many built-in functions that make computing much easier in only a few lines of code. This can be a huge advantage when performing math operations on large data. \n",
        "\n",
        "The array object in NumPy is called `ndarray` meaning 'n-dimensional array'. To begin with, you will use one of the most common array types: the one-dimensional array ('1-D'). A 1-D array represents a standard list of values entirely in one dimension. Remember that in NumPy, all of the elements within the array are of the same type."
      ],
      "metadata": {
        "id": "hUFRob41gxt0"
      }
    },
    {
      "cell_type": "code",
      "source": [
        "one_d_array = np.array([10, 12])\n",
        "print(one_d_array)"
      ],
      "metadata": {
        "id": "jUZIqjzKg3KX",
        "outputId": "65668110-71a3-48fd-8624-28032254564b",
        "colab": {
          "base_uri": "https://localhost:8080/"
        }
      },
      "execution_count": 2,
      "outputs": [
        {
          "output_type": "stream",
          "name": "stdout",
          "text": [
            "[10 12]\n"
          ]
        }
      ]
    },
    {
      "cell_type": "markdown",
      "source": [
        "<a name='1-3'></a>\n",
        "### 1.3 - How to create NumPy arrays ##"
      ],
      "metadata": {
        "id": "xdt7Alxfiw7B"
      }
    },
    {
      "cell_type": "markdown",
      "source": [
        "There are several ways to create an array in NumPy. You can create a 1-D array by simply using the function `array()` which takes in a list of values as an argument, and returns a 1-D array."
      ],
      "metadata": {
        "id": "IwYSkYI0iyH9"
      }
    },
    {
      "cell_type": "code",
      "source": [
        "# Create and print a numpy array 'a' containing the elements 1, 2, 3.\n",
        "a = np.array([1, 2, 3])\n",
        "print(a)"
      ],
      "metadata": {
        "id": "b-ijJ_Qki09M",
        "outputId": "d4104e1e-ea35-4351-b81e-eb3af21d1070",
        "colab": {
          "base_uri": "https://localhost:8080/"
        }
      },
      "execution_count": 3,
      "outputs": [
        {
          "output_type": "stream",
          "name": "stdout",
          "text": [
            "[1 2 3]\n"
          ]
        }
      ]
    },
    {
      "cell_type": "markdown",
      "source": [
        "Another way to implement an array is using `numpy.arange()`. This function will return an array of evenly spaced values within a given interval. \n",
        "\n",
        "To learn more about the arguments that this function takes, there is a powerful Jupyter Notebooks feature that allows you to access any function's documentation by simply pressing `shift+tab` on your keyboard when clicking on the function. Give it a try for the built-in documentation of `arange()`. "
      ],
      "metadata": {
        "id": "WVdo5htEjBlk"
      }
    },
    {
      "cell_type": "code",
      "source": [
        "# Create an array with 3 elements, starting from default number 0.\n",
        "b = np.arange(3)\n",
        "print(b)"
      ],
      "metadata": {
        "id": "aVF60PZYjDQn",
        "outputId": "4d12faf1-4366-4084-e45b-5e972924ac8a",
        "colab": {
          "base_uri": "https://localhost:8080/"
        }
      },
      "execution_count": 4,
      "outputs": [
        {
          "output_type": "stream",
          "name": "stdout",
          "text": [
            "[0 1 2]\n"
          ]
        }
      ]
    },
    {
      "cell_type": "code",
      "source": [
        "# Create an array that starts from integer 1, ends at 20, incremented by 3.\n",
        "c = np.arange(1, 20, 3)\n",
        "print(c)"
      ],
      "metadata": {
        "id": "tIKdFYHIjcOD",
        "outputId": "29d68492-d1d5-40fd-aae2-6aad36573cc3",
        "colab": {
          "base_uri": "https://localhost:8080/"
        }
      },
      "execution_count": 5,
      "outputs": [
        {
          "output_type": "stream",
          "name": "stdout",
          "text": [
            "[ 1  4  7 10 13 16 19]\n"
          ]
        }
      ]
    },
    {
      "cell_type": "markdown",
      "source": [
        "What if you wanted to create an array with five evenly spaced values in the interval from 0 to 100? \n",
        "\n",
        "As you may notice, here you have 3 parameters that the array should take. The start is the number 0, the end is number 100, and 5 is the number of the elements. NumPy has a function that allows you to do specifically this by using `numpy.linspace()`."
      ],
      "metadata": {
        "id": "TEleiowmjlNw"
      }
    },
    {
      "cell_type": "code",
      "source": [
        "lin_spaced_arr = np.linspace(0, 100, 5)\n",
        "print(lin_spaced_arr)"
      ],
      "metadata": {
        "id": "zaLbspQ9j2Zd",
        "outputId": "9ab6a183-4686-4b14-f55e-5f7b4cce4b27",
        "colab": {
          "base_uri": "https://localhost:8080/"
        }
      },
      "execution_count": 6,
      "outputs": [
        {
          "output_type": "stream",
          "name": "stdout",
          "text": [
            "[  0.  25.  50.  75. 100.]\n"
          ]
        }
      ]
    },
    {
      "cell_type": "markdown",
      "source": [
        "Did you notice that the output of the function is presented in the float value form (e.g. \"0. 25. \")? The reason is that the default type for values in the numpy function is a floating point (`np.float64`). You can easily specify your data type using `dtype`. If you accessed the built-in documentation of the functions, you may have noticed that most functions take in an optional parameter `dtype`. In addition to float, Numpy has several other data types such as 'int', and 'char'. \n",
        "\n",
        "To change the type to integers, you need to set the dtype to `int`. You can do so, even with the previous functions. Feel free to try it out and modify the cells to output your prefered data type. "
      ],
      "metadata": {
        "id": "YEK_jyp7kRXu"
      }
    },
    {
      "cell_type": "code",
      "source": [
        "lin_spaced_arr_int = np.linspace(0, 100, 5, dtype=int)\n",
        "print(lin_spaced_arr_int)"
      ],
      "metadata": {
        "id": "IbcEIKClkRyQ",
        "outputId": "2238c5ed-40f2-49d3-d95f-8e17186873f1",
        "colab": {
          "base_uri": "https://localhost:8080/"
        }
      },
      "execution_count": 7,
      "outputs": [
        {
          "output_type": "stream",
          "name": "stdout",
          "text": [
            "[  0  25  50  75 100]\n"
          ]
        }
      ]
    },
    {
      "cell_type": "code",
      "source": [
        "c_int = np.arange(0, 20, 3, dtype=int)\n",
        "print(c_int)"
      ],
      "metadata": {
        "id": "FuNx_GlJtqfk",
        "outputId": "7e476ac1-62e9-472b-a358-7ad2074a4ca8",
        "colab": {
          "base_uri": "https://localhost:8080/"
        }
      },
      "execution_count": 8,
      "outputs": [
        {
          "output_type": "stream",
          "name": "stdout",
          "text": [
            "[ 0  3  6  9 12 15 18]\n"
          ]
        }
      ]
    },
    {
      "cell_type": "code",
      "source": [
        "b_float = np.arange(3, dtype=float)\n",
        "print(b_float)"
      ],
      "metadata": {
        "id": "vzeX-MvKt3CG",
        "outputId": "f7919010-b7dd-47e5-f341-65f24faba781",
        "colab": {
          "base_uri": "https://localhost:8080/"
        }
      },
      "execution_count": 9,
      "outputs": [
        {
          "output_type": "stream",
          "name": "stdout",
          "text": [
            "[0. 1. 2.]\n"
          ]
        }
      ]
    },
    {
      "cell_type": "code",
      "source": [
        "char_arr = np.array(['Welcome to Math for ML!'])\n",
        "print(char_arr)\n",
        "print(char_arr.dtype) # Prints the data type of the array"
      ],
      "metadata": {
        "id": "yNwhgE39t6Y_",
        "outputId": "69bb1c56-32ee-4c7e-91a5-3f26498eefae",
        "colab": {
          "base_uri": "https://localhost:8080/"
        }
      },
      "execution_count": 10,
      "outputs": [
        {
          "output_type": "stream",
          "name": "stdout",
          "text": [
            "['Welcome to Math for ML!']\n",
            "<U23\n"
          ]
        }
      ]
    },
    {
      "cell_type": "markdown",
      "source": [
        "Did you notice that the output of the data type of the `char_arr` array is `<U23`? \n",
        "This means that the string (`'Welcome to Math for ML!'`) is less than a 23-character (23) unicode string (`U`) on a little-endian architecture. You can learn more about data types [here](https://docs.scipy.org/doc/numpy-1.13.0/reference/arrays.dtypes.html)."
      ],
      "metadata": {
        "id": "A99ks6_It7Db"
      }
    },
    {
      "cell_type": "markdown",
      "source": [
        "<a name='1-4'></a>\n",
        "### 1.4 - More NumPy Arrays ##"
      ],
      "metadata": {
        "id": "ui1XKM-cuBjz"
      }
    },
    {
      "cell_type": "markdown",
      "source": [
        "One of the advantages of using NumPy is that you can easily create arrays with built-in functions such as: \n",
        "- `numpy.ones()` - Returns a new array setting values to one.\n",
        "- `numpy.zeros()` - Returns a new array setting values to zero.\n",
        "- `numpy.empty()` - Returns a new uninitialized array. \n",
        "- `numpy.random.rand()` - Returns a new array with values chosen at random."
      ],
      "metadata": {
        "id": "MxBzNUDFuE8j"
      }
    },
    {
      "cell_type": "code",
      "source": [
        "# Return a new array with 3 elements of 1. \n",
        "ones_arr = np.ones(3)\n",
        "print(ones_arr)"
      ],
      "metadata": {
        "id": "8CUFyLqvuG7y",
        "outputId": "7fba94d5-abc7-42c0-db75-887659ed354c",
        "colab": {
          "base_uri": "https://localhost:8080/"
        }
      },
      "execution_count": 11,
      "outputs": [
        {
          "output_type": "stream",
          "name": "stdout",
          "text": [
            "[1. 1. 1.]\n"
          ]
        }
      ]
    },
    {
      "cell_type": "code",
      "source": [
        "# Return a new array with 3 elements of 0.\n",
        "zeros_arr = np.zeros(3)\n",
        "print(zeros_arr)"
      ],
      "metadata": {
        "id": "EUImq_Texane",
        "outputId": "dad7e66d-263a-438c-9bf7-fb1d848b87e2",
        "colab": {
          "base_uri": "https://localhost:8080/"
        }
      },
      "execution_count": 12,
      "outputs": [
        {
          "output_type": "stream",
          "name": "stdout",
          "text": [
            "[0. 0. 0.]\n"
          ]
        }
      ]
    },
    {
      "cell_type": "code",
      "source": [
        "# Return a new array with 3 elements without initializing entries\n",
        "empt_arr = np.empty(3)\n",
        "print(empt_arr)"
      ],
      "metadata": {
        "id": "E2koK_9xxfIW",
        "outputId": "5fd39f39-b9e6-4f79-9bbe-b4103d94f390",
        "colab": {
          "base_uri": "https://localhost:8080/"
        }
      },
      "execution_count": 13,
      "outputs": [
        {
          "output_type": "stream",
          "name": "stdout",
          "text": [
            "[0. 0. 0.]\n"
          ]
        }
      ]
    },
    {
      "cell_type": "code",
      "source": [
        "# Return a new array with 3 elements between 0 and 1 chosen at random.\n",
        "rand_arr = np.random.rand(3)\n",
        "print(rand_arr)"
      ],
      "metadata": {
        "id": "D42dKvyNxoD-",
        "outputId": "3c87f19e-4df0-4230-97ae-a2a09e77a53b",
        "colab": {
          "base_uri": "https://localhost:8080/"
        }
      },
      "execution_count": 14,
      "outputs": [
        {
          "output_type": "stream",
          "name": "stdout",
          "text": [
            "[0.38060508 0.98151197 0.20237761]\n"
          ]
        }
      ]
    },
    {
      "cell_type": "markdown",
      "source": [
        "<a name='2'></a>\n",
        "## 2 - Multidimensional Arrays #"
      ],
      "metadata": {
        "id": "qvwpmxdCyLhB"
      }
    },
    {
      "cell_type": "markdown",
      "source": [
        "With NumPy you can also create arrays with more than one dimension. In the above examples, you encountered 1-D arrays, where you can access their elements using a single index. A multidimensional array has more than one column. \n",
        "\n",
        "Think of a multidimensional array as an excel sheet where each row/column represents a dimension.\n",
        "\n",
        "![](https://github.com/rahiakela/mathematics-for-machine-learning/blob/main/mathematics-for-machine-learning-and-data-science-specialization/01-learning-linear-algebra/week1-system-of-linear-equations/images/download.png?raw=1)"
      ],
      "metadata": {
        "id": "3A8Emz5vyNQl"
      }
    },
    {
      "cell_type": "code",
      "source": [
        "# Create a 2 dimensional array (2-D)\n",
        "two_dim_arr = np.array([\n",
        "  [1, 2, 3],\n",
        "  [4, 5, 6]\n",
        "])\n",
        "print(two_dim_arr)"
      ],
      "metadata": {
        "id": "bK-_Bfpyz6Hr",
        "outputId": "96114377-67d9-49d8-eae8-b9dfc97c0fd7",
        "colab": {
          "base_uri": "https://localhost:8080/"
        }
      },
      "execution_count": 15,
      "outputs": [
        {
          "output_type": "stream",
          "name": "stdout",
          "text": [
            "[[1 2 3]\n",
            " [4 5 6]]\n"
          ]
        }
      ]
    },
    {
      "cell_type": "markdown",
      "source": [
        "An alternative way to create a multidimensional array is by reshaping the initial 1-D array. \n",
        "\n",
        "Using `numpy.reshape()` you can rearrange elements of the previous array into a new shape. "
      ],
      "metadata": {
        "id": "ekbOnkzc19sS"
      }
    },
    {
      "cell_type": "code",
      "source": [
        "# 1-D array \n",
        "one_dim_arr = np.array([1, 2, 3, 4, 5, 6])\n",
        "\n",
        "# Multi-dimensional array using reshape()\n",
        "multi_dim_arr = np.reshape(one_dim_arr,  # the array to be reshaped\n",
        "                           (2, 3))       # dimensions of the new array\n",
        "print(multi_dim_arr)"
      ],
      "metadata": {
        "id": "iA_OrLQz1_HA",
        "outputId": "09f6646e-e5ef-4990-c90a-3456de9ab1ea",
        "colab": {
          "base_uri": "https://localhost:8080/"
        }
      },
      "execution_count": 16,
      "outputs": [
        {
          "output_type": "stream",
          "name": "stdout",
          "text": [
            "[[1 2 3]\n",
            " [4 5 6]]\n"
          ]
        }
      ]
    },
    {
      "cell_type": "markdown",
      "source": [
        "<a name='2-1'></a>\n",
        "### 2.1 - Finding size, shape, dimension. ##"
      ],
      "metadata": {
        "id": "hK8SyAa12eqQ"
      }
    },
    {
      "cell_type": "markdown",
      "source": [
        "In the future assignments, you will need to know how to find the size, dimension and shape of an array. Using the NumPy built-in functions you can easily identify the followings:\n",
        "- `ndarray.ndim()` - Returns the number of array dimensions. \n",
        "- `ndarray.shape()` - Returns the shape of the array. Each number in the tuple denotes the lengths of each corresponding dimension.\n",
        "- `ndarray.size()` - Counts the number of elements along a given axis. Returns the size of the array.\n"
      ],
      "metadata": {
        "id": "1rRqCZw92f2U"
      }
    },
    {
      "cell_type": "code",
      "source": [
        "# Dimension of the 2-D array multi_dim_arr\n",
        "multi_dim_arr.ndim"
      ],
      "metadata": {
        "id": "2BQw4W3t2oXG",
        "outputId": "9a4f587c-a3be-4afd-d097-8db6fb33b6d8",
        "colab": {
          "base_uri": "https://localhost:8080/"
        }
      },
      "execution_count": 17,
      "outputs": [
        {
          "output_type": "execute_result",
          "data": {
            "text/plain": [
              "2"
            ]
          },
          "metadata": {},
          "execution_count": 17
        }
      ]
    },
    {
      "cell_type": "code",
      "source": [
        "# Shape of the 2-D array multi_dim_arr\n",
        "# Returns shape of 2 rows and 3 columns\n",
        "multi_dim_arr.shape"
      ],
      "metadata": {
        "id": "JQSa7ZkP2uvg",
        "outputId": "5bad534b-c99b-4fb7-8ab4-fa451990ea57",
        "colab": {
          "base_uri": "https://localhost:8080/"
        }
      },
      "execution_count": 18,
      "outputs": [
        {
          "output_type": "execute_result",
          "data": {
            "text/plain": [
              "(2, 3)"
            ]
          },
          "metadata": {},
          "execution_count": 18
        }
      ]
    },
    {
      "cell_type": "code",
      "source": [
        "# Size of the array multi_dim_arr\n",
        "# Returns total number of elements\n",
        "multi_dim_arr.size"
      ],
      "metadata": {
        "id": "PPd5AfAq2zrJ",
        "outputId": "7aa91507-bbcd-45f2-d7ea-a688ffd7c4ea",
        "colab": {
          "base_uri": "https://localhost:8080/"
        }
      },
      "execution_count": 20,
      "outputs": [
        {
          "output_type": "execute_result",
          "data": {
            "text/plain": [
              "6"
            ]
          },
          "metadata": {},
          "execution_count": 20
        }
      ]
    },
    {
      "cell_type": "markdown",
      "source": [
        "<a name='3'></a>\n",
        "## 3 - Array Math Operations #"
      ],
      "metadata": {
        "id": "EKyMO2IL289r"
      }
    },
    {
      "cell_type": "markdown",
      "source": [
        "In this section, you will see that NumPy allows you to quickly perform elementwise addition, substraction, multiplication and division for both 1-D and multidimensional arrays, also known as matrices. The operations are done using the math symbol for each '+', '-', '*'. \n",
        "\n",
        "Recall that addition of python lists works completely differently as it would add (append) two lists together, thus making a longer list, while subtraction and multiplication of python lists do not work. "
      ],
      "metadata": {
        "id": "RQ8w8CD_2-Hg"
      }
    },
    {
      "cell_type": "code",
      "source": [],
      "metadata": {
        "id": "kghFwa153BXu"
      },
      "execution_count": null,
      "outputs": []
    }
  ]
}