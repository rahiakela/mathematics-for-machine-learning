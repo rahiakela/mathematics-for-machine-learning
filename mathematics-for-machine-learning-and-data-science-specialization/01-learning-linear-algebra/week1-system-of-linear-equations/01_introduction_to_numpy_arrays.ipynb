{
  "nbformat": 4,
  "nbformat_minor": 0,
  "metadata": {
    "colab": {
      "provenance": [],
      "toc_visible": true,
      "authorship_tag": "ABX9TyPLNnmtOpWPVs3Aa4ADP7wY",
      "include_colab_link": true
    },
    "kernelspec": {
      "name": "python3",
      "display_name": "Python 3"
    },
    "language_info": {
      "name": "python"
    }
  },
  "cells": [
    {
      "cell_type": "markdown",
      "metadata": {
        "id": "view-in-github",
        "colab_type": "text"
      },
      "source": [
        "<a href=\"https://colab.research.google.com/github/rahiakela/mathematics-for-machine-learning/blob/main/mathematics-for-machine-learning-and-data-science-specialization/01-learning-linear-algebra/week1-system-of-linear-equations/01_introduction_to_numpy_arrays.ipynb\" target=\"_parent\"><img src=\"https://colab.research.google.com/assets/colab-badge.svg\" alt=\"Open In Colab\"/></a>"
      ]
    },
    {
      "cell_type": "markdown",
      "source": [
        "## Introduction to Python Matrices and NumPy"
      ],
      "metadata": {
        "id": "HpwpVK-Wd6CN"
      }
    },
    {
      "cell_type": "markdown",
      "source": [
        "Welcome to your first notebook of this specialization! In this notebook, you will use NumPy to create 2-D arrays and easily compute mathematical operations. NumPy (Numerical Python) is an open-source package that is widely used in science and engineering. Feel fre to skip this notebook, if you are already fluent with NumPy.\n",
        "\n",
        "**After this assignment you will be able to:**\n",
        "- Use Jupyter Notebook and its features. \n",
        "- Use NumPy functions to create arrays and NumPy array operations. \n",
        "- Use indexing, and slicing for 2-D arrays.\n",
        "- Find the shape of an array, reshape, and stack horizontally and vertically.\n",
        "\n",
        "**Instructions**\n",
        "- You will be using Python 3.\n",
        "- Follow along the cells using `Shift`+`Enter`. Alternatively, you can press `Run` in the menu. \n",
        "\n",
        "**Table of Contents**\n",
        "\n",
        "- [1 - Basics of NumPy](#1)\n",
        "    - [1.1 - Packages](#1-1)\n",
        "    - [1.2 - Advantages of using NumPy arrays](#1-2)\n",
        "    - [1.3 - How to create NumPy arrays](#1-3)\n",
        "    - [1.4 - More NumPy Arrays](#1-4)\n",
        "- [2 - Multi-dimensional Arrays](#2)\n",
        "    - [2.1 - Finding size, shape, dimension](#2-1)\n",
        "- [3 - Array Math Operations](#3)\n",
        "    - [3.1 - Multiplying vector with a scalar (broadcasting)](#3-1)\n",
        "- [4 - Indexing and Slicing](#4)\n",
        "    - [4.1 - Indexing](#4-1)\n",
        "    - [4.2 - Slicing](#4-2)\n",
        "- [5 - Stacking](#5)\n",
        "- [6 - Exercises](#6)"
      ],
      "metadata": {
        "id": "1RK4GspWd6mF"
      }
    },
    {
      "cell_type": "markdown",
      "source": [
        "##Setup"
      ],
      "metadata": {
        "id": "omFt9kbFeOJG"
      }
    },
    {
      "cell_type": "code",
      "source": [
        "import numpy as np\n",
        "\n",
        "import quiz\n",
        "import ipywidgets as widgets"
      ],
      "metadata": {
        "id": "wZbRHHs5ePg5"
      },
      "execution_count": null,
      "outputs": []
    }
  ]
}