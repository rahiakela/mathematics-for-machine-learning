{
  "nbformat": 4,
  "nbformat_minor": 0,
  "metadata": {
    "colab": {
      "provenance": [],
      "toc_visible": true,
      "authorship_tag": "ABX9TyOubRp/ILW1YMt5+Y4nazpg",
      "include_colab_link": true
    },
    "kernelspec": {
      "name": "python3",
      "display_name": "Python 3"
    },
    "language_info": {
      "name": "python"
    }
  },
  "cells": [
    {
      "cell_type": "markdown",
      "metadata": {
        "id": "view-in-github",
        "colab_type": "text"
      },
      "source": [
        "<a href=\"https://colab.research.google.com/github/rahiakela/mathematics-for-machine-learning/blob/main/mathematics-for-machine-learning-and-data-science-specialization/01-learning-linear-algebra/week1-system-of-linear-equations/01_introduction_to_numpy_arrays.ipynb\" target=\"_parent\"><img src=\"https://colab.research.google.com/assets/colab-badge.svg\" alt=\"Open In Colab\"/></a>"
      ]
    },
    {
      "cell_type": "markdown",
      "source": [
        "## Introduction to Python Matrices and NumPy"
      ],
      "metadata": {
        "id": "HpwpVK-Wd6CN"
      }
    },
    {
      "cell_type": "markdown",
      "source": [
        "Welcome to your first notebook of this specialization! In this notebook, you will use NumPy to create 2-D arrays and easily compute mathematical operations. NumPy (Numerical Python) is an open-source package that is widely used in science and engineering. Feel fre to skip this notebook, if you are already fluent with NumPy.\n",
        "\n",
        "**After this assignment you will be able to:**\n",
        "- Use Jupyter Notebook and its features. \n",
        "- Use NumPy functions to create arrays and NumPy array operations. \n",
        "- Use indexing, and slicing for 2-D arrays.\n",
        "- Find the shape of an array, reshape, and stack horizontally and vertically.\n",
        "\n",
        "**Instructions**\n",
        "- You will be using Python 3.\n",
        "- Follow along the cells using `Shift`+`Enter`. Alternatively, you can press `Run` in the menu. \n",
        "\n",
        "**Table of Contents**\n",
        "\n",
        "- [1 - Basics of NumPy](#1)\n",
        "    - [1.1 - Packages](#1-1)\n",
        "    - [1.2 - Advantages of using NumPy arrays](#1-2)\n",
        "    - [1.3 - How to create NumPy arrays](#1-3)\n",
        "    - [1.4 - More NumPy Arrays](#1-4)\n",
        "- [2 - Multi-dimensional Arrays](#2)\n",
        "    - [2.1 - Finding size, shape, dimension](#2-1)\n",
        "- [3 - Array Math Operations](#3)\n",
        "    - [3.1 - Multiplying vector with a scalar (broadcasting)](#3-1)\n",
        "- [4 - Indexing and Slicing](#4)\n",
        "    - [4.1 - Indexing](#4-1)\n",
        "    - [4.2 - Slicing](#4-2)\n",
        "- [5 - Stacking](#5)\n",
        "- [6 - Exercises](#6)"
      ],
      "metadata": {
        "id": "1RK4GspWd6mF"
      }
    },
    {
      "cell_type": "markdown",
      "source": [
        "##Setup"
      ],
      "metadata": {
        "id": "omFt9kbFeOJG"
      }
    },
    {
      "cell_type": "code",
      "source": [
        "import numpy as np\n",
        "\n",
        "import ipywidgets as widgets"
      ],
      "metadata": {
        "id": "wZbRHHs5ePg5"
      },
      "execution_count": 1,
      "outputs": []
    },
    {
      "cell_type": "markdown",
      "source": [
        "<a name='1'></a>\n",
        "## 1 - NumPy Basics #"
      ],
      "metadata": {
        "id": "SuErilUAfw3X"
      }
    },
    {
      "cell_type": "markdown",
      "source": [
        "NumPy is the main package for scientific computing in Python. It performs a wide variety of advanced mathematical operations with high efficiency. In this practice lab you will learn several key NumPy functions that will help you in future assignments, such as creating arrays, slicing, indexing, reshaping, and stacking."
      ],
      "metadata": {
        "id": "BQX6ncHYgeAJ"
      }
    },
    {
      "cell_type": "markdown",
      "source": [
        "<a name='1-1'></a>\n",
        "### 1.1 - Packages ##"
      ],
      "metadata": {
        "id": "lBM2ZXssgouk"
      }
    },
    {
      "cell_type": "markdown",
      "source": [
        "Before you get started, you have to import NumPy to load its functions. As you may notice, even though there is no expected output, when you run this cell, the Jupyter Notebook will have imported the package (often referred to as the library) and its functions. "
      ],
      "metadata": {
        "id": "VshO3JCTgp3I"
      }
    },
    {
      "cell_type": "markdown",
      "source": [
        "<a name='1-2'></a>\n",
        "### 1.2 - Advantages of using NumPy arrays ##"
      ],
      "metadata": {
        "id": "PRpdS8jSgvvP"
      }
    },
    {
      "cell_type": "markdown",
      "source": [
        "Arrays are one of the core data structures of the NumPy library, essential for organizing your data. You can think of them as a grid of values, all of the same type. If you have used Python lists before, you may remember that they are convenient, as you can store different data types. However, Python lists are limited in functions and take up more space and time than NumPy arrays.\n",
        "\n",
        "NumPy provides an array object that is much faster and more compact than Python lists. Through its extensive API integration, the library offers many built-in functions that make computing much easier in only a few lines of code. This can be a huge advantage when performing math operations on large data. \n",
        "\n",
        "The array object in NumPy is called `ndarray` meaning 'n-dimensional array'. To begin with, you will use one of the most common array types: the one-dimensional array ('1-D'). A 1-D array represents a standard list of values entirely in one dimension. Remember that in NumPy, all of the elements within the array are of the same type."
      ],
      "metadata": {
        "id": "hUFRob41gxt0"
      }
    },
    {
      "cell_type": "code",
      "source": [
        "one_d_array = np.array([10, 12])\n",
        "print(one_d_array)"
      ],
      "metadata": {
        "id": "jUZIqjzKg3KX",
        "outputId": "9854eaaf-7ef3-441b-ac53-03825b943f60",
        "colab": {
          "base_uri": "https://localhost:8080/"
        }
      },
      "execution_count": 2,
      "outputs": [
        {
          "output_type": "stream",
          "name": "stdout",
          "text": [
            "[10 12]\n"
          ]
        }
      ]
    },
    {
      "cell_type": "markdown",
      "source": [
        "<a name='1-3'></a>\n",
        "### 1.3 - How to create NumPy arrays ##"
      ],
      "metadata": {
        "id": "xdt7Alxfiw7B"
      }
    },
    {
      "cell_type": "markdown",
      "source": [
        "There are several ways to create an array in NumPy. You can create a 1-D array by simply using the function `array()` which takes in a list of values as an argument, and returns a 1-D array."
      ],
      "metadata": {
        "id": "IwYSkYI0iyH9"
      }
    },
    {
      "cell_type": "code",
      "source": [
        "# Create and print a numpy array 'a' containing the elements 1, 2, 3.\n",
        "a = np.array([1, 2, 3])\n",
        "print(a)"
      ],
      "metadata": {
        "id": "b-ijJ_Qki09M",
        "outputId": "85583046-fb5d-45df-ae0d-9ac5e0f59753",
        "colab": {
          "base_uri": "https://localhost:8080/"
        }
      },
      "execution_count": 3,
      "outputs": [
        {
          "output_type": "stream",
          "name": "stdout",
          "text": [
            "[1 2 3]\n"
          ]
        }
      ]
    },
    {
      "cell_type": "markdown",
      "source": [
        "Another way to implement an array is using `numpy.arange()`. This function will return an array of evenly spaced values within a given interval. \n",
        "\n",
        "To learn more about the arguments that this function takes, there is a powerful Jupyter Notebooks feature that allows you to access any function's documentation by simply pressing `shift+tab` on your keyboard when clicking on the function. Give it a try for the built-in documentation of `arange()`. "
      ],
      "metadata": {
        "id": "WVdo5htEjBlk"
      }
    },
    {
      "cell_type": "code",
      "source": [
        "# Create an array with 3 elements, starting from default number 0.\n",
        "b = np.arange(3)\n",
        "print(b)"
      ],
      "metadata": {
        "id": "aVF60PZYjDQn",
        "outputId": "b425a538-941d-435b-d280-04af9c209c71",
        "colab": {
          "base_uri": "https://localhost:8080/"
        }
      },
      "execution_count": 4,
      "outputs": [
        {
          "output_type": "stream",
          "name": "stdout",
          "text": [
            "[0 1 2]\n"
          ]
        }
      ]
    },
    {
      "cell_type": "code",
      "source": [
        "# Create an array that starts from integer 1, ends at 20, incremented by 3.\n",
        "c = np.arange(1, 20, 3)\n",
        "print(c)"
      ],
      "metadata": {
        "id": "tIKdFYHIjcOD",
        "outputId": "29694e99-b919-4f8d-fe5a-46e0e6a95861",
        "colab": {
          "base_uri": "https://localhost:8080/"
        }
      },
      "execution_count": 5,
      "outputs": [
        {
          "output_type": "stream",
          "name": "stdout",
          "text": [
            "[ 1  4  7 10 13 16 19]\n"
          ]
        }
      ]
    },
    {
      "cell_type": "markdown",
      "source": [
        "What if you wanted to create an array with five evenly spaced values in the interval from 0 to 100? \n",
        "\n",
        "As you may notice, here you have 3 parameters that the array should take. The start is the number 0, the end is number 100, and 5 is the number of the elements. NumPy has a function that allows you to do specifically this by using `numpy.linspace()`."
      ],
      "metadata": {
        "id": "TEleiowmjlNw"
      }
    },
    {
      "cell_type": "code",
      "source": [
        "lin_spaced_arr = np.linspace(0, 100, 5)\n",
        "print(lin_spaced_arr)"
      ],
      "metadata": {
        "id": "zaLbspQ9j2Zd",
        "outputId": "df7f51ef-2069-42c1-88d7-d59a106ec522",
        "colab": {
          "base_uri": "https://localhost:8080/"
        }
      },
      "execution_count": 6,
      "outputs": [
        {
          "output_type": "stream",
          "name": "stdout",
          "text": [
            "[  0.  25.  50.  75. 100.]\n"
          ]
        }
      ]
    },
    {
      "cell_type": "markdown",
      "source": [
        "Did you notice that the output of the function is presented in the float value form (e.g. \"0. 25. \")? The reason is that the default type for values in the numpy function is a floating point (`np.float64`). You can easily specify your data type using `dtype`. If you accessed the built-in documentation of the functions, you may have noticed that most functions take in an optional parameter `dtype`. In addition to float, Numpy has several other data types such as 'int', and 'char'. \n",
        "\n",
        "To change the type to integers, you need to set the dtype to `int`. You can do so, even with the previous functions. Feel free to try it out and modify the cells to output your prefered data type. "
      ],
      "metadata": {
        "id": "YEK_jyp7kRXu"
      }
    },
    {
      "cell_type": "code",
      "source": [
        "lin_spaced_arr_int = np.linspace(0, 100, 5, dtype=int)\n",
        "print(lin_spaced_arr_int)"
      ],
      "metadata": {
        "id": "IbcEIKClkRyQ",
        "outputId": "6b31187a-8e80-4393-b9ef-51746d0fcd76",
        "colab": {
          "base_uri": "https://localhost:8080/"
        }
      },
      "execution_count": 7,
      "outputs": [
        {
          "output_type": "stream",
          "name": "stdout",
          "text": [
            "[  0  25  50  75 100]\n"
          ]
        }
      ]
    },
    {
      "cell_type": "code",
      "source": [
        "c_int = np.arange(0, 20, 3, dtype=int)\n",
        "print(c_int)"
      ],
      "metadata": {
        "id": "FuNx_GlJtqfk",
        "outputId": "762d36dd-c8f7-43c2-abc8-e9683f263aaa",
        "colab": {
          "base_uri": "https://localhost:8080/"
        }
      },
      "execution_count": 8,
      "outputs": [
        {
          "output_type": "stream",
          "name": "stdout",
          "text": [
            "[ 0  3  6  9 12 15 18]\n"
          ]
        }
      ]
    },
    {
      "cell_type": "code",
      "source": [
        "b_float = np.arange(3, dtype=float)\n",
        "print(b_float)"
      ],
      "metadata": {
        "id": "vzeX-MvKt3CG",
        "outputId": "7c6f5b6d-abdb-4470-e2a3-3cca1af1f3c3",
        "colab": {
          "base_uri": "https://localhost:8080/"
        }
      },
      "execution_count": 9,
      "outputs": [
        {
          "output_type": "stream",
          "name": "stdout",
          "text": [
            "[0. 1. 2.]\n"
          ]
        }
      ]
    },
    {
      "cell_type": "code",
      "source": [
        "char_arr = np.array(['Welcome to Math for ML!'])\n",
        "print(char_arr)\n",
        "print(char_arr.dtype) # Prints the data type of the array"
      ],
      "metadata": {
        "id": "yNwhgE39t6Y_",
        "outputId": "6b74e78d-3a0e-43a9-ff40-7dd2f277de3a",
        "colab": {
          "base_uri": "https://localhost:8080/"
        }
      },
      "execution_count": 10,
      "outputs": [
        {
          "output_type": "stream",
          "name": "stdout",
          "text": [
            "['Welcome to Math for ML!']\n",
            "<U23\n"
          ]
        }
      ]
    },
    {
      "cell_type": "markdown",
      "source": [
        "Did you notice that the output of the data type of the `char_arr` array is `<U23`? \n",
        "This means that the string (`'Welcome to Math for ML!'`) is less than a 23-character (23) unicode string (`U`) on a little-endian architecture. You can learn more about data types [here](https://docs.scipy.org/doc/numpy-1.13.0/reference/arrays.dtypes.html)."
      ],
      "metadata": {
        "id": "A99ks6_It7Db"
      }
    },
    {
      "cell_type": "markdown",
      "source": [
        "<a name='1-4'></a>\n",
        "### 1.4 - More NumPy Arrays ##"
      ],
      "metadata": {
        "id": "ui1XKM-cuBjz"
      }
    },
    {
      "cell_type": "markdown",
      "source": [
        "One of the advantages of using NumPy is that you can easily create arrays with built-in functions such as: \n",
        "- `numpy.ones()` - Returns a new array setting values to one.\n",
        "- `numpy.zeros()` - Returns a new array setting values to zero.\n",
        "- `numpy.empty()` - Returns a new uninitialized array. \n",
        "- `numpy.random.rand()` - Returns a new array with values chosen at random."
      ],
      "metadata": {
        "id": "MxBzNUDFuE8j"
      }
    },
    {
      "cell_type": "code",
      "source": [
        "# Return a new array with 3 elements of 1. \n",
        "ones_arr = np.ones(3)\n",
        "print(ones_arr)"
      ],
      "metadata": {
        "id": "8CUFyLqvuG7y",
        "outputId": "4ba215cb-be6a-40a1-8935-66437636dfeb",
        "colab": {
          "base_uri": "https://localhost:8080/"
        }
      },
      "execution_count": 11,
      "outputs": [
        {
          "output_type": "stream",
          "name": "stdout",
          "text": [
            "[1. 1. 1.]\n"
          ]
        }
      ]
    },
    {
      "cell_type": "code",
      "source": [
        "# Return a new array with 3 elements of 0.\n",
        "zeros_arr = np.zeros(3)\n",
        "print(zeros_arr)"
      ],
      "metadata": {
        "id": "EUImq_Texane",
        "outputId": "65d7fda9-5e80-4589-c295-a205ed6803e6",
        "colab": {
          "base_uri": "https://localhost:8080/"
        }
      },
      "execution_count": 12,
      "outputs": [
        {
          "output_type": "stream",
          "name": "stdout",
          "text": [
            "[0. 0. 0.]\n"
          ]
        }
      ]
    },
    {
      "cell_type": "code",
      "source": [
        "# Return a new array with 3 elements without initializing entries\n",
        "empt_arr = np.empty(3)\n",
        "print(empt_arr)"
      ],
      "metadata": {
        "id": "E2koK_9xxfIW",
        "outputId": "7eaf7a4a-4caa-44b6-d32a-a69944288667",
        "colab": {
          "base_uri": "https://localhost:8080/"
        }
      },
      "execution_count": 13,
      "outputs": [
        {
          "output_type": "stream",
          "name": "stdout",
          "text": [
            "[0. 0. 0.]\n"
          ]
        }
      ]
    },
    {
      "cell_type": "code",
      "source": [
        "# Return a new array with 3 elements between 0 and 1 chosen at random.\n",
        "rand_arr = np.random.rand(3)\n",
        "print(rand_arr)"
      ],
      "metadata": {
        "id": "D42dKvyNxoD-",
        "outputId": "a8b56b52-24a1-4f6b-8a45-fe3908902af4",
        "colab": {
          "base_uri": "https://localhost:8080/"
        }
      },
      "execution_count": 14,
      "outputs": [
        {
          "output_type": "stream",
          "name": "stdout",
          "text": [
            "[0.51524974 0.5360341  0.83069713]\n"
          ]
        }
      ]
    },
    {
      "cell_type": "markdown",
      "source": [
        "<a name='2'></a>\n",
        "## 2 - Multidimensional Arrays #"
      ],
      "metadata": {
        "id": "qvwpmxdCyLhB"
      }
    },
    {
      "cell_type": "markdown",
      "source": [
        "With NumPy you can also create arrays with more than one dimension. In the above examples, you encountered 1-D arrays, where you can access their elements using a single index. A multidimensional array has more than one column. \n",
        "\n",
        "Think of a multidimensional array as an excel sheet where each row/column represents a dimension.\n",
        "\n",
        "![](https://github.com/rahiakela/mathematics-for-machine-learning/blob/main/mathematics-for-machine-learning-and-data-science-specialization/01-learning-linear-algebra/week1-system-of-linear-equations/images/download.png?raw=1)"
      ],
      "metadata": {
        "id": "3A8Emz5vyNQl"
      }
    },
    {
      "cell_type": "code",
      "source": [
        "# Create a 2 dimensional array (2-D)\n",
        "two_dim_arr = np.array([\n",
        "  [1, 2, 3],\n",
        "  [4, 5, 6]\n",
        "])\n",
        "print(two_dim_arr)"
      ],
      "metadata": {
        "id": "bK-_Bfpyz6Hr",
        "outputId": "ec5b6ac5-102e-47f8-e312-e4c7cee92aea",
        "colab": {
          "base_uri": "https://localhost:8080/"
        }
      },
      "execution_count": 15,
      "outputs": [
        {
          "output_type": "stream",
          "name": "stdout",
          "text": [
            "[[1 2 3]\n",
            " [4 5 6]]\n"
          ]
        }
      ]
    },
    {
      "cell_type": "markdown",
      "source": [
        "An alternative way to create a multidimensional array is by reshaping the initial 1-D array. \n",
        "\n",
        "Using `numpy.reshape()` you can rearrange elements of the previous array into a new shape. "
      ],
      "metadata": {
        "id": "ekbOnkzc19sS"
      }
    },
    {
      "cell_type": "code",
      "source": [
        "# 1-D array \n",
        "one_dim_arr = np.array([1, 2, 3, 4, 5, 6])\n",
        "\n",
        "# Multi-dimensional array using reshape()\n",
        "multi_dim_arr = np.reshape(one_dim_arr,  # the array to be reshaped\n",
        "                           (2, 3))       # dimensions of the new array\n",
        "print(multi_dim_arr)"
      ],
      "metadata": {
        "id": "iA_OrLQz1_HA",
        "outputId": "04489439-2617-4923-f168-d47ed6697799",
        "colab": {
          "base_uri": "https://localhost:8080/"
        }
      },
      "execution_count": 16,
      "outputs": [
        {
          "output_type": "stream",
          "name": "stdout",
          "text": [
            "[[1 2 3]\n",
            " [4 5 6]]\n"
          ]
        }
      ]
    },
    {
      "cell_type": "markdown",
      "source": [
        "<a name='2-1'></a>\n",
        "### 2.1 - Finding size, shape, dimension. ##"
      ],
      "metadata": {
        "id": "hK8SyAa12eqQ"
      }
    },
    {
      "cell_type": "markdown",
      "source": [
        "In the future assignments, you will need to know how to find the size, dimension and shape of an array. Using the NumPy built-in functions you can easily identify the followings:\n",
        "- `ndarray.ndim()` - Returns the number of array dimensions. \n",
        "- `ndarray.shape()` - Returns the shape of the array. Each number in the tuple denotes the lengths of each corresponding dimension.\n",
        "- `ndarray.size()` - Counts the number of elements along a given axis. Returns the size of the array.\n"
      ],
      "metadata": {
        "id": "1rRqCZw92f2U"
      }
    },
    {
      "cell_type": "code",
      "source": [
        "# Dimension of the 2-D array multi_dim_arr\n",
        "multi_dim_arr.ndim"
      ],
      "metadata": {
        "id": "2BQw4W3t2oXG",
        "outputId": "89ad6a08-3ef6-4350-e204-0d2cfe48a840",
        "colab": {
          "base_uri": "https://localhost:8080/"
        }
      },
      "execution_count": 17,
      "outputs": [
        {
          "output_type": "execute_result",
          "data": {
            "text/plain": [
              "2"
            ]
          },
          "metadata": {},
          "execution_count": 17
        }
      ]
    },
    {
      "cell_type": "code",
      "source": [
        "# Shape of the 2-D array multi_dim_arr\n",
        "# Returns shape of 2 rows and 3 columns\n",
        "multi_dim_arr.shape"
      ],
      "metadata": {
        "id": "JQSa7ZkP2uvg",
        "outputId": "3627aa81-7d4d-4eed-a547-f73faba52230",
        "colab": {
          "base_uri": "https://localhost:8080/"
        }
      },
      "execution_count": 18,
      "outputs": [
        {
          "output_type": "execute_result",
          "data": {
            "text/plain": [
              "(2, 3)"
            ]
          },
          "metadata": {},
          "execution_count": 18
        }
      ]
    },
    {
      "cell_type": "code",
      "source": [
        "# Size of the array multi_dim_arr\n",
        "# Returns total number of elements\n",
        "multi_dim_arr.size"
      ],
      "metadata": {
        "id": "PPd5AfAq2zrJ",
        "outputId": "e2aca205-dcca-4e8b-d88f-97092b1d122a",
        "colab": {
          "base_uri": "https://localhost:8080/"
        }
      },
      "execution_count": 19,
      "outputs": [
        {
          "output_type": "execute_result",
          "data": {
            "text/plain": [
              "6"
            ]
          },
          "metadata": {},
          "execution_count": 19
        }
      ]
    },
    {
      "cell_type": "markdown",
      "source": [
        "<a name='3'></a>\n",
        "## 3 - Array Math Operations #"
      ],
      "metadata": {
        "id": "EKyMO2IL289r"
      }
    },
    {
      "cell_type": "markdown",
      "source": [
        "In this section, you will see that NumPy allows you to quickly perform elementwise addition, substraction, multiplication and division for both 1-D and multidimensional arrays, also known as matrices. The operations are done using the math symbol for each '+', '-', '*'. \n",
        "\n",
        "Recall that addition of python lists works completely differently as it would add (append) two lists together, thus making a longer list, while subtraction and multiplication of python lists do not work. "
      ],
      "metadata": {
        "id": "RQ8w8CD_2-Hg"
      }
    },
    {
      "cell_type": "code",
      "source": [
        "a1 = np.array([2, 4, 6])\n",
        "a2 = np.array([1, 3, 5])\n",
        "\n",
        "# Adding two 1-D arrays\n",
        "addition = a1 + a2\n",
        "print(addition)\n",
        "\n",
        "# Subtracting two 1-D arrays\n",
        "subtraction = a1 - a2\n",
        "print(subtraction)\n",
        "\n",
        "# Multiplying two 1-D arrays element by element\n",
        "multiplication = a1 * a2\n",
        "print(multiplication)"
      ],
      "metadata": {
        "id": "kghFwa153BXu",
        "outputId": "85ee1ccc-ca43-41a2-fc50-2e49861645b4",
        "colab": {
          "base_uri": "https://localhost:8080/"
        }
      },
      "execution_count": 20,
      "outputs": [
        {
          "output_type": "stream",
          "name": "stdout",
          "text": [
            "[ 3  7 11]\n",
            "[1 1 1]\n",
            "[ 2 12 30]\n"
          ]
        }
      ]
    },
    {
      "cell_type": "markdown",
      "source": [
        "<a name='3-1'></a>\n",
        "### 3.1 - Multiplying vector with a scalar (broadcasting) ##"
      ],
      "metadata": {
        "id": "yDTC3SGNHo2-"
      }
    },
    {
      "cell_type": "markdown",
      "source": [
        "Suppose you wanted to convert miles to kilometers using the NumPy array functions that you've learned so far. You can do this by carrying out an operation between an array (miles) and a single number (the conversion rate which is a scalar). Since, 1 mile = 1.6 km, NumPy computes each multiplication within each cell. \n",
        "\n",
        "This concept is called **broadcasting**, which allows you to perform operations specifically on arrays of different shapes. "
      ],
      "metadata": {
        "id": "KVi1S7k4Hp-a"
      }
    },
    {
      "cell_type": "code",
      "source": [
        "vector = np.array([1, 2])\n",
        "vector * 1.6"
      ],
      "metadata": {
        "id": "oxHRno-VH9Iq",
        "outputId": "0e2dce71-096d-4586-c116-21a0b395d291",
        "colab": {
          "base_uri": "https://localhost:8080/"
        }
      },
      "execution_count": 21,
      "outputs": [
        {
          "output_type": "execute_result",
          "data": {
            "text/plain": [
              "array([1.6, 3.2])"
            ]
          },
          "metadata": {},
          "execution_count": 21
        }
      ]
    },
    {
      "cell_type": "markdown",
      "source": [
        "![](https://github.com/rahiakela/mathematics-for-machine-learning/blob/main/mathematics-for-machine-learning-and-data-science-specialization/01-learning-linear-algebra/week1-system-of-linear-equations/images/broadcasting.png?raw=1)"
      ],
      "metadata": {
        "id": "hIqpKzKyIGiq"
      }
    },
    {
      "cell_type": "markdown",
      "source": [
        "<a name='4'></a>\n",
        "## 4 - Indexing and Slicing #"
      ],
      "metadata": {
        "id": "rXBYVpWbIOXM"
      }
    },
    {
      "cell_type": "markdown",
      "source": [
        "Indexing is very useful as it allows you to select specific elements from an array. It also lets you select entire rows/columns or planes as you'll see in future assignments for multi-dimensional arrays. "
      ],
      "metadata": {
        "id": "Ex65EHxcIRW4"
      }
    },
    {
      "cell_type": "markdown",
      "source": [
        "### 4.1 - Indexing ##"
      ],
      "metadata": {
        "id": "wdknh3beITP3"
      }
    },
    {
      "cell_type": "markdown",
      "source": [
        "Let us select specific elements from the arrays as given. "
      ],
      "metadata": {
        "id": "LkiadIeMIVd-"
      }
    },
    {
      "cell_type": "code",
      "source": [
        "# Select the third element of the array. Remember the counting starts from 0.\n",
        "a = ([1, 2, 3, 4, 5])\n",
        "print(a[2])\n",
        "\n",
        "# Select the first element of the array.\n",
        "print(a[0])"
      ],
      "metadata": {
        "id": "y14np0jjDasV",
        "outputId": "60fedd01-d1b6-4ace-e912-3a6e973f5eb1",
        "colab": {
          "base_uri": "https://localhost:8080/"
        }
      },
      "execution_count": 22,
      "outputs": [
        {
          "output_type": "stream",
          "name": "stdout",
          "text": [
            "3\n",
            "1\n"
          ]
        }
      ]
    },
    {
      "cell_type": "markdown",
      "source": [
        "For multi-dimensional arrays, to index a specific element, think of two indices - i selects the row, and j selects the column."
      ],
      "metadata": {
        "id": "z7iHA1nCDoHw"
      }
    },
    {
      "cell_type": "code",
      "source": [
        "# Indexing on a 2-D array\n",
        "two_dim = np.array([\n",
        "  [1, 2, 3],\n",
        "  [4, 5, 6], \n",
        "  [7, 8, 9] \n",
        "])\n",
        "\n",
        "# Select element number 8 from the 2-D array using indices i, j\n",
        "print(two_dim[2][1])"
      ],
      "metadata": {
        "id": "zqJY9haGDokP",
        "outputId": "d400f36b-0d9b-4080-ac24-068a604e85ba",
        "colab": {
          "base_uri": "https://localhost:8080/"
        }
      },
      "execution_count": 23,
      "outputs": [
        {
          "output_type": "stream",
          "name": "stdout",
          "text": [
            "8\n"
          ]
        }
      ]
    },
    {
      "cell_type": "markdown",
      "source": [
        "<a name='4-2'></a>\n",
        "### 4.2 - Slicing ##"
      ],
      "metadata": {
        "id": "ebvfM8AcEFPe"
      }
    },
    {
      "cell_type": "markdown",
      "source": [
        "Slicing gives you a sublist of elements that you specify from the array. The slice notation specifies a start and end value, and copies the list from start up to but not including the end (end-exlusive). "
      ],
      "metadata": {
        "id": "it9_LbxBENgM"
      }
    },
    {
      "cell_type": "code",
      "source": [
        "# Slice the array a to give the output [2,3,4]\n",
        "sliced_arr = a[1:4]\n",
        "print(sliced_arr)"
      ],
      "metadata": {
        "id": "xTgeNJy5EIZy",
        "outputId": "24740e71-607a-48a0-843d-5a3b14759fbf",
        "colab": {
          "base_uri": "https://localhost:8080/"
        }
      },
      "execution_count": 24,
      "outputs": [
        {
          "output_type": "stream",
          "name": "stdout",
          "text": [
            "[2, 3, 4]\n"
          ]
        }
      ]
    },
    {
      "cell_type": "code",
      "source": [
        "# Slice the two_dim array to output the first two rows\n",
        "sliced_arr_1 = two_dim[0:2]\n",
        "print(sliced_arr_1)"
      ],
      "metadata": {
        "id": "xUiSCMU2EoRM",
        "outputId": "495da678-f3bb-4128-b0f9-5813c04a441b",
        "colab": {
          "base_uri": "https://localhost:8080/"
        }
      },
      "execution_count": 25,
      "outputs": [
        {
          "output_type": "stream",
          "name": "stdout",
          "text": [
            "[[1 2 3]\n",
            " [4 5 6]]\n"
          ]
        }
      ]
    },
    {
      "cell_type": "code",
      "source": [
        "# Similarily, slice the multi-dimensional array two_dim to output the last two rows\n",
        "sliced_two_dim_rows = two_dim[1:4]\n",
        "print(sliced_two_dim_rows)"
      ],
      "metadata": {
        "id": "Zdky9-VFE1vW",
        "outputId": "784c70ed-5374-4aac-aefa-2a6f68658a34",
        "colab": {
          "base_uri": "https://localhost:8080/"
        }
      },
      "execution_count": 26,
      "outputs": [
        {
          "output_type": "stream",
          "name": "stdout",
          "text": [
            "[[4 5 6]\n",
            " [7 8 9]]\n"
          ]
        }
      ]
    },
    {
      "cell_type": "code",
      "source": [
        "# accessing the second column\n",
        "sliced_two_dim_cols = two_dim[:, 1]\n",
        "print(sliced_two_dim_cols)"
      ],
      "metadata": {
        "id": "Bhxcy2GqFC6g",
        "outputId": "25a1e312-c5e4-468d-f647-08b6e91d6ba0",
        "colab": {
          "base_uri": "https://localhost:8080/"
        }
      },
      "execution_count": 27,
      "outputs": [
        {
          "output_type": "stream",
          "name": "stdout",
          "text": [
            "[2 5 8]\n"
          ]
        }
      ]
    },
    {
      "cell_type": "code",
      "source": [
        "# accessing the third column\n",
        "sliced_two_dim_cols = two_dim[:, 2]\n",
        "print(sliced_two_dim_cols)"
      ],
      "metadata": {
        "id": "fIEJ2hocFN_m",
        "outputId": "68a4e2bc-856d-4e07-c64b-d7de24f2a1c4",
        "colab": {
          "base_uri": "https://localhost:8080/"
        }
      },
      "execution_count": 28,
      "outputs": [
        {
          "output_type": "stream",
          "name": "stdout",
          "text": [
            "[3 6 9]\n"
          ]
        }
      ]
    },
    {
      "cell_type": "markdown",
      "source": [
        "<a name='5'></a>\n",
        "## 5 - Stacking #"
      ],
      "metadata": {
        "id": "PhqjqJxOFfMC"
      }
    },
    {
      "cell_type": "markdown",
      "source": [
        "Finally, stacking is a feature of NumPy that leads to increased customization of arrays. It basically means to join two or more arrays, either horizontally or vertically, meaning that it is done along a new axis. \n",
        "\n",
        "- `vstack` - stacks vertically\n",
        "- `hstack` - stacks horizontally\n",
        "- `hsplit` - splits an array into several smaller arrays"
      ],
      "metadata": {
        "id": "-NxyNO77Fg_Y"
      }
    },
    {
      "cell_type": "code",
      "source": [
        "a1 = np.array([\n",
        "  [1, 1],\n",
        "  [2, 2]\n",
        "])\n",
        "\n",
        "a2 = np.array([\n",
        "  [3, 3],\n",
        "  [4, 4]\n",
        "])\n",
        "\n",
        "print(a1)\n",
        "print(a2)"
      ],
      "metadata": {
        "id": "dgQ5t8R3FjSK",
        "outputId": "b47f598a-434e-46d3-8132-f970ca619a58",
        "colab": {
          "base_uri": "https://localhost:8080/"
        }
      },
      "execution_count": 30,
      "outputs": [
        {
          "output_type": "stream",
          "name": "stdout",
          "text": [
            "[[1 1]\n",
            " [2 2]]\n",
            "[[3 3]\n",
            " [4 4]]\n"
          ]
        }
      ]
    },
    {
      "cell_type": "code",
      "source": [
        "# Stack arrays vertically\n",
        "v_stack = np.vstack((a1, a2))\n",
        "print(v_stack)"
      ],
      "metadata": {
        "id": "sQC3ZPB1F7gd",
        "outputId": "20db4ecd-6d88-44b7-8b2f-6624a6aa6f5f",
        "colab": {
          "base_uri": "https://localhost:8080/"
        }
      },
      "execution_count": 31,
      "outputs": [
        {
          "output_type": "stream",
          "name": "stdout",
          "text": [
            "[[1 1]\n",
            " [2 2]\n",
            " [3 3]\n",
            " [4 4]]\n"
          ]
        }
      ]
    },
    {
      "cell_type": "code",
      "source": [
        "# Stack arrays horizontally\n",
        "h_stack = np.hstack((a1, a2))\n",
        "print(h_stack)"
      ],
      "metadata": {
        "id": "z_WHWQioGOM3",
        "outputId": "219548f3-e02c-4beb-af4a-8fbc196b6099",
        "colab": {
          "base_uri": "https://localhost:8080/"
        }
      },
      "execution_count": 32,
      "outputs": [
        {
          "output_type": "stream",
          "name": "stdout",
          "text": [
            "[[1 1 3 3]\n",
            " [2 2 4 4]]\n"
          ]
        }
      ]
    },
    {
      "cell_type": "markdown",
      "source": [
        "<a name='6'></a>\n",
        "## Exercises ##"
      ],
      "metadata": {
        "id": "w6_tv_TZGzgt"
      }
    },
    {
      "cell_type": "markdown",
      "source": [
        "Well done! Now, from what you learned today, try to answer the following question. \n",
        "\n",
        "### Question 1 ###\n",
        "Is there a difference between `np.zeros()` and `np.empty()`? Select one of the options given:\n",
        "- A. No difference, they both output arrays of zeros. \n",
        "- B. `np.zeros()` is not initialized, but gives an output of zeros. \n",
        "- C. `np.zeros()` is faster to execute than `np.empty()`.\n",
        "- D. `np.empty()` outputs an uninitialized array, but `np.zeros` outputs an initialized array of value zero."
      ],
      "metadata": {
        "id": "bgXDhMTKG0Zo"
      }
    },
    {
      "cell_type": "code",
      "source": [
        "np.zeros((2, 2))"
      ],
      "metadata": {
        "id": "QnJySkhHG3a3",
        "outputId": "7f3cbbc8-2004-4006-8647-6872f0e39185",
        "colab": {
          "base_uri": "https://localhost:8080/"
        }
      },
      "execution_count": 35,
      "outputs": [
        {
          "output_type": "execute_result",
          "data": {
            "text/plain": [
              "array([[0., 0.],\n",
              "       [0., 0.]])"
            ]
          },
          "metadata": {},
          "execution_count": 35
        }
      ]
    },
    {
      "cell_type": "code",
      "source": [
        "np.empty((2, 2))"
      ],
      "metadata": {
        "id": "AGcXS-DUG6VJ",
        "outputId": "e1a9408b-84b3-4d01-a023-0e4e9023d652",
        "colab": {
          "base_uri": "https://localhost:8080/"
        }
      },
      "execution_count": 36,
      "outputs": [
        {
          "output_type": "execute_result",
          "data": {
            "text/plain": [
              "array([[0., 0.],\n",
              "       [0., 0.]])"
            ]
          },
          "metadata": {},
          "execution_count": 36
        }
      ]
    },
    {
      "cell_type": "markdown",
      "source": [
        "Congratulations on finishing your first notebook of this specialization!"
      ],
      "metadata": {
        "id": "QzAnbekrHINd"
      }
    }
  ]
}