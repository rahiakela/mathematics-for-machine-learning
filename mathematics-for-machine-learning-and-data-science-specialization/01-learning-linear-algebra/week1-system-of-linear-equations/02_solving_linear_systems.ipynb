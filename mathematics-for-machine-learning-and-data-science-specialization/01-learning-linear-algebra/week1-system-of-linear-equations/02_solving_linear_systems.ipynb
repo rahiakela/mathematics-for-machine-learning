{
  "nbformat": 4,
  "nbformat_minor": 0,
  "metadata": {
    "colab": {
      "provenance": [],
      "toc_visible": true,
      "authorship_tag": "ABX9TyP5HkH0qHNiBYFKD8UngYgJ",
      "include_colab_link": true
    },
    "kernelspec": {
      "name": "python3",
      "display_name": "Python 3"
    },
    "language_info": {
      "name": "python"
    }
  },
  "cells": [
    {
      "cell_type": "markdown",
      "metadata": {
        "id": "view-in-github",
        "colab_type": "text"
      },
      "source": [
        "<a href=\"https://colab.research.google.com/github/rahiakela/mathematics-for-machine-learning/blob/main/mathematics-for-machine-learning-and-data-science-specialization/01-learning-linear-algebra/week1-system-of-linear-equations/02_solving_linear_systems.ipynb\" target=\"_parent\"><img src=\"https://colab.research.google.com/assets/colab-badge.svg\" alt=\"Open In Colab\"/></a>"
      ]
    },
    {
      "cell_type": "markdown",
      "source": [
        "## Solving Linear Systems: 2 variables"
      ],
      "metadata": {
        "id": "4TUKnl6wBr4q"
      }
    },
    {
      "cell_type": "markdown",
      "source": [
        "By completing this lab, you will be able to use basic programming skills with Python and `NumPy` package to solve systems of linear equations. In this notebook you will:\n",
        "\n",
        "- Use `NumPy` linear algebra package to find the solutions of the system of linear equations\n",
        "- Find the solution for the system of linear equations using elimination method\n",
        "- Evaluate the determinant of the matrix and examine the relationship between matrix singularity and number of solutions of the linear system\n",
        "\n",
        "**Table of Contents**\n",
        "\n",
        "- [ 1 - Representing and Solving System of Linear Equations using Matrices](#1)\n",
        "  - [ 1.1 - System of Linear Equations](#1.1)\n",
        "  - [ 1.2 - Solving Systems of Linear Equations using Matrices](#1.2)\n",
        "  - [ 1.3 - Evaluating Determinant of a Matrix](#1.3)\n",
        "- [ 2 - Solving System of Linear Equations using Elimination Method](#2)\n",
        "  - [ 2.1 - Elimination Method](#2.1)\n",
        "  - [ 2.2 - Preparation for the Implementation of Elimination Method in the Code](#2.2)\n",
        "  - [ 2.3 - Implementation of Elimination Method](#2.3)\n",
        "  - [ 2.4 - Graphical Representation of the Solution](#2.4)\n",
        "- [ 3 - System of Linear Equations with No Solutions](#3)\n",
        "- [ 4 - System of Linear Equations with Infinite Number of Solutions](#4)"
      ],
      "metadata": {
        "id": "hAPrpij6Bs1-"
      }
    },
    {
      "cell_type": "markdown",
      "source": [
        "##Setup"
      ],
      "metadata": {
        "id": "2oGTMDkLB4MY"
      }
    },
    {
      "cell_type": "code",
      "source": [
        "import numpy as np\n",
        "\n",
        "import matplotlib.pyplot as plt"
      ],
      "metadata": {
        "id": "0bRTEABWB5md"
      },
      "execution_count": null,
      "outputs": []
    },
    {
      "cell_type": "markdown",
      "source": [
        "<a name='1'></a>\n",
        "## 1 - Representing and Solving System of Linear Equations using Matrices"
      ],
      "metadata": {
        "id": "are_d-AEEDw6"
      }
    },
    {
      "cell_type": "markdown",
      "source": [
        "<a name='1.1'></a>\n",
        "### 1.1 - System of Linear Equations"
      ],
      "metadata": {
        "id": "ErV9IJPjEEUq"
      }
    },
    {
      "cell_type": "markdown",
      "source": [
        "A **system of linear equations** (or **linear system**) is a collection of one or more linear equations involving the same variables. For example:\n",
        "\n",
        "\n",
        "$$\\begin{cases} \n",
        "-x_1+3x_2=7, \\\\ 3x_1+2x_2=1, \\end{cases}\\tag{1}$$\n",
        "\n",
        "is a system of two equations with two unknown variables $x_1$, $x_2$. **To solve** a system of linear equations means to find such values of the variables $x_1$, $x_2$, that all of its equations are simultaneously satisfied.\n",
        "\n",
        "A linear system is **inconsistent** if it has no solution, and otherwise it is said to be **consistent**. Consistent system can have one or infinite number of solutions."
      ],
      "metadata": {
        "id": "iBcujjc5EHsM"
      }
    },
    {
      "cell_type": "markdown",
      "source": [
        "<a name='1.2'></a>\n",
        "### 1.2 - Solving Systems of Linear Equations using Matrices"
      ],
      "metadata": {
        "id": "aJ8TTHWhENLC"
      }
    },
    {
      "cell_type": "markdown",
      "source": [
        "Linear systems with two equations are easy to solve manually, but preparing for more complicated cases, you will investigate some solution techniques. \n",
        "\n",
        "`NumPy` linear algebra package provides quick and reliable way to solve the system of linear equations using function `np.linalg.solve(A, b)`. \n",
        "\n",
        "Here $A$ is a matrix, each row of which represents one equation in the system and each column corresponds to the variable $x_1$, $x_2$. And $b$ is a 1-D array of the free (right side) coefficients. More information about the `np.linalg.solve()` function can be found in [documentation](https://numpy.org/doc/stable/reference/generated/numpy.linalg.solve.html).\n",
        "\n",
        "Given the system of linear equations $(1)$, you can set matrix $A$ and 1-D array $b$ as:"
      ],
      "metadata": {
        "id": "89CVwQaWEOOL"
      }
    },
    {
      "cell_type": "code",
      "source": [],
      "metadata": {
        "id": "TvnbQshlEaqL"
      },
      "execution_count": null,
      "outputs": []
    },
    {
      "cell_type": "markdown",
      "source": [
        "Check the dimensions of $A$ and $b$ using the `shape` attribute (you can also use `np.shape()` as an alternative):"
      ],
      "metadata": {
        "id": "JPlu6o-rEkuw"
      }
    },
    {
      "cell_type": "code",
      "source": [
        "print(f\"Shape of A: {A.shape}\")\n",
        "print(f\"Shape of b: {b.shape}\")\n",
        "\n",
        "# print(f\"Shape of A: {np.shape(A)}\")\n",
        "# print(f\"Shape of A: {np.shape(b)}\")"
      ],
      "metadata": {
        "id": "ziYbFt-QElI0"
      },
      "execution_count": null,
      "outputs": []
    }
  ]
}