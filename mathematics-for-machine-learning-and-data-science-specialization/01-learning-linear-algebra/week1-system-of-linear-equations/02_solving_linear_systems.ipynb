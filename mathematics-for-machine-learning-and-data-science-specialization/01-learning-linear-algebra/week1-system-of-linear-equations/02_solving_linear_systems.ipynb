{
  "nbformat": 4,
  "nbformat_minor": 0,
  "metadata": {
    "colab": {
      "provenance": [],
      "toc_visible": true,
      "authorship_tag": "ABX9TyMnXBYM+f2/OxRNzLHbfiiv",
      "include_colab_link": true
    },
    "kernelspec": {
      "name": "python3",
      "display_name": "Python 3"
    },
    "language_info": {
      "name": "python"
    }
  },
  "cells": [
    {
      "cell_type": "markdown",
      "metadata": {
        "id": "view-in-github",
        "colab_type": "text"
      },
      "source": [
        "<a href=\"https://colab.research.google.com/github/rahiakela/mathematics-for-machine-learning/blob/main/mathematics-for-machine-learning-and-data-science-specialization/01-learning-linear-algebra/week1-system-of-linear-equations/02_solving_linear_systems.ipynb\" target=\"_parent\"><img src=\"https://colab.research.google.com/assets/colab-badge.svg\" alt=\"Open In Colab\"/></a>"
      ]
    },
    {
      "cell_type": "markdown",
      "source": [
        "## Solving Linear Systems: 2 variables"
      ],
      "metadata": {
        "id": "4TUKnl6wBr4q"
      }
    },
    {
      "cell_type": "markdown",
      "source": [
        "By completing this lab, you will be able to use basic programming skills with Python and `NumPy` package to solve systems of linear equations. In this notebook you will:\n",
        "\n",
        "- Use `NumPy` linear algebra package to find the solutions of the system of linear equations\n",
        "- Find the solution for the system of linear equations using elimination method\n",
        "- Evaluate the determinant of the matrix and examine the relationship between matrix singularity and number of solutions of the linear system\n",
        "\n",
        "**Table of Contents**\n",
        "\n",
        "- [ 1 - Representing and Solving System of Linear Equations using Matrices](#1)\n",
        "  - [ 1.1 - System of Linear Equations](#1.1)\n",
        "  - [ 1.2 - Solving Systems of Linear Equations using Matrices](#1.2)\n",
        "  - [ 1.3 - Evaluating Determinant of a Matrix](#1.3)\n",
        "- [ 2 - Solving System of Linear Equations using Elimination Method](#2)\n",
        "  - [ 2.1 - Elimination Method](#2.1)\n",
        "  - [ 2.2 - Preparation for the Implementation of Elimination Method in the Code](#2.2)\n",
        "  - [ 2.3 - Implementation of Elimination Method](#2.3)\n",
        "  - [ 2.4 - Graphical Representation of the Solution](#2.4)\n",
        "- [ 3 - System of Linear Equations with No Solutions](#3)\n",
        "- [ 4 - System of Linear Equations with Infinite Number of Solutions](#4)"
      ],
      "metadata": {
        "id": "hAPrpij6Bs1-"
      }
    },
    {
      "cell_type": "markdown",
      "source": [
        "##Setup"
      ],
      "metadata": {
        "id": "2oGTMDkLB4MY"
      }
    },
    {
      "cell_type": "code",
      "source": [],
      "metadata": {
        "id": "0bRTEABWB5md"
      },
      "execution_count": null,
      "outputs": []
    }
  ]
}