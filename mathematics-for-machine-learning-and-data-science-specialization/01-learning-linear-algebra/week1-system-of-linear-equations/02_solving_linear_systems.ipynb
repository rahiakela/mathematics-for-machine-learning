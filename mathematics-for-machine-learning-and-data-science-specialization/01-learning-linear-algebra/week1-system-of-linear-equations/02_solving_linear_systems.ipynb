{
  "nbformat": 4,
  "nbformat_minor": 0,
  "metadata": {
    "colab": {
      "provenance": [],
      "toc_visible": true,
      "authorship_tag": "ABX9TyMrLfsw4n7kZEajWc4C5GAy",
      "include_colab_link": true
    },
    "kernelspec": {
      "name": "python3",
      "display_name": "Python 3"
    },
    "language_info": {
      "name": "python"
    }
  },
  "cells": [
    {
      "cell_type": "markdown",
      "metadata": {
        "id": "view-in-github",
        "colab_type": "text"
      },
      "source": [
        "<a href=\"https://colab.research.google.com/github/rahiakela/mathematics-for-machine-learning/blob/main/mathematics-for-machine-learning-and-data-science-specialization/01-learning-linear-algebra/week1-system-of-linear-equations/02_solving_linear_systems.ipynb\" target=\"_parent\"><img src=\"https://colab.research.google.com/assets/colab-badge.svg\" alt=\"Open In Colab\"/></a>"
      ]
    },
    {
      "cell_type": "markdown",
      "source": [
        "## Solving Linear Systems: 2 variables"
      ],
      "metadata": {
        "id": "4TUKnl6wBr4q"
      }
    },
    {
      "cell_type": "markdown",
      "source": [
        "By completing this lab, you will be able to use basic programming skills with Python and `NumPy` package to solve systems of linear equations. In this notebook you will:\n",
        "\n",
        "- Use `NumPy` linear algebra package to find the solutions of the system of linear equations\n",
        "- Find the solution for the system of linear equations using elimination method\n",
        "- Evaluate the determinant of the matrix and examine the relationship between matrix singularity and number of solutions of the linear system\n",
        "\n",
        "**Table of Contents**\n",
        "\n",
        "- [ 1 - Representing and Solving System of Linear Equations using Matrices](#1)\n",
        "  - [ 1.1 - System of Linear Equations](#1.1)\n",
        "  - [ 1.2 - Solving Systems of Linear Equations using Matrices](#1.2)\n",
        "  - [ 1.3 - Evaluating Determinant of a Matrix](#1.3)\n",
        "- [ 2 - Solving System of Linear Equations using Elimination Method](#2)\n",
        "  - [ 2.1 - Elimination Method](#2.1)\n",
        "  - [ 2.2 - Preparation for the Implementation of Elimination Method in the Code](#2.2)\n",
        "  - [ 2.3 - Implementation of Elimination Method](#2.3)\n",
        "  - [ 2.4 - Graphical Representation of the Solution](#2.4)\n",
        "- [ 3 - System of Linear Equations with No Solutions](#3)\n",
        "- [ 4 - System of Linear Equations with Infinite Number of Solutions](#4)"
      ],
      "metadata": {
        "id": "hAPrpij6Bs1-"
      }
    },
    {
      "cell_type": "markdown",
      "source": [
        "##Setup"
      ],
      "metadata": {
        "id": "2oGTMDkLB4MY"
      }
    },
    {
      "cell_type": "code",
      "source": [
        "import numpy as np\n",
        "\n",
        "import matplotlib.pyplot as plt"
      ],
      "metadata": {
        "id": "0bRTEABWB5md"
      },
      "execution_count": 1,
      "outputs": []
    },
    {
      "cell_type": "markdown",
      "source": [
        "<a name='1'></a>\n",
        "## 1 - Representing and Solving System of Linear Equations using Matrices"
      ],
      "metadata": {
        "id": "are_d-AEEDw6"
      }
    },
    {
      "cell_type": "markdown",
      "source": [
        "<a name='1.1'></a>\n",
        "### 1.1 - System of Linear Equations"
      ],
      "metadata": {
        "id": "ErV9IJPjEEUq"
      }
    },
    {
      "cell_type": "markdown",
      "source": [
        "A **system of linear equations** (or **linear system**) is a collection of one or more linear equations involving the same variables. For example:\n",
        "\n",
        "\n",
        "$$\\begin{cases} \n",
        "-x_1+3x_2=7, \\\\ 3x_1+2x_2=1, \\end{cases}\\tag{1}$$\n",
        "\n",
        "is a system of two equations with two unknown variables $x_1$, $x_2$. **To solve** a system of linear equations means to find such values of the variables $x_1$, $x_2$, that all of its equations are simultaneously satisfied.\n",
        "\n",
        "A linear system is **inconsistent** if it has no solution, and otherwise it is said to be **consistent**. Consistent system can have one or infinite number of solutions."
      ],
      "metadata": {
        "id": "iBcujjc5EHsM"
      }
    },
    {
      "cell_type": "markdown",
      "source": [
        "<a name='1.2'></a>\n",
        "### 1.2 - Solving Systems of Linear Equations using Matrices"
      ],
      "metadata": {
        "id": "aJ8TTHWhENLC"
      }
    },
    {
      "cell_type": "markdown",
      "source": [
        "Linear systems with two equations are easy to solve manually, but preparing for more complicated cases, you will investigate some solution techniques. \n",
        "\n",
        "`NumPy` linear algebra package provides quick and reliable way to solve the system of linear equations using function `np.linalg.solve(A, b)`. \n",
        "\n",
        "Here $A$ is a matrix, each row of which represents one equation in the system and each column corresponds to the variable $x_1$, $x_2$. And $b$ is a 1-D array of the free (right side) coefficients. More information about the `np.linalg.solve()` function can be found in [documentation](https://numpy.org/doc/stable/reference/generated/numpy.linalg.solve.html).\n",
        "\n",
        "Given the system of linear equations $(1)$, you can set matrix $A$ and 1-D array $b$ as:"
      ],
      "metadata": {
        "id": "89CVwQaWEOOL"
      }
    },
    {
      "cell_type": "code",
      "source": [
        "A = np.array([\n",
        "  [-1, 3],\n",
        "  [3, 2]\n",
        "], dtype=np.dtype(float))\n",
        "\n",
        "b = np.array([7, 1], dtype=np.dtype(float))\n",
        "\n",
        "print(f\"Matrix A: \\n{A}\")\n",
        "print(f\"Array b: \\n{b}\")"
      ],
      "metadata": {
        "id": "TvnbQshlEaqL",
        "outputId": "09220dda-ef9a-4d49-d2eb-af705cac2dca",
        "colab": {
          "base_uri": "https://localhost:8080/"
        }
      },
      "execution_count": 4,
      "outputs": [
        {
          "output_type": "stream",
          "name": "stdout",
          "text": [
            "Matrix A: \n",
            "[[-1.  3.]\n",
            " [ 3.  2.]]\n",
            "Array b: \n",
            "[7. 1.]\n"
          ]
        }
      ]
    },
    {
      "cell_type": "markdown",
      "source": [
        "Check the dimensions of $A$ and $b$ using the `shape` attribute (you can also use `np.shape()` as an alternative):"
      ],
      "metadata": {
        "id": "JPlu6o-rEkuw"
      }
    },
    {
      "cell_type": "code",
      "source": [
        "print(f\"Shape of A: {A.shape}\")\n",
        "print(f\"Shape of b: {b.shape}\")\n",
        "\n",
        "# print(f\"Shape of A: {np.shape(A)}\")\n",
        "# print(f\"Shape of A: {np.shape(b)}\")"
      ],
      "metadata": {
        "id": "ziYbFt-QElI0",
        "outputId": "386fd0d9-4e41-4cd4-9ec2-593fb0ec2a8f",
        "colab": {
          "base_uri": "https://localhost:8080/"
        }
      },
      "execution_count": 5,
      "outputs": [
        {
          "output_type": "stream",
          "name": "stdout",
          "text": [
            "Shape of A: (2, 2)\n",
            "Shape of b: (2,)\n"
          ]
        }
      ]
    },
    {
      "cell_type": "markdown",
      "source": [
        "Now simply use `np.linalg.solve(A, b)` function to find the solution of the system $(1)$. The result will be saved in the 1-D array $x$. The elements will correspond to the values of $x_1$ and $x_2$:"
      ],
      "metadata": {
        "id": "od1vXVB0NHTI"
      }
    },
    {
      "cell_type": "code",
      "source": [
        "x = np.linalg.solve(A, b)\n",
        "print(f\"Solution: {x}\")"
      ],
      "metadata": {
        "id": "tDVuKwo9NOBU",
        "outputId": "1c6248f0-f8ad-41f4-cfbd-8feae73769fa",
        "colab": {
          "base_uri": "https://localhost:8080/"
        }
      },
      "execution_count": 6,
      "outputs": [
        {
          "output_type": "stream",
          "name": "stdout",
          "text": [
            "Solution: [-1.  2.]\n"
          ]
        }
      ]
    },
    {
      "cell_type": "markdown",
      "source": [
        "Try to substitute those values of $x_1$ and $x_2$ into the original system of equations to check its consistency."
      ],
      "metadata": {
        "id": "SWSaCgtYNbbH"
      }
    },
    {
      "cell_type": "code",
      "source": [
        "e1 = (-1 * -1) + 3 * 2 - 7\n",
        "print(f\"e1: {e1}\")"
      ],
      "metadata": {
        "id": "vLMsINkaNb0j",
        "outputId": "4f83f651-fd1d-4f29-9cd7-26098d1781c7",
        "colab": {
          "base_uri": "https://localhost:8080/"
        }
      },
      "execution_count": 10,
      "outputs": [
        {
          "output_type": "stream",
          "name": "stdout",
          "text": [
            "e1: 0\n"
          ]
        }
      ]
    },
    {
      "cell_type": "code",
      "source": [
        "e2 = (3 * -1) + 2 * 2 - 1\n",
        "print(f\"e2: {e2}\")"
      ],
      "metadata": {
        "id": "MIADhvjdN94n",
        "outputId": "b68abd11-5d2f-4e15-b215-12a0ee3794aa",
        "colab": {
          "base_uri": "https://localhost:8080/"
        }
      },
      "execution_count": 12,
      "outputs": [
        {
          "output_type": "stream",
          "name": "stdout",
          "text": [
            "e2: 0\n"
          ]
        }
      ]
    },
    {
      "cell_type": "markdown",
      "source": [
        "<a name='1.3'></a>\n",
        "### 1.3 - Evaluating Determinant of a Matrix"
      ],
      "metadata": {
        "id": "ajWd3L9SOVDg"
      }
    },
    {
      "cell_type": "markdown",
      "source": [
        "Matrix $A$ corresponding to the linear system $(1)$ is a **square matrix** - it has the same number of rows and columns. In case of a square matrix it is possible to calculate its determinant - a real number which characterizes some properties of the matrix. Linear system containing two (or more) equations with the same number of unknown variables will have one solution if and only if matrix $A$ has non-zero determinant.\n",
        "\n",
        "Let's calculate the determinant using `NumPy` linear algebra package. You can do it with the `np.linalg.det(A)` function. More information about it can be found in [documentation](https://numpy.org/doc/stable/reference/generated/numpy.linalg.det.html)."
      ],
      "metadata": {
        "id": "QDVWJSiGOVf6"
      }
    },
    {
      "cell_type": "code",
      "source": [
        "d = np.linalg.det(A)\n",
        "print(f\"Determinant of matrix A: {d:.2f}\")"
      ],
      "metadata": {
        "id": "y_--1sBuOXa0",
        "outputId": "41ef8319-621c-4d3a-ae46-7d75571f209d",
        "colab": {
          "base_uri": "https://localhost:8080/"
        }
      },
      "execution_count": 13,
      "outputs": [
        {
          "output_type": "stream",
          "name": "stdout",
          "text": [
            "Determinant of matrix A: -11.00\n"
          ]
        }
      ]
    },
    {
      "cell_type": "markdown",
      "source": [
        "Note that its value is non-zero, as expected for a system with exactly one solution."
      ],
      "metadata": {
        "id": "aNxxcNb2OtV9"
      }
    },
    {
      "cell_type": "markdown",
      "source": [
        "<a name='2'></a>\n",
        "## 2 - Solving System of Linear Equations using Elimination Method"
      ],
      "metadata": {
        "id": "5skl8l07Otvh"
      }
    },
    {
      "cell_type": "markdown",
      "source": [
        "You can see how easy it is to use contemporary packages to solve linear equations. However, for deeper understanding of mathematical concepts, it is important to practice some solution techniques manually. Programming approach can still help here to reduce the amount of arithmetical calculations, and focus on the method itself."
      ],
      "metadata": {
        "id": "BuFHqLroOwjb"
      }
    }
  ]
}